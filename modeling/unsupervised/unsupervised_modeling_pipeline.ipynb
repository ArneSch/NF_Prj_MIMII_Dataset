{
 "cells": [
  {
   "cell_type": "markdown",
   "metadata": {
    "toc": true
   },
   "source": [
    "<h1>Table of Contents<span class=\"tocSkip\"></span></h1>\n",
    "<div class=\"toc\"><ul class=\"toc-item\"><li><span><a href=\"#Structure-cheat-sheet\" data-toc-modified-id=\"Structure-cheat-sheet-1\"><span class=\"toc-item-num\">1&nbsp;&nbsp;</span>Structure cheat sheet</a></span></li><li><span><a href=\"#Data-structure\" data-toc-modified-id=\"Data-structure-2\"><span class=\"toc-item-num\">2&nbsp;&nbsp;</span>Data structure</a></span></li><li><span><a href=\"#train-data-lead\" data-toc-modified-id=\"train-data-lead-3\"><span class=\"toc-item-num\">3&nbsp;&nbsp;</span>train data lead</a></span></li><li><span><a href=\"#get-features\" data-toc-modified-id=\"get-features-4\"><span class=\"toc-item-num\">4&nbsp;&nbsp;</span>get features</a></span></li><li><span><a href=\"#Preprocessing\" data-toc-modified-id=\"Preprocessing-5\"><span class=\"toc-item-num\">5&nbsp;&nbsp;</span>Preprocessing</a></span></li></ul></div>"
   ]
  },
  {
   "cell_type": "markdown",
   "metadata": {},
   "source": [
    "# Basics\n",
    "\n",
    "## Structure cheat sheet\n",
    "\n",
    "1. func: train data lead (following order)\n",
    "    1. read the descriptive dataframe from the feature-pipeline\n",
    "    2. extract feature from the feature-objects which are labeled train-dataset from dataframe\n",
    "    3. create numpy feature array for the processing pipeline\n",
    "2. preprocessing\n",
    "    1. Transformation (any combination of the following)\n",
    "        + log-transform\n",
    "        + PCA\n",
    "        + others\n",
    "    2. Scaling (one of the following)\n",
    "        + StandardScaler\n",
    "        + MinMaxScaler\n",
    "3. Unsupervised Clustering\n",
    "    1. Estimate initial hyperparameter\n",
    "    2. Create grid over various hyperparameters\n",
    "    3. Train all and choose the best according to metric\n",
    "    \n",
    "    \n",
    "in all steps the cluster-recorder object (possibly dataframe-row) will record all the meta-information like hyper-parameters"
   ]
  },
  {
   "cell_type": "markdown",
   "metadata": {},
   "source": [
    "## Data structure"
   ]
  },
  {
   "cell_type": "markdown",
   "metadata": {},
   "source": [
    "There are multiple degrees of freedom in the data:\n",
    "\n",
    "1. Signal to noise ratio (SNR)\n",
    "2. Machine type\n",
    "    1. pump\n",
    "    2. fan\n",
    "    3. valve (solenoid)\n",
    "    4. slider\n",
    "3. Machine ID\n",
    "    1. four different machine IDs\n",
    "    \n",
    "The pipeline will be applied to fixed SNR, fixed machine type and fixed ID"
   ]
  },
  {
   "cell_type": "code",
   "execution_count": 3,
   "metadata": {
    "ExecuteTime": {
     "end_time": "2020-04-27T07:17:14.158409Z",
     "start_time": "2020-04-27T07:17:14.134406Z"
    }
   },
   "outputs": [
    {
     "name": "stdout",
     "output_type": "stream",
     "text": [
      "load feature_extractor_mother\n",
      "load feature_extractor_mel_spectra\n",
      "load feature_extractor_psd\n"
     ]
    }
   ],
   "source": [
    "import numpy as np\n",
    "import scipy\n",
    "import pandas as pd\n",
    "import matplotlib.pyplot as plt\n",
    "import seaborn as sns\n",
    "import pickle\n",
    "sns.set()\n",
    "\n",
    "BASE_FOLDER = '../../'\n",
    "%run -i ..\\..\\utility\\feature_extractor\\JupyterLoad_feature_extractor.py"
   ]
  },
  {
   "cell_type": "markdown",
   "metadata": {},
   "source": [
    "## train data lead\n",
    "Get the descriptive dataframe for the features.\n",
    "\n",
    "The descriptive dataframe contains all IDs of the pump. We will focus on ID '00' for now since the modeling phase is seperated per SNR, per machine, per ID anyway."
   ]
  },
  {
   "cell_type": "code",
   "execution_count": 4,
   "metadata": {
    "ExecuteTime": {
     "end_time": "2020-04-27T07:17:14.212408Z",
     "start_time": "2020-04-27T07:17:14.161408Z"
    }
   },
   "outputs": [],
   "source": [
    "# for now we will work with a file we created in the EDA/clustering-Notebook\n",
    "path_descr = '.\\..\\..\\dataset\\MEL_to_Pandas\\pandas_pump_6dB_00020406_MEL_v1_64.pkl'\n",
    "df_descr = pd.read_pickle(path_descr)\n",
    "\n",
    "SNR = '6dB'\n",
    "machine = 'pump'\n",
    "ID = '00'\n",
    "\n",
    "msk = (df_descr.SNR==SNR) & (df_descr.machine==machine) & (df_descr.ID==ID) & (df_descr.train_set==1)\n",
    "df = df_descr[msk].copy()"
   ]
  },
  {
   "cell_type": "code",
   "execution_count": 5,
   "metadata": {
    "ExecuteTime": {
     "end_time": "2020-04-27T07:17:14.265929Z",
     "start_time": "2020-04-27T07:17:14.215408Z"
    }
   },
   "outputs": [
    {
     "data": {
      "text/html": [
       "<div>\n",
       "<style scoped>\n",
       "    .dataframe tbody tr th:only-of-type {\n",
       "        vertical-align: middle;\n",
       "    }\n",
       "\n",
       "    .dataframe tbody tr th {\n",
       "        vertical-align: top;\n",
       "    }\n",
       "\n",
       "    .dataframe thead th {\n",
       "        text-align: right;\n",
       "    }\n",
       "</style>\n",
       "<table border=\"1\" class=\"dataframe\">\n",
       "  <thead>\n",
       "    <tr style=\"text-align: right;\">\n",
       "      <th></th>\n",
       "      <th>path</th>\n",
       "      <th>abnormal</th>\n",
       "      <th>ID</th>\n",
       "      <th>file</th>\n",
       "      <th>machine</th>\n",
       "      <th>SNR</th>\n",
       "      <th>MEL_f_v1</th>\n",
       "      <th>train_set</th>\n",
       "    </tr>\n",
       "  </thead>\n",
       "  <tbody>\n",
       "    <tr>\n",
       "      <th>0</th>\n",
       "      <td>A:\\Dev\\NF_Prj_MIMII_Dataset\\dataset\\6dB\\pump\\i...</td>\n",
       "      <td>0</td>\n",
       "      <td>00</td>\n",
       "      <td>00000000</td>\n",
       "      <td>pump</td>\n",
       "      <td>6dB</td>\n",
       "      <td>\\dataset\\MEL_to_Pandas\\MEL_v1_64_6dBpump00_abn...</td>\n",
       "      <td>1</td>\n",
       "    </tr>\n",
       "    <tr>\n",
       "      <th>1</th>\n",
       "      <td>A:\\Dev\\NF_Prj_MIMII_Dataset\\dataset\\6dB\\pump\\i...</td>\n",
       "      <td>0</td>\n",
       "      <td>00</td>\n",
       "      <td>00000001</td>\n",
       "      <td>pump</td>\n",
       "      <td>6dB</td>\n",
       "      <td>\\dataset\\MEL_to_Pandas\\MEL_v1_64_6dBpump00_abn...</td>\n",
       "      <td>1</td>\n",
       "    </tr>\n",
       "    <tr>\n",
       "      <th>2</th>\n",
       "      <td>A:\\Dev\\NF_Prj_MIMII_Dataset\\dataset\\6dB\\pump\\i...</td>\n",
       "      <td>0</td>\n",
       "      <td>00</td>\n",
       "      <td>00000002</td>\n",
       "      <td>pump</td>\n",
       "      <td>6dB</td>\n",
       "      <td>\\dataset\\MEL_to_Pandas\\MEL_v1_64_6dBpump00_abn...</td>\n",
       "      <td>1</td>\n",
       "    </tr>\n",
       "    <tr>\n",
       "      <th>3</th>\n",
       "      <td>A:\\Dev\\NF_Prj_MIMII_Dataset\\dataset\\6dB\\pump\\i...</td>\n",
       "      <td>0</td>\n",
       "      <td>00</td>\n",
       "      <td>00000003</td>\n",
       "      <td>pump</td>\n",
       "      <td>6dB</td>\n",
       "      <td>\\dataset\\MEL_to_Pandas\\MEL_v1_64_6dBpump00_abn...</td>\n",
       "      <td>1</td>\n",
       "    </tr>\n",
       "    <tr>\n",
       "      <th>4</th>\n",
       "      <td>A:\\Dev\\NF_Prj_MIMII_Dataset\\dataset\\6dB\\pump\\i...</td>\n",
       "      <td>0</td>\n",
       "      <td>00</td>\n",
       "      <td>00000004</td>\n",
       "      <td>pump</td>\n",
       "      <td>6dB</td>\n",
       "      <td>\\dataset\\MEL_to_Pandas\\MEL_v1_64_6dBpump00_abn...</td>\n",
       "      <td>1</td>\n",
       "    </tr>\n",
       "    <tr>\n",
       "      <th>...</th>\n",
       "      <td>...</td>\n",
       "      <td>...</td>\n",
       "      <td>...</td>\n",
       "      <td>...</td>\n",
       "      <td>...</td>\n",
       "      <td>...</td>\n",
       "      <td>...</td>\n",
       "      <td>...</td>\n",
       "    </tr>\n",
       "    <tr>\n",
       "      <th>999</th>\n",
       "      <td>A:\\Dev\\NF_Prj_MIMII_Dataset\\dataset\\6dB\\pump\\i...</td>\n",
       "      <td>0</td>\n",
       "      <td>00</td>\n",
       "      <td>00000999</td>\n",
       "      <td>pump</td>\n",
       "      <td>6dB</td>\n",
       "      <td>\\dataset\\MEL_to_Pandas\\MEL_v1_64_6dBpump00_abn...</td>\n",
       "      <td>1</td>\n",
       "    </tr>\n",
       "    <tr>\n",
       "      <th>1001</th>\n",
       "      <td>A:\\Dev\\NF_Prj_MIMII_Dataset\\dataset\\6dB\\pump\\i...</td>\n",
       "      <td>0</td>\n",
       "      <td>00</td>\n",
       "      <td>00001001</td>\n",
       "      <td>pump</td>\n",
       "      <td>6dB</td>\n",
       "      <td>\\dataset\\MEL_to_Pandas\\MEL_v1_64_6dBpump00_abn...</td>\n",
       "      <td>1</td>\n",
       "    </tr>\n",
       "    <tr>\n",
       "      <th>1002</th>\n",
       "      <td>A:\\Dev\\NF_Prj_MIMII_Dataset\\dataset\\6dB\\pump\\i...</td>\n",
       "      <td>0</td>\n",
       "      <td>00</td>\n",
       "      <td>00001002</td>\n",
       "      <td>pump</td>\n",
       "      <td>6dB</td>\n",
       "      <td>\\dataset\\MEL_to_Pandas\\MEL_v1_64_6dBpump00_abn...</td>\n",
       "      <td>1</td>\n",
       "    </tr>\n",
       "    <tr>\n",
       "      <th>1004</th>\n",
       "      <td>A:\\Dev\\NF_Prj_MIMII_Dataset\\dataset\\6dB\\pump\\i...</td>\n",
       "      <td>0</td>\n",
       "      <td>00</td>\n",
       "      <td>00001004</td>\n",
       "      <td>pump</td>\n",
       "      <td>6dB</td>\n",
       "      <td>\\dataset\\MEL_to_Pandas\\MEL_v1_64_6dBpump00_abn...</td>\n",
       "      <td>1</td>\n",
       "    </tr>\n",
       "    <tr>\n",
       "      <th>1005</th>\n",
       "      <td>A:\\Dev\\NF_Prj_MIMII_Dataset\\dataset\\6dB\\pump\\i...</td>\n",
       "      <td>0</td>\n",
       "      <td>00</td>\n",
       "      <td>00001005</td>\n",
       "      <td>pump</td>\n",
       "      <td>6dB</td>\n",
       "      <td>\\dataset\\MEL_to_Pandas\\MEL_v1_64_6dBpump00_abn...</td>\n",
       "      <td>1</td>\n",
       "    </tr>\n",
       "  </tbody>\n",
       "</table>\n",
       "<p>863 rows × 8 columns</p>\n",
       "</div>"
      ],
      "text/plain": [
       "                                                   path abnormal  ID  \\\n",
       "0     A:\\Dev\\NF_Prj_MIMII_Dataset\\dataset\\6dB\\pump\\i...        0  00   \n",
       "1     A:\\Dev\\NF_Prj_MIMII_Dataset\\dataset\\6dB\\pump\\i...        0  00   \n",
       "2     A:\\Dev\\NF_Prj_MIMII_Dataset\\dataset\\6dB\\pump\\i...        0  00   \n",
       "3     A:\\Dev\\NF_Prj_MIMII_Dataset\\dataset\\6dB\\pump\\i...        0  00   \n",
       "4     A:\\Dev\\NF_Prj_MIMII_Dataset\\dataset\\6dB\\pump\\i...        0  00   \n",
       "...                                                 ...      ...  ..   \n",
       "999   A:\\Dev\\NF_Prj_MIMII_Dataset\\dataset\\6dB\\pump\\i...        0  00   \n",
       "1001  A:\\Dev\\NF_Prj_MIMII_Dataset\\dataset\\6dB\\pump\\i...        0  00   \n",
       "1002  A:\\Dev\\NF_Prj_MIMII_Dataset\\dataset\\6dB\\pump\\i...        0  00   \n",
       "1004  A:\\Dev\\NF_Prj_MIMII_Dataset\\dataset\\6dB\\pump\\i...        0  00   \n",
       "1005  A:\\Dev\\NF_Prj_MIMII_Dataset\\dataset\\6dB\\pump\\i...        0  00   \n",
       "\n",
       "          file machine  SNR  \\\n",
       "0     00000000    pump  6dB   \n",
       "1     00000001    pump  6dB   \n",
       "2     00000002    pump  6dB   \n",
       "3     00000003    pump  6dB   \n",
       "4     00000004    pump  6dB   \n",
       "...        ...     ...  ...   \n",
       "999   00000999    pump  6dB   \n",
       "1001  00001001    pump  6dB   \n",
       "1002  00001002    pump  6dB   \n",
       "1004  00001004    pump  6dB   \n",
       "1005  00001005    pump  6dB   \n",
       "\n",
       "                                               MEL_f_v1  train_set  \n",
       "0     \\dataset\\MEL_to_Pandas\\MEL_v1_64_6dBpump00_abn...          1  \n",
       "1     \\dataset\\MEL_to_Pandas\\MEL_v1_64_6dBpump00_abn...          1  \n",
       "2     \\dataset\\MEL_to_Pandas\\MEL_v1_64_6dBpump00_abn...          1  \n",
       "3     \\dataset\\MEL_to_Pandas\\MEL_v1_64_6dBpump00_abn...          1  \n",
       "4     \\dataset\\MEL_to_Pandas\\MEL_v1_64_6dBpump00_abn...          1  \n",
       "...                                                 ...        ...  \n",
       "999   \\dataset\\MEL_to_Pandas\\MEL_v1_64_6dBpump00_abn...          1  \n",
       "1001  \\dataset\\MEL_to_Pandas\\MEL_v1_64_6dBpump00_abn...          1  \n",
       "1002  \\dataset\\MEL_to_Pandas\\MEL_v1_64_6dBpump00_abn...          1  \n",
       "1004  \\dataset\\MEL_to_Pandas\\MEL_v1_64_6dBpump00_abn...          1  \n",
       "1005  \\dataset\\MEL_to_Pandas\\MEL_v1_64_6dBpump00_abn...          1  \n",
       "\n",
       "[863 rows x 8 columns]"
      ]
     },
     "execution_count": 5,
     "metadata": {},
     "output_type": "execute_result"
    }
   ],
   "source": [
    "df"
   ]
  },
  {
   "cell_type": "markdown",
   "metadata": {},
   "source": [
    "## get features"
   ]
  },
  {
   "cell_type": "code",
   "execution_count": 10,
   "metadata": {
    "ExecuteTime": {
     "end_time": "2020-04-27T07:22:12.529761Z",
     "start_time": "2020-04-27T07:22:12.520760Z"
    }
   },
   "outputs": [],
   "source": [
    "def get_features(list_of_files, BASE_FOLDER):\n",
    "\n",
    "    for i, file in enumerate(list_of_files):\n",
    "\n",
    "        # create the feature extractor class\n",
    "        fe_mel_read = feature_extractor_from_file(\n",
    "            BASE_FOLDER+file, BASE_FOLDER)\n",
    "\n",
    "        # append the feature data\n",
    "        if i == 0:\n",
    "            feat_data = fe_mel_read.flat_feature()[\n",
    "                np.newaxis, :]\n",
    "        else:\n",
    "            feat_data = np.append(feat_data,\n",
    "                fe_mel_read.flat_feature()[\n",
    "                np.newaxis, :], axis=0)\n",
    "\n",
    "    return feat_data"
   ]
  },
  {
   "cell_type": "code",
   "execution_count": 11,
   "metadata": {
    "ExecuteTime": {
     "end_time": "2020-04-27T07:27:32.525802Z",
     "start_time": "2020-04-27T07:22:14.148287Z"
    }
   },
   "outputs": [
    {
     "data": {
      "text/plain": [
       "(863, 124928)"
      ]
     },
     "execution_count": 11,
     "metadata": {},
     "output_type": "execute_result"
    }
   ],
   "source": [
    "# loading time feature extractor: 4:37\n",
    "data = get_features(df.MEL_f_v1, BASE_FOLDER)\n",
    "data.shape"
   ]
  },
  {
   "cell_type": "code",
   "execution_count": 15,
   "metadata": {
    "ExecuteTime": {
     "end_time": "2020-04-27T07:28:32.361563Z",
     "start_time": "2020-04-27T07:28:32.355564Z"
    }
   },
   "outputs": [
    {
     "data": {
      "text/plain": [
       "array([[-1.31320420e-01, -2.22004890e-01, -4.02914045e-01, ...,\n",
       "         1.15602917e+00,  1.27219402e+00,  1.32625711e+00],\n",
       "       [ 7.01848277e-01,  6.74100844e-01,  5.96704343e-01, ...,\n",
       "         3.51665334e-01,  2.23678929e-03, -2.23338983e-01],\n",
       "       [-6.78283545e-01, -7.93267822e-01, -1.03800344e+00, ...,\n",
       "         1.04898533e+00,  1.00841644e+00,  1.00466035e+00],\n",
       "       ...,\n",
       "       [-2.31882295e-01, -3.21531085e-01, -5.04264789e-01, ...,\n",
       "         3.53919563e-01,  4.71104034e-01,  5.27960982e-01],\n",
       "       [ 2.70170025e-01,  1.82418705e-01, -5.39074756e-02, ...,\n",
       "         2.19372121e+00,  1.88599094e+00,  1.63127594e+00],\n",
       "       [-2.82394892e+00, -2.71658799e+00, -2.40068660e+00, ...,\n",
       "         6.49486633e-01,  5.75228725e-01,  5.66318029e-01]])"
      ]
     },
     "execution_count": 15,
     "metadata": {},
     "output_type": "execute_result"
    }
   ],
   "source": [
    "data"
   ]
  },
  {
   "cell_type": "markdown",
   "metadata": {},
   "source": [
    "## Preprocessing"
   ]
  },
  {
   "cell_type": "code",
   "execution_count": 13,
   "metadata": {
    "ExecuteTime": {
     "end_time": "2020-04-27T07:27:37.912995Z",
     "start_time": "2020-04-27T07:27:32.535798Z"
    }
   },
   "outputs": [],
   "source": [
    "from sklearn.preprocessing import StandardScaler\n",
    "\n",
    "scaler = StandardScaler()\n",
    "data = scaler.fit_transform(data)"
   ]
  },
  {
   "cell_type": "code",
   "execution_count": 18,
   "metadata": {
    "ExecuteTime": {
     "end_time": "2020-04-27T07:41:09.692296Z",
     "start_time": "2020-04-27T07:40:29.685423Z"
    }
   },
   "outputs": [],
   "source": [
    "from sklearn.decomposition import PCA\n",
    "\n",
    "# instantiate pca\n",
    "n_prin_comp = 862\n",
    "pca = PCA(n_components=n_prin_comp, svd_solver='full')\n",
    "\n",
    "data_pc = pca.fit_transform(data)"
   ]
  },
  {
   "cell_type": "code",
   "execution_count": 19,
   "metadata": {
    "ExecuteTime": {
     "end_time": "2020-04-27T07:41:10.131573Z",
     "start_time": "2020-04-27T07:41:09.694297Z"
    }
   },
   "outputs": [
    {
     "data": {
      "image/png": "[encoded data removed]",
      "text/plain": [
       "<Figure size 500x500 with 1 Axes>"
      ]
     },
     "metadata": {},
     "output_type": "display_data"
    }
   ],
   "source": [
    "plt.figure(figsize=(5, 5), dpi=100)\n",
    "\n",
    "plt.plot(range(1,n_prin_comp+1), np.cumsum(pca.explained_variance_ratio_)\n",
    "                , label='PSD of pump_id_{00}'.format(ID))\n",
    "plt.xlabel('principal component')\n",
    "plt.ylabel('cumulated explained variance ratio')\n",
    "plt.legend()\n",
    "plt.show()"
   ]
  },
  {
   "cell_type": "code",
   "execution_count": null,
   "metadata": {},
   "outputs": [],
   "source": []
  }
 ],
 "metadata": {
  "kernelspec": {
   "display_name": "Py3.7 (mimii_base_TF2_GPU)",
   "language": "python",
   "name": "mimii-tf2-gpu"
  },
  "language_info": {
   "codemirror_mode": {
    "name": "ipython",
    "version": 3
   },
   "file_extension": ".py",
   "mimetype": "text/x-python",
   "name": "python",
   "nbconvert_exporter": "python",
   "pygments_lexer": "ipython3",
   "version": "3.7.7"
  },
  "toc": {
   "base_numbering": 1,
   "nav_menu": {},
   "number_sections": true,
   "sideBar": true,
   "skip_h1_title": true,
   "title_cell": "Table of Contents",
   "title_sidebar": "Contents",
   "toc_cell": true,
   "toc_position": {},
   "toc_section_display": true,
   "toc_window_display": false
  }
 },
 "nbformat": 4,
 "nbformat_minor": 4
}
