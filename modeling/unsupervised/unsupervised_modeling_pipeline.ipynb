{
 "cells": [
  {
   "cell_type": "markdown",
   "metadata": {
    "toc": true
   },
   "source": [
    "<h1>Table of Contents<span class=\"tocSkip\"></span></h1>\n",
    "<div class=\"toc\"><ul class=\"toc-item\"><li><span><a href=\"#Structure-cheat-sheet\" data-toc-modified-id=\"Structure-cheat-sheet-1\"><span class=\"toc-item-num\">1&nbsp;&nbsp;</span>Structure cheat sheet</a></span></li><li><span><a href=\"#Data-structure\" data-toc-modified-id=\"Data-structure-2\"><span class=\"toc-item-num\">2&nbsp;&nbsp;</span>Data structure</a></span></li><li><span><a href=\"#train-data-lead\" data-toc-modified-id=\"train-data-lead-3\"><span class=\"toc-item-num\">3&nbsp;&nbsp;</span>train data lead</a></span></li><li><span><a href=\"#Preprocessing\" data-toc-modified-id=\"Preprocessing-4\"><span class=\"toc-item-num\">4&nbsp;&nbsp;</span>Preprocessing</a></span></li></ul></div>"
   ]
  },
  {
   "cell_type": "markdown",
   "metadata": {},
   "source": [
    "# Basics\n",
    "\n",
    "## Structure cheat sheet\n",
    "\n",
    "1. func: train data lead (following order)\n",
    "    1. read the descriptive dataframe from the feature-pipeline\n",
    "    2. extract feature from the feature-objects which are labeled train-dataset from dataframe\n",
    "    3. create numpy feature array for the processing pipeline\n",
    "2. preprocessing\n",
    "    1. Transformation (any combination of the following)\n",
    "        + log-transform\n",
    "        + PCA\n",
    "        + others\n",
    "    2. Scaling (one of the following)\n",
    "        + StandardScaler\n",
    "        + MinMaxScaler\n",
    "3. Unsupervised Clustering\n",
    "    1. Estimate initial hyperparameter\n",
    "    2. Create grid over various hyperparameters\n",
    "    3. Train all and choose the best according to metric\n",
    "    \n",
    "    \n",
    "in all steps the cluster-recorder object (possibly dataframe-row) will record all the meta-information like hyper-parameters"
   ]
  },
  {
   "cell_type": "markdown",
   "metadata": {},
   "source": [
    "## Data structure"
   ]
  },
  {
   "cell_type": "markdown",
   "metadata": {},
   "source": [
    "There are multiple degrees of freedom in the data:\n",
    "\n",
    "1. Signal to noise ratio (SNR)\n",
    "2. Machine type\n",
    "    1. pump\n",
    "    2. fan\n",
    "    3. valve (solenoid)\n",
    "    4. slider\n",
    "3. Machine ID\n",
    "    1. four different machine IDs\n",
    "    \n",
    "The pipeline will be applied to fixed SNR, fixed machine type and fixed ID"
   ]
  },
  {
   "cell_type": "code",
   "execution_count": 3,
   "metadata": {
    "ExecuteTime": {
     "end_time": "2020-04-26T09:39:39.284612Z",
     "start_time": "2020-04-26T09:39:37.582166Z"
    }
   },
   "outputs": [],
   "source": [
    "import numpy as np\n",
    "import scipy\n",
    "import pandas as pd\n",
    "import matplotlib.pyplot as plt\n",
    "import seaborn as sns\n",
    "import pickle\n",
    "sns.set()"
   ]
  },
  {
   "cell_type": "markdown",
   "metadata": {},
   "source": [
    "## train data lead\n",
    "This will be bypassed temporarily\n",
    "\n",
    "Reconciliation is needed"
   ]
  },
  {
   "cell_type": "code",
   "execution_count": 5,
   "metadata": {
    "ExecuteTime": {
     "end_time": "2020-04-26T09:40:01.025038Z",
     "start_time": "2020-04-26T09:40:01.005038Z"
    }
   },
   "outputs": [],
   "source": [
    "# for now we will work with a file we created in the EDA/clustering-Notebook\n",
    "path_descr = '.\\..\\..\\dataset\\MEL_to_Pandas\\data\\pandas_pump_6dB_00020406_MEL_v1_64.pkl'\n",
    "df_descr = pd.read_pickle(path_descr)"
   ]
  },
  {
   "cell_type": "markdown",
   "metadata": {},
   "source": [
    "## Preprocessing"
   ]
  },
  {
   "cell_type": "code",
   "execution_count": 6,
   "metadata": {
    "ExecuteTime": {
     "end_time": "2020-04-26T09:40:08.582184Z",
     "start_time": "2020-04-26T09:40:08.557182Z"
    }
   },
   "outputs": [
    {
     "data": {
      "text/html": [
       "<div>\n",
       "<style scoped>\n",
       "    .dataframe tbody tr th:only-of-type {\n",
       "        vertical-align: middle;\n",
       "    }\n",
       "\n",
       "    .dataframe tbody tr th {\n",
       "        vertical-align: top;\n",
       "    }\n",
       "\n",
       "    .dataframe thead th {\n",
       "        text-align: right;\n",
       "    }\n",
       "</style>\n",
       "<table border=\"1\" class=\"dataframe\">\n",
       "  <thead>\n",
       "    <tr style=\"text-align: right;\">\n",
       "      <th></th>\n",
       "      <th>path</th>\n",
       "      <th>abnormal</th>\n",
       "      <th>ID</th>\n",
       "      <th>file</th>\n",
       "      <th>machine</th>\n",
       "      <th>SNR</th>\n",
       "      <th>MEL_f_v1</th>\n",
       "    </tr>\n",
       "  </thead>\n",
       "  <tbody>\n",
       "    <tr>\n",
       "      <th>0</th>\n",
       "      <td>A:\\Dev\\NF_Prj_MIMII_Dataset\\dataset\\6dB\\pump\\i...</td>\n",
       "      <td>0</td>\n",
       "      <td>00</td>\n",
       "      <td>00000000</td>\n",
       "      <td>pump</td>\n",
       "      <td>6dB</td>\n",
       "      <td>\\dataset\\MEL_to_Pandas\\MEL_v1_64_6dBpump00_abn...</td>\n",
       "    </tr>\n",
       "    <tr>\n",
       "      <th>1</th>\n",
       "      <td>A:\\Dev\\NF_Prj_MIMII_Dataset\\dataset\\6dB\\pump\\i...</td>\n",
       "      <td>0</td>\n",
       "      <td>00</td>\n",
       "      <td>00000001</td>\n",
       "      <td>pump</td>\n",
       "      <td>6dB</td>\n",
       "      <td>\\dataset\\MEL_to_Pandas\\MEL_v1_64_6dBpump00_abn...</td>\n",
       "    </tr>\n",
       "    <tr>\n",
       "      <th>2</th>\n",
       "      <td>A:\\Dev\\NF_Prj_MIMII_Dataset\\dataset\\6dB\\pump\\i...</td>\n",
       "      <td>0</td>\n",
       "      <td>00</td>\n",
       "      <td>00000002</td>\n",
       "      <td>pump</td>\n",
       "      <td>6dB</td>\n",
       "      <td>\\dataset\\MEL_to_Pandas\\MEL_v1_64_6dBpump00_abn...</td>\n",
       "    </tr>\n",
       "    <tr>\n",
       "      <th>3</th>\n",
       "      <td>A:\\Dev\\NF_Prj_MIMII_Dataset\\dataset\\6dB\\pump\\i...</td>\n",
       "      <td>0</td>\n",
       "      <td>00</td>\n",
       "      <td>00000003</td>\n",
       "      <td>pump</td>\n",
       "      <td>6dB</td>\n",
       "      <td>\\dataset\\MEL_to_Pandas\\MEL_v1_64_6dBpump00_abn...</td>\n",
       "    </tr>\n",
       "    <tr>\n",
       "      <th>4</th>\n",
       "      <td>A:\\Dev\\NF_Prj_MIMII_Dataset\\dataset\\6dB\\pump\\i...</td>\n",
       "      <td>0</td>\n",
       "      <td>00</td>\n",
       "      <td>00000004</td>\n",
       "      <td>pump</td>\n",
       "      <td>6dB</td>\n",
       "      <td>\\dataset\\MEL_to_Pandas\\MEL_v1_64_6dBpump00_abn...</td>\n",
       "    </tr>\n",
       "    <tr>\n",
       "      <th>...</th>\n",
       "      <td>...</td>\n",
       "      <td>...</td>\n",
       "      <td>...</td>\n",
       "      <td>...</td>\n",
       "      <td>...</td>\n",
       "      <td>...</td>\n",
       "      <td>...</td>\n",
       "    </tr>\n",
       "    <tr>\n",
       "      <th>4200</th>\n",
       "      <td>A:\\Dev\\NF_Prj_MIMII_Dataset\\dataset\\6dB\\pump\\i...</td>\n",
       "      <td>1</td>\n",
       "      <td>06</td>\n",
       "      <td>00000097</td>\n",
       "      <td>pump</td>\n",
       "      <td>6dB</td>\n",
       "      <td>\\dataset\\MEL_to_Pandas\\MEL_v1_64_6dBpump06_abn...</td>\n",
       "    </tr>\n",
       "    <tr>\n",
       "      <th>4201</th>\n",
       "      <td>A:\\Dev\\NF_Prj_MIMII_Dataset\\dataset\\6dB\\pump\\i...</td>\n",
       "      <td>1</td>\n",
       "      <td>06</td>\n",
       "      <td>00000098</td>\n",
       "      <td>pump</td>\n",
       "      <td>6dB</td>\n",
       "      <td>\\dataset\\MEL_to_Pandas\\MEL_v1_64_6dBpump06_abn...</td>\n",
       "    </tr>\n",
       "    <tr>\n",
       "      <th>4202</th>\n",
       "      <td>A:\\Dev\\NF_Prj_MIMII_Dataset\\dataset\\6dB\\pump\\i...</td>\n",
       "      <td>1</td>\n",
       "      <td>06</td>\n",
       "      <td>00000099</td>\n",
       "      <td>pump</td>\n",
       "      <td>6dB</td>\n",
       "      <td>\\dataset\\MEL_to_Pandas\\MEL_v1_64_6dBpump06_abn...</td>\n",
       "    </tr>\n",
       "    <tr>\n",
       "      <th>4203</th>\n",
       "      <td>A:\\Dev\\NF_Prj_MIMII_Dataset\\dataset\\6dB\\pump\\i...</td>\n",
       "      <td>1</td>\n",
       "      <td>06</td>\n",
       "      <td>00000100</td>\n",
       "      <td>pump</td>\n",
       "      <td>6dB</td>\n",
       "      <td>\\dataset\\MEL_to_Pandas\\MEL_v1_64_6dBpump06_abn...</td>\n",
       "    </tr>\n",
       "    <tr>\n",
       "      <th>4204</th>\n",
       "      <td>A:\\Dev\\NF_Prj_MIMII_Dataset\\dataset\\6dB\\pump\\i...</td>\n",
       "      <td>1</td>\n",
       "      <td>06</td>\n",
       "      <td>00000101</td>\n",
       "      <td>pump</td>\n",
       "      <td>6dB</td>\n",
       "      <td>\\dataset\\MEL_to_Pandas\\MEL_v1_64_6dBpump06_abn...</td>\n",
       "    </tr>\n",
       "  </tbody>\n",
       "</table>\n",
       "<p>4205 rows × 7 columns</p>\n",
       "</div>"
      ],
      "text/plain": [
       "                                                   path abnormal  ID  \\\n",
       "0     A:\\Dev\\NF_Prj_MIMII_Dataset\\dataset\\6dB\\pump\\i...        0  00   \n",
       "1     A:\\Dev\\NF_Prj_MIMII_Dataset\\dataset\\6dB\\pump\\i...        0  00   \n",
       "2     A:\\Dev\\NF_Prj_MIMII_Dataset\\dataset\\6dB\\pump\\i...        0  00   \n",
       "3     A:\\Dev\\NF_Prj_MIMII_Dataset\\dataset\\6dB\\pump\\i...        0  00   \n",
       "4     A:\\Dev\\NF_Prj_MIMII_Dataset\\dataset\\6dB\\pump\\i...        0  00   \n",
       "...                                                 ...      ...  ..   \n",
       "4200  A:\\Dev\\NF_Prj_MIMII_Dataset\\dataset\\6dB\\pump\\i...        1  06   \n",
       "4201  A:\\Dev\\NF_Prj_MIMII_Dataset\\dataset\\6dB\\pump\\i...        1  06   \n",
       "4202  A:\\Dev\\NF_Prj_MIMII_Dataset\\dataset\\6dB\\pump\\i...        1  06   \n",
       "4203  A:\\Dev\\NF_Prj_MIMII_Dataset\\dataset\\6dB\\pump\\i...        1  06   \n",
       "4204  A:\\Dev\\NF_Prj_MIMII_Dataset\\dataset\\6dB\\pump\\i...        1  06   \n",
       "\n",
       "          file machine  SNR                                           MEL_f_v1  \n",
       "0     00000000    pump  6dB  \\dataset\\MEL_to_Pandas\\MEL_v1_64_6dBpump00_abn...  \n",
       "1     00000001    pump  6dB  \\dataset\\MEL_to_Pandas\\MEL_v1_64_6dBpump00_abn...  \n",
       "2     00000002    pump  6dB  \\dataset\\MEL_to_Pandas\\MEL_v1_64_6dBpump00_abn...  \n",
       "3     00000003    pump  6dB  \\dataset\\MEL_to_Pandas\\MEL_v1_64_6dBpump00_abn...  \n",
       "4     00000004    pump  6dB  \\dataset\\MEL_to_Pandas\\MEL_v1_64_6dBpump00_abn...  \n",
       "...        ...     ...  ...                                                ...  \n",
       "4200  00000097    pump  6dB  \\dataset\\MEL_to_Pandas\\MEL_v1_64_6dBpump06_abn...  \n",
       "4201  00000098    pump  6dB  \\dataset\\MEL_to_Pandas\\MEL_v1_64_6dBpump06_abn...  \n",
       "4202  00000099    pump  6dB  \\dataset\\MEL_to_Pandas\\MEL_v1_64_6dBpump06_abn...  \n",
       "4203  00000100    pump  6dB  \\dataset\\MEL_to_Pandas\\MEL_v1_64_6dBpump06_abn...  \n",
       "4204  00000101    pump  6dB  \\dataset\\MEL_to_Pandas\\MEL_v1_64_6dBpump06_abn...  \n",
       "\n",
       "[4205 rows x 7 columns]"
      ]
     },
     "execution_count": 6,
     "metadata": {},
     "output_type": "execute_result"
    }
   ],
   "source": [
    "df_descr"
   ]
  },
  {
   "cell_type": "code",
   "execution_count": null,
   "metadata": {},
   "outputs": [],
   "source": []
  }
 ],
 "metadata": {
  "kernelspec": {
   "display_name": "Py3.7 (mimii_base_TF2_GPU)",
   "language": "python",
   "name": "mimii-tf2-gpu"
  },
  "language_info": {
   "codemirror_mode": {
    "name": "ipython",
    "version": 3
   },
   "file_extension": ".py",
   "mimetype": "text/x-python",
   "name": "python",
   "nbconvert_exporter": "python",
   "pygments_lexer": "ipython3",
   "version": "3.7.7"
  },
  "toc": {
   "base_numbering": 1,
   "nav_menu": {},
   "number_sections": true,
   "sideBar": true,
   "skip_h1_title": true,
   "title_cell": "Table of Contents",
   "title_sidebar": "Contents",
   "toc_cell": true,
   "toc_position": {},
   "toc_section_display": true,
   "toc_window_display": false
  }
 },
 "nbformat": 4,
 "nbformat_minor": 4
}
