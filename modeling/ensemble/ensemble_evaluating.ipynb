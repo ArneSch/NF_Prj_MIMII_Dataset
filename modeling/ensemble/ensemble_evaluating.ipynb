{
 "cells": [
  {
   "cell_type": "markdown",
   "metadata": {
    "toc": true
   },
   "source": [
    "<h1>Table of Contents<span class=\"tocSkip\"></span></h1>\n",
    "<div class=\"toc\"><ul class=\"toc-item\"></ul></div>"
   ]
  },
  {
   "cell_type": "markdown",
   "metadata": {},
   "source": [
    "# Model Read"
   ]
  },
  {
   "cell_type": "code",
   "execution_count": 17,
   "metadata": {
    "ExecuteTime": {
     "end_time": "2020-05-12T11:20:14.349545Z",
     "start_time": "2020-05-12T11:20:14.308548Z"
    },
    "scrolled": true
   },
   "outputs": [
    {
     "name": "stdout",
     "output_type": "stream",
     "text": [
      "load feature_extractor_mother\n",
      "load feature_extractor_mel_spectra\n",
      "load feature_extractor_psd\n",
      "load feature_extractor_ICA2\n",
      "load feature_extractore_pre_nnFilterDenoise\n",
      "load extractor_diagram_mother\n",
      "load Simple_FIR_HP\n",
      "load TimeSliceAppendActivation\n",
      "load load_data\n",
      "Load split_data\n",
      "Load anomaly_detection_models\n",
      "Load pseudo_supervised_models\n",
      "Load tensorflow models\n",
      "Load detection_pipe\n"
     ]
    }
   ],
   "source": [
    "#===============================================\n",
    "# Basic Imports\n",
    "BASE_FOLDER = '../../'\n",
    "%run -i ..\\..\\utility\\feature_extractor\\JupyterLoad_feature_extractor.py\n",
    "%run -i ..\\..\\utility\\modeling\\JupyterLoad_modeling.py\n",
    "\n",
    "from sklearn.metrics import roc_auc_score, confusion_matrix \n",
    "from tqdm import tqdm\n",
    "import os\n",
    "import glob\n",
    "import seaborn as sns\n",
    "sns.set()"
   ]
  },
  {
   "cell_type": "code",
   "execution_count": 18,
   "metadata": {
    "ExecuteTime": {
     "end_time": "2020-05-12T11:20:14.784099Z",
     "start_time": "2020-05-12T11:20:14.771100Z"
    }
   },
   "outputs": [],
   "source": [
    "path = BASE_FOLDER + './modeling/unsupervised/models_agg.dataframe'\n",
    "df = pd.read_pickle(path)"
   ]
  },
  {
   "cell_type": "code",
   "execution_count": 23,
   "metadata": {
    "ExecuteTime": {
     "end_time": "2020-05-12T11:27:50.708262Z",
     "start_time": "2020-05-12T11:27:23.307317Z"
    }
   },
   "outputs": [],
   "source": [
    "ensemble_pipes = {}\n",
    "for SNR in ['6dB', 'min6dB']:\n",
    "    for machine in ['pump', 'fan', 'slider', 'valve']:\n",
    "        for ID in ['00', '02', '04', '06']:\n",
    "            paths = glob.glob('pipes/*_{}_{}_ID{}*'.format(SNR, machine, ID))\n",
    "            if len(paths) !=3:\n",
    "                print(paths)\n",
    "            key = '_'.join([SNR, machine, ID])\n",
    "            ensemble_pipes[key] = []\n",
    "            for path in paths:\n",
    "                with open(path, 'rb') as f:\n",
    "                    ensemble_pipes[key].append(pickle.load(f))"
   ]
  },
  {
   "cell_type": "code",
   "execution_count": 25,
   "metadata": {
    "ExecuteTime": {
     "end_time": "2020-05-12T11:28:01.259232Z",
     "start_time": "2020-05-12T11:27:50.717262Z"
    },
    "tags": []
   },
   "outputs": [],
   "source": [
    "ensemble_dfs = {}\n",
    "for ensemble_key, ensemble in ensemble_pipes.items():\n",
    "    for i, pipe in enumerate(ensemble):\n",
    "        if i==0:\n",
    "            ensemble_dfs[ensemble_key] = pd.DataFrame(pipe.df_test.groupby(by='path').sum().pred_scores.rename(pipe.model.name+'_'+pipe.task['feat_col']+'_pred_scores').reindex())\n",
    "            ground_truth = pipe.df_test.groupby(by='path').median().abnormal.rename('ground_truth')\n",
    "            score_unweighted = pd.Series(np.zeros(ensemble_dfs[ensemble_key].iloc[:,0].shape), index=ensemble_dfs[ensemble_key].index)\n",
    "            score_weighted = score_unweighted\n",
    "        else:\n",
    "            ensemble_dfs[ensemble_key] = ensemble_dfs[ensemble_key].join(pipe.df_test.groupby(by='path').sum().pred_scores.rename(pipe.model.name+'_'+pipe.task['feat_col']+'_pred_scores'))\n",
    "        \n",
    "        if pipe.model.name == 'IsoFor':\n",
    "            if pipe.task['feat_col'] == 'PSD_raw':\n",
    "                weight = 1.\n",
    "            else:\n",
    "                weight = .75\n",
    "        elif pipe.model.name == 'AutoEnc':\n",
    "            weight = 1.25\n",
    "        elif pipe.model.name == 'SVM':\n",
    "            weight = 1.\n",
    "        std = ensemble_dfs[ensemble_key].iloc[:,-1].std()\n",
    "        score_weighted = score_weighted + weight * (ensemble_dfs[ensemble_key].iloc[:,-1] - ensemble_dfs[ensemble_key].iloc[:,-1].mean())/std\n",
    "        score_unweighted = score_unweighted + (ensemble_dfs[ensemble_key].iloc[:,-1] - ensemble_dfs[ensemble_key].iloc[:,-1].mean())/std\n",
    "    \n",
    "    ensemble_dfs[ensemble_key] = ensemble_dfs[ensemble_key].join(score_weighted.rename('score_agg_weighted'))\n",
    "    std_weighted = ensemble_dfs[ensemble_key].score_agg_weighted.std()\n",
    "    threshold = -.25*std_weighted\n",
    "    ensemble_dfs[ensemble_key] = ensemble_dfs[ensemble_key].join(score_unweighted.rename('score_agg_unweighted'))\n",
    "    ensemble_dfs[ensemble_key] = ensemble_dfs[ensemble_key].join((score_weighted<threshold).rename('prediction_abnormal_weighted').astype(np.float).replace(to_replace=1, value=-1).replace(to_replace=0, value=1))\n",
    "    ensemble_dfs[ensemble_key] = ensemble_dfs[ensemble_key].join(ground_truth.replace(to_replace=1, value=-1).replace(to_replace=0, value=1))"
   ]
  },
  {
   "cell_type": "code",
   "execution_count": 26,
   "metadata": {
    "ExecuteTime": {
     "end_time": "2020-05-12T11:28:01.293227Z",
     "start_time": "2020-05-12T11:28:01.261225Z"
    }
   },
   "outputs": [],
   "source": [
    "with open('ensemble_dfs.dataframe', 'wb') as f:\n",
    "    pickle.dump(ensemble_dfs, f)"
   ]
  },
  {
   "cell_type": "code",
   "execution_count": 27,
   "metadata": {
    "ExecuteTime": {
     "end_time": "2020-05-12T11:28:01.569750Z",
     "start_time": "2020-05-12T11:28:01.295226Z"
    }
   },
   "outputs": [],
   "source": [
    "results = pd.DataFrame([])\n",
    "for ensemble_key, ensemble in ensemble_dfs.items():\n",
    "    keys = ensemble_key.split('_')\n",
    "    \n",
    "    conf_mat = confusion_matrix(ensemble.ground_truth, ensemble.prediction_abnormal_weighted)\n",
    "    \n",
    "    fp = conf_mat[1, 0].astype(np.float)\n",
    "    fn = conf_mat[0, 1].astype(np.float)\n",
    "    tp = conf_mat[0, 0].astype(np.float)\n",
    "    tn = conf_mat[1, 1].astype(np.float)\n",
    "    precision = tp/(tp+fp)\n",
    "    recall = tp/(tp+fn)\n",
    "    fpr = fp/(fp+tn)\n",
    "    fnr = fn/(fn+tp)\n",
    "    r_fp = fp/np.sum(conf_mat)\n",
    "    r_fn = fn/np.sum(conf_mat)\n",
    "    \n",
    "    data = keys + [ conf_mat,\n",
    "                   fp, fn, tp, tn, precision, recall, fpr, fnr, r_fp, r_fn,\n",
    "        roc_auc_score(ensemble_dfs[ensemble_key].ground_truth, ensemble_dfs[ensemble_key].score_agg_weighted), \n",
    "        roc_auc_score(ensemble_dfs[ensemble_key].ground_truth, ensemble_dfs[ensemble_key].score_agg_unweighted)]\n",
    "\n",
    "    cols = ['SNR', 'machine', 'ID', 'confusion_matrix', \n",
    "            'fp', 'fn', 'tp', 'tn', 'precision', 'recall', 'fpr', 'fnr', 'r_fp', 'r_fn',\n",
    "            'score_aggr_weighted', 'score_aggr_unweighted']\n",
    "    \n",
    "    for pipe in ensemble_pipes[ensemble_key]:\n",
    "        data.append(pipe.roc_auc)\n",
    "        cols.append('score_'+pipe.model.name+pipe.task['feat_col'])\n",
    "    results = results.append(pd.DataFrame(data=[data], columns=cols, index=[ensemble_key]))"
   ]
  },
  {
   "cell_type": "code",
   "execution_count": 35,
   "metadata": {
    "ExecuteTime": {
     "end_time": "2020-05-12T13:01:55.055161Z",
     "start_time": "2020-05-12T13:01:55.026489Z"
    }
   },
   "outputs": [
    {
     "data": {
      "text/html": [
       "<div>\n",
       "<style scoped>\n",
       "    .dataframe tbody tr th:only-of-type {\n",
       "        vertical-align: middle;\n",
       "    }\n",
       "\n",
       "    .dataframe tbody tr th {\n",
       "        vertical-align: top;\n",
       "    }\n",
       "\n",
       "    .dataframe thead th {\n",
       "        text-align: right;\n",
       "    }\n",
       "</style>\n",
       "<table border=\"1\" class=\"dataframe\">\n",
       "  <thead>\n",
       "    <tr style=\"text-align: right;\">\n",
       "      <th></th>\n",
       "      <th>fp</th>\n",
       "      <th>fn</th>\n",
       "      <th>tp</th>\n",
       "      <th>tn</th>\n",
       "      <th>precision</th>\n",
       "      <th>recall</th>\n",
       "      <th>fpr</th>\n",
       "      <th>fnr</th>\n",
       "      <th>r_fp</th>\n",
       "      <th>r_fn</th>\n",
       "      <th>score_aggr_weighted</th>\n",
       "      <th>score_aggr_unweighted</th>\n",
       "      <th>score_AutoEncMEL_den</th>\n",
       "      <th>score_IsoForMEL_den</th>\n",
       "      <th>score_IsoForPSD_raw</th>\n",
       "    </tr>\n",
       "    <tr>\n",
       "      <th>SNR</th>\n",
       "      <th></th>\n",
       "      <th></th>\n",
       "      <th></th>\n",
       "      <th></th>\n",
       "      <th></th>\n",
       "      <th></th>\n",
       "      <th></th>\n",
       "      <th></th>\n",
       "      <th></th>\n",
       "      <th></th>\n",
       "      <th></th>\n",
       "      <th></th>\n",
       "      <th></th>\n",
       "      <th></th>\n",
       "      <th></th>\n",
       "    </tr>\n",
       "  </thead>\n",
       "  <tbody>\n",
       "    <tr>\n",
       "      <th>6dB</th>\n",
       "      <td>6.4375</td>\n",
       "      <td>51.25</td>\n",
       "      <td>155.00</td>\n",
       "      <td>199.8125</td>\n",
       "      <td>0.955016</td>\n",
       "      <td>0.773437</td>\n",
       "      <td>0.036597</td>\n",
       "      <td>0.226563</td>\n",
       "      <td>0.018298</td>\n",
       "      <td>0.113282</td>\n",
       "      <td>0.969906</td>\n",
       "      <td>0.968828</td>\n",
       "      <td>0.924169</td>\n",
       "      <td>0.891087</td>\n",
       "      <td>0.937031</td>\n",
       "    </tr>\n",
       "    <tr>\n",
       "      <th>min6dB</th>\n",
       "      <td>36.2500</td>\n",
       "      <td>86.50</td>\n",
       "      <td>119.75</td>\n",
       "      <td>170.0000</td>\n",
       "      <td>0.749119</td>\n",
       "      <td>0.568264</td>\n",
       "      <td>0.179625</td>\n",
       "      <td>0.431736</td>\n",
       "      <td>0.089813</td>\n",
       "      <td>0.215868</td>\n",
       "      <td>0.768559</td>\n",
       "      <td>0.764145</td>\n",
       "      <td>0.744950</td>\n",
       "      <td>0.685573</td>\n",
       "      <td>0.732260</td>\n",
       "    </tr>\n",
       "  </tbody>\n",
       "</table>\n",
       "</div>"
      ],
      "text/plain": [
       "             fp     fn      tp        tn  precision    recall       fpr  \\\n",
       "SNR                                                                       \n",
       "6dB      6.4375  51.25  155.00  199.8125   0.955016  0.773437  0.036597   \n",
       "min6dB  36.2500  86.50  119.75  170.0000   0.749119  0.568264  0.179625   \n",
       "\n",
       "             fnr      r_fp      r_fn  score_aggr_weighted  \\\n",
       "SNR                                                         \n",
       "6dB     0.226563  0.018298  0.113282             0.969906   \n",
       "min6dB  0.431736  0.089813  0.215868             0.768559   \n",
       "\n",
       "        score_aggr_unweighted  score_AutoEncMEL_den  score_IsoForMEL_den  \\\n",
       "SNR                                                                        \n",
       "6dB                  0.968828              0.924169             0.891087   \n",
       "min6dB               0.764145              0.744950             0.685573   \n",
       "\n",
       "        score_IsoForPSD_raw  \n",
       "SNR                          \n",
       "6dB                0.937031  \n",
       "min6dB             0.732260  "
      ]
     },
     "execution_count": 35,
     "metadata": {},
     "output_type": "execute_result"
    }
   ],
   "source": [
    "results.groupby(by=['SNR']).mean()"
   ]
  },
  {
   "cell_type": "code",
   "execution_count": 34,
   "metadata": {
    "ExecuteTime": {
     "end_time": "2020-05-12T12:02:01.010251Z",
     "start_time": "2020-05-12T12:02:00.978045Z"
    }
   },
   "outputs": [],
   "source": [
    "with open('results.csv', 'wb') as f:\n",
    "    results.to_csv('results.csv')"
   ]
  },
  {
   "cell_type": "code",
   "execution_count": 29,
   "metadata": {
    "ExecuteTime": {
     "end_time": "2020-05-12T11:28:01.612117Z",
     "start_time": "2020-05-12T11:28:01.606110Z"
    },
    "scrolled": true
   },
   "outputs": [],
   "source": [
    "results.to_pickle('ensemble_results.dataframe')"
   ]
  }
 ],
 "metadata": {
  "kernelspec": {
   "display_name": "Py3.7 (mimii_base_TF2_GPU)",
   "language": "python",
   "name": "mimii-tf2-gpu"
  },
  "language_info": {
   "codemirror_mode": {
    "name": "ipython",
    "version": 3
   },
   "file_extension": ".py",
   "mimetype": "text/x-python",
   "name": "python",
   "nbconvert_exporter": "python",
   "pygments_lexer": "ipython3",
   "version": "3.7.7"
  },
  "toc": {
   "base_numbering": 1,
   "nav_menu": {},
   "number_sections": true,
   "sideBar": true,
   "skip_h1_title": true,
   "title_cell": "Table of Contents",
   "title_sidebar": "Contents",
   "toc_cell": true,
   "toc_position": {},
   "toc_section_display": true,
   "toc_window_display": false
  }
 },
 "nbformat": 4,
 "nbformat_minor": 4
}
