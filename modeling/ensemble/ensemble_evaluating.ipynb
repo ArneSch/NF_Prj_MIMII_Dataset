{
 "cells": [
  {
   "cell_type": "markdown",
   "metadata": {
    "toc": true
   },
   "source": [
    "<h1>Table of Contents<span class=\"tocSkip\"></span></h1>\n",
    "<div class=\"toc\"><ul class=\"toc-item\"></ul></div>"
   ]
  },
  {
   "cell_type": "markdown",
   "metadata": {},
   "source": [
    "# Model Read"
   ]
  },
  {
   "cell_type": "code",
   "execution_count": 3,
   "metadata": {
    "ExecuteTime": {
     "end_time": "2020-05-09T08:46:27.462985Z",
     "start_time": "2020-05-09T08:46:27.285983Z"
    },
    "scrolled": true
   },
   "outputs": [
    {
     "output_type": "stream",
     "name": "stdout",
     "text": "load feature_extractor_mother\nload feature_extractor_mel_spectra\nload feature_extractor_psd\nload feature_extractor_ICA2\nload feature_extractore_pre_nnFilterDenoise\nload extractor_diagram_mother\nload Simple_FIR_HP\nload TimeSliceAppendActivation\nload load_data\nLoad split_data\nLoad anomaly_detection_models\nLoad pseudo_supervised_models\nLoad tensorflow models\nLoad detection_pipe\n"
    }
   ],
   "source": [
    "#===============================================\n",
    "# Basic Imports\n",
    "BASE_FOLDER = '../../'\n",
    "%run -i ..\\..\\utility\\feature_extractor\\JupyterLoad_feature_extractor.py\n",
    "%run -i ..\\..\\utility\\modeling\\JupyterLoad_modeling.py\n",
    "\n",
    "from sklearn.metrics import roc_auc_score\n",
    "from tqdm import tqdm\n",
    "import os\n",
    "import glob\n",
    "import seaborn as sns\n",
    "sns.set()"
   ]
  },
  {
   "cell_type": "code",
   "execution_count": 8,
   "metadata": {},
   "outputs": [],
   "source": [
    "path = BASE_FOLDER + './modeling/unsupervised/models_agg.dataframe'\n",
    "df = pd.read_pickle(path)"
   ]
  },
  {
   "cell_type": "code",
   "execution_count": 9,
   "metadata": {},
   "outputs": [],
   "source": [
    "mask1 = (df.model_type=='AutoEnc') & (df.feature_type=='MEL_den') & (df.feat_frames==5.0)\n",
    "mask2 = (df.model_type=='IsoFor') & (df.feature_type=='MEL_den') & (df.feat_frames==3.0)\n",
    "mask3 = (df.model_type=='IsoFor') & (df.feature_type=='PSD_raw')\n",
    "mask4 = (df.model_type=='SVM') & (df.feature_type=='PSD_raw')\n",
    "df = df[mask1 | mask2 | mask3 | mask4]\n",
    "df = df.dropna(axis=1, thresh=1)\n"
   ]
  },
  {
   "cell_type": "code",
   "execution_count": 10,
   "metadata": {},
   "outputs": [],
   "source": [
    "df = df.sort_values(by='roc_auc_aggr', ascending=False).drop_duplicates(subset=['machine', 'ID', 'SNR', 'model_type', 'feature_type'], keep='first')"
   ]
  },
  {
   "cell_type": "code",
   "execution_count": 11,
   "metadata": {},
   "outputs": [
    {
     "output_type": "stream",
     "name": "stdout",
     "text": "6dB fan 00 existing: [('IsoFor', 'MEL_den'), ('AutoEnc', 'MEL_den'), ('IsoFor', 'PSD_raw')]\n6dB fan 02 existing: [('IsoFor', 'PSD_raw'), ('AutoEnc', 'MEL_den'), ('IsoFor', 'MEL_den')]\n6dB pump 00 existing: [('AutoEnc', 'MEL_den'), ('IsoFor', 'MEL_den'), ('IsoFor', 'PSD_raw')]\n6dB pump 02 existing: [('IsoFor', 'MEL_den'), ('AutoEnc', 'MEL_den'), ('IsoFor', 'PSD_raw')]\n6dB slider 00 existing: [('IsoFor', 'PSD_raw'), ('IsoFor', 'MEL_den'), ('AutoEnc', 'MEL_den')]\n6dB slider 02 existing: [('IsoFor', 'PSD_raw'), ('AutoEnc', 'MEL_den'), ('IsoFor', 'MEL_den')]\n6dB valve 00 existing: [('AutoEnc', 'MEL_den'), ('IsoFor', 'MEL_den'), ('IsoFor', 'PSD_raw')]\n6dB valve 02 existing: [('IsoFor', 'PSD_raw'), ('AutoEnc', 'MEL_den'), ('IsoFor', 'MEL_den')]\n"
    }
   ],
   "source": [
    "for SNR in ['6dB', 'min6dB']:\n",
    "    for machine in ['fan', 'pump', 'slider', 'valve']:\n",
    "        for ID in ['00', '02']:\n",
    "            df_tmp = df[(df.machine==machine) & (df.SNR==SNR) & (df.ID==ID)]\n",
    "            if df_tmp.shape[0] != 4:\n",
    "                print(SNR, machine, ID, 'existing:', [(row.model_type, row.feature_type) for _, row in df_tmp.iterrows()])"
   ]
  },
  {
   "cell_type": "code",
   "execution_count": 12,
   "metadata": {},
   "outputs": [],
   "source": [
    "ensemble_pipes_selection = {}\n",
    "for SNR in ['6dB', 'min6dB']:\n",
    "    for machine in ['fan', 'pump', 'slider', 'valve']:\n",
    "        for ID in ['00', '02']:\n",
    "            ensemble_pipes_selection[SNR+machine+ID] = []\n",
    "            df_tmp = df[(df.machine==machine) & (df.SNR==SNR) & (df.ID==ID)]\n",
    "            for _, row in df_tmp.iterrows():\n",
    "                with open(row.model_path, 'rb') as f:\n",
    "                    ensemble_pipes_selection[SNR+machine+ID].append(pickle.load(f))\n"
   ]
  },
  {
   "cell_type": "code",
   "execution_count": 15,
   "metadata": {
    "tags": [
     "outputPrepend",
     "outputPrepend",
     "outputPrepend",
     "outputPrepend",
     "outputPrepend",
     "outputPrepend",
     "outputPrepend",
     "outputPrepend",
     "outputPrepend",
     "outputPrepend",
     "outputPrepend",
     "outputPrepend",
     "outputPrepend",
     "outputPrepend",
     "outputPrepend",
     "outputPrepend",
     "outputPrepend",
     "outputPrepend",
     "outputPrepend",
     "outputPrepend",
     "outputPrepend",
     "outputPrepend",
     "outputPrepend",
     "outputPrepend",
     "outputPrepend",
     "outputPrepend",
     "outputPrepend",
     "outputPrepend",
     "outputPrepend",
     "outputPrepend",
     "outputPrepend",
     "outputPrepend",
     "outputPrepend",
     "outputPrepend",
     "outputPrepend",
     "outputPrepend",
     "outputPrepend",
     "outputPrepend",
     "outputPrepend",
     "outputPrepend",
     "outputPrepend",
     "outputPrepend",
     "outputPrepend",
     "outputPrepend",
     "outputPrepend",
     "outputPrepend",
     "outputPrepend",
     "outputPrepend",
     "outputPrepend",
     "outputPrepend",
     "outputPrepend",
     "outputPrepend",
     "outputPrepend",
     "outputPrepend",
     "outputPrepend",
     "outputPrepend",
     "outputPrepend",
     "outputPrepend",
     "outputPrepend",
     "outputPrepend",
     "outputPrepend",
     "outputPrepend",
     "outputPrepend",
     "outputPrepend",
     "outputPrepend",
     "outputPrepend",
     "outputPrepend",
     "outputPrepend",
     "outputPrepend",
     "outputPrepend",
     "outputPrepend",
     "outputPrepend",
     "outputPrepend",
     "outputPrepend",
     "outputPrepend",
     "outputPrepend",
     "outputPrepend"
    ]
   },
   "outputs": [
    {
     "output_type": "stream",
     "name": "stdout",
     "text": "../..//dataset\\extdia_v1\\fanmin6dB00_EDiaV1HP_pandaDisc.pkl --> Done\n...loading data\ndata loading completed\n\n...preprocessing data\ndata preprocessing finished\n\n...fitting the model\n{'path_descr': '../..//dataset\\\\extdia_v1\\\\fanmin6dB00_EDiaV1HP_pandaDisc.pkl', 'feat': {'function': 'flat'}, 'feat_col': 'PSD_raw', 'SNR': 'min6dB', 'machine': 'fan', 'ID': '00', 'BASE_FOLDER': '../../'}\n../..//dataset\\extdia_v1\\fanmin6dB02_EDiaV1HP_pandaDisc.pkl --> Done\n...loading data\ndata loading completed\n\n...preprocessing data\ndata preprocessing finished\n\n...fitting the model\n{'path_descr': '../..//dataset\\\\extdia_v1\\\\fanmin6dB02_EDiaV1HP_pandaDisc.pkl', 'feat': {'function': 'flat'}, 'feat_col': 'PSD_raw', 'SNR': 'min6dB', 'machine': 'fan', 'ID': '02', 'BASE_FOLDER': '../../'}\n../..//dataset\\extdia_v1\\pumpmin6dB02_EDiaV1HP_pandaDisc.pkl --> Done\n...loading data\ndata loading completed\n\n...preprocessing data\ndata preprocessing finished\n\n...fitting the model\n{'path_descr': '../..//dataset\\\\extdia_v1\\\\pumpmin6dB02_EDiaV1HP_pandaDisc.pkl', 'feat': {'function': 'flat'}, 'feat_col': 'PSD_raw', 'SNR': 'min6dB', 'machine': 'pump', 'ID': '02', 'BASE_FOLDER': '../../'}\n../..//dataset\\extdia_v1\\slidermin6dB00_EDiaV1HP_pandaDisc.pkl --> Done\n...loading data\ndata loading completed\n\n...preprocessing data\ndata preprocessing finished\n\n...fitting the model\n{'path_descr': '../..//dataset\\\\extdia_v1\\\\slidermin6dB00_EDiaV1HP_pandaDisc.pkl', 'feat': {'function': 'flat'}, 'feat_col': 'PSD_raw', 'SNR': 'min6dB', 'machine': 'slider', 'ID': '00', 'BASE_FOLDER': '../../'}\n../..//dataset\\extdia_v1\\slidermin6dB02_EDiaV1HP_pandaDisc.pkl --> Done\n...loading data\ndata loading completed\n\n...preprocessing data\ndata preprocessing finished\n\n...fitting the model\n{'path_descr': '../..//dataset\\\\extdia_v1\\\\slidermin6dB02_EDiaV1HP_pandaDisc.pkl', 'feat': {'function': 'flat'}, 'feat_col': 'PSD_raw', 'SNR': 'min6dB', 'machine': 'slider', 'ID': '02', 'BASE_FOLDER': '../../'}\n../..//dataset\\extdia_v1\\valvemin6dB00_EDiaV1HPTsSl_pandaDisc.pkl --> Done\n...loading data\ndata loading completed\n\n...preprocessing data\ndata preprocessing finished\n\n...fitting the model\n{'path_descr': '../..//dataset\\\\extdia_v1\\\\valvemin6dB00_EDiaV1HPTsSl_pandaDisc.pkl', 'feat': {'function': 'flat'}, 'feat_col': 'PSD_raw', 'SNR': 'min6dB', 'machine': 'valve', 'ID': '00', 'BASE_FOLDER': '../../'}\n../..//dataset\\extdia_v1\\valvemin6dB00_EDiaV1HPTsSl_pandaDisc.pkl --> Done\n...loading data\ndata loading completed\n\n...preprocessing data\ndata preprocessing finished\n\n...fitting the model\nEpoch 1/50\n527/527 [==============================] - 8s 14ms/step - loss: 0.9449\nEpoch 2/50\n527/527 [==============================] - 5s 9ms/step - loss: 0.8806\nEpoch 3/50\n527/527 [==============================] - 5s 9ms/step - loss: 0.8348\nEpoch 4/50\n527/527 [==============================] - 5s 10ms/step - loss: 0.8018\nEpoch 5/50\n527/527 [==============================] - 5s 9ms/step - loss: 0.7818\nEpoch 6/50\n527/527 [==============================] - 5s 9ms/step - loss: 0.7670\nEpoch 7/50\n527/527 [==============================] - 5s 9ms/step - loss: 0.7555\nEpoch 8/50\n527/527 [==============================] - 5s 9ms/step - loss: 0.7465\nEpoch 9/50\n527/527 [==============================] - 5s 9ms/step - loss: 0.7388\nEpoch 10/50\n527/527 [==============================] - 5s 9ms/step - loss: 0.7325\nEpoch 11/50\n527/527 [==============================] - 5s 9ms/step - loss: 0.7277\nEpoch 12/50\n527/527 [==============================] - 5s 10ms/step - loss: 0.7224\nEpoch 13/50\n527/527 [==============================] - 5s 9ms/step - loss: 0.7177\nEpoch 14/50\n527/527 [==============================] - 5s 9ms/step - loss: 0.7141\nEpoch 15/50\n527/527 [==============================] - 5s 9ms/step - loss: 0.7103\nEpoch 16/50\n527/527 [==============================] - 5s 9ms/step - loss: 0.7065\nEpoch 17/50\n527/527 [==============================] - 5s 9ms/step - loss: 0.7030\nEpoch 18/50\n527/527 [==============================] - 5s 9ms/step - loss: 0.6997\nEpoch 19/50\n527/527 [==============================] - 5s 9ms/step - loss: 0.6973\nEpoch 20/50\n527/527 [==============================] - 5s 9ms/step - loss: 0.6945\nEpoch 21/50\n527/527 [==============================] - 5s 9ms/step - loss: 0.6923\nEpoch 22/50\n527/527 [==============================] - 5s 9ms/step - loss: 0.6901\nEpoch 23/50\n527/527 [==============================] - 5s 9ms/step - loss: 0.6876\nEpoch 24/50\n527/527 [==============================] - 5s 9ms/step - loss: 0.6854\nEpoch 25/50\n527/527 [==============================] - 5s 10ms/step - loss: 0.6831\nEpoch 26/50\n527/527 [==============================] - 7s 14ms/step - loss: 0.6810\nEpoch 27/50\n527/527 [==============================] - 6s 12ms/step - loss: 0.6781\nEpoch 28/50\n527/527 [==============================] - 5s 9ms/step - loss: 0.6754\nEpoch 29/50\n527/527 [==============================] - 4s 8ms/step - loss: 0.6730\nEpoch 30/50\n527/527 [==============================] - 5s 9ms/step - loss: 0.6702\nEpoch 31/50\n527/527 [==============================] - 5s 10ms/step - loss: 0.6677\nEpoch 32/50\n527/527 [==============================] - 5s 10ms/step - loss: 0.6654\nEpoch 33/50\n527/527 [==============================] - 5s 9ms/step - loss: 0.6632\nEpoch 34/50\n527/527 [==============================] - 5s 9ms/step - loss: 0.6617\nEpoch 35/50\n527/527 [==============================] - 5s 9ms/step - loss: 0.6602\nEpoch 36/50\n527/527 [==============================] - 5s 9ms/step - loss: 0.6588\nEpoch 37/50\n527/527 [==============================] - 5s 9ms/step - loss: 0.6578\nEpoch 38/50\n527/527 [==============================] - 5s 9ms/step - loss: 0.6563\nEpoch 39/50\n527/527 [==============================] - 5s 9ms/step - loss: 0.6548\nEpoch 40/50\n527/527 [==============================] - 5s 10ms/step - loss: 0.6539\nEpoch 41/50\n527/527 [==============================] - 5s 9ms/step - loss: 0.6522\nEpoch 42/50\n527/527 [==============================] - 5s 9ms/step - loss: 0.6515\nEpoch 43/50\n527/527 [==============================] - 5s 9ms/step - loss: 0.6505\nEpoch 44/50\n527/527 [==============================] - 5s 9ms/step - loss: 0.6495\nEpoch 45/50\n527/527 [==============================] - 5s 9ms/step - loss: 0.6485\nEpoch 46/50\n527/527 [==============================] - 5s 9ms/step - loss: 0.6475\nEpoch 47/50\n527/527 [==============================] - 5s 9ms/step - loss: 0.6463\nEpoch 48/50\n527/527 [==============================] - 5s 9ms/step - loss: 0.6458\nEpoch 49/50\n527/527 [==============================] - 5s 9ms/step - loss: 0.6447\nEpoch 50/50\n527/527 [==============================] - 5s 9ms/step - loss: 0.6445\nmodel fitted successfully\n\n...evaluating model\nevaluation successfull, roc_auc: 0.7165327526163305\npipe saved to pickle\n../..//dataset\\extdia_v1\\valvemin6dB00_EDiaV1HPTsSl_pandaDisc.pkl --> Done\n...loading data\ndata loading completed\n\n...preprocessing data\ndata preprocessing finished\n\n...fitting the model\nmodel fitted successfully\n\n...evaluating model\nevaluation successfull, roc_auc: 0.5973129643414159\npipe saved to pickle\n../..//dataset\\extdia_v1\\valvemin6dB00_EDiaV1HPTsSl_pandaDisc.pkl --> Done\n...loading data\ndata loading completed\n\n...preprocessing data\ndata preprocessing finished\n\n...fitting the model\nmodel fitted successfully\n\n...evaluating model\nevaluation successfull, roc_auc: 0.4929030435703693\npipe saved to pickle\n../..//dataset\\extdia_v1\\valvemin6dB02_EDiaV1HPTsSl_pandaDisc.pkl --> Done\n...loading data\ndata loading completed\n\n...preprocessing data\ndata preprocessing finished\n\n...fitting the model\nmodel fitted successfully\n\n...evaluating model\nevaluation successfull, roc_auc: 0.8995138888888888\npipe saved to pickle\n../..//dataset\\extdia_v1\\valvemin6dB02_EDiaV1HPTsSl_pandaDisc.pkl --> Done\n...loading data\ndata loading completed\n\n...preprocessing data\ndata preprocessing finished\n\n...fitting the model\n{'path_descr': '../..//dataset\\\\extdia_v1\\\\valvemin6dB02_EDiaV1HPTsSl_pandaDisc.pkl', 'feat': {'function': 'flat'}, 'feat_col': 'PSD_raw', 'SNR': 'min6dB', 'machine': 'valve', 'ID': '02', 'BASE_FOLDER': '../../'}\n../..//dataset\\extdia_v1\\valvemin6dB02_EDiaV1HPTsSl_pandaDisc.pkl --> Done\n...loading data\ndata loading completed\n\n...preprocessing data\ndata preprocessing finished\n\n...fitting the model\nmodel fitted successfully\n\n...evaluating model\nevaluation successfull, roc_auc: 0.6725361355801165\npipe saved to pickle\n../..//dataset\\extdia_v1\\valvemin6dB02_EDiaV1HPTsSl_pandaDisc.pkl --> Done\n...loading data\ndata loading completed\n\n...preprocessing data\ndata preprocessing finished\n\n...fitting the model\nEpoch 1/50\n355/355 [==============================] - 5s 14ms/step - loss: 0.9462\nEpoch 2/50\n355/355 [==============================] - 3s 9ms/step - loss: 0.8863\nEpoch 3/50\n355/355 [==============================] - 3s 9ms/step - loss: 0.8492\nEpoch 4/50\n355/355 [==============================] - 3s 9ms/step - loss: 0.8210\nEpoch 5/50\n355/355 [==============================] - 3s 9ms/step - loss: 0.7989\nEpoch 6/50\n355/355 [==============================] - 3s 9ms/step - loss: 0.7783\nEpoch 7/50\n355/355 [==============================] - 3s 9ms/step - loss: 0.7629\nEpoch 8/50\n355/355 [==============================] - 3s 9ms/step - loss: 0.7517\nEpoch 9/50\n355/355 [==============================] - 3s 9ms/step - loss: 0.7415\nEpoch 10/50\n355/355 [==============================] - 3s 9ms/step - loss: 0.7333\nEpoch 11/50\n355/355 [==============================] - 3s 9ms/step - loss: 0.7261\nEpoch 12/50\n355/355 [==============================] - 3s 9ms/step - loss: 0.7204\nEpoch 13/50\n355/355 [==============================] - 3s 9ms/step - loss: 0.7154\nEpoch 14/50\n355/355 [==============================] - 3s 9ms/step - loss: 0.7105\nEpoch 15/50\n355/355 [==============================] - 3s 9ms/step - loss: 0.7058\nEpoch 16/50\n355/355 [==============================] - 3s 9ms/step - loss: 0.7014\nEpoch 17/50\n355/355 [==============================] - 3s 9ms/step - loss: 0.6977\nEpoch 18/50\n355/355 [==============================] - 3s 9ms/step - loss: 0.6949\nEpoch 19/50\n355/355 [==============================] - 3s 10ms/step - loss: 0.6924\nEpoch 20/50\n355/355 [==============================] - 3s 10ms/step - loss: 0.6897\nEpoch 21/50\n355/355 [==============================] - 4s 10ms/step - loss: 0.6868\nEpoch 22/50\n355/355 [==============================] - 3s 9ms/step - loss: 0.6846\nEpoch 23/50\n355/355 [==============================] - 3s 9ms/step - loss: 0.6819\nEpoch 24/50\n355/355 [==============================] - 3s 9ms/step - loss: 0.6799\nEpoch 25/50\n355/355 [==============================] - 3s 9ms/step - loss: 0.6781\nEpoch 26/50\n355/355 [==============================] - 3s 9ms/step - loss: 0.6760\nEpoch 27/50\n355/355 [==============================] - 3s 9ms/step - loss: 0.6739\nEpoch 28/50\n355/355 [==============================] - 3s 9ms/step - loss: 0.6725\nEpoch 29/50\n355/355 [==============================] - 3s 9ms/step - loss: 0.6706\nEpoch 30/50\n355/355 [==============================] - 3s 9ms/step - loss: 0.6691\nEpoch 31/50\n355/355 [==============================] - 3s 9ms/step - loss: 0.6676\nEpoch 32/50\n355/355 [==============================] - 3s 9ms/step - loss: 0.6660\nEpoch 33/50\n355/355 [==============================] - 3s 10ms/step - loss: 0.6648\nEpoch 34/50\n355/355 [==============================] - 4s 10ms/step - loss: 0.6632\nEpoch 35/50\n355/355 [==============================] - 4s 10ms/step - loss: 0.6622\nEpoch 36/50\n355/355 [==============================] - 4s 10ms/step - loss: 0.6611\nEpoch 37/50\n355/355 [==============================] - 3s 10ms/step - loss: 0.6600\nEpoch 38/50\n355/355 [==============================] - 4s 10ms/step - loss: 0.6591\nEpoch 39/50\n355/355 [==============================] - 3s 10ms/step - loss: 0.6578\nEpoch 40/50\n355/355 [==============================] - 3s 9ms/step - loss: 0.6564\nEpoch 41/50\n355/355 [==============================] - 3s 9ms/step - loss: 0.6557\nEpoch 42/50\n355/355 [==============================] - 3s 9ms/step - loss: 0.6548\nEpoch 43/50\n355/355 [==============================] - 3s 9ms/step - loss: 0.6536\nEpoch 44/50\n355/355 [==============================] - 3s 9ms/step - loss: 0.6530\nEpoch 45/50\n355/355 [==============================] - 3s 9ms/step - loss: 0.6519\nEpoch 46/50\n355/355 [==============================] - 3s 10ms/step - loss: 0.6509\nEpoch 47/50\n355/355 [==============================] - 3s 9ms/step - loss: 0.6503\nEpoch 48/50\n355/355 [==============================] - 3s 9ms/step - loss: 0.6495\nEpoch 49/50\n355/355 [==============================] - 4s 10ms/step - loss: 0.6485\nEpoch 50/50\n355/355 [==============================] - 3s 9ms/step - loss: 0.6476\nmodel fitted successfully\n\n...evaluating model\nevaluation successfull, roc_auc: 0.6836792063924294\npipe saved to pickle\n"
    }
   ],
   "source": [
    "for ensemble_key, ensemble in ensemble_pipes_selection.items():\n",
    "    for i, pipe in enumerate(ensemble):\n",
    "        if not glob.glob(pipe.filepath[0:60] + '*'):\n",
    "            old_path = pipe.filepath\n",
    "            pipe.model = pipe._mdl(**pipe.model_args)\n",
    "            #print(pipe.task)\n",
    "            try:\n",
    "                pipe.task['path_descr'] = glob.glob(BASE_FOLDER \n",
    "                                #+ '/dataset/extdia_v1*/{}{}{}_EDiaV1*aug'.format(pipe.task['machine'], pipe.task['SNR'], pipe.task['ID'])\n",
    "                                + '/dataset/extdia_v1*/{}{}{}_EDiaV1'.format(pipe.task['machine'], pipe.task['SNR'], pipe.task['ID'])\n",
    "                                + \"*pandaDisc*.pkl\", recursive=True)[0]\n",
    "            except:\n",
    "                pipe.task['path_descr'] = glob.glob(BASE_FOLDER \n",
    "                                + '/dataset/extdia_v1*/{}{}{}_EDiaV1'.format(pipe.task['machine'], pipe.task['SNR'], pipe.task['ID'])\n",
    "                                + \"*pandaDisc*.pkl\", recursive=True)[0]\n",
    "            try:\n",
    "                pipe.run_pipe(pipe.task)\n",
    "            except:\n",
    "                print(pipe.task)"
   ]
  },
  {
   "cell_type": "code",
   "execution_count": 28,
   "metadata": {},
   "outputs": [],
   "source": [
    "ensemble_pipes = {}\n",
    "paths = {}\n",
    "for SNR in ['6dB', 'min6dB']:\n",
    "    for machine in ['fan', 'pump', 'slider', 'valve']:\n",
    "        for ID in ['00', '02']:\n",
    "            paths[SNR+machine+ID] = glob.glob(BASE_FOLDER + 'modeling/ensemble/pipes/*_{}_{}_ID{}*.pkl'.format(SNR,machine,ID))\n",
    "            ensemble_pipes[SNR+machine+ID] = []\n",
    "            for path in paths[SNR+machine+ID]:\n",
    "                with open(path, 'rb') as f:\n",
    "                    ensemble_pipes[SNR+machine+ID].append(pickle.load(f))\n",
    "\n"
   ]
  },
  {
   "cell_type": "code",
   "execution_count": 87,
   "metadata": {
    "tags": [
     "outputPrepend",
     "outputPrepend",
     "outputPrepend",
     "outputPrepend"
    ]
   },
   "outputs": [],
   "source": [
    "ensemble_dfs = {}\n",
    "for ensemble_key, ensemble in ensemble_pipes.items():\n",
    "    for i, pipe in enumerate(ensemble):\n",
    "        if i==0:\n",
    "            ensemble_dfs[ensemble_key] = pd.DataFrame(pipe.df_test.groupby(by='path').sum().pred_scores.rename(pipe.model.name+'_'+pipe.task['feat_col']+'_pred_scores').reindex())\n",
    "            ground_truth = pipe.df_test.groupby(by='path').median().abnormal.rename('ground_truth')\n",
    "        else:\n",
    "            ensemble_dfs[ensemble_key] = ensemble_dfs[ensemble_key].join(pipe.df_test.groupby(by='path').sum().pred_scores.rename(pipe.model.name+'_'+pipe.task['feat_col']+'_pred_scores'))\n",
    "    s_tmp = pd.Series(np.zeros(ensemble_dfs[ensemble_key].iloc[:,0].shape), index=ensemble_dfs[ensemble_key].index)\n",
    "    for col in ensemble_dfs[ensemble_key].columns:\n",
    "        # \n",
    "        s_tmp = s_tmp + (ensemble_dfs[ensemble_key][col] - ensemble_dfs[ensemble_key][col].mean())/ensemble_dfs[ensemble_key][col].std()\n",
    "        # \n",
    "    ensemble_dfs[ensemble_key] = ensemble_dfs[ensemble_key].join(s_tmp.rename('score_agg'))\n",
    "    ensemble_dfs[ensemble_key] = ensemble_dfs[ensemble_key].join(ground_truth.replace(to_replace=1, value=-1).replace(to_replace=0, value=1))"
   ]
  },
  {
   "cell_type": "code",
   "execution_count": 111,
   "metadata": {},
   "outputs": [],
   "source": [
    "results = pd.DataFrame([])\n",
    "for ensemble_key, ensemble in ensemble_dfs.items():\n",
    "    data = [roc_auc_score(dfs_ensemble[ensemble_key].ground_truth, dfs_ensemble[ensemble_key].score_agg)]\n",
    "    cols = ['score_aggr']\n",
    "    for pipe in ensemble_pipes[ensemble_key]:\n",
    "        data.append(pipe.roc_auc)\n",
    "        cols.append('score_'+pipe.model.name+pipe.task['feat_col'])\n",
    "    results = results.append(pd.DataFrame(data=[data], columns=cols, index=[ensemble_key]))"
   ]
  },
  {
   "cell_type": "code",
   "execution_count": 113,
   "metadata": {},
   "outputs": [
    {
     "output_type": "execute_result",
     "data": {
      "text/plain": "                                                   IsoFor_MEL_den_pred_scores  \\\npath                                                                            \n\\dataset\\min6dB\\valve\\id_02\\abnormal\\00000000.wav                   16.135058   \n\\dataset\\min6dB\\valve\\id_02\\abnormal\\00000001.wav                   11.920137   \n\\dataset\\min6dB\\valve\\id_02\\abnormal\\00000002.wav                   20.571625   \n\\dataset\\min6dB\\valve\\id_02\\abnormal\\00000003.wav                   12.583695   \n\\dataset\\min6dB\\valve\\id_02\\abnormal\\00000004.wav                   16.926014   \n...                                                                       ...   \n\\dataset\\min6dB\\valve\\id_02\\normal\\00000674.wav                     18.140503   \n\\dataset\\min6dB\\valve\\id_02\\normal\\00000677.wav                     14.346098   \n\\dataset\\min6dB\\valve\\id_02\\normal\\00000681.wav                      5.286752   \n\\dataset\\min6dB\\valve\\id_02\\normal\\00000683.wav                     22.830955   \n\\dataset\\min6dB\\valve\\id_02\\normal\\00000685.wav                      6.547171   \n\n                                                   AutoEnc_MEL_den_pred_scores  \\\npath                                                                             \n\\dataset\\min6dB\\valve\\id_02\\abnormal\\00000000.wav                  -283.511700   \n\\dataset\\min6dB\\valve\\id_02\\abnormal\\00000001.wav                  -384.805768   \n\\dataset\\min6dB\\valve\\id_02\\abnormal\\00000002.wav                  -242.225129   \n\\dataset\\min6dB\\valve\\id_02\\abnormal\\00000003.wav                  -271.428759   \n\\dataset\\min6dB\\valve\\id_02\\abnormal\\00000004.wav                  -253.893691   \n...                                                                        ...   \n\\dataset\\min6dB\\valve\\id_02\\normal\\00000674.wav                    -261.547330   \n\\dataset\\min6dB\\valve\\id_02\\normal\\00000677.wav                    -352.995391   \n\\dataset\\min6dB\\valve\\id_02\\normal\\00000681.wav                    -442.490077   \n\\dataset\\min6dB\\valve\\id_02\\normal\\00000683.wav                    -167.425202   \n\\dataset\\min6dB\\valve\\id_02\\normal\\00000685.wav                    -256.319418   \n\n                                                   IsoFor_PSD_raw_pred_scores  \\\npath                                                                            \n\\dataset\\min6dB\\valve\\id_02\\abnormal\\00000000.wav                    0.056578   \n\\dataset\\min6dB\\valve\\id_02\\abnormal\\00000001.wav                    0.052994   \n\\dataset\\min6dB\\valve\\id_02\\abnormal\\00000002.wav                   -0.043405   \n\\dataset\\min6dB\\valve\\id_02\\abnormal\\00000003.wav                   -0.036103   \n\\dataset\\min6dB\\valve\\id_02\\abnormal\\00000004.wav                   -0.028628   \n...                                                                       ...   \n\\dataset\\min6dB\\valve\\id_02\\normal\\00000674.wav                      0.056460   \n\\dataset\\min6dB\\valve\\id_02\\normal\\00000677.wav                      0.055956   \n\\dataset\\min6dB\\valve\\id_02\\normal\\00000681.wav                      0.002638   \n\\dataset\\min6dB\\valve\\id_02\\normal\\00000683.wav                      0.062338   \n\\dataset\\min6dB\\valve\\id_02\\normal\\00000685.wav                      0.033616   \n\n                                                   score_agg  ground_truth  \npath                                                                        \n\\dataset\\min6dB\\valve\\id_02\\abnormal\\00000000.wav   1.024252          -1.0  \n\\dataset\\min6dB\\valve\\id_02\\abnormal\\00000001.wav  -1.094628          -1.0  \n\\dataset\\min6dB\\valve\\id_02\\abnormal\\00000002.wav   0.589782          -1.0  \n\\dataset\\min6dB\\valve\\id_02\\abnormal\\00000003.wav  -1.171733          -1.0  \n\\dataset\\min6dB\\valve\\id_02\\abnormal\\00000004.wav   0.011575          -1.0  \n...                                                      ...           ...  \n\\dataset\\min6dB\\valve\\id_02\\normal\\00000674.wav     1.677182           1.0  \n\\dataset\\min6dB\\valve\\id_02\\normal\\00000677.wav    -0.184660           1.0  \n\\dataset\\min6dB\\valve\\id_02\\normal\\00000681.wav    -3.980705           1.0  \n\\dataset\\min6dB\\valve\\id_02\\normal\\00000683.wav     3.840312           1.0  \n\\dataset\\min6dB\\valve\\id_02\\normal\\00000685.wav    -0.893982           1.0  \n\n[240 rows x 5 columns]",
      "text/html": "<div>\n<style scoped>\n    .dataframe tbody tr th:only-of-type {\n        vertical-align: middle;\n    }\n\n    .dataframe tbody tr th {\n        vertical-align: top;\n    }\n\n    .dataframe thead th {\n        text-align: right;\n    }\n</style>\n<table border=\"1\" class=\"dataframe\">\n  <thead>\n    <tr style=\"text-align: right;\">\n      <th></th>\n      <th>IsoFor_MEL_den_pred_scores</th>\n      <th>AutoEnc_MEL_den_pred_scores</th>\n      <th>IsoFor_PSD_raw_pred_scores</th>\n      <th>score_agg</th>\n      <th>ground_truth</th>\n    </tr>\n    <tr>\n      <th>path</th>\n      <th></th>\n      <th></th>\n      <th></th>\n      <th></th>\n      <th></th>\n    </tr>\n  </thead>\n  <tbody>\n    <tr>\n      <th>\\dataset\\min6dB\\valve\\id_02\\abnormal\\00000000.wav</th>\n      <td>16.135058</td>\n      <td>-283.511700</td>\n      <td>0.056578</td>\n      <td>1.024252</td>\n      <td>-1.0</td>\n    </tr>\n    <tr>\n      <th>\\dataset\\min6dB\\valve\\id_02\\abnormal\\00000001.wav</th>\n      <td>11.920137</td>\n      <td>-384.805768</td>\n      <td>0.052994</td>\n      <td>-1.094628</td>\n      <td>-1.0</td>\n    </tr>\n    <tr>\n      <th>\\dataset\\min6dB\\valve\\id_02\\abnormal\\00000002.wav</th>\n      <td>20.571625</td>\n      <td>-242.225129</td>\n      <td>-0.043405</td>\n      <td>0.589782</td>\n      <td>-1.0</td>\n    </tr>\n    <tr>\n      <th>\\dataset\\min6dB\\valve\\id_02\\abnormal\\00000003.wav</th>\n      <td>12.583695</td>\n      <td>-271.428759</td>\n      <td>-0.036103</td>\n      <td>-1.171733</td>\n      <td>-1.0</td>\n    </tr>\n    <tr>\n      <th>\\dataset\\min6dB\\valve\\id_02\\abnormal\\00000004.wav</th>\n      <td>16.926014</td>\n      <td>-253.893691</td>\n      <td>-0.028628</td>\n      <td>0.011575</td>\n      <td>-1.0</td>\n    </tr>\n    <tr>\n      <th>...</th>\n      <td>...</td>\n      <td>...</td>\n      <td>...</td>\n      <td>...</td>\n      <td>...</td>\n    </tr>\n    <tr>\n      <th>\\dataset\\min6dB\\valve\\id_02\\normal\\00000674.wav</th>\n      <td>18.140503</td>\n      <td>-261.547330</td>\n      <td>0.056460</td>\n      <td>1.677182</td>\n      <td>1.0</td>\n    </tr>\n    <tr>\n      <th>\\dataset\\min6dB\\valve\\id_02\\normal\\00000677.wav</th>\n      <td>14.346098</td>\n      <td>-352.995391</td>\n      <td>0.055956</td>\n      <td>-0.184660</td>\n      <td>1.0</td>\n    </tr>\n    <tr>\n      <th>\\dataset\\min6dB\\valve\\id_02\\normal\\00000681.wav</th>\n      <td>5.286752</td>\n      <td>-442.490077</td>\n      <td>0.002638</td>\n      <td>-3.980705</td>\n      <td>1.0</td>\n    </tr>\n    <tr>\n      <th>\\dataset\\min6dB\\valve\\id_02\\normal\\00000683.wav</th>\n      <td>22.830955</td>\n      <td>-167.425202</td>\n      <td>0.062338</td>\n      <td>3.840312</td>\n      <td>1.0</td>\n    </tr>\n    <tr>\n      <th>\\dataset\\min6dB\\valve\\id_02\\normal\\00000685.wav</th>\n      <td>6.547171</td>\n      <td>-256.319418</td>\n      <td>0.033616</td>\n      <td>-0.893982</td>\n      <td>1.0</td>\n    </tr>\n  </tbody>\n</table>\n<p>240 rows × 5 columns</p>\n</div>"
     },
     "metadata": {},
     "execution_count": 113
    }
   ],
   "source": [
    "ensemble_dfs[ensemble_key]"
   ]
  },
  {
   "cell_type": "code",
   "execution_count": 112,
   "metadata": {},
   "outputs": [
    {
     "output_type": "execute_result",
     "data": {
      "text/plain": "                score_aggr  score_IsoForMEL_den  score_AutoEncMEL_den  \\\n6dBfan00          0.949526             0.921869              0.896751   \n6dBfan02          0.996423             0.908395              0.937136   \n6dBpump00         0.997213             0.954546              0.973876   \n6dBpump02         0.997565             0.980974              0.995676   \n6dBslider00       0.999613             0.926099              0.948102   \n6dBslider02       0.999565             0.962113              0.974433   \n6dBvalve00        0.846197             0.868537              0.941752   \n6dBvalve02        0.997639             0.823805              0.909417   \nmin6dBfan00       0.554401             0.541677              0.579596   \nmin6dBfan02       0.793181             0.752485              0.790969   \nmin6dBpump00      0.795393             0.668069              0.693059   \nmin6dBpump02      0.850824             0.753051              0.779847   \nmin6dBslider00    0.972636             0.783647              0.859145   \nmin6dBslider02    0.824587             0.792883              0.842729   \nmin6dBvalve00     0.621143             0.597313              0.716533   \nmin6dBvalve02     0.838611             0.672536              0.683679   \n\n                score_IsoForPSD_raw  \n6dBfan00                   0.895049  \n6dBfan02                   0.993428  \n6dBpump00                  0.919018  \n6dBpump02                  0.984660  \n6dBslider00                1.000000  \n6dBslider02                0.998724  \n6dBvalve00                 0.342561  \n6dBvalve02                 0.998819  \nmin6dBfan00                0.513435  \nmin6dBfan02                0.690497  \nmin6dBpump00               0.786102  \nmin6dBpump02               0.901226  \nmin6dBslider00             0.996512  \nmin6dBslider02             0.727041  \nmin6dBvalve00              0.492903  \nmin6dBvalve02              0.899514  ",
      "text/html": "<div>\n<style scoped>\n    .dataframe tbody tr th:only-of-type {\n        vertical-align: middle;\n    }\n\n    .dataframe tbody tr th {\n        vertical-align: top;\n    }\n\n    .dataframe thead th {\n        text-align: right;\n    }\n</style>\n<table border=\"1\" class=\"dataframe\">\n  <thead>\n    <tr style=\"text-align: right;\">\n      <th></th>\n      <th>score_aggr</th>\n      <th>score_IsoForMEL_den</th>\n      <th>score_AutoEncMEL_den</th>\n      <th>score_IsoForPSD_raw</th>\n    </tr>\n  </thead>\n  <tbody>\n    <tr>\n      <th>6dBfan00</th>\n      <td>0.949526</td>\n      <td>0.921869</td>\n      <td>0.896751</td>\n      <td>0.895049</td>\n    </tr>\n    <tr>\n      <th>6dBfan02</th>\n      <td>0.996423</td>\n      <td>0.908395</td>\n      <td>0.937136</td>\n      <td>0.993428</td>\n    </tr>\n    <tr>\n      <th>6dBpump00</th>\n      <td>0.997213</td>\n      <td>0.954546</td>\n      <td>0.973876</td>\n      <td>0.919018</td>\n    </tr>\n    <tr>\n      <th>6dBpump02</th>\n      <td>0.997565</td>\n      <td>0.980974</td>\n      <td>0.995676</td>\n      <td>0.984660</td>\n    </tr>\n    <tr>\n      <th>6dBslider00</th>\n      <td>0.999613</td>\n      <td>0.926099</td>\n      <td>0.948102</td>\n      <td>1.000000</td>\n    </tr>\n    <tr>\n      <th>6dBslider02</th>\n      <td>0.999565</td>\n      <td>0.962113</td>\n      <td>0.974433</td>\n      <td>0.998724</td>\n    </tr>\n    <tr>\n      <th>6dBvalve00</th>\n      <td>0.846197</td>\n      <td>0.868537</td>\n      <td>0.941752</td>\n      <td>0.342561</td>\n    </tr>\n    <tr>\n      <th>6dBvalve02</th>\n      <td>0.997639</td>\n      <td>0.823805</td>\n      <td>0.909417</td>\n      <td>0.998819</td>\n    </tr>\n    <tr>\n      <th>min6dBfan00</th>\n      <td>0.554401</td>\n      <td>0.541677</td>\n      <td>0.579596</td>\n      <td>0.513435</td>\n    </tr>\n    <tr>\n      <th>min6dBfan02</th>\n      <td>0.793181</td>\n      <td>0.752485</td>\n      <td>0.790969</td>\n      <td>0.690497</td>\n    </tr>\n    <tr>\n      <th>min6dBpump00</th>\n      <td>0.795393</td>\n      <td>0.668069</td>\n      <td>0.693059</td>\n      <td>0.786102</td>\n    </tr>\n    <tr>\n      <th>min6dBpump02</th>\n      <td>0.850824</td>\n      <td>0.753051</td>\n      <td>0.779847</td>\n      <td>0.901226</td>\n    </tr>\n    <tr>\n      <th>min6dBslider00</th>\n      <td>0.972636</td>\n      <td>0.783647</td>\n      <td>0.859145</td>\n      <td>0.996512</td>\n    </tr>\n    <tr>\n      <th>min6dBslider02</th>\n      <td>0.824587</td>\n      <td>0.792883</td>\n      <td>0.842729</td>\n      <td>0.727041</td>\n    </tr>\n    <tr>\n      <th>min6dBvalve00</th>\n      <td>0.621143</td>\n      <td>0.597313</td>\n      <td>0.716533</td>\n      <td>0.492903</td>\n    </tr>\n    <tr>\n      <th>min6dBvalve02</th>\n      <td>0.838611</td>\n      <td>0.672536</td>\n      <td>0.683679</td>\n      <td>0.899514</td>\n    </tr>\n  </tbody>\n</table>\n</div>"
     },
     "metadata": {},
     "execution_count": 112
    }
   ],
   "source": [
    "results"
   ]
  },
  {
   "cell_type": "code",
   "execution_count": 114,
   "metadata": {},
   "outputs": [
    {
     "output_type": "execute_result",
     "data": {
      "text/plain": "0.8451687995998449"
     },
     "metadata": {},
     "execution_count": 114
    }
   ],
   "source": [
    "results.score_AutoEncMEL_den.mean()"
   ]
  },
  {
   "cell_type": "code",
   "execution_count": 116,
   "metadata": {},
   "outputs": [
    {
     "output_type": "execute_result",
     "data": {
      "text/plain": "0.8067499748157827"
     },
     "metadata": {},
     "execution_count": 116
    }
   ],
   "source": [
    "results.score_IsoForMEL_den.mean()"
   ]
  },
  {
   "cell_type": "code",
   "execution_count": 117,
   "metadata": {},
   "outputs": [
    {
     "output_type": "execute_result",
     "data": {
      "text/plain": "0.8212180709891457"
     },
     "metadata": {},
     "execution_count": 117
    }
   ],
   "source": [
    "results.score_IsoForPSD_raw.mean()"
   ]
  },
  {
   "cell_type": "code",
   "execution_count": 63,
   "metadata": {},
   "outputs": [
    {
     "output_type": "execute_result",
     "data": {
      "text/plain": "                                                  IsoFor_MEL_den_pred_scores  \\\npath                                                                           \n\\dataset\\min6dB\\pump\\id_00\\abnormal\\00000000.wav                   25.929776   \n\\dataset\\min6dB\\pump\\id_00\\abnormal\\00000001.wav                   23.810519   \n\\dataset\\min6dB\\pump\\id_00\\abnormal\\00000002.wav                   24.797648   \n\\dataset\\min6dB\\pump\\id_00\\abnormal\\00000003.wav                   23.132294   \n\\dataset\\min6dB\\pump\\id_00\\abnormal\\00000004.wav                   18.750950   \n...                                                                      ...   \n\\dataset\\min6dB\\pump\\id_00\\normal\\00000954.wav                     24.595772   \n\\dataset\\min6dB\\pump\\id_00\\normal\\00000960.wav                     20.509992   \n\\dataset\\min6dB\\pump\\id_00\\normal\\00000973.wav                     19.892476   \n\\dataset\\min6dB\\pump\\id_00\\normal\\00000974.wav                     -1.823076   \n\\dataset\\min6dB\\pump\\id_00\\normal\\00000988.wav                     23.562210   \n\n                                                  AutoEnc_MEL_den_pred_scores  \\\npath                                                                            \n\\dataset\\min6dB\\pump\\id_00\\abnormal\\00000000.wav                  -170.771882   \n\\dataset\\min6dB\\pump\\id_00\\abnormal\\00000001.wav                  -220.127161   \n\\dataset\\min6dB\\pump\\id_00\\abnormal\\00000002.wav                  -172.900647   \n\\dataset\\min6dB\\pump\\id_00\\abnormal\\00000003.wav                  -213.091062   \n\\dataset\\min6dB\\pump\\id_00\\abnormal\\00000004.wav                  -242.141352   \n...                                                                       ...   \n\\dataset\\min6dB\\pump\\id_00\\normal\\00000954.wav                    -180.009419   \n\\dataset\\min6dB\\pump\\id_00\\normal\\00000960.wav                    -160.364949   \n\\dataset\\min6dB\\pump\\id_00\\normal\\00000973.wav                    -187.501463   \n\\dataset\\min6dB\\pump\\id_00\\normal\\00000974.wav                    -538.512740   \n\\dataset\\min6dB\\pump\\id_00\\normal\\00000988.wav                    -232.834365   \n\n                                                  IsoFor_PSD_raw_pred_scores  \\\npath                                                                           \n\\dataset\\min6dB\\pump\\id_00\\abnormal\\00000000.wav                    0.050644   \n\\dataset\\min6dB\\pump\\id_00\\abnormal\\00000001.wav                   -0.065106   \n\\dataset\\min6dB\\pump\\id_00\\abnormal\\00000002.wav                    0.086295   \n\\dataset\\min6dB\\pump\\id_00\\abnormal\\00000003.wav                   -0.040864   \n\\dataset\\min6dB\\pump\\id_00\\abnormal\\00000004.wav                    0.001273   \n...                                                                      ...   \n\\dataset\\min6dB\\pump\\id_00\\normal\\00000954.wav                      0.118014   \n\\dataset\\min6dB\\pump\\id_00\\normal\\00000960.wav                      0.126204   \n\\dataset\\min6dB\\pump\\id_00\\normal\\00000973.wav                      0.113700   \n\\dataset\\min6dB\\pump\\id_00\\normal\\00000974.wav                      0.106417   \n\\dataset\\min6dB\\pump\\id_00\\normal\\00000988.wav                      0.109352   \n\n                                                  score_agg  \npath                                                         \n\\dataset\\min6dB\\pump\\id_00\\abnormal\\00000000.wav   3.250660  \n\\dataset\\min6dB\\pump\\id_00\\abnormal\\00000001.wav  -5.056553  \n\\dataset\\min6dB\\pump\\id_00\\abnormal\\00000002.wav   4.355213  \n\\dataset\\min6dB\\pump\\id_00\\abnormal\\00000003.wav  -3.959239  \n\\dataset\\min6dB\\pump\\id_00\\abnormal\\00000004.wav  -5.025108  \n...                                                     ...  \n\\dataset\\min6dB\\pump\\id_00\\normal\\00000954.wav     5.527871  \n\\dataset\\min6dB\\pump\\id_00\\normal\\00000960.wav     4.713529  \n\\dataset\\min6dB\\pump\\id_00\\normal\\00000973.wav     2.854681  \n\\dataset\\min6dB\\pump\\id_00\\normal\\00000974.wav   -20.198280  \n\\dataset\\min6dB\\pump\\id_00\\normal\\00000988.wav     2.740053  \n\n[286 rows x 4 columns]",
      "text/html": "<div>\n<style scoped>\n    .dataframe tbody tr th:only-of-type {\n        vertical-align: middle;\n    }\n\n    .dataframe tbody tr th {\n        vertical-align: top;\n    }\n\n    .dataframe thead th {\n        text-align: right;\n    }\n</style>\n<table border=\"1\" class=\"dataframe\">\n  <thead>\n    <tr style=\"text-align: right;\">\n      <th></th>\n      <th>IsoFor_MEL_den_pred_scores</th>\n      <th>AutoEnc_MEL_den_pred_scores</th>\n      <th>IsoFor_PSD_raw_pred_scores</th>\n      <th>score_agg</th>\n    </tr>\n    <tr>\n      <th>path</th>\n      <th></th>\n      <th></th>\n      <th></th>\n      <th></th>\n    </tr>\n  </thead>\n  <tbody>\n    <tr>\n      <th>\\dataset\\min6dB\\pump\\id_00\\abnormal\\00000000.wav</th>\n      <td>25.929776</td>\n      <td>-170.771882</td>\n      <td>0.050644</td>\n      <td>3.250660</td>\n    </tr>\n    <tr>\n      <th>\\dataset\\min6dB\\pump\\id_00\\abnormal\\00000001.wav</th>\n      <td>23.810519</td>\n      <td>-220.127161</td>\n      <td>-0.065106</td>\n      <td>-5.056553</td>\n    </tr>\n    <tr>\n      <th>\\dataset\\min6dB\\pump\\id_00\\abnormal\\00000002.wav</th>\n      <td>24.797648</td>\n      <td>-172.900647</td>\n      <td>0.086295</td>\n      <td>4.355213</td>\n    </tr>\n    <tr>\n      <th>\\dataset\\min6dB\\pump\\id_00\\abnormal\\00000003.wav</th>\n      <td>23.132294</td>\n      <td>-213.091062</td>\n      <td>-0.040864</td>\n      <td>-3.959239</td>\n    </tr>\n    <tr>\n      <th>\\dataset\\min6dB\\pump\\id_00\\abnormal\\00000004.wav</th>\n      <td>18.750950</td>\n      <td>-242.141352</td>\n      <td>0.001273</td>\n      <td>-5.025108</td>\n    </tr>\n    <tr>\n      <th>...</th>\n      <td>...</td>\n      <td>...</td>\n      <td>...</td>\n      <td>...</td>\n    </tr>\n    <tr>\n      <th>\\dataset\\min6dB\\pump\\id_00\\normal\\00000954.wav</th>\n      <td>24.595772</td>\n      <td>-180.009419</td>\n      <td>0.118014</td>\n      <td>5.527871</td>\n    </tr>\n    <tr>\n      <th>\\dataset\\min6dB\\pump\\id_00\\normal\\00000960.wav</th>\n      <td>20.509992</td>\n      <td>-160.364949</td>\n      <td>0.126204</td>\n      <td>4.713529</td>\n    </tr>\n    <tr>\n      <th>\\dataset\\min6dB\\pump\\id_00\\normal\\00000973.wav</th>\n      <td>19.892476</td>\n      <td>-187.501463</td>\n      <td>0.113700</td>\n      <td>2.854681</td>\n    </tr>\n    <tr>\n      <th>\\dataset\\min6dB\\pump\\id_00\\normal\\00000974.wav</th>\n      <td>-1.823076</td>\n      <td>-538.512740</td>\n      <td>0.106417</td>\n      <td>-20.198280</td>\n    </tr>\n    <tr>\n      <th>\\dataset\\min6dB\\pump\\id_00\\normal\\00000988.wav</th>\n      <td>23.562210</td>\n      <td>-232.834365</td>\n      <td>0.109352</td>\n      <td>2.740053</td>\n    </tr>\n  </tbody>\n</table>\n<p>286 rows × 4 columns</p>\n</div>"
     },
     "metadata": {},
     "execution_count": 63
    }
   ],
   "source": [
    "for col in predictions['6dBpump00'].columns:\n",
    "    s_tmp = s_tmp + (predictions['min6dBpump00'][col] - predictions['min6dBpump00'][col].mean())/predictions['min6dBpump00'][col].std()\n",
    "predictions['min6dBpump00'].join(s_tmp.rename('score_agg'))"
   ]
  },
  {
   "cell_type": "code",
   "execution_count": 64,
   "metadata": {},
   "outputs": [
    {
     "output_type": "execute_result",
     "data": {
      "text/plain": "path\n\\dataset\\min6dB\\pump\\id_00\\abnormal\\00000000.wav     3.250660\n\\dataset\\min6dB\\pump\\id_00\\abnormal\\00000001.wav    -5.056553\n\\dataset\\min6dB\\pump\\id_00\\abnormal\\00000002.wav     4.355213\n\\dataset\\min6dB\\pump\\id_00\\abnormal\\00000003.wav    -3.959239\n\\dataset\\min6dB\\pump\\id_00\\abnormal\\00000004.wav    -5.025108\n                                                      ...    \n\\dataset\\min6dB\\pump\\id_00\\normal\\00000954.wav       5.527871\n\\dataset\\min6dB\\pump\\id_00\\normal\\00000960.wav       4.713529\n\\dataset\\min6dB\\pump\\id_00\\normal\\00000973.wav       2.854681\n\\dataset\\min6dB\\pump\\id_00\\normal\\00000974.wav     -20.198280\n\\dataset\\min6dB\\pump\\id_00\\normal\\00000988.wav       2.740053\nLength: 286, dtype: float64"
     },
     "metadata": {},
     "execution_count": 64
    }
   ],
   "source": [
    "s_tmp"
   ]
  },
  {
   "cell_type": "code",
   "execution_count": null,
   "metadata": {},
   "outputs": [],
   "source": []
  }
 ],
 "metadata": {
  "kernelspec": {
   "display_name": "Py3.7 (mimii_base_TF2_GPU)",
   "language": "python",
   "name": "mimii-tf2-gpu"
  },
  "language_info": {
   "codemirror_mode": {
    "name": "ipython",
    "version": 3
   },
   "file_extension": ".py",
   "mimetype": "text/x-python",
   "name": "python",
   "nbconvert_exporter": "python",
   "pygments_lexer": "ipython3",
   "version": "3.7.7-final"
  },
  "toc": {
   "base_numbering": 1,
   "nav_menu": {},
   "number_sections": true,
   "sideBar": true,
   "skip_h1_title": true,
   "title_cell": "Table of Contents",
   "title_sidebar": "Contents",
   "toc_cell": true,
   "toc_position": {},
   "toc_section_display": true,
   "toc_window_display": false
  }
 },
 "nbformat": 4,
 "nbformat_minor": 4
}