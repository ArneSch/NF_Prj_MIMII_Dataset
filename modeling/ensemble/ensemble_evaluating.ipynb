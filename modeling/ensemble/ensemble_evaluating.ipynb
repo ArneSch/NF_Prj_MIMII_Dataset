{
 "cells": [
  {
   "cell_type": "markdown",
   "metadata": {
    "toc": true
   },
   "source": [
    "<h1>Table of Contents<span class=\"tocSkip\"></span></h1>\n",
    "<div class=\"toc\"><ul class=\"toc-item\"></ul></div>"
   ]
  },
  {
   "cell_type": "markdown",
   "metadata": {},
   "source": [
    "# Model Read"
   ]
  },
  {
   "cell_type": "code",
   "execution_count": 18,
   "metadata": {
    "ExecuteTime": {
     "end_time": "2020-05-11T14:04:04.923800Z",
     "start_time": "2020-05-11T14:04:04.670799Z"
    },
    "scrolled": false
   },
   "outputs": [
    {
     "name": "stdout",
     "output_type": "stream",
     "text": [
      "load feature_extractor_mother\n",
      "load feature_extractor_mel_spectra\n",
      "load feature_extractor_psd\n",
      "load feature_extractor_ICA2\n",
      "load feature_extractore_pre_nnFilterDenoise\n",
      "load extractor_diagram_mother\n",
      "load Simple_FIR_HP\n",
      "load TimeSliceAppendActivation\n",
      "load load_data\n",
      "Load split_data\n",
      "Load anomaly_detection_models\n",
      "Load pseudo_supervised_models\n",
      "Load tensorflow models\n",
      "Load detection_pipe\n"
     ]
    }
   ],
   "source": [
    "#===============================================\n",
    "# Basic Imports\n",
    "BASE_FOLDER = '../../'\n",
    "%run -i ..\\..\\utility\\feature_extractor\\JupyterLoad_feature_extractor.py\n",
    "%run -i ..\\..\\utility\\modeling\\JupyterLoad_modeling.py\n",
    "\n",
    "from sklearn.metrics import roc_auc_score\n",
    "from tqdm import tqdm\n",
    "import os\n",
    "import glob\n",
    "import seaborn as sns\n",
    "sns.set()"
   ]
  },
  {
   "cell_type": "code",
   "execution_count": 27,
   "metadata": {
    "ExecuteTime": {
     "end_time": "2020-05-11T14:36:54.672192Z",
     "start_time": "2020-05-11T14:36:37.542370Z"
    }
   },
   "outputs": [
    {
     "name": "stderr",
     "output_type": "stream",
     "text": [
      "C:\\Users\\bendi\\.conda\\envs\\mimii-tf2-gpu\\lib\\site-packages\\sklearn\\base.py:318: UserWarning: Trying to unpickle estimator StandardScaler from version 0.22.2.post1 when using version 0.22.1. This might lead to breaking code or invalid results. Use at your own risk.\n",
      "  UserWarning)\n"
     ]
    }
   ],
   "source": [
    "ensemble_pipes = {}\n",
    "paths = {}\n",
    "for SNR in ['6dB', 'min6dB']:\n",
    "    for machine in ['fan', 'pump', 'slider', 'valve']:\n",
    "        for ID in ['00', '02']:\n",
    "            paths[SNR+machine+ID] = glob.glob(BASE_FOLDER + 'modeling/ensemble/pipes2/*_{}_{}_ID{}*.pkl'.format(SNR,machine,ID))\n",
    "            ensemble_pipes[SNR+machine+ID] = []\n",
    "            for path in paths[SNR+machine+ID]:\n",
    "                with open(path, 'rb') as f:\n",
    "                    ensemble_pipes[SNR+machine+ID].append(pickle.load(f))"
   ]
  },
  {
   "cell_type": "code",
   "execution_count": 28,
   "metadata": {
    "ExecuteTime": {
     "end_time": "2020-05-11T14:37:11.641857Z",
     "start_time": "2020-05-11T14:37:05.872857Z"
    },
    "tags": []
   },
   "outputs": [],
   "source": [
    "ensemble_dfs = {}\n",
    "for ensemble_key, ensemble in ensemble_pipes.items():\n",
    "    for i, pipe in enumerate(ensemble):\n",
    "\n",
    "        if i==0:\n",
    "            ensemble_dfs[ensemble_key] = pd.DataFrame(pipe.df_test.groupby(by='path').sum().pred_scores.rename(pipe.model.name+'_'+pipe.task['feat_col']+'_pred_scores').reindex())\n",
    "            ground_truth = pipe.df_test.groupby(by='path').median().abnormal.rename('ground_truth')\n",
    "            score_unweighted = pd.Series(np.zeros(ensemble_dfs[ensemble_key].iloc[:,0].shape), index=ensemble_dfs[ensemble_key].index)\n",
    "            score_weighted = score_unweighted\n",
    "        else:\n",
    "            ensemble_dfs[ensemble_key] = ensemble_dfs[ensemble_key].join(pipe.df_test.groupby(by='path').sum().pred_scores.rename(pipe.model.name+'_'+pipe.task['feat_col']+'_pred_scores'))\n",
    "        \n",
    "        if pipe.model.name == 'IsoFor':\n",
    "            if pipe.task['feat_col'] == 'PSD_raw':\n",
    "                weight = 1.\n",
    "            else:\n",
    "                weight = .75\n",
    "        elif pipe.model.name == 'AutoEnc':\n",
    "            weight = 1.25\n",
    "        elif pipe.model.name == 'SVM':\n",
    "            weight = 1.\n",
    "        score_weighted = score_weighted + weight * (ensemble_dfs[ensemble_key].iloc[:,-1] - ensemble_dfs[ensemble_key].iloc[:,-1].mean())/ensemble_dfs[ensemble_key].iloc[:,-1].std()\n",
    "        score_unweighted = score_unweighted + (ensemble_dfs[ensemble_key].iloc[:,-1] - ensemble_dfs[ensemble_key].iloc[:,-1].mean())/ensemble_dfs[ensemble_key].iloc[:,-1].std()\n",
    "    \n",
    "    ensemble_dfs[ensemble_key] = ensemble_dfs[ensemble_key].join(score_weighted.rename('score_agg_weighted'))\n",
    "    ensemble_dfs[ensemble_key] = ensemble_dfs[ensemble_key].join(score_unweighted.rename('score_agg_unweighted'))\n",
    "    ensemble_dfs[ensemble_key] = ensemble_dfs[ensemble_key].join(ground_truth.replace(to_replace=1, value=-1).replace(to_replace=0, value=1))"
   ]
  },
  {
   "cell_type": "code",
   "execution_count": 30,
   "metadata": {
    "ExecuteTime": {
     "end_time": "2020-05-11T14:37:31.631783Z",
     "start_time": "2020-05-11T14:37:31.608782Z"
    }
   },
   "outputs": [
    {
     "data": {
      "text/html": [
       "<div>\n",
       "<style scoped>\n",
       "    .dataframe tbody tr th:only-of-type {\n",
       "        vertical-align: middle;\n",
       "    }\n",
       "\n",
       "    .dataframe tbody tr th {\n",
       "        vertical-align: top;\n",
       "    }\n",
       "\n",
       "    .dataframe thead th {\n",
       "        text-align: right;\n",
       "    }\n",
       "</style>\n",
       "<table border=\"1\" class=\"dataframe\">\n",
       "  <thead>\n",
       "    <tr style=\"text-align: right;\">\n",
       "      <th></th>\n",
       "      <th>IsoFor_MEL_den_pred_scores</th>\n",
       "      <th>AutoEnc_MEL_den_pred_scores</th>\n",
       "      <th>IsoFor_PSD_raw_pred_scores</th>\n",
       "      <th>SVM_PSD_raw_pred_scores</th>\n",
       "      <th>score_agg_weighted</th>\n",
       "      <th>score_agg_unweighted</th>\n",
       "      <th>ground_truth</th>\n",
       "    </tr>\n",
       "    <tr>\n",
       "      <th>path</th>\n",
       "      <th></th>\n",
       "      <th></th>\n",
       "      <th></th>\n",
       "      <th></th>\n",
       "      <th></th>\n",
       "      <th></th>\n",
       "      <th></th>\n",
       "    </tr>\n",
       "  </thead>\n",
       "  <tbody>\n",
       "    <tr>\n",
       "      <th>\\dataset\\6dB\\fan\\id_00\\abnormal\\00000000.wav</th>\n",
       "      <td>-6.802272</td>\n",
       "      <td>-487.554746</td>\n",
       "      <td>-0.079866</td>\n",
       "      <td>0.009014</td>\n",
       "      <td>-4.090335</td>\n",
       "      <td>-4.188305</td>\n",
       "      <td>-1.0</td>\n",
       "    </tr>\n",
       "    <tr>\n",
       "      <th>\\dataset\\6dB\\fan\\id_00\\abnormal\\00000001.wav</th>\n",
       "      <td>-5.690387</td>\n",
       "      <td>-627.194746</td>\n",
       "      <td>-0.032358</td>\n",
       "      <td>0.004656</td>\n",
       "      <td>-4.560671</td>\n",
       "      <td>-4.390258</td>\n",
       "      <td>-1.0</td>\n",
       "    </tr>\n",
       "    <tr>\n",
       "      <th>\\dataset\\6dB\\fan\\id_00\\abnormal\\00000002.wav</th>\n",
       "      <td>-9.061854</td>\n",
       "      <td>-518.943522</td>\n",
       "      <td>-0.057166</td>\n",
       "      <td>0.002574</td>\n",
       "      <td>-4.339652</td>\n",
       "      <td>-4.465901</td>\n",
       "      <td>-1.0</td>\n",
       "    </tr>\n",
       "    <tr>\n",
       "      <th>\\dataset\\6dB\\fan\\id_00\\abnormal\\00000003.wav</th>\n",
       "      <td>-6.605109</td>\n",
       "      <td>-423.003839</td>\n",
       "      <td>-0.084193</td>\n",
       "      <td>0.029282</td>\n",
       "      <td>-3.504717</td>\n",
       "      <td>-3.701643</td>\n",
       "      <td>-1.0</td>\n",
       "    </tr>\n",
       "    <tr>\n",
       "      <th>\\dataset\\6dB\\fan\\id_00\\abnormal\\00000004.wav</th>\n",
       "      <td>-7.235790</td>\n",
       "      <td>-447.375194</td>\n",
       "      <td>-0.048582</td>\n",
       "      <td>0.004249</td>\n",
       "      <td>-3.447683</td>\n",
       "      <td>-3.626888</td>\n",
       "      <td>-1.0</td>\n",
       "    </tr>\n",
       "    <tr>\n",
       "      <th>...</th>\n",
       "      <td>...</td>\n",
       "      <td>...</td>\n",
       "      <td>...</td>\n",
       "      <td>...</td>\n",
       "      <td>...</td>\n",
       "      <td>...</td>\n",
       "      <td>...</td>\n",
       "    </tr>\n",
       "    <tr>\n",
       "      <th>\\dataset\\6dB\\fan\\id_00\\normal\\00000997.wav</th>\n",
       "      <td>6.789946</td>\n",
       "      <td>-251.296146</td>\n",
       "      <td>0.062577</td>\n",
       "      <td>0.062050</td>\n",
       "      <td>1.245097</td>\n",
       "      <td>1.239386</td>\n",
       "      <td>1.0</td>\n",
       "    </tr>\n",
       "    <tr>\n",
       "      <th>\\dataset\\6dB\\fan\\id_00\\normal\\00000999.wav</th>\n",
       "      <td>12.395625</td>\n",
       "      <td>-180.217720</td>\n",
       "      <td>0.145569</td>\n",
       "      <td>NaN</td>\n",
       "      <td>NaN</td>\n",
       "      <td>NaN</td>\n",
       "      <td>1.0</td>\n",
       "    </tr>\n",
       "    <tr>\n",
       "      <th>\\dataset\\6dB\\fan\\id_00\\normal\\00001002.wav</th>\n",
       "      <td>7.130915</td>\n",
       "      <td>-290.245030</td>\n",
       "      <td>0.139618</td>\n",
       "      <td>0.911818</td>\n",
       "      <td>5.570515</td>\n",
       "      <td>5.640751</td>\n",
       "      <td>1.0</td>\n",
       "    </tr>\n",
       "    <tr>\n",
       "      <th>\\dataset\\6dB\\fan\\id_00\\normal\\00001005.wav</th>\n",
       "      <td>12.410778</td>\n",
       "      <td>-177.873719</td>\n",
       "      <td>0.135451</td>\n",
       "      <td>NaN</td>\n",
       "      <td>NaN</td>\n",
       "      <td>NaN</td>\n",
       "      <td>1.0</td>\n",
       "    </tr>\n",
       "    <tr>\n",
       "      <th>\\dataset\\6dB\\fan\\id_00\\normal\\00001010.wav</th>\n",
       "      <td>11.073103</td>\n",
       "      <td>-205.706862</td>\n",
       "      <td>0.105074</td>\n",
       "      <td>NaN</td>\n",
       "      <td>NaN</td>\n",
       "      <td>NaN</td>\n",
       "      <td>1.0</td>\n",
       "    </tr>\n",
       "  </tbody>\n",
       "</table>\n",
       "<p>814 rows × 7 columns</p>\n",
       "</div>"
      ],
      "text/plain": [
       "                                              IsoFor_MEL_den_pred_scores  \\\n",
       "path                                                                       \n",
       "\\dataset\\6dB\\fan\\id_00\\abnormal\\00000000.wav                   -6.802272   \n",
       "\\dataset\\6dB\\fan\\id_00\\abnormal\\00000001.wav                   -5.690387   \n",
       "\\dataset\\6dB\\fan\\id_00\\abnormal\\00000002.wav                   -9.061854   \n",
       "\\dataset\\6dB\\fan\\id_00\\abnormal\\00000003.wav                   -6.605109   \n",
       "\\dataset\\6dB\\fan\\id_00\\abnormal\\00000004.wav                   -7.235790   \n",
       "...                                                                  ...   \n",
       "\\dataset\\6dB\\fan\\id_00\\normal\\00000997.wav                      6.789946   \n",
       "\\dataset\\6dB\\fan\\id_00\\normal\\00000999.wav                     12.395625   \n",
       "\\dataset\\6dB\\fan\\id_00\\normal\\00001002.wav                      7.130915   \n",
       "\\dataset\\6dB\\fan\\id_00\\normal\\00001005.wav                     12.410778   \n",
       "\\dataset\\6dB\\fan\\id_00\\normal\\00001010.wav                     11.073103   \n",
       "\n",
       "                                              AutoEnc_MEL_den_pred_scores  \\\n",
       "path                                                                        \n",
       "\\dataset\\6dB\\fan\\id_00\\abnormal\\00000000.wav                  -487.554746   \n",
       "\\dataset\\6dB\\fan\\id_00\\abnormal\\00000001.wav                  -627.194746   \n",
       "\\dataset\\6dB\\fan\\id_00\\abnormal\\00000002.wav                  -518.943522   \n",
       "\\dataset\\6dB\\fan\\id_00\\abnormal\\00000003.wav                  -423.003839   \n",
       "\\dataset\\6dB\\fan\\id_00\\abnormal\\00000004.wav                  -447.375194   \n",
       "...                                                                   ...   \n",
       "\\dataset\\6dB\\fan\\id_00\\normal\\00000997.wav                    -251.296146   \n",
       "\\dataset\\6dB\\fan\\id_00\\normal\\00000999.wav                    -180.217720   \n",
       "\\dataset\\6dB\\fan\\id_00\\normal\\00001002.wav                    -290.245030   \n",
       "\\dataset\\6dB\\fan\\id_00\\normal\\00001005.wav                    -177.873719   \n",
       "\\dataset\\6dB\\fan\\id_00\\normal\\00001010.wav                    -205.706862   \n",
       "\n",
       "                                              IsoFor_PSD_raw_pred_scores  \\\n",
       "path                                                                       \n",
       "\\dataset\\6dB\\fan\\id_00\\abnormal\\00000000.wav                   -0.079866   \n",
       "\\dataset\\6dB\\fan\\id_00\\abnormal\\00000001.wav                   -0.032358   \n",
       "\\dataset\\6dB\\fan\\id_00\\abnormal\\00000002.wav                   -0.057166   \n",
       "\\dataset\\6dB\\fan\\id_00\\abnormal\\00000003.wav                   -0.084193   \n",
       "\\dataset\\6dB\\fan\\id_00\\abnormal\\00000004.wav                   -0.048582   \n",
       "...                                                                  ...   \n",
       "\\dataset\\6dB\\fan\\id_00\\normal\\00000997.wav                      0.062577   \n",
       "\\dataset\\6dB\\fan\\id_00\\normal\\00000999.wav                      0.145569   \n",
       "\\dataset\\6dB\\fan\\id_00\\normal\\00001002.wav                      0.139618   \n",
       "\\dataset\\6dB\\fan\\id_00\\normal\\00001005.wav                      0.135451   \n",
       "\\dataset\\6dB\\fan\\id_00\\normal\\00001010.wav                      0.105074   \n",
       "\n",
       "                                              SVM_PSD_raw_pred_scores  \\\n",
       "path                                                                    \n",
       "\\dataset\\6dB\\fan\\id_00\\abnormal\\00000000.wav                 0.009014   \n",
       "\\dataset\\6dB\\fan\\id_00\\abnormal\\00000001.wav                 0.004656   \n",
       "\\dataset\\6dB\\fan\\id_00\\abnormal\\00000002.wav                 0.002574   \n",
       "\\dataset\\6dB\\fan\\id_00\\abnormal\\00000003.wav                 0.029282   \n",
       "\\dataset\\6dB\\fan\\id_00\\abnormal\\00000004.wav                 0.004249   \n",
       "...                                                               ...   \n",
       "\\dataset\\6dB\\fan\\id_00\\normal\\00000997.wav                   0.062050   \n",
       "\\dataset\\6dB\\fan\\id_00\\normal\\00000999.wav                        NaN   \n",
       "\\dataset\\6dB\\fan\\id_00\\normal\\00001002.wav                   0.911818   \n",
       "\\dataset\\6dB\\fan\\id_00\\normal\\00001005.wav                        NaN   \n",
       "\\dataset\\6dB\\fan\\id_00\\normal\\00001010.wav                        NaN   \n",
       "\n",
       "                                              score_agg_weighted  \\\n",
       "path                                                               \n",
       "\\dataset\\6dB\\fan\\id_00\\abnormal\\00000000.wav           -4.090335   \n",
       "\\dataset\\6dB\\fan\\id_00\\abnormal\\00000001.wav           -4.560671   \n",
       "\\dataset\\6dB\\fan\\id_00\\abnormal\\00000002.wav           -4.339652   \n",
       "\\dataset\\6dB\\fan\\id_00\\abnormal\\00000003.wav           -3.504717   \n",
       "\\dataset\\6dB\\fan\\id_00\\abnormal\\00000004.wav           -3.447683   \n",
       "...                                                          ...   \n",
       "\\dataset\\6dB\\fan\\id_00\\normal\\00000997.wav              1.245097   \n",
       "\\dataset\\6dB\\fan\\id_00\\normal\\00000999.wav                   NaN   \n",
       "\\dataset\\6dB\\fan\\id_00\\normal\\00001002.wav              5.570515   \n",
       "\\dataset\\6dB\\fan\\id_00\\normal\\00001005.wav                   NaN   \n",
       "\\dataset\\6dB\\fan\\id_00\\normal\\00001010.wav                   NaN   \n",
       "\n",
       "                                              score_agg_unweighted  \\\n",
       "path                                                                 \n",
       "\\dataset\\6dB\\fan\\id_00\\abnormal\\00000000.wav             -4.188305   \n",
       "\\dataset\\6dB\\fan\\id_00\\abnormal\\00000001.wav             -4.390258   \n",
       "\\dataset\\6dB\\fan\\id_00\\abnormal\\00000002.wav             -4.465901   \n",
       "\\dataset\\6dB\\fan\\id_00\\abnormal\\00000003.wav             -3.701643   \n",
       "\\dataset\\6dB\\fan\\id_00\\abnormal\\00000004.wav             -3.626888   \n",
       "...                                                            ...   \n",
       "\\dataset\\6dB\\fan\\id_00\\normal\\00000997.wav                1.239386   \n",
       "\\dataset\\6dB\\fan\\id_00\\normal\\00000999.wav                     NaN   \n",
       "\\dataset\\6dB\\fan\\id_00\\normal\\00001002.wav                5.640751   \n",
       "\\dataset\\6dB\\fan\\id_00\\normal\\00001005.wav                     NaN   \n",
       "\\dataset\\6dB\\fan\\id_00\\normal\\00001010.wav                     NaN   \n",
       "\n",
       "                                              ground_truth  \n",
       "path                                                        \n",
       "\\dataset\\6dB\\fan\\id_00\\abnormal\\00000000.wav          -1.0  \n",
       "\\dataset\\6dB\\fan\\id_00\\abnormal\\00000001.wav          -1.0  \n",
       "\\dataset\\6dB\\fan\\id_00\\abnormal\\00000002.wav          -1.0  \n",
       "\\dataset\\6dB\\fan\\id_00\\abnormal\\00000003.wav          -1.0  \n",
       "\\dataset\\6dB\\fan\\id_00\\abnormal\\00000004.wav          -1.0  \n",
       "...                                                    ...  \n",
       "\\dataset\\6dB\\fan\\id_00\\normal\\00000997.wav             1.0  \n",
       "\\dataset\\6dB\\fan\\id_00\\normal\\00000999.wav             1.0  \n",
       "\\dataset\\6dB\\fan\\id_00\\normal\\00001002.wav             1.0  \n",
       "\\dataset\\6dB\\fan\\id_00\\normal\\00001005.wav             1.0  \n",
       "\\dataset\\6dB\\fan\\id_00\\normal\\00001010.wav             1.0  \n",
       "\n",
       "[814 rows x 7 columns]"
      ]
     },
     "execution_count": 30,
     "metadata": {},
     "output_type": "execute_result"
    }
   ],
   "source": [
    "ensemble_dfs[ensemble_key]"
   ]
  },
  {
   "cell_type": "code",
   "execution_count": 29,
   "metadata": {
    "ExecuteTime": {
     "end_time": "2020-05-11T14:37:12.726930Z",
     "start_time": "2020-05-11T14:37:12.599929Z"
    }
   },
   "outputs": [
    {
     "ename": "ValueError",
     "evalue": "Input contains NaN, infinity or a value too large for dtype('float64').",
     "output_type": "error",
     "traceback": [
      "\u001b[1;31m---------------------------------------------------------------------------\u001b[0m",
      "\u001b[1;31mValueError\u001b[0m                                Traceback (most recent call last)",
      "\u001b[1;32mD:\\Capstone\\NF_Prj_MIMII_Dataset\\utility\\modeling\\JupyterLoad_modeling.py\u001b[0m in \u001b[0;36m<module>\u001b[1;34m\u001b[0m\n\u001b[0;32m      1\u001b[0m \u001b[0mresults\u001b[0m \u001b[1;33m=\u001b[0m \u001b[0mpd\u001b[0m\u001b[1;33m.\u001b[0m\u001b[0mDataFrame\u001b[0m\u001b[1;33m(\u001b[0m\u001b[1;33m[\u001b[0m\u001b[1;33m]\u001b[0m\u001b[1;33m)\u001b[0m\u001b[1;33m\u001b[0m\u001b[1;33m\u001b[0m\u001b[0m\n\u001b[0;32m      2\u001b[0m \u001b[1;32mfor\u001b[0m \u001b[0mensemble_key\u001b[0m\u001b[1;33m,\u001b[0m \u001b[0mensemble\u001b[0m \u001b[1;32min\u001b[0m \u001b[0mensemble_dfs\u001b[0m\u001b[1;33m.\u001b[0m\u001b[0mitems\u001b[0m\u001b[1;33m(\u001b[0m\u001b[1;33m)\u001b[0m\u001b[1;33m:\u001b[0m\u001b[1;33m\u001b[0m\u001b[1;33m\u001b[0m\u001b[0m\n\u001b[1;32m----> 3\u001b[1;33m     data = [roc_auc_score(ensemble_dfs[ensemble_key].ground_truth, ensemble_dfs[ensemble_key].score_agg_weighted), \n\u001b[0m\u001b[0;32m      4\u001b[0m             roc_auc_score(ensemble_dfs[ensemble_key].ground_truth, ensemble_dfs[ensemble_key].score_agg_unweighted)]\n\u001b[0;32m      5\u001b[0m \u001b[1;33m\u001b[0m\u001b[0m\n",
      "\u001b[1;32m~\\.conda\\envs\\mimii-tf2-gpu\\lib\\site-packages\\sklearn\\metrics\\_ranking.py\u001b[0m in \u001b[0;36mroc_auc_score\u001b[1;34m(y_true, y_score, average, sample_weight, max_fpr, multi_class, labels)\u001b[0m\n\u001b[0;32m    367\u001b[0m     \u001b[0my_type\u001b[0m \u001b[1;33m=\u001b[0m \u001b[0mtype_of_target\u001b[0m\u001b[1;33m(\u001b[0m\u001b[0my_true\u001b[0m\u001b[1;33m)\u001b[0m\u001b[1;33m\u001b[0m\u001b[1;33m\u001b[0m\u001b[0m\n\u001b[0;32m    368\u001b[0m     \u001b[0my_true\u001b[0m \u001b[1;33m=\u001b[0m \u001b[0mcheck_array\u001b[0m\u001b[1;33m(\u001b[0m\u001b[0my_true\u001b[0m\u001b[1;33m,\u001b[0m \u001b[0mensure_2d\u001b[0m\u001b[1;33m=\u001b[0m\u001b[1;32mFalse\u001b[0m\u001b[1;33m,\u001b[0m \u001b[0mdtype\u001b[0m\u001b[1;33m=\u001b[0m\u001b[1;32mNone\u001b[0m\u001b[1;33m)\u001b[0m\u001b[1;33m\u001b[0m\u001b[1;33m\u001b[0m\u001b[0m\n\u001b[1;32m--> 369\u001b[1;33m     \u001b[0my_score\u001b[0m \u001b[1;33m=\u001b[0m \u001b[0mcheck_array\u001b[0m\u001b[1;33m(\u001b[0m\u001b[0my_score\u001b[0m\u001b[1;33m,\u001b[0m \u001b[0mensure_2d\u001b[0m\u001b[1;33m=\u001b[0m\u001b[1;32mFalse\u001b[0m\u001b[1;33m)\u001b[0m\u001b[1;33m\u001b[0m\u001b[1;33m\u001b[0m\u001b[0m\n\u001b[0m\u001b[0;32m    370\u001b[0m \u001b[1;33m\u001b[0m\u001b[0m\n\u001b[0;32m    371\u001b[0m     if y_type == \"multiclass\" or (y_type == \"binary\" and\n",
      "\u001b[1;32m~\\.conda\\envs\\mimii-tf2-gpu\\lib\\site-packages\\sklearn\\utils\\validation.py\u001b[0m in \u001b[0;36mcheck_array\u001b[1;34m(array, accept_sparse, accept_large_sparse, dtype, order, copy, force_all_finite, ensure_2d, allow_nd, ensure_min_samples, ensure_min_features, warn_on_dtype, estimator)\u001b[0m\n\u001b[0;32m    576\u001b[0m         \u001b[1;32mif\u001b[0m \u001b[0mforce_all_finite\u001b[0m\u001b[1;33m:\u001b[0m\u001b[1;33m\u001b[0m\u001b[1;33m\u001b[0m\u001b[0m\n\u001b[0;32m    577\u001b[0m             _assert_all_finite(array,\n\u001b[1;32m--> 578\u001b[1;33m                                allow_nan=force_all_finite == 'allow-nan')\n\u001b[0m\u001b[0;32m    579\u001b[0m \u001b[1;33m\u001b[0m\u001b[0m\n\u001b[0;32m    580\u001b[0m     \u001b[1;32mif\u001b[0m \u001b[0mensure_min_samples\u001b[0m \u001b[1;33m>\u001b[0m \u001b[1;36m0\u001b[0m\u001b[1;33m:\u001b[0m\u001b[1;33m\u001b[0m\u001b[1;33m\u001b[0m\u001b[0m\n",
      "\u001b[1;32m~\\.conda\\envs\\mimii-tf2-gpu\\lib\\site-packages\\sklearn\\utils\\validation.py\u001b[0m in \u001b[0;36m_assert_all_finite\u001b[1;34m(X, allow_nan, msg_dtype)\u001b[0m\n\u001b[0;32m     58\u001b[0m                     \u001b[0mmsg_err\u001b[0m\u001b[1;33m.\u001b[0m\u001b[0mformat\u001b[0m\u001b[1;33m\u001b[0m\u001b[1;33m\u001b[0m\u001b[0m\n\u001b[0;32m     59\u001b[0m                     (type_err,\n\u001b[1;32m---> 60\u001b[1;33m                      msg_dtype if msg_dtype is not None else X.dtype)\n\u001b[0m\u001b[0;32m     61\u001b[0m             )\n\u001b[0;32m     62\u001b[0m     \u001b[1;31m# for object dtype data, we only check for NaNs (GH-13254)\u001b[0m\u001b[1;33m\u001b[0m\u001b[1;33m\u001b[0m\u001b[1;33m\u001b[0m\u001b[0m\n",
      "\u001b[1;31mValueError\u001b[0m: Input contains NaN, infinity or a value too large for dtype('float64')."
     ]
    }
   ],
   "source": [
    "results = pd.DataFrame([])\n",
    "for ensemble_key, ensemble in ensemble_dfs.items():\n",
    "    data = [roc_auc_score(ensemble_dfs[ensemble_key].ground_truth, ensemble_dfs[ensemble_key].score_agg_weighted), \n",
    "            roc_auc_score(ensemble_dfs[ensemble_key].ground_truth, ensemble_dfs[ensemble_key].score_agg_unweighted)]\n",
    "\n",
    "    cols = ['score_aggr_weighted', 'score_aggr_unweighted']\n",
    "    for pipe in ensemble_pipes[ensemble_key]:\n",
    "        data.append(pipe.roc_auc)\n",
    "        cols.append('score_'+pipe.model.name+pipe.task['feat_col'])\n",
    "    results = results.append(pd.DataFrame(data=[data], columns=cols, index=[ensemble_key]))"
   ]
  },
  {
   "cell_type": "code",
   "execution_count": null,
   "metadata": {
    "ExecuteTime": {
     "end_time": "2020-05-11T14:04:53.907132Z",
     "start_time": "2020-05-11T14:04:04.715Z"
    }
   },
   "outputs": [],
   "source": [
    "results"
   ]
  },
  {
   "cell_type": "code",
   "execution_count": null,
   "metadata": {
    "ExecuteTime": {
     "end_time": "2020-05-11T14:04:53.908131Z",
     "start_time": "2020-05-11T14:04:04.721Z"
    }
   },
   "outputs": [],
   "source": [
    "results.score_aggr_weighted.mean()"
   ]
  },
  {
   "cell_type": "code",
   "execution_count": null,
   "metadata": {
    "ExecuteTime": {
     "end_time": "2020-05-11T14:04:53.909130Z",
     "start_time": "2020-05-11T14:04:04.726Z"
    }
   },
   "outputs": [],
   "source": [
    "results.score_aggr_unweighted.mean()"
   ]
  },
  {
   "cell_type": "code",
   "execution_count": null,
   "metadata": {
    "ExecuteTime": {
     "end_time": "2020-05-11T14:04:53.910132Z",
     "start_time": "2020-05-11T14:04:04.735Z"
    }
   },
   "outputs": [],
   "source": [
    "results.score_AutoEncMEL_den.mean()"
   ]
  },
  {
   "cell_type": "code",
   "execution_count": null,
   "metadata": {
    "ExecuteTime": {
     "end_time": "2020-05-11T14:04:53.912133Z",
     "start_time": "2020-05-11T14:04:04.739Z"
    }
   },
   "outputs": [],
   "source": [
    "results.score_IsoForMEL_den.mean()"
   ]
  },
  {
   "cell_type": "code",
   "execution_count": null,
   "metadata": {
    "ExecuteTime": {
     "end_time": "2020-05-11T14:04:53.913131Z",
     "start_time": "2020-05-11T14:04:04.742Z"
    }
   },
   "outputs": [],
   "source": [
    "results.score_IsoForPSD_raw.mean()"
   ]
  },
  {
   "cell_type": "code",
   "execution_count": null,
   "metadata": {
    "ExecuteTime": {
     "end_time": "2020-05-11T14:04:53.914130Z",
     "start_time": "2020-05-11T14:04:04.746Z"
    }
   },
   "outputs": [],
   "source": [
    "for col in predictions['6dBpump00'].columns:\n",
    "    s_tmp = s_tmp + (predictions['min6dBpump00'][col] - predictions['min6dBpump00'][col].mean())/predictions['min6dBpump00'][col].std()\n",
    "predictions['min6dBpump00'].join(s_tmp.rename('score_agg'))"
   ]
  },
  {
   "cell_type": "code",
   "execution_count": null,
   "metadata": {
    "ExecuteTime": {
     "end_time": "2020-05-11T14:04:53.916130Z",
     "start_time": "2020-05-11T14:04:04.749Z"
    }
   },
   "outputs": [],
   "source": [
    "s_tmp"
   ]
  },
  {
   "cell_type": "code",
   "execution_count": null,
   "metadata": {},
   "outputs": [],
   "source": []
  }
 ],
 "metadata": {
  "kernelspec": {
   "display_name": "Py3.7 (mimii_base_TF2_GPU)",
   "language": "python",
   "name": "mimii-tf2-gpu"
  },
  "language_info": {
   "codemirror_mode": {
    "name": "ipython",
    "version": 3
   },
   "file_extension": ".py",
   "mimetype": "text/x-python",
   "name": "python",
   "nbconvert_exporter": "python",
   "pygments_lexer": "ipython3",
   "version": "3.7.7"
  },
  "toc": {
   "base_numbering": 1,
   "nav_menu": {},
   "number_sections": true,
   "sideBar": true,
   "skip_h1_title": true,
   "title_cell": "Table of Contents",
   "title_sidebar": "Contents",
   "toc_cell": true,
   "toc_position": {},
   "toc_section_display": true,
   "toc_window_display": false
  }
 },
 "nbformat": 4,
 "nbformat_minor": 4
}
