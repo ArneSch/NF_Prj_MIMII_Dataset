{
 "cells": [
  {
   "cell_type": "markdown",
   "metadata": {
    "toc": true
   },
   "source": [
    "<h1>Table of Contents<span class=\"tocSkip\"></span></h1>\n",
    "<div class=\"toc\"><ul class=\"toc-item\"></ul></div>"
   ]
  },
  {
   "cell_type": "markdown",
   "metadata": {},
   "source": [
    "# Model Read"
   ]
  },
  {
   "cell_type": "code",
   "execution_count": 18,
   "metadata": {
    "ExecuteTime": {
     "end_time": "2020-05-11T14:04:04.923800Z",
     "start_time": "2020-05-11T14:04:04.670799Z"
    },
    "scrolled": true
   },
   "outputs": [
    {
     "name": "stdout",
     "output_type": "stream",
     "text": [
      "load feature_extractor_mother\n",
      "load feature_extractor_mel_spectra\n",
      "load feature_extractor_psd\n",
      "load feature_extractor_ICA2\n",
      "load feature_extractore_pre_nnFilterDenoise\n",
      "load extractor_diagram_mother\n",
      "load Simple_FIR_HP\n",
      "load TimeSliceAppendActivation\n",
      "load load_data\n",
      "Load split_data\n",
      "Load anomaly_detection_models\n",
      "Load pseudo_supervised_models\n",
      "Load tensorflow models\n",
      "Load detection_pipe\n"
     ]
    }
   ],
   "source": [
    "#===============================================\n",
    "# Basic Imports\n",
    "BASE_FOLDER = '../../'\n",
    "%run -i ..\\..\\utility\\feature_extractor\\JupyterLoad_feature_extractor.py\n",
    "%run -i ..\\..\\utility\\modeling\\JupyterLoad_modeling.py\n",
    "\n",
    "from sklearn.metrics import roc_auc_score\n",
    "from tqdm import tqdm\n",
    "import os\n",
    "import glob\n",
    "import seaborn as sns\n",
    "sns.set()"
   ]
  },
  {
   "cell_type": "code",
   "execution_count": 19,
   "metadata": {
    "ExecuteTime": {
     "end_time": "2020-05-11T14:04:04.951799Z",
     "start_time": "2020-05-11T14:04:04.925800Z"
    }
   },
   "outputs": [],
   "source": [
    "path = BASE_FOLDER + './modeling/unsupervised/models_agg.dataframe'\n",
    "df = pd.read_pickle(path)"
   ]
  },
  {
   "cell_type": "code",
   "execution_count": 20,
   "metadata": {
    "ExecuteTime": {
     "end_time": "2020-05-11T14:04:04.974801Z",
     "start_time": "2020-05-11T14:04:04.954801Z"
    }
   },
   "outputs": [],
   "source": [
    "mask1 = (df.model_type=='AutoEnc') & (df.feature_type=='MEL_den') & (df.feat_frames==5.0)\n",
    "mask2 = (df.model_type=='IsoFor') & (df.feature_type=='MEL_den') & (df.feat_frames==3.0)\n",
    "mask3 = (df.model_type=='IsoFor') & (df.feature_type=='PSD_raw')\n",
    "mask4 = (df.model_type=='SVM') & (df.feature_type=='PSD_raw')\n",
    "df = df[mask1 | mask2 | mask3 | mask4]\n",
    "df = df.dropna(axis=1, thresh=1)\n"
   ]
  },
  {
   "cell_type": "code",
   "execution_count": 21,
   "metadata": {
    "ExecuteTime": {
     "end_time": "2020-05-11T14:04:04.991800Z",
     "start_time": "2020-05-11T14:04:04.977805Z"
    }
   },
   "outputs": [],
   "source": [
    "df = df.sort_values(by='roc_auc_aggr', ascending=False).drop_duplicates(subset=['machine', 'ID', 'SNR', 'model_type', 'feature_type'], keep='first')"
   ]
  },
  {
   "cell_type": "code",
   "execution_count": 22,
   "metadata": {
    "ExecuteTime": {
     "end_time": "2020-05-11T14:04:05.042801Z",
     "start_time": "2020-05-11T14:04:04.994802Z"
    }
   },
   "outputs": [
    {
     "name": "stdout",
     "output_type": "stream",
     "text": [
      "6dB fan 00 existing: [('IsoFor', 'MEL_den'), ('AutoEnc', 'MEL_den'), ('IsoFor', 'PSD_raw')]\n",
      "6dB fan 02 existing: [('IsoFor', 'PSD_raw'), ('AutoEnc', 'MEL_den'), ('IsoFor', 'MEL_den')]\n",
      "6dB pump 00 existing: [('AutoEnc', 'MEL_den'), ('IsoFor', 'MEL_den'), ('IsoFor', 'PSD_raw')]\n",
      "6dB pump 02 existing: [('IsoFor', 'MEL_den'), ('AutoEnc', 'MEL_den'), ('IsoFor', 'PSD_raw')]\n",
      "6dB slider 00 existing: [('IsoFor', 'PSD_raw'), ('IsoFor', 'MEL_den'), ('AutoEnc', 'MEL_den')]\n",
      "6dB slider 02 existing: [('IsoFor', 'PSD_raw'), ('AutoEnc', 'MEL_den'), ('IsoFor', 'MEL_den')]\n",
      "6dB valve 00 existing: [('AutoEnc', 'MEL_den'), ('IsoFor', 'MEL_den'), ('IsoFor', 'PSD_raw')]\n",
      "6dB valve 02 existing: [('IsoFor', 'PSD_raw'), ('AutoEnc', 'MEL_den'), ('IsoFor', 'MEL_den')]\n"
     ]
    }
   ],
   "source": [
    "for SNR in ['6dB', 'min6dB']:\n",
    "    for machine in ['fan', 'pump', 'slider', 'valve']:\n",
    "        for ID in ['00', '02']:#, '04', '06']:\n",
    "            df_tmp = df[(df.machine==machine) & (df.SNR==SNR) & (df.ID==ID)]\n",
    "            if df_tmp.shape[0] != 4:\n",
    "                print(SNR, machine, ID, 'existing:', [(row.model_type, row.feature_type) for _, row in df_tmp.iterrows()])"
   ]
  },
  {
   "cell_type": "code",
   "execution_count": 23,
   "metadata": {
    "ExecuteTime": {
     "end_time": "2020-05-11T14:04:23.299948Z",
     "start_time": "2020-05-11T14:04:05.045801Z"
    }
   },
   "outputs": [
    {
     "name": "stderr",
     "output_type": "stream",
     "text": [
      "C:\\Users\\bendi\\.conda\\envs\\mimii-tf2-gpu\\lib\\site-packages\\sklearn\\base.py:318: UserWarning: Trying to unpickle estimator StandardScaler from version 0.22.2.post1 when using version 0.22.1. This might lead to breaking code or invalid results. Use at your own risk.\n",
      "  UserWarning)\n"
     ]
    }
   ],
   "source": [
    "ensemble_pipes_selection = {}\n",
    "for SNR in ['6dB', 'min6dB']:\n",
    "    for machine in ['fan', 'pump', 'slider', 'valve']:\n",
    "        for ID in ['00', '02']:\n",
    "            ensemble_pipes_selection[SNR+machine+ID] = []\n",
    "            df_tmp = df[(df.machine==machine) & (df.SNR==SNR) & (df.ID==ID)]\n",
    "            for _, row in df_tmp.iterrows():\n",
    "                with open(row.model_path, 'rb') as f:\n",
    "                    ensemble_pipes_selection[SNR+machine+ID].append(pickle.load(f))\n"
   ]
  },
  {
   "cell_type": "code",
   "execution_count": 24,
   "metadata": {
    "ExecuteTime": {
     "end_time": "2020-05-11T14:04:32.142611Z",
     "start_time": "2020-05-11T14:04:23.301947Z"
    },
    "tags": []
   },
   "outputs": [
    {
     "name": "stdout",
     "output_type": "stream",
     "text": [
      "../..//dataset\\extdia_v1\\fanmin6dB00_EDiaV1HP_pandaDisc.pkl --> Done\n",
      "...loading data\n",
      "data loading completed\n",
      "\n",
      "...preprocessing data\n",
      "data preprocessing finished\n",
      "\n",
      "...fitting the model\n",
      "{'path_descr': '../..//dataset\\\\extdia_v1\\\\fanmin6dB00_EDiaV1HP_pandaDisc.pkl', 'feat': {'function': 'flat'}, 'feat_col': 'PSD_raw', 'SNR': 'min6dB', 'machine': 'fan', 'ID': '00', 'BASE_FOLDER': '../../'}\n",
      "../..//dataset\\extdia_v1\\fanmin6dB02_EDiaV1HP_pandaDisc.pkl --> Done\n",
      "...loading data\n",
      "data loading completed\n",
      "\n",
      "...preprocessing data\n",
      "data preprocessing finished\n",
      "\n",
      "...fitting the model\n",
      "{'path_descr': '../..//dataset\\\\extdia_v1\\\\fanmin6dB02_EDiaV1HP_pandaDisc.pkl', 'feat': {'function': 'flat'}, 'feat_col': 'PSD_raw', 'SNR': 'min6dB', 'machine': 'fan', 'ID': '02', 'BASE_FOLDER': '../../'}\n",
      "../..//dataset\\extdia_v1\\pumpmin6dB00_EDiaV1HPaug0_pandaDisc.pkl --> Done\n",
      "...loading data\n",
      "data loading completed\n",
      "\n",
      "...preprocessing data\n",
      "data preprocessing finished\n",
      "\n",
      "...fitting the model\n",
      "0.9798501280262739\n",
      "model fitted successfully\n",
      "\n",
      "...evaluating model\n",
      "evaluation successfull, roc_auc: 0.7658565211012764\n",
      "pipe saved to pickle\n",
      "../..//dataset\\extdia_v1\\pumpmin6dB02_EDiaV1HP_pandaDisc.pkl --> Done\n",
      "...loading data\n",
      "data loading completed\n",
      "\n",
      "...preprocessing data\n",
      "data preprocessing finished\n",
      "\n",
      "...fitting the model\n",
      "{'path_descr': '../..//dataset\\\\extdia_v1\\\\pumpmin6dB02_EDiaV1HP_pandaDisc.pkl', 'feat': {'function': 'flat'}, 'feat_col': 'PSD_raw', 'SNR': 'min6dB', 'machine': 'pump', 'ID': '02', 'BASE_FOLDER': '../../'}\n",
      "../..//dataset\\extdia_v1\\slidermin6dB00_EDiaV1HP_pandaDisc.pkl --> Done\n",
      "...loading data\n",
      "data loading completed\n",
      "\n",
      "...preprocessing data\n",
      "data preprocessing finished\n",
      "\n",
      "...fitting the model\n",
      "{'path_descr': '../..//dataset\\\\extdia_v1\\\\slidermin6dB00_EDiaV1HP_pandaDisc.pkl', 'feat': {'function': 'flat'}, 'feat_col': 'PSD_raw', 'SNR': 'min6dB', 'machine': 'slider', 'ID': '00', 'BASE_FOLDER': '../../'}\n",
      "../..//dataset\\extdia_v1\\slidermin6dB02_EDiaV1HP_pandaDisc.pkl --> Done\n",
      "...loading data\n",
      "data loading completed\n",
      "\n",
      "...preprocessing data\n",
      "data preprocessing finished\n",
      "\n",
      "...fitting the model\n",
      "{'path_descr': '../..//dataset\\\\extdia_v1\\\\slidermin6dB02_EDiaV1HP_pandaDisc.pkl', 'feat': {'function': 'flat'}, 'feat_col': 'PSD_raw', 'SNR': 'min6dB', 'machine': 'slider', 'ID': '02', 'BASE_FOLDER': '../../'}\n",
      "../..//dataset\\extdia_v1\\valvemin6dB00_EDiaV1HPTsSl_pandaDisc.pkl --> Done\n",
      "...loading data\n",
      "data loading completed\n",
      "\n",
      "...preprocessing data\n",
      "data preprocessing finished\n",
      "\n",
      "...fitting the model\n",
      "{'path_descr': '../..//dataset\\\\extdia_v1\\\\valvemin6dB00_EDiaV1HPTsSl_pandaDisc.pkl', 'feat': {'function': 'flat'}, 'feat_col': 'PSD_raw', 'SNR': 'min6dB', 'machine': 'valve', 'ID': '00', 'BASE_FOLDER': '../../'}\n",
      "../..//dataset\\extdia_v1\\valvemin6dB02_EDiaV1HPTsSl_pandaDisc.pkl --> Done\n",
      "...loading data\n",
      "data loading completed\n",
      "\n",
      "...preprocessing data\n",
      "data preprocessing finished\n",
      "\n",
      "...fitting the model\n",
      "{'path_descr': '../..//dataset\\\\extdia_v1\\\\valvemin6dB02_EDiaV1HPTsSl_pandaDisc.pkl', 'feat': {'function': 'flat'}, 'feat_col': 'PSD_raw', 'SNR': 'min6dB', 'machine': 'valve', 'ID': '02', 'BASE_FOLDER': '../../'}\n"
     ]
    }
   ],
   "source": [
    "for ensemble_key, ensemble in ensemble_pipes_selection.items():\n",
    "    for i, pipe in enumerate(ensemble):\n",
    "        if not glob.glob(pipe.filepath[0:60] + '*'):\n",
    "            old_path = pipe.filepath\n",
    "            pipe.model = pipe._mdl(**pipe.model_args)\n",
    "            #print(pipe.task)\n",
    "            try:\n",
    "                pipe.task['path_descr'] = glob.glob(BASE_FOLDER \n",
    "                                #+ '/dataset/extdia_v1*/{}{}{}_EDiaV1*aug'.format(pipe.task['machine'], pipe.task['SNR'], pipe.task['ID'])\n",
    "                                + '/dataset/extdia_v1*/{}{}{}_EDiaV1'.format(pipe.task['machine'], pipe.task['SNR'], pipe.task['ID'])\n",
    "                                + \"*pandaDisc*.pkl\", recursive=True)[0]\n",
    "            except:\n",
    "                pipe.task['path_descr'] = glob.glob(BASE_FOLDER \n",
    "                                + '/dataset/extdia_v1*/{}{}{}_EDiaV1'.format(pipe.task['machine'], pipe.task['SNR'], pipe.task['ID'])\n",
    "                                + \"*pandaDisc*.pkl\", recursive=True)[0]\n",
    "            try:\n",
    "                pipe.run_pipe(pipe.task)\n",
    "            except:\n",
    "                print(pipe.task)"
   ]
  },
  {
   "cell_type": "code",
   "execution_count": 25,
   "metadata": {
    "ExecuteTime": {
     "end_time": "2020-05-11T14:04:49.346130Z",
     "start_time": "2020-05-11T14:04:32.145613Z"
    }
   },
   "outputs": [
    {
     "name": "stderr",
     "output_type": "stream",
     "text": [
      "C:\\Users\\bendi\\.conda\\envs\\mimii-tf2-gpu\\lib\\site-packages\\sklearn\\base.py:318: UserWarning: Trying to unpickle estimator StandardScaler from version 0.22.2.post1 when using version 0.22.1. This might lead to breaking code or invalid results. Use at your own risk.\n",
      "  UserWarning)\n"
     ]
    }
   ],
   "source": [
    "ensemble_pipes = {}\n",
    "paths = {}\n",
    "for SNR in ['6dB', 'min6dB']:\n",
    "    for machine in ['fan', 'pump', 'slider', 'valve']:\n",
    "        for ID in ['00', '02']:\n",
    "            paths[SNR+machine+ID] = glob.glob(BASE_FOLDER + 'modeling/ensemble/pipes/*_{}_{}_ID{}*.pkl'.format(SNR,machine,ID))\n",
    "            ensemble_pipes[SNR+machine+ID] = []\n",
    "            for path in paths[SNR+machine+ID]:\n",
    "                with open(path, 'rb') as f:\n",
    "                    ensemble_pipes[SNR+machine+ID].append(pickle.load(f))\n",
    "\n"
   ]
  },
  {
   "cell_type": "code",
   "execution_count": 26,
   "metadata": {
    "ExecuteTime": {
     "end_time": "2020-05-11T14:04:53.903130Z",
     "start_time": "2020-05-11T14:04:49.348132Z"
    },
    "tags": []
   },
   "outputs": [
    {
     "ename": "ValueError",
     "evalue": "columns overlap but no suffix specified: Index(['SVM_PSD_raw_pred_scores'], dtype='object')",
     "output_type": "error",
     "traceback": [
      "\u001b[1;31m---------------------------------------------------------------------------\u001b[0m",
      "\u001b[1;31mValueError\u001b[0m                                Traceback (most recent call last)",
      "\u001b[1;32mD:\\Capstone\\NF_Prj_MIMII_Dataset\\utility\\modeling\\JupyterLoad_modeling.py\u001b[0m in \u001b[0;36m<module>\u001b[1;34m\u001b[0m\n\u001b[0;32m      9\u001b[0m             \u001b[0mscore_weighted\u001b[0m \u001b[1;33m=\u001b[0m \u001b[0mscore_unweighted\u001b[0m\u001b[1;33m\u001b[0m\u001b[1;33m\u001b[0m\u001b[0m\n\u001b[0;32m     10\u001b[0m         \u001b[1;32melse\u001b[0m\u001b[1;33m:\u001b[0m\u001b[1;33m\u001b[0m\u001b[1;33m\u001b[0m\u001b[0m\n\u001b[1;32m---> 11\u001b[1;33m             \u001b[0mensemble_dfs\u001b[0m\u001b[1;33m[\u001b[0m\u001b[0mensemble_key\u001b[0m\u001b[1;33m]\u001b[0m \u001b[1;33m=\u001b[0m \u001b[0mensemble_dfs\u001b[0m\u001b[1;33m[\u001b[0m\u001b[0mensemble_key\u001b[0m\u001b[1;33m]\u001b[0m\u001b[1;33m.\u001b[0m\u001b[0mjoin\u001b[0m\u001b[1;33m(\u001b[0m\u001b[0mpipe\u001b[0m\u001b[1;33m.\u001b[0m\u001b[0mdf_test\u001b[0m\u001b[1;33m.\u001b[0m\u001b[0mgroupby\u001b[0m\u001b[1;33m(\u001b[0m\u001b[0mby\u001b[0m\u001b[1;33m=\u001b[0m\u001b[1;34m'path'\u001b[0m\u001b[1;33m)\u001b[0m\u001b[1;33m.\u001b[0m\u001b[0msum\u001b[0m\u001b[1;33m(\u001b[0m\u001b[1;33m)\u001b[0m\u001b[1;33m.\u001b[0m\u001b[0mpred_scores\u001b[0m\u001b[1;33m.\u001b[0m\u001b[0mrename\u001b[0m\u001b[1;33m(\u001b[0m\u001b[0mpipe\u001b[0m\u001b[1;33m.\u001b[0m\u001b[0mmodel\u001b[0m\u001b[1;33m.\u001b[0m\u001b[0mname\u001b[0m\u001b[1;33m+\u001b[0m\u001b[1;34m'_'\u001b[0m\u001b[1;33m+\u001b[0m\u001b[0mpipe\u001b[0m\u001b[1;33m.\u001b[0m\u001b[0mtask\u001b[0m\u001b[1;33m[\u001b[0m\u001b[1;34m'feat_col'\u001b[0m\u001b[1;33m]\u001b[0m\u001b[1;33m+\u001b[0m\u001b[1;34m'_pred_scores'\u001b[0m\u001b[1;33m)\u001b[0m\u001b[1;33m)\u001b[0m\u001b[1;33m\u001b[0m\u001b[1;33m\u001b[0m\u001b[0m\n\u001b[0m\u001b[0;32m     12\u001b[0m \u001b[1;33m\u001b[0m\u001b[0m\n\u001b[0;32m     13\u001b[0m         \u001b[1;32mif\u001b[0m \u001b[0mpipe\u001b[0m\u001b[1;33m.\u001b[0m\u001b[0mmodel\u001b[0m\u001b[1;33m.\u001b[0m\u001b[0mname\u001b[0m \u001b[1;33m==\u001b[0m \u001b[1;34m'IsoFor'\u001b[0m\u001b[1;33m:\u001b[0m\u001b[1;33m\u001b[0m\u001b[1;33m\u001b[0m\u001b[0m\n",
      "\u001b[1;32m~\\.conda\\envs\\mimii-tf2-gpu\\lib\\site-packages\\pandas\\core\\frame.py\u001b[0m in \u001b[0;36mjoin\u001b[1;34m(self, other, on, how, lsuffix, rsuffix, sort)\u001b[0m\n\u001b[0;32m   7207\u001b[0m         \"\"\"\n\u001b[0;32m   7208\u001b[0m         return self._join_compat(\n\u001b[1;32m-> 7209\u001b[1;33m             \u001b[0mother\u001b[0m\u001b[1;33m,\u001b[0m \u001b[0mon\u001b[0m\u001b[1;33m=\u001b[0m\u001b[0mon\u001b[0m\u001b[1;33m,\u001b[0m \u001b[0mhow\u001b[0m\u001b[1;33m=\u001b[0m\u001b[0mhow\u001b[0m\u001b[1;33m,\u001b[0m \u001b[0mlsuffix\u001b[0m\u001b[1;33m=\u001b[0m\u001b[0mlsuffix\u001b[0m\u001b[1;33m,\u001b[0m \u001b[0mrsuffix\u001b[0m\u001b[1;33m=\u001b[0m\u001b[0mrsuffix\u001b[0m\u001b[1;33m,\u001b[0m \u001b[0msort\u001b[0m\u001b[1;33m=\u001b[0m\u001b[0msort\u001b[0m\u001b[1;33m\u001b[0m\u001b[1;33m\u001b[0m\u001b[0m\n\u001b[0m\u001b[0;32m   7210\u001b[0m         )\n\u001b[0;32m   7211\u001b[0m \u001b[1;33m\u001b[0m\u001b[0m\n",
      "\u001b[1;32m~\\.conda\\envs\\mimii-tf2-gpu\\lib\\site-packages\\pandas\\core\\frame.py\u001b[0m in \u001b[0;36m_join_compat\u001b[1;34m(self, other, on, how, lsuffix, rsuffix, sort)\u001b[0m\n\u001b[0;32m   7230\u001b[0m                 \u001b[0mright_index\u001b[0m\u001b[1;33m=\u001b[0m\u001b[1;32mTrue\u001b[0m\u001b[1;33m,\u001b[0m\u001b[1;33m\u001b[0m\u001b[1;33m\u001b[0m\u001b[0m\n\u001b[0;32m   7231\u001b[0m                 \u001b[0msuffixes\u001b[0m\u001b[1;33m=\u001b[0m\u001b[1;33m(\u001b[0m\u001b[0mlsuffix\u001b[0m\u001b[1;33m,\u001b[0m \u001b[0mrsuffix\u001b[0m\u001b[1;33m)\u001b[0m\u001b[1;33m,\u001b[0m\u001b[1;33m\u001b[0m\u001b[1;33m\u001b[0m\u001b[0m\n\u001b[1;32m-> 7232\u001b[1;33m                 \u001b[0msort\u001b[0m\u001b[1;33m=\u001b[0m\u001b[0msort\u001b[0m\u001b[1;33m,\u001b[0m\u001b[1;33m\u001b[0m\u001b[1;33m\u001b[0m\u001b[0m\n\u001b[0m\u001b[0;32m   7233\u001b[0m             )\n\u001b[0;32m   7234\u001b[0m         \u001b[1;32melse\u001b[0m\u001b[1;33m:\u001b[0m\u001b[1;33m\u001b[0m\u001b[1;33m\u001b[0m\u001b[0m\n",
      "\u001b[1;32m~\\.conda\\envs\\mimii-tf2-gpu\\lib\\site-packages\\pandas\\core\\reshape\\merge.py\u001b[0m in \u001b[0;36mmerge\u001b[1;34m(left, right, how, on, left_on, right_on, left_index, right_index, sort, suffixes, copy, indicator, validate)\u001b[0m\n\u001b[0;32m     86\u001b[0m         \u001b[0mvalidate\u001b[0m\u001b[1;33m=\u001b[0m\u001b[0mvalidate\u001b[0m\u001b[1;33m,\u001b[0m\u001b[1;33m\u001b[0m\u001b[1;33m\u001b[0m\u001b[0m\n\u001b[0;32m     87\u001b[0m     )\n\u001b[1;32m---> 88\u001b[1;33m     \u001b[1;32mreturn\u001b[0m \u001b[0mop\u001b[0m\u001b[1;33m.\u001b[0m\u001b[0mget_result\u001b[0m\u001b[1;33m(\u001b[0m\u001b[1;33m)\u001b[0m\u001b[1;33m\u001b[0m\u001b[1;33m\u001b[0m\u001b[0m\n\u001b[0m\u001b[0;32m     89\u001b[0m \u001b[1;33m\u001b[0m\u001b[0m\n\u001b[0;32m     90\u001b[0m \u001b[1;33m\u001b[0m\u001b[0m\n",
      "\u001b[1;32m~\\.conda\\envs\\mimii-tf2-gpu\\lib\\site-packages\\pandas\\core\\reshape\\merge.py\u001b[0m in \u001b[0;36mget_result\u001b[1;34m(self)\u001b[0m\n\u001b[0;32m    647\u001b[0m \u001b[1;33m\u001b[0m\u001b[0m\n\u001b[0;32m    648\u001b[0m         llabels, rlabels = _items_overlap_with_suffix(\n\u001b[1;32m--> 649\u001b[1;33m             \u001b[0mldata\u001b[0m\u001b[1;33m.\u001b[0m\u001b[0mitems\u001b[0m\u001b[1;33m,\u001b[0m \u001b[0mlsuf\u001b[0m\u001b[1;33m,\u001b[0m \u001b[0mrdata\u001b[0m\u001b[1;33m.\u001b[0m\u001b[0mitems\u001b[0m\u001b[1;33m,\u001b[0m \u001b[0mrsuf\u001b[0m\u001b[1;33m\u001b[0m\u001b[1;33m\u001b[0m\u001b[0m\n\u001b[0m\u001b[0;32m    650\u001b[0m         )\n\u001b[0;32m    651\u001b[0m \u001b[1;33m\u001b[0m\u001b[0m\n",
      "\u001b[1;32m~\\.conda\\envs\\mimii-tf2-gpu\\lib\\site-packages\\pandas\\core\\reshape\\merge.py\u001b[0m in \u001b[0;36m_items_overlap_with_suffix\u001b[1;34m(left, lsuffix, right, rsuffix)\u001b[0m\n\u001b[0;32m   2024\u001b[0m         raise ValueError(\n\u001b[0;32m   2025\u001b[0m             \u001b[1;34m\"columns overlap but no suffix specified: \"\u001b[0m\u001b[1;33m\u001b[0m\u001b[1;33m\u001b[0m\u001b[0m\n\u001b[1;32m-> 2026\u001b[1;33m             \u001b[1;34m\"{rename}\"\u001b[0m\u001b[1;33m.\u001b[0m\u001b[0mformat\u001b[0m\u001b[1;33m(\u001b[0m\u001b[0mrename\u001b[0m\u001b[1;33m=\u001b[0m\u001b[0mto_rename\u001b[0m\u001b[1;33m)\u001b[0m\u001b[1;33m\u001b[0m\u001b[1;33m\u001b[0m\u001b[0m\n\u001b[0m\u001b[0;32m   2027\u001b[0m         )\n\u001b[0;32m   2028\u001b[0m \u001b[1;33m\u001b[0m\u001b[0m\n",
      "\u001b[1;31mValueError\u001b[0m: columns overlap but no suffix specified: Index(['SVM_PSD_raw_pred_scores'], dtype='object')"
     ]
    }
   ],
   "source": [
    "ensemble_dfs = {}\n",
    "for ensemble_key, ensemble in ensemble_pipes.items():\n",
    "    for i, pipe in enumerate(ensemble):\n",
    "\n",
    "        if i==0:\n",
    "            ensemble_dfs[ensemble_key] = pd.DataFrame(pipe.df_test.groupby(by='path').sum().pred_scores.rename(pipe.model.name+'_'+pipe.task['feat_col']+'_pred_scores').reindex())\n",
    "            ground_truth = pipe.df_test.groupby(by='path').median().abnormal.rename('ground_truth')\n",
    "            score_unweighted = pd.Series(np.zeros(ensemble_dfs[ensemble_key].iloc[:,0].shape), index=ensemble_dfs[ensemble_key].index)\n",
    "            score_weighted = score_unweighted\n",
    "        else:\n",
    "            ensemble_dfs[ensemble_key] = ensemble_dfs[ensemble_key].join(pipe.df_test.groupby(by='path').sum().pred_scores.rename(pipe.model.name+'_'+pipe.task['feat_col']+'_pred_scores'))\n",
    "        \n",
    "        if pipe.model.name == 'IsoFor':\n",
    "            if pipe.task['feat_col'] == 'PSD_raw':\n",
    "                weight = 1.\n",
    "            else:\n",
    "                weight = .75\n",
    "        elif pipe.model.name == 'AutoEnc':\n",
    "            weight = 1.25\n",
    "        elif pipe.model.name == 'SVM':\n",
    "            weight = 1.\n",
    "        score_weighted = score_weighted + weight * (ensemble_dfs[ensemble_key].iloc[:,-1] - ensemble_dfs[ensemble_key].iloc[:,-1].mean())/ensemble_dfs[ensemble_key].iloc[:,-1].std()\n",
    "        score_unweighted = score_unweighted + (ensemble_dfs[ensemble_key].iloc[:,-1] - ensemble_dfs[ensemble_key].iloc[:,-1].mean())/ensemble_dfs[ensemble_key].iloc[:,-1].std()\n",
    "    \n",
    "    ensemble_dfs[ensemble_key] = ensemble_dfs[ensemble_key].join(score_weighted.rename('score_agg_weighted'))\n",
    "    ensemble_dfs[ensemble_key] = ensemble_dfs[ensemble_key].join(score_unweighted.rename('score_agg_unweighted'))\n",
    "    ensemble_dfs[ensemble_key] = ensemble_dfs[ensemble_key].join(ground_truth.replace(to_replace=1, value=-1).replace(to_replace=0, value=1))"
   ]
  },
  {
   "cell_type": "code",
   "execution_count": null,
   "metadata": {
    "ExecuteTime": {
     "end_time": "2020-05-11T14:04:53.905130Z",
     "start_time": "2020-05-11T14:04:04.705Z"
    }
   },
   "outputs": [],
   "source": [
    "results = pd.DataFrame([])\n",
    "for ensemble_key, ensemble in ensemble_dfs.items():\n",
    "    data = [roc_auc_score(ensemble_dfs[ensemble_key].ground_truth, ensemble_dfs[ensemble_key].score_agg_weighted), \n",
    "            roc_auc_score(ensemble_dfs[ensemble_key].ground_truth, ensemble_dfs[ensemble_key].score_agg_unweighted)]\n",
    "\n",
    "    cols = ['score_aggr_weighted', 'score_aggr_unweighted']\n",
    "    for pipe in ensemble_pipes[ensemble_key]:\n",
    "        data.append(pipe.roc_auc)\n",
    "        cols.append('score_'+pipe.model.name+pipe.task['feat_col'])\n",
    "    results = results.append(pd.DataFrame(data=[data], columns=cols, index=[ensemble_key]))"
   ]
  },
  {
   "cell_type": "code",
   "execution_count": null,
   "metadata": {
    "ExecuteTime": {
     "end_time": "2020-05-11T14:04:53.907132Z",
     "start_time": "2020-05-11T14:04:04.715Z"
    }
   },
   "outputs": [],
   "source": [
    "results"
   ]
  },
  {
   "cell_type": "code",
   "execution_count": null,
   "metadata": {
    "ExecuteTime": {
     "end_time": "2020-05-11T14:04:53.908131Z",
     "start_time": "2020-05-11T14:04:04.721Z"
    }
   },
   "outputs": [],
   "source": [
    "results.score_aggr_weighted.mean()"
   ]
  },
  {
   "cell_type": "code",
   "execution_count": null,
   "metadata": {
    "ExecuteTime": {
     "end_time": "2020-05-11T14:04:53.909130Z",
     "start_time": "2020-05-11T14:04:04.726Z"
    }
   },
   "outputs": [],
   "source": [
    "results.score_aggr_unweighted.mean()"
   ]
  },
  {
   "cell_type": "code",
   "execution_count": null,
   "metadata": {
    "ExecuteTime": {
     "end_time": "2020-05-11T14:04:53.910132Z",
     "start_time": "2020-05-11T14:04:04.735Z"
    }
   },
   "outputs": [],
   "source": [
    "results.score_AutoEncMEL_den.mean()"
   ]
  },
  {
   "cell_type": "code",
   "execution_count": null,
   "metadata": {
    "ExecuteTime": {
     "end_time": "2020-05-11T14:04:53.912133Z",
     "start_time": "2020-05-11T14:04:04.739Z"
    }
   },
   "outputs": [],
   "source": [
    "results.score_IsoForMEL_den.mean()"
   ]
  },
  {
   "cell_type": "code",
   "execution_count": null,
   "metadata": {
    "ExecuteTime": {
     "end_time": "2020-05-11T14:04:53.913131Z",
     "start_time": "2020-05-11T14:04:04.742Z"
    }
   },
   "outputs": [],
   "source": [
    "results.score_IsoForPSD_raw.mean()"
   ]
  },
  {
   "cell_type": "code",
   "execution_count": null,
   "metadata": {
    "ExecuteTime": {
     "end_time": "2020-05-11T14:04:53.914130Z",
     "start_time": "2020-05-11T14:04:04.746Z"
    }
   },
   "outputs": [],
   "source": [
    "for col in predictions['6dBpump00'].columns:\n",
    "    s_tmp = s_tmp + (predictions['min6dBpump00'][col] - predictions['min6dBpump00'][col].mean())/predictions['min6dBpump00'][col].std()\n",
    "predictions['min6dBpump00'].join(s_tmp.rename('score_agg'))"
   ]
  },
  {
   "cell_type": "code",
   "execution_count": null,
   "metadata": {
    "ExecuteTime": {
     "end_time": "2020-05-11T14:04:53.916130Z",
     "start_time": "2020-05-11T14:04:04.749Z"
    }
   },
   "outputs": [],
   "source": [
    "s_tmp"
   ]
  },
  {
   "cell_type": "code",
   "execution_count": null,
   "metadata": {},
   "outputs": [],
   "source": []
  }
 ],
 "metadata": {
  "kernelspec": {
   "display_name": "Py3.7 (mimii_base_TF2_GPU)",
   "language": "python",
   "name": "mimii-tf2-gpu"
  },
  "language_info": {
   "codemirror_mode": {
    "name": "ipython",
    "version": 3
   },
   "file_extension": ".py",
   "mimetype": "text/x-python",
   "name": "python",
   "nbconvert_exporter": "python",
   "pygments_lexer": "ipython3",
   "version": "3.7.7"
  },
  "toc": {
   "base_numbering": 1,
   "nav_menu": {},
   "number_sections": true,
   "sideBar": true,
   "skip_h1_title": true,
   "title_cell": "Table of Contents",
   "title_sidebar": "Contents",
   "toc_cell": true,
   "toc_position": {},
   "toc_section_display": true,
   "toc_window_display": false
  }
 },
 "nbformat": 4,
 "nbformat_minor": 4
}
