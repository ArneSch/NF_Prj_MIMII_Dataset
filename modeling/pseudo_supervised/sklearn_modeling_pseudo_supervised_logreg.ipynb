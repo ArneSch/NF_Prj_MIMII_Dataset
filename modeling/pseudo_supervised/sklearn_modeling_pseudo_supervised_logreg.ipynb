{
 "cells": [
  {
   "cell_type": "markdown",
   "metadata": {
    "toc": true
   },
   "source": [
    "<h1>Table of Contents<span class=\"tocSkip\"></span></h1>\n",
    "<div class=\"toc\"><ul class=\"toc-item\"></ul></div>"
   ]
  },
  {
   "cell_type": "code",
   "execution_count": 3,
   "metadata": {
    "ExecuteTime": {
     "end_time": "2020-05-04T11:49:26.108588Z",
     "start_time": "2020-05-04T11:49:26.062683Z"
    }
   },
   "outputs": [
    {
     "name": "stdout",
     "output_type": "stream",
     "text": [
      "load feature_extractor_mother\n",
      "load feature_extractor_mel_spectra\n",
      "load feature_extractor_psd\n",
      "load feature_extractor_ICA2\n",
      "load feature_extractore_pre_nnFilterDenoise\n",
      "load extractor_diagram_mother\n",
      "load Simple_FIR_HP\n",
      "load TimeSliceAppendActivation\n",
      "load load_data\n",
      "Load split_data\n",
      "Load anomaly_detection_models\n",
      "Load pseudo_supervised_models\n",
      "Load detection_pipe\n",
      "../..//dataset/extdia_v1/pump6dB00_EDiaV1HPaug0_pandaDisc.pkl --> Done\n"
     ]
    }
   ],
   "source": [
    "#===============================================\n",
    "# Basic Imports\n",
    "BASE_FOLDER = '../../'\n",
    "%run -i ..\\..\\utility\\feature_extractor\\JupyterLoad_feature_extractor.py\n",
    "%run -i ..\\..\\utility\\modeling\\JupyterLoad_modeling.py\n",
    "\n",
    "path = BASE_FOLDER + '/dataset/extdia_v1/pump6dB00_EDiaV1HPaug0_pandaDisc.pkl'\n",
    "tt_split(path)\n",
    "with open(path, 'rb') as f:\n",
    "    df = pickle.load(f)"
   ]
  },
  {
   "cell_type": "code",
   "execution_count": 4,
   "metadata": {
    "ExecuteTime": {
     "end_time": "2020-05-04T11:49:27.357914Z",
     "start_time": "2020-05-04T11:49:27.353925Z"
    }
   },
   "outputs": [
    {
     "data": {
      "text/plain": [
       "Index(['path', 'abnormal', 'datafile_idx', 'MEL_denbssm', 'PSD_denbssm',\n",
       "       'MEL_bssm', 'PSD_bssm', 'MEL_raw', 'PSD_raw', 'MEL_den', 'PSD_den',\n",
       "       'ICA_demix', 'SNR', 'machine', 'ID', 'train_set'],\n",
       "      dtype='object')"
      ]
     },
     "execution_count": 4,
     "metadata": {},
     "output_type": "execute_result"
    }
   ],
   "source": [
    "df.columns"
   ]
  },
  {
   "cell_type": "code",
   "execution_count": 5,
   "metadata": {
    "ExecuteTime": {
     "end_time": "2020-05-04T11:50:36.473812Z",
     "start_time": "2020-05-04T11:50:36.467827Z"
    }
   },
   "outputs": [],
   "source": [
    "diagrams = ['extdia_v1']\n",
    "machines = ['pump'#, 'fan', 'slider', 'valve'\n",
    "            ]\n",
    "SNRs = ['6dB'#, 'min6dB'\n",
    "        ]\n",
    "IDs = ['00'#, '02', '04', '06'\n",
    "        ]\n",
    "features = ['PSD_den'#, 'PSD_den'\n",
    "            ]\n",
    "\n",
    "tasks = [{\n",
    "        'path_descr':path, \n",
    "        'feat':{'function':'frame', 'frames':5}, \n",
    "        'feat_col':feature, \n",
    "        'SNR':SNR, \n",
    "        'machine':machine, \n",
    "        'ID':ID,\n",
    "        'BASE_FOLDER':BASE_FOLDER} \n",
    "        for diagram in diagrams\n",
    "        for machine in machines\n",
    "        for SNR in SNRs\n",
    "        for ID in IDs\n",
    "        for feature in features\n",
    "        ]"
   ]
  },
  {
   "cell_type": "code",
   "execution_count": 28,
   "metadata": {
    "ExecuteTime": {
     "end_time": "2020-05-04T12:13:17.498306Z",
     "start_time": "2020-05-04T12:13:17.452431Z"
    }
   },
   "outputs": [],
   "source": [
    "from sklearn.preprocessing import StandardScaler\n",
    "from sklearn.decomposition import PCA, FastICA\n",
    "\n",
    "preprocessing = [\n",
    "    (FastICA, {'n_components':40, 'algorithm':'parallel'}),\n",
    "    (StandardScaler, {})\n",
    "]\n",
    "\n",
    "#modeling = (uni_LogisticRegression, {})\n",
    "modeling = (uni_RandomForestClassifier, {})\n",
    "pipes = [Pipe(preprocessing, modeling) for i in range(len(tasks))]"
   ]
  },
  {
   "cell_type": "code",
   "execution_count": 29,
   "metadata": {
    "ExecuteTime": {
     "end_time": "2020-05-04T12:26:45.246641Z",
     "start_time": "2020-05-04T12:13:19.628826Z"
    }
   },
   "outputs": [
    {
     "name": "stdout",
     "output_type": "stream",
     "text": [
      "...loading data\n",
      "data loading completed\n",
      "\n",
      "...preprocessing data\n",
      "data preprocessing finished\n",
      "\n",
      "...fitting the model\n",
      "model fitted successfully\n",
      "\n",
      "...evaluating model\n",
      "evaluation successfull, roc_auc: 0.9059761484612532\n",
      "pipe saved to pickle\n"
     ]
    },
    {
     "data": {
      "text/plain": [
       "True"
      ]
     },
     "execution_count": 29,
     "metadata": {},
     "output_type": "execute_result"
    }
   ],
   "source": [
    "pipes[0].run_pipe(tasks[0])"
   ]
  },
  {
   "cell_type": "code",
   "execution_count": 27,
   "metadata": {
    "ExecuteTime": {
     "end_time": "2020-05-04T12:12:33.780456Z",
     "start_time": "2020-05-04T12:12:33.763475Z"
    }
   },
   "outputs": [
    {
     "data": {
      "text/plain": [
       " 1.0    77639\n",
       "-1.0    10735\n",
       "Name: pred_labels, dtype: int64"
      ]
     },
     "execution_count": 27,
     "metadata": {},
     "output_type": "execute_result"
    }
   ],
   "source": [
    "pipes[0].df_test.pred_labels.value_counts()"
   ]
  },
  {
   "cell_type": "code",
   "execution_count": 21,
   "metadata": {
    "ExecuteTime": {
     "end_time": "2020-05-04T12:07:30.491661Z",
     "start_time": "2020-05-04T12:07:30.475676Z"
    }
   },
   "outputs": [
    {
     "data": {
      "text/plain": [
       "0         1.0\n",
       "1         1.0\n",
       "2         1.0\n",
       "3         1.0\n",
       "4         1.0\n",
       "         ... \n",
       "533329   -1.0\n",
       "533330   -1.0\n",
       "533331   -1.0\n",
       "533332   -1.0\n",
       "533333   -1.0\n",
       "Name: abnormal, Length: 533334, dtype: float64"
      ]
     },
     "execution_count": 21,
     "metadata": {},
     "output_type": "execute_result"
    }
   ],
   "source": [
    "ground_truth = pipes[0].df_train.abnormal.replace(to_replace=1, value=-1).replace(to_replace=0, value=1)\n",
    "ground_truth"
   ]
  },
  {
   "cell_type": "code",
   "execution_count": 22,
   "metadata": {
    "ExecuteTime": {
     "end_time": "2020-05-04T12:08:38.337284Z",
     "start_time": "2020-05-04T12:08:38.262460Z"
    }
   },
   "outputs": [
    {
     "ename": "ValueError",
     "evalue": "X has 400 features per sample; expecting 40",
     "output_type": "error",
     "traceback": [
      "\u001b[1;31m---------------------------------------------------------------------------\u001b[0m",
      "\u001b[1;31mValueError\u001b[0m                                Traceback (most recent call last)",
      "\u001b[1;32mA:\\Dev\\NF_Prj_MIMII_Dataset\\utility\\modeling\\JupyterLoad_modeling.py\u001b[0m in \u001b[0;36m<module>\u001b[1;34m\u001b[0m\n\u001b[1;32m----> 1\u001b[1;33m \u001b[0mpipes\u001b[0m\u001b[1;33m[\u001b[0m\u001b[1;36m0\u001b[0m\u001b[1;33m]\u001b[0m\u001b[1;33m.\u001b[0m\u001b[0mevaluate\u001b[0m\u001b[1;33m(\u001b[0m\u001b[0mdata_test\u001b[0m\u001b[1;33m,\u001b[0m \u001b[0mground_truth\u001b[0m\u001b[1;33m)\u001b[0m\u001b[1;33m\u001b[0m\u001b[1;33m\u001b[0m\u001b[0m\n\u001b[0m\u001b[0;32m      2\u001b[0m \u001b[1;31m#pipes[0].df_test.pred_labels\u001b[0m\u001b[1;33m\u001b[0m\u001b[1;33m\u001b[0m\u001b[1;33m\u001b[0m\u001b[0m\n",
      "\u001b[1;32mA:\\Dev\\NF_Prj_MIMII_Dataset\\utility\\modeling\\JupyterLoad_modeling.py\u001b[0m in \u001b[0;36mevaluate\u001b[1;34m(self, data_test, ground_truth)\u001b[0m\n",
      "\u001b[1;32mA:\\Dev\\NF_Prj_MIMII_Dataset\\utility\\modeling\\JupyterLoad_modeling.py\u001b[0m in \u001b[0;36mpredict_score\u001b[1;34m(self, data)\u001b[0m\n",
      "\u001b[1;32mC:\\ProgramData\\Anaconda3\\envs\\mimiibaseTF2GPU\\lib\\site-packages\\sklearn\\linear_model\\_logistic.py\u001b[0m in \u001b[0;36mpredict_proba\u001b[1;34m(self, X)\u001b[0m\n\u001b[0;32m   1649\u001b[0m                                                 self.solver == 'liblinear')))\n\u001b[0;32m   1650\u001b[0m         \u001b[1;32mif\u001b[0m \u001b[0movr\u001b[0m\u001b[1;33m:\u001b[0m\u001b[1;33m\u001b[0m\u001b[1;33m\u001b[0m\u001b[0m\n\u001b[1;32m-> 1651\u001b[1;33m             \u001b[1;32mreturn\u001b[0m \u001b[0msuper\u001b[0m\u001b[1;33m(\u001b[0m\u001b[1;33m)\u001b[0m\u001b[1;33m.\u001b[0m\u001b[0m_predict_proba_lr\u001b[0m\u001b[1;33m(\u001b[0m\u001b[0mX\u001b[0m\u001b[1;33m)\u001b[0m\u001b[1;33m\u001b[0m\u001b[1;33m\u001b[0m\u001b[0m\n\u001b[0m\u001b[0;32m   1652\u001b[0m         \u001b[1;32melse\u001b[0m\u001b[1;33m:\u001b[0m\u001b[1;33m\u001b[0m\u001b[1;33m\u001b[0m\u001b[0m\n\u001b[0;32m   1653\u001b[0m             \u001b[0mdecision\u001b[0m \u001b[1;33m=\u001b[0m \u001b[0mself\u001b[0m\u001b[1;33m.\u001b[0m\u001b[0mdecision_function\u001b[0m\u001b[1;33m(\u001b[0m\u001b[0mX\u001b[0m\u001b[1;33m)\u001b[0m\u001b[1;33m\u001b[0m\u001b[1;33m\u001b[0m\u001b[0m\n",
      "\u001b[1;32mC:\\ProgramData\\Anaconda3\\envs\\mimiibaseTF2GPU\\lib\\site-packages\\sklearn\\linear_model\\_base.py\u001b[0m in \u001b[0;36m_predict_proba_lr\u001b[1;34m(self, X)\u001b[0m\n\u001b[0;32m    305\u001b[0m         \u001b[0mmulticlass\u001b[0m \u001b[1;32mis\u001b[0m \u001b[0mhandled\u001b[0m \u001b[0mby\u001b[0m \u001b[0mnormalizing\u001b[0m \u001b[0mthat\u001b[0m \u001b[0mover\u001b[0m \u001b[0mall\u001b[0m \u001b[0mclasses\u001b[0m\u001b[1;33m.\u001b[0m\u001b[1;33m\u001b[0m\u001b[1;33m\u001b[0m\u001b[0m\n\u001b[0;32m    306\u001b[0m         \"\"\"\n\u001b[1;32m--> 307\u001b[1;33m         \u001b[0mprob\u001b[0m \u001b[1;33m=\u001b[0m \u001b[0mself\u001b[0m\u001b[1;33m.\u001b[0m\u001b[0mdecision_function\u001b[0m\u001b[1;33m(\u001b[0m\u001b[0mX\u001b[0m\u001b[1;33m)\u001b[0m\u001b[1;33m\u001b[0m\u001b[1;33m\u001b[0m\u001b[0m\n\u001b[0m\u001b[0;32m    308\u001b[0m         \u001b[0mexpit\u001b[0m\u001b[1;33m(\u001b[0m\u001b[0mprob\u001b[0m\u001b[1;33m,\u001b[0m \u001b[0mout\u001b[0m\u001b[1;33m=\u001b[0m\u001b[0mprob\u001b[0m\u001b[1;33m)\u001b[0m\u001b[1;33m\u001b[0m\u001b[1;33m\u001b[0m\u001b[0m\n\u001b[0;32m    309\u001b[0m         \u001b[1;32mif\u001b[0m \u001b[0mprob\u001b[0m\u001b[1;33m.\u001b[0m\u001b[0mndim\u001b[0m \u001b[1;33m==\u001b[0m \u001b[1;36m1\u001b[0m\u001b[1;33m:\u001b[0m\u001b[1;33m\u001b[0m\u001b[1;33m\u001b[0m\u001b[0m\n",
      "\u001b[1;32mC:\\ProgramData\\Anaconda3\\envs\\mimiibaseTF2GPU\\lib\\site-packages\\sklearn\\linear_model\\_base.py\u001b[0m in \u001b[0;36mdecision_function\u001b[1;34m(self, X)\u001b[0m\n\u001b[0;32m    271\u001b[0m         \u001b[1;32mif\u001b[0m \u001b[0mX\u001b[0m\u001b[1;33m.\u001b[0m\u001b[0mshape\u001b[0m\u001b[1;33m[\u001b[0m\u001b[1;36m1\u001b[0m\u001b[1;33m]\u001b[0m \u001b[1;33m!=\u001b[0m \u001b[0mn_features\u001b[0m\u001b[1;33m:\u001b[0m\u001b[1;33m\u001b[0m\u001b[1;33m\u001b[0m\u001b[0m\n\u001b[0;32m    272\u001b[0m             raise ValueError(\"X has %d features per sample; expecting %d\"\n\u001b[1;32m--> 273\u001b[1;33m                              % (X.shape[1], n_features))\n\u001b[0m\u001b[0;32m    274\u001b[0m \u001b[1;33m\u001b[0m\u001b[0m\n\u001b[0;32m    275\u001b[0m         scores = safe_sparse_dot(X, self.coef_.T,\n",
      "\u001b[1;31mValueError\u001b[0m: X has 400 features per sample; expecting 40"
     ]
    }
   ],
   "source": [
    "pipes[0].evaluate(data_test, ground_truth)\n",
    "#pipes[0].df_test.pred_labels"
   ]
  },
  {
   "cell_type": "code",
   "execution_count": 8,
   "metadata": {
    "ExecuteTime": {
     "end_time": "2020-05-04T11:41:01.833560Z",
     "start_time": "2020-05-04T11:41:01.106464Z"
    }
   },
   "outputs": [],
   "source": [
    "   \n",
    "dd = pickle.load( open( r'.\\pipes\\MEL_den_frame5_6dB_pump_ID00_20200504_133517.pkl', \"rb\" ))"
   ]
  },
  {
   "cell_type": "code",
   "execution_count": 15,
   "metadata": {
    "ExecuteTime": {
     "end_time": "2020-05-04T11:44:26.170191Z",
     "start_time": "2020-05-04T11:44:26.165205Z"
    }
   },
   "outputs": [
    {
     "data": {
      "text/plain": [
       "{}"
      ]
     },
     "execution_count": 15,
     "metadata": {},
     "output_type": "execute_result"
    }
   ],
   "source": [
    "dd.roc_auc\n",
    "dd.model_args\n"
   ]
  },
  {
   "cell_type": "markdown",
   "metadata": {},
   "source": [
    "# ignore part below unless multithreading is needed"
   ]
  },
  {
   "cell_type": "code",
   "execution_count": 5,
   "metadata": {
    "ExecuteTime": {
     "end_time": "2020-05-04T11:27:37.525040Z",
     "start_time": "2020-05-04T11:27:37.520029Z"
    }
   },
   "outputs": [],
   "source": [
    "#lw = LoggerWrap()\n",
    "\n",
    "# create the threads\n",
    "n_jobs = 4\n",
    "worker_list = []\n",
    "queue = Queue()\n",
    "for worker in range(n_jobs):\n",
    "    worker = PipeThread(queue)\n",
    "    worker.daemon = True\n",
    "    worker.start()\n",
    "    worker_list.append(worker)"
   ]
  },
  {
   "cell_type": "code",
   "execution_count": 5,
   "metadata": {
    "ExecuteTime": {
     "end_time": "2020-04-30T11:47:44.428178Z",
     "start_time": "2020-04-30T11:47:44.409175Z"
    }
   },
   "outputs": [
    {
     "name": "stdout",
     "output_type": "stream",
     "text": [
      "...loading data\n",
      "data loading completed\n",
      "\n",
      "...preprocessing data\n"
     ]
    }
   ],
   "source": [
    "# fill the Queue\n",
    "#lw.log('multithread mode filling the queue' )\n",
    "for pipe, task in (zip(pipes, tasks)):\n",
    "    queue.put((pipe, task))"
   ]
  },
  {
   "cell_type": "code",
   "execution_count": 7,
   "metadata": {
    "ExecuteTime": {
     "end_time": "2020-04-30T11:46:24.954418Z",
     "start_time": "2020-04-30T11:46:24.871418Z"
    },
    "scrolled": true
   },
   "outputs": [],
   "source": [
    "for worker in worker_list:\n",
    "    worker.stop = True"
   ]
  },
  {
   "cell_type": "code",
   "execution_count": null,
   "metadata": {},
   "outputs": [],
   "source": []
  }
 ],
 "metadata": {
  "kernelspec": {
   "display_name": "Py3.7 (mimii_base_TF2_GPU)",
   "language": "python",
   "name": "mimiibasetf2gpu"
  },
  "language_info": {
   "codemirror_mode": {
    "name": "ipython",
    "version": 3
   },
   "file_extension": ".py",
   "mimetype": "text/x-python",
   "name": "python",
   "nbconvert_exporter": "python",
   "pygments_lexer": "ipython3",
   "version": "3.7.6"
  },
  "toc": {
   "base_numbering": 1,
   "nav_menu": {},
   "number_sections": true,
   "sideBar": true,
   "skip_h1_title": true,
   "title_cell": "Table of Contents",
   "title_sidebar": "Contents",
   "toc_cell": true,
   "toc_position": {},
   "toc_section_display": true,
   "toc_window_display": false
  }
 },
 "nbformat": 4,
 "nbformat_minor": 4
}
