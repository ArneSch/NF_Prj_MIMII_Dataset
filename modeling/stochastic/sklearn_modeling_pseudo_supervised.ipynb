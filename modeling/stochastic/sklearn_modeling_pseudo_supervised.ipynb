{
 "cells": [
  {
   "cell_type": "markdown",
   "metadata": {
    "toc": true
   },
   "source": [
    "<h1>Table of Contents<span class=\"tocSkip\"></span></h1>\n",
    "<div class=\"toc\"><ul class=\"toc-item\"><li><span><a href=\"#Structure-cheat-sheet\" data-toc-modified-id=\"Structure-cheat-sheet-1\"><span class=\"toc-item-num\">1&nbsp;&nbsp;</span>Structure cheat sheet</a></span></li><li><span><a href=\"#Data-structure\" data-toc-modified-id=\"Data-structure-2\"><span class=\"toc-item-num\">2&nbsp;&nbsp;</span>Data structure</a></span></li><li><span><a href=\"#get-features\" data-toc-modified-id=\"get-features-3\"><span class=\"toc-item-num\">3&nbsp;&nbsp;</span>get features</a></span></li></ul></div>"
   ]
  },
  {
   "cell_type": "code",
   "execution_count": 1,
   "metadata": {},
   "outputs": [
    {
     "output_type": "stream",
     "name": "stdout",
     "text": "load feature_extractor_mother\nload feature_extractor_mel_spectra\nload feature_extractor_psd\nload feature_extractor_ICA2\nload feature_extractore_pre_nnFilterDenoise\nload extractor_diagram_mother\nload Simple_FIR_HP\nload TimeSliceAppendActivation\nload load_data\nLoad split_data\nLoad anomaly_detection_models\nLoad detection_pipe\n../..//dataset/extdia_v1/pump6dB00_EDiaV1HPaug0_pandaDisc.pkl --> Done\n"
    }
   ],
   "source": [
    "#===============================================\n",
    "# Basic Imports\n",
    "\n",
    "\n",
    "BASE_FOLDER = '../../'\n",
    "%run -i ..\\..\\utility\\feature_extractor\\JupyterLoad_feature_extractor.py\n",
    "%run -i ..\\..\\utility\\modeling\\JupyterLoad_modeling.py\n",
    "\n",
    "path = BASE_FOLDER + '/dataset/extdia_v1/pump6dB00_EDiaV1HPaug0_pandaDisc.pkl'\n",
    "tt_split(path)\n",
    "with open(path, 'rb') as f:\n",
    "    df = pickle.load(f)"
   ]
  },
  {
   "cell_type": "code",
   "execution_count": 21,
   "metadata": {},
   "outputs": [
    {
     "output_type": "execute_result",
     "data": {
      "text/plain": "                                               path  abnormal  datafile_idx  \\\n0     \\dataset\\6dB\\pump\\id_00\\abnormal\\00000000.wav       1.0             0   \n1     \\dataset\\6dB\\pump\\id_00\\abnormal\\00000010.wav       1.0             1   \n2     \\dataset\\6dB\\pump\\id_00\\abnormal\\00000017.wav       1.0             2   \n3     \\dataset\\6dB\\pump\\id_00\\abnormal\\00000024.wav       1.0             3   \n4     \\dataset\\6dB\\pump\\id_00\\abnormal\\00000033.wav       1.0             4   \n...                                             ...       ...           ...   \n2150    \\dataset\\6dB\\pump\\id_00\\normal\\00000992.wav      -1.0          2150   \n2151    \\dataset\\6dB\\pump\\id_00\\normal\\00000996.wav       0.0          2151   \n2152    \\dataset\\6dB\\pump\\id_00\\normal\\00000996.wav      -1.0          2152   \n2153    \\dataset\\6dB\\pump\\id_00\\normal\\00001001.wav       0.0          2153   \n2154    \\dataset\\6dB\\pump\\id_00\\normal\\00001001.wav      -1.0          2154   \n\n                                            MEL_denbssm  \\\n0     \\dataset\\extdia_v1\\pump6dB00_EDiaV1HPaug0_outp...   \n1     \\dataset\\extdia_v1\\pump6dB00_EDiaV1HPaug0_outp...   \n2     \\dataset\\extdia_v1\\pump6dB00_EDiaV1HPaug0_outp...   \n3     \\dataset\\extdia_v1\\pump6dB00_EDiaV1HPaug0_outp...   \n4     \\dataset\\extdia_v1\\pump6dB00_EDiaV1HPaug0_outp...   \n...                                                 ...   \n2150  \\dataset\\extdia_v1\\pump6dB00_EDiaV1HPaug0_outp...   \n2151  \\dataset\\extdia_v1\\pump6dB00_EDiaV1HPaug0_outp...   \n2152  \\dataset\\extdia_v1\\pump6dB00_EDiaV1HPaug0_outp...   \n2153  \\dataset\\extdia_v1\\pump6dB00_EDiaV1HPaug0_outp...   \n2154  \\dataset\\extdia_v1\\pump6dB00_EDiaV1HPaug0_outp...   \n\n                                            PSD_denbssm  \\\n0     \\dataset\\extdia_v1\\pump6dB00_EDiaV1HPaug0_outp...   \n1     \\dataset\\extdia_v1\\pump6dB00_EDiaV1HPaug0_outp...   \n2     \\dataset\\extdia_v1\\pump6dB00_EDiaV1HPaug0_outp...   \n3     \\dataset\\extdia_v1\\pump6dB00_EDiaV1HPaug0_outp...   \n4     \\dataset\\extdia_v1\\pump6dB00_EDiaV1HPaug0_outp...   \n...                                                 ...   \n2150  \\dataset\\extdia_v1\\pump6dB00_EDiaV1HPaug0_outp...   \n2151  \\dataset\\extdia_v1\\pump6dB00_EDiaV1HPaug0_outp...   \n2152  \\dataset\\extdia_v1\\pump6dB00_EDiaV1HPaug0_outp...   \n2153  \\dataset\\extdia_v1\\pump6dB00_EDiaV1HPaug0_outp...   \n2154  \\dataset\\extdia_v1\\pump6dB00_EDiaV1HPaug0_outp...   \n\n                                               MEL_bssm  \\\n0     \\dataset\\extdia_v1\\pump6dB00_EDiaV1HPaug0_outp...   \n1     \\dataset\\extdia_v1\\pump6dB00_EDiaV1HPaug0_outp...   \n2     \\dataset\\extdia_v1\\pump6dB00_EDiaV1HPaug0_outp...   \n3     \\dataset\\extdia_v1\\pump6dB00_EDiaV1HPaug0_outp...   \n4     \\dataset\\extdia_v1\\pump6dB00_EDiaV1HPaug0_outp...   \n...                                                 ...   \n2150  \\dataset\\extdia_v1\\pump6dB00_EDiaV1HPaug0_outp...   \n2151  \\dataset\\extdia_v1\\pump6dB00_EDiaV1HPaug0_outp...   \n2152  \\dataset\\extdia_v1\\pump6dB00_EDiaV1HPaug0_outp...   \n2153  \\dataset\\extdia_v1\\pump6dB00_EDiaV1HPaug0_outp...   \n2154  \\dataset\\extdia_v1\\pump6dB00_EDiaV1HPaug0_outp...   \n\n                                               PSD_bssm  \\\n0     \\dataset\\extdia_v1\\pump6dB00_EDiaV1HPaug0_outp...   \n1     \\dataset\\extdia_v1\\pump6dB00_EDiaV1HPaug0_outp...   \n2     \\dataset\\extdia_v1\\pump6dB00_EDiaV1HPaug0_outp...   \n3     \\dataset\\extdia_v1\\pump6dB00_EDiaV1HPaug0_outp...   \n4     \\dataset\\extdia_v1\\pump6dB00_EDiaV1HPaug0_outp...   \n...                                                 ...   \n2150  \\dataset\\extdia_v1\\pump6dB00_EDiaV1HPaug0_outp...   \n2151  \\dataset\\extdia_v1\\pump6dB00_EDiaV1HPaug0_outp...   \n2152  \\dataset\\extdia_v1\\pump6dB00_EDiaV1HPaug0_outp...   \n2153  \\dataset\\extdia_v1\\pump6dB00_EDiaV1HPaug0_outp...   \n2154  \\dataset\\extdia_v1\\pump6dB00_EDiaV1HPaug0_outp...   \n\n                                                MEL_raw  \\\n0     \\dataset\\extdia_v1\\pump6dB00_EDiaV1HPaug0_outp...   \n1     \\dataset\\extdia_v1\\pump6dB00_EDiaV1HPaug0_outp...   \n2     \\dataset\\extdia_v1\\pump6dB00_EDiaV1HPaug0_outp...   \n3     \\dataset\\extdia_v1\\pump6dB00_EDiaV1HPaug0_outp...   \n4     \\dataset\\extdia_v1\\pump6dB00_EDiaV1HPaug0_outp...   \n...                                                 ...   \n2150  \\dataset\\extdia_v1\\pump6dB00_EDiaV1HPaug0_outp...   \n2151  \\dataset\\extdia_v1\\pump6dB00_EDiaV1HPaug0_outp...   \n2152  \\dataset\\extdia_v1\\pump6dB00_EDiaV1HPaug0_outp...   \n2153  \\dataset\\extdia_v1\\pump6dB00_EDiaV1HPaug0_outp...   \n2154  \\dataset\\extdia_v1\\pump6dB00_EDiaV1HPaug0_outp...   \n\n                                                PSD_raw  \\\n0     \\dataset\\extdia_v1\\pump6dB00_EDiaV1HPaug0_outp...   \n1     \\dataset\\extdia_v1\\pump6dB00_EDiaV1HPaug0_outp...   \n2     \\dataset\\extdia_v1\\pump6dB00_EDiaV1HPaug0_outp...   \n3     \\dataset\\extdia_v1\\pump6dB00_EDiaV1HPaug0_outp...   \n4     \\dataset\\extdia_v1\\pump6dB00_EDiaV1HPaug0_outp...   \n...                                                 ...   \n2150  \\dataset\\extdia_v1\\pump6dB00_EDiaV1HPaug0_outp...   \n2151  \\dataset\\extdia_v1\\pump6dB00_EDiaV1HPaug0_outp...   \n2152  \\dataset\\extdia_v1\\pump6dB00_EDiaV1HPaug0_outp...   \n2153  \\dataset\\extdia_v1\\pump6dB00_EDiaV1HPaug0_outp...   \n2154  \\dataset\\extdia_v1\\pump6dB00_EDiaV1HPaug0_outp...   \n\n                                                MEL_den  \\\n0     \\dataset\\extdia_v1\\pump6dB00_EDiaV1HPaug0_outp...   \n1     \\dataset\\extdia_v1\\pump6dB00_EDiaV1HPaug0_outp...   \n2     \\dataset\\extdia_v1\\pump6dB00_EDiaV1HPaug0_outp...   \n3     \\dataset\\extdia_v1\\pump6dB00_EDiaV1HPaug0_outp...   \n4     \\dataset\\extdia_v1\\pump6dB00_EDiaV1HPaug0_outp...   \n...                                                 ...   \n2150  \\dataset\\extdia_v1\\pump6dB00_EDiaV1HPaug0_outp...   \n2151  \\dataset\\extdia_v1\\pump6dB00_EDiaV1HPaug0_outp...   \n2152  \\dataset\\extdia_v1\\pump6dB00_EDiaV1HPaug0_outp...   \n2153  \\dataset\\extdia_v1\\pump6dB00_EDiaV1HPaug0_outp...   \n2154  \\dataset\\extdia_v1\\pump6dB00_EDiaV1HPaug0_outp...   \n\n                                                PSD_den  \\\n0     \\dataset\\extdia_v1\\pump6dB00_EDiaV1HPaug0_outp...   \n1     \\dataset\\extdia_v1\\pump6dB00_EDiaV1HPaug0_outp...   \n2     \\dataset\\extdia_v1\\pump6dB00_EDiaV1HPaug0_outp...   \n3     \\dataset\\extdia_v1\\pump6dB00_EDiaV1HPaug0_outp...   \n4     \\dataset\\extdia_v1\\pump6dB00_EDiaV1HPaug0_outp...   \n...                                                 ...   \n2150  \\dataset\\extdia_v1\\pump6dB00_EDiaV1HPaug0_outp...   \n2151  \\dataset\\extdia_v1\\pump6dB00_EDiaV1HPaug0_outp...   \n2152  \\dataset\\extdia_v1\\pump6dB00_EDiaV1HPaug0_outp...   \n2153  \\dataset\\extdia_v1\\pump6dB00_EDiaV1HPaug0_outp...   \n2154  \\dataset\\extdia_v1\\pump6dB00_EDiaV1HPaug0_outp...   \n\n                                              ICA_demix  SNR machine  ID  \\\n0     \\dataset\\extdia_v1\\pump6dB00_EDiaV1HPaug0_outp...  6dB    pump  00   \n1     \\dataset\\extdia_v1\\pump6dB00_EDiaV1HPaug0_outp...  6dB    pump  00   \n2     \\dataset\\extdia_v1\\pump6dB00_EDiaV1HPaug0_outp...  6dB    pump  00   \n3     \\dataset\\extdia_v1\\pump6dB00_EDiaV1HPaug0_outp...  6dB    pump  00   \n4     \\dataset\\extdia_v1\\pump6dB00_EDiaV1HPaug0_outp...  6dB    pump  00   \n...                                                 ...  ...     ...  ..   \n2150  \\dataset\\extdia_v1\\pump6dB00_EDiaV1HPaug0_outp...  6dB    pump  00   \n2151  \\dataset\\extdia_v1\\pump6dB00_EDiaV1HPaug0_outp...  6dB    pump  00   \n2152  \\dataset\\extdia_v1\\pump6dB00_EDiaV1HPaug0_outp...  6dB    pump  00   \n2153  \\dataset\\extdia_v1\\pump6dB00_EDiaV1HPaug0_outp...  6dB    pump  00   \n2154  \\dataset\\extdia_v1\\pump6dB00_EDiaV1HPaug0_outp...  6dB    pump  00   \n\n      train_set  \n0             0  \n1             0  \n2             0  \n3             0  \n4             0  \n...         ...  \n2150          0  \n2151          1  \n2152          0  \n2153          1  \n2154          0  \n\n[2155 rows x 16 columns]",
      "text/html": "<div>\n<style scoped>\n    .dataframe tbody tr th:only-of-type {\n        vertical-align: middle;\n    }\n\n    .dataframe tbody tr th {\n        vertical-align: top;\n    }\n\n    .dataframe thead th {\n        text-align: right;\n    }\n</style>\n<table border=\"1\" class=\"dataframe\">\n  <thead>\n    <tr style=\"text-align: right;\">\n      <th></th>\n      <th>path</th>\n      <th>abnormal</th>\n      <th>datafile_idx</th>\n      <th>MEL_denbssm</th>\n      <th>PSD_denbssm</th>\n      <th>MEL_bssm</th>\n      <th>PSD_bssm</th>\n      <th>MEL_raw</th>\n      <th>PSD_raw</th>\n      <th>MEL_den</th>\n      <th>PSD_den</th>\n      <th>ICA_demix</th>\n      <th>SNR</th>\n      <th>machine</th>\n      <th>ID</th>\n      <th>train_set</th>\n    </tr>\n  </thead>\n  <tbody>\n    <tr>\n      <th>0</th>\n      <td>\\dataset\\6dB\\pump\\id_00\\abnormal\\00000000.wav</td>\n      <td>1.0</td>\n      <td>0</td>\n      <td>\\dataset\\extdia_v1\\pump6dB00_EDiaV1HPaug0_outp...</td>\n      <td>\\dataset\\extdia_v1\\pump6dB00_EDiaV1HPaug0_outp...</td>\n      <td>\\dataset\\extdia_v1\\pump6dB00_EDiaV1HPaug0_outp...</td>\n      <td>\\dataset\\extdia_v1\\pump6dB00_EDiaV1HPaug0_outp...</td>\n      <td>\\dataset\\extdia_v1\\pump6dB00_EDiaV1HPaug0_outp...</td>\n      <td>\\dataset\\extdia_v1\\pump6dB00_EDiaV1HPaug0_outp...</td>\n      <td>\\dataset\\extdia_v1\\pump6dB00_EDiaV1HPaug0_outp...</td>\n      <td>\\dataset\\extdia_v1\\pump6dB00_EDiaV1HPaug0_outp...</td>\n      <td>\\dataset\\extdia_v1\\pump6dB00_EDiaV1HPaug0_outp...</td>\n      <td>6dB</td>\n      <td>pump</td>\n      <td>00</td>\n      <td>0</td>\n    </tr>\n    <tr>\n      <th>1</th>\n      <td>\\dataset\\6dB\\pump\\id_00\\abnormal\\00000010.wav</td>\n      <td>1.0</td>\n      <td>1</td>\n      <td>\\dataset\\extdia_v1\\pump6dB00_EDiaV1HPaug0_outp...</td>\n      <td>\\dataset\\extdia_v1\\pump6dB00_EDiaV1HPaug0_outp...</td>\n      <td>\\dataset\\extdia_v1\\pump6dB00_EDiaV1HPaug0_outp...</td>\n      <td>\\dataset\\extdia_v1\\pump6dB00_EDiaV1HPaug0_outp...</td>\n      <td>\\dataset\\extdia_v1\\pump6dB00_EDiaV1HPaug0_outp...</td>\n      <td>\\dataset\\extdia_v1\\pump6dB00_EDiaV1HPaug0_outp...</td>\n      <td>\\dataset\\extdia_v1\\pump6dB00_EDiaV1HPaug0_outp...</td>\n      <td>\\dataset\\extdia_v1\\pump6dB00_EDiaV1HPaug0_outp...</td>\n      <td>\\dataset\\extdia_v1\\pump6dB00_EDiaV1HPaug0_outp...</td>\n      <td>6dB</td>\n      <td>pump</td>\n      <td>00</td>\n      <td>0</td>\n    </tr>\n    <tr>\n      <th>2</th>\n      <td>\\dataset\\6dB\\pump\\id_00\\abnormal\\00000017.wav</td>\n      <td>1.0</td>\n      <td>2</td>\n      <td>\\dataset\\extdia_v1\\pump6dB00_EDiaV1HPaug0_outp...</td>\n      <td>\\dataset\\extdia_v1\\pump6dB00_EDiaV1HPaug0_outp...</td>\n      <td>\\dataset\\extdia_v1\\pump6dB00_EDiaV1HPaug0_outp...</td>\n      <td>\\dataset\\extdia_v1\\pump6dB00_EDiaV1HPaug0_outp...</td>\n      <td>\\dataset\\extdia_v1\\pump6dB00_EDiaV1HPaug0_outp...</td>\n      <td>\\dataset\\extdia_v1\\pump6dB00_EDiaV1HPaug0_outp...</td>\n      <td>\\dataset\\extdia_v1\\pump6dB00_EDiaV1HPaug0_outp...</td>\n      <td>\\dataset\\extdia_v1\\pump6dB00_EDiaV1HPaug0_outp...</td>\n      <td>\\dataset\\extdia_v1\\pump6dB00_EDiaV1HPaug0_outp...</td>\n      <td>6dB</td>\n      <td>pump</td>\n      <td>00</td>\n      <td>0</td>\n    </tr>\n    <tr>\n      <th>3</th>\n      <td>\\dataset\\6dB\\pump\\id_00\\abnormal\\00000024.wav</td>\n      <td>1.0</td>\n      <td>3</td>\n      <td>\\dataset\\extdia_v1\\pump6dB00_EDiaV1HPaug0_outp...</td>\n      <td>\\dataset\\extdia_v1\\pump6dB00_EDiaV1HPaug0_outp...</td>\n      <td>\\dataset\\extdia_v1\\pump6dB00_EDiaV1HPaug0_outp...</td>\n      <td>\\dataset\\extdia_v1\\pump6dB00_EDiaV1HPaug0_outp...</td>\n      <td>\\dataset\\extdia_v1\\pump6dB00_EDiaV1HPaug0_outp...</td>\n      <td>\\dataset\\extdia_v1\\pump6dB00_EDiaV1HPaug0_outp...</td>\n      <td>\\dataset\\extdia_v1\\pump6dB00_EDiaV1HPaug0_outp...</td>\n      <td>\\dataset\\extdia_v1\\pump6dB00_EDiaV1HPaug0_outp...</td>\n      <td>\\dataset\\extdia_v1\\pump6dB00_EDiaV1HPaug0_outp...</td>\n      <td>6dB</td>\n      <td>pump</td>\n      <td>00</td>\n      <td>0</td>\n    </tr>\n    <tr>\n      <th>4</th>\n      <td>\\dataset\\6dB\\pump\\id_00\\abnormal\\00000033.wav</td>\n      <td>1.0</td>\n      <td>4</td>\n      <td>\\dataset\\extdia_v1\\pump6dB00_EDiaV1HPaug0_outp...</td>\n      <td>\\dataset\\extdia_v1\\pump6dB00_EDiaV1HPaug0_outp...</td>\n      <td>\\dataset\\extdia_v1\\pump6dB00_EDiaV1HPaug0_outp...</td>\n      <td>\\dataset\\extdia_v1\\pump6dB00_EDiaV1HPaug0_outp...</td>\n      <td>\\dataset\\extdia_v1\\pump6dB00_EDiaV1HPaug0_outp...</td>\n      <td>\\dataset\\extdia_v1\\pump6dB00_EDiaV1HPaug0_outp...</td>\n      <td>\\dataset\\extdia_v1\\pump6dB00_EDiaV1HPaug0_outp...</td>\n      <td>\\dataset\\extdia_v1\\pump6dB00_EDiaV1HPaug0_outp...</td>\n      <td>\\dataset\\extdia_v1\\pump6dB00_EDiaV1HPaug0_outp...</td>\n      <td>6dB</td>\n      <td>pump</td>\n      <td>00</td>\n      <td>0</td>\n    </tr>\n    <tr>\n      <th>...</th>\n      <td>...</td>\n      <td>...</td>\n      <td>...</td>\n      <td>...</td>\n      <td>...</td>\n      <td>...</td>\n      <td>...</td>\n      <td>...</td>\n      <td>...</td>\n      <td>...</td>\n      <td>...</td>\n      <td>...</td>\n      <td>...</td>\n      <td>...</td>\n      <td>...</td>\n      <td>...</td>\n    </tr>\n    <tr>\n      <th>2150</th>\n      <td>\\dataset\\6dB\\pump\\id_00\\normal\\00000992.wav</td>\n      <td>-1.0</td>\n      <td>2150</td>\n      <td>\\dataset\\extdia_v1\\pump6dB00_EDiaV1HPaug0_outp...</td>\n      <td>\\dataset\\extdia_v1\\pump6dB00_EDiaV1HPaug0_outp...</td>\n      <td>\\dataset\\extdia_v1\\pump6dB00_EDiaV1HPaug0_outp...</td>\n      <td>\\dataset\\extdia_v1\\pump6dB00_EDiaV1HPaug0_outp...</td>\n      <td>\\dataset\\extdia_v1\\pump6dB00_EDiaV1HPaug0_outp...</td>\n      <td>\\dataset\\extdia_v1\\pump6dB00_EDiaV1HPaug0_outp...</td>\n      <td>\\dataset\\extdia_v1\\pump6dB00_EDiaV1HPaug0_outp...</td>\n      <td>\\dataset\\extdia_v1\\pump6dB00_EDiaV1HPaug0_outp...</td>\n      <td>\\dataset\\extdia_v1\\pump6dB00_EDiaV1HPaug0_outp...</td>\n      <td>6dB</td>\n      <td>pump</td>\n      <td>00</td>\n      <td>0</td>\n    </tr>\n    <tr>\n      <th>2151</th>\n      <td>\\dataset\\6dB\\pump\\id_00\\normal\\00000996.wav</td>\n      <td>0.0</td>\n      <td>2151</td>\n      <td>\\dataset\\extdia_v1\\pump6dB00_EDiaV1HPaug0_outp...</td>\n      <td>\\dataset\\extdia_v1\\pump6dB00_EDiaV1HPaug0_outp...</td>\n      <td>\\dataset\\extdia_v1\\pump6dB00_EDiaV1HPaug0_outp...</td>\n      <td>\\dataset\\extdia_v1\\pump6dB00_EDiaV1HPaug0_outp...</td>\n      <td>\\dataset\\extdia_v1\\pump6dB00_EDiaV1HPaug0_outp...</td>\n      <td>\\dataset\\extdia_v1\\pump6dB00_EDiaV1HPaug0_outp...</td>\n      <td>\\dataset\\extdia_v1\\pump6dB00_EDiaV1HPaug0_outp...</td>\n      <td>\\dataset\\extdia_v1\\pump6dB00_EDiaV1HPaug0_outp...</td>\n      <td>\\dataset\\extdia_v1\\pump6dB00_EDiaV1HPaug0_outp...</td>\n      <td>6dB</td>\n      <td>pump</td>\n      <td>00</td>\n      <td>1</td>\n    </tr>\n    <tr>\n      <th>2152</th>\n      <td>\\dataset\\6dB\\pump\\id_00\\normal\\00000996.wav</td>\n      <td>-1.0</td>\n      <td>2152</td>\n      <td>\\dataset\\extdia_v1\\pump6dB00_EDiaV1HPaug0_outp...</td>\n      <td>\\dataset\\extdia_v1\\pump6dB00_EDiaV1HPaug0_outp...</td>\n      <td>\\dataset\\extdia_v1\\pump6dB00_EDiaV1HPaug0_outp...</td>\n      <td>\\dataset\\extdia_v1\\pump6dB00_EDiaV1HPaug0_outp...</td>\n      <td>\\dataset\\extdia_v1\\pump6dB00_EDiaV1HPaug0_outp...</td>\n      <td>\\dataset\\extdia_v1\\pump6dB00_EDiaV1HPaug0_outp...</td>\n      <td>\\dataset\\extdia_v1\\pump6dB00_EDiaV1HPaug0_outp...</td>\n      <td>\\dataset\\extdia_v1\\pump6dB00_EDiaV1HPaug0_outp...</td>\n      <td>\\dataset\\extdia_v1\\pump6dB00_EDiaV1HPaug0_outp...</td>\n      <td>6dB</td>\n      <td>pump</td>\n      <td>00</td>\n      <td>0</td>\n    </tr>\n    <tr>\n      <th>2153</th>\n      <td>\\dataset\\6dB\\pump\\id_00\\normal\\00001001.wav</td>\n      <td>0.0</td>\n      <td>2153</td>\n      <td>\\dataset\\extdia_v1\\pump6dB00_EDiaV1HPaug0_outp...</td>\n      <td>\\dataset\\extdia_v1\\pump6dB00_EDiaV1HPaug0_outp...</td>\n      <td>\\dataset\\extdia_v1\\pump6dB00_EDiaV1HPaug0_outp...</td>\n      <td>\\dataset\\extdia_v1\\pump6dB00_EDiaV1HPaug0_outp...</td>\n      <td>\\dataset\\extdia_v1\\pump6dB00_EDiaV1HPaug0_outp...</td>\n      <td>\\dataset\\extdia_v1\\pump6dB00_EDiaV1HPaug0_outp...</td>\n      <td>\\dataset\\extdia_v1\\pump6dB00_EDiaV1HPaug0_outp...</td>\n      <td>\\dataset\\extdia_v1\\pump6dB00_EDiaV1HPaug0_outp...</td>\n      <td>\\dataset\\extdia_v1\\pump6dB00_EDiaV1HPaug0_outp...</td>\n      <td>6dB</td>\n      <td>pump</td>\n      <td>00</td>\n      <td>1</td>\n    </tr>\n    <tr>\n      <th>2154</th>\n      <td>\\dataset\\6dB\\pump\\id_00\\normal\\00001001.wav</td>\n      <td>-1.0</td>\n      <td>2154</td>\n      <td>\\dataset\\extdia_v1\\pump6dB00_EDiaV1HPaug0_outp...</td>\n      <td>\\dataset\\extdia_v1\\pump6dB00_EDiaV1HPaug0_outp...</td>\n      <td>\\dataset\\extdia_v1\\pump6dB00_EDiaV1HPaug0_outp...</td>\n      <td>\\dataset\\extdia_v1\\pump6dB00_EDiaV1HPaug0_outp...</td>\n      <td>\\dataset\\extdia_v1\\pump6dB00_EDiaV1HPaug0_outp...</td>\n      <td>\\dataset\\extdia_v1\\pump6dB00_EDiaV1HPaug0_outp...</td>\n      <td>\\dataset\\extdia_v1\\pump6dB00_EDiaV1HPaug0_outp...</td>\n      <td>\\dataset\\extdia_v1\\pump6dB00_EDiaV1HPaug0_outp...</td>\n      <td>\\dataset\\extdia_v1\\pump6dB00_EDiaV1HPaug0_outp...</td>\n      <td>6dB</td>\n      <td>pump</td>\n      <td>00</td>\n      <td>0</td>\n    </tr>\n  </tbody>\n</table>\n<p>2155 rows × 16 columns</p>\n</div>"
     },
     "metadata": {},
     "execution_count": 21
    }
   ],
   "source": [
    "df"
   ]
  },
  {
   "cell_type": "code",
   "execution_count": 2,
   "metadata": {},
   "outputs": [],
   "source": [
    "diagrams = ['extdia_v0']\n",
    "machines = ['pump'#, 'fan', 'slider', 'valve'\n",
    "            ]\n",
    "SNRs = ['6dB'#, 'min6dB'\n",
    "        ]\n",
    "IDs = ['00'#, '02', '04', '06'\n",
    "        ]\n",
    "features = ['MEL_den'#, 'PSD_den'\n",
    "            ]\n",
    "\n",
    "tasks = [{\n",
    "        'path_descr':path, \n",
    "        'feat':{'function':'frame', 'frames':5}, \n",
    "        'feat_col':feature, \n",
    "        'SNR':SNR, \n",
    "        'machine':machine, \n",
    "        'ID':ID,\n",
    "        'BASE_FOLDER':BASE_FOLDER} \n",
    "        for diagram in diagrams\n",
    "        for machine in machines\n",
    "        for SNR in SNRs\n",
    "        for ID in IDs\n",
    "        for feature in features\n",
    "        ]"
   ]
  },
  {
   "cell_type": "code",
   "execution_count": 3,
   "metadata": {},
   "outputs": [],
   "source": [
    "from sklearn.preprocessing import StandardScaler\n",
    "from sklearn.decomposition import PCA, FastICA\n",
    "\n",
    "preprocessing = [\n",
    "    (FastICA, {'n_components':40, 'algorithm':'parallel'}),\n",
    "    (StandardScaler, {})\n",
    "]\n",
    "\n",
    "modeling = (uni_IsolationForest, {})\n",
    "\n",
    "pipes = [Pipe(preprocessing, modeling) for i in range(len(tasks))]"
   ]
  },
  {
   "cell_type": "code",
   "execution_count": 6,
   "metadata": {},
   "outputs": [
    {
     "output_type": "stream",
     "name": "stdout",
     "text": "...loading data\ndata loading completed\n\n...preprocessing data\ndata preprocessing finished\n\n...fitting the model\nmodel fitted successfully\n\n...evaluating model\nevaluation successfull, roc_auc: 0.9646165292967354\npipe saved to pickle\ndata preprocessing finished\n\n...fitting the model\nmodel fitted successfully\n\n...evaluating model\nevaluation successfull, roc_auc: 0.9667081789201349\npipe saved to pickle\n"
    },
    {
     "output_type": "execute_result",
     "data": {
      "text/plain": "True"
     },
     "metadata": {},
     "execution_count": 6
    }
   ],
   "source": [
    "pipes[0].run_pipe(tasks[0])"
   ]
  },
  {
   "cell_type": "code",
   "execution_count": null,
   "metadata": {},
   "outputs": [],
   "source": []
  },
  {
   "cell_type": "markdown",
   "metadata": {},
   "source": [
    "# ignore part below unless multithreading is needed"
   ]
  },
  {
   "cell_type": "code",
   "execution_count": 4,
   "metadata": {
    "ExecuteTime": {
     "end_time": "2020-04-30T11:47:44.406174Z",
     "start_time": "2020-04-30T11:47:44.386174Z"
    }
   },
   "outputs": [],
   "source": [
    "#lw = LoggerWrap()\n",
    "\n",
    "# create the threads\n",
    "n_jobs = 4\n",
    "worker_list = []\n",
    "queue = Queue()\n",
    "for worker in range(n_jobs):\n",
    "    worker = PipeThread(queue)\n",
    "    worker.daemon = True\n",
    "    worker.start()\n",
    "    worker_list.append(worker)"
   ]
  },
  {
   "cell_type": "code",
   "execution_count": 5,
   "metadata": {
    "ExecuteTime": {
     "end_time": "2020-04-30T11:47:44.428178Z",
     "start_time": "2020-04-30T11:47:44.409175Z"
    }
   },
   "outputs": [
    {
     "output_type": "stream",
     "name": "stdout",
     "text": "...loading data\ndata loading completed\n\n...preprocessing data\n"
    }
   ],
   "source": [
    "# fill the Queue\n",
    "#lw.log('multithread mode filling the queue' )\n",
    "for pipe, task in (zip(pipes, tasks)):\n",
    "    queue.put((pipe, task))"
   ]
  },
  {
   "cell_type": "code",
   "execution_count": 7,
   "metadata": {
    "ExecuteTime": {
     "end_time": "2020-04-30T11:46:24.954418Z",
     "start_time": "2020-04-30T11:46:24.871418Z"
    },
    "scrolled": true
   },
   "outputs": [],
   "source": [
    "for worker in worker_list:\n",
    "    worker.stop = True"
   ]
  },
  {
   "cell_type": "code",
   "execution_count": null,
   "metadata": {},
   "outputs": [],
   "source": []
  }
 ],
 "metadata": {
  "kernelspec": {
   "display_name": "Py3.7 (mimii_base_TF2_GPU)",
   "language": "python",
   "name": "mimii-tf2-gpu"
  },
  "language_info": {
   "codemirror_mode": {
    "name": "ipython",
    "version": 3
   },
   "file_extension": ".py",
   "mimetype": "text/x-python",
   "name": "python",
   "nbconvert_exporter": "python",
   "pygments_lexer": "ipython3",
   "version": "3.7.7-final"
  },
  "toc": {
   "base_numbering": 1,
   "nav_menu": {},
   "number_sections": true,
   "sideBar": true,
   "skip_h1_title": true,
   "title_cell": "Table of Contents",
   "title_sidebar": "Contents",
   "toc_cell": true,
   "toc_position": {},
   "toc_section_display": true,
   "toc_window_display": false
  }
 },
 "nbformat": 4,
 "nbformat_minor": 4
}