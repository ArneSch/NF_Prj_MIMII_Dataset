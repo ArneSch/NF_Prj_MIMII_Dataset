{
 "cells": [
  {
   "cell_type": "markdown",
   "metadata": {
    "toc": true
   },
   "source": [
    "<h1>Table of Contents<span class=\"tocSkip\"></span></h1>\n",
    "<div class=\"toc\"><ul class=\"toc-item\"></ul></div>"
   ]
  },
  {
   "cell_type": "code",
   "execution_count": 1,
   "metadata": {
    "ExecuteTime": {
     "end_time": "2020-05-04T11:27:14.650394Z",
     "start_time": "2020-05-04T11:27:13.127286Z"
    }
   },
   "outputs": [
    {
     "name": "stdout",
     "output_type": "stream",
     "text": [
      "load feature_extractor_mother\n",
      "load feature_extractor_mel_spectra\n",
      "load feature_extractor_psd\n",
      "load feature_extractor_ICA2\n",
      "load feature_extractore_pre_nnFilterDenoise\n",
      "load extractor_diagram_mother\n",
      "load Simple_FIR_HP\n",
      "load TimeSliceAppendActivation\n",
      "load load_data\n",
      "Load split_data\n",
      "Load anomaly_detection_models\n",
      "Load pseudo_supervised_models\n",
      "Load detection_pipe\n",
      "../..//dataset/extdia_v1/pump6dB00_EDiaV1HPaug0_pandaDisc.pkl --> Done\n"
     ]
    }
   ],
   "source": [
    "#===============================================\n",
    "# Basic Imports\n",
    "\n",
    "\n",
    "BASE_FOLDER = '../../'\n",
    "%run -i ..\\..\\utility\\feature_extractor\\JupyterLoad_feature_extractor.py\n",
    "%run -i ..\\..\\utility\\modeling\\JupyterLoad_modeling.py\n",
    "\n",
    "path = BASE_FOLDER + '/dataset/extdia_v1/pump6dB00_EDiaV1HPaug0_pandaDisc.pkl'\n",
    "tt_split(path)\n",
    "with open(path, 'rb') as f:\n",
    "    df = pickle.load(f)"
   ]
  },
  {
   "cell_type": "code",
   "execution_count": 2,
   "metadata": {
    "ExecuteTime": {
     "end_time": "2020-05-04T11:27:21.935015Z",
     "start_time": "2020-05-04T11:27:21.905055Z"
    }
   },
   "outputs": [
    {
     "data": {
      "text/html": [
       "<div>\n",
       "<style scoped>\n",
       "    .dataframe tbody tr th:only-of-type {\n",
       "        vertical-align: middle;\n",
       "    }\n",
       "\n",
       "    .dataframe tbody tr th {\n",
       "        vertical-align: top;\n",
       "    }\n",
       "\n",
       "    .dataframe thead th {\n",
       "        text-align: right;\n",
       "    }\n",
       "</style>\n",
       "<table border=\"1\" class=\"dataframe\">\n",
       "  <thead>\n",
       "    <tr style=\"text-align: right;\">\n",
       "      <th></th>\n",
       "      <th>path</th>\n",
       "      <th>abnormal</th>\n",
       "      <th>datafile_idx</th>\n",
       "      <th>MEL_denbssm</th>\n",
       "      <th>PSD_denbssm</th>\n",
       "      <th>MEL_bssm</th>\n",
       "      <th>PSD_bssm</th>\n",
       "      <th>MEL_raw</th>\n",
       "      <th>PSD_raw</th>\n",
       "      <th>MEL_den</th>\n",
       "      <th>PSD_den</th>\n",
       "      <th>ICA_demix</th>\n",
       "      <th>SNR</th>\n",
       "      <th>machine</th>\n",
       "      <th>ID</th>\n",
       "      <th>train_set</th>\n",
       "    </tr>\n",
       "  </thead>\n",
       "  <tbody>\n",
       "    <tr>\n",
       "      <th>0</th>\n",
       "      <td>\\dataset\\6dB\\pump\\id_00\\abnormal\\00000000.wav</td>\n",
       "      <td>1.0</td>\n",
       "      <td>0</td>\n",
       "      <td>\\dataset\\extdia_v1\\pump6dB00_EDiaV1HPaug0_outp...</td>\n",
       "      <td>\\dataset\\extdia_v1\\pump6dB00_EDiaV1HPaug0_outp...</td>\n",
       "      <td>\\dataset\\extdia_v1\\pump6dB00_EDiaV1HPaug0_outp...</td>\n",
       "      <td>\\dataset\\extdia_v1\\pump6dB00_EDiaV1HPaug0_outp...</td>\n",
       "      <td>\\dataset\\extdia_v1\\pump6dB00_EDiaV1HPaug0_outp...</td>\n",
       "      <td>\\dataset\\extdia_v1\\pump6dB00_EDiaV1HPaug0_outp...</td>\n",
       "      <td>\\dataset\\extdia_v1\\pump6dB00_EDiaV1HPaug0_outp...</td>\n",
       "      <td>\\dataset\\extdia_v1\\pump6dB00_EDiaV1HPaug0_outp...</td>\n",
       "      <td>\\dataset\\extdia_v1\\pump6dB00_EDiaV1HPaug0_outp...</td>\n",
       "      <td>6dB</td>\n",
       "      <td>pump</td>\n",
       "      <td>00</td>\n",
       "      <td>0</td>\n",
       "    </tr>\n",
       "    <tr>\n",
       "      <th>1</th>\n",
       "      <td>\\dataset\\6dB\\pump\\id_00\\abnormal\\00000009.wav</td>\n",
       "      <td>1.0</td>\n",
       "      <td>1</td>\n",
       "      <td>\\dataset\\extdia_v1\\pump6dB00_EDiaV1HPaug0_outp...</td>\n",
       "      <td>\\dataset\\extdia_v1\\pump6dB00_EDiaV1HPaug0_outp...</td>\n",
       "      <td>\\dataset\\extdia_v1\\pump6dB00_EDiaV1HPaug0_outp...</td>\n",
       "      <td>\\dataset\\extdia_v1\\pump6dB00_EDiaV1HPaug0_outp...</td>\n",
       "      <td>\\dataset\\extdia_v1\\pump6dB00_EDiaV1HPaug0_outp...</td>\n",
       "      <td>\\dataset\\extdia_v1\\pump6dB00_EDiaV1HPaug0_outp...</td>\n",
       "      <td>\\dataset\\extdia_v1\\pump6dB00_EDiaV1HPaug0_outp...</td>\n",
       "      <td>\\dataset\\extdia_v1\\pump6dB00_EDiaV1HPaug0_outp...</td>\n",
       "      <td>\\dataset\\extdia_v1\\pump6dB00_EDiaV1HPaug0_outp...</td>\n",
       "      <td>6dB</td>\n",
       "      <td>pump</td>\n",
       "      <td>00</td>\n",
       "      <td>0</td>\n",
       "    </tr>\n",
       "    <tr>\n",
       "      <th>2</th>\n",
       "      <td>\\dataset\\6dB\\pump\\id_00\\abnormal\\00000016.wav</td>\n",
       "      <td>1.0</td>\n",
       "      <td>2</td>\n",
       "      <td>\\dataset\\extdia_v1\\pump6dB00_EDiaV1HPaug0_outp...</td>\n",
       "      <td>\\dataset\\extdia_v1\\pump6dB00_EDiaV1HPaug0_outp...</td>\n",
       "      <td>\\dataset\\extdia_v1\\pump6dB00_EDiaV1HPaug0_outp...</td>\n",
       "      <td>\\dataset\\extdia_v1\\pump6dB00_EDiaV1HPaug0_outp...</td>\n",
       "      <td>\\dataset\\extdia_v1\\pump6dB00_EDiaV1HPaug0_outp...</td>\n",
       "      <td>\\dataset\\extdia_v1\\pump6dB00_EDiaV1HPaug0_outp...</td>\n",
       "      <td>\\dataset\\extdia_v1\\pump6dB00_EDiaV1HPaug0_outp...</td>\n",
       "      <td>\\dataset\\extdia_v1\\pump6dB00_EDiaV1HPaug0_outp...</td>\n",
       "      <td>\\dataset\\extdia_v1\\pump6dB00_EDiaV1HPaug0_outp...</td>\n",
       "      <td>6dB</td>\n",
       "      <td>pump</td>\n",
       "      <td>00</td>\n",
       "      <td>0</td>\n",
       "    </tr>\n",
       "    <tr>\n",
       "      <th>3</th>\n",
       "      <td>\\dataset\\6dB\\pump\\id_00\\abnormal\\00000024.wav</td>\n",
       "      <td>1.0</td>\n",
       "      <td>3</td>\n",
       "      <td>\\dataset\\extdia_v1\\pump6dB00_EDiaV1HPaug0_outp...</td>\n",
       "      <td>\\dataset\\extdia_v1\\pump6dB00_EDiaV1HPaug0_outp...</td>\n",
       "      <td>\\dataset\\extdia_v1\\pump6dB00_EDiaV1HPaug0_outp...</td>\n",
       "      <td>\\dataset\\extdia_v1\\pump6dB00_EDiaV1HPaug0_outp...</td>\n",
       "      <td>\\dataset\\extdia_v1\\pump6dB00_EDiaV1HPaug0_outp...</td>\n",
       "      <td>\\dataset\\extdia_v1\\pump6dB00_EDiaV1HPaug0_outp...</td>\n",
       "      <td>\\dataset\\extdia_v1\\pump6dB00_EDiaV1HPaug0_outp...</td>\n",
       "      <td>\\dataset\\extdia_v1\\pump6dB00_EDiaV1HPaug0_outp...</td>\n",
       "      <td>\\dataset\\extdia_v1\\pump6dB00_EDiaV1HPaug0_outp...</td>\n",
       "      <td>6dB</td>\n",
       "      <td>pump</td>\n",
       "      <td>00</td>\n",
       "      <td>0</td>\n",
       "    </tr>\n",
       "    <tr>\n",
       "      <th>4</th>\n",
       "      <td>\\dataset\\6dB\\pump\\id_00\\abnormal\\00000030.wav</td>\n",
       "      <td>1.0</td>\n",
       "      <td>4</td>\n",
       "      <td>\\dataset\\extdia_v1\\pump6dB00_EDiaV1HPaug0_outp...</td>\n",
       "      <td>\\dataset\\extdia_v1\\pump6dB00_EDiaV1HPaug0_outp...</td>\n",
       "      <td>\\dataset\\extdia_v1\\pump6dB00_EDiaV1HPaug0_outp...</td>\n",
       "      <td>\\dataset\\extdia_v1\\pump6dB00_EDiaV1HPaug0_outp...</td>\n",
       "      <td>\\dataset\\extdia_v1\\pump6dB00_EDiaV1HPaug0_outp...</td>\n",
       "      <td>\\dataset\\extdia_v1\\pump6dB00_EDiaV1HPaug0_outp...</td>\n",
       "      <td>\\dataset\\extdia_v1\\pump6dB00_EDiaV1HPaug0_outp...</td>\n",
       "      <td>\\dataset\\extdia_v1\\pump6dB00_EDiaV1HPaug0_outp...</td>\n",
       "      <td>\\dataset\\extdia_v1\\pump6dB00_EDiaV1HPaug0_outp...</td>\n",
       "      <td>6dB</td>\n",
       "      <td>pump</td>\n",
       "      <td>00</td>\n",
       "      <td>0</td>\n",
       "    </tr>\n",
       "    <tr>\n",
       "      <th>...</th>\n",
       "      <td>...</td>\n",
       "      <td>...</td>\n",
       "      <td>...</td>\n",
       "      <td>...</td>\n",
       "      <td>...</td>\n",
       "      <td>...</td>\n",
       "      <td>...</td>\n",
       "      <td>...</td>\n",
       "      <td>...</td>\n",
       "      <td>...</td>\n",
       "      <td>...</td>\n",
       "      <td>...</td>\n",
       "      <td>...</td>\n",
       "      <td>...</td>\n",
       "      <td>...</td>\n",
       "      <td>...</td>\n",
       "    </tr>\n",
       "    <tr>\n",
       "      <th>2150</th>\n",
       "      <td>\\dataset\\6dB\\pump\\id_00\\normal\\00000985.wav</td>\n",
       "      <td>-1.0</td>\n",
       "      <td>2150</td>\n",
       "      <td>\\dataset\\extdia_v1\\pump6dB00_EDiaV1HPaug0_outp...</td>\n",
       "      <td>\\dataset\\extdia_v1\\pump6dB00_EDiaV1HPaug0_outp...</td>\n",
       "      <td>\\dataset\\extdia_v1\\pump6dB00_EDiaV1HPaug0_outp...</td>\n",
       "      <td>\\dataset\\extdia_v1\\pump6dB00_EDiaV1HPaug0_outp...</td>\n",
       "      <td>\\dataset\\extdia_v1\\pump6dB00_EDiaV1HPaug0_outp...</td>\n",
       "      <td>\\dataset\\extdia_v1\\pump6dB00_EDiaV1HPaug0_outp...</td>\n",
       "      <td>\\dataset\\extdia_v1\\pump6dB00_EDiaV1HPaug0_outp...</td>\n",
       "      <td>\\dataset\\extdia_v1\\pump6dB00_EDiaV1HPaug0_outp...</td>\n",
       "      <td>\\dataset\\extdia_v1\\pump6dB00_EDiaV1HPaug0_outp...</td>\n",
       "      <td>6dB</td>\n",
       "      <td>pump</td>\n",
       "      <td>00</td>\n",
       "      <td>1</td>\n",
       "    </tr>\n",
       "    <tr>\n",
       "      <th>2151</th>\n",
       "      <td>\\dataset\\6dB\\pump\\id_00\\normal\\00000999.wav</td>\n",
       "      <td>0.0</td>\n",
       "      <td>2151</td>\n",
       "      <td>\\dataset\\extdia_v1\\pump6dB00_EDiaV1HPaug0_outp...</td>\n",
       "      <td>\\dataset\\extdia_v1\\pump6dB00_EDiaV1HPaug0_outp...</td>\n",
       "      <td>\\dataset\\extdia_v1\\pump6dB00_EDiaV1HPaug0_outp...</td>\n",
       "      <td>\\dataset\\extdia_v1\\pump6dB00_EDiaV1HPaug0_outp...</td>\n",
       "      <td>\\dataset\\extdia_v1\\pump6dB00_EDiaV1HPaug0_outp...</td>\n",
       "      <td>\\dataset\\extdia_v1\\pump6dB00_EDiaV1HPaug0_outp...</td>\n",
       "      <td>\\dataset\\extdia_v1\\pump6dB00_EDiaV1HPaug0_outp...</td>\n",
       "      <td>\\dataset\\extdia_v1\\pump6dB00_EDiaV1HPaug0_outp...</td>\n",
       "      <td>\\dataset\\extdia_v1\\pump6dB00_EDiaV1HPaug0_outp...</td>\n",
       "      <td>6dB</td>\n",
       "      <td>pump</td>\n",
       "      <td>00</td>\n",
       "      <td>1</td>\n",
       "    </tr>\n",
       "    <tr>\n",
       "      <th>2152</th>\n",
       "      <td>\\dataset\\6dB\\pump\\id_00\\normal\\00000999.wav</td>\n",
       "      <td>-1.0</td>\n",
       "      <td>2152</td>\n",
       "      <td>\\dataset\\extdia_v1\\pump6dB00_EDiaV1HPaug0_outp...</td>\n",
       "      <td>\\dataset\\extdia_v1\\pump6dB00_EDiaV1HPaug0_outp...</td>\n",
       "      <td>\\dataset\\extdia_v1\\pump6dB00_EDiaV1HPaug0_outp...</td>\n",
       "      <td>\\dataset\\extdia_v1\\pump6dB00_EDiaV1HPaug0_outp...</td>\n",
       "      <td>\\dataset\\extdia_v1\\pump6dB00_EDiaV1HPaug0_outp...</td>\n",
       "      <td>\\dataset\\extdia_v1\\pump6dB00_EDiaV1HPaug0_outp...</td>\n",
       "      <td>\\dataset\\extdia_v1\\pump6dB00_EDiaV1HPaug0_outp...</td>\n",
       "      <td>\\dataset\\extdia_v1\\pump6dB00_EDiaV1HPaug0_outp...</td>\n",
       "      <td>\\dataset\\extdia_v1\\pump6dB00_EDiaV1HPaug0_outp...</td>\n",
       "      <td>6dB</td>\n",
       "      <td>pump</td>\n",
       "      <td>00</td>\n",
       "      <td>1</td>\n",
       "    </tr>\n",
       "    <tr>\n",
       "      <th>2153</th>\n",
       "      <td>\\dataset\\6dB\\pump\\id_00\\normal\\00001003.wav</td>\n",
       "      <td>0.0</td>\n",
       "      <td>2153</td>\n",
       "      <td>\\dataset\\extdia_v1\\pump6dB00_EDiaV1HPaug0_outp...</td>\n",
       "      <td>\\dataset\\extdia_v1\\pump6dB00_EDiaV1HPaug0_outp...</td>\n",
       "      <td>\\dataset\\extdia_v1\\pump6dB00_EDiaV1HPaug0_outp...</td>\n",
       "      <td>\\dataset\\extdia_v1\\pump6dB00_EDiaV1HPaug0_outp...</td>\n",
       "      <td>\\dataset\\extdia_v1\\pump6dB00_EDiaV1HPaug0_outp...</td>\n",
       "      <td>\\dataset\\extdia_v1\\pump6dB00_EDiaV1HPaug0_outp...</td>\n",
       "      <td>\\dataset\\extdia_v1\\pump6dB00_EDiaV1HPaug0_outp...</td>\n",
       "      <td>\\dataset\\extdia_v1\\pump6dB00_EDiaV1HPaug0_outp...</td>\n",
       "      <td>\\dataset\\extdia_v1\\pump6dB00_EDiaV1HPaug0_outp...</td>\n",
       "      <td>6dB</td>\n",
       "      <td>pump</td>\n",
       "      <td>00</td>\n",
       "      <td>1</td>\n",
       "    </tr>\n",
       "    <tr>\n",
       "      <th>2154</th>\n",
       "      <td>\\dataset\\6dB\\pump\\id_00\\normal\\00001003.wav</td>\n",
       "      <td>-1.0</td>\n",
       "      <td>2154</td>\n",
       "      <td>\\dataset\\extdia_v1\\pump6dB00_EDiaV1HPaug0_outp...</td>\n",
       "      <td>\\dataset\\extdia_v1\\pump6dB00_EDiaV1HPaug0_outp...</td>\n",
       "      <td>\\dataset\\extdia_v1\\pump6dB00_EDiaV1HPaug0_outp...</td>\n",
       "      <td>\\dataset\\extdia_v1\\pump6dB00_EDiaV1HPaug0_outp...</td>\n",
       "      <td>\\dataset\\extdia_v1\\pump6dB00_EDiaV1HPaug0_outp...</td>\n",
       "      <td>\\dataset\\extdia_v1\\pump6dB00_EDiaV1HPaug0_outp...</td>\n",
       "      <td>\\dataset\\extdia_v1\\pump6dB00_EDiaV1HPaug0_outp...</td>\n",
       "      <td>\\dataset\\extdia_v1\\pump6dB00_EDiaV1HPaug0_outp...</td>\n",
       "      <td>\\dataset\\extdia_v1\\pump6dB00_EDiaV1HPaug0_outp...</td>\n",
       "      <td>6dB</td>\n",
       "      <td>pump</td>\n",
       "      <td>00</td>\n",
       "      <td>1</td>\n",
       "    </tr>\n",
       "  </tbody>\n",
       "</table>\n",
       "<p>2155 rows × 16 columns</p>\n",
       "</div>"
      ],
      "text/plain": [
       "                                               path  abnormal  datafile_idx  \\\n",
       "0     \\dataset\\6dB\\pump\\id_00\\abnormal\\00000000.wav       1.0             0   \n",
       "1     \\dataset\\6dB\\pump\\id_00\\abnormal\\00000009.wav       1.0             1   \n",
       "2     \\dataset\\6dB\\pump\\id_00\\abnormal\\00000016.wav       1.0             2   \n",
       "3     \\dataset\\6dB\\pump\\id_00\\abnormal\\00000024.wav       1.0             3   \n",
       "4     \\dataset\\6dB\\pump\\id_00\\abnormal\\00000030.wav       1.0             4   \n",
       "...                                             ...       ...           ...   \n",
       "2150    \\dataset\\6dB\\pump\\id_00\\normal\\00000985.wav      -1.0          2150   \n",
       "2151    \\dataset\\6dB\\pump\\id_00\\normal\\00000999.wav       0.0          2151   \n",
       "2152    \\dataset\\6dB\\pump\\id_00\\normal\\00000999.wav      -1.0          2152   \n",
       "2153    \\dataset\\6dB\\pump\\id_00\\normal\\00001003.wav       0.0          2153   \n",
       "2154    \\dataset\\6dB\\pump\\id_00\\normal\\00001003.wav      -1.0          2154   \n",
       "\n",
       "                                            MEL_denbssm  \\\n",
       "0     \\dataset\\extdia_v1\\pump6dB00_EDiaV1HPaug0_outp...   \n",
       "1     \\dataset\\extdia_v1\\pump6dB00_EDiaV1HPaug0_outp...   \n",
       "2     \\dataset\\extdia_v1\\pump6dB00_EDiaV1HPaug0_outp...   \n",
       "3     \\dataset\\extdia_v1\\pump6dB00_EDiaV1HPaug0_outp...   \n",
       "4     \\dataset\\extdia_v1\\pump6dB00_EDiaV1HPaug0_outp...   \n",
       "...                                                 ...   \n",
       "2150  \\dataset\\extdia_v1\\pump6dB00_EDiaV1HPaug0_outp...   \n",
       "2151  \\dataset\\extdia_v1\\pump6dB00_EDiaV1HPaug0_outp...   \n",
       "2152  \\dataset\\extdia_v1\\pump6dB00_EDiaV1HPaug0_outp...   \n",
       "2153  \\dataset\\extdia_v1\\pump6dB00_EDiaV1HPaug0_outp...   \n",
       "2154  \\dataset\\extdia_v1\\pump6dB00_EDiaV1HPaug0_outp...   \n",
       "\n",
       "                                            PSD_denbssm  \\\n",
       "0     \\dataset\\extdia_v1\\pump6dB00_EDiaV1HPaug0_outp...   \n",
       "1     \\dataset\\extdia_v1\\pump6dB00_EDiaV1HPaug0_outp...   \n",
       "2     \\dataset\\extdia_v1\\pump6dB00_EDiaV1HPaug0_outp...   \n",
       "3     \\dataset\\extdia_v1\\pump6dB00_EDiaV1HPaug0_outp...   \n",
       "4     \\dataset\\extdia_v1\\pump6dB00_EDiaV1HPaug0_outp...   \n",
       "...                                                 ...   \n",
       "2150  \\dataset\\extdia_v1\\pump6dB00_EDiaV1HPaug0_outp...   \n",
       "2151  \\dataset\\extdia_v1\\pump6dB00_EDiaV1HPaug0_outp...   \n",
       "2152  \\dataset\\extdia_v1\\pump6dB00_EDiaV1HPaug0_outp...   \n",
       "2153  \\dataset\\extdia_v1\\pump6dB00_EDiaV1HPaug0_outp...   \n",
       "2154  \\dataset\\extdia_v1\\pump6dB00_EDiaV1HPaug0_outp...   \n",
       "\n",
       "                                               MEL_bssm  \\\n",
       "0     \\dataset\\extdia_v1\\pump6dB00_EDiaV1HPaug0_outp...   \n",
       "1     \\dataset\\extdia_v1\\pump6dB00_EDiaV1HPaug0_outp...   \n",
       "2     \\dataset\\extdia_v1\\pump6dB00_EDiaV1HPaug0_outp...   \n",
       "3     \\dataset\\extdia_v1\\pump6dB00_EDiaV1HPaug0_outp...   \n",
       "4     \\dataset\\extdia_v1\\pump6dB00_EDiaV1HPaug0_outp...   \n",
       "...                                                 ...   \n",
       "2150  \\dataset\\extdia_v1\\pump6dB00_EDiaV1HPaug0_outp...   \n",
       "2151  \\dataset\\extdia_v1\\pump6dB00_EDiaV1HPaug0_outp...   \n",
       "2152  \\dataset\\extdia_v1\\pump6dB00_EDiaV1HPaug0_outp...   \n",
       "2153  \\dataset\\extdia_v1\\pump6dB00_EDiaV1HPaug0_outp...   \n",
       "2154  \\dataset\\extdia_v1\\pump6dB00_EDiaV1HPaug0_outp...   \n",
       "\n",
       "                                               PSD_bssm  \\\n",
       "0     \\dataset\\extdia_v1\\pump6dB00_EDiaV1HPaug0_outp...   \n",
       "1     \\dataset\\extdia_v1\\pump6dB00_EDiaV1HPaug0_outp...   \n",
       "2     \\dataset\\extdia_v1\\pump6dB00_EDiaV1HPaug0_outp...   \n",
       "3     \\dataset\\extdia_v1\\pump6dB00_EDiaV1HPaug0_outp...   \n",
       "4     \\dataset\\extdia_v1\\pump6dB00_EDiaV1HPaug0_outp...   \n",
       "...                                                 ...   \n",
       "2150  \\dataset\\extdia_v1\\pump6dB00_EDiaV1HPaug0_outp...   \n",
       "2151  \\dataset\\extdia_v1\\pump6dB00_EDiaV1HPaug0_outp...   \n",
       "2152  \\dataset\\extdia_v1\\pump6dB00_EDiaV1HPaug0_outp...   \n",
       "2153  \\dataset\\extdia_v1\\pump6dB00_EDiaV1HPaug0_outp...   \n",
       "2154  \\dataset\\extdia_v1\\pump6dB00_EDiaV1HPaug0_outp...   \n",
       "\n",
       "                                                MEL_raw  \\\n",
       "0     \\dataset\\extdia_v1\\pump6dB00_EDiaV1HPaug0_outp...   \n",
       "1     \\dataset\\extdia_v1\\pump6dB00_EDiaV1HPaug0_outp...   \n",
       "2     \\dataset\\extdia_v1\\pump6dB00_EDiaV1HPaug0_outp...   \n",
       "3     \\dataset\\extdia_v1\\pump6dB00_EDiaV1HPaug0_outp...   \n",
       "4     \\dataset\\extdia_v1\\pump6dB00_EDiaV1HPaug0_outp...   \n",
       "...                                                 ...   \n",
       "2150  \\dataset\\extdia_v1\\pump6dB00_EDiaV1HPaug0_outp...   \n",
       "2151  \\dataset\\extdia_v1\\pump6dB00_EDiaV1HPaug0_outp...   \n",
       "2152  \\dataset\\extdia_v1\\pump6dB00_EDiaV1HPaug0_outp...   \n",
       "2153  \\dataset\\extdia_v1\\pump6dB00_EDiaV1HPaug0_outp...   \n",
       "2154  \\dataset\\extdia_v1\\pump6dB00_EDiaV1HPaug0_outp...   \n",
       "\n",
       "                                                PSD_raw  \\\n",
       "0     \\dataset\\extdia_v1\\pump6dB00_EDiaV1HPaug0_outp...   \n",
       "1     \\dataset\\extdia_v1\\pump6dB00_EDiaV1HPaug0_outp...   \n",
       "2     \\dataset\\extdia_v1\\pump6dB00_EDiaV1HPaug0_outp...   \n",
       "3     \\dataset\\extdia_v1\\pump6dB00_EDiaV1HPaug0_outp...   \n",
       "4     \\dataset\\extdia_v1\\pump6dB00_EDiaV1HPaug0_outp...   \n",
       "...                                                 ...   \n",
       "2150  \\dataset\\extdia_v1\\pump6dB00_EDiaV1HPaug0_outp...   \n",
       "2151  \\dataset\\extdia_v1\\pump6dB00_EDiaV1HPaug0_outp...   \n",
       "2152  \\dataset\\extdia_v1\\pump6dB00_EDiaV1HPaug0_outp...   \n",
       "2153  \\dataset\\extdia_v1\\pump6dB00_EDiaV1HPaug0_outp...   \n",
       "2154  \\dataset\\extdia_v1\\pump6dB00_EDiaV1HPaug0_outp...   \n",
       "\n",
       "                                                MEL_den  \\\n",
       "0     \\dataset\\extdia_v1\\pump6dB00_EDiaV1HPaug0_outp...   \n",
       "1     \\dataset\\extdia_v1\\pump6dB00_EDiaV1HPaug0_outp...   \n",
       "2     \\dataset\\extdia_v1\\pump6dB00_EDiaV1HPaug0_outp...   \n",
       "3     \\dataset\\extdia_v1\\pump6dB00_EDiaV1HPaug0_outp...   \n",
       "4     \\dataset\\extdia_v1\\pump6dB00_EDiaV1HPaug0_outp...   \n",
       "...                                                 ...   \n",
       "2150  \\dataset\\extdia_v1\\pump6dB00_EDiaV1HPaug0_outp...   \n",
       "2151  \\dataset\\extdia_v1\\pump6dB00_EDiaV1HPaug0_outp...   \n",
       "2152  \\dataset\\extdia_v1\\pump6dB00_EDiaV1HPaug0_outp...   \n",
       "2153  \\dataset\\extdia_v1\\pump6dB00_EDiaV1HPaug0_outp...   \n",
       "2154  \\dataset\\extdia_v1\\pump6dB00_EDiaV1HPaug0_outp...   \n",
       "\n",
       "                                                PSD_den  \\\n",
       "0     \\dataset\\extdia_v1\\pump6dB00_EDiaV1HPaug0_outp...   \n",
       "1     \\dataset\\extdia_v1\\pump6dB00_EDiaV1HPaug0_outp...   \n",
       "2     \\dataset\\extdia_v1\\pump6dB00_EDiaV1HPaug0_outp...   \n",
       "3     \\dataset\\extdia_v1\\pump6dB00_EDiaV1HPaug0_outp...   \n",
       "4     \\dataset\\extdia_v1\\pump6dB00_EDiaV1HPaug0_outp...   \n",
       "...                                                 ...   \n",
       "2150  \\dataset\\extdia_v1\\pump6dB00_EDiaV1HPaug0_outp...   \n",
       "2151  \\dataset\\extdia_v1\\pump6dB00_EDiaV1HPaug0_outp...   \n",
       "2152  \\dataset\\extdia_v1\\pump6dB00_EDiaV1HPaug0_outp...   \n",
       "2153  \\dataset\\extdia_v1\\pump6dB00_EDiaV1HPaug0_outp...   \n",
       "2154  \\dataset\\extdia_v1\\pump6dB00_EDiaV1HPaug0_outp...   \n",
       "\n",
       "                                              ICA_demix  SNR machine  ID  \\\n",
       "0     \\dataset\\extdia_v1\\pump6dB00_EDiaV1HPaug0_outp...  6dB    pump  00   \n",
       "1     \\dataset\\extdia_v1\\pump6dB00_EDiaV1HPaug0_outp...  6dB    pump  00   \n",
       "2     \\dataset\\extdia_v1\\pump6dB00_EDiaV1HPaug0_outp...  6dB    pump  00   \n",
       "3     \\dataset\\extdia_v1\\pump6dB00_EDiaV1HPaug0_outp...  6dB    pump  00   \n",
       "4     \\dataset\\extdia_v1\\pump6dB00_EDiaV1HPaug0_outp...  6dB    pump  00   \n",
       "...                                                 ...  ...     ...  ..   \n",
       "2150  \\dataset\\extdia_v1\\pump6dB00_EDiaV1HPaug0_outp...  6dB    pump  00   \n",
       "2151  \\dataset\\extdia_v1\\pump6dB00_EDiaV1HPaug0_outp...  6dB    pump  00   \n",
       "2152  \\dataset\\extdia_v1\\pump6dB00_EDiaV1HPaug0_outp...  6dB    pump  00   \n",
       "2153  \\dataset\\extdia_v1\\pump6dB00_EDiaV1HPaug0_outp...  6dB    pump  00   \n",
       "2154  \\dataset\\extdia_v1\\pump6dB00_EDiaV1HPaug0_outp...  6dB    pump  00   \n",
       "\n",
       "      train_set  \n",
       "0             0  \n",
       "1             0  \n",
       "2             0  \n",
       "3             0  \n",
       "4             0  \n",
       "...         ...  \n",
       "2150          1  \n",
       "2151          1  \n",
       "2152          1  \n",
       "2153          1  \n",
       "2154          1  \n",
       "\n",
       "[2155 rows x 16 columns]"
      ]
     },
     "execution_count": 2,
     "metadata": {},
     "output_type": "execute_result"
    }
   ],
   "source": [
    "df"
   ]
  },
  {
   "cell_type": "code",
   "execution_count": 3,
   "metadata": {
    "ExecuteTime": {
     "end_time": "2020-05-04T11:27:27.653780Z",
     "start_time": "2020-05-04T11:27:27.646773Z"
    }
   },
   "outputs": [],
   "source": [
    "diagrams = ['extdia_v0']\n",
    "machines = ['pump'#, 'fan', 'slider', 'valve'\n",
    "            ]\n",
    "SNRs = ['6dB'#, 'min6dB'\n",
    "        ]\n",
    "IDs = ['00'#, '02', '04', '06'\n",
    "        ]\n",
    "features = ['MEL_den'#, 'PSD_den'\n",
    "            ]\n",
    "\n",
    "tasks = [{\n",
    "        'path_descr':path, \n",
    "        'feat':{'function':'frame', 'frames':5}, \n",
    "        'feat_col':feature, \n",
    "        'SNR':SNR, \n",
    "        'machine':machine, \n",
    "        'ID':ID,\n",
    "        'BASE_FOLDER':BASE_FOLDER} \n",
    "        for diagram in diagrams\n",
    "        for machine in machines\n",
    "        for SNR in SNRs\n",
    "        for ID in IDs\n",
    "        for feature in features\n",
    "        ]"
   ]
  },
  {
   "cell_type": "code",
   "execution_count": 4,
   "metadata": {
    "ExecuteTime": {
     "end_time": "2020-05-04T11:27:29.185519Z",
     "start_time": "2020-05-04T11:27:29.180534Z"
    }
   },
   "outputs": [],
   "source": [
    "from sklearn.preprocessing import StandardScaler\n",
    "from sklearn.decomposition import PCA, FastICA\n",
    "\n",
    "preprocessing = [\n",
    "    (FastICA, {'n_components':40, 'algorithm':'parallel'}),\n",
    "    (StandardScaler, {})\n",
    "]\n",
    "\n",
    "modeling = (uni_IsolationForest, {})\n",
    "\n",
    "pipes = [Pipe(preprocessing, modeling) for i in range(len(tasks))]"
   ]
  },
  {
   "cell_type": "code",
   "execution_count": 7,
   "metadata": {
    "ExecuteTime": {
     "end_time": "2020-05-04T11:36:48.220922Z",
     "start_time": "2020-05-04T11:35:14.872667Z"
    }
   },
   "outputs": [
    {
     "name": "stdout",
     "output_type": "stream",
     "text": [
      "...loading data\n",
      "data loading completed\n",
      "\n",
      "...preprocessing data\n",
      "data preprocessing finished\n",
      "\n",
      "...fitting the model\n",
      "model fitted successfully\n",
      "\n",
      "...evaluating model\n",
      "evaluation successfull, roc_auc: 0.96054093144438\n",
      "pipe saved to pickle\n"
     ]
    },
    {
     "data": {
      "text/plain": [
       "True"
      ]
     },
     "execution_count": 7,
     "metadata": {},
     "output_type": "execute_result"
    }
   ],
   "source": [
    "pipes[0].run_pipe(tasks[0])"
   ]
  },
  {
   "cell_type": "code",
   "execution_count": 8,
   "metadata": {
    "ExecuteTime": {
     "end_time": "2020-05-04T11:41:01.833560Z",
     "start_time": "2020-05-04T11:41:01.106464Z"
    }
   },
   "outputs": [],
   "source": [
    "   \n",
    "dd = pickle.load( open( r'.\\pipes\\MEL_den_frame5_6dB_pump_ID00_20200504_133517.pkl', \"rb\" ))"
   ]
  },
  {
   "cell_type": "code",
   "execution_count": 15,
   "metadata": {
    "ExecuteTime": {
     "end_time": "2020-05-04T11:44:26.170191Z",
     "start_time": "2020-05-04T11:44:26.165205Z"
    }
   },
   "outputs": [
    {
     "data": {
      "text/plain": [
       "{}"
      ]
     },
     "execution_count": 15,
     "metadata": {},
     "output_type": "execute_result"
    }
   ],
   "source": [
    "dd.roc_auc\n",
    "dd.model_args"
   ]
  },
  {
   "cell_type": "markdown",
   "metadata": {},
   "source": [
    "# ignore part below unless multithreading is needed"
   ]
  },
  {
   "cell_type": "code",
   "execution_count": 5,
   "metadata": {
    "ExecuteTime": {
     "end_time": "2020-05-04T11:27:37.525040Z",
     "start_time": "2020-05-04T11:27:37.520029Z"
    }
   },
   "outputs": [],
   "source": [
    "#lw = LoggerWrap()\n",
    "\n",
    "# create the threads\n",
    "n_jobs = 4\n",
    "worker_list = []\n",
    "queue = Queue()\n",
    "for worker in range(n_jobs):\n",
    "    worker = PipeThread(queue)\n",
    "    worker.daemon = True\n",
    "    worker.start()\n",
    "    worker_list.append(worker)"
   ]
  },
  {
   "cell_type": "code",
   "execution_count": 5,
   "metadata": {
    "ExecuteTime": {
     "end_time": "2020-04-30T11:47:44.428178Z",
     "start_time": "2020-04-30T11:47:44.409175Z"
    }
   },
   "outputs": [
    {
     "name": "stdout",
     "output_type": "stream",
     "text": [
      "...loading data\n",
      "data loading completed\n",
      "\n",
      "...preprocessing data\n"
     ]
    }
   ],
   "source": [
    "# fill the Queue\n",
    "#lw.log('multithread mode filling the queue' )\n",
    "for pipe, task in (zip(pipes, tasks)):\n",
    "    queue.put((pipe, task))"
   ]
  },
  {
   "cell_type": "code",
   "execution_count": 7,
   "metadata": {
    "ExecuteTime": {
     "end_time": "2020-04-30T11:46:24.954418Z",
     "start_time": "2020-04-30T11:46:24.871418Z"
    },
    "scrolled": true
   },
   "outputs": [],
   "source": [
    "for worker in worker_list:\n",
    "    worker.stop = True"
   ]
  },
  {
   "cell_type": "code",
   "execution_count": null,
   "metadata": {},
   "outputs": [],
   "source": []
  }
 ],
 "metadata": {
  "kernelspec": {
   "display_name": "Py3.7 (mimii_base_TF2_GPU)",
   "language": "python",
   "name": "mimiibasetf2gpu"
  },
  "language_info": {
   "codemirror_mode": {
    "name": "ipython",
    "version": 3
   },
   "file_extension": ".py",
   "mimetype": "text/x-python",
   "name": "python",
   "nbconvert_exporter": "python",
   "pygments_lexer": "ipython3",
   "version": "3.7.6"
  },
  "toc": {
   "base_numbering": 1,
   "nav_menu": {},
   "number_sections": true,
   "sideBar": true,
   "skip_h1_title": true,
   "title_cell": "Table of Contents",
   "title_sidebar": "Contents",
   "toc_cell": true,
   "toc_position": {},
   "toc_section_display": true,
   "toc_window_display": false
  }
 },
 "nbformat": 4,
 "nbformat_minor": 4
}
