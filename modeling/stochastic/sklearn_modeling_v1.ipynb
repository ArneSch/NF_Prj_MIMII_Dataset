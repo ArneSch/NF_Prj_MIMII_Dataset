{
 "cells": [
  {
   "cell_type": "markdown",
   "metadata": {
    "toc": true
   },
   "source": [
    "<h1>Table of Contents<span class=\"tocSkip\"></span></h1>\n",
    "<div class=\"toc\"><ul class=\"toc-item\"><li><span><a href=\"#Structure-cheat-sheet\" data-toc-modified-id=\"Structure-cheat-sheet-1\"><span class=\"toc-item-num\">1&nbsp;&nbsp;</span>Structure cheat sheet</a></span></li><li><span><a href=\"#Data-structure\" data-toc-modified-id=\"Data-structure-2\"><span class=\"toc-item-num\">2&nbsp;&nbsp;</span>Data structure</a></span></li><li><span><a href=\"#get-features\" data-toc-modified-id=\"get-features-3\"><span class=\"toc-item-num\">3&nbsp;&nbsp;</span>get features</a></span></li><li><span><a href=\"#Exploration-of-the-Features\" data-toc-modified-id=\"Exploration-of-the-Features-4\"><span class=\"toc-item-num\">4&nbsp;&nbsp;</span>Exploration of the Features</a></span></li></ul></div>"
   ]
  },
  {
   "cell_type": "markdown",
   "metadata": {},
   "source": [
    "# Basics\n",
    "\n",
    "## Structure cheat sheet\n",
    "\n",
    "1. func: train data lead (following order)\n",
    "    1. read the descriptive dataframe from the feature-pipeline\n",
    "    2. extract feature from the feature-objects which are labeled train-dataset from dataframe\n",
    "    3. create numpy feature array for the processing pipeline\n",
    "2. preprocessing\n",
    "    1. Transformation (any combination of the following)\n",
    "        + log-transform\n",
    "        + PCA\n",
    "        + others\n",
    "    2. Scaling (one of the following)\n",
    "        + StandardScaler\n",
    "        + MinMaxScaler\n",
    "3. Unsupervised Clustering\n",
    "    1. Estimate initial hyperparameter\n",
    "    2. Create grid over various hyperparameters\n",
    "    3. Train all and choose the best according to metric\n",
    "    \n",
    "    \n",
    "in all steps the cluster-recorder object (possibly dataframe-row) will record all the meta-information like hyper-parameters"
   ]
  },
  {
   "cell_type": "markdown",
   "metadata": {},
   "source": [
    "## Data structure\n",
    "\n",
    "There are multiple degrees of freedom in the data:\n",
    "\n",
    "1. Signal to noise ratio (SNR)\n",
    "2. Machine type\n",
    "    1. pump\n",
    "    2. fan\n",
    "    3. valve (solenoid)\n",
    "    4. slider\n",
    "3. Machine ID\n",
    "    1. four different machine IDs\n",
    "    \n",
    "The pipeline will be applied to fixed SNR, fixed machine type and fixed ID"
   ]
  },
  {
   "cell_type": "markdown",
   "metadata": {},
   "source": [
    "## get features\n",
    "\n",
    "Get the descriptive dataframe for the features.\n",
    "\n",
    "The descriptive dataframe contains all IDs of the pump. We will focus on ID '00' for now since the modeling phase is seperated per SNR, per machine, per ID anyway."
   ]
  },
  {
   "cell_type": "markdown",
   "metadata": {},
   "source": [
    "class: \n",
    "+ uni\\_\\<model\\>\n",
    "attributes:\n",
    "+ default threshold\n",
    "+ roc_auc\n",
    "methods:\n",
    "+ fit\n",
    "+ predict\n",
    "+ predict_score\n",
    "+ eval_roc_auc"
   ]
  },
  {
   "cell_type": "code",
   "execution_count": 1,
   "metadata": {
    "ExecuteTime": {
     "end_time": "2020-05-06T16:50:38.247916Z",
     "start_time": "2020-05-06T16:50:38.186402Z"
    },
    "scrolled": true
   },
   "outputs": [
    {
     "output_type": "stream",
     "name": "stdout",
     "text": "load feature_extractor_mother\nload feature_extractor_mel_spectra\nload feature_extractor_psd\nload feature_extractor_ICA2\nload feature_extractore_pre_nnFilterDenoise\nload extractor_diagram_mother\nload Simple_FIR_HP\nload TimeSliceAppendActivation\nload load_data\nLoad split_data\nLoad anomaly_detection_models\nLoad pseudo_supervised_models\nLoad tensorflow models\nLoad detection_pipe\n"
    }
   ],
   "source": [
    "#===============================================\n",
    "# Basic Imports\n",
    "BASE_FOLDER = '../../'\n",
    "%run -i ..\\..\\utility\\feature_extractor\\JupyterLoad_feature_extractor.py\n",
    "%run -i ..\\..\\utility\\modeling\\JupyterLoad_modeling.py"
   ]
  },
  {
   "cell_type": "markdown",
   "metadata": {},
   "source": [
    "The exploration of the Dimensionality Reduction was already done in another notebook. We derived the following rules of thumb:\n",
    "\n",
    "1. PCA and ICA deliver almost the same results looking at the relative absolute error\n",
    "2. PCA is usually much faster\n",
    "3. on PSD and the ICA demix matrix, no dimensionality reduction is needed\n",
    "4. for a framed Mel-spectrum a number of components between 32 and 64 is a good measure. The resulting error is about 2-4%\n",
    "5. for a whole Mel-spectrum a number of components between 64 and 128 is advised"
   ]
  },
  {
   "cell_type": "markdown",
   "metadata": {},
   "source": [
    "## Exploration of the Features"
   ]
  },
  {
   "cell_type": "code",
   "execution_count": 2,
   "metadata": {
    "ExecuteTime": {
     "end_time": "2020-05-06T19:48:09.609244Z",
     "start_time": "2020-05-06T19:48:09.579243Z"
    }
   },
   "outputs": [],
   "source": [
    "import glob\n",
    "\n",
    "diagram = 'extdia_v1'\n",
    "machines = ['pump'\n",
    "            , 'fan'\n",
    "            , 'slider'\n",
    "            #, 'valve'\n",
    "            ]\n",
    "SNRs = ['6dB', 'min6dB'\n",
    "        ]\n",
    "IDs = ['00'\n",
    "       , '02'\n",
    "       ,# '04'\n",
    "       #, '06'\n",
    "        ]\n",
    "features = [#('MEL_denbssm', {'function':'frame', 'frames':3})\n",
    "            #, ('MEL_denbssm', {'function':'frame', 'frames':5})\n",
    "            #, ('MEL_denbssm', {'function':'frame', 'frames':7})\n",
    "            #, ('MEL_denbssm', {'function':'flat'})\n",
    "            ('PSD_denbssm', {'function':'channel'})\n",
    "            #, ('MEL_bssm', {'function':'frame', 'frames':3})\n",
    "            #, ('MEL_bssm', {'function':'frame', 'frames':5})\n",
    "            #, ('MEL_bssm', {'function':'frame', 'frames':7})\n",
    "            #, ('MEL_bssm', {'function':'flat'})\n",
    "            , ('PSD_bssm', {'function':'channel'})\n",
    "            #, ('MEL_raw', {'function':'frame', 'frames':3})\n",
    "            #, ('MEL_raw', {'function':'frame', 'frames':5})\n",
    "            #, ('MEL_raw', {'function':'frame', 'frames':7})\n",
    "            #, ('MEL_raw', {'function':'flat'})\n",
    "            , ('PSD_raw', {'function':'channel'})\n",
    "            #, ('MEL_den', {'function':'frame', 'frames':3})\n",
    "            #, ('MEL_den', {'function':'frame', 'frames':5})\n",
    "            #, ('MEL_den', {'function':'frame', 'frames':7})\n",
    "            #, ('MEL_den', {'function':'flat'})\n",
    "            , ('PSD_den', {'function':'channel'})\n",
    "            , ('ICA_demix', {'function':'flat'})\n",
    "            , ('ICA_demix', {'function':'maxrange'})\n",
    "            ]\n",
    "\n",
    "tasks = [{\n",
    "        'path_descr':glob.glob(BASE_FOLDER \n",
    "                               + '/dataset/{}/{}{}{}_EDiaV1'.format(diagram, machine, SNR, ID) \n",
    "                               + \"*pandaDisc*.pkl\", recursive=True)[0],\n",
    "        'feat':feature[1], \n",
    "        'feat_col':feature[0], \n",
    "        'SNR':SNR, \n",
    "        'machine':machine, \n",
    "        'ID':ID,\n",
    "        'BASE_FOLDER':BASE_FOLDER}\n",
    "        for machine in machines\n",
    "        for SNR in SNRs\n",
    "        for ID in IDs\n",
    "        for feature in features\n",
    "        ]"
   ]
  },
  {
   "cell_type": "code",
   "execution_count": 3,
   "metadata": {
    "ExecuteTime": {
     "end_time": "2020-05-06T19:54:07.421723Z",
     "start_time": "2020-05-06T19:54:07.059725Z"
    }
   },
   "outputs": [],
   "source": [
    "from sklearn.preprocessing import StandardScaler\n",
    "from sklearn.decomposition import PCA, FastICA\n",
    "\n",
    "preprocessing = [\n",
    "    #(PCA, {'n_components':64}),\n",
    "    (StandardScaler, {})\n",
    "]\n",
    "\n",
    "modeling = (uni_IsolationForest, {\n",
    "    'n_estimators':100\n",
    "    ,'max_features':1\n",
    "    ,'random_state':42})\n",
    "\n",
    "# modeling = (uni_EllipticEnvelope, {})\n",
    "\n",
    "pipes = [Pipe(preprocessing, modeling) for i in range(len(tasks))]"
   ]
  },
  {
   "cell_type": "code",
   "execution_count": null,
   "metadata": {},
   "outputs": [],
   "source": [
    "for "
   ]
  },
  {
   "cell_type": "code",
   "execution_count": 4,
   "metadata": {
    "ExecuteTime": {
     "end_time": "2020-05-06T19:54:08.423730Z",
     "start_time": "2020-05-06T19:54:08.178724Z"
    }
   },
   "outputs": [],
   "source": [
    "#lw = LoggerWrap()\n",
    "\n",
    "# create the threads\n",
    "n_jobs = 1\n",
    "worker_list = []\n",
    "queue = Queue()\n",
    "for worker in range(n_jobs):\n",
    "    worker = PipeThread(queue)\n",
    "    worker.daemon = True\n",
    "    worker.start()\n",
    "    worker_list.append(worker)"
   ]
  },
  {
   "cell_type": "code",
   "execution_count": 5,
   "metadata": {
    "ExecuteTime": {
     "end_time": "2020-05-06T19:54:08.925724Z",
     "start_time": "2020-05-06T19:54:08.879725Z"
    }
   },
   "outputs": [
    {
     "output_type": "stream",
     "name": "stdout",
     "text": "...loading data\n"
    }
   ],
   "source": [
    "# fill the Queue\n",
    "#lw.log('multithread mode filling the queue' )\n",
    "for pipe, task in (zip(pipes, tasks)):\n",
    "    queue.put((pipe, task))"
   ]
  },
  {
   "cell_type": "code",
   "execution_count": 6,
   "metadata": {
    "ExecuteTime": {
     "end_time": "2020-04-30T11:46:24.954418Z",
     "start_time": "2020-04-30T11:46:24.871418Z"
    },
    "scrolled": true
   },
   "outputs": [],
   "source": [
    "for worker in worker_list:\n",
    "    worker.stop = True"
   ]
  },
  {
   "cell_type": "code",
   "execution_count": null,
   "metadata": {},
   "outputs": [],
   "source": []
  }
 ],
 "metadata": {
  "kernelspec": {
   "display_name": "Py3.7 (mimii_base_TF2_GPU)",
   "language": "python",
   "name": "mimii-tf2-gpu"
  },
  "language_info": {
   "codemirror_mode": {
    "name": "ipython",
    "version": 3
   },
   "file_extension": ".py",
   "mimetype": "text/x-python",
   "name": "python",
   "nbconvert_exporter": "python",
   "pygments_lexer": "ipython3",
   "version": "3.7.7-final"
  },
  "toc": {
   "base_numbering": 1,
   "nav_menu": {},
   "number_sections": true,
   "sideBar": true,
   "skip_h1_title": true,
   "title_cell": "Table of Contents",
   "title_sidebar": "Contents",
   "toc_cell": true,
   "toc_position": {},
   "toc_section_display": true,
   "toc_window_display": false
  }
 },
 "nbformat": 4,
 "nbformat_minor": 4
}