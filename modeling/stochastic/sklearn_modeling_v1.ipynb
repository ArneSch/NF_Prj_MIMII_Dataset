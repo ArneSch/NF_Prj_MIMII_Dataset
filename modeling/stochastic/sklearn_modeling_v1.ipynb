{
 "cells": [
  {
   "cell_type": "markdown",
   "metadata": {
    "toc": true
   },
   "source": [
    "<h1>Table of Contents<span class=\"tocSkip\"></span></h1>\n",
    "<div class=\"toc\"><ul class=\"toc-item\"><li><span><a href=\"#Structure-cheat-sheet\" data-toc-modified-id=\"Structure-cheat-sheet-1\"><span class=\"toc-item-num\">1&nbsp;&nbsp;</span>Structure cheat sheet</a></span></li><li><span><a href=\"#Data-structure\" data-toc-modified-id=\"Data-structure-2\"><span class=\"toc-item-num\">2&nbsp;&nbsp;</span>Data structure</a></span></li><li><span><a href=\"#get-features\" data-toc-modified-id=\"get-features-3\"><span class=\"toc-item-num\">3&nbsp;&nbsp;</span>get features</a></span></li><li><span><a href=\"#Exploration-of-non-spectral-Features\" data-toc-modified-id=\"Exploration-of-non-spectral-Features-4\"><span class=\"toc-item-num\">4&nbsp;&nbsp;</span>Exploration of non-spectral Features</a></span></li><li><span><a href=\"#Exploring-spectral-features\" data-toc-modified-id=\"Exploring-spectral-features-5\"><span class=\"toc-item-num\">5&nbsp;&nbsp;</span>Exploring spectral features</a></span></li><li><span><a href=\"#Running-the-Auto-Encoder\" data-toc-modified-id=\"Running-the-Auto-Encoder-6\"><span class=\"toc-item-num\">6&nbsp;&nbsp;</span>Running the Auto-Encoder</a></span></li></ul></div>"
   ]
  },
  {
   "cell_type": "markdown",
   "metadata": {},
   "source": [
    "# Basics\n",
    "\n",
    "## Structure cheat sheet\n",
    "\n",
    "1. func: train data lead (following order)\n",
    "    1. read the descriptive dataframe from the feature-pipeline\n",
    "    2. extract feature from the feature-objects which are labeled train-dataset from dataframe\n",
    "    3. create numpy feature array for the processing pipeline\n",
    "2. preprocessing\n",
    "    1. Transformation (any combination of the following)\n",
    "        + log-transform\n",
    "        + PCA\n",
    "        + others\n",
    "    2. Scaling (one of the following)\n",
    "        + StandardScaler\n",
    "        + MinMaxScaler\n",
    "3. Unsupervised Clustering\n",
    "    1. Estimate initial hyperparameter\n",
    "    2. Create grid over various hyperparameters\n",
    "    3. Train all and choose the best according to metric\n",
    "    \n",
    "    \n",
    "in all steps the cluster-recorder object (possibly dataframe-row) will record all the meta-information like hyper-parameters"
   ]
  },
  {
   "cell_type": "markdown",
   "metadata": {},
   "source": [
    "## Data structure\n",
    "\n",
    "There are multiple degrees of freedom in the data:\n",
    "\n",
    "1. Signal to noise ratio (SNR)\n",
    "2. Machine type\n",
    "    1. pump\n",
    "    2. fan\n",
    "    3. valve (solenoid)\n",
    "    4. slider\n",
    "3. Machine ID\n",
    "    1. four different machine IDs\n",
    "    \n",
    "The pipeline will be applied to fixed SNR, fixed machine type and fixed ID"
   ]
  },
  {
   "cell_type": "markdown",
   "metadata": {},
   "source": [
    "## get features\n",
    "\n",
    "Get the descriptive dataframe for the features.\n",
    "\n",
    "The descriptive dataframe contains all IDs of the pump. We will focus on ID '00' for now since the modeling phase is seperated per SNR, per machine, per ID anyway."
   ]
  },
  {
   "cell_type": "markdown",
   "metadata": {},
   "source": [
    "class: \n",
    "+ uni\\_\\<model\\>\n",
    "attributes:\n",
    "+ default threshold\n",
    "+ roc_auc\n",
    "methods:\n",
    "+ fit\n",
    "+ predict\n",
    "+ predict_score\n",
    "+ eval_roc_auc"
   ]
  },
  {
   "cell_type": "code",
   "execution_count": 20,
   "metadata": {
    "ExecuteTime": {
     "end_time": "2020-05-07T16:11:47.730224Z",
     "start_time": "2020-05-07T16:11:47.687205Z"
    },
    "scrolled": true
   },
   "outputs": [
    {
     "name": "stdout",
     "output_type": "stream",
     "text": [
      "load feature_extractor_mother\n",
      "load feature_extractor_mel_spectra\n",
      "load feature_extractor_psd\n",
      "load feature_extractor_ICA2\n",
      "load feature_extractore_pre_nnFilterDenoise\n",
      "load extractor_diagram_mother\n",
      "load Simple_FIR_HP\n",
      "load TimeSliceAppendActivation\n",
      "load load_data\n",
      "Load split_data\n",
      "Load anomaly_detection_models\n",
      "Load pseudo_supervised_models\n",
      "Load tensorflow models\n",
      "Load detection_pipe\n"
     ]
    }
   ],
   "source": [
    "#===============================================\n",
    "# Basic Imports\n",
    "BASE_FOLDER = '../../'\n",
    "%run -i ..\\..\\utility\\feature_extractor\\JupyterLoad_feature_extractor.py\n",
    "%run -i ..\\..\\utility\\modeling\\JupyterLoad_modeling.py\n",
    "\n",
    "from sklearn.preprocessing import StandardScaler\n",
    "from sklearn.decomposition import PCA, FastICA\n",
    "from tqdm import tqdm\n",
    "import glob"
   ]
  },
  {
   "cell_type": "markdown",
   "metadata": {},
   "source": [
    "The exploration of the Dimensionality Reduction was already done in another notebook. We derived the following rules of thumb:\n",
    "\n",
    "1. PCA and ICA deliver almost the same results looking at the relative absolute error\n",
    "2. PCA is usually much faster\n",
    "3. on PSD and the ICA demix matrix, no dimensionality reduction is needed\n",
    "4. for a framed Mel-spectrum a number of components between 32 and 64 is a good measure. The resulting error is about 2-4%\n",
    "5. for a whole Mel-spectrum a number of components between 64 and 128 is advised"
   ]
  },
  {
   "cell_type": "markdown",
   "metadata": {},
   "source": [
    "## Exploration of non-spectral Features"
   ]
  },
  {
   "cell_type": "code",
   "execution_count": null,
   "metadata": {
    "ExecuteTime": {
     "start_time": "2020-05-07T14:19:45.868Z"
    },
    "code_folding": [
     1,
     6,
     10,
     13,
     37
    ]
   },
   "outputs": [],
   "source": [
    "diagram = 'extdia_v1'\n",
    "machines = ['pump'\n",
    "            , 'fan'\n",
    "            , 'slider'\n",
    "            , 'valve'\n",
    "            ]\n",
    "SNRs = ['6dB', 'min6dB'\n",
    "        ]\n",
    "IDs = ['00'\n",
    "       , '02'\n",
    "       ,# '04'\n",
    "       #, '06'\n",
    "        ]\n",
    "features = [#('MEL_denbssm', {'function':'frame', 'frames':3})\n",
    "            #, ('MEL_denbssm', {'function':'frame', 'frames':5})\n",
    "            #, ('MEL_denbssm', {'function':'frame', 'frames':7})\n",
    "            #, ('MEL_denbssm', {'function':'flat'})\n",
    "            ('PSD_denbssm', {'function':'channel'})\n",
    "            #, ('MEL_bssm', {'function':'frame', 'frames':3})\n",
    "            #, ('MEL_bssm', {'function':'frame', 'frames':5})\n",
    "            #, ('MEL_bssm', {'function':'frame', 'frames':7})\n",
    "            #, ('MEL_bssm', {'function':'flat'})\n",
    "            , ('PSD_bssm', {'function':'channel'})\n",
    "            #, ('MEL_raw', {'function':'frame', 'frames':3})\n",
    "            #, ('MEL_raw', {'function':'frame', 'frames':5})\n",
    "            #, ('MEL_raw', {'function':'frame', 'frames':7})\n",
    "            #, ('MEL_raw', {'function':'flat'})\n",
    "            , ('PSD_raw', {'function':'channel'})\n",
    "            #, ('MEL_den', {'function':'frame', 'frames':3})\n",
    "            #, ('MEL_den', {'function':'frame', 'frames':5})\n",
    "            #, ('MEL_den', {'function':'frame', 'frames':7})\n",
    "            #, ('MEL_den', {'function':'flat'})\n",
    "            , ('PSD_den', {'function':'channel'})\n",
    "            , ('ICA_demix', {'function':'flat'})\n",
    "            , ('ICA_demix', {'function':'maxrange'})\n",
    "            ]\n",
    "\n",
    "tasks = [{\n",
    "        'path_descr':glob.glob(BASE_FOLDER \n",
    "                               + '/dataset/{}/{}{}{}_EDiaV1'.format(diagram, machine, SNR, ID) \n",
    "                               + \"*pandaDisc*.pkl\", recursive=True)[0],\n",
    "        'feat':feature[1], \n",
    "        'feat_col':feature[0], \n",
    "        'SNR':SNR, \n",
    "        'machine':machine, \n",
    "        'ID':ID,\n",
    "        'BASE_FOLDER':BASE_FOLDER}\n",
    "        for machine in machines\n",
    "        for SNR in SNRs\n",
    "        for ID in IDs\n",
    "        for feature in features\n",
    "        ]\n",
    "\n",
    "preprocessing = [\n",
    "    #(PCA, {'n_components':64}),\n",
    "    (StandardScaler, {})\n",
    "]\n",
    "\n",
    "#modeling = (uni_IsolationForest, {\n",
    "#    'n_estimators':100\n",
    "#    ,'max_features':1\n",
    "#    ,'random_state':42})\n",
    "\n",
    "modeling = (uni_GaussianMixture, {'n_components':64})\n",
    "\n",
    "pipes = [Pipe(preprocessing, modeling) for i in range(len(tasks))]\n",
    "\n",
    "tasks_failed = []\n",
    "for pipe, task in tqdm(zip(pipes, tasks), total=len(tasks)):\n",
    "    try:\n",
    "        pipe.run_pipe(task)\n",
    "    except:\n",
    "        tasks_failed.append(task)\n",
    "        print('Task failed')"
   ]
  },
  {
   "cell_type": "code",
   "execution_count": null,
   "metadata": {
    "ExecuteTime": {
     "start_time": "2020-05-07T14:31:29.593Z"
    }
   },
   "outputs": [],
   "source": [
    "pipes[0].run_pipe[tasks[0]]"
   ]
  },
  {
   "cell_type": "markdown",
   "metadata": {},
   "source": [
    "## Exploring spectral features"
   ]
  },
  {
   "cell_type": "code",
   "execution_count": null,
   "metadata": {
    "ExecuteTime": {
     "end_time": "2020-05-07T11:04:18.394331Z",
     "start_time": "2020-05-07T11:04:18.040018Z"
    },
    "code_folding": [
     1,
     6,
     8,
     13,
     37
    ]
   },
   "outputs": [],
   "source": [
    "diagram = 'extdia_v1'\n",
    "machines = ['pump'\n",
    "            , 'fan'\n",
    "            , 'slider'\n",
    "            , 'valve'\n",
    "            ]\n",
    "SNRs = ['6dB', 'min6dB'\n",
    "        ]\n",
    "IDs = ['00'\n",
    "       , '02'\n",
    "       ,# '04'\n",
    "       #, '06'\n",
    "        ]\n",
    "features = [('MEL_denbssm', {'function':'frame', 'frames':3})\n",
    "            , ('MEL_denbssm', {'function':'frame', 'frames':5})\n",
    "            , ('MEL_denbssm', {'function':'frame', 'frames':7})\n",
    "            , ('MEL_denbssm', {'function':'flat'})\n",
    "            #('PSD_denbssm', {'function':'channel'})\n",
    "            , ('MEL_bssm', {'function':'frame', 'frames':3})\n",
    "            , ('MEL_bssm', {'function':'frame', 'frames':5})\n",
    "            , ('MEL_bssm', {'function':'frame', 'frames':7})\n",
    "            , ('MEL_bssm', {'function':'flat'})\n",
    "            #, ('PSD_bssm', {'function':'channel'})\n",
    "            , ('MEL_raw', {'function':'frame', 'frames':3})\n",
    "            , ('MEL_raw', {'function':'frame', 'frames':5})\n",
    "            , ('MEL_raw', {'function':'frame', 'frames':7})\n",
    "            , ('MEL_raw', {'function':'flat'})\n",
    "            #, ('PSD_raw', {'function':'channel'})\n",
    "            , ('MEL_den', {'function':'frame', 'frames':3})\n",
    "            , ('MEL_den', {'function':'frame', 'frames':5})\n",
    "            , ('MEL_den', {'function':'frame', 'frames':7})\n",
    "            , ('MEL_den', {'function':'flat'})\n",
    "            #, ('PSD_den', {'function':'channel'})\n",
    "            #, ('ICA_demix', {'function':'flat'})\n",
    "            #, ('ICA_demix', {'function':'maxrange'})\n",
    "            ]\n",
    "\n",
    "tasks = [{\n",
    "        'path_descr':glob.glob(BASE_FOLDER \n",
    "                               + '/dataset/{}/{}{}{}_EDiaV1'.format(diagram, machine, SNR, ID) \n",
    "                               + \"*pandaDisc*.pkl\", recursive=True)[0],\n",
    "        'feat':feature[1], \n",
    "        'feat_col':feature[0], \n",
    "        'SNR':SNR, \n",
    "        'machine':machine, \n",
    "        'ID':ID,\n",
    "        'BASE_FOLDER':BASE_FOLDER}\n",
    "        for machine in machines\n",
    "        for SNR in SNRs\n",
    "        for ID in IDs\n",
    "        for feature in features\n",
    "        ]\n",
    "\n",
    "preprocessing = [\n",
    "    (PCA, {'n_components':64}),\n",
    "    (StandardScaler, {})\n",
    "]\n",
    "\n",
    "modeling = (uni_IsolationForest, {\n",
    "    'n_estimators':64\n",
    "    ,'max_features':4\n",
    "    ,'random_state':42\n",
    "    ,'n_jobs':1\n",
    "})\n",
    "\n",
    "pipes = [Pipe(preprocessing, modeling) for i in range(len(tasks))]\n",
    "\n",
    "# create the threads\n",
    "n_jobs = 2\n",
    "worker_list = []\n",
    "queue = Queue()\n",
    "for worker in range(n_jobs):\n",
    "    worker = PipeThread(queue)\n",
    "    worker.daemon = True\n",
    "    worker.start()\n",
    "    worker_list.append(worker)"
   ]
  },
  {
   "cell_type": "markdown",
   "metadata": {},
   "source": [
    "## Running the Auto-Encoder"
   ]
  },
  {
   "cell_type": "code",
   "execution_count": 51,
   "metadata": {
    "ExecuteTime": {
     "end_time": "2020-05-08T08:59:19.562158Z",
     "start_time": "2020-05-08T08:59:19.405159Z"
    },
    "code_folding": []
   },
   "outputs": [],
   "source": [
    "diagram = 'extdia_v1'\n",
    "machines = ['valve']#'pump'\n",
    "            #, 'fan'\n",
    "            #, 'slider'\n",
    "            #'valve'\n",
    "            #]\n",
    "SNRs = ['6dB', 'min6dB'\n",
    "        ]\n",
    "IDs = ['00'\n",
    "       , '02'\n",
    "       ,# '04'\n",
    "       #, '06'\n",
    "        ]\n",
    "features = [('MEL_denbssm', {'function':'frame', 'frames':3})\n",
    "            , ('MEL_denbssm', {'function':'frame', 'frames':5})\n",
    "            , ('MEL_denbssm', {'function':'frame', 'frames':7})\n",
    "            , ('MEL_denbssm', {'function':'flat'})\n",
    "            #('PSD_denbssm', {'function':'channel'})\n",
    "            , ('MEL_bssm', {'function':'frame', 'frames':3})\n",
    "            , ('MEL_bssm', {'function':'frame', 'frames':5})\n",
    "            , ('MEL_bssm', {'function':'frame', 'frames':7})\n",
    "            , ('MEL_bssm', {'function':'flat'})\n",
    "            #, ('PSD_bssm', {'function':'channel'})\n",
    "            , ('MEL_raw', {'function':'frame', 'frames':3})\n",
    "            , ('MEL_raw', {'function':'frame', 'frames':5})\n",
    "            , ('MEL_raw', {'function':'frame', 'frames':7})\n",
    "            , ('MEL_raw', {'function':'flat'})\n",
    "            #, ('PSD_raw', {'function':'channel'})\n",
    "            , ('MEL_den', {'function':'frame', 'frames':3})\n",
    "            , ('MEL_den', {'function':'frame', 'frames':5})\n",
    "            , ('MEL_den', {'function':'frame', 'frames':7})\n",
    "            , ('MEL_den', {'function':'flat'})\n",
    "            #, ('PSD_den', {'function':'channel'})\n",
    "            #, ('ICA_demix', {'function':'flat'})\n",
    "            #, ('ICA_demix', {'function':'maxrange'})\n",
    "            ]\n",
    "\n",
    "tasks = [{\n",
    "        'path_descr':glob.glob(BASE_FOLDER \n",
    "                               + '/dataset/extdia_v1*/{}{}{}_EDiaV1'.format(machine, SNR, ID) \n",
    "                               + \"*pandaDisc*.pkl\", recursive=True)[0],\n",
    "        'feat':feature[1], \n",
    "        'feat_col':feature[0], \n",
    "        'SNR':SNR, \n",
    "        'machine':machine, \n",
    "        'ID':ID,\n",
    "        'BASE_FOLDER':BASE_FOLDER}\n",
    "        for machine in machines\n",
    "        for SNR in SNRs\n",
    "        for ID in IDs\n",
    "        for feature in features\n",
    "        ]"
   ]
  },
  {
   "cell_type": "code",
   "execution_count": 52,
   "metadata": {
    "ExecuteTime": {
     "end_time": "2020-05-08T08:59:21.668160Z",
     "start_time": "2020-05-08T08:59:21.655160Z"
    },
    "code_folding": [
     53
    ],
    "scrolled": true
   },
   "outputs": [],
   "source": [
    "preprocessing = [\n",
    "    (PCA, {'n_components':64}),\n",
    "    (StandardScaler, {})\n",
    "]\n",
    "\n",
    "modeling = (uni_AutoEncoder, {'epochs':30})\n",
    "\n",
    "# modeling = (uni_EllipticEnvelope, {})\n",
    "\n",
    "pipes = [Pipe(preprocessing, modeling) for i in range(len(tasks))]\n",
    "\n",
    "# create the threads\n",
    "n_jobs = 4\n",
    "worker_list = []\n",
    "queue = Queue()\n",
    "for worker in range(n_jobs):\n",
    "    worker = PipeThread(queue)\n",
    "    worker.daemon = True\n",
    "    worker.start()\n",
    "    worker_list.append(worker)"
   ]
  },
  {
   "cell_type": "code",
   "execution_count": 53,
   "metadata": {
    "ExecuteTime": {
     "end_time": "2020-05-08T08:59:23.520626Z",
     "start_time": "2020-05-08T08:59:23.512626Z"
    }
   },
   "outputs": [
    {
     "name": "stdout",
     "output_type": "stream",
     "text": [
      "../..//dataset\\extdia_v1_sporafic\\valve6dB00_EDiaV1HPaug0TsSl_pandaDisc.pkl --> Done\n",
      "...loading data\n",
      "../..//dataset\\extdia_v1_sporafic\\valve6dB00_EDiaV1HPaug0TsSl_pandaDisc.pkl --> Done\n",
      "...loading data\n",
      "../..//dataset\\extdia_v1_sporafic\\valve6dB00_EDiaV1HPaug0TsSl_pandaDisc.pkl --> Done../..//dataset\\extdia_v1_sporafic\\valve6dB00_EDiaV1HPaug0TsSl_pandaDisc.pkl --> Done\n",
      "...loading data\n",
      "\n",
      "...loading data\n"
     ]
    },
    {
     "name": "stderr",
     "output_type": "stream",
     "text": [
      "Exception in thread Thread-27:\n",
      "Traceback (most recent call last):\n",
      "  File \"C:\\Users\\bendi\\.conda\\envs\\mimii-tf2-gpu\\lib\\threading.py\", line 926, in _bootstrap_inner\n",
      "    self.run()\n",
      "  File \"<string>\", line 157, in run\n",
      "  File \"<string>\", line 116, in run_pipe\n",
      "  File \"<string>\", line 60, in get_data\n",
      "  File \"<string>\", line 13, in load_data\n",
      "  File \"C:\\Users\\bendi\\.conda\\envs\\mimii-tf2-gpu\\lib\\site-packages\\pandas\\io\\pickle.py\", line 182, in read_pickle\n",
      "    return pickle.load(f)\n",
      "EOFError: Ran out of input\n",
      "\n",
      "Exception in thread Thread-26:\n",
      "Traceback (most recent call last):\n",
      "  File \"C:\\Users\\bendi\\.conda\\envs\\mimii-tf2-gpu\\lib\\threading.py\", line 926, in _bootstrap_inner\n",
      "    self.run()\n",
      "  File \"<string>\", line 157, in run\n",
      "  File \"<string>\", line 116, in run_pipe\n",
      "  File \"<string>\", line 60, in get_data\n",
      "  File \"<string>\", line 13, in load_data\n",
      "  File \"C:\\Users\\bendi\\.conda\\envs\\mimii-tf2-gpu\\lib\\site-packages\\pandas\\io\\pickle.py\", line 182, in read_pickle\n",
      "    return pickle.load(f)\n",
      "EOFError: Ran out of input\n",
      "\n"
     ]
    },
    {
     "name": "stdout",
     "output_type": "stream",
     "text": [
      "data loading completed\n",
      "\n",
      "...preprocessing data\n",
      "data loading completed\n",
      "\n",
      "...preprocessing data\n"
     ]
    },
    {
     "name": "stderr",
     "output_type": "stream",
     "text": [
      "Exception in thread Thread-25:\n",
      "Traceback (most recent call last):\n",
      "  File \"C:\\Users\\bendi\\.conda\\envs\\mimii-tf2-gpu\\lib\\threading.py\", line 926, in _bootstrap_inner\n",
      "    self.run()\n",
      "  File \"<string>\", line 157, in run\n",
      "  File \"<string>\", line 120, in run_pipe\n",
      "  File \"<string>\", line 75, in preprocess\n",
      "  File \"C:\\Users\\bendi\\.conda\\envs\\mimii-tf2-gpu\\lib\\site-packages\\sklearn\\decomposition\\_pca.py\", line 369, in fit_transform\n",
      "    U, S, V = self._fit(X)\n",
      "  File \"C:\\Users\\bendi\\.conda\\envs\\mimii-tf2-gpu\\lib\\site-packages\\sklearn\\decomposition\\_pca.py\", line 418, in _fit\n",
      "    return self._fit_truncated(X, n_components, self._fit_svd_solver)\n",
      "  File \"C:\\Users\\bendi\\.conda\\envs\\mimii-tf2-gpu\\lib\\site-packages\\sklearn\\decomposition\\_pca.py\", line 535, in _fit_truncated\n",
      "    random_state=random_state)\n",
      "  File \"C:\\Users\\bendi\\.conda\\envs\\mimii-tf2-gpu\\lib\\site-packages\\sklearn\\utils\\extmath.py\", line 348, in randomized_svd\n",
      "    power_iteration_normalizer, random_state)\n",
      "  File \"C:\\Users\\bendi\\.conda\\envs\\mimii-tf2-gpu\\lib\\site-packages\\sklearn\\utils\\extmath.py\", line 232, in randomized_range_finder\n",
      "    Q, _ = linalg.lu(safe_sparse_dot(A, Q), permute_l=True)\n",
      "  File \"C:\\Users\\bendi\\.conda\\envs\\mimii-tf2-gpu\\lib\\site-packages\\sklearn\\utils\\extmath.py\", line 151, in safe_sparse_dot\n",
      "    ret = a @ b\n",
      "MemoryError: Unable to allocate 302. MiB for an array with shape (535408, 74) and data type float64\n",
      "\n"
     ]
    },
    {
     "name": "stdout",
     "output_type": "stream",
     "text": [
      "data preprocessing finished\n",
      "\n",
      "...fitting the model\n",
      "Epoch 1/30\n",
      "1060/1060 [==============================] - 10s 10ms/step - loss: 0.8670\n",
      "Epoch 2/30\n",
      "1060/1060 [==============================] - 7s 7ms/step - loss: 0.7632\n",
      "Epoch 3/30\n",
      "1060/1060 [==============================] - 7s 7ms/step - loss: 0.7250\n",
      "Epoch 4/30\n",
      "1060/1060 [==============================] - 7s 7ms/step - loss: 0.7073\n",
      "Epoch 5/30\n",
      "1060/1060 [==============================] - 7s 7ms/step - loss: 0.6952\n",
      "Epoch 6/30\n",
      "1060/1060 [==============================] - 8s 7ms/step - loss: 0.6859\n",
      "Epoch 7/30\n",
      "1060/1060 [==============================] - 8s 8ms/step - loss: 0.6787\n",
      "Epoch 8/30\n",
      "1060/1060 [==============================] - 8s 7ms/step - loss: 0.6728\n",
      "Epoch 9/30\n",
      "1060/1060 [==============================] - 8s 7ms/step - loss: 0.6675\n",
      "Epoch 10/30\n",
      "1060/1060 [==============================] - 8s 7ms/step - loss: 0.6631\n",
      "Epoch 11/30\n",
      "1060/1060 [==============================] - 10s 9ms/step - loss: 0.6590\n",
      "Epoch 12/30\n",
      "1060/1060 [==============================] - 11s 10ms/step - loss: 0.6556\n",
      "Epoch 13/30\n",
      "1060/1060 [==============================] - 11s 10ms/step - loss: 0.6522\n",
      "Epoch 14/30\n",
      "1060/1060 [==============================] - 10s 9ms/step - loss: 0.6490\n",
      "Epoch 15/30\n",
      "1060/1060 [==============================] - 9s 9ms/step - loss: 0.6456\n",
      "Epoch 16/30\n",
      "1060/1060 [==============================] - 10s 10ms/step - loss: 0.6428\n",
      "Epoch 17/30\n",
      "1060/1060 [==============================] - 11s 11ms/step - loss: 0.6402\n",
      "Epoch 18/30\n",
      "1060/1060 [==============================] - 10s 9ms/step - loss: 0.6376\n",
      "Epoch 19/30\n",
      "1060/1060 [==============================] - 10s 10ms/step - loss: 0.6354\n",
      "Epoch 20/30\n",
      "1060/1060 [==============================] - 9s 9ms/step - loss: 0.6335\n",
      "Epoch 21/30\n",
      "1060/1060 [==============================] - 11s 10ms/step - loss: 0.6316\n",
      "Epoch 22/30\n",
      "1060/1060 [==============================] - 10s 10ms/step - loss: 0.6302\n",
      "Epoch 23/30\n",
      "1060/1060 [==============================] - 11s 11ms/step - loss: 0.6285\n",
      "Epoch 24/30\n",
      "1060/1060 [==============================] - 9s 8ms/step - loss: 0.6271\n",
      "Epoch 25/30\n",
      "1060/1060 [==============================] - 8s 8ms/step - loss: 0.6259\n",
      "Epoch 26/30\n",
      "1060/1060 [==============================] - 8s 7ms/step - loss: 0.6246\n",
      "Epoch 27/30\n",
      "1060/1060 [==============================] - 10s 9ms/step - loss: 0.6234\n",
      "Epoch 28/30\n",
      "1060/1060 [==============================] - 11s 11ms/step - loss: 0.6225\n",
      "Epoch 29/30\n",
      "1060/1060 [==============================] - 10s 9ms/step - loss: 0.6213\n",
      "Epoch 30/30\n",
      "1060/1060 [==============================] - 9s 8ms/step - loss: 0.6203\n",
      "model fitted successfully\n",
      "\n",
      "...evaluating model\n",
      "evaluation successfull, roc_auc: 0.760750605898957\n",
      "pipe saved to pickle\n",
      "../..//dataset\\extdia_v1_sporafic\\valve6dB00_EDiaV1HPaug0TsSl_pandaDisc.pkl --> Done\n",
      "...loading data\n",
      "data loading completed\n",
      "\n",
      "...preprocessing data\n"
     ]
    }
   ],
   "source": [
    "# fill the Queue\n",
    "task_status = []\n",
    "for pipe, task in (zip(pipes[5:], tasks[5:])):\n",
    "    queue.put((pipe, task))"
   ]
  },
  {
   "cell_type": "code",
   "execution_count": null,
   "metadata": {},
   "outputs": [],
   "source": []
  }
 ],
 "metadata": {
  "kernelspec": {
   "display_name": "Py3.7 (mimii_base_TF2_GPU)",
   "language": "python",
   "name": "mimii-tf2-gpu"
  },
  "language_info": {
   "codemirror_mode": {
    "name": "ipython",
    "version": 3
   },
   "file_extension": ".py",
   "mimetype": "text/x-python",
   "name": "python",
   "nbconvert_exporter": "python",
   "pygments_lexer": "ipython3",
   "version": "3.7.7"
  },
  "toc": {
   "base_numbering": 1,
   "nav_menu": {},
   "number_sections": true,
   "sideBar": true,
   "skip_h1_title": true,
   "title_cell": "Table of Contents",
   "title_sidebar": "Contents",
   "toc_cell": true,
   "toc_position": {},
   "toc_section_display": true,
   "toc_window_display": false
  }
 },
 "nbformat": 4,
 "nbformat_minor": 4
}
