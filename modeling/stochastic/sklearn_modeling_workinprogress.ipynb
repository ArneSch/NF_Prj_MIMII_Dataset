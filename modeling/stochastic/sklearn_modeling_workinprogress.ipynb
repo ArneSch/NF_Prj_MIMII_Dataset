{
 "cells": [
  {
   "cell_type": "markdown",
   "metadata": {
    "toc": true
   },
   "source": [
    "<h1>Table of Contents<span class=\"tocSkip\"></span></h1>\n",
    "<div class=\"toc\"><ul class=\"toc-item\"><li><span><a href=\"#Structure-cheat-sheet\" data-toc-modified-id=\"Structure-cheat-sheet-1\"><span class=\"toc-item-num\">1&nbsp;&nbsp;</span>Structure cheat sheet</a></span></li><li><span><a href=\"#Data-structure\" data-toc-modified-id=\"Data-structure-2\"><span class=\"toc-item-num\">2&nbsp;&nbsp;</span>Data structure</a></span></li><li><span><a href=\"#get-features\" data-toc-modified-id=\"get-features-3\"><span class=\"toc-item-num\">3&nbsp;&nbsp;</span>get features</a></span></li></ul></div>"
   ]
  },
  {
   "cell_type": "markdown",
   "metadata": {},
   "source": [
    "# Basics\n",
    "\n",
    "## Structure cheat sheet\n",
    "\n",
    "1. func: train data lead (following order)\n",
    "    1. read the descriptive dataframe from the feature-pipeline\n",
    "    2. extract feature from the feature-objects which are labeled train-dataset from dataframe\n",
    "    3. create numpy feature array for the processing pipeline\n",
    "2. preprocessing\n",
    "    1. Transformation (any combination of the following)\n",
    "        + log-transform\n",
    "        + PCA\n",
    "        + others\n",
    "    2. Scaling (one of the following)\n",
    "        + StandardScaler\n",
    "        + MinMaxScaler\n",
    "3. Unsupervised Clustering\n",
    "    1. Estimate initial hyperparameter\n",
    "    2. Create grid over various hyperparameters\n",
    "    3. Train all and choose the best according to metric\n",
    "    \n",
    "    \n",
    "in all steps the cluster-recorder object (possibly dataframe-row) will record all the meta-information like hyper-parameters"
   ]
  },
  {
   "cell_type": "markdown",
   "metadata": {},
   "source": [
    "## Data structure\n",
    "\n",
    "There are multiple degrees of freedom in the data:\n",
    "\n",
    "1. Signal to noise ratio (SNR)\n",
    "2. Machine type\n",
    "    1. pump\n",
    "    2. fan\n",
    "    3. valve (solenoid)\n",
    "    4. slider\n",
    "3. Machine ID\n",
    "    1. four different machine IDs\n",
    "    \n",
    "The pipeline will be applied to fixed SNR, fixed machine type and fixed ID"
   ]
  },
  {
   "cell_type": "markdown",
   "metadata": {},
   "source": [
    "## get features\n",
    "\n",
    "Get the descriptive dataframe for the features.\n",
    "\n",
    "The descriptive dataframe contains all IDs of the pump. We will focus on ID '00' for now since the modeling phase is seperated per SNR, per machine, per ID anyway."
   ]
  },
  {
   "cell_type": "markdown",
   "metadata": {},
   "source": [
    "class: \n",
    "+ uni\\_\\<model\\>\n",
    "attributes:\n",
    "+ default threshold\n",
    "+ roc_auc\n",
    "methods:\n",
    "+ fit\n",
    "+ predict\n",
    "+ predict_score\n",
    "+ eval_roc_auc"
   ]
  },
  {
   "cell_type": "code",
   "execution_count": 2,
   "metadata": {
    "ExecuteTime": {
     "end_time": "2020-04-30T11:47:44.347174Z",
     "start_time": "2020-04-30T11:47:41.047370Z"
    },
    "scrolled": true
   },
   "outputs": [
    {
     "output_type": "stream",
     "name": "stdout",
     "text": "load feature_extractor_mother\nload feature_extractor_mel_spectra\nload feature_extractor_psd\nload feature_extractore_pre_nnFilterDenoise\nload extractor_diagram_mother\nload load_data\nLoad split_data\nLoad anomaly_detection_models\nLoad detection_pipe\n"
    }
   ],
   "source": [
    "#===============================================\n",
    "# Basic Imports\n",
    "\n",
    "\n",
    "BASE_FOLDER = '../../'\n",
    "%run -i ..\\..\\utility\\feature_extractor\\JupyterLoad_feature_extractor.py\n",
    "%run -i ..\\..\\utility\\modeling\\JupyterLoad_modeling.py"
   ]
  },
  {
   "cell_type": "code",
   "execution_count": 3,
   "metadata": {
    "ExecuteTime": {
     "end_time": "2020-04-30T11:47:44.362176Z",
     "start_time": "2020-04-30T11:47:44.349176Z"
    }
   },
   "outputs": [],
   "source": [
    "diagrams = ['extdia_v0']\n",
    "machines = ['pump'#, 'fan', 'slider', 'valve'\n",
    "            ]\n",
    "SNRs = ['6dB'#, 'min6dB'\n",
    "        ]\n",
    "IDs = ['00'#, '02', '04', '06'\n",
    "        ]\n",
    "features = ['MEL_den'#, 'PSD_den'\n",
    "            ]\n",
    "\n",
    "tasks = [{\n",
    "        'path_descr':BASE_FOLDER + 'dataset/{}/{}{}{}_EDiaV0_pandaDisc.pkl'.format(diagram, machine, SNR, ID), \n",
    "        'feat':{'function':'frame', 'frames':5}, \n",
    "        'feat_col':feature, \n",
    "        'SNR':SNR, \n",
    "        'machine':machine, \n",
    "        'ID':ID,\n",
    "        'BASE_FOLDER':BASE_FOLDER} \n",
    "        for diagram in diagrams\n",
    "        for machine in machines\n",
    "        for SNR in SNRs\n",
    "        for ID in IDs\n",
    "        for feature in features\n",
    "        ]\n",
    "\n"
   ]
  },
  {
   "cell_type": "code",
   "execution_count": 4,
   "metadata": {},
   "outputs": [],
   "source": [
    "from sklearn.preprocessing import StandardScaler\n",
    "from sklearn.decomposition import PCA, FastICA\n",
    "\n",
    "preprocessing = [\n",
    "    (FastICA, {'n_components':40, 'algorithm':'parallel'}),\n",
    "    (StandardScaler, {})\n",
    "]\n",
    "\n",
    "modeling = (uni_OneClassSVM, {})\n",
    "\n",
    "pipes = [Pipe(preprocessing, modeling) for i in range(len(tasks))]"
   ]
  },
  {
   "cell_type": "code",
   "execution_count": 5,
   "metadata": {
    "ExecuteTime": {
     "end_time": "2020-04-30T11:47:44.406174Z",
     "start_time": "2020-04-30T11:47:44.386174Z"
    }
   },
   "outputs": [],
   "source": [
    "#lw = LoggerWrap()\n",
    "\n",
    "# create the threads\n",
    "n_jobs = 4\n",
    "worker_list = []\n",
    "queue = Queue()\n",
    "for worker in range(n_jobs):\n",
    "    worker = PipeThread(queue)\n",
    "    worker.daemon = True\n",
    "    worker.start()\n",
    "    worker_list.append(worker)"
   ]
  },
  {
   "cell_type": "code",
   "execution_count": 6,
   "metadata": {
    "ExecuteTime": {
     "end_time": "2020-04-30T11:47:44.428178Z",
     "start_time": "2020-04-30T11:47:44.409175Z"
    }
   },
   "outputs": [
    {
     "output_type": "stream",
     "name": "stdout",
     "text": "...loading data\ndata loading completed\n\n...preprocessing data\ndata preprocessing finished\n\n...fitting the model\nmodel fitted successfully\n\n...evaluating model\nevaluation successfull, roc_auc: 0.9856618655632816\npipe saved to pickle\n"
    }
   ],
   "source": [
    "# fill the Queue\n",
    "#lw.log('multithread mode filling the queue' )\n",
    "for pipe, task in (zip(pipes, tasks)):\n",
    "    queue.put((pipe, task))"
   ]
  },
  {
   "cell_type": "code",
   "execution_count": 11,
   "metadata": {},
   "outputs": [],
   "source": [
    "with open('./pipes/MEL_den_frame5_6dB_pump_ID00_20200502_222404.pkl', 'rb') as f:\n",
    "    a = pickle.load(f)"
   ]
  },
  {
   "cell_type": "code",
   "execution_count": 13,
   "metadata": {},
   "outputs": [
    {
     "output_type": "execute_result",
     "data": {
      "text/plain": "0.9856618655632816"
     },
     "metadata": {},
     "execution_count": 13
    }
   ],
   "source": [
    "a.roc_auc"
   ]
  },
  {
   "cell_type": "code",
   "execution_count": 138,
   "metadata": {
    "ExecuteTime": {
     "end_time": "2020-04-30T11:46:24.954418Z",
     "start_time": "2020-04-30T11:46:24.871418Z"
    },
    "scrolled": true
   },
   "outputs": [],
   "source": [
    "for worker in worker_list:\n",
    "    worker.stop = True"
   ]
  },
  {
   "cell_type": "code",
   "execution_count": 132,
   "metadata": {
    "ExecuteTime": {
     "end_time": "2020-04-30T11:45:22.592674Z",
     "start_time": "2020-04-30T11:45:19.911Z"
    }
   },
   "outputs": [
    {
     "output_type": "error",
     "ename": "NameError",
     "evalue": "name 'svm' is not defined",
     "traceback": [
      "\u001b[1;31m---------------------------------------------------------------------------\u001b[0m",
      "\u001b[1;31mNameError\u001b[0m                                 Traceback (most recent call last)",
      "\u001b[1;32md:\\Capstone\\NF_Prj_MIMII_Dataset\\utility\\modeling\\JupyterLoad_modeling.py\u001b[0m in \u001b[0;36m<module>\u001b[1;34m\u001b[0m\n\u001b[0;32m      6\u001b[0m \u001b[1;31m# define two outlier detection tools to be compared\u001b[0m\u001b[1;33m\u001b[0m\u001b[1;33m\u001b[0m\u001b[1;33m\u001b[0m\u001b[0m\n\u001b[0;32m      7\u001b[0m classifiers = {\n\u001b[1;32m----> 8\u001b[1;33m     \"One-Class SVM\": svm.OneClassSVM(nu=0.95 * outliers_fraction + 0.05,\n\u001b[0m\u001b[0;32m      9\u001b[0m                                      kernel=\"rbf\", gamma=0.1),\n\u001b[0;32m     10\u001b[0m     \u001b[1;34m\"Robust covariance\"\u001b[0m\u001b[1;33m:\u001b[0m \u001b[0mEllipticEnvelope\u001b[0m\u001b[1;33m(\u001b[0m\u001b[0mcontamination\u001b[0m\u001b[1;33m=\u001b[0m\u001b[0moutliers_fraction\u001b[0m\u001b[1;33m)\u001b[0m\u001b[1;33m,\u001b[0m\u001b[1;33m\u001b[0m\u001b[1;33m\u001b[0m\u001b[0m\n",
      "\u001b[1;31mNameError\u001b[0m: name 'svm' is not defined"
     ]
    }
   ],
   "source": [
    "# Example settings\n",
    "n_samples = 200\n",
    "outliers_fraction = 0.25\n",
    "clusters_separation = [0, 1, 2]\n",
    "\n",
    "# define two outlier detection tools to be compared\n",
    "classifiers = {\n",
    "    \"One-Class SVM\": svm.OneClassSVM(nu=0.95 * outliers_fraction + 0.05,\n",
    "                                     kernel=\"rbf\", gamma=0.1),\n",
    "    \"Robust covariance\": EllipticEnvelope(contamination=outliers_fraction),\n",
    "    \"Isolation Forest\": IsolationForest(max_samples=n_samples,\n",
    "                                        contamination=outliers_fraction,\n",
    "                                        random_state=rng)}\n",
    "\n",
    "for i, (clf_name, clf) in enumerate(classifiers.items()):\n",
    "    # fit the data and tag outliers\n",
    "    clf.fit(X)\n",
    "    scores_pred = clf.decision_function(X)\n",
    "    threshold = stats.scoreatpercentile(scores_pred,\n",
    "                                        100 * outliers_fraction)\n",
    "    y_pred = clf.predict(X)\n",
    "    n_errors = (y_pred != ground_truth).sum()\n",
    "    # plot the levels lines and the points\n",
    "    Z = clf.decision_function(np.c_[xx.ravel(), yy.ravel()])\n",
    "    Z = Z.reshape(xx.shape)\n",
    "    subplot = plt.subplot(1, 3, i + 1)\n",
    "    subplot.contourf(xx, yy, Z, levels=np.linspace(Z.min(), threshold, 7),\n",
    "                        cmap=plt.cm.Blues_r)\n",
    "    a = subplot.contour(xx, yy, Z, levels=[threshold],\n",
    "                        linewidths=2, colors='red')\n",
    "    subplot.contourf(xx, yy, Z, levels=[threshold, Z.max()],\n",
    "                        colors='orange')\n",
    "    b = subplot.scatter(X[:-n_outliers, 0], X[:-n_outliers, 1], c='white')\n",
    "    c = subplot.scatter(X[-n_outliers:, 0], X[-n_outliers:, 1], c='black')\n",
    "    subplot.axis('tight')\n",
    "    subplot.legend(\n",
    "        [a.collections[0], b, c],\n",
    "        ['learned decision function', 'true inliers', 'true outliers'],\n",
    "        prop=matplotlib.font_manager.FontProperties(size=11),\n",
    "        loc='lower right')\n",
    "    subplot.set_title(\"%d. %s (errors: %d)\" % (i + 1, clf_name, n_errors))\n",
    "    subplot.set_xlim((-7, 7))\n",
    "    subplot.set_ylim((-7, 7))\n",
    "plt.subplots_adjust(0.04, 0.1, 0.96, 0.92, 0.1, 0.26)\n",
    "\n",
    "plt.show()"
   ]
  }
 ],
 "metadata": {
  "kernelspec": {
   "display_name": "Py3.7 (mimii_base_TF2_GPU)",
   "language": "python",
   "name": "mimii-tf2-gpu"
  },
  "language_info": {
   "codemirror_mode": {
    "name": "ipython",
    "version": 3
   },
   "file_extension": ".py",
   "mimetype": "text/x-python",
   "name": "python",
   "nbconvert_exporter": "python",
   "pygments_lexer": "ipython3",
   "version": "3.7.7-final"
  },
  "toc": {
   "base_numbering": 1,
   "nav_menu": {},
   "number_sections": true,
   "sideBar": true,
   "skip_h1_title": true,
   "title_cell": "Table of Contents",
   "title_sidebar": "Contents",
   "toc_cell": true,
   "toc_position": {},
   "toc_section_display": true,
   "toc_window_display": false
  }
 },
 "nbformat": 4,
 "nbformat_minor": 4
}