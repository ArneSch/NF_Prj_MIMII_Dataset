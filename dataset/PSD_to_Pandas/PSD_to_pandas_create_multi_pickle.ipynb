{
 "cells": [
  {
   "cell_type": "code",
   "execution_count": 28,
   "metadata": {
    "scrolled": true
   },
   "outputs": [
    {
     "name": "stdout",
     "output_type": "stream",
     "text": [
      "load feature_extractor_mother\n",
      "load feature_extractor_mel_spectra\n",
      "load feature_extractor_psd\n"
     ]
    }
   ],
   "source": [
    "# import mel spectra\n",
    "BASE_FOLDER = '../../'\n",
    "%run -i ..\\..\\utility\\feature_extractor\\JupyterLoad_feature_extractor.py\n",
    "\n"
   ]
  },
  {
   "cell_type": "markdown",
   "metadata": {},
   "source": [
    "# Design the hyperparameter on example"
   ]
  },
  {
   "cell_type": "code",
   "execution_count": 29,
   "metadata": {},
   "outputs": [
    {
     "data": {
      "text/plain": [
       "True"
      ]
     },
     "execution_count": 29,
     "metadata": {},
     "output_type": "execute_result"
    }
   ],
   "source": [
    "'#'!=None"
   ]
  },
  {
   "cell_type": "code",
   "execution_count": 30,
   "metadata": {
    "scrolled": true
   },
   "outputs": [
    {
     "data": {
      "text/plain": [
       "(513,)"
      ]
     },
     "execution_count": 30,
     "metadata": {},
     "output_type": "execute_result"
    },
    {
     "data": {
      "image/png": "[encoded data removed]",
      "text/plain": [
       "<Figure size 432x288 with 1 Axes>"
      ]
     },
     "metadata": {
      "needs_background": "light"
     },
     "output_type": "display_data"
    }
   ],
   "source": [
    "file_path = r'\\dataset\\6dB\\pump\\id_00\\abnormal\\00000004.wav'\n",
    "fe_psd = feature_extractor_welchPSD(BASE_FOLDER,'v1')\n",
    "fe_psd.set_hyperparamter(nperseg=512, nfft=1024, channel='all', multichannel='concat')\n",
    "fe_psd.create_from_wav(file_path)\n",
    "fe_psd.plot()\n",
    "fe_psd.flat_feature().shape"
   ]
  },
  {
   "cell_type": "markdown",
   "metadata": {},
   "source": [
    "# check run"
   ]
  },
  {
   "cell_type": "code",
   "execution_count": 32,
   "metadata": {
    "scrolled": true
   },
   "outputs": [
    {
     "name": "stderr",
     "output_type": "stream",
     "text": [
      "100%|██████████████████████████████████████████████████████████████████████████████████| 10/10 [00:02<00:00,  3.55it/s]\n"
     ]
    },
    {
     "data": {
      "text/html": [
       "<div>\n",
       "<style scoped>\n",
       "    .dataframe tbody tr th:only-of-type {\n",
       "        vertical-align: middle;\n",
       "    }\n",
       "\n",
       "    .dataframe tbody tr th {\n",
       "        vertical-align: top;\n",
       "    }\n",
       "\n",
       "    .dataframe thead th {\n",
       "        text-align: right;\n",
       "    }\n",
       "</style>\n",
       "<table border=\"1\" class=\"dataframe\">\n",
       "  <thead>\n",
       "    <tr style=\"text-align: right;\">\n",
       "      <th></th>\n",
       "      <th>path</th>\n",
       "      <th>abnormal</th>\n",
       "      <th>ID</th>\n",
       "      <th>file</th>\n",
       "      <th>machine</th>\n",
       "      <th>SNR</th>\n",
       "      <th>welchPSDv1_seg512c_chAllc</th>\n",
       "    </tr>\n",
       "  </thead>\n",
       "  <tbody>\n",
       "    <tr>\n",
       "      <th>0</th>\n",
       "      <td>\\dataset\\6dB\\pump\\id_00\\normal\\00000000.wav</td>\n",
       "      <td>0</td>\n",
       "      <td>00</td>\n",
       "      <td>00000000</td>\n",
       "      <td>pump</td>\n",
       "      <td>6dB</td>\n",
       "      <td>\\dataset\\PSD_to_Pandas\\data2\\welchPSDv1_seg512...</td>\n",
       "    </tr>\n",
       "    <tr>\n",
       "      <th>1</th>\n",
       "      <td>\\dataset\\6dB\\pump\\id_00\\normal\\00000001.wav</td>\n",
       "      <td>0</td>\n",
       "      <td>00</td>\n",
       "      <td>00000001</td>\n",
       "      <td>pump</td>\n",
       "      <td>6dB</td>\n",
       "      <td>\\dataset\\PSD_to_Pandas\\data2\\welchPSDv1_seg512...</td>\n",
       "    </tr>\n",
       "    <tr>\n",
       "      <th>2</th>\n",
       "      <td>\\dataset\\6dB\\pump\\id_00\\normal\\00000002.wav</td>\n",
       "      <td>0</td>\n",
       "      <td>00</td>\n",
       "      <td>00000002</td>\n",
       "      <td>pump</td>\n",
       "      <td>6dB</td>\n",
       "      <td>\\dataset\\PSD_to_Pandas\\data2\\welchPSDv1_seg512...</td>\n",
       "    </tr>\n",
       "    <tr>\n",
       "      <th>3</th>\n",
       "      <td>\\dataset\\6dB\\pump\\id_00\\normal\\00000003.wav</td>\n",
       "      <td>0</td>\n",
       "      <td>00</td>\n",
       "      <td>00000003</td>\n",
       "      <td>pump</td>\n",
       "      <td>6dB</td>\n",
       "      <td>\\dataset\\PSD_to_Pandas\\data2\\welchPSDv1_seg512...</td>\n",
       "    </tr>\n",
       "    <tr>\n",
       "      <th>4</th>\n",
       "      <td>\\dataset\\6dB\\pump\\id_00\\normal\\00000004.wav</td>\n",
       "      <td>0</td>\n",
       "      <td>00</td>\n",
       "      <td>00000004</td>\n",
       "      <td>pump</td>\n",
       "      <td>6dB</td>\n",
       "      <td>\\dataset\\PSD_to_Pandas\\data2\\welchPSDv1_seg512...</td>\n",
       "    </tr>\n",
       "  </tbody>\n",
       "</table>\n",
       "</div>"
      ],
      "text/plain": [
       "                                          path abnormal  ID      file machine  \\\n",
       "0  \\dataset\\6dB\\pump\\id_00\\normal\\00000000.wav        0  00  00000000    pump   \n",
       "1  \\dataset\\6dB\\pump\\id_00\\normal\\00000001.wav        0  00  00000001    pump   \n",
       "2  \\dataset\\6dB\\pump\\id_00\\normal\\00000002.wav        0  00  00000002    pump   \n",
       "3  \\dataset\\6dB\\pump\\id_00\\normal\\00000003.wav        0  00  00000003    pump   \n",
       "4  \\dataset\\6dB\\pump\\id_00\\normal\\00000004.wav        0  00  00000004    pump   \n",
       "\n",
       "   SNR                          welchPSDv1_seg512c_chAllc  \n",
       "0  6dB  \\dataset\\PSD_to_Pandas\\data2\\welchPSDv1_seg512...  \n",
       "1  6dB  \\dataset\\PSD_to_Pandas\\data2\\welchPSDv1_seg512...  \n",
       "2  6dB  \\dataset\\PSD_to_Pandas\\data2\\welchPSDv1_seg512...  \n",
       "3  6dB  \\dataset\\PSD_to_Pandas\\data2\\welchPSDv1_seg512...  \n",
       "4  6dB  \\dataset\\PSD_to_Pandas\\data2\\welchPSDv1_seg512...  "
      ]
     },
     "execution_count": 32,
     "metadata": {},
     "output_type": "execute_result"
    }
   ],
   "source": [
    "%run -i ..\\..\\utility\\CleanAextract_to_PandasPickles.py\n",
    "CleanAextract_to_PandasPickles(base_folder=BASE_FOLDER,\n",
    "                                   target_folder= r'\\dataset\\PSD_to_Pandas\\data2',\n",
    "                                   FileFindDict = {'SNR': '6dB',\n",
    "                                                  'machine': 'pump', \n",
    "                                                  'ID': ['00']},\n",
    "                                   FileCountLimit = 5,\n",
    "                                   CleanerObj = None,\n",
    "                                   FeatureExtractorObj = fe_psd,\n",
    "                                   verbose=2,\n",
    "                                   ).head()"
   ]
  },
  {
   "cell_type": "markdown",
   "metadata": {},
   "source": [
    "## reload test"
   ]
  },
  {
   "cell_type": "code",
   "execution_count": 6,
   "metadata": {},
   "outputs": [
    {
     "data": {
      "text/plain": [
       "<matplotlib.legend.Legend at 0x1fe53974588>"
      ]
     },
     "execution_count": 6,
     "metadata": {},
     "output_type": "execute_result"
    },
    {
     "data": {
      "image/png": "[encoded data removed]",
      "text/plain": [
       "<Figure size 432x288 with 1 Axes>"
      ]
     },
     "metadata": {
      "needs_background": "light"
     },
     "output_type": "display_data"
    }
   ],
   "source": [
    "df = pd.read_pickle(r'.\\data\\FEpandas_welchPSDv1_seg512_ch0.pkl')\n",
    "\n",
    "fe1 = feature_extractor_from_file(BASE_FOLDER + df.welchPSDv1_seg512_ch0.loc[0],\n",
    "                                 BASE_FOLDER)\n",
    "\n",
    "fe2 = feature_extractor_from_file(BASE_FOLDER + df.welchPSDv1_seg512_ch0.loc[6],\n",
    "                                 BASE_FOLDER)\n",
    "\n",
    "fe1.plot()\n",
    "fe2.plot()\n",
    "plt.legend()"
   ]
  },
  {
   "cell_type": "markdown",
   "metadata": {},
   "source": [
    "# batch creation"
   ]
  },
  {
   "cell_type": "code",
   "execution_count": 9,
   "metadata": {},
   "outputs": [
    {
     "name": "stderr",
     "output_type": "stream",
     "text": [
      "100%|██████████████████████████████████████████████████████████████████████████████| 4205/4205 [15:12<00:00,  4.61it/s]\n"
     ]
    }
   ],
   "source": [
    "TF = r'\\dataset\\PSD_to_Pandas\\data'\n",
    "def process_set(FileFindDict):\n",
    "    df = CleanAextract_to_PandasPickles(base_folder=BASE_FOLDER,\n",
    "                                   target_folder= TF,\n",
    "                                   FileFindDict = FileFindDict,\n",
    "                                   FileCountLimit = None,\n",
    "                                   CleanerObj = None,\n",
    "                                   FeatureExtractorObj = fe_psd,\n",
    "                                   verbose=2,\n",
    "                                   )\n",
    "    \n",
    "\n",
    "\n",
    "process_set({'SNR': '6dB','machine': 'pump','ID': ['00','02','04','06']}) # 15:12 min - > 33MB\n",
    "#process_set({'SNR': '6dB','machine': 'slider','ID': ['00','02','04','06']})\n",
    "#process_set({'SNR': '6dB','machine': 'fan','ID': ['00','02','04','06']})\n",
    "#process_set({'SNR': '6dB','machine': 'valve','ID': ['00','02','04','06']})\n",
    "#process_set({'SNR': 'min6dB','machine': 'pump','ID': ['00','02','04','06']})\n",
    "#process_set({'SNR': 'min6dB','machine': 'vave','ID': ['00','02','04','06']})\n",
    "#process_set({'SNR': 'min6dB','machine': 'slider','ID': ['00','02','04','06']})\n",
    "#process_set({'SNR': 'min6dB','machine': 'fan','ID': ['00','02','04','06']})\n",
    "#process_set({'SNR': '0dB','machine': 'pump','ID': ['00','02','04','06']})\n",
    "#process_set({'SNR': '0dB','machine': 'vave','ID': ['00','02','04','06']})\n",
    "#process_set({'SNR': '0dB','machine': 'slider','ID': ['00','02','04','06']})\n",
    "#process_set({'SNR': '0dB','machine': 'fan','ID': ['00','02','04','06']})\n",
    "\n"
   ]
  },
  {
   "cell_type": "code",
   "execution_count": 11,
   "metadata": {},
   "outputs": [],
   "source": []
  },
  {
   "cell_type": "code",
   "execution_count": null,
   "metadata": {},
   "outputs": [],
   "source": []
  }
 ],
 "metadata": {
  "kernelspec": {
   "display_name": "Py3.7 (mimii_base_TF2_GPU)",
   "language": "python",
   "name": "mimiibasetf2gpu"
  },
  "language_info": {
   "codemirror_mode": {
    "name": "ipython",
    "version": 3
   },
   "file_extension": ".py",
   "mimetype": "text/x-python",
   "name": "python",
   "nbconvert_exporter": "python",
   "pygments_lexer": "ipython3",
   "version": "3.7.6"
  },
  "toc": {
   "base_numbering": 1,
   "nav_menu": {},
   "number_sections": true,
   "sideBar": true,
   "skip_h1_title": false,
   "title_cell": "Table of Contents",
   "title_sidebar": "Contents",
   "toc_cell": false,
   "toc_position": {},
   "toc_section_display": true,
   "toc_window_display": false
  }
 },
 "nbformat": 4,
 "nbformat_minor": 4
}
