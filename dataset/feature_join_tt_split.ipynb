{
 "cells": [
  {
   "cell_type": "markdown",
   "metadata": {
    "toc": true
   },
   "source": [
    "<h1>Table of Contents<span class=\"tocSkip\"></span></h1>\n",
    "<div class=\"toc\"><ul class=\"toc-item\"></ul></div>"
   ]
  },
  {
   "cell_type": "markdown",
   "metadata": {},
   "source": [
    "# Introduction\n",
    "\n",
    "This notebook creates the descriptive dataframe for a subsequent modeling or evaluating task. This descriptive dataframe serves as the leading input to the modeling pipeline and contains all information that is necessary to create the training and evaluating datasets.\n",
    "\n",
    "The steps within this workflow are as follows:\n",
    "\n",
    "1. accordingly to the initialized variables the function loads all feature tables\n",
    "2. all tables are added together as one dataframe\n",
    "3. additional information are added like:\n",
    "    1. instance in train or test dataset?\n",
    "    2. feature information\n",
    "\n",
    "To use this notebook you will have to do the following steps:\n",
    "\n",
    "1. define the initializing variables for the desired task\n",
    "2. run all the cells after that\n",
    "3. descriptive dataframe can be found here: TBD"
   ]
  },
  {
   "cell_type": "code",
   "execution_count": null,
   "metadata": {},
   "outputs": [],
   "source": [
    "file1 = \n",
    "SNRs = []\n",
    "machines = []\n",
    "IDs = []\n",
    "feature = "
   ]
  },
  {
   "cell_type": "code",
   "execution_count": 1,
   "metadata": {
    "ExecuteTime": {
     "end_time": "2020-04-25T11:32:27.817131Z",
     "start_time": "2020-04-25T11:32:27.066125Z"
    }
   },
   "outputs": [],
   "source": [
    "from sklearn.model_selection import train_test_split\n",
    "from sklearn.utils import shuffle\n",
    "\n",
    "# we will combine the testset from all abnormal operation data\n",
    "# and add up the same amount of normal operation data\n",
    "# the remaining will be out training dataset\n",
    "\n",
    "def split_index(indeces, labels):\n",
    "\n",
    "    idx_abnormal = indeces[labels==1]\n",
    "    num_abnormal = len(idx_abnormal)\n",
    "    \n",
    "    idx_normal = indeces[labels==0]\n",
    "    idx_train, idx_test_normal = train_test_split(idx_normal, test_size=num_abnormal)\n",
    "\n",
    "    # the testset contains all abnormal operation data\n",
    "    idx_test = idx_test_normal.union(idx_abnormal)\n",
    "    #idx_test.shuffle()\n",
    "\n",
    "    return idx_train, idx_test"
   ]
  },
  {
   "cell_type": "code",
   "execution_count": null,
   "metadata": {},
   "outputs": [],
   "source": []
  }
 ],
 "metadata": {
  "kernelspec": {
   "display_name": "Py3.7 (mimii_base_TF2_GPU)",
   "language": "python",
   "name": "mimii-tf2-gpu"
  },
  "language_info": {
   "codemirror_mode": {
    "name": "ipython",
    "version": 3
   },
   "file_extension": ".py",
   "mimetype": "text/x-python",
   "name": "python",
   "nbconvert_exporter": "python",
   "pygments_lexer": "ipython3",
   "version": "3.7.7"
  },
  "toc": {
   "base_numbering": 1,
   "nav_menu": {},
   "number_sections": true,
   "sideBar": true,
   "skip_h1_title": true,
   "title_cell": "Table of Contents",
   "title_sidebar": "Contents",
   "toc_cell": true,
   "toc_position": {},
   "toc_section_display": true,
   "toc_window_display": false
  }
 },
 "nbformat": 4,
 "nbformat_minor": 4
}
