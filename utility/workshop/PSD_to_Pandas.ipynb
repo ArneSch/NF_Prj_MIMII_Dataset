{
 "cells": [
  {
   "cell_type": "markdown",
   "metadata": {},
   "source": [
    "# PSD to Pandas structurd featuer generation"
   ]
  },
  {
   "cell_type": "code",
   "execution_count": 17,
   "metadata": {},
   "outputs": [],
   "source": [
    "# Input\n",
    "### PSD\n",
    "# Dict PSD paramter ( nfft, range, window ...)\n",
    "# freq band cut in and cut off\n",
    "\n",
    "### pick files\n",
    "# Dict Case slect ( SNR, device, ID optinal * , scale) - use to pick filse\n",
    "# file count limter - maximum files per normal and abnorml to create from\n",
    "# Case select always normal and abnormal\n",
    "#\n",
    "\n",
    "\n",
    "\n",
    "# Output\n",
    "# pandas FRame \n",
    "# columns = freq band \n",
    "# Valus = PSD Power ( based on scale optin)\n",
    "# target column = normal or abnormal ( 0,1)\n",
    "# one row is one wav file\n",
    "# SNR, ID, Device Name\n",
    "#\n",
    "\n",
    "\n"
   ]
  },
  {
   "cell_type": "code",
   "execution_count": 82,
   "metadata": {},
   "outputs": [],
   "source": [
    "import scipy.signal as sig\n",
    "import numpy as np\n",
    "import librosa\n",
    "import pandas as pd\n",
    "\n",
    "import os\n",
    "import sys\n",
    "import glob"
   ]
  },
  {
   "cell_type": "code",
   "execution_count": 83,
   "metadata": {},
   "outputs": [],
   "source": [
    "def get_files(base_folder,SNR,machine,ID):\n",
    "    \n",
    "    fn = dict()\n",
    "    fa = dict()\n",
    "    \n",
    "    for idx in ID:\n",
    "        \n",
    "        fn[idx] = sorted(glob.glob(os.path.abspath( \"{base}/{SNR}/{machine}/id_{ID}/{n}/*.{ext}\".format(\n",
    "        base=base_folder+'dataset',SNR=SNR,machine='pump',ID=idx, n='normal',ext='wav' ))))\n",
    "    \n",
    "        fa[idx] = sorted(glob.glob(os.path.abspath( \"{base}/{SNR}/{machine}/id_{ID}/{n}/*.{ext}\".format(\n",
    "        base=base_folder+'dataset',SNR=SNR,machine='pump',ID=idx, n='abnormal',ext='wav' ))))\n",
    "    \n",
    "    return fn, fa\n",
    "    "
   ]
  },
  {
   "cell_type": "code",
   "execution_count": null,
   "metadata": {},
   "outputs": [],
   "source": []
  },
  {
   "cell_type": "code",
   "execution_count": 41,
   "metadata": {},
   "outputs": [
    {
     "data": {
      "text/plain": [
       "'A:\\\\Dev\\\\NF_Prj_MIMII_Dataset\\\\dataset\\\\6dB\\\\pump\\\\id_00\\\\normal\\\\00000000.wav'"
      ]
     },
     "execution_count": 41,
     "metadata": {},
     "output_type": "execute_result"
    }
   ],
   "source": [
    "n, a = get_files('../../','6dB','pump',['00'])\n",
    "n['00'][0]\n",
    "#import re"
   ]
  },
  {
   "cell_type": "code",
   "execution_count": 48,
   "metadata": {},
   "outputs": [
    {
     "data": {
      "text/plain": [
       "'00000000'"
      ]
     },
     "execution_count": 48,
     "metadata": {},
     "output_type": "execute_result"
    }
   ],
   "source": [
    "import re\n",
    "a =re.search('\\\\|/',n['00'][0])\n",
    "os.path.split(n['00'][0])[1]\n",
    "os.path.basename(n['00'][0]).replace('.'+'wav','')"
   ]
  },
  {
   "cell_type": "code",
   "execution_count": 20,
   "metadata": {},
   "outputs": [
    {
     "data": {
      "text/plain": [
       "'A:\\\\Dev\\\\NF_Prj_MIMII_Dataset'"
      ]
     },
     "execution_count": 20,
     "metadata": {},
     "output_type": "execute_result"
    }
   ],
   "source": [
    "os.path.abspath('../../')"
   ]
  },
  {
   "cell_type": "code",
   "execution_count": 164,
   "metadata": {},
   "outputs": [
    {
     "name": "stdout",
     "output_type": "stream",
     "text": [
      "binhere\n"
     ]
    },
    {
     "data": {
      "text/html": [
       "<div>\n",
       "<style scoped>\n",
       "    .dataframe tbody tr th:only-of-type {\n",
       "        vertical-align: middle;\n",
       "    }\n",
       "\n",
       "    .dataframe tbody tr th {\n",
       "        vertical-align: top;\n",
       "    }\n",
       "\n",
       "    .dataframe thead th {\n",
       "        text-align: right;\n",
       "    }\n",
       "</style>\n",
       "<table border=\"1\" class=\"dataframe\">\n",
       "  <thead>\n",
       "    <tr style=\"text-align: right;\">\n",
       "      <th></th>\n",
       "      <th>path</th>\n",
       "      <th>abnormal</th>\n",
       "      <th>ID</th>\n",
       "      <th>file</th>\n",
       "      <th>machine</th>\n",
       "      <th>SNR</th>\n",
       "      <th>281</th>\n",
       "      <th>312</th>\n",
       "      <th>344</th>\n",
       "      <th>375</th>\n",
       "      <th>...</th>\n",
       "      <th>7719</th>\n",
       "      <th>7750</th>\n",
       "      <th>7781</th>\n",
       "      <th>7812</th>\n",
       "      <th>7844</th>\n",
       "      <th>7875</th>\n",
       "      <th>7906</th>\n",
       "      <th>7938</th>\n",
       "      <th>7969</th>\n",
       "      <th>8000</th>\n",
       "    </tr>\n",
       "  </thead>\n",
       "  <tbody>\n",
       "    <tr>\n",
       "      <th>0</th>\n",
       "      <td>\\dataset\\6dB\\pump\\id_00\\normal\\00000000.wav</td>\n",
       "      <td>0</td>\n",
       "      <td>00</td>\n",
       "      <td>00000000</td>\n",
       "      <td>pump</td>\n",
       "      <td>6dB</td>\n",
       "      <td>0.0</td>\n",
       "      <td>0.0</td>\n",
       "      <td>0.0</td>\n",
       "      <td>0.0</td>\n",
       "      <td>...</td>\n",
       "      <td>5.316734e-08</td>\n",
       "      <td>4.912297e-08</td>\n",
       "      <td>4.514861e-08</td>\n",
       "      <td>4.101670e-08</td>\n",
       "      <td>3.675315e-08</td>\n",
       "      <td>3.258964e-08</td>\n",
       "      <td>2.884488e-08</td>\n",
       "      <td>2.584378e-08</td>\n",
       "      <td>2.388666e-08</td>\n",
       "      <td>1.160220e-08</td>\n",
       "    </tr>\n",
       "    <tr>\n",
       "      <th>1</th>\n",
       "      <td>\\dataset\\6dB\\pump\\id_00\\normal\\00000001.wav</td>\n",
       "      <td>0</td>\n",
       "      <td>00</td>\n",
       "      <td>00000001</td>\n",
       "      <td>pump</td>\n",
       "      <td>6dB</td>\n",
       "      <td>0.0</td>\n",
       "      <td>0.0</td>\n",
       "      <td>0.0</td>\n",
       "      <td>0.0</td>\n",
       "      <td>...</td>\n",
       "      <td>4.854261e-08</td>\n",
       "      <td>4.483064e-08</td>\n",
       "      <td>4.085615e-08</td>\n",
       "      <td>3.666346e-08</td>\n",
       "      <td>3.244671e-08</td>\n",
       "      <td>2.848889e-08</td>\n",
       "      <td>2.507934e-08</td>\n",
       "      <td>2.246389e-08</td>\n",
       "      <td>2.082307e-08</td>\n",
       "      <td>1.013221e-08</td>\n",
       "    </tr>\n",
       "    <tr>\n",
       "      <th>2</th>\n",
       "      <td>\\dataset\\6dB\\pump\\id_00\\abnormal\\00000000.wav</td>\n",
       "      <td>1</td>\n",
       "      <td>00</td>\n",
       "      <td>00000000</td>\n",
       "      <td>pump</td>\n",
       "      <td>6dB</td>\n",
       "      <td>0.0</td>\n",
       "      <td>0.0</td>\n",
       "      <td>0.0</td>\n",
       "      <td>0.0</td>\n",
       "      <td>...</td>\n",
       "      <td>4.517074e-08</td>\n",
       "      <td>4.133590e-08</td>\n",
       "      <td>3.718712e-08</td>\n",
       "      <td>3.320077e-08</td>\n",
       "      <td>2.989242e-08</td>\n",
       "      <td>2.733657e-08</td>\n",
       "      <td>2.534281e-08</td>\n",
       "      <td>2.386696e-08</td>\n",
       "      <td>2.299404e-08</td>\n",
       "      <td>1.135868e-08</td>\n",
       "    </tr>\n",
       "    <tr>\n",
       "      <th>3</th>\n",
       "      <td>\\dataset\\6dB\\pump\\id_00\\abnormal\\00000001.wav</td>\n",
       "      <td>1</td>\n",
       "      <td>00</td>\n",
       "      <td>00000001</td>\n",
       "      <td>pump</td>\n",
       "      <td>6dB</td>\n",
       "      <td>0.0</td>\n",
       "      <td>0.0</td>\n",
       "      <td>0.0</td>\n",
       "      <td>0.0</td>\n",
       "      <td>...</td>\n",
       "      <td>4.473755e-08</td>\n",
       "      <td>4.015247e-08</td>\n",
       "      <td>3.629624e-08</td>\n",
       "      <td>3.326083e-08</td>\n",
       "      <td>3.091763e-08</td>\n",
       "      <td>2.887451e-08</td>\n",
       "      <td>2.686202e-08</td>\n",
       "      <td>2.505697e-08</td>\n",
       "      <td>2.384380e-08</td>\n",
       "      <td>1.171471e-08</td>\n",
       "    </tr>\n",
       "    <tr>\n",
       "      <th>4</th>\n",
       "      <td>\\dataset\\6dB\\pump\\id_02\\normal\\00000000.wav</td>\n",
       "      <td>0</td>\n",
       "      <td>02</td>\n",
       "      <td>00000000</td>\n",
       "      <td>pump</td>\n",
       "      <td>6dB</td>\n",
       "      <td>0.0</td>\n",
       "      <td>0.0</td>\n",
       "      <td>0.0</td>\n",
       "      <td>0.0</td>\n",
       "      <td>...</td>\n",
       "      <td>1.865858e-08</td>\n",
       "      <td>1.714843e-08</td>\n",
       "      <td>1.574062e-08</td>\n",
       "      <td>1.448340e-08</td>\n",
       "      <td>1.338165e-08</td>\n",
       "      <td>1.244305e-08</td>\n",
       "      <td>1.170618e-08</td>\n",
       "      <td>1.121265e-08</td>\n",
       "      <td>1.095512e-08</td>\n",
       "      <td>5.439989e-09</td>\n",
       "    </tr>\n",
       "    <tr>\n",
       "      <th>5</th>\n",
       "      <td>\\dataset\\6dB\\pump\\id_02\\normal\\00000001.wav</td>\n",
       "      <td>0</td>\n",
       "      <td>02</td>\n",
       "      <td>00000001</td>\n",
       "      <td>pump</td>\n",
       "      <td>6dB</td>\n",
       "      <td>0.0</td>\n",
       "      <td>0.0</td>\n",
       "      <td>0.0</td>\n",
       "      <td>0.0</td>\n",
       "      <td>...</td>\n",
       "      <td>1.606125e-08</td>\n",
       "      <td>1.465257e-08</td>\n",
       "      <td>1.324852e-08</td>\n",
       "      <td>1.197656e-08</td>\n",
       "      <td>1.090001e-08</td>\n",
       "      <td>1.003180e-08</td>\n",
       "      <td>9.364737e-09</td>\n",
       "      <td>8.892671e-09</td>\n",
       "      <td>8.612502e-09</td>\n",
       "      <td>4.259987e-09</td>\n",
       "    </tr>\n",
       "    <tr>\n",
       "      <th>6</th>\n",
       "      <td>\\dataset\\6dB\\pump\\id_02\\abnormal\\00000000.wav</td>\n",
       "      <td>1</td>\n",
       "      <td>02</td>\n",
       "      <td>00000000</td>\n",
       "      <td>pump</td>\n",
       "      <td>6dB</td>\n",
       "      <td>0.0</td>\n",
       "      <td>0.0</td>\n",
       "      <td>0.0</td>\n",
       "      <td>0.0</td>\n",
       "      <td>...</td>\n",
       "      <td>1.862271e-08</td>\n",
       "      <td>1.721689e-08</td>\n",
       "      <td>1.539155e-08</td>\n",
       "      <td>1.334535e-08</td>\n",
       "      <td>1.144856e-08</td>\n",
       "      <td>1.013563e-08</td>\n",
       "      <td>9.624008e-09</td>\n",
       "      <td>9.746248e-09</td>\n",
       "      <td>1.008159e-08</td>\n",
       "      <td>5.121502e-09</td>\n",
       "    </tr>\n",
       "    <tr>\n",
       "      <th>7</th>\n",
       "      <td>\\dataset\\6dB\\pump\\id_02\\abnormal\\00000001.wav</td>\n",
       "      <td>1</td>\n",
       "      <td>02</td>\n",
       "      <td>00000001</td>\n",
       "      <td>pump</td>\n",
       "      <td>6dB</td>\n",
       "      <td>0.0</td>\n",
       "      <td>0.0</td>\n",
       "      <td>0.0</td>\n",
       "      <td>0.0</td>\n",
       "      <td>...</td>\n",
       "      <td>2.135694e-08</td>\n",
       "      <td>1.961825e-08</td>\n",
       "      <td>1.794653e-08</td>\n",
       "      <td>1.623309e-08</td>\n",
       "      <td>1.453071e-08</td>\n",
       "      <td>1.312088e-08</td>\n",
       "      <td>1.226297e-08</td>\n",
       "      <td>1.194299e-08</td>\n",
       "      <td>1.191713e-08</td>\n",
       "      <td>5.969856e-09</td>\n",
       "    </tr>\n",
       "  </tbody>\n",
       "</table>\n",
       "<p>8 rows × 502 columns</p>\n",
       "</div>"
      ],
      "text/plain": [
       "                                            path abnormal  ID      file  \\\n",
       "0    \\dataset\\6dB\\pump\\id_00\\normal\\00000000.wav        0  00  00000000   \n",
       "1    \\dataset\\6dB\\pump\\id_00\\normal\\00000001.wav        0  00  00000001   \n",
       "2  \\dataset\\6dB\\pump\\id_00\\abnormal\\00000000.wav        1  00  00000000   \n",
       "3  \\dataset\\6dB\\pump\\id_00\\abnormal\\00000001.wav        1  00  00000001   \n",
       "4    \\dataset\\6dB\\pump\\id_02\\normal\\00000000.wav        0  02  00000000   \n",
       "5    \\dataset\\6dB\\pump\\id_02\\normal\\00000001.wav        0  02  00000001   \n",
       "6  \\dataset\\6dB\\pump\\id_02\\abnormal\\00000000.wav        1  02  00000000   \n",
       "7  \\dataset\\6dB\\pump\\id_02\\abnormal\\00000001.wav        1  02  00000001   \n",
       "\n",
       "  machine  SNR  281  312  344  375  ...          7719          7750  \\\n",
       "0    pump  6dB  0.0  0.0  0.0  0.0  ...  5.316734e-08  4.912297e-08   \n",
       "1    pump  6dB  0.0  0.0  0.0  0.0  ...  4.854261e-08  4.483064e-08   \n",
       "2    pump  6dB  0.0  0.0  0.0  0.0  ...  4.517074e-08  4.133590e-08   \n",
       "3    pump  6dB  0.0  0.0  0.0  0.0  ...  4.473755e-08  4.015247e-08   \n",
       "4    pump  6dB  0.0  0.0  0.0  0.0  ...  1.865858e-08  1.714843e-08   \n",
       "5    pump  6dB  0.0  0.0  0.0  0.0  ...  1.606125e-08  1.465257e-08   \n",
       "6    pump  6dB  0.0  0.0  0.0  0.0  ...  1.862271e-08  1.721689e-08   \n",
       "7    pump  6dB  0.0  0.0  0.0  0.0  ...  2.135694e-08  1.961825e-08   \n",
       "\n",
       "           7781          7812          7844          7875          7906  \\\n",
       "0  4.514861e-08  4.101670e-08  3.675315e-08  3.258964e-08  2.884488e-08   \n",
       "1  4.085615e-08  3.666346e-08  3.244671e-08  2.848889e-08  2.507934e-08   \n",
       "2  3.718712e-08  3.320077e-08  2.989242e-08  2.733657e-08  2.534281e-08   \n",
       "3  3.629624e-08  3.326083e-08  3.091763e-08  2.887451e-08  2.686202e-08   \n",
       "4  1.574062e-08  1.448340e-08  1.338165e-08  1.244305e-08  1.170618e-08   \n",
       "5  1.324852e-08  1.197656e-08  1.090001e-08  1.003180e-08  9.364737e-09   \n",
       "6  1.539155e-08  1.334535e-08  1.144856e-08  1.013563e-08  9.624008e-09   \n",
       "7  1.794653e-08  1.623309e-08  1.453071e-08  1.312088e-08  1.226297e-08   \n",
       "\n",
       "           7938          7969          8000  \n",
       "0  2.584378e-08  2.388666e-08  1.160220e-08  \n",
       "1  2.246389e-08  2.082307e-08  1.013221e-08  \n",
       "2  2.386696e-08  2.299404e-08  1.135868e-08  \n",
       "3  2.505697e-08  2.384380e-08  1.171471e-08  \n",
       "4  1.121265e-08  1.095512e-08  5.439989e-09  \n",
       "5  8.892671e-09  8.612502e-09  4.259987e-09  \n",
       "6  9.746248e-09  1.008159e-08  5.121502e-09  \n",
       "7  1.194299e-08  1.191713e-08  5.969856e-09  \n",
       "\n",
       "[8 rows x 502 columns]"
      ]
     },
     "execution_count": 164,
     "metadata": {},
     "output_type": "execute_result"
    },
    {
     "data": {
      "image/png": "[encoded data removed]",
      "text/plain": [
       "<Figure size 432x288 with 1 Axes>"
      ]
     },
     "metadata": {
      "needs_background": "light"
     },
     "output_type": "display_data"
    }
   ],
   "source": [
    "import copy \n",
    "\n",
    "def PSD_to_Pandas(PSD_window='hamming',\n",
    "                  PSD_nperseg = 128,\n",
    "                  PSD_nfft=512,\n",
    "                  PSD_scaling='spectrum',\n",
    "                  freq_band = [0,16000],\n",
    "                  base_folder = './',\n",
    "                  FileFindDict={'SNR': '6dB',\n",
    "                                'machine': 'pump', \n",
    "                                'ID': ['00']},\n",
    "                  ChannelNr=0,\n",
    "                  FileCountlimit=None):\n",
    "    \n",
    "    # get file path\n",
    "    nf, af = get_files(base_folder,\n",
    "                       FileFindDict['SNR'],\n",
    "                       FileFindDict['machine'],\n",
    "                       FileFindDict['ID'])\n",
    "    \n",
    "    # limit the File count\n",
    "    for idx in nf:\n",
    "        if FileCountlimit:\n",
    "            if FileCountlimit < len(nf[idx]):\n",
    "                nf[idx] = nf[idx][:FileCountlimit]\n",
    "            if FileCountlimit < len(af[idx]):\n",
    "                af[idx] = af[idx][:FileCountlimit]\n",
    "     \n",
    "    # create base pandas\n",
    "    real_base_folder = os.path.abspath(base_folder)\n",
    "    df = pd.DataFrame(columns=['path','abnormal','ID'])\n",
    "    \n",
    "    get_filename = lambda l: [os.path.basename(pl).replace('.'+'wav','') for pl in l]\n",
    "     \n",
    "    for idx in nf:\n",
    "        df_temp_n = pd.DataFrame()\n",
    "        df_temp_n['path'] = nf[idx]\n",
    "        df_temp_n['file'] = get_filename(nf[idx])\n",
    "        df_temp_n['abnormal'] = 0\n",
    "        df_temp_n['ID'] = idx\n",
    "        df_temp_a = pd.DataFrame()\n",
    "        df_temp_a['path'] = af[idx]\n",
    "        df_temp_a['file'] = get_filename(af[idx])\n",
    "        df_temp_a['abnormal'] = 1\n",
    "        df_temp_a['ID'] = idx\n",
    "        df = df.append(df_temp_n, ignore_index = True) \n",
    "        df = df.append(df_temp_a, ignore_index = True) \n",
    "    \n",
    "    df['machine'] = FileFindDict['machine']\n",
    "    df['SNR'] = FileFindDict['SNR']\n",
    "    \n",
    "    \n",
    "    # create the psd columns\n",
    "    first_loop = True\n",
    "    for i in df.index:\n",
    "        file_path = df.iloc[i]['path']\n",
    "        #print(file_path)\n",
    "        audio_ch, sr = librosa.load(file_path, sr=None, mono=False)\n",
    "        f, Pxx = sig.welch(audio_ch[ChannelNr],sr,\n",
    "                           window=PSD_window,\n",
    "                           nperseg=PSD_nperseg, \n",
    "                           noverlap=False, \n",
    "                           nfft=PSD_nfft,\n",
    "                           scaling=PSD_scaling)\n",
    "        \n",
    "             \n",
    "        \n",
    "        if first_loop:\n",
    "            first_loop = False\n",
    "            if freq_band[0] > 0:\n",
    "                idx_s = np.min(np.where(f>freq_band[0]))\n",
    "            else:\n",
    "                idx_s = 0\n",
    "                \n",
    "            if freq_band[1] < np.max(f):\n",
    "                idx_e = np.min(np.where(f>freq_band[1]))\n",
    "            else:\n",
    "                idx_e = len(f)\n",
    "                \n",
    "            \n",
    "            ff = []\n",
    "            for fi in f[idx_s:idx_e]:\n",
    "                fff = int(np.round(fi))\n",
    "                df[fff] = 0.0\n",
    "                ff.append(fff)\n",
    "                \n",
    "            print('binhere')    \n",
    "            PSDmatrix = np.zeros([len(df.index),len(ff)])\n",
    "            \n",
    "       \n",
    "        for iF,Pi in enumerate(Pxx[idx_s:idx_e]):\n",
    "             PSDmatrix[i,iF]=Pi\n",
    "             #print(Pi,i,PSDmatrix[i,iF])\n",
    "            \n",
    "        #plt.plot(f[idx_s:idx_e], PSDmatrix[i,:]) #Pxx[idx_s:idx_e])\n",
    "        #ax = plt.gca()\n",
    "        #ax.set_xscale('log')\n",
    "        #ax.set_yscale('log')\n",
    "        \n",
    "        #for fi,Pi in zip(ff,Pxx[idx_s:idx_e]):\n",
    "        #    if fi==4500.0:\n",
    "        #        print(i)\n",
    "        #        print(fi)\n",
    "        #    df.at[i,fi] = 12\n",
    "    \n",
    "    #print(PSDmatrix)\n",
    "    for i in df.index:\n",
    "        plt.plot(f[idx_s:idx_e], PSDmatrix[i,:]) #Pxx[idx_s:idx_e])\n",
    "        ax = plt.gca()\n",
    "        ax.set_xscale('log')\n",
    "        ax.set_yscale('log')\n",
    "        \n",
    "    df_psd = pd.DataFrame(columns=ff,data=PSDmatrix)\n",
    "    # make path relativ to project\n",
    "    get_relpath = lambda pl: os.path.join(pl.replace(real_base_folder, ''))\n",
    "    df['path'] = df['path'].apply(get_relpath)\n",
    "    return pd.concat([df,df_psd], axis=1)\n",
    " \n",
    "    \n",
    "test = PSD_to_Pandas(base_folder='../../', FileFindDict={'SNR': '6dB',\n",
    "                                'machine': 'pump', \n",
    "                                'ID': ['00','02']}, FileCountlimit=2, freq_band = [250,8000])\n",
    "test"
   ]
  },
  {
   "cell_type": "code",
   "execution_count": 159,
   "metadata": {},
   "outputs": [
    {
     "data": {
      "image/png": "[encoded data removed]",
      "text/plain": [
       "<Figure size 432x288 with 1 Axes>"
      ]
     },
     "metadata": {
      "needs_background": "light"
     },
     "output_type": "display_data"
    }
   ],
   "source": [
    "import matplotlib.pyplot as plt\n",
    "for idx in [1,2,3,4,5,6,7]:\n",
    "    signal = test.iloc[idx, :]\n",
    "    plt.plot(signal.index,signal.values)\n",
    "    ax = plt.gca()\n",
    "    ax.set_xscale('log')\n",
    "    ax.set_yscale('log')"
   ]
  },
  {
   "cell_type": "code",
   "execution_count": 132,
   "metadata": {},
   "outputs": [
    {
     "data": {
      "text/plain": [
       "array([[0., 0., 0.],\n",
       "       [0., 0., 0.],\n",
       "       [0., 0., 0.],\n",
       "       [2., 0., 0.]])"
      ]
     },
     "execution_count": 132,
     "metadata": {},
     "output_type": "execute_result"
    }
   ],
   "source": [
    "m = np.zeros([4,3])\n",
    "m[3,0] = 2\n",
    "m"
   ]
  },
  {
   "cell_type": "code",
   "execution_count": 165,
   "metadata": {},
   "outputs": [
    {
     "name": "stdout",
     "output_type": "stream",
     "text": [
      "0\n",
      "1\n",
      "1\n",
      "0\n"
     ]
    },
    {
     "data": {
      "image/png": "[encoded data removed]",
      "text/plain": [
       "<Figure size 432x288 with 1 Axes>"
      ]
     },
     "metadata": {
      "needs_background": "light"
     },
     "output_type": "display_data"
    }
   ],
   "source": [
    "# spot check the data \n",
    "import matplotlib.pyplot as plt\n",
    "for idx in [1,2,3,4]:\n",
    "    aORn = test.iloc[idx,1]\n",
    "    print(aORn)\n",
    "    signal = test.iloc[idx, 6:]\n",
    "    c = 'blue'\n",
    "    if aORn:\n",
    "        c = 'red'\n",
    "    plt.plot(signal.index,signal.values, color=c)\n",
    "    ax = plt.gca()\n",
    "    ax.set_xscale('log')\n",
    "    ax.set_yscale('log')"
   ]
  },
  {
   "cell_type": "code",
   "execution_count": 38,
   "metadata": {},
   "outputs": [
    {
     "data": {
      "text/plain": [
       "(array([3, 4], dtype=int64),)"
      ]
     },
     "execution_count": 38,
     "metadata": {},
     "output_type": "execute_result"
    }
   ],
   "source": [
    "a = np.array([0, 15.0, 28.0, 32.1, 66])\n",
    "\n",
    "np.min(np.where(a>15))\n",
    "np.min(np.where(a>32)"
   ]
  },
  {
   "cell_type": "markdown",
   "metadata": {},
   "source": [
    "## example 1 - pump 6dB - 1 IDs"
   ]
  },
  {
   "cell_type": "code",
   "execution_count": null,
   "metadata": {},
   "outputs": [],
   "source": []
  }
 ],
 "metadata": {
  "kernelspec": {
   "display_name": "Py3.7 (mimii_base_TF2_GPU)",
   "language": "python",
   "name": "mimiibasetf2gpu"
  },
  "language_info": {
   "codemirror_mode": {
    "name": "ipython",
    "version": 3
   },
   "file_extension": ".py",
   "mimetype": "text/x-python",
   "name": "python",
   "nbconvert_exporter": "python",
   "pygments_lexer": "ipython3",
   "version": "3.7.6"
  },
  "toc": {
   "base_numbering": 1,
   "nav_menu": {},
   "number_sections": true,
   "sideBar": true,
   "skip_h1_title": false,
   "title_cell": "Table of Contents",
   "title_sidebar": "Contents",
   "toc_cell": false,
   "toc_position": {},
   "toc_section_display": true,
   "toc_window_display": false
  }
 },
 "nbformat": 4,
 "nbformat_minor": 4
}
