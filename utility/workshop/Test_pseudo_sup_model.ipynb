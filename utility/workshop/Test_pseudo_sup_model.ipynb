{
 "cells": [
  {
   "cell_type": "code",
   "execution_count": 88,
   "metadata": {
    "ExecuteTime": {
     "end_time": "2020-05-04T09:32:25.436065Z",
     "start_time": "2020-05-04T09:32:25.424099Z"
    }
   },
   "outputs": [
    {
     "name": "stdout",
     "output_type": "stream",
     "text": [
      "load load_data\n",
      "Load split_data\n",
      "Load anomaly_detection_models\n",
      "Load pseudo_supervised_models\n",
      "Load detection_pipe\n"
     ]
    }
   ],
   "source": [
    "BASE_FOLDER = '../../'\n",
    "%run -i ..\\..\\utility\\modeling\\JupyterLoad_modeling.py"
   ]
  },
  {
   "cell_type": "code",
   "execution_count": 97,
   "metadata": {
    "ExecuteTime": {
     "end_time": "2020-05-04T09:34:27.878589Z",
     "start_time": "2020-05-04T09:34:27.870610Z"
    }
   },
   "outputs": [
    {
     "name": "stdout",
     "output_type": "stream",
     "text": [
      "(100, 2)\n"
     ]
    }
   ],
   "source": [
    "from sklearn.datasets import make_blobs\n",
    "X, y = make_blobs(n_samples=100, centers=2, n_features=2,\n",
    "                  random_state=0)\n",
    "X = X+np.random.normal(0, 1, X.shape)*2\n",
    "y = np.where(y==1, -1, y) \n",
    "y = np.where(y==0, 1, y) \n",
    "print(X.shape)\n",
    "X_train, X_test, y_train, y_test = train_test_split(X, y, test_size=0.33, random_state=42)"
   ]
  },
  {
   "cell_type": "code",
   "execution_count": 98,
   "metadata": {
    "ExecuteTime": {
     "end_time": "2020-05-04T09:34:28.528231Z",
     "start_time": "2020-05-04T09:34:28.522220Z"
    }
   },
   "outputs": [
    {
     "data": {
      "text/plain": [
       "array([ 1, -1,  1,  1, -1,  1, -1,  1, -1, -1,  1,  1, -1,  1,  1,  1,  1,\n",
       "       -1,  1,  1,  1,  1,  1,  1,  1, -1, -1,  1, -1,  1,  1, -1,  1, -1,\n",
       "       -1,  1, -1,  1,  1, -1,  1,  1, -1,  1, -1,  1, -1, -1,  1, -1, -1,\n",
       "       -1,  1,  1,  1,  1,  1, -1,  1, -1,  1,  1, -1, -1, -1, -1, -1])"
      ]
     },
     "execution_count": 98,
     "metadata": {},
     "output_type": "execute_result"
    }
   ],
   "source": [
    "y_train"
   ]
  },
  {
   "cell_type": "code",
   "execution_count": 99,
   "metadata": {
    "ExecuteTime": {
     "end_time": "2020-05-04T09:34:32.339122Z",
     "start_time": "2020-05-04T09:34:32.336110Z"
    }
   },
   "outputs": [],
   "source": [
    "ulogreg = uni_LogisticRegression()"
   ]
  },
  {
   "cell_type": "code",
   "execution_count": 100,
   "metadata": {
    "ExecuteTime": {
     "end_time": "2020-05-04T09:34:32.941414Z",
     "start_time": "2020-05-04T09:34:32.932435Z"
    }
   },
   "outputs": [
    {
     "data": {
      "text/plain": [
       "uni_LogisticRegression(C=1.0, class_weight='balanced', def_threshold=0,\n",
       "                       penalty='l2', random_state=None, tol=0.0001)"
      ]
     },
     "execution_count": 100,
     "metadata": {},
     "output_type": "execute_result"
    }
   ],
   "source": [
    "ulogreg.fit(X_train,y_train)"
   ]
  },
  {
   "cell_type": "code",
   "execution_count": 101,
   "metadata": {
    "ExecuteTime": {
     "end_time": "2020-05-04T09:34:33.642534Z",
     "start_time": "2020-05-04T09:34:33.635553Z"
    }
   },
   "outputs": [
    {
     "data": {
      "text/plain": [
       "array([0.68745919, 0.85639524, 0.87860521, 0.41162156, 0.2501807 ,\n",
       "       0.90049757, 0.71469799, 0.41589982, 0.90340545, 0.33403923,\n",
       "       0.20514718, 0.09871455, 0.56312953, 0.01835923, 0.13971779,\n",
       "       0.08197863, 0.23791572, 0.09817604, 0.88036955, 0.1928737 ,\n",
       "       0.84976301, 0.07273267, 0.1974516 , 0.98430972, 0.82324057,\n",
       "       0.20654364, 0.63856506, 0.01196071, 0.08134796, 0.00958502,\n",
       "       0.24762011, 0.05272956, 0.92254019])"
      ]
     },
     "execution_count": 101,
     "metadata": {},
     "output_type": "execute_result"
    }
   ],
   "source": [
    "ulogreg.predict_score(X_test)"
   ]
  },
  {
   "cell_type": "code",
   "execution_count": 102,
   "metadata": {
    "ExecuteTime": {
     "end_time": "2020-05-04T09:34:37.523638Z",
     "start_time": "2020-05-04T09:34:37.517654Z"
    }
   },
   "outputs": [
    {
     "data": {
      "text/plain": [
       "0.9126984126984127"
      ]
     },
     "execution_count": 102,
     "metadata": {},
     "output_type": "execute_result"
    }
   ],
   "source": [
    "ulogreg.eval_roc_auc(X_test,y_test)"
   ]
  },
  {
   "cell_type": "code",
   "execution_count": 103,
   "metadata": {
    "ExecuteTime": {
     "end_time": "2020-05-04T09:34:38.787282Z",
     "start_time": "2020-05-04T09:34:38.652613Z"
    }
   },
   "outputs": [
    {
     "data": {
      "text/plain": [
       "uni_RandomForestClassifier(bootstrap=True, ccp_alpha=0.0, criterion='gini',\n",
       "                           def_threshold=0, max_depth=None, max_features='auto',\n",
       "                           max_leaf_nodes=None, min_impurity_decrease=0.0,\n",
       "                           min_samples_leaf=1, min_samples_split=2,\n",
       "                           min_weight_fraction_leaf=0, random_state=25)"
      ]
     },
     "execution_count": 103,
     "metadata": {},
     "output_type": "execute_result"
    }
   ],
   "source": [
    "urandfor = uni_RandomForestClassifier()\n",
    "urandfor.fit(X_train,y_train)"
   ]
  },
  {
   "cell_type": "code",
   "execution_count": 104,
   "metadata": {
    "ExecuteTime": {
     "end_time": "2020-05-04T09:34:41.426699Z",
     "start_time": "2020-05-04T09:34:41.409746Z"
    }
   },
   "outputs": [
    {
     "data": {
      "text/plain": [
       "0.8313492063492063"
      ]
     },
     "execution_count": 104,
     "metadata": {},
     "output_type": "execute_result"
    }
   ],
   "source": [
    "urandfor.eval_roc_auc(X_test,y_test)"
   ]
  },
  {
   "cell_type": "code",
   "execution_count": null,
   "metadata": {},
   "outputs": [],
   "source": []
  },
  {
   "cell_type": "code",
   "execution_count": null,
   "metadata": {},
   "outputs": [],
   "source": []
  }
 ],
 "metadata": {
  "kernelspec": {
   "display_name": "Py3.7 (mimii_base_TF2_GPU)",
   "language": "python",
   "name": "mimiibasetf2gpu"
  },
  "language_info": {
   "codemirror_mode": {
    "name": "ipython",
    "version": 3
   },
   "file_extension": ".py",
   "mimetype": "text/x-python",
   "name": "python",
   "nbconvert_exporter": "python",
   "pygments_lexer": "ipython3",
   "version": "3.7.6"
  },
  "toc": {
   "base_numbering": 1,
   "nav_menu": {},
   "number_sections": true,
   "sideBar": true,
   "skip_h1_title": false,
   "title_cell": "Table of Contents",
   "title_sidebar": "Contents",
   "toc_cell": false,
   "toc_position": {},
   "toc_section_display": true,
   "toc_window_display": false
  }
 },
 "nbformat": 4,
 "nbformat_minor": 4
}
