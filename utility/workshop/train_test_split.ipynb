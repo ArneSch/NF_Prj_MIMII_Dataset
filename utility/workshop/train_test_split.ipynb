{
 "cells": [
  {
   "cell_type": "markdown",
   "metadata": {
    "toc": true
   },
   "source": [
    "<h1>Table of Contents<span class=\"tocSkip\"></span></h1>\n",
    "<div class=\"toc\"><ul class=\"toc-item\"></ul></div>"
   ]
  },
  {
   "cell_type": "markdown",
   "metadata": {},
   "source": [
    "# Introduction\n",
    "\n",
    "This notebook updates the descriptive dataframe for a subsequent modeling or evaluating task. This descriptive dataframe serves as the leading input to the modeling pipeline and contains all information that is necessary to create the training and evaluating datasets.\n",
    "\n",
    "The steps within this workflow are as follows:\n",
    "\n",
    "1. accordingly to the initialized path the function loads the descriptive dataframe\n",
    "2. the function splits the instances per SNR, per machine and per ID into training and testing and creates an additional column\n",
    "3. the column is being added to the descriptive dataframe and saved back to the location\n",
    "\n",
    "To use this notebook you will have to do the following steps:\n",
    "\n",
    "1. define the path to the descriptive dataframe (path='....')\n",
    "2. run all the cells after that"
   ]
  },
  {
   "cell_type": "code",
   "execution_count": 2,
   "metadata": {
    "ExecuteTime": {
     "end_time": "2020-04-27T09:54:56.802949Z",
     "start_time": "2020-04-27T09:54:55.050950Z"
    }
   },
   "outputs": [
    {
     "output_type": "stream",
     "name": "stdout",
     "text": "load load_data\nLoad split_data\nLoad anomaly_detection_models\nLoad detection_pipe\n"
    }
   ],
   "source": [
    "import pandas as pd\n",
    "BASE_FOLDER = '../../'\n",
    "%run -i ..\\..\\utility\\modeling\\JupyterLoad_modeling.py"
   ]
  },
  {
   "cell_type": "code",
   "execution_count": 11,
   "metadata": {
    "ExecuteTime": {
     "end_time": "2020-04-27T12:49:39.445343Z",
     "start_time": "2020-04-27T12:49:39.386672Z"
    }
   },
   "outputs": [
    {
     "output_type": "stream",
     "name": "stdout",
     "text": ".\\..\\..\\dataset\\extdia_v0\\pump6dB00_EDiaV0_pandaDisc.pkl --> Train test split already done, passed\n.\\..\\..\\dataset\\extdia_v0\\pump6dB02_EDiaV0_pandaDisc.pkl --> Train test split already done, passed\n.\\..\\..\\dataset\\extdia_v0\\pump6dB04_EDiaV0_pandaDisc.pkl --> Train test split already done, passed\n.\\..\\..\\dataset\\extdia_v0\\pump6dB06_EDiaV0_pandaDisc.pkl --> Done\n.\\..\\..\\dataset\\extdia_v0\\fan6dB00_EDiaV0_pandaDisc.pkl probably not existent\n.\\..\\..\\dataset\\extdia_v0\\fan6dB02_EDiaV0_pandaDisc.pkl probably not existent\n.\\..\\..\\dataset\\extdia_v0\\fan6dB04_EDiaV0_pandaDisc.pkl probably not existent\n.\\..\\..\\dataset\\extdia_v0\\fan6dB06_EDiaV0_pandaDisc.pkl probably not existent\n.\\..\\..\\dataset\\extdia_v0\\slider6dB00_EDiaV0_pandaDisc.pkl probably not existent\n.\\..\\..\\dataset\\extdia_v0\\slider6dB02_EDiaV0_pandaDisc.pkl probably not existent\n.\\..\\..\\dataset\\extdia_v0\\slider6dB04_EDiaV0_pandaDisc.pkl probably not existent\n.\\..\\..\\dataset\\extdia_v0\\slider6dB06_EDiaV0_pandaDisc.pkl probably not existent\n.\\..\\..\\dataset\\extdia_v0\\valve6dB00_EDiaV0_pandaDisc.pkl probably not existent\n.\\..\\..\\dataset\\extdia_v0\\valve6dB02_EDiaV0_pandaDisc.pkl probably not existent\n.\\..\\..\\dataset\\extdia_v0\\valve6dB04_EDiaV0_pandaDisc.pkl probably not existent\n.\\..\\..\\dataset\\extdia_v0\\valve6dB06_EDiaV0_pandaDisc.pkl probably not existent\n.\\..\\..\\dataset\\extdia_v0\\pumpmin6dB00_EDiaV0_pandaDisc.pkl --> Done\n.\\..\\..\\dataset\\extdia_v0\\pumpmin6dB02_EDiaV0_pandaDisc.pkl --> Done\n.\\..\\..\\dataset\\extdia_v0\\pumpmin6dB04_EDiaV0_pandaDisc.pkl probably not existent\n.\\..\\..\\dataset\\extdia_v0\\pumpmin6dB06_EDiaV0_pandaDisc.pkl probably not existent\n.\\..\\..\\dataset\\extdia_v0\\fanmin6dB00_EDiaV0_pandaDisc.pkl probably not existent\n.\\..\\..\\dataset\\extdia_v0\\fanmin6dB02_EDiaV0_pandaDisc.pkl probably not existent\n.\\..\\..\\dataset\\extdia_v0\\fanmin6dB04_EDiaV0_pandaDisc.pkl probably not existent\n.\\..\\..\\dataset\\extdia_v0\\fanmin6dB06_EDiaV0_pandaDisc.pkl probably not existent\n.\\..\\..\\dataset\\extdia_v0\\slidermin6dB00_EDiaV0_pandaDisc.pkl probably not existent\n.\\..\\..\\dataset\\extdia_v0\\slidermin6dB02_EDiaV0_pandaDisc.pkl probably not existent\n.\\..\\..\\dataset\\extdia_v0\\slidermin6dB04_EDiaV0_pandaDisc.pkl probably not existent\n.\\..\\..\\dataset\\extdia_v0\\slidermin6dB06_EDiaV0_pandaDisc.pkl probably not existent\n.\\..\\..\\dataset\\extdia_v0\\valvemin6dB00_EDiaV0_pandaDisc.pkl probably not existent\n.\\..\\..\\dataset\\extdia_v0\\valvemin6dB02_EDiaV0_pandaDisc.pkl probably not existent\n.\\..\\..\\dataset\\extdia_v0\\valvemin6dB04_EDiaV0_pandaDisc.pkl probably not existent\n.\\..\\..\\dataset\\extdia_v0\\valvemin6dB06_EDiaV0_pandaDisc.pkl probably not existent\n"
    }
   ],
   "source": [
    "diagrams = ['extdia_v0']\n",
    "machines = ['pump', 'fan', 'slider', 'valve']\n",
    "SNRs = ['6dB', 'min6dB']\n",
    "IDs = ['00', '02', '04', '06']\n",
    "\n",
    "for diagram in diagrams:\n",
    "    for SNR in SNRs:\n",
    "        for machine in machines:\n",
    "            for ID in IDs:\n",
    "                path = r'.\\..\\..\\dataset\\{}\\{}{}{}_EDiaV0_pandaDisc.pkl'.format(diagram, \n",
    "                                                                                machine, \n",
    "                                                                                SNR, \n",
    "                                                                                ID)\n",
    "                try:\n",
    "                    tt_split(path)\n",
    "                except:\n",
    "                    print(path, 'probably not existent')"
   ]
  }
 ],
 "metadata": {
  "kernelspec": {
   "display_name": "Py3.7 (mimii_base_TF2_GPU)",
   "language": "python",
   "name": "mimii-tf2-gpu"
  },
  "language_info": {
   "codemirror_mode": {
    "name": "ipython",
    "version": 3
   },
   "file_extension": ".py",
   "mimetype": "text/x-python",
   "name": "python",
   "nbconvert_exporter": "python",
   "pygments_lexer": "ipython3",
   "version": "3.7.7-final"
  },
  "toc": {
   "base_numbering": 1,
   "nav_menu": {},
   "number_sections": true,
   "sideBar": true,
   "skip_h1_title": true,
   "title_cell": "Table of Contents",
   "title_sidebar": "Contents",
   "toc_cell": true,
   "toc_position": {},
   "toc_section_display": true,
   "toc_window_display": false
  }
 },
 "nbformat": 4,
 "nbformat_minor": 4
}