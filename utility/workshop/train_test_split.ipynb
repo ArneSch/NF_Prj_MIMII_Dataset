{
 "cells": [
  {
   "cell_type": "markdown",
   "metadata": {
    "toc": true
   },
   "source": [
    "<h1>Table of Contents<span class=\"tocSkip\"></span></h1>\n",
    "<div class=\"toc\"><ul class=\"toc-item\"></ul></div>"
   ]
  },
  {
   "cell_type": "markdown",
   "metadata": {},
   "source": [
    "# Introduction\n",
    "\n",
    "This notebook updates the descriptive dataframe for a subsequent modeling or evaluating task. This descriptive dataframe serves as the leading input to the modeling pipeline and contains all information that is necessary to create the training and evaluating datasets.\n",
    "\n",
    "The steps within this workflow are as follows:\n",
    "\n",
    "1. accordingly to the initialized path the function loads the descriptive dataframe\n",
    "2. the function splits the instances per SNR, per machine and per ID into training and testing and creates an additional column\n",
    "3. the column is being added to the descriptive dataframe and saved back to the location\n",
    "\n",
    "To use this notebook you will have to do the following steps:\n",
    "\n",
    "1. define the path to the descriptive dataframe (path='....')\n",
    "2. run all the cells after that"
   ]
  },
  {
   "cell_type": "code",
   "execution_count": 5,
   "metadata": {
    "ExecuteTime": {
     "end_time": "2020-04-27T09:54:56.802949Z",
     "start_time": "2020-04-27T09:54:55.050950Z"
    }
   },
   "outputs": [
    {
     "output_type": "stream",
     "name": "stdout",
     "text": "load load_data\nLoad split_data\nLoad anomaly_detection_models\nLoad detection_pipe\n"
    }
   ],
   "source": [
    "import pandas as pd\n",
    "BASE_FOLDER = '../../'\n",
    "%run -i ..\\..\\utility\\modeling\\JupyterLoad_modeling.py"
   ]
  },
  {
   "cell_type": "code",
   "execution_count": 6,
   "metadata": {
    "ExecuteTime": {
     "end_time": "2020-04-27T12:49:39.445343Z",
     "start_time": "2020-04-27T12:49:39.386672Z"
    }
   },
   "outputs": [
    {
     "output_type": "stream",
     "name": "stdout",
     "text": ".\\..\\..\\dataset\\extdia_v0\\pump6dB00_EDiaV0_pandaDisc.pkl --> Done\n.\\..\\..\\dataset\\extdia_v0\\pump6dB02_EDiaV0_pandaDisc.pkl --> Done\n.\\..\\..\\dataset\\extdia_v0\\pump6dB04_EDiaV0_pandaDisc.pkl --> Done\n.\\..\\..\\dataset\\extdia_v0\\pump6dB06_EDiaV0_pandaDisc.pkl --> Done\n.\\..\\..\\dataset\\extdia_v0\\fan6dB00_EDiaV0_pandaDisc.pkl --> Done\n.\\..\\..\\dataset\\extdia_v0\\fan6dB02_EDiaV0_pandaDisc.pkl --> Done\n.\\..\\..\\dataset\\extdia_v0\\fan6dB04_EDiaV0_pandaDisc.pkl --> Done\n.\\..\\..\\dataset\\extdia_v0\\fan6dB06_EDiaV0_pandaDisc.pkl --> Done\n.\\..\\..\\dataset\\extdia_v0\\slider6dB00_EDiaV0_pandaDisc.pkl --> Done\n.\\..\\..\\dataset\\extdia_v0\\slider6dB02_EDiaV0_pandaDisc.pkl --> Done\n.\\..\\..\\dataset\\extdia_v0\\slider6dB04_EDiaV0_pandaDisc.pkl --> Done\n.\\..\\..\\dataset\\extdia_v0\\slider6dB06_EDiaV0_pandaDisc.pkl --> Done\n.\\..\\..\\dataset\\extdia_v0\\valve6dB00_EDiaV0_pandaDisc.pkl --> Done\n.\\..\\..\\dataset\\extdia_v0\\valve6dB02_EDiaV0_pandaDisc.pkl --> Done\n.\\..\\..\\dataset\\extdia_v0\\valve6dB04_EDiaV0_pandaDisc.pkl --> Done\n.\\..\\..\\dataset\\extdia_v0\\valve6dB06_EDiaV0_pandaDisc.pkl --> Done\n.\\..\\..\\dataset\\extdia_v0\\pumpmin6dB00_EDiaV0_pandaDisc.pkl --> Done\n.\\..\\..\\dataset\\extdia_v0\\pumpmin6dB02_EDiaV0_pandaDisc.pkl --> Done\n.\\..\\..\\dataset\\extdia_v0\\pumpmin6dB04_EDiaV0_pandaDisc.pkl --> Done\n.\\..\\..\\dataset\\extdia_v0\\pumpmin6dB06_EDiaV0_pandaDisc.pkl --> Done\n.\\..\\..\\dataset\\extdia_v0\\fanmin6dB00_EDiaV0_pandaDisc.pkl --> Done\n.\\..\\..\\dataset\\extdia_v0\\fanmin6dB02_EDiaV0_pandaDisc.pkl --> Done\n.\\..\\..\\dataset\\extdia_v0\\fanmin6dB04_EDiaV0_pandaDisc.pkl --> Done\n.\\..\\..\\dataset\\extdia_v0\\fanmin6dB06_EDiaV0_pandaDisc.pkl --> Done\n.\\..\\..\\dataset\\extdia_v0\\slidermin6dB00_EDiaV0_pandaDisc.pkl --> Done\n.\\..\\..\\dataset\\extdia_v0\\slidermin6dB02_EDiaV0_pandaDisc.pkl --> Done\n.\\..\\..\\dataset\\extdia_v0\\slidermin6dB04_EDiaV0_pandaDisc.pkl --> Done\n.\\..\\..\\dataset\\extdia_v0\\slidermin6dB06_EDiaV0_pandaDisc.pkl --> Done\n.\\..\\..\\dataset\\extdia_v0\\valvemin6dB00_EDiaV0_pandaDisc.pkl --> Done\n.\\..\\..\\dataset\\extdia_v0\\valvemin6dB02_EDiaV0_pandaDisc.pkl --> Done\n.\\..\\..\\dataset\\extdia_v0\\valvemin6dB04_EDiaV0_pandaDisc.pkl --> Done\n.\\..\\..\\dataset\\extdia_v0\\valvemin6dB06_EDiaV0_pandaDisc.pkl --> Done\n"
    }
   ],
   "source": [
    "diagrams = ['extdia_v0']\n",
    "machines = ['pump', 'fan', 'slider', 'valve']\n",
    "SNRs = ['6dB', 'min6dB']\n",
    "IDs = ['00', '02', '04', '06']\n",
    "\n",
    "for diagram in diagrams:\n",
    "    for SNR in SNRs:\n",
    "        for machine in machines:\n",
    "            for ID in IDs:\n",
    "                path = r'.\\..\\..\\dataset\\{}\\{}{}{}_EDiaV0_pandaDisc.pkl'.format(diagram, \n",
    "                                                                                machine, \n",
    "                                                                                SNR, \n",
    "                                                                                ID)\n",
    "                try:\n",
    "                    tt_split(path)\n",
    "                except:\n",
    "                    print(path, 'probably not existent')"
   ]
  },
  {
   "cell_type": "code",
   "execution_count": 7,
   "metadata": {},
   "outputs": [],
   "source": [
    "table = pd.read_pickle('.\\..\\..\\dataset\\extdia_v0\\pump6dB06_EDiaV0_pandaDisc.pkl')"
   ]
  },
  {
   "cell_type": "code",
   "execution_count": 8,
   "metadata": {},
   "outputs": [
    {
     "output_type": "execute_result",
     "data": {
      "text/plain": "                                               path  abnormal  datafile_idx  \\\n0     \\dataset\\6dB\\pump\\id_06\\abnormal\\00000005.wav       1.0             0   \n1     \\dataset\\6dB\\pump\\id_06\\abnormal\\00000011.wav       1.0             1   \n2     \\dataset\\6dB\\pump\\id_06\\abnormal\\00000015.wav       1.0             2   \n3     \\dataset\\6dB\\pump\\id_06\\abnormal\\00000025.wav       1.0             3   \n4     \\dataset\\6dB\\pump\\id_06\\abnormal\\00000033.wav       1.0             4   \n...                                             ...       ...           ...   \n1133    \\dataset\\6dB\\pump\\id_06\\normal\\00001002.wav       0.0          1133   \n1134    \\dataset\\6dB\\pump\\id_06\\normal\\00001010.wav       0.0          1134   \n1135    \\dataset\\6dB\\pump\\id_06\\normal\\00001015.wav       0.0          1135   \n1136    \\dataset\\6dB\\pump\\id_06\\normal\\00001023.wav       0.0          1136   \n1137    \\dataset\\6dB\\pump\\id_06\\normal\\00001026.wav       0.0          1137   \n\n                                                MEL_den  \\\n0     \\dataset\\extdia_v0\\pump6dB06_EDiaV0_outpMEL_de...   \n1     \\dataset\\extdia_v0\\pump6dB06_EDiaV0_outpMEL_de...   \n2     \\dataset\\extdia_v0\\pump6dB06_EDiaV0_outpMEL_de...   \n3     \\dataset\\extdia_v0\\pump6dB06_EDiaV0_outpMEL_de...   \n4     \\dataset\\extdia_v0\\pump6dB06_EDiaV0_outpMEL_de...   \n...                                                 ...   \n1133  \\dataset\\extdia_v0\\pump6dB06_EDiaV0_outpMEL_de...   \n1134  \\dataset\\extdia_v0\\pump6dB06_EDiaV0_outpMEL_de...   \n1135  \\dataset\\extdia_v0\\pump6dB06_EDiaV0_outpMEL_de...   \n1136  \\dataset\\extdia_v0\\pump6dB06_EDiaV0_outpMEL_de...   \n1137  \\dataset\\extdia_v0\\pump6dB06_EDiaV0_outpMEL_de...   \n\n                                                PSD_den  SNR machine  ID  \\\n0     \\dataset\\extdia_v0\\pump6dB06_EDiaV0_outpPSD_de...  6dB    pump  06   \n1     \\dataset\\extdia_v0\\pump6dB06_EDiaV0_outpPSD_de...  6dB    pump  06   \n2     \\dataset\\extdia_v0\\pump6dB06_EDiaV0_outpPSD_de...  6dB    pump  06   \n3     \\dataset\\extdia_v0\\pump6dB06_EDiaV0_outpPSD_de...  6dB    pump  06   \n4     \\dataset\\extdia_v0\\pump6dB06_EDiaV0_outpPSD_de...  6dB    pump  06   \n...                                                 ...  ...     ...  ..   \n1133  \\dataset\\extdia_v0\\pump6dB06_EDiaV0_outpPSD_de...  6dB    pump  06   \n1134  \\dataset\\extdia_v0\\pump6dB06_EDiaV0_outpPSD_de...  6dB    pump  06   \n1135  \\dataset\\extdia_v0\\pump6dB06_EDiaV0_outpPSD_de...  6dB    pump  06   \n1136  \\dataset\\extdia_v0\\pump6dB06_EDiaV0_outpPSD_de...  6dB    pump  06   \n1137  \\dataset\\extdia_v0\\pump6dB06_EDiaV0_outpPSD_de...  6dB    pump  06   \n\n      train_set  \n0             0  \n1             0  \n2             0  \n3             0  \n4             0  \n...         ...  \n1133          1  \n1134          1  \n1135          1  \n1136          1  \n1137          1  \n\n[1138 rows x 9 columns]",
      "text/html": "<div>\n<style scoped>\n    .dataframe tbody tr th:only-of-type {\n        vertical-align: middle;\n    }\n\n    .dataframe tbody tr th {\n        vertical-align: top;\n    }\n\n    .dataframe thead th {\n        text-align: right;\n    }\n</style>\n<table border=\"1\" class=\"dataframe\">\n  <thead>\n    <tr style=\"text-align: right;\">\n      <th></th>\n      <th>path</th>\n      <th>abnormal</th>\n      <th>datafile_idx</th>\n      <th>MEL_den</th>\n      <th>PSD_den</th>\n      <th>SNR</th>\n      <th>machine</th>\n      <th>ID</th>\n      <th>train_set</th>\n    </tr>\n  </thead>\n  <tbody>\n    <tr>\n      <th>0</th>\n      <td>\\dataset\\6dB\\pump\\id_06\\abnormal\\00000005.wav</td>\n      <td>1.0</td>\n      <td>0</td>\n      <td>\\dataset\\extdia_v0\\pump6dB06_EDiaV0_outpMEL_de...</td>\n      <td>\\dataset\\extdia_v0\\pump6dB06_EDiaV0_outpPSD_de...</td>\n      <td>6dB</td>\n      <td>pump</td>\n      <td>06</td>\n      <td>0</td>\n    </tr>\n    <tr>\n      <th>1</th>\n      <td>\\dataset\\6dB\\pump\\id_06\\abnormal\\00000011.wav</td>\n      <td>1.0</td>\n      <td>1</td>\n      <td>\\dataset\\extdia_v0\\pump6dB06_EDiaV0_outpMEL_de...</td>\n      <td>\\dataset\\extdia_v0\\pump6dB06_EDiaV0_outpPSD_de...</td>\n      <td>6dB</td>\n      <td>pump</td>\n      <td>06</td>\n      <td>0</td>\n    </tr>\n    <tr>\n      <th>2</th>\n      <td>\\dataset\\6dB\\pump\\id_06\\abnormal\\00000015.wav</td>\n      <td>1.0</td>\n      <td>2</td>\n      <td>\\dataset\\extdia_v0\\pump6dB06_EDiaV0_outpMEL_de...</td>\n      <td>\\dataset\\extdia_v0\\pump6dB06_EDiaV0_outpPSD_de...</td>\n      <td>6dB</td>\n      <td>pump</td>\n      <td>06</td>\n      <td>0</td>\n    </tr>\n    <tr>\n      <th>3</th>\n      <td>\\dataset\\6dB\\pump\\id_06\\abnormal\\00000025.wav</td>\n      <td>1.0</td>\n      <td>3</td>\n      <td>\\dataset\\extdia_v0\\pump6dB06_EDiaV0_outpMEL_de...</td>\n      <td>\\dataset\\extdia_v0\\pump6dB06_EDiaV0_outpPSD_de...</td>\n      <td>6dB</td>\n      <td>pump</td>\n      <td>06</td>\n      <td>0</td>\n    </tr>\n    <tr>\n      <th>4</th>\n      <td>\\dataset\\6dB\\pump\\id_06\\abnormal\\00000033.wav</td>\n      <td>1.0</td>\n      <td>4</td>\n      <td>\\dataset\\extdia_v0\\pump6dB06_EDiaV0_outpMEL_de...</td>\n      <td>\\dataset\\extdia_v0\\pump6dB06_EDiaV0_outpPSD_de...</td>\n      <td>6dB</td>\n      <td>pump</td>\n      <td>06</td>\n      <td>0</td>\n    </tr>\n    <tr>\n      <th>...</th>\n      <td>...</td>\n      <td>...</td>\n      <td>...</td>\n      <td>...</td>\n      <td>...</td>\n      <td>...</td>\n      <td>...</td>\n      <td>...</td>\n      <td>...</td>\n    </tr>\n    <tr>\n      <th>1133</th>\n      <td>\\dataset\\6dB\\pump\\id_06\\normal\\00001002.wav</td>\n      <td>0.0</td>\n      <td>1133</td>\n      <td>\\dataset\\extdia_v0\\pump6dB06_EDiaV0_outpMEL_de...</td>\n      <td>\\dataset\\extdia_v0\\pump6dB06_EDiaV0_outpPSD_de...</td>\n      <td>6dB</td>\n      <td>pump</td>\n      <td>06</td>\n      <td>1</td>\n    </tr>\n    <tr>\n      <th>1134</th>\n      <td>\\dataset\\6dB\\pump\\id_06\\normal\\00001010.wav</td>\n      <td>0.0</td>\n      <td>1134</td>\n      <td>\\dataset\\extdia_v0\\pump6dB06_EDiaV0_outpMEL_de...</td>\n      <td>\\dataset\\extdia_v0\\pump6dB06_EDiaV0_outpPSD_de...</td>\n      <td>6dB</td>\n      <td>pump</td>\n      <td>06</td>\n      <td>1</td>\n    </tr>\n    <tr>\n      <th>1135</th>\n      <td>\\dataset\\6dB\\pump\\id_06\\normal\\00001015.wav</td>\n      <td>0.0</td>\n      <td>1135</td>\n      <td>\\dataset\\extdia_v0\\pump6dB06_EDiaV0_outpMEL_de...</td>\n      <td>\\dataset\\extdia_v0\\pump6dB06_EDiaV0_outpPSD_de...</td>\n      <td>6dB</td>\n      <td>pump</td>\n      <td>06</td>\n      <td>1</td>\n    </tr>\n    <tr>\n      <th>1136</th>\n      <td>\\dataset\\6dB\\pump\\id_06\\normal\\00001023.wav</td>\n      <td>0.0</td>\n      <td>1136</td>\n      <td>\\dataset\\extdia_v0\\pump6dB06_EDiaV0_outpMEL_de...</td>\n      <td>\\dataset\\extdia_v0\\pump6dB06_EDiaV0_outpPSD_de...</td>\n      <td>6dB</td>\n      <td>pump</td>\n      <td>06</td>\n      <td>1</td>\n    </tr>\n    <tr>\n      <th>1137</th>\n      <td>\\dataset\\6dB\\pump\\id_06\\normal\\00001026.wav</td>\n      <td>0.0</td>\n      <td>1137</td>\n      <td>\\dataset\\extdia_v0\\pump6dB06_EDiaV0_outpMEL_de...</td>\n      <td>\\dataset\\extdia_v0\\pump6dB06_EDiaV0_outpPSD_de...</td>\n      <td>6dB</td>\n      <td>pump</td>\n      <td>06</td>\n      <td>1</td>\n    </tr>\n  </tbody>\n</table>\n<p>1138 rows × 9 columns</p>\n</div>"
     },
     "metadata": {},
     "execution_count": 8
    }
   ],
   "source": [
    "table"
   ]
  },
  {
   "cell_type": "code",
   "execution_count": null,
   "metadata": {},
   "outputs": [],
   "source": []
  }
 ],
 "metadata": {
  "kernelspec": {
   "display_name": "Py3.7 (mimii_base_TF2_GPU)",
   "language": "python",
   "name": "mimii-tf2-gpu"
  },
  "language_info": {
   "codemirror_mode": {
    "name": "ipython",
    "version": 3
   },
   "file_extension": ".py",
   "mimetype": "text/x-python",
   "name": "python",
   "nbconvert_exporter": "python",
   "pygments_lexer": "ipython3",
   "version": "3.7.7-final"
  },
  "toc": {
   "base_numbering": 1,
   "nav_menu": {},
   "number_sections": true,
   "sideBar": true,
   "skip_h1_title": true,
   "title_cell": "Table of Contents",
   "title_sidebar": "Contents",
   "toc_cell": true,
   "toc_position": {},
   "toc_section_display": true,
   "toc_window_display": false
  }
 },
 "nbformat": 4,
 "nbformat_minor": 4
}