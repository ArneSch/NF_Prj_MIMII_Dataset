{
 "cells": [
  {
   "cell_type": "markdown",
   "metadata": {
    "toc": true
   },
   "source": [
    "<h1>Table of Contents<span class=\"tocSkip\"></span></h1>\n",
    "<div class=\"toc\"><ul class=\"toc-item\"></ul></div>"
   ]
  },
  {
   "cell_type": "markdown",
   "metadata": {},
   "source": [
    "# Introduction\n",
    "\n",
    "This notebook updates the descriptive dataframe for a subsequent modeling or evaluating task. This descriptive dataframe serves as the leading input to the modeling pipeline and contains all information that is necessary to create the training and evaluating datasets.\n",
    "\n",
    "The steps within this workflow are as follows:\n",
    "\n",
    "1. accordingly to the initialized path the function loads the descriptive dataframe\n",
    "2. the function splits the instances per SNR, per machine and per ID into training and testing and creates an additional column\n",
    "3. the column is being added to the descriptive dataframe and saved back to the location\n",
    "\n",
    "To use this notebook you will have to do the following steps:\n",
    "\n",
    "1. define the path to the descriptive dataframe (path='....')\n",
    "2. run all the cells after that"
   ]
  },
  {
   "cell_type": "code",
   "execution_count": 5,
   "metadata": {
    "ExecuteTime": {
     "end_time": "2020-04-27T09:54:56.802949Z",
     "start_time": "2020-04-27T09:54:55.050950Z"
    }
   },
   "outputs": [
    {
     "name": "stdout",
     "output_type": "stream",
     "text": [
      "load load_data\n",
      "Load split_data\n",
      "Load anomaly_detection_models\n",
      "Load pseudo_supervised_models\n",
      "Load detection_pipe\n"
     ]
    }
   ],
   "source": [
    "import pandas as pd\n",
    "BASE_FOLDER = '../../'\n",
    "%run -i ..\\..\\utility\\modeling\\JupyterLoad_modeling.py"
   ]
  },
  {
   "cell_type": "code",
   "execution_count": 6,
   "metadata": {},
   "outputs": [],
   "source": [
    "import glob\n",
    "diagram = 'extdia_v1'\n",
    "path = BASE_FOLDER + '/dataset/{}'.format(diagram)\n",
    "\n",
    "files = [f for f in glob.glob(path + \"**/*pandaDisc*.pkl\", recursive=True)]"
   ]
  },
  {
   "cell_type": "code",
   "execution_count": 7,
   "metadata": {},
   "outputs": [
    {
     "data": {
      "text/plain": [
       "['../..//dataset\\\\extdia_v1\\\\fan6dB00_EDiaV1HP_pandaDisc.pkl',\n",
       " '../..//dataset\\\\extdia_v1\\\\fan6dB02_EDiaV1HP_pandaDisc.pkl',\n",
       " '../..//dataset\\\\extdia_v1\\\\fan6dB04_EDiaV1HP_pandaDisc.pkl',\n",
       " '../..//dataset\\\\extdia_v1\\\\fan6dB06_EDiaV1HP_pandaDisc.pkl',\n",
       " '../..//dataset\\\\extdia_v1\\\\fanmin6dB00_EDiaV1HP_pandaDisc.pkl',\n",
       " '../..//dataset\\\\extdia_v1\\\\fanmin6dB02_EDiaV1HP_pandaDisc.pkl',\n",
       " '../..//dataset\\\\extdia_v1\\\\fanmin6dB04_EDiaV1HP_pandaDisc.pkl',\n",
       " '../..//dataset\\\\extdia_v1\\\\fanmin6dB06_EDiaV1HP_pandaDisc.pkl',\n",
       " '../..//dataset\\\\extdia_v1\\\\pump6dB00_EDiaV1HPaug0_pandaDisc.pkl',\n",
       " '../..//dataset\\\\extdia_v1\\\\pump6dB02_EDiaV1HPaug0_pandaDisc.pkl',\n",
       " '../..//dataset\\\\extdia_v1\\\\pump6dB02_EDiaV1HP_pandaDisc.pkl',\n",
       " '../..//dataset\\\\extdia_v1\\\\pump6dB04_EDiaV1HP_pandaDisc.pkl',\n",
       " '../..//dataset\\\\extdia_v1\\\\pump6dB06_EDiaV1HP_pandaDisc.pkl',\n",
       " '../..//dataset\\\\extdia_v1\\\\pumpmin6dB00_EDiaV1HPaug0_pandaDisc.pkl',\n",
       " '../..//dataset\\\\extdia_v1\\\\pumpmin6dB02_EDiaV1HP_pandaDisc.pkl',\n",
       " '../..//dataset\\\\extdia_v1\\\\pumpmin6dB04_EDiaV1HP_pandaDisc.pkl',\n",
       " '../..//dataset\\\\extdia_v1\\\\pumpmin6dB06_EDiaV1HP_pandaDisc.pkl',\n",
       " '../..//dataset\\\\extdia_v1\\\\slider6dB00_EDiaV1HP_pandaDisc.pkl',\n",
       " '../..//dataset\\\\extdia_v1\\\\slider6dB02_EDiaV1HP_pandaDisc.pkl',\n",
       " '../..//dataset\\\\extdia_v1\\\\slider6dB04_EDiaV1HP_pandaDisc.pkl',\n",
       " '../..//dataset\\\\extdia_v1\\\\slider6dB06_EDiaV1HP_pandaDisc.pkl',\n",
       " '../..//dataset\\\\extdia_v1\\\\slidermin6dB00_EDiaV1HP_pandaDisc.pkl',\n",
       " '../..//dataset\\\\extdia_v1\\\\slidermin6dB02_EDiaV1HP_pandaDisc.pkl',\n",
       " '../..//dataset\\\\extdia_v1\\\\slidermin6dB04_EDiaV1HP_pandaDisc.pkl',\n",
       " '../..//dataset\\\\extdia_v1\\\\slidermin6dB06_EDiaV1HP_pandaDisc.pkl',\n",
       " '../..//dataset\\\\extdia_v1\\\\valve6dB00_EDiaV1HPTsSl_pandaDisc.pkl']"
      ]
     },
     "execution_count": 7,
     "metadata": {},
     "output_type": "execute_result"
    }
   ],
   "source": [
    "files"
   ]
  },
  {
   "cell_type": "code",
   "execution_count": 8,
   "metadata": {
    "ExecuteTime": {
     "end_time": "2020-04-27T12:49:39.445343Z",
     "start_time": "2020-04-27T12:49:39.386672Z"
    }
   },
   "outputs": [
    {
     "name": "stdout",
     "output_type": "stream",
     "text": [
      "../..//dataset\\extdia_v1\\fan6dB00_EDiaV1HP_pandaDisc.pkl --> Done\n",
      "../..//dataset\\extdia_v1\\fan6dB02_EDiaV1HP_pandaDisc.pkl --> Done\n",
      "../..//dataset\\extdia_v1\\fan6dB04_EDiaV1HP_pandaDisc.pkl --> Done\n",
      "../..//dataset\\extdia_v1\\fan6dB06_EDiaV1HP_pandaDisc.pkl --> Done\n",
      "../..//dataset\\extdia_v1\\fanmin6dB00_EDiaV1HP_pandaDisc.pkl --> Done\n",
      "../..//dataset\\extdia_v1\\fanmin6dB02_EDiaV1HP_pandaDisc.pkl --> Done\n",
      "../..//dataset\\extdia_v1\\fanmin6dB04_EDiaV1HP_pandaDisc.pkl --> Done\n",
      "../..//dataset\\extdia_v1\\fanmin6dB06_EDiaV1HP_pandaDisc.pkl --> Done\n",
      "../..//dataset\\extdia_v1\\pump6dB00_EDiaV1HPaug0_pandaDisc.pkl --> Done\n"
     ]
    },
    {
     "ename": "ValueError",
     "evalue": "test_size=2 should be either positive and smaller than the number of samples 2 or a float in the (0, 1) range",
     "output_type": "error",
     "traceback": [
      "\u001b[1;31m---------------------------------------------------------------------------\u001b[0m",
      "\u001b[1;31mValueError\u001b[0m                                Traceback (most recent call last)",
      "\u001b[1;32md:\\Capstone\\NF_Prj_MIMII_Dataset\\utility\\modeling\\JupyterLoad_modeling.py\u001b[0m in \u001b[0;36m<module>\u001b[1;34m\u001b[0m\n\u001b[0;32m      1\u001b[0m \u001b[1;32mfor\u001b[0m \u001b[0mfile\u001b[0m \u001b[1;32min\u001b[0m \u001b[0mfiles\u001b[0m\u001b[1;33m:\u001b[0m\u001b[1;33m\u001b[0m\u001b[1;33m\u001b[0m\u001b[0m\n\u001b[1;32m----> 2\u001b[1;33m     \u001b[0mtt_split\u001b[0m\u001b[1;33m(\u001b[0m\u001b[0mfile\u001b[0m\u001b[1;33m)\u001b[0m\u001b[1;33m\u001b[0m\u001b[1;33m\u001b[0m\u001b[0m\n\u001b[0m",
      "\u001b[1;32md:\\Capstone\\NF_Prj_MIMII_Dataset\\utility\\modeling\\JupyterLoad_modeling.py\u001b[0m in \u001b[0;36mtt_split\u001b[1;34m(table_path)\u001b[0m\n",
      "\u001b[1;32md:\\Capstone\\NF_Prj_MIMII_Dataset\\utility\\modeling\\JupyterLoad_modeling.py\u001b[0m in \u001b[0;36msplit_index\u001b[1;34m(indeces, labels, files)\u001b[0m\n",
      "\u001b[1;32m~\\.conda\\envs\\mimii-tf2-gpu\\lib\\site-packages\\sklearn\\model_selection\\_split.py\u001b[0m in \u001b[0;36mtrain_test_split\u001b[1;34m(*arrays, **options)\u001b[0m\n\u001b[0;32m   2120\u001b[0m     \u001b[0mn_samples\u001b[0m \u001b[1;33m=\u001b[0m \u001b[0m_num_samples\u001b[0m\u001b[1;33m(\u001b[0m\u001b[0marrays\u001b[0m\u001b[1;33m[\u001b[0m\u001b[1;36m0\u001b[0m\u001b[1;33m]\u001b[0m\u001b[1;33m)\u001b[0m\u001b[1;33m\u001b[0m\u001b[1;33m\u001b[0m\u001b[0m\n\u001b[0;32m   2121\u001b[0m     n_train, n_test = _validate_shuffle_split(n_samples, test_size, train_size,\n\u001b[1;32m-> 2122\u001b[1;33m                                               default_test_size=0.25)\n\u001b[0m\u001b[0;32m   2123\u001b[0m \u001b[1;33m\u001b[0m\u001b[0m\n\u001b[0;32m   2124\u001b[0m     \u001b[1;32mif\u001b[0m \u001b[0mshuffle\u001b[0m \u001b[1;32mis\u001b[0m \u001b[1;32mFalse\u001b[0m\u001b[1;33m:\u001b[0m\u001b[1;33m\u001b[0m\u001b[1;33m\u001b[0m\u001b[0m\n",
      "\u001b[1;32m~\\.conda\\envs\\mimii-tf2-gpu\\lib\\site-packages\\sklearn\\model_selection\\_split.py\u001b[0m in \u001b[0;36m_validate_shuffle_split\u001b[1;34m(n_samples, test_size, train_size, default_test_size)\u001b[0m\n\u001b[0;32m   1755\u001b[0m         raise ValueError('test_size={0} should be either positive and smaller'\n\u001b[0;32m   1756\u001b[0m                          \u001b[1;34m' than the number of samples {1} or a float in the '\u001b[0m\u001b[1;33m\u001b[0m\u001b[1;33m\u001b[0m\u001b[0m\n\u001b[1;32m-> 1757\u001b[1;33m                          '(0, 1) range'.format(test_size, n_samples))\n\u001b[0m\u001b[0;32m   1758\u001b[0m \u001b[1;33m\u001b[0m\u001b[0m\n\u001b[0;32m   1759\u001b[0m     if (train_size_type == 'i' and (train_size >= n_samples or train_size <= 0)\n",
      "\u001b[1;31mValueError\u001b[0m: test_size=2 should be either positive and smaller than the number of samples 2 or a float in the (0, 1) range"
     ]
    }
   ],
   "source": [
    "for file in files:\n",
    "    tt_split(file)\n"
   ]
  },
  {
   "cell_type": "code",
   "execution_count": 11,
   "metadata": {},
   "outputs": [
    {
     "ename": "AttributeError",
     "evalue": "Can't get attribute 'feature_extractor_type' on <module '__main__' from '..\\\\..\\\\utility\\\\modeling\\\\JupyterLoad_modeling.py'>",
     "output_type": "error",
     "traceback": [
      "\u001b[1;31m---------------------------------------------------------------------------\u001b[0m",
      "\u001b[1;31mAttributeError\u001b[0m                            Traceback (most recent call last)",
      "\u001b[1;32md:\\Capstone\\NF_Prj_MIMII_Dataset\\utility\\modeling\\JupyterLoad_modeling.py\u001b[0m in \u001b[0;36m<module>\u001b[1;34m\u001b[0m\n\u001b[0;32m      1\u001b[0m \u001b[1;32mwith\u001b[0m \u001b[0mopen\u001b[0m\u001b[1;33m(\u001b[0m\u001b[1;34m'../..//dataset\\\\extdia_v1\\\\pump6dB02_EDiaV1HPaug0_outpICA_demix.pkl'\u001b[0m\u001b[1;33m,\u001b[0m \u001b[1;34m'rb'\u001b[0m\u001b[1;33m)\u001b[0m \u001b[1;32mas\u001b[0m \u001b[0mf\u001b[0m\u001b[1;33m:\u001b[0m\u001b[1;33m\u001b[0m\u001b[1;33m\u001b[0m\u001b[0m\n\u001b[1;32m----> 2\u001b[1;33m     \u001b[0mdf\u001b[0m \u001b[1;33m=\u001b[0m \u001b[0mpickle\u001b[0m\u001b[1;33m.\u001b[0m\u001b[0mload\u001b[0m\u001b[1;33m(\u001b[0m\u001b[0mf\u001b[0m\u001b[1;33m)\u001b[0m\u001b[1;33m\u001b[0m\u001b[1;33m\u001b[0m\u001b[0m\n\u001b[0m",
      "\u001b[1;31mAttributeError\u001b[0m: Can't get attribute 'feature_extractor_type' on <module '__main__' from '..\\\\..\\\\utility\\\\modeling\\\\JupyterLoad_modeling.py'>"
     ]
    }
   ],
   "source": [
    "with open('../..//dataset\\\\extdia_v1\\\\pump6dB02_EDiaV1HPaug0_outpICA_demix.pkl', 'rb') as f:\n",
    "    df = pickle.load(f)"
   ]
  },
  {
   "cell_type": "code",
   "execution_count": 10,
   "metadata": {},
   "outputs": [
    {
     "ename": "NameError",
     "evalue": "name 'df' is not defined",
     "output_type": "error",
     "traceback": [
      "\u001b[1;31m---------------------------------------------------------------------------\u001b[0m",
      "\u001b[1;31mNameError\u001b[0m                                 Traceback (most recent call last)",
      "\u001b[1;32md:\\Capstone\\NF_Prj_MIMII_Dataset\\utility\\modeling\\JupyterLoad_modeling.py\u001b[0m in \u001b[0;36m<module>\u001b[1;34m\u001b[0m\n\u001b[1;32m----> 1\u001b[1;33m \u001b[0mdf\u001b[0m\u001b[1;33m\u001b[0m\u001b[1;33m\u001b[0m\u001b[0m\n\u001b[0m",
      "\u001b[1;31mNameError\u001b[0m: name 'df' is not defined"
     ]
    }
   ],
   "source": [
    "df"
   ]
  },
  {
   "cell_type": "code",
   "execution_count": null,
   "metadata": {},
   "outputs": [],
   "source": []
  }
 ],
 "metadata": {
  "kernelspec": {
   "display_name": "Py3.7 (mimii_base_TF2_GPU)",
   "language": "python",
   "name": "mimii-tf2-gpu"
  },
  "language_info": {
   "codemirror_mode": {
    "name": "ipython",
    "version": 3
   },
   "file_extension": ".py",
   "mimetype": "text/x-python",
   "name": "python",
   "nbconvert_exporter": "python",
   "pygments_lexer": "ipython3",
   "version": "3.7.7"
  },
  "toc": {
   "base_numbering": 1,
   "nav_menu": {},
   "number_sections": true,
   "sideBar": true,
   "skip_h1_title": true,
   "title_cell": "Table of Contents",
   "title_sidebar": "Contents",
   "toc_cell": true,
   "toc_position": {},
   "toc_section_display": true,
   "toc_window_display": false
  }
 },
 "nbformat": 4,
 "nbformat_minor": 4
}
