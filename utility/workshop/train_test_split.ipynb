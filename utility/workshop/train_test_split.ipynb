{
 "cells": [
  {
   "cell_type": "markdown",
   "metadata": {
    "toc": true
   },
   "source": [
    "<h1>Table of Contents<span class=\"tocSkip\"></span></h1>\n",
    "<div class=\"toc\"><ul class=\"toc-item\"></ul></div>"
   ]
  },
  {
   "cell_type": "markdown",
   "metadata": {},
   "source": [
    "# Introduction\n",
    "\n",
    "This notebook updates the descriptive dataframe for a subsequent modeling or evaluating task. This descriptive dataframe serves as the leading input to the modeling pipeline and contains all information that is necessary to create the training and evaluating datasets.\n",
    "\n",
    "The steps within this workflow are as follows:\n",
    "\n",
    "1. accordingly to the initialized path the function loads the descriptive dataframe\n",
    "2. the function splits the instances per SNR, per machine and per ID into training and testing and creates an additional column\n",
    "3. the column is being added to the descriptive dataframe and saved back to the location\n",
    "\n",
    "To use this notebook you will have to do the following steps:\n",
    "\n",
    "1. define the path to the descriptive dataframe (path='....')\n",
    "2. run all the cells after that"
   ]
  },
  {
   "cell_type": "code",
   "execution_count": 1,
   "metadata": {
    "ExecuteTime": {
     "end_time": "2020-04-27T09:54:56.802949Z",
     "start_time": "2020-04-27T09:54:55.050950Z"
    }
   },
   "outputs": [],
   "source": [
    "import pandas as pd\n",
    "BASE_FOLDER = '../../'\n",
    "%run -i ..\\..\\utility\\modeling\\JupyterLoad_modeling.py"
   ]
  },
  {
   "cell_type": "code",
   "execution_count": 3,
   "metadata": {
    "ExecuteTime": {
     "end_time": "2020-04-27T12:49:39.445343Z",
     "start_time": "2020-04-27T12:49:39.386672Z"
    }
   },
   "outputs": [
    {
     "output_type": "stream",
     "name": "stdout",
     "text": ".\\..\\..\\dataset\\MEL_to_Pandas\\data_6dB_pump\\FEpandas_MELv1_nm80_ch0.pkl --> Train test split already done, passed\n.\\..\\..\\dataset\\MEL_to_Pandas\\data_6dB_fan\\FEpandas_MELv1_nm80_ch0.pkl --> Done\n.\\..\\..\\dataset\\MEL_to_Pandas\\data_6dB_slider\\FEpandas_MELv1_nm80_ch0.pkl --> Done\n.\\..\\..\\dataset\\MEL_to_Pandas\\data_6dB_valve\\FEpandas_MELv1_nm80_ch0.pkl --> Done\n"
    }
   ],
   "source": [
    "machines = ['pump', 'fan', 'slider', 'valve']\n",
    "SNRs = ['6dB']\n",
    "\n",
    "for machine in machines:\n",
    "    for SNR in SNRs:\n",
    "        path = r'.\\..\\..\\dataset\\MEL_to_Pandas\\data_{}_{}\\FEpandas_MELv1_nm80_ch0.pkl'.format(SNR, machine)\n",
    "        tt_split(path)"
   ]
  },
  {
   "cell_type": "code",
   "execution_count": 3,
   "metadata": {},
   "outputs": [],
   "source": [
    "table = pd.read_pickle(path)"
   ]
  },
  {
   "cell_type": "code",
   "execution_count": 4,
   "metadata": {},
   "outputs": [
    {
     "output_type": "execute_result",
     "data": {
      "text/plain": "                                                   path abnormal  ID  \\\n0     d:\\Capstone\\NF_Prj_MIMII_Dataset\\dataset\\6dB\\p...        0  00   \n1     d:\\Capstone\\NF_Prj_MIMII_Dataset\\dataset\\6dB\\p...        0  00   \n2     d:\\Capstone\\NF_Prj_MIMII_Dataset\\dataset\\6dB\\p...        0  00   \n3     d:\\Capstone\\NF_Prj_MIMII_Dataset\\dataset\\6dB\\p...        0  00   \n4     d:\\Capstone\\NF_Prj_MIMII_Dataset\\dataset\\6dB\\p...        0  00   \n...                                                 ...      ...  ..   \n4200  d:\\Capstone\\NF_Prj_MIMII_Dataset\\dataset\\6dB\\p...        1  06   \n4201  d:\\Capstone\\NF_Prj_MIMII_Dataset\\dataset\\6dB\\p...        1  06   \n4202  d:\\Capstone\\NF_Prj_MIMII_Dataset\\dataset\\6dB\\p...        1  06   \n4203  d:\\Capstone\\NF_Prj_MIMII_Dataset\\dataset\\6dB\\p...        1  06   \n4204  d:\\Capstone\\NF_Prj_MIMII_Dataset\\dataset\\6dB\\p...        1  06   \n\n          file machine  SNR  \\\n0     00000000    pump  6dB   \n1     00000001    pump  6dB   \n2     00000002    pump  6dB   \n3     00000003    pump  6dB   \n4     00000004    pump  6dB   \n...        ...     ...  ...   \n4200  00000097    pump  6dB   \n4201  00000098    pump  6dB   \n4202  00000099    pump  6dB   \n4203  00000100    pump  6dB   \n4204  00000101    pump  6dB   \n\n                                         MELv1_nm80_ch0  train_set  \n0     \\dataset\\MEL_to_Pandas\\data_6dB_pump\\MELv1_nm8...          1  \n1     \\dataset\\MEL_to_Pandas\\data_6dB_pump\\MELv1_nm8...          1  \n2     \\dataset\\MEL_to_Pandas\\data_6dB_pump\\MELv1_nm8...          1  \n3     \\dataset\\MEL_to_Pandas\\data_6dB_pump\\MELv1_nm8...          1  \n4     \\dataset\\MEL_to_Pandas\\data_6dB_pump\\MELv1_nm8...          1  \n...                                                 ...        ...  \n4200  \\dataset\\MEL_to_Pandas\\data_6dB_pump\\MELv1_nm8...          0  \n4201  \\dataset\\MEL_to_Pandas\\data_6dB_pump\\MELv1_nm8...          0  \n4202  \\dataset\\MEL_to_Pandas\\data_6dB_pump\\MELv1_nm8...          0  \n4203  \\dataset\\MEL_to_Pandas\\data_6dB_pump\\MELv1_nm8...          0  \n4204  \\dataset\\MEL_to_Pandas\\data_6dB_pump\\MELv1_nm8...          0  \n\n[4205 rows x 8 columns]",
      "text/html": "<div>\n<style scoped>\n    .dataframe tbody tr th:only-of-type {\n        vertical-align: middle;\n    }\n\n    .dataframe tbody tr th {\n        vertical-align: top;\n    }\n\n    .dataframe thead th {\n        text-align: right;\n    }\n</style>\n<table border=\"1\" class=\"dataframe\">\n  <thead>\n    <tr style=\"text-align: right;\">\n      <th></th>\n      <th>path</th>\n      <th>abnormal</th>\n      <th>ID</th>\n      <th>file</th>\n      <th>machine</th>\n      <th>SNR</th>\n      <th>MELv1_nm80_ch0</th>\n      <th>train_set</th>\n    </tr>\n  </thead>\n  <tbody>\n    <tr>\n      <th>0</th>\n      <td>d:\\Capstone\\NF_Prj_MIMII_Dataset\\dataset\\6dB\\p...</td>\n      <td>0</td>\n      <td>00</td>\n      <td>00000000</td>\n      <td>pump</td>\n      <td>6dB</td>\n      <td>\\dataset\\MEL_to_Pandas\\data_6dB_pump\\MELv1_nm8...</td>\n      <td>1</td>\n    </tr>\n    <tr>\n      <th>1</th>\n      <td>d:\\Capstone\\NF_Prj_MIMII_Dataset\\dataset\\6dB\\p...</td>\n      <td>0</td>\n      <td>00</td>\n      <td>00000001</td>\n      <td>pump</td>\n      <td>6dB</td>\n      <td>\\dataset\\MEL_to_Pandas\\data_6dB_pump\\MELv1_nm8...</td>\n      <td>1</td>\n    </tr>\n    <tr>\n      <th>2</th>\n      <td>d:\\Capstone\\NF_Prj_MIMII_Dataset\\dataset\\6dB\\p...</td>\n      <td>0</td>\n      <td>00</td>\n      <td>00000002</td>\n      <td>pump</td>\n      <td>6dB</td>\n      <td>\\dataset\\MEL_to_Pandas\\data_6dB_pump\\MELv1_nm8...</td>\n      <td>1</td>\n    </tr>\n    <tr>\n      <th>3</th>\n      <td>d:\\Capstone\\NF_Prj_MIMII_Dataset\\dataset\\6dB\\p...</td>\n      <td>0</td>\n      <td>00</td>\n      <td>00000003</td>\n      <td>pump</td>\n      <td>6dB</td>\n      <td>\\dataset\\MEL_to_Pandas\\data_6dB_pump\\MELv1_nm8...</td>\n      <td>1</td>\n    </tr>\n    <tr>\n      <th>4</th>\n      <td>d:\\Capstone\\NF_Prj_MIMII_Dataset\\dataset\\6dB\\p...</td>\n      <td>0</td>\n      <td>00</td>\n      <td>00000004</td>\n      <td>pump</td>\n      <td>6dB</td>\n      <td>\\dataset\\MEL_to_Pandas\\data_6dB_pump\\MELv1_nm8...</td>\n      <td>1</td>\n    </tr>\n    <tr>\n      <th>...</th>\n      <td>...</td>\n      <td>...</td>\n      <td>...</td>\n      <td>...</td>\n      <td>...</td>\n      <td>...</td>\n      <td>...</td>\n      <td>...</td>\n    </tr>\n    <tr>\n      <th>4200</th>\n      <td>d:\\Capstone\\NF_Prj_MIMII_Dataset\\dataset\\6dB\\p...</td>\n      <td>1</td>\n      <td>06</td>\n      <td>00000097</td>\n      <td>pump</td>\n      <td>6dB</td>\n      <td>\\dataset\\MEL_to_Pandas\\data_6dB_pump\\MELv1_nm8...</td>\n      <td>0</td>\n    </tr>\n    <tr>\n      <th>4201</th>\n      <td>d:\\Capstone\\NF_Prj_MIMII_Dataset\\dataset\\6dB\\p...</td>\n      <td>1</td>\n      <td>06</td>\n      <td>00000098</td>\n      <td>pump</td>\n      <td>6dB</td>\n      <td>\\dataset\\MEL_to_Pandas\\data_6dB_pump\\MELv1_nm8...</td>\n      <td>0</td>\n    </tr>\n    <tr>\n      <th>4202</th>\n      <td>d:\\Capstone\\NF_Prj_MIMII_Dataset\\dataset\\6dB\\p...</td>\n      <td>1</td>\n      <td>06</td>\n      <td>00000099</td>\n      <td>pump</td>\n      <td>6dB</td>\n      <td>\\dataset\\MEL_to_Pandas\\data_6dB_pump\\MELv1_nm8...</td>\n      <td>0</td>\n    </tr>\n    <tr>\n      <th>4203</th>\n      <td>d:\\Capstone\\NF_Prj_MIMII_Dataset\\dataset\\6dB\\p...</td>\n      <td>1</td>\n      <td>06</td>\n      <td>00000100</td>\n      <td>pump</td>\n      <td>6dB</td>\n      <td>\\dataset\\MEL_to_Pandas\\data_6dB_pump\\MELv1_nm8...</td>\n      <td>0</td>\n    </tr>\n    <tr>\n      <th>4204</th>\n      <td>d:\\Capstone\\NF_Prj_MIMII_Dataset\\dataset\\6dB\\p...</td>\n      <td>1</td>\n      <td>06</td>\n      <td>00000101</td>\n      <td>pump</td>\n      <td>6dB</td>\n      <td>\\dataset\\MEL_to_Pandas\\data_6dB_pump\\MELv1_nm8...</td>\n      <td>0</td>\n    </tr>\n  </tbody>\n</table>\n<p>4205 rows × 8 columns</p>\n</div>"
     },
     "metadata": {},
     "execution_count": 4
    }
   ],
   "source": [
    "table"
   ]
  },
  {
   "cell_type": "code",
   "execution_count": null,
   "metadata": {},
   "outputs": [],
   "source": []
  }
 ],
 "metadata": {
  "kernelspec": {
   "display_name": "Py3.7 (mimii_base_TF2_GPU)",
   "language": "python",
   "name": "mimii-tf2-gpu"
  },
  "language_info": {
   "codemirror_mode": {
    "name": "ipython",
    "version": 3
   },
   "file_extension": ".py",
   "mimetype": "text/x-python",
   "name": "python",
   "nbconvert_exporter": "python",
   "pygments_lexer": "ipython3",
   "version": "3.7.7-final"
  },
  "toc": {
   "base_numbering": 1,
   "nav_menu": {},
   "number_sections": true,
   "sideBar": true,
   "skip_h1_title": true,
   "title_cell": "Table of Contents",
   "title_sidebar": "Contents",
   "toc_cell": true,
   "toc_position": {},
   "toc_section_display": true,
   "toc_window_display": false
  }
 },
 "nbformat": 4,
 "nbformat_minor": 4
}