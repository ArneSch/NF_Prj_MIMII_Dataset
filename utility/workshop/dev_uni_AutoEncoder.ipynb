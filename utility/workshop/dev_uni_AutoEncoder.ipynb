{
 "cells": [
  {
   "cell_type": "markdown",
   "metadata": {
    "toc": true
   },
   "source": [
    "<h1>Table of Contents<span class=\"tocSkip\"></span></h1>\n",
    "<div class=\"toc\"><ul class=\"toc-item\"></ul></div>"
   ]
  },
  {
   "cell_type": "code",
   "execution_count": 180,
   "metadata": {
    "ExecuteTime": {
     "end_time": "2020-04-27T09:54:56.802949Z",
     "start_time": "2020-04-27T09:54:55.050950Z"
    }
   },
   "outputs": [
    {
     "output_type": "stream",
     "name": "stdout",
     "text": "load feature_extractor_mother\nload feature_extractor_mel_spectra\nload feature_extractor_psd\nload feature_extractor_ICA2\nload feature_extractore_pre_nnFilterDenoise\nload extractor_diagram_mother\nload Simple_FIR_HP\nload TimeSliceAppendActivation\nload load_data\nLoad split_data\nLoad anomaly_detection_models\nLoad pseudo_supervised_models\nLoad detection_pipe\nLoad anomaly_detection_models\n"
    }
   ],
   "source": [
    "import pandas as pd\n",
    "import os\n",
    "import tensorflow as tf\n",
    "BASE_FOLDER = '../../'\n",
    "%run -i ..\\..\\utility\\feature_extractor\\JupyterLoad_feature_extractor.py\n",
    "%run -i ..\\..\\utility\\modeling\\JupyterLoad_modeling.py\n",
    "%run -i ..\\..\\utility\\modeling\\ann_models.py"
   ]
  },
  {
   "cell_type": "code",
   "execution_count": 181,
   "metadata": {},
   "outputs": [],
   "source": [
    "path_r = './../../dataset/extdia_v1/fanmin6dB00_EDiaV1HP_pandaDisc.pkl'\n",
    "path_p = 'dataset/extdia_v1/fanmin6dB00_EDiaV1HP_pandaDisc.pkl'\n",
    "table = pd.read_pickle(path_r)"
   ]
  },
  {
   "cell_type": "code",
   "execution_count": 182,
   "metadata": {},
   "outputs": [
    {
     "output_type": "execute_result",
     "data": {
      "text/plain": "                                                 path  abnormal  datafile_idx  \\\n0     \\dataset\\min6dB\\fan\\id_00\\abnormal\\00000000.wav       1.0             0   \n1     \\dataset\\min6dB\\fan\\id_00\\abnormal\\00000007.wav       1.0             1   \n2     \\dataset\\min6dB\\fan\\id_00\\abnormal\\00000015.wav       1.0             2   \n3     \\dataset\\min6dB\\fan\\id_00\\abnormal\\00000024.wav       1.0             3   \n4     \\dataset\\min6dB\\fan\\id_00\\abnormal\\00000030.wav       1.0             4   \n...                                               ...       ...           ...   \n1413    \\dataset\\min6dB\\fan\\id_00\\normal\\00000973.wav       0.0          1413   \n1414    \\dataset\\min6dB\\fan\\id_00\\normal\\00000978.wav       0.0          1414   \n1415    \\dataset\\min6dB\\fan\\id_00\\normal\\00000984.wav       0.0          1415   \n1416    \\dataset\\min6dB\\fan\\id_00\\normal\\00000991.wav       0.0          1416   \n1417    \\dataset\\min6dB\\fan\\id_00\\normal\\00001000.wav       0.0          1417   \n\n                                            MEL_denbssm  \\\n0     \\dataset\\extdia_v1\\fanmin6dB00_EDiaV1HP_outpME...   \n1     \\dataset\\extdia_v1\\fanmin6dB00_EDiaV1HP_outpME...   \n2     \\dataset\\extdia_v1\\fanmin6dB00_EDiaV1HP_outpME...   \n3     \\dataset\\extdia_v1\\fanmin6dB00_EDiaV1HP_outpME...   \n4     \\dataset\\extdia_v1\\fanmin6dB00_EDiaV1HP_outpME...   \n...                                                 ...   \n1413  \\dataset\\extdia_v1\\fanmin6dB00_EDiaV1HP_outpME...   \n1414  \\dataset\\extdia_v1\\fanmin6dB00_EDiaV1HP_outpME...   \n1415  \\dataset\\extdia_v1\\fanmin6dB00_EDiaV1HP_outpME...   \n1416  \\dataset\\extdia_v1\\fanmin6dB00_EDiaV1HP_outpME...   \n1417  \\dataset\\extdia_v1\\fanmin6dB00_EDiaV1HP_outpME...   \n\n                                            PSD_denbssm  \\\n0     \\dataset\\extdia_v1\\fanmin6dB00_EDiaV1HP_outpPS...   \n1     \\dataset\\extdia_v1\\fanmin6dB00_EDiaV1HP_outpPS...   \n2     \\dataset\\extdia_v1\\fanmin6dB00_EDiaV1HP_outpPS...   \n3     \\dataset\\extdia_v1\\fanmin6dB00_EDiaV1HP_outpPS...   \n4     \\dataset\\extdia_v1\\fanmin6dB00_EDiaV1HP_outpPS...   \n...                                                 ...   \n1413  \\dataset\\extdia_v1\\fanmin6dB00_EDiaV1HP_outpPS...   \n1414  \\dataset\\extdia_v1\\fanmin6dB00_EDiaV1HP_outpPS...   \n1415  \\dataset\\extdia_v1\\fanmin6dB00_EDiaV1HP_outpPS...   \n1416  \\dataset\\extdia_v1\\fanmin6dB00_EDiaV1HP_outpPS...   \n1417  \\dataset\\extdia_v1\\fanmin6dB00_EDiaV1HP_outpPS...   \n\n                                               MEL_bssm  \\\n0     \\dataset\\extdia_v1\\fanmin6dB00_EDiaV1HP_outpME...   \n1     \\dataset\\extdia_v1\\fanmin6dB00_EDiaV1HP_outpME...   \n2     \\dataset\\extdia_v1\\fanmin6dB00_EDiaV1HP_outpME...   \n3     \\dataset\\extdia_v1\\fanmin6dB00_EDiaV1HP_outpME...   \n4     \\dataset\\extdia_v1\\fanmin6dB00_EDiaV1HP_outpME...   \n...                                                 ...   \n1413  \\dataset\\extdia_v1\\fanmin6dB00_EDiaV1HP_outpME...   \n1414  \\dataset\\extdia_v1\\fanmin6dB00_EDiaV1HP_outpME...   \n1415  \\dataset\\extdia_v1\\fanmin6dB00_EDiaV1HP_outpME...   \n1416  \\dataset\\extdia_v1\\fanmin6dB00_EDiaV1HP_outpME...   \n1417  \\dataset\\extdia_v1\\fanmin6dB00_EDiaV1HP_outpME...   \n\n                                               PSD_bssm  \\\n0     \\dataset\\extdia_v1\\fanmin6dB00_EDiaV1HP_outpPS...   \n1     \\dataset\\extdia_v1\\fanmin6dB00_EDiaV1HP_outpPS...   \n2     \\dataset\\extdia_v1\\fanmin6dB00_EDiaV1HP_outpPS...   \n3     \\dataset\\extdia_v1\\fanmin6dB00_EDiaV1HP_outpPS...   \n4     \\dataset\\extdia_v1\\fanmin6dB00_EDiaV1HP_outpPS...   \n...                                                 ...   \n1413  \\dataset\\extdia_v1\\fanmin6dB00_EDiaV1HP_outpPS...   \n1414  \\dataset\\extdia_v1\\fanmin6dB00_EDiaV1HP_outpPS...   \n1415  \\dataset\\extdia_v1\\fanmin6dB00_EDiaV1HP_outpPS...   \n1416  \\dataset\\extdia_v1\\fanmin6dB00_EDiaV1HP_outpPS...   \n1417  \\dataset\\extdia_v1\\fanmin6dB00_EDiaV1HP_outpPS...   \n\n                                                MEL_raw  \\\n0     \\dataset\\extdia_v1\\fanmin6dB00_EDiaV1HP_outpME...   \n1     \\dataset\\extdia_v1\\fanmin6dB00_EDiaV1HP_outpME...   \n2     \\dataset\\extdia_v1\\fanmin6dB00_EDiaV1HP_outpME...   \n3     \\dataset\\extdia_v1\\fanmin6dB00_EDiaV1HP_outpME...   \n4     \\dataset\\extdia_v1\\fanmin6dB00_EDiaV1HP_outpME...   \n...                                                 ...   \n1413  \\dataset\\extdia_v1\\fanmin6dB00_EDiaV1HP_outpME...   \n1414  \\dataset\\extdia_v1\\fanmin6dB00_EDiaV1HP_outpME...   \n1415  \\dataset\\extdia_v1\\fanmin6dB00_EDiaV1HP_outpME...   \n1416  \\dataset\\extdia_v1\\fanmin6dB00_EDiaV1HP_outpME...   \n1417  \\dataset\\extdia_v1\\fanmin6dB00_EDiaV1HP_outpME...   \n\n                                                PSD_raw  \\\n0     \\dataset\\extdia_v1\\fanmin6dB00_EDiaV1HP_outpPS...   \n1     \\dataset\\extdia_v1\\fanmin6dB00_EDiaV1HP_outpPS...   \n2     \\dataset\\extdia_v1\\fanmin6dB00_EDiaV1HP_outpPS...   \n3     \\dataset\\extdia_v1\\fanmin6dB00_EDiaV1HP_outpPS...   \n4     \\dataset\\extdia_v1\\fanmin6dB00_EDiaV1HP_outpPS...   \n...                                                 ...   \n1413  \\dataset\\extdia_v1\\fanmin6dB00_EDiaV1HP_outpPS...   \n1414  \\dataset\\extdia_v1\\fanmin6dB00_EDiaV1HP_outpPS...   \n1415  \\dataset\\extdia_v1\\fanmin6dB00_EDiaV1HP_outpPS...   \n1416  \\dataset\\extdia_v1\\fanmin6dB00_EDiaV1HP_outpPS...   \n1417  \\dataset\\extdia_v1\\fanmin6dB00_EDiaV1HP_outpPS...   \n\n                                                MEL_den  \\\n0     \\dataset\\extdia_v1\\fanmin6dB00_EDiaV1HP_outpME...   \n1     \\dataset\\extdia_v1\\fanmin6dB00_EDiaV1HP_outpME...   \n2     \\dataset\\extdia_v1\\fanmin6dB00_EDiaV1HP_outpME...   \n3     \\dataset\\extdia_v1\\fanmin6dB00_EDiaV1HP_outpME...   \n4     \\dataset\\extdia_v1\\fanmin6dB00_EDiaV1HP_outpME...   \n...                                                 ...   \n1413  \\dataset\\extdia_v1\\fanmin6dB00_EDiaV1HP_outpME...   \n1414  \\dataset\\extdia_v1\\fanmin6dB00_EDiaV1HP_outpME...   \n1415  \\dataset\\extdia_v1\\fanmin6dB00_EDiaV1HP_outpME...   \n1416  \\dataset\\extdia_v1\\fanmin6dB00_EDiaV1HP_outpME...   \n1417  \\dataset\\extdia_v1\\fanmin6dB00_EDiaV1HP_outpME...   \n\n                                                PSD_den  \\\n0     \\dataset\\extdia_v1\\fanmin6dB00_EDiaV1HP_outpPS...   \n1     \\dataset\\extdia_v1\\fanmin6dB00_EDiaV1HP_outpPS...   \n2     \\dataset\\extdia_v1\\fanmin6dB00_EDiaV1HP_outpPS...   \n3     \\dataset\\extdia_v1\\fanmin6dB00_EDiaV1HP_outpPS...   \n4     \\dataset\\extdia_v1\\fanmin6dB00_EDiaV1HP_outpPS...   \n...                                                 ...   \n1413  \\dataset\\extdia_v1\\fanmin6dB00_EDiaV1HP_outpPS...   \n1414  \\dataset\\extdia_v1\\fanmin6dB00_EDiaV1HP_outpPS...   \n1415  \\dataset\\extdia_v1\\fanmin6dB00_EDiaV1HP_outpPS...   \n1416  \\dataset\\extdia_v1\\fanmin6dB00_EDiaV1HP_outpPS...   \n1417  \\dataset\\extdia_v1\\fanmin6dB00_EDiaV1HP_outpPS...   \n\n                                              ICA_demix     SNR machine  ID  \\\n0     \\dataset\\extdia_v1\\fanmin6dB00_EDiaV1HP_outpIC...  min6dB     fan  00   \n1     \\dataset\\extdia_v1\\fanmin6dB00_EDiaV1HP_outpIC...  min6dB     fan  00   \n2     \\dataset\\extdia_v1\\fanmin6dB00_EDiaV1HP_outpIC...  min6dB     fan  00   \n3     \\dataset\\extdia_v1\\fanmin6dB00_EDiaV1HP_outpIC...  min6dB     fan  00   \n4     \\dataset\\extdia_v1\\fanmin6dB00_EDiaV1HP_outpIC...  min6dB     fan  00   \n...                                                 ...     ...     ...  ..   \n1413  \\dataset\\extdia_v1\\fanmin6dB00_EDiaV1HP_outpIC...  min6dB     fan  00   \n1414  \\dataset\\extdia_v1\\fanmin6dB00_EDiaV1HP_outpIC...  min6dB     fan  00   \n1415  \\dataset\\extdia_v1\\fanmin6dB00_EDiaV1HP_outpIC...  min6dB     fan  00   \n1416  \\dataset\\extdia_v1\\fanmin6dB00_EDiaV1HP_outpIC...  min6dB     fan  00   \n1417  \\dataset\\extdia_v1\\fanmin6dB00_EDiaV1HP_outpIC...  min6dB     fan  00   \n\n      train_set  \n0             0  \n1             0  \n2             0  \n3             0  \n4             0  \n...         ...  \n1413          1  \n1414          1  \n1415          0  \n1416          1  \n1417          1  \n\n[1418 rows x 16 columns]",
      "text/html": "<div>\n<style scoped>\n    .dataframe tbody tr th:only-of-type {\n        vertical-align: middle;\n    }\n\n    .dataframe tbody tr th {\n        vertical-align: top;\n    }\n\n    .dataframe thead th {\n        text-align: right;\n    }\n</style>\n<table border=\"1\" class=\"dataframe\">\n  <thead>\n    <tr style=\"text-align: right;\">\n      <th></th>\n      <th>path</th>\n      <th>abnormal</th>\n      <th>datafile_idx</th>\n      <th>MEL_denbssm</th>\n      <th>PSD_denbssm</th>\n      <th>MEL_bssm</th>\n      <th>PSD_bssm</th>\n      <th>MEL_raw</th>\n      <th>PSD_raw</th>\n      <th>MEL_den</th>\n      <th>PSD_den</th>\n      <th>ICA_demix</th>\n      <th>SNR</th>\n      <th>machine</th>\n      <th>ID</th>\n      <th>train_set</th>\n    </tr>\n  </thead>\n  <tbody>\n    <tr>\n      <th>0</th>\n      <td>\\dataset\\min6dB\\fan\\id_00\\abnormal\\00000000.wav</td>\n      <td>1.0</td>\n      <td>0</td>\n      <td>\\dataset\\extdia_v1\\fanmin6dB00_EDiaV1HP_outpME...</td>\n      <td>\\dataset\\extdia_v1\\fanmin6dB00_EDiaV1HP_outpPS...</td>\n      <td>\\dataset\\extdia_v1\\fanmin6dB00_EDiaV1HP_outpME...</td>\n      <td>\\dataset\\extdia_v1\\fanmin6dB00_EDiaV1HP_outpPS...</td>\n      <td>\\dataset\\extdia_v1\\fanmin6dB00_EDiaV1HP_outpME...</td>\n      <td>\\dataset\\extdia_v1\\fanmin6dB00_EDiaV1HP_outpPS...</td>\n      <td>\\dataset\\extdia_v1\\fanmin6dB00_EDiaV1HP_outpME...</td>\n      <td>\\dataset\\extdia_v1\\fanmin6dB00_EDiaV1HP_outpPS...</td>\n      <td>\\dataset\\extdia_v1\\fanmin6dB00_EDiaV1HP_outpIC...</td>\n      <td>min6dB</td>\n      <td>fan</td>\n      <td>00</td>\n      <td>0</td>\n    </tr>\n    <tr>\n      <th>1</th>\n      <td>\\dataset\\min6dB\\fan\\id_00\\abnormal\\00000007.wav</td>\n      <td>1.0</td>\n      <td>1</td>\n      <td>\\dataset\\extdia_v1\\fanmin6dB00_EDiaV1HP_outpME...</td>\n      <td>\\dataset\\extdia_v1\\fanmin6dB00_EDiaV1HP_outpPS...</td>\n      <td>\\dataset\\extdia_v1\\fanmin6dB00_EDiaV1HP_outpME...</td>\n      <td>\\dataset\\extdia_v1\\fanmin6dB00_EDiaV1HP_outpPS...</td>\n      <td>\\dataset\\extdia_v1\\fanmin6dB00_EDiaV1HP_outpME...</td>\n      <td>\\dataset\\extdia_v1\\fanmin6dB00_EDiaV1HP_outpPS...</td>\n      <td>\\dataset\\extdia_v1\\fanmin6dB00_EDiaV1HP_outpME...</td>\n      <td>\\dataset\\extdia_v1\\fanmin6dB00_EDiaV1HP_outpPS...</td>\n      <td>\\dataset\\extdia_v1\\fanmin6dB00_EDiaV1HP_outpIC...</td>\n      <td>min6dB</td>\n      <td>fan</td>\n      <td>00</td>\n      <td>0</td>\n    </tr>\n    <tr>\n      <th>2</th>\n      <td>\\dataset\\min6dB\\fan\\id_00\\abnormal\\00000015.wav</td>\n      <td>1.0</td>\n      <td>2</td>\n      <td>\\dataset\\extdia_v1\\fanmin6dB00_EDiaV1HP_outpME...</td>\n      <td>\\dataset\\extdia_v1\\fanmin6dB00_EDiaV1HP_outpPS...</td>\n      <td>\\dataset\\extdia_v1\\fanmin6dB00_EDiaV1HP_outpME...</td>\n      <td>\\dataset\\extdia_v1\\fanmin6dB00_EDiaV1HP_outpPS...</td>\n      <td>\\dataset\\extdia_v1\\fanmin6dB00_EDiaV1HP_outpME...</td>\n      <td>\\dataset\\extdia_v1\\fanmin6dB00_EDiaV1HP_outpPS...</td>\n      <td>\\dataset\\extdia_v1\\fanmin6dB00_EDiaV1HP_outpME...</td>\n      <td>\\dataset\\extdia_v1\\fanmin6dB00_EDiaV1HP_outpPS...</td>\n      <td>\\dataset\\extdia_v1\\fanmin6dB00_EDiaV1HP_outpIC...</td>\n      <td>min6dB</td>\n      <td>fan</td>\n      <td>00</td>\n      <td>0</td>\n    </tr>\n    <tr>\n      <th>3</th>\n      <td>\\dataset\\min6dB\\fan\\id_00\\abnormal\\00000024.wav</td>\n      <td>1.0</td>\n      <td>3</td>\n      <td>\\dataset\\extdia_v1\\fanmin6dB00_EDiaV1HP_outpME...</td>\n      <td>\\dataset\\extdia_v1\\fanmin6dB00_EDiaV1HP_outpPS...</td>\n      <td>\\dataset\\extdia_v1\\fanmin6dB00_EDiaV1HP_outpME...</td>\n      <td>\\dataset\\extdia_v1\\fanmin6dB00_EDiaV1HP_outpPS...</td>\n      <td>\\dataset\\extdia_v1\\fanmin6dB00_EDiaV1HP_outpME...</td>\n      <td>\\dataset\\extdia_v1\\fanmin6dB00_EDiaV1HP_outpPS...</td>\n      <td>\\dataset\\extdia_v1\\fanmin6dB00_EDiaV1HP_outpME...</td>\n      <td>\\dataset\\extdia_v1\\fanmin6dB00_EDiaV1HP_outpPS...</td>\n      <td>\\dataset\\extdia_v1\\fanmin6dB00_EDiaV1HP_outpIC...</td>\n      <td>min6dB</td>\n      <td>fan</td>\n      <td>00</td>\n      <td>0</td>\n    </tr>\n    <tr>\n      <th>4</th>\n      <td>\\dataset\\min6dB\\fan\\id_00\\abnormal\\00000030.wav</td>\n      <td>1.0</td>\n      <td>4</td>\n      <td>\\dataset\\extdia_v1\\fanmin6dB00_EDiaV1HP_outpME...</td>\n      <td>\\dataset\\extdia_v1\\fanmin6dB00_EDiaV1HP_outpPS...</td>\n      <td>\\dataset\\extdia_v1\\fanmin6dB00_EDiaV1HP_outpME...</td>\n      <td>\\dataset\\extdia_v1\\fanmin6dB00_EDiaV1HP_outpPS...</td>\n      <td>\\dataset\\extdia_v1\\fanmin6dB00_EDiaV1HP_outpME...</td>\n      <td>\\dataset\\extdia_v1\\fanmin6dB00_EDiaV1HP_outpPS...</td>\n      <td>\\dataset\\extdia_v1\\fanmin6dB00_EDiaV1HP_outpME...</td>\n      <td>\\dataset\\extdia_v1\\fanmin6dB00_EDiaV1HP_outpPS...</td>\n      <td>\\dataset\\extdia_v1\\fanmin6dB00_EDiaV1HP_outpIC...</td>\n      <td>min6dB</td>\n      <td>fan</td>\n      <td>00</td>\n      <td>0</td>\n    </tr>\n    <tr>\n      <th>...</th>\n      <td>...</td>\n      <td>...</td>\n      <td>...</td>\n      <td>...</td>\n      <td>...</td>\n      <td>...</td>\n      <td>...</td>\n      <td>...</td>\n      <td>...</td>\n      <td>...</td>\n      <td>...</td>\n      <td>...</td>\n      <td>...</td>\n      <td>...</td>\n      <td>...</td>\n      <td>...</td>\n    </tr>\n    <tr>\n      <th>1413</th>\n      <td>\\dataset\\min6dB\\fan\\id_00\\normal\\00000973.wav</td>\n      <td>0.0</td>\n      <td>1413</td>\n      <td>\\dataset\\extdia_v1\\fanmin6dB00_EDiaV1HP_outpME...</td>\n      <td>\\dataset\\extdia_v1\\fanmin6dB00_EDiaV1HP_outpPS...</td>\n      <td>\\dataset\\extdia_v1\\fanmin6dB00_EDiaV1HP_outpME...</td>\n      <td>\\dataset\\extdia_v1\\fanmin6dB00_EDiaV1HP_outpPS...</td>\n      <td>\\dataset\\extdia_v1\\fanmin6dB00_EDiaV1HP_outpME...</td>\n      <td>\\dataset\\extdia_v1\\fanmin6dB00_EDiaV1HP_outpPS...</td>\n      <td>\\dataset\\extdia_v1\\fanmin6dB00_EDiaV1HP_outpME...</td>\n      <td>\\dataset\\extdia_v1\\fanmin6dB00_EDiaV1HP_outpPS...</td>\n      <td>\\dataset\\extdia_v1\\fanmin6dB00_EDiaV1HP_outpIC...</td>\n      <td>min6dB</td>\n      <td>fan</td>\n      <td>00</td>\n      <td>1</td>\n    </tr>\n    <tr>\n      <th>1414</th>\n      <td>\\dataset\\min6dB\\fan\\id_00\\normal\\00000978.wav</td>\n      <td>0.0</td>\n      <td>1414</td>\n      <td>\\dataset\\extdia_v1\\fanmin6dB00_EDiaV1HP_outpME...</td>\n      <td>\\dataset\\extdia_v1\\fanmin6dB00_EDiaV1HP_outpPS...</td>\n      <td>\\dataset\\extdia_v1\\fanmin6dB00_EDiaV1HP_outpME...</td>\n      <td>\\dataset\\extdia_v1\\fanmin6dB00_EDiaV1HP_outpPS...</td>\n      <td>\\dataset\\extdia_v1\\fanmin6dB00_EDiaV1HP_outpME...</td>\n      <td>\\dataset\\extdia_v1\\fanmin6dB00_EDiaV1HP_outpPS...</td>\n      <td>\\dataset\\extdia_v1\\fanmin6dB00_EDiaV1HP_outpME...</td>\n      <td>\\dataset\\extdia_v1\\fanmin6dB00_EDiaV1HP_outpPS...</td>\n      <td>\\dataset\\extdia_v1\\fanmin6dB00_EDiaV1HP_outpIC...</td>\n      <td>min6dB</td>\n      <td>fan</td>\n      <td>00</td>\n      <td>1</td>\n    </tr>\n    <tr>\n      <th>1415</th>\n      <td>\\dataset\\min6dB\\fan\\id_00\\normal\\00000984.wav</td>\n      <td>0.0</td>\n      <td>1415</td>\n      <td>\\dataset\\extdia_v1\\fanmin6dB00_EDiaV1HP_outpME...</td>\n      <td>\\dataset\\extdia_v1\\fanmin6dB00_EDiaV1HP_outpPS...</td>\n      <td>\\dataset\\extdia_v1\\fanmin6dB00_EDiaV1HP_outpME...</td>\n      <td>\\dataset\\extdia_v1\\fanmin6dB00_EDiaV1HP_outpPS...</td>\n      <td>\\dataset\\extdia_v1\\fanmin6dB00_EDiaV1HP_outpME...</td>\n      <td>\\dataset\\extdia_v1\\fanmin6dB00_EDiaV1HP_outpPS...</td>\n      <td>\\dataset\\extdia_v1\\fanmin6dB00_EDiaV1HP_outpME...</td>\n      <td>\\dataset\\extdia_v1\\fanmin6dB00_EDiaV1HP_outpPS...</td>\n      <td>\\dataset\\extdia_v1\\fanmin6dB00_EDiaV1HP_outpIC...</td>\n      <td>min6dB</td>\n      <td>fan</td>\n      <td>00</td>\n      <td>0</td>\n    </tr>\n    <tr>\n      <th>1416</th>\n      <td>\\dataset\\min6dB\\fan\\id_00\\normal\\00000991.wav</td>\n      <td>0.0</td>\n      <td>1416</td>\n      <td>\\dataset\\extdia_v1\\fanmin6dB00_EDiaV1HP_outpME...</td>\n      <td>\\dataset\\extdia_v1\\fanmin6dB00_EDiaV1HP_outpPS...</td>\n      <td>\\dataset\\extdia_v1\\fanmin6dB00_EDiaV1HP_outpME...</td>\n      <td>\\dataset\\extdia_v1\\fanmin6dB00_EDiaV1HP_outpPS...</td>\n      <td>\\dataset\\extdia_v1\\fanmin6dB00_EDiaV1HP_outpME...</td>\n      <td>\\dataset\\extdia_v1\\fanmin6dB00_EDiaV1HP_outpPS...</td>\n      <td>\\dataset\\extdia_v1\\fanmin6dB00_EDiaV1HP_outpME...</td>\n      <td>\\dataset\\extdia_v1\\fanmin6dB00_EDiaV1HP_outpPS...</td>\n      <td>\\dataset\\extdia_v1\\fanmin6dB00_EDiaV1HP_outpIC...</td>\n      <td>min6dB</td>\n      <td>fan</td>\n      <td>00</td>\n      <td>1</td>\n    </tr>\n    <tr>\n      <th>1417</th>\n      <td>\\dataset\\min6dB\\fan\\id_00\\normal\\00001000.wav</td>\n      <td>0.0</td>\n      <td>1417</td>\n      <td>\\dataset\\extdia_v1\\fanmin6dB00_EDiaV1HP_outpME...</td>\n      <td>\\dataset\\extdia_v1\\fanmin6dB00_EDiaV1HP_outpPS...</td>\n      <td>\\dataset\\extdia_v1\\fanmin6dB00_EDiaV1HP_outpME...</td>\n      <td>\\dataset\\extdia_v1\\fanmin6dB00_EDiaV1HP_outpPS...</td>\n      <td>\\dataset\\extdia_v1\\fanmin6dB00_EDiaV1HP_outpME...</td>\n      <td>\\dataset\\extdia_v1\\fanmin6dB00_EDiaV1HP_outpPS...</td>\n      <td>\\dataset\\extdia_v1\\fanmin6dB00_EDiaV1HP_outpME...</td>\n      <td>\\dataset\\extdia_v1\\fanmin6dB00_EDiaV1HP_outpPS...</td>\n      <td>\\dataset\\extdia_v1\\fanmin6dB00_EDiaV1HP_outpIC...</td>\n      <td>min6dB</td>\n      <td>fan</td>\n      <td>00</td>\n      <td>1</td>\n    </tr>\n  </tbody>\n</table>\n<p>1418 rows × 16 columns</p>\n</div>"
     },
     "metadata": {},
     "execution_count": 182
    }
   ],
   "source": [
    "table"
   ]
  },
  {
   "cell_type": "code",
   "execution_count": 183,
   "metadata": {},
   "outputs": [],
   "source": [
    "task = {'path_descr':path_r, \n",
    "        'feat':{'function':'frame', 'frames':5}, \n",
    "        'feat_col':'MEL_raw', \n",
    "        'SNR':'min6dB', \n",
    "        'machine':'fan', \n",
    "        'ID':'00',\n",
    "        'BASE_FOLDER':BASE_FOLDER}\n",
    "\n",
    "df_train, data_train = load_data(**task, train_set=1)\n",
    "df_test, data_test = load_data(**task, train_set=1)"
   ]
  },
  {
   "cell_type": "code",
   "execution_count": 184,
   "metadata": {},
   "outputs": [
    {
     "output_type": "error",
     "ename": "TypeError",
     "evalue": "data type not understood",
     "traceback": [
      "\u001b[1;31m---------------------------------------------------------------------------\u001b[0m",
      "\u001b[1;31mTypeError\u001b[0m                                 Traceback (most recent call last)",
      "\u001b[1;32md:\\Capstone\\NF_Prj_MIMII_Dataset\\utility\\modeling\\ann_models.py\u001b[0m in \u001b[0;36m<module>\u001b[1;34m\u001b[0m\n\u001b[1;32m----> 1\u001b[1;33m \u001b[0mtrain_set\u001b[0m \u001b[1;33m=\u001b[0m \u001b[0mtf\u001b[0m\u001b[1;33m.\u001b[0m\u001b[0mdata\u001b[0m\u001b[1;33m.\u001b[0m\u001b[0mDataset\u001b[0m\u001b[1;33m.\u001b[0m\u001b[0mfrom_tensor_slices\u001b[0m\u001b[1;33m(\u001b[0m\u001b[1;33m(\u001b[0m\u001b[0mdata_train\u001b[0m\u001b[1;33m.\u001b[0m\u001b[0mastype\u001b[0m\u001b[1;33m(\u001b[0m\u001b[0mtf\u001b[0m\u001b[1;33m.\u001b[0m\u001b[0mfloat32\u001b[0m\u001b[1;33m)\u001b[0m\u001b[1;33m,\u001b[0m \u001b[0mdata_train\u001b[0m\u001b[1;33m.\u001b[0m\u001b[0mastype\u001b[0m\u001b[1;33m(\u001b[0m\u001b[0mtf\u001b[0m\u001b[1;33m.\u001b[0m\u001b[0mfloat32\u001b[0m\u001b[1;33m)\u001b[0m\u001b[1;33m)\u001b[0m\u001b[1;33m)\u001b[0m\u001b[1;33m\u001b[0m\u001b[1;33m\u001b[0m\u001b[0m\n\u001b[0m\u001b[0;32m      2\u001b[0m \u001b[0mBATCH_SIZE\u001b[0m \u001b[1;33m=\u001b[0m \u001b[1;36m64\u001b[0m\u001b[1;33m\u001b[0m\u001b[1;33m\u001b[0m\u001b[0m\n\u001b[0;32m      3\u001b[0m \u001b[0mSHUFFLE_BUFFER_SIZE\u001b[0m \u001b[1;33m=\u001b[0m \u001b[1;36m100\u001b[0m\u001b[1;33m\u001b[0m\u001b[1;33m\u001b[0m\u001b[0m\n\u001b[0;32m      4\u001b[0m \u001b[0mtrain_set\u001b[0m \u001b[1;33m=\u001b[0m \u001b[0mtrain_set\u001b[0m\u001b[1;33m.\u001b[0m\u001b[0mshuffle\u001b[0m\u001b[1;33m(\u001b[0m\u001b[0mSHUFFLE_BUFFER_SIZE\u001b[0m\u001b[1;33m)\u001b[0m\u001b[1;33m.\u001b[0m\u001b[0mbatch\u001b[0m\u001b[1;33m(\u001b[0m\u001b[0mBATCH_SIZE\u001b[0m\u001b[1;33m)\u001b[0m\u001b[1;33m\u001b[0m\u001b[1;33m\u001b[0m\u001b[0m\n",
      "\u001b[1;31mTypeError\u001b[0m: data type not understood"
     ]
    }
   ],
   "source": [
    "train_set = tf.data.Dataset.from_tensor_slices((data_train.astype(np.float32), data_train.astype(np.float32)))\n",
    "BATCH_SIZE = 64\n",
    "SHUFFLE_BUFFER_SIZE = 100\n",
    "train_set = train_set.shuffle(SHUFFLE_BUFFER_SIZE).batch(BATCH_SIZE)"
   ]
  },
  {
   "cell_type": "code",
   "execution_count": null,
   "metadata": {},
   "outputs": [],
   "source": [
    "train_set"
   ]
  },
  {
   "cell_type": "code",
   "execution_count": null,
   "metadata": {},
   "outputs": [],
   "source": [
    "model = MyModel()\n",
    "optimizer = tf.keras.optimizers.Adam(learning_rate=1e-3)\n",
    "model.compile(optimizer, loss=tf.keras.losses.MeanSquaredError())"
   ]
  },
  {
   "cell_type": "markdown",
   "metadata": {},
   "source": [
    "inputLayer = tf.keras.layers.Input(shape=(inputDim,))\n",
    "h = tf.keras.layers.Dense(64, activation=\"relu\")(inputLayer)\n",
    "h = tf.keras.layers.Dense(64, activation=\"relu\")(h)\n",
    "h = tf.keras.layers.Dense(8, activation=\"relu\")(h)\n",
    "h = tf.keras.layers.Dense(64, activation=\"relu\")(h)\n",
    "h = tf.keras.layers.Dense(64, activation=\"relu\")(h)\n",
    "h = tf.keras.layers.Dense(inputDim, activation=None)(h)\n",
    "\n",
    "return Model(inputs=inputLayer, outputs=h"
   ]
  },
  {
   "cell_type": "code",
   "execution_count": 172,
   "metadata": {},
   "outputs": [
    {
     "output_type": "error",
     "ename": "TypeError",
     "evalue": "in converted code:\n\n    d:\\Capstone\\NF_Prj_MIMII_Dataset\\utility\\modeling\\ann_models.py:21 call  *\n        x = self.input_layer(inputs)\n    C:\\Users\\bendi\\.conda\\envs\\mimii-tf2-gpu\\lib\\site-packages\\tensorflow_core\\python\\autograph\\impl\\api.py:427 converted_call\n        f in m.__dict__.values() for m in (collections, pdb, copy, inspect, re)):\n    C:\\Users\\bendi\\.conda\\envs\\mimii-tf2-gpu\\lib\\site-packages\\tensorflow_core\\python\\autograph\\impl\\api.py:427 <genexpr>\n        f in m.__dict__.values() for m in (collections, pdb, copy, inspect, re)):\n    C:\\Users\\bendi\\.conda\\envs\\mimii-tf2-gpu\\lib\\site-packages\\tensorflow_core\\python\\ops\\math_ops.py:1336 tensor_equals\n        return gen_math_ops.equal(self, other)\n    C:\\Users\\bendi\\.conda\\envs\\mimii-tf2-gpu\\lib\\site-packages\\tensorflow_core\\python\\ops\\gen_math_ops.py:3627 equal\n        name=name)\n    C:\\Users\\bendi\\.conda\\envs\\mimii-tf2-gpu\\lib\\site-packages\\tensorflow_core\\python\\framework\\op_def_library.py:536 _apply_op_helper\n        repr(values), type(values).__name__, err))\n\n    TypeError: Expected float32 passed to parameter 'y' of op 'Equal', got 'collections' of type 'str' instead. Error: Expected float32, got 'collections' of type 'str' instead.\n",
     "traceback": [
      "\u001b[1;31m---------------------------------------------------------------------------\u001b[0m",
      "\u001b[1;31mTypeError\u001b[0m                                 Traceback (most recent call last)",
      "\u001b[1;32md:\\Capstone\\NF_Prj_MIMII_Dataset\\utility\\modeling\\ann_models.py\u001b[0m in \u001b[0;36m<module>\u001b[1;34m\u001b[0m\n\u001b[1;32m----> 1\u001b[1;33m \u001b[0mmodel\u001b[0m\u001b[1;33m.\u001b[0m\u001b[0mfit\u001b[0m\u001b[1;33m(\u001b[0m\u001b[0mtrain_set\u001b[0m\u001b[1;33m,\u001b[0m \u001b[0mepochs\u001b[0m\u001b[1;33m=\u001b[0m\u001b[1;36m3\u001b[0m\u001b[1;33m)\u001b[0m\u001b[1;33m\u001b[0m\u001b[1;33m\u001b[0m\u001b[0m\n\u001b[0m",
      "\u001b[1;32m~\\.conda\\envs\\mimii-tf2-gpu\\lib\\site-packages\\tensorflow_core\\python\\keras\\engine\\training.py\u001b[0m in \u001b[0;36mfit\u001b[1;34m(self, x, y, batch_size, epochs, verbose, callbacks, validation_split, validation_data, shuffle, class_weight, sample_weight, initial_epoch, steps_per_epoch, validation_steps, validation_freq, max_queue_size, workers, use_multiprocessing, **kwargs)\u001b[0m\n\u001b[0;32m    726\u001b[0m         \u001b[0mmax_queue_size\u001b[0m\u001b[1;33m=\u001b[0m\u001b[0mmax_queue_size\u001b[0m\u001b[1;33m,\u001b[0m\u001b[1;33m\u001b[0m\u001b[1;33m\u001b[0m\u001b[0m\n\u001b[0;32m    727\u001b[0m         \u001b[0mworkers\u001b[0m\u001b[1;33m=\u001b[0m\u001b[0mworkers\u001b[0m\u001b[1;33m,\u001b[0m\u001b[1;33m\u001b[0m\u001b[1;33m\u001b[0m\u001b[0m\n\u001b[1;32m--> 728\u001b[1;33m         use_multiprocessing=use_multiprocessing)\n\u001b[0m\u001b[0;32m    729\u001b[0m \u001b[1;33m\u001b[0m\u001b[0m\n\u001b[0;32m    730\u001b[0m   def evaluate(self,\n",
      "\u001b[1;32m~\\.conda\\envs\\mimii-tf2-gpu\\lib\\site-packages\\tensorflow_core\\python\\keras\\engine\\training_v2.py\u001b[0m in \u001b[0;36mfit\u001b[1;34m(self, model, x, y, batch_size, epochs, verbose, callbacks, validation_split, validation_data, shuffle, class_weight, sample_weight, initial_epoch, steps_per_epoch, validation_steps, validation_freq, **kwargs)\u001b[0m\n\u001b[0;32m    222\u001b[0m           \u001b[0mvalidation_data\u001b[0m\u001b[1;33m=\u001b[0m\u001b[0mvalidation_data\u001b[0m\u001b[1;33m,\u001b[0m\u001b[1;33m\u001b[0m\u001b[1;33m\u001b[0m\u001b[0m\n\u001b[0;32m    223\u001b[0m           \u001b[0mvalidation_steps\u001b[0m\u001b[1;33m=\u001b[0m\u001b[0mvalidation_steps\u001b[0m\u001b[1;33m,\u001b[0m\u001b[1;33m\u001b[0m\u001b[1;33m\u001b[0m\u001b[0m\n\u001b[1;32m--> 224\u001b[1;33m           distribution_strategy=strategy)\n\u001b[0m\u001b[0;32m    225\u001b[0m \u001b[1;33m\u001b[0m\u001b[0m\n\u001b[0;32m    226\u001b[0m       \u001b[0mtotal_samples\u001b[0m \u001b[1;33m=\u001b[0m \u001b[0m_get_total_number_of_samples\u001b[0m\u001b[1;33m(\u001b[0m\u001b[0mtraining_data_adapter\u001b[0m\u001b[1;33m)\u001b[0m\u001b[1;33m\u001b[0m\u001b[1;33m\u001b[0m\u001b[0m\n",
      "\u001b[1;32m~\\.conda\\envs\\mimii-tf2-gpu\\lib\\site-packages\\tensorflow_core\\python\\keras\\engine\\training_v2.py\u001b[0m in \u001b[0;36m_process_training_inputs\u001b[1;34m(model, x, y, batch_size, epochs, sample_weights, class_weights, steps_per_epoch, validation_split, validation_data, validation_steps, shuffle, distribution_strategy, max_queue_size, workers, use_multiprocessing)\u001b[0m\n\u001b[0;32m    545\u001b[0m         \u001b[0mmax_queue_size\u001b[0m\u001b[1;33m=\u001b[0m\u001b[0mmax_queue_size\u001b[0m\u001b[1;33m,\u001b[0m\u001b[1;33m\u001b[0m\u001b[1;33m\u001b[0m\u001b[0m\n\u001b[0;32m    546\u001b[0m         \u001b[0mworkers\u001b[0m\u001b[1;33m=\u001b[0m\u001b[0mworkers\u001b[0m\u001b[1;33m,\u001b[0m\u001b[1;33m\u001b[0m\u001b[1;33m\u001b[0m\u001b[0m\n\u001b[1;32m--> 547\u001b[1;33m         use_multiprocessing=use_multiprocessing)\n\u001b[0m\u001b[0;32m    548\u001b[0m     \u001b[0mval_adapter\u001b[0m \u001b[1;33m=\u001b[0m \u001b[1;32mNone\u001b[0m\u001b[1;33m\u001b[0m\u001b[1;33m\u001b[0m\u001b[0m\n\u001b[0;32m    549\u001b[0m     \u001b[1;32mif\u001b[0m \u001b[0mvalidation_data\u001b[0m\u001b[1;33m:\u001b[0m\u001b[1;33m\u001b[0m\u001b[1;33m\u001b[0m\u001b[0m\n",
      "\u001b[1;32m~\\.conda\\envs\\mimii-tf2-gpu\\lib\\site-packages\\tensorflow_core\\python\\keras\\engine\\training_v2.py\u001b[0m in \u001b[0;36m_process_inputs\u001b[1;34m(model, x, y, batch_size, epochs, sample_weights, class_weights, shuffle, steps, distribution_strategy, max_queue_size, workers, use_multiprocessing)\u001b[0m\n\u001b[0;32m    592\u001b[0m         \u001b[0mbatch_size\u001b[0m\u001b[1;33m=\u001b[0m\u001b[0mbatch_size\u001b[0m\u001b[1;33m,\u001b[0m\u001b[1;33m\u001b[0m\u001b[1;33m\u001b[0m\u001b[0m\n\u001b[0;32m    593\u001b[0m         \u001b[0mcheck_steps\u001b[0m\u001b[1;33m=\u001b[0m\u001b[1;32mFalse\u001b[0m\u001b[1;33m,\u001b[0m\u001b[1;33m\u001b[0m\u001b[1;33m\u001b[0m\u001b[0m\n\u001b[1;32m--> 594\u001b[1;33m         steps=steps)\n\u001b[0m\u001b[0;32m    595\u001b[0m   adapter = adapter_cls(\n\u001b[0;32m    596\u001b[0m       \u001b[0mx\u001b[0m\u001b[1;33m,\u001b[0m\u001b[1;33m\u001b[0m\u001b[1;33m\u001b[0m\u001b[0m\n",
      "\u001b[1;32m~\\.conda\\envs\\mimii-tf2-gpu\\lib\\site-packages\\tensorflow_core\\python\\keras\\engine\\training.py\u001b[0m in \u001b[0;36m_standardize_user_data\u001b[1;34m(self, x, y, sample_weight, class_weight, batch_size, check_steps, steps_name, steps, validation_split, shuffle, extract_tensors_from_dataset)\u001b[0m\n\u001b[0;32m   2417\u001b[0m     \u001b[1;31m# First, we build the model on the fly if necessary.\u001b[0m\u001b[1;33m\u001b[0m\u001b[1;33m\u001b[0m\u001b[1;33m\u001b[0m\u001b[0m\n\u001b[0;32m   2418\u001b[0m     \u001b[1;32mif\u001b[0m \u001b[1;32mnot\u001b[0m \u001b[0mself\u001b[0m\u001b[1;33m.\u001b[0m\u001b[0minputs\u001b[0m\u001b[1;33m:\u001b[0m\u001b[1;33m\u001b[0m\u001b[1;33m\u001b[0m\u001b[0m\n\u001b[1;32m-> 2419\u001b[1;33m       \u001b[0mall_inputs\u001b[0m\u001b[1;33m,\u001b[0m \u001b[0my_input\u001b[0m\u001b[1;33m,\u001b[0m \u001b[0mdict_inputs\u001b[0m \u001b[1;33m=\u001b[0m \u001b[0mself\u001b[0m\u001b[1;33m.\u001b[0m\u001b[0m_build_model_with_inputs\u001b[0m\u001b[1;33m(\u001b[0m\u001b[0mx\u001b[0m\u001b[1;33m,\u001b[0m \u001b[0my\u001b[0m\u001b[1;33m)\u001b[0m\u001b[1;33m\u001b[0m\u001b[1;33m\u001b[0m\u001b[0m\n\u001b[0m\u001b[0;32m   2420\u001b[0m       \u001b[0mis_build_called\u001b[0m \u001b[1;33m=\u001b[0m \u001b[1;32mTrue\u001b[0m\u001b[1;33m\u001b[0m\u001b[1;33m\u001b[0m\u001b[0m\n\u001b[0;32m   2421\u001b[0m     \u001b[1;32melse\u001b[0m\u001b[1;33m:\u001b[0m\u001b[1;33m\u001b[0m\u001b[1;33m\u001b[0m\u001b[0m\n",
      "\u001b[1;32m~\\.conda\\envs\\mimii-tf2-gpu\\lib\\site-packages\\tensorflow_core\\python\\keras\\engine\\training.py\u001b[0m in \u001b[0;36m_build_model_with_inputs\u001b[1;34m(self, inputs, targets)\u001b[0m\n\u001b[0;32m   2620\u001b[0m     \u001b[1;32melse\u001b[0m\u001b[1;33m:\u001b[0m\u001b[1;33m\u001b[0m\u001b[1;33m\u001b[0m\u001b[0m\n\u001b[0;32m   2621\u001b[0m       \u001b[0mcast_inputs\u001b[0m \u001b[1;33m=\u001b[0m \u001b[0minputs\u001b[0m\u001b[1;33m\u001b[0m\u001b[1;33m\u001b[0m\u001b[0m\n\u001b[1;32m-> 2622\u001b[1;33m     \u001b[0mself\u001b[0m\u001b[1;33m.\u001b[0m\u001b[0m_set_inputs\u001b[0m\u001b[1;33m(\u001b[0m\u001b[0mcast_inputs\u001b[0m\u001b[1;33m)\u001b[0m\u001b[1;33m\u001b[0m\u001b[1;33m\u001b[0m\u001b[0m\n\u001b[0m\u001b[0;32m   2623\u001b[0m     \u001b[1;32mreturn\u001b[0m \u001b[0mprocessed_inputs\u001b[0m\u001b[1;33m,\u001b[0m \u001b[0mtargets\u001b[0m\u001b[1;33m,\u001b[0m \u001b[0mis_dict_inputs\u001b[0m\u001b[1;33m\u001b[0m\u001b[1;33m\u001b[0m\u001b[0m\n\u001b[0;32m   2624\u001b[0m \u001b[1;33m\u001b[0m\u001b[0m\n",
      "\u001b[1;32m~\\.conda\\envs\\mimii-tf2-gpu\\lib\\site-packages\\tensorflow_core\\python\\keras\\engine\\training.py\u001b[0m in \u001b[0;36m_set_inputs\u001b[1;34m(self, inputs, outputs, training)\u001b[0m\n\u001b[0;32m   2707\u001b[0m           \u001b[0mkwargs\u001b[0m\u001b[1;33m[\u001b[0m\u001b[1;34m'training'\u001b[0m\u001b[1;33m]\u001b[0m \u001b[1;33m=\u001b[0m \u001b[0mtraining\u001b[0m\u001b[1;33m\u001b[0m\u001b[1;33m\u001b[0m\u001b[0m\n\u001b[0;32m   2708\u001b[0m       \u001b[1;32mtry\u001b[0m\u001b[1;33m:\u001b[0m\u001b[1;33m\u001b[0m\u001b[1;33m\u001b[0m\u001b[0m\n\u001b[1;32m-> 2709\u001b[1;33m         \u001b[0moutputs\u001b[0m \u001b[1;33m=\u001b[0m \u001b[0mself\u001b[0m\u001b[1;33m(\u001b[0m\u001b[0minputs\u001b[0m\u001b[1;33m,\u001b[0m \u001b[1;33m**\u001b[0m\u001b[0mkwargs\u001b[0m\u001b[1;33m)\u001b[0m\u001b[1;33m\u001b[0m\u001b[1;33m\u001b[0m\u001b[0m\n\u001b[0m\u001b[0;32m   2710\u001b[0m       \u001b[1;32mexcept\u001b[0m \u001b[0mNotImplementedError\u001b[0m\u001b[1;33m:\u001b[0m\u001b[1;33m\u001b[0m\u001b[1;33m\u001b[0m\u001b[0m\n\u001b[0;32m   2711\u001b[0m         \u001b[1;31m# This Model or a submodel is dynamic and hasn't overridden\u001b[0m\u001b[1;33m\u001b[0m\u001b[1;33m\u001b[0m\u001b[1;33m\u001b[0m\u001b[0m\n",
      "\u001b[1;32m~\\.conda\\envs\\mimii-tf2-gpu\\lib\\site-packages\\tensorflow_core\\python\\keras\\engine\\base_layer.py\u001b[0m in \u001b[0;36m__call__\u001b[1;34m(self, inputs, *args, **kwargs)\u001b[0m\n\u001b[0;32m    840\u001b[0m                     not base_layer_utils.is_in_eager_or_tf_function()):\n\u001b[0;32m    841\u001b[0m                   \u001b[1;32mwith\u001b[0m \u001b[0mauto_control_deps\u001b[0m\u001b[1;33m.\u001b[0m\u001b[0mAutomaticControlDependencies\u001b[0m\u001b[1;33m(\u001b[0m\u001b[1;33m)\u001b[0m \u001b[1;32mas\u001b[0m \u001b[0macd\u001b[0m\u001b[1;33m:\u001b[0m\u001b[1;33m\u001b[0m\u001b[1;33m\u001b[0m\u001b[0m\n\u001b[1;32m--> 842\u001b[1;33m                     \u001b[0moutputs\u001b[0m \u001b[1;33m=\u001b[0m \u001b[0mcall_fn\u001b[0m\u001b[1;33m(\u001b[0m\u001b[0mcast_inputs\u001b[0m\u001b[1;33m,\u001b[0m \u001b[1;33m*\u001b[0m\u001b[0margs\u001b[0m\u001b[1;33m,\u001b[0m \u001b[1;33m**\u001b[0m\u001b[0mkwargs\u001b[0m\u001b[1;33m)\u001b[0m\u001b[1;33m\u001b[0m\u001b[1;33m\u001b[0m\u001b[0m\n\u001b[0m\u001b[0;32m    843\u001b[0m                     \u001b[1;31m# Wrap Tensors in `outputs` in `tf.identity` to avoid\u001b[0m\u001b[1;33m\u001b[0m\u001b[1;33m\u001b[0m\u001b[1;33m\u001b[0m\u001b[0m\n\u001b[0;32m    844\u001b[0m                     \u001b[1;31m# circular dependencies.\u001b[0m\u001b[1;33m\u001b[0m\u001b[1;33m\u001b[0m\u001b[1;33m\u001b[0m\u001b[0m\n",
      "\u001b[1;32m~\\.conda\\envs\\mimii-tf2-gpu\\lib\\site-packages\\tensorflow_core\\python\\autograph\\impl\\api.py\u001b[0m in \u001b[0;36mwrapper\u001b[1;34m(*args, **kwargs)\u001b[0m\n\u001b[0;32m    235\u001b[0m       \u001b[1;32mexcept\u001b[0m \u001b[0mException\u001b[0m \u001b[1;32mas\u001b[0m \u001b[0me\u001b[0m\u001b[1;33m:\u001b[0m  \u001b[1;31m# pylint:disable=broad-except\u001b[0m\u001b[1;33m\u001b[0m\u001b[1;33m\u001b[0m\u001b[0m\n\u001b[0;32m    236\u001b[0m         \u001b[1;32mif\u001b[0m \u001b[0mhasattr\u001b[0m\u001b[1;33m(\u001b[0m\u001b[0me\u001b[0m\u001b[1;33m,\u001b[0m \u001b[1;34m'ag_error_metadata'\u001b[0m\u001b[1;33m)\u001b[0m\u001b[1;33m:\u001b[0m\u001b[1;33m\u001b[0m\u001b[1;33m\u001b[0m\u001b[0m\n\u001b[1;32m--> 237\u001b[1;33m           \u001b[1;32mraise\u001b[0m \u001b[0me\u001b[0m\u001b[1;33m.\u001b[0m\u001b[0mag_error_metadata\u001b[0m\u001b[1;33m.\u001b[0m\u001b[0mto_exception\u001b[0m\u001b[1;33m(\u001b[0m\u001b[0me\u001b[0m\u001b[1;33m)\u001b[0m\u001b[1;33m\u001b[0m\u001b[1;33m\u001b[0m\u001b[0m\n\u001b[0m\u001b[0;32m    238\u001b[0m         \u001b[1;32melse\u001b[0m\u001b[1;33m:\u001b[0m\u001b[1;33m\u001b[0m\u001b[1;33m\u001b[0m\u001b[0m\n\u001b[0;32m    239\u001b[0m           \u001b[1;32mraise\u001b[0m\u001b[1;33m\u001b[0m\u001b[1;33m\u001b[0m\u001b[0m\n",
      "\u001b[1;31mTypeError\u001b[0m: in converted code:\n\n    d:\\Capstone\\NF_Prj_MIMII_Dataset\\utility\\modeling\\ann_models.py:21 call  *\n        x = self.input_layer(inputs)\n    C:\\Users\\bendi\\.conda\\envs\\mimii-tf2-gpu\\lib\\site-packages\\tensorflow_core\\python\\autograph\\impl\\api.py:427 converted_call\n        f in m.__dict__.values() for m in (collections, pdb, copy, inspect, re)):\n    C:\\Users\\bendi\\.conda\\envs\\mimii-tf2-gpu\\lib\\site-packages\\tensorflow_core\\python\\autograph\\impl\\api.py:427 <genexpr>\n        f in m.__dict__.values() for m in (collections, pdb, copy, inspect, re)):\n    C:\\Users\\bendi\\.conda\\envs\\mimii-tf2-gpu\\lib\\site-packages\\tensorflow_core\\python\\ops\\math_ops.py:1336 tensor_equals\n        return gen_math_ops.equal(self, other)\n    C:\\Users\\bendi\\.conda\\envs\\mimii-tf2-gpu\\lib\\site-packages\\tensorflow_core\\python\\ops\\gen_math_ops.py:3627 equal\n        name=name)\n    C:\\Users\\bendi\\.conda\\envs\\mimii-tf2-gpu\\lib\\site-packages\\tensorflow_core\\python\\framework\\op_def_library.py:536 _apply_op_helper\n        repr(values), type(values).__name__, err))\n\n    TypeError: Expected float32 passed to parameter 'y' of op 'Equal', got 'collections' of type 'str' instead. Error: Expected float32, got 'collections' of type 'str' instead.\n"
     ]
    }
   ],
   "source": [
    "model.fit(train_set, epochs=3)\n"
   ]
  },
  {
   "cell_type": "code",
   "execution_count": 173,
   "metadata": {},
   "outputs": [
    {
     "output_type": "error",
     "ename": "TypeError",
     "evalue": "Unrecognized keyword arguments: {'loss': 'mean_squared_error'}",
     "traceback": [
      "\u001b[1;31m---------------------------------------------------------------------------\u001b[0m",
      "\u001b[1;31mTypeError\u001b[0m                                 Traceback (most recent call last)",
      "\u001b[1;32md:\\Capstone\\NF_Prj_MIMII_Dataset\\utility\\modeling\\ann_models.py\u001b[0m in \u001b[0;36m<module>\u001b[1;34m\u001b[0m\n\u001b[0;32m      1\u001b[0m model.fit(data_train.astype(np.float32), \n\u001b[0;32m      2\u001b[0m \u001b[0mdata_train\u001b[0m\u001b[1;33m.\u001b[0m\u001b[0mastype\u001b[0m\u001b[1;33m(\u001b[0m\u001b[0mnp\u001b[0m\u001b[1;33m.\u001b[0m\u001b[0mfloat32\u001b[0m\u001b[1;33m)\u001b[0m\u001b[1;33m,\u001b[0m\u001b[1;33m\u001b[0m\u001b[1;33m\u001b[0m\u001b[0m\n\u001b[1;32m----> 3\u001b[1;33m loss='mean_squared_error')\n\u001b[0m",
      "\u001b[1;32m~\\.conda\\envs\\mimii-tf2-gpu\\lib\\site-packages\\tensorflow_core\\python\\keras\\engine\\training.py\u001b[0m in \u001b[0;36mfit\u001b[1;34m(self, x, y, batch_size, epochs, verbose, callbacks, validation_split, validation_data, shuffle, class_weight, sample_weight, initial_epoch, steps_per_epoch, validation_steps, validation_freq, max_queue_size, workers, use_multiprocessing, **kwargs)\u001b[0m\n\u001b[0;32m    702\u001b[0m       \u001b[0mepochs\u001b[0m \u001b[1;33m=\u001b[0m \u001b[0mkwargs\u001b[0m\u001b[1;33m.\u001b[0m\u001b[0mpop\u001b[0m\u001b[1;33m(\u001b[0m\u001b[1;34m'nb_epoch'\u001b[0m\u001b[1;33m)\u001b[0m\u001b[1;33m\u001b[0m\u001b[1;33m\u001b[0m\u001b[0m\n\u001b[0;32m    703\u001b[0m     \u001b[1;32mif\u001b[0m \u001b[0mkwargs\u001b[0m\u001b[1;33m:\u001b[0m\u001b[1;33m\u001b[0m\u001b[1;33m\u001b[0m\u001b[0m\n\u001b[1;32m--> 704\u001b[1;33m       \u001b[1;32mraise\u001b[0m \u001b[0mTypeError\u001b[0m\u001b[1;33m(\u001b[0m\u001b[1;34m'Unrecognized keyword arguments: '\u001b[0m \u001b[1;33m+\u001b[0m \u001b[0mstr\u001b[0m\u001b[1;33m(\u001b[0m\u001b[0mkwargs\u001b[0m\u001b[1;33m)\u001b[0m\u001b[1;33m)\u001b[0m\u001b[1;33m\u001b[0m\u001b[1;33m\u001b[0m\u001b[0m\n\u001b[0m\u001b[0;32m    705\u001b[0m     \u001b[0mself\u001b[0m\u001b[1;33m.\u001b[0m\u001b[0m_assert_compile_was_called\u001b[0m\u001b[1;33m(\u001b[0m\u001b[1;33m)\u001b[0m\u001b[1;33m\u001b[0m\u001b[1;33m\u001b[0m\u001b[0m\n\u001b[0;32m    706\u001b[0m     \u001b[0mself\u001b[0m\u001b[1;33m.\u001b[0m\u001b[0m_check_call_args\u001b[0m\u001b[1;33m(\u001b[0m\u001b[1;34m'fit'\u001b[0m\u001b[1;33m)\u001b[0m\u001b[1;33m\u001b[0m\u001b[1;33m\u001b[0m\u001b[0m\n",
      "\u001b[1;31mTypeError\u001b[0m: Unrecognized keyword arguments: {'loss': 'mean_squared_error'}"
     ]
    }
   ],
   "source": [
    "model.fit(data_train.astype(np.float32), \n",
    "data_train.astype(np.float32),\n",
    "loss='mean_squared_error')"
   ]
  },
  {
   "cell_type": "code",
   "execution_count": 174,
   "metadata": {},
   "outputs": [
    {
     "output_type": "execute_result",
     "data": {
      "text/plain": "array([[-31.104843, -27.63194 , -19.404491, ..., -35.718407, -33.582733,\n        -37.992863],\n       [-54.265755, -40.515293, -20.662985, ..., -38.373398, -36.400826,\n        -38.69995 ],\n       [-55.779324, -38.917244, -22.706554, ..., -35.70459 , -33.944088,\n        -39.37396 ],\n       ...,\n       [-58.07556 , -34.856655, -20.998972, ..., -50.001488, -49.49284 ,\n        -48.505806],\n       [-65.96652 , -41.40084 , -21.08371 , ..., -47.10803 , -49.780945,\n        -50.673103],\n       [-51.9614  , -35.10922 , -21.347904, ..., -48.983837, -49.50586 ,\n        -51.23395 ]], dtype=float32)"
     },
     "metadata": {},
     "execution_count": 174
    }
   ],
   "source": [
    "data_train.astype(np.float32)"
   ]
  },
  {
   "cell_type": "code",
   "execution_count": 175,
   "metadata": {},
   "outputs": [
    {
     "output_type": "execute_result",
     "data": {
      "text/plain": "400"
     },
     "metadata": {},
     "execution_count": 175
    }
   ],
   "source": [
    "data_train.shape[1]"
   ]
  },
  {
   "cell_type": "code",
   "execution_count": 176,
   "metadata": {},
   "outputs": [],
   "source": [
    "class MyModel2(tf.keras.Model):\n",
    "\n",
    "  def __init__(self):\n",
    "    super(MyModel2, self).__init__()\n",
    "    self.dense1 = tf.keras.layers.Dense(4, activation=tf.nn.relu)\n",
    "    self.dense2 = tf.keras.layers.Dense(5, activation=tf.nn.softmax)\n",
    "    self.dropout = tf.keras.layers.Dropout(0.5)\n",
    "\n",
    "  def call(self, inputs, training=False):\n",
    "    x = self.dense1(inputs)\n",
    "    if training:\n",
    "      x = self.dropout(x, training=training)\n",
    "    return self.dense2(x)\n",
    "\n",
    "model = MyModel2()"
   ]
  },
  {
   "cell_type": "code",
   "execution_count": 177,
   "metadata": {},
   "outputs": [],
   "source": [
    "model.compile()"
   ]
  },
  {
   "cell_type": "code",
   "execution_count": 178,
   "metadata": {},
   "outputs": [
    {
     "output_type": "error",
     "ename": "IndexError",
     "evalue": "list index out of range",
     "traceback": [
      "\u001b[1;31m---------------------------------------------------------------------------\u001b[0m",
      "\u001b[1;31mIndexError\u001b[0m                                Traceback (most recent call last)",
      "\u001b[1;32md:\\Capstone\\NF_Prj_MIMII_Dataset\\utility\\modeling\\ann_models.py\u001b[0m in \u001b[0;36m<module>\u001b[1;34m\u001b[0m\n\u001b[1;32m----> 1\u001b[1;33m \u001b[0mmodel\u001b[0m\u001b[1;33m.\u001b[0m\u001b[0mfit\u001b[0m\u001b[1;33m(\u001b[0m\u001b[1;33m[\u001b[0m\u001b[1;33m]\u001b[0m\u001b[1;33m)\u001b[0m\u001b[1;33m\u001b[0m\u001b[1;33m\u001b[0m\u001b[0m\n\u001b[0m",
      "\u001b[1;32m~\\.conda\\envs\\mimii-tf2-gpu\\lib\\site-packages\\tensorflow_core\\python\\keras\\engine\\training.py\u001b[0m in \u001b[0;36mfit\u001b[1;34m(self, x, y, batch_size, epochs, verbose, callbacks, validation_split, validation_data, shuffle, class_weight, sample_weight, initial_epoch, steps_per_epoch, validation_steps, validation_freq, max_queue_size, workers, use_multiprocessing, **kwargs)\u001b[0m\n\u001b[0;32m    706\u001b[0m     \u001b[0mself\u001b[0m\u001b[1;33m.\u001b[0m\u001b[0m_check_call_args\u001b[0m\u001b[1;33m(\u001b[0m\u001b[1;34m'fit'\u001b[0m\u001b[1;33m)\u001b[0m\u001b[1;33m\u001b[0m\u001b[1;33m\u001b[0m\u001b[0m\n\u001b[0;32m    707\u001b[0m \u001b[1;33m\u001b[0m\u001b[0m\n\u001b[1;32m--> 708\u001b[1;33m     \u001b[0mfunc\u001b[0m \u001b[1;33m=\u001b[0m \u001b[0mself\u001b[0m\u001b[1;33m.\u001b[0m\u001b[0m_select_training_loop\u001b[0m\u001b[1;33m(\u001b[0m\u001b[0mx\u001b[0m\u001b[1;33m)\u001b[0m\u001b[1;33m\u001b[0m\u001b[1;33m\u001b[0m\u001b[0m\n\u001b[0m\u001b[0;32m    709\u001b[0m     return func.fit(\n\u001b[0;32m    710\u001b[0m         \u001b[0mself\u001b[0m\u001b[1;33m,\u001b[0m\u001b[1;33m\u001b[0m\u001b[1;33m\u001b[0m\u001b[0m\n",
      "\u001b[1;32m~\\.conda\\envs\\mimii-tf2-gpu\\lib\\site-packages\\tensorflow_core\\python\\keras\\engine\\training.py\u001b[0m in \u001b[0;36m_select_training_loop\u001b[1;34m(self, inputs)\u001b[0m\n\u001b[0;32m    498\u001b[0m             self._distribution_strategy)):\n\u001b[0;32m    499\u001b[0m       \u001b[1;32mtry\u001b[0m\u001b[1;33m:\u001b[0m\u001b[1;33m\u001b[0m\u001b[1;33m\u001b[0m\u001b[0m\n\u001b[1;32m--> 500\u001b[1;33m         \u001b[0mvalid_adapter\u001b[0m \u001b[1;33m=\u001b[0m \u001b[0mdata_adapter\u001b[0m\u001b[1;33m.\u001b[0m\u001b[0mselect_data_adapter\u001b[0m\u001b[1;33m(\u001b[0m\u001b[0minputs\u001b[0m\u001b[1;33m,\u001b[0m \u001b[1;32mNone\u001b[0m\u001b[1;33m)\u001b[0m\u001b[1;33m\u001b[0m\u001b[1;33m\u001b[0m\u001b[0m\n\u001b[0m\u001b[0;32m    501\u001b[0m       \u001b[1;32mexcept\u001b[0m \u001b[0mValueError\u001b[0m \u001b[1;32mas\u001b[0m \u001b[0mdata_failure_exception\u001b[0m\u001b[1;33m:\u001b[0m\u001b[1;33m\u001b[0m\u001b[1;33m\u001b[0m\u001b[0m\n\u001b[0;32m    502\u001b[0m         \u001b[0mvalid_adapter\u001b[0m \u001b[1;33m=\u001b[0m \u001b[1;32mNone\u001b[0m\u001b[1;33m\u001b[0m\u001b[1;33m\u001b[0m\u001b[0m\n",
      "\u001b[1;32m~\\.conda\\envs\\mimii-tf2-gpu\\lib\\site-packages\\tensorflow_core\\python\\keras\\engine\\data_adapter.py\u001b[0m in \u001b[0;36mselect_data_adapter\u001b[1;34m(x, y)\u001b[0m\n\u001b[0;32m    645\u001b[0m \u001b[1;32mdef\u001b[0m \u001b[0mselect_data_adapter\u001b[0m\u001b[1;33m(\u001b[0m\u001b[0mx\u001b[0m\u001b[1;33m,\u001b[0m \u001b[0my\u001b[0m\u001b[1;33m)\u001b[0m\u001b[1;33m:\u001b[0m\u001b[1;33m\u001b[0m\u001b[1;33m\u001b[0m\u001b[0m\n\u001b[0;32m    646\u001b[0m   \u001b[1;34m\"\"\"Selects a data adapter than can handle a given x and y.\"\"\"\u001b[0m\u001b[1;33m\u001b[0m\u001b[1;33m\u001b[0m\u001b[0m\n\u001b[1;32m--> 647\u001b[1;33m   \u001b[0madapter_cls\u001b[0m \u001b[1;33m=\u001b[0m \u001b[1;33m[\u001b[0m\u001b[0mcls\u001b[0m \u001b[1;32mfor\u001b[0m \u001b[0mcls\u001b[0m \u001b[1;32min\u001b[0m \u001b[0mALL_ADAPTER_CLS\u001b[0m \u001b[1;32mif\u001b[0m \u001b[0mcls\u001b[0m\u001b[1;33m.\u001b[0m\u001b[0mcan_handle\u001b[0m\u001b[1;33m(\u001b[0m\u001b[0mx\u001b[0m\u001b[1;33m,\u001b[0m \u001b[0my\u001b[0m\u001b[1;33m)\u001b[0m\u001b[1;33m]\u001b[0m\u001b[1;33m\u001b[0m\u001b[1;33m\u001b[0m\u001b[0m\n\u001b[0m\u001b[0;32m    648\u001b[0m   \u001b[1;32mif\u001b[0m \u001b[1;32mnot\u001b[0m \u001b[0madapter_cls\u001b[0m\u001b[1;33m:\u001b[0m\u001b[1;33m\u001b[0m\u001b[1;33m\u001b[0m\u001b[0m\n\u001b[0;32m    649\u001b[0m     \u001b[1;31m# TODO(scottzhu): This should be a less implementation-specific error.\u001b[0m\u001b[1;33m\u001b[0m\u001b[1;33m\u001b[0m\u001b[1;33m\u001b[0m\u001b[0m\n",
      "\u001b[1;32m~\\.conda\\envs\\mimii-tf2-gpu\\lib\\site-packages\\tensorflow_core\\python\\keras\\engine\\data_adapter.py\u001b[0m in \u001b[0;36m<listcomp>\u001b[1;34m(.0)\u001b[0m\n\u001b[0;32m    645\u001b[0m \u001b[1;32mdef\u001b[0m \u001b[0mselect_data_adapter\u001b[0m\u001b[1;33m(\u001b[0m\u001b[0mx\u001b[0m\u001b[1;33m,\u001b[0m \u001b[0my\u001b[0m\u001b[1;33m)\u001b[0m\u001b[1;33m:\u001b[0m\u001b[1;33m\u001b[0m\u001b[1;33m\u001b[0m\u001b[0m\n\u001b[0;32m    646\u001b[0m   \u001b[1;34m\"\"\"Selects a data adapter than can handle a given x and y.\"\"\"\u001b[0m\u001b[1;33m\u001b[0m\u001b[1;33m\u001b[0m\u001b[0m\n\u001b[1;32m--> 647\u001b[1;33m   \u001b[0madapter_cls\u001b[0m \u001b[1;33m=\u001b[0m \u001b[1;33m[\u001b[0m\u001b[0mcls\u001b[0m \u001b[1;32mfor\u001b[0m \u001b[0mcls\u001b[0m \u001b[1;32min\u001b[0m \u001b[0mALL_ADAPTER_CLS\u001b[0m \u001b[1;32mif\u001b[0m \u001b[0mcls\u001b[0m\u001b[1;33m.\u001b[0m\u001b[0mcan_handle\u001b[0m\u001b[1;33m(\u001b[0m\u001b[0mx\u001b[0m\u001b[1;33m,\u001b[0m \u001b[0my\u001b[0m\u001b[1;33m)\u001b[0m\u001b[1;33m]\u001b[0m\u001b[1;33m\u001b[0m\u001b[1;33m\u001b[0m\u001b[0m\n\u001b[0m\u001b[0;32m    648\u001b[0m   \u001b[1;32mif\u001b[0m \u001b[1;32mnot\u001b[0m \u001b[0madapter_cls\u001b[0m\u001b[1;33m:\u001b[0m\u001b[1;33m\u001b[0m\u001b[1;33m\u001b[0m\u001b[0m\n\u001b[0;32m    649\u001b[0m     \u001b[1;31m# TODO(scottzhu): This should be a less implementation-specific error.\u001b[0m\u001b[1;33m\u001b[0m\u001b[1;33m\u001b[0m\u001b[1;33m\u001b[0m\u001b[0m\n",
      "\u001b[1;32m~\\.conda\\envs\\mimii-tf2-gpu\\lib\\site-packages\\tensorflow_core\\python\\keras\\engine\\data_adapter.py\u001b[0m in \u001b[0;36mcan_handle\u001b[1;34m(x, y)\u001b[0m\n\u001b[0;32m    451\u001b[0m   \u001b[1;33m@\u001b[0m\u001b[0mstaticmethod\u001b[0m\u001b[1;33m\u001b[0m\u001b[1;33m\u001b[0m\u001b[0m\n\u001b[0;32m    452\u001b[0m   \u001b[1;32mdef\u001b[0m \u001b[0mcan_handle\u001b[0m\u001b[1;33m(\u001b[0m\u001b[0mx\u001b[0m\u001b[1;33m,\u001b[0m \u001b[0my\u001b[0m\u001b[1;33m=\u001b[0m\u001b[1;32mNone\u001b[0m\u001b[1;33m)\u001b[0m\u001b[1;33m:\u001b[0m\u001b[1;33m\u001b[0m\u001b[1;33m\u001b[0m\u001b[0m\n\u001b[1;32m--> 453\u001b[1;33m     \u001b[0mhandles_x\u001b[0m \u001b[1;33m=\u001b[0m \u001b[0mListsOfScalarsDataAdapter\u001b[0m\u001b[1;33m.\u001b[0m\u001b[0m_is_list_of_scalars\u001b[0m\u001b[1;33m(\u001b[0m\u001b[0mx\u001b[0m\u001b[1;33m)\u001b[0m\u001b[1;33m\u001b[0m\u001b[1;33m\u001b[0m\u001b[0m\n\u001b[0m\u001b[0;32m    454\u001b[0m     \u001b[0mhandles_y\u001b[0m \u001b[1;33m=\u001b[0m \u001b[1;32mTrue\u001b[0m\u001b[1;33m\u001b[0m\u001b[1;33m\u001b[0m\u001b[0m\n\u001b[0;32m    455\u001b[0m     \u001b[1;32mif\u001b[0m \u001b[0my\u001b[0m \u001b[1;32mis\u001b[0m \u001b[1;32mnot\u001b[0m \u001b[1;32mNone\u001b[0m\u001b[1;33m:\u001b[0m\u001b[1;33m\u001b[0m\u001b[1;33m\u001b[0m\u001b[0m\n",
      "\u001b[1;32m~\\.conda\\envs\\mimii-tf2-gpu\\lib\\site-packages\\tensorflow_core\\python\\keras\\engine\\data_adapter.py\u001b[0m in \u001b[0;36m_is_list_of_scalars\u001b[1;34m(inp)\u001b[0m\n\u001b[0;32m    462\u001b[0m       \u001b[1;32mreturn\u001b[0m \u001b[1;32mTrue\u001b[0m\u001b[1;33m\u001b[0m\u001b[1;33m\u001b[0m\u001b[0m\n\u001b[0;32m    463\u001b[0m     \u001b[1;32mif\u001b[0m \u001b[0misinstance\u001b[0m\u001b[1;33m(\u001b[0m\u001b[0minp\u001b[0m\u001b[1;33m,\u001b[0m \u001b[1;33m(\u001b[0m\u001b[0mlist\u001b[0m\u001b[1;33m,\u001b[0m \u001b[0mtuple\u001b[0m\u001b[1;33m)\u001b[0m\u001b[1;33m)\u001b[0m\u001b[1;33m:\u001b[0m\u001b[1;33m\u001b[0m\u001b[1;33m\u001b[0m\u001b[0m\n\u001b[1;32m--> 464\u001b[1;33m       \u001b[1;32mreturn\u001b[0m \u001b[0mListsOfScalarsDataAdapter\u001b[0m\u001b[1;33m.\u001b[0m\u001b[0m_is_list_of_scalars\u001b[0m\u001b[1;33m(\u001b[0m\u001b[0minp\u001b[0m\u001b[1;33m[\u001b[0m\u001b[1;36m0\u001b[0m\u001b[1;33m]\u001b[0m\u001b[1;33m)\u001b[0m\u001b[1;33m\u001b[0m\u001b[1;33m\u001b[0m\u001b[0m\n\u001b[0m\u001b[0;32m    465\u001b[0m     \u001b[1;32mreturn\u001b[0m \u001b[1;32mFalse\u001b[0m\u001b[1;33m\u001b[0m\u001b[1;33m\u001b[0m\u001b[0m\n\u001b[0;32m    466\u001b[0m \u001b[1;33m\u001b[0m\u001b[0m\n",
      "\u001b[1;31mIndexError\u001b[0m: list index out of range"
     ]
    }
   ],
   "source": [
    "model.fit([])"
   ]
  }
 ],
 "metadata": {
  "kernelspec": {
   "display_name": "Py3.7 (mimii_base_TF2_GPU)",
   "language": "python",
   "name": "mimii-tf2-gpu"
  },
  "language_info": {
   "codemirror_mode": {
    "name": "ipython",
    "version": 3
   },
   "file_extension": ".py",
   "mimetype": "text/x-python",
   "name": "python",
   "nbconvert_exporter": "python",
   "pygments_lexer": "ipython3",
   "version": "3.7.7-final"
  },
  "toc": {
   "base_numbering": 1,
   "nav_menu": {},
   "number_sections": true,
   "sideBar": true,
   "skip_h1_title": true,
   "title_cell": "Table of Contents",
   "title_sidebar": "Contents",
   "toc_cell": true,
   "toc_position": {},
   "toc_section_display": true,
   "toc_window_display": false
  }
 },
 "nbformat": 4,
 "nbformat_minor": 4
}