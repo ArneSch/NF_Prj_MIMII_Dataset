{
 "cells": [
  {
   "cell_type": "markdown",
   "metadata": {
    "toc": true
   },
   "source": [
    "<h1>Table of Contents<span class=\"tocSkip\"></span></h1>\n",
    "<div class=\"toc\"><ul class=\"toc-item\"></ul></div>"
   ]
  },
  {
   "cell_type": "code",
   "execution_count": 5,
   "metadata": {
    "ExecuteTime": {
     "end_time": "2020-05-05T14:54:29.477228Z",
     "start_time": "2020-05-05T14:54:29.418485Z"
    }
   },
   "outputs": [
    {
     "name": "stdout",
     "output_type": "stream",
     "text": [
      "load feature_extractor_mother\n",
      "load feature_extractor_mel_spectra\n",
      "load feature_extractor_psd\n",
      "load feature_extractor_ICA2\n",
      "load feature_extractore_pre_nnFilterDenoise\n",
      "load extractor_diagram_mother\n",
      "load Simple_FIR_HP\n",
      "load TimeSliceAppendActivation\n",
      "load load_data\n",
      "Load split_data\n",
      "Load anomaly_detection_models\n",
      "Load pseudo_supervised_models\n",
      "Load detection_pipe\n",
      "Load tensorflow models\n"
     ]
    }
   ],
   "source": [
    "import pandas as pd\n",
    "import os\n",
    "import tensorflow as tf\n",
    "tf.keras.backend.clear_session()\n",
    "\n",
    "BASE_FOLDER = '../../'\n",
    "%run -i ..\\..\\utility\\feature_extractor\\JupyterLoad_feature_extractor.py\n",
    "%run -i ..\\..\\utility\\modeling\\JupyterLoad_modeling.py\n",
    "%run -i ..\\..\\utility\\modeling\\ann_models.py"
   ]
  },
  {
   "cell_type": "code",
   "execution_count": 6,
   "metadata": {
    "ExecuteTime": {
     "end_time": "2020-05-05T14:54:29.877044Z",
     "start_time": "2020-05-05T14:54:29.829044Z"
    }
   },
   "outputs": [
    {
     "name": "stdout",
     "output_type": "stream",
     "text": [
      "./../../dataset/extdia_v1/pump6dB00_EDiaV1HPaug0_pandaDisc.pkl --> Done\n"
     ]
    }
   ],
   "source": [
    "path_r = './../../dataset/extdia_v1/pump6dB00_EDiaV1HPaug0_pandaDisc.pkl'\n",
    "path_p = 'dataset/extdia_v1/pump6dB00_EDiaV1HPaug0_pandaDisc.pkl'\n",
    "tt_split(path_r)\n",
    "table = pd.read_pickle(path_r)"
   ]
  },
  {
   "cell_type": "code",
   "execution_count": 7,
   "metadata": {
    "ExecuteTime": {
     "end_time": "2020-05-05T14:54:34.969856Z",
     "start_time": "2020-05-05T14:54:30.115043Z"
    }
   },
   "outputs": [],
   "source": [
    "task = {'path_descr':path_r, \n",
    "        'feat':{'function':'frame', 'frames':5}, \n",
    "        'feat_col':'MEL_raw', \n",
    "        'SNR':'6dB', \n",
    "        'machine':'pump', \n",
    "        'ID':'00',\n",
    "        'BASE_FOLDER':BASE_FOLDER}\n",
    "\n",
    "df_train, data_train = load_data(**task, train_set=1)\n",
    "df_test, data_test = load_data(**task, train_set=0)"
   ]
  },
  {
   "cell_type": "code",
   "execution_count": 8,
   "metadata": {
    "ExecuteTime": {
     "end_time": "2020-05-05T14:54:34.976858Z",
     "start_time": "2020-05-05T14:54:34.972868Z"
    }
   },
   "outputs": [],
   "source": [
    "model_base = uni_AutoEncoder()"
   ]
  },
  {
   "cell_type": "code",
   "execution_count": 9,
   "metadata": {
    "ExecuteTime": {
     "end_time": "2020-05-05T15:04:39.590471Z",
     "start_time": "2020-05-05T14:54:34.984856Z"
    },
    "scrolled": true
   },
   "outputs": [
    {
     "name": "stdout",
     "output_type": "stream",
     "text": [
      "Epoch 1/50\n",
      "521/521 [==============================] - 16s 30ms/step - loss: 59.3288\n",
      "Epoch 2/50\n",
      "521/521 [==============================] - 12s 23ms/step - loss: 26.1150\n",
      "Epoch 3/50\n",
      "521/521 [==============================] - 12s 23ms/step - loss: 22.7190\n",
      "Epoch 4/50\n",
      "521/521 [==============================] - 12s 23ms/step - loss: 21.3172\n",
      "Epoch 5/50\n",
      "521/521 [==============================] - 13s 24ms/step - loss: 21.4368\n",
      "Epoch 6/50\n",
      "521/521 [==============================] - 12s 23ms/step - loss: 21.2725\n",
      "Epoch 7/50\n",
      "521/521 [==============================] - 12s 23ms/step - loss: 19.3801\n",
      "Epoch 8/50\n",
      "521/521 [==============================] - 12s 23ms/step - loss: 19.0409\n",
      "Epoch 9/50\n",
      "521/521 [==============================] - 12s 22ms/step - loss: 19.1073\n",
      "Epoch 10/50\n",
      "521/521 [==============================] - 12s 23ms/step - loss: 19.2611\n",
      "Epoch 11/50\n",
      "521/521 [==============================] - 12s 23ms/step - loss: 19.1304\n",
      "Epoch 12/50\n",
      "521/521 [==============================] - 12s 23ms/step - loss: 18.9432\n",
      "Epoch 13/50\n",
      "521/521 [==============================] - 12s 22ms/step - loss: 19.0212\n",
      "Epoch 14/50\n",
      "521/521 [==============================] - 12s 23ms/step - loss: 19.1727\n",
      "Epoch 15/50\n",
      "521/521 [==============================] - 12s 23ms/step - loss: 19.1375\n",
      "Epoch 16/50\n",
      "521/521 [==============================] - 12s 23ms/step - loss: 19.1834\n",
      "Epoch 17/50\n",
      "521/521 [==============================] - 12s 23ms/step - loss: 18.7420\n",
      "Epoch 18/50\n",
      "521/521 [==============================] - 12s 23ms/step - loss: 18.9635\n",
      "Epoch 19/50\n",
      "521/521 [==============================] - 12s 23ms/step - loss: 18.9073\n",
      "Epoch 20/50\n",
      "521/521 [==============================] - 12s 22ms/step - loss: 19.3661\n",
      "Epoch 21/50\n",
      "521/521 [==============================] - 12s 23ms/step - loss: 18.8027\n",
      "Epoch 22/50\n",
      "521/521 [==============================] - 12s 24ms/step - loss: 18.8994\n",
      "Epoch 23/50\n",
      "521/521 [==============================] - 12s 24ms/step - loss: 18.8405\n",
      "Epoch 24/50\n",
      "521/521 [==============================] - 12s 23ms/step - loss: 18.9675\n",
      "Epoch 25/50\n",
      "521/521 [==============================] - 12s 23ms/step - loss: 18.8063\n",
      "Epoch 26/50\n",
      "521/521 [==============================] - 12s 23ms/step - loss: 18.9170\n",
      "Epoch 27/50\n",
      "521/521 [==============================] - 13s 25ms/step - loss: 19.0180\n",
      "Epoch 28/50\n",
      "521/521 [==============================] - 12s 23ms/step - loss: 18.8360\n",
      "Epoch 29/50\n",
      "521/521 [==============================] - 12s 23ms/step - loss: 18.9328\n",
      "Epoch 30/50\n",
      "521/521 [==============================] - 12s 23ms/step - loss: 18.8110\n",
      "Epoch 31/50\n",
      "521/521 [==============================] - 12s 22ms/step - loss: 18.8484\n",
      "Epoch 32/50\n",
      "521/521 [==============================] - 12s 23ms/step - loss: 18.8415\n",
      "Epoch 33/50\n",
      "521/521 [==============================] - 12s 23ms/step - loss: 18.7879\n",
      "Epoch 34/50\n",
      "521/521 [==============================] - 12s 23ms/step - loss: 18.7913\n",
      "Epoch 35/50\n",
      "521/521 [==============================] - 12s 23ms/step - loss: 18.7859\n",
      "Epoch 36/50\n",
      "521/521 [==============================] - 12s 23ms/step - loss: 18.7510\n",
      "Epoch 37/50\n",
      "521/521 [==============================] - 12s 23ms/step - loss: 18.7549\n",
      "Epoch 38/50\n",
      "521/521 [==============================] - 12s 23ms/step - loss: 18.6691\n",
      "Epoch 39/50\n",
      "521/521 [==============================] - 12s 23ms/step - loss: 18.6421\n",
      "Epoch 40/50\n",
      "521/521 [==============================] - 12s 23ms/step - loss: 18.6401\n",
      "Epoch 41/50\n",
      "521/521 [==============================] - 12s 23ms/step - loss: 18.6379\n",
      "Epoch 42/50\n",
      "521/521 [==============================] - 12s 23ms/step - loss: 18.6702\n",
      "Epoch 43/50\n",
      "521/521 [==============================] - ETA: 0s - loss: 18.52 - 12s 23ms/step - loss: 18.5237\n",
      "Epoch 44/50\n",
      "521/521 [==============================] - 12s 23ms/step - loss: 18.6551\n",
      "Epoch 45/50\n",
      "521/521 [==============================] - 12s 23ms/step - loss: 18.3904\n",
      "Epoch 46/50\n",
      "521/521 [==============================] - 12s 23ms/step - loss: 18.4692\n",
      "Epoch 47/50\n",
      "521/521 [==============================] - 12s 23ms/step - loss: 18.3958\n",
      "Epoch 48/50\n",
      "521/521 [==============================] - 12s 23ms/step - loss: 18.3733\n",
      "Epoch 49/50\n",
      "521/521 [==============================] - 12s 23ms/step - loss: 18.3023\n",
      "Epoch 50/50\n",
      "521/521 [==============================] - 12s 23ms/step - loss: 18.2894\n"
     ]
    }
   ],
   "source": [
    "model_base.fit(data_train)"
   ]
  },
  {
   "cell_type": "code",
   "execution_count": 10,
   "metadata": {
    "ExecuteTime": {
     "end_time": "2020-05-05T15:04:51.172281Z",
     "start_time": "2020-05-05T15:04:44.414627Z"
    }
   },
   "outputs": [],
   "source": [
    "y_pred = model_base.predict(data_test)"
   ]
  },
  {
   "cell_type": "code",
   "execution_count": 11,
   "metadata": {
    "ExecuteTime": {
     "end_time": "2020-05-05T15:04:51.728868Z",
     "start_time": "2020-05-05T15:04:51.175277Z"
    }
   },
   "outputs": [],
   "source": [
    "error = np.square(data_test - y_pred)"
   ]
  },
  {
   "cell_type": "code",
   "execution_count": 12,
   "metadata": {
    "ExecuteTime": {
     "end_time": "2020-05-05T15:04:54.894985Z",
     "start_time": "2020-05-05T15:04:54.885004Z"
    }
   },
   "outputs": [
    {
     "data": {
      "text/plain": [
       "(88374, 400)"
      ]
     },
     "execution_count": 12,
     "metadata": {},
     "output_type": "execute_result"
    }
   ],
   "source": [
    "error.shape"
   ]
  },
  {
   "cell_type": "code",
   "execution_count": 13,
   "metadata": {
    "ExecuteTime": {
     "end_time": "2020-05-05T15:04:55.266255Z",
     "start_time": "2020-05-05T15:04:55.195254Z"
    }
   },
   "outputs": [
    {
     "data": {
      "text/plain": [
       "(88374,)"
      ]
     },
     "execution_count": 13,
     "metadata": {},
     "output_type": "execute_result"
    }
   ],
   "source": [
    "uncertain = np.mean(error, axis=1)\n",
    "uncertain.shape"
   ]
  },
  {
   "cell_type": "code",
   "execution_count": 23,
   "metadata": {
    "ExecuteTime": {
     "end_time": "2020-05-05T16:26:35.649499Z",
     "start_time": "2020-05-05T16:26:30.730345Z"
    }
   },
   "outputs": [
    {
     "data": {
      "image/png": "[encoded data removed]",
      "text/plain": [
       "<Figure size 432x288 with 1 Axes>"
      ]
     },
     "metadata": {
      "needs_background": "light"
     },
     "output_type": "display_data"
    }
   ],
   "source": [
    "plt.hist(uncertain[df_test.abnormal==1], bins=1000);\n",
    "plt.hist(uncertain[df_test.abnormal==0], bins=1000, alpha=.5);"
   ]
  },
  {
   "cell_type": "code",
   "execution_count": 15,
   "metadata": {
    "ExecuteTime": {
     "end_time": "2020-05-05T15:04:58.123323Z",
     "start_time": "2020-05-05T15:04:58.119323Z"
    }
   },
   "outputs": [],
   "source": [
    "y_true = df_test.abnormal"
   ]
  },
  {
   "cell_type": "code",
   "execution_count": 16,
   "metadata": {
    "ExecuteTime": {
     "end_time": "2020-05-05T15:04:58.143324Z",
     "start_time": "2020-05-05T15:04:58.126329Z"
    }
   },
   "outputs": [
    {
     "data": {
      "text/plain": [
       "0        1.0\n",
       "1        1.0\n",
       "2        1.0\n",
       "3        1.0\n",
       "4        1.0\n",
       "        ... \n",
       "88369    0.0\n",
       "88370    0.0\n",
       "88371    0.0\n",
       "88372    0.0\n",
       "88373    0.0\n",
       "Name: abnormal, Length: 88374, dtype: float64"
      ]
     },
     "execution_count": 16,
     "metadata": {},
     "output_type": "execute_result"
    }
   ],
   "source": [
    "y_true"
   ]
  },
  {
   "cell_type": "code",
   "execution_count": 17,
   "metadata": {
    "ExecuteTime": {
     "end_time": "2020-05-05T15:04:58.202323Z",
     "start_time": "2020-05-05T15:04:58.147323Z"
    }
   },
   "outputs": [
    {
     "data": {
      "text/plain": [
       "0.7859273432572789"
      ]
     },
     "execution_count": 17,
     "metadata": {},
     "output_type": "execute_result"
    }
   ],
   "source": [
    "from sklearn.metrics import roc_auc_score\n",
    "\n",
    "roc_auc_score(y_true, uncertain)"
   ]
  },
  {
   "cell_type": "code",
   "execution_count": null,
   "metadata": {},
   "outputs": [],
   "source": []
  }
 ],
 "metadata": {
  "kernelspec": {
   "display_name": "Py3.7 (mimii_base_TF2_GPU)",
   "language": "python",
   "name": "mimii-tf2-gpu"
  },
  "language_info": {
   "codemirror_mode": {
    "name": "ipython",
    "version": 3
   },
   "file_extension": ".py",
   "mimetype": "text/x-python",
   "name": "python",
   "nbconvert_exporter": "python",
   "pygments_lexer": "ipython3",
   "version": "3.7.7"
  },
  "toc": {
   "base_numbering": 1,
   "nav_menu": {},
   "number_sections": true,
   "sideBar": true,
   "skip_h1_title": true,
   "title_cell": "Table of Contents",
   "title_sidebar": "Contents",
   "toc_cell": true,
   "toc_position": {},
   "toc_section_display": true,
   "toc_window_display": false
  }
 },
 "nbformat": 4,
 "nbformat_minor": 4
}
