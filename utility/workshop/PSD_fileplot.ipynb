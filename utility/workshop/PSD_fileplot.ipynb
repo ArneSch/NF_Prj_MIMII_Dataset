{
 "cells": [
  {
   "cell_type": "code",
   "execution_count": 5,
   "metadata": {},
   "outputs": [
    {
     "data": {
      "image/png": "[encoded data removed]",
      "text/plain": [
       "<Figure size 432x288 with 1 Axes>"
      ]
     },
     "metadata": {
      "needs_background": "light"
     },
     "output_type": "display_data"
    }
   ],
   "source": [
    "import scipy.signal as sig\n",
    "import librosa\n",
    "import matplotlib.pyplot as plt\n",
    "\n",
    "def PSD_fileplot(file_path,\n",
    "                 PSD_window='hamming',\n",
    "                 PSD_nperseg = 128,\n",
    "                 PSD_nfft=512,\n",
    "                 PSD_scaling='spectrum',\n",
    "                 ChannelNr=[0],\n",
    "                 color='blue'):\n",
    "\n",
    "    audio_ch, sr = librosa.load(file_path, sr=None, mono=False)\n",
    "    for ch in ChannelNr:\n",
    "        f, Pxx = sig.welch(audio_ch[ch],sr,\n",
    "                       window=PSD_window,\n",
    "                       nperseg=PSD_nperseg, \n",
    "                       noverlap=False, \n",
    "                       nfft=PSD_nfft,\n",
    "                       scaling=PSD_scaling)\n",
    "\n",
    "\n",
    "        plt.plot(f, Pxx, color=color)\n",
    "        ax = plt.gca()\n",
    "        ax.set_xscale('log')\n",
    "        ax.set_yscale('log')\n",
    "        \n",
    "PSD_fileplot(r'A:\\Dev\\NF_Prj_MIMII_Dataset\\dataset\\6dB\\pump\\id_00\\normal\\00000001.wav')"
   ]
  },
  {
   "cell_type": "code",
   "execution_count": null,
   "metadata": {},
   "outputs": [],
   "source": []
  }
 ],
 "metadata": {
  "kernelspec": {
   "display_name": "Py3.7 (mimii_base_TF2_GPU)",
   "language": "python",
   "name": "mimiibasetf2gpu"
  },
  "language_info": {
   "codemirror_mode": {
    "name": "ipython",
    "version": 3
   },
   "file_extension": ".py",
   "mimetype": "text/x-python",
   "name": "python",
   "nbconvert_exporter": "python",
   "pygments_lexer": "ipython3",
   "version": "3.7.6"
  },
  "toc": {
   "base_numbering": 1,
   "nav_menu": {},
   "number_sections": true,
   "sideBar": true,
   "skip_h1_title": false,
   "title_cell": "Table of Contents",
   "title_sidebar": "Contents",
   "toc_cell": false,
   "toc_position": {},
   "toc_section_display": true,
   "toc_window_display": false
  }
 },
 "nbformat": 4,
 "nbformat_minor": 4
}
