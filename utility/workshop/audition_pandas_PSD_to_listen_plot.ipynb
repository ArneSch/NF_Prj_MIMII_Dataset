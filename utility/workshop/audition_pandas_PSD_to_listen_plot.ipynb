{
 "cells": [
  {
   "cell_type": "markdown",
   "metadata": {},
   "source": [
    "# Prep to have real selection"
   ]
  },
  {
   "cell_type": "code",
   "execution_count": null,
   "metadata": {},
   "outputs": [],
   "source": [
    "import numpy as np\n",
    "import pandas as pd\n",
    "import matplotlib.pyplot as plt\n",
    "path = '.\\..\\..\\dataset\\PSD_to_Pandas\\pump_6dB_00020406_full_spectrum_128.pkl'\n",
    "df = pd.read_pickle(path)\n",
    "\n",
    "# TODO make the freq thing internal...\n",
    "frequ = df.columns[df.dtypes==np.float64]\n",
    "descriptive = [label for label in df.columns[df.dtypes==np.object] if not 'abnormal' in label]\n",
    "target = ['abnormal']\n",
    "IDs = df.ID.unique()"
   ]
  },
  {
   "cell_type": "code",
   "execution_count": null,
   "metadata": {},
   "outputs": [],
   "source": [
    "from sklearn.preprocessing import StandardScaler\n",
    "scaler = StandardScaler()\n",
    "scaler.fit(df[df.ID==IDs[0]][df['abnormal']==0][frequ])\n",
    "x = scaler.transform(df[df.ID==IDs[0]][frequ])\n",
    "y = df.abnormal[df.ID==IDs[0]]\n",
    "from sklearn.decomposition import PCA\n",
    "n_prin_comp = 50\n",
    "pca_test = PCA(n_components=n_prin_comp, svd_solver='full')\n",
    "pca_test.fit(x)\n",
    "X_pca = pca_test.transform(x)\n",
    "\n",
    "def p_pca(X_pca, n, c):\n",
    "    plt.scatter(X_pca[y==n][:,0], X_pca[y==n][:,1], color=c\n",
    "                        , marker='+', alpha=.3, label=n)"
   ]
  },
  {
   "cell_type": "code",
   "execution_count": null,
   "metadata": {},
   "outputs": [],
   "source": [
    "%matplotlib inline\n",
    "%run ../cluster_visual_selector.py\n",
    "#x_range = [-25,-15]\n",
    "#y_range = [-20+7,-17+7]\n",
    "x_range = [-35,-15]\n",
    "y_range = [-13,-10]\n",
    "box_idx = box_points(X_pca[:,0],X_pca[:,1], x_range, y_range)\n",
    "p_pca(X_pca, 0, 'b')\n",
    "p_pca(X_pca, 1, 'r')\n",
    "box_outline_plot(x_range, y_range)\n",
    "plt.legend()\n",
    "plt.grid()\n",
    "plt.xlim([-50,0])\n",
    "plt.ylim([-30,0])\n",
    "print(len(box_idx))\n",
    "plt.show()"
   ]
  },
  {
   "cell_type": "markdown",
   "metadata": {},
   "source": [
    "# Developement Zone"
   ]
  },
  {
   "cell_type": "code",
   "execution_count": null,
   "metadata": {},
   "outputs": [],
   "source": [
    "BASE_FOLDER = '../../'\n",
    "%run -i ..\\feature_extractor\\JupyterLoad_feature_extractor.py"
   ]
  },
  {
   "cell_type": "code",
   "execution_count": null,
   "metadata": {},
   "outputs": [],
   "source": [
    "%matplotlib inline\n",
    "BASE_FOLDER = '../../'\n",
    "%run -i ..\\..\\utility\\audition_function\\JupyterLoad_audition_function.py\n"
   ]
  },
  {
   "cell_type": "code",
   "execution_count": null,
   "metadata": {
    "scrolled": false
   },
   "outputs": [],
   "source": [
    "make_audition_list(df.iloc[box_idx][df.iloc[box_idx].abnormal==0].iloc[0:4],'../../',\n",
    "                   listen=True, time_plot_ch = 0,\n",
    "                   psd_from_data=True, \n",
    "                   Combine_psdfft=False, \n",
    "                   listen_every = 1, \n",
    "                   no_section=False,\n",
    "                  mel_create=True)\n",
    "make_audition_list(df.iloc[box_idx][df.iloc[box_idx].abnormal==1].iloc[0:1],'../../',\n",
    "                   listen=True, time_plot_ch = 0,\n",
    "                   psd_from_data=True, \n",
    "                   Combine_psdfft=False, \n",
    "                   listen_every = 1, \n",
    "                   no_section=False,\n",
    "                  mel_create=True)"
   ]
  },
  {
   "cell_type": "markdown",
   "metadata": {},
   "source": [
    "# clear output !!!!!!!!!\n",
    "# clear output !!!!!!!!!\n",
    "# clear output !!!!!!!!!"
   ]
  },
  {
   "cell_type": "code",
   "execution_count": null,
   "metadata": {},
   "outputs": [],
   "source": []
  }
 ],
 "metadata": {
  "kernelspec": {
   "display_name": "Py3.7 (mimii_base_TF2_GPU)",
   "language": "python",
   "name": "mimiibasetf2gpu"
  },
  "language_info": {
   "codemirror_mode": {
    "name": "ipython",
    "version": 3
   },
   "file_extension": ".py",
   "mimetype": "text/x-python",
   "name": "python",
   "nbconvert_exporter": "python",
   "pygments_lexer": "ipython3",
   "version": "3.7.6"
  },
  "toc": {
   "base_numbering": 1,
   "nav_menu": {},
   "number_sections": true,
   "sideBar": true,
   "skip_h1_title": false,
   "title_cell": "Table of Contents",
   "title_sidebar": "Contents",
   "toc_cell": false,
   "toc_position": {},
   "toc_section_display": true,
   "toc_window_display": false
  }
 },
 "nbformat": 4,
 "nbformat_minor": 4
}
