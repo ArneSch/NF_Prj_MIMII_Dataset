{
 "cells": [
  {
   "cell_type": "markdown",
   "metadata": {
    "ExecuteTime": {
     "end_time": "2020-05-11T13:31:31.616054Z",
     "start_time": "2020-05-11T13:31:31.613337Z"
    }
   },
   "source": [
    "# About\n",
    "\n",
    "![prjpic](doc/media_main/story.png)\n",
    "\n",
    "This is the main demo of this repo, it is about a concept study on the MIMII dataset to detect anomalies of machines or machine parts like fans, slider, pump and valves by means of classic machine learning and deep learning methods.\n",
    "\n",
    "In runs through the essentials to demonstrate the steps\n",
    "* feature extraction\n",
    "* indvitual model training \n",
    "* ensamble building and varfication\n",
    "* summery and scores"
   ]
  },
  {
   "cell_type": "markdown",
   "metadata": {},
   "source": [
    "# Imports"
   ]
  },
  {
   "cell_type": "code",
   "execution_count": 2,
   "metadata": {
    "ExecuteTime": {
     "end_time": "2020-05-21T09:20:21.154498Z",
     "start_time": "2020-05-21T09:20:07.978931Z"
    },
    "scrolled": true
   },
   "outputs": [
    {
     "name": "stdout",
     "output_type": "stream",
     "text": [
      "load feature_extractor_mother\n",
      "load feature_extractor_mel_spectra\n",
      "load feature_extractor_psd\n",
      "load feature_extractor_ICA2\n",
      "load feature_extractore_pre_nnFilterDenoise\n",
      "load extractor_diagram_mother\n",
      "load Simple_FIR_HP\n",
      "load TimeSliceAppendActivation\n",
      "load load_data\n",
      "Load split_data\n",
      "Load anomaly_detection_models\n",
      "Load pseudo_supervised_models\n",
      "Load tensorflow models\n",
      "Load detection_pipe\n",
      "load # extractor diagram V1 essential\n",
      "load extractor_batch\n"
     ]
    }
   ],
   "source": [
    "#===============================================\n",
    "# Basic Imports\n",
    "BASE_FOLDER = './'\n",
    "TARGET_FOLDER_FE = r'\\dataset\\extdia_v1_essential' # output folder for ffeat. extraction\n",
    "# import the repo-local utility py files\n",
    "%run -i utility\\feature_extractor\\JupyterLoad_feature_extractor.py\n",
    "%run -i utility\\modeling\\JupyterLoad_modeling.py\n",
    "\n",
    "# feature extraction diagram\n",
    "%run -i feature_extraction_diagrams\\extdia_v1_essential\n",
    "%run -i utility\\extractor_batch.py\n",
    "\n",
    "# helper\n",
    "from tqdm.auto import tqdm\n",
    "import glob\n",
    "import gc\n",
    "\n",
    "# sklearn \n",
    "from sklearn.preprocessing import StandardScaler\n",
    "from sklearn.decomposition import PCA, FastICA\n",
    "\n",
    "feat_ext_folder = os.path.abspath(BASE_FOLDER + TARGET_FOLDER_FE)"
   ]
  },
  {
   "cell_type": "markdown",
   "metadata": {},
   "source": [
    "## General config\n",
    "\n",
    "To customize the following notebook execution, set the specifications here:\n",
    "\n",
    "The execution time on a local desktop PC for all four IDs of one machine and one SNR is circa 1 hour. We recommend only executing a set of 4 variations at a time."
   ]
  },
  {
   "cell_type": "code",
   "execution_count": 3,
   "metadata": {
    "ExecuteTime": {
     "end_time": "2020-05-21T09:20:21.160494Z",
     "start_time": "2020-05-21T09:20:21.156492Z"
    }
   },
   "outputs": [],
   "source": [
    "#===============================================\n",
    "# Possible variations\n",
    "# \n",
    "# SNRs = ['6dB', '0dB', 'min6dB']\n",
    "# machines = ['pump', 'valve', 'fan', 'slider']\n",
    "# IDs = ['00', '02', '04', '06']\n",
    "\n",
    "SNRs = ['6dB']\n",
    "machines = ['pump']\n",
    "IDs = ['00']\n",
    "\n",
    "# note: increase n_jobs to max. CPUs you have use all hyperthreading cores (there is no auto detect just now)\n",
    "n_jobs = 8"
   ]
  },
  {
   "cell_type": "markdown",
   "metadata": {
    "ExecuteTime": {
     "end_time": "2020-05-11T13:39:10.674321Z",
     "start_time": "2020-05-11T13:39:10.671328Z"
    }
   },
   "source": [
    "## Utility wrapper functions"
   ]
  },
  {
   "cell_type": "code",
   "execution_count": 4,
   "metadata": {
    "ExecuteTime": {
     "end_time": "2020-05-21T09:20:21.170492Z",
     "start_time": "2020-05-21T09:20:21.162491Z"
    }
   },
   "outputs": [],
   "source": [
    "def feat_ext_process_set(FileFindDict, main_channel=0, sporadic=False, augment=False,FileCountLimit=None, n_jobs=4):\n",
    "    \n",
    "    if sporadic:\n",
    "        dt = 1 # 1 means time slicing \n",
    "    else:\n",
    "        dt = 0\n",
    "        \n",
    "    if augment:\n",
    "        ag = 0 # augment only normal operation\n",
    "    else:\n",
    "        ag = -2 # not existing class = no augment\n",
    "        \n",
    "    extractor_batch(base_folder= BASE_FOLDER, \n",
    "                    target_folder=TARGET_FOLDER_FE, \n",
    "                    extdia = extdia_v1_essential, \n",
    "                    FileFindDict = FileFindDict,\n",
    "                    n_jobs = n_jobs,\n",
    "                    target_class_map = {'abnormal':1, 'normal': 0},\n",
    "                    FileCountLimit = FileCountLimit,\n",
    "                    datset_folder_from_base = 'dataset',\n",
    "                    fHP=120,\n",
    "                    DeviceType=dt,\n",
    "                    main_channel = main_channel,\n",
    "                    augment=ag)\n",
    "    \n",
    "    gc.collect()"
   ]
  },
  {
   "cell_type": "code",
   "execution_count": 5,
   "metadata": {
    "ExecuteTime": {
     "end_time": "2020-05-21T09:20:21.179491Z",
     "start_time": "2020-05-21T09:20:21.172492Z"
    }
   },
   "outputs": [],
   "source": [
    "def find_data_file(SNR, machine, ID):\n",
    "    '''\n",
    "    function to find existing feature data files\n",
    "    '''\n",
    "    path = glob.glob(BASE_FOLDER \n",
    "              + '/dataset/extdia_v1_essential/{}{}{}_EDiaV1HP'.format(machine, SNR, ID) \n",
    "              + \"*pandaDisc*.pkl\", recursive=True)\n",
    "    \n",
    "    if len(path) == 0:\n",
    "        return None\n",
    "    elif len(path) == 1:\n",
    "        return path[0]\n",
    "    else:\n",
    "        raise Exception('More than one file found:', path)"
   ]
  },
  {
   "cell_type": "markdown",
   "metadata": {},
   "source": [
    "# Feat Extraction"
   ]
  },
  {
   "cell_type": "markdown",
   "metadata": {
    "ExecuteTime": {
     "end_time": "2020-05-11T13:40:58.788472Z",
     "start_time": "2020-05-11T13:40:58.786459Z"
    }
   },
   "source": [
    "## Confirm feature extraction diagram\n",
    "\n",
    "![exdia](doc/media_feature_extraction/exdia_v1_essential.png)\n",
    "in order to modify the diagram go the class definition:  /feature_extraction_diagrams/extdia_v1_essential.py"
   ]
  },
  {
   "cell_type": "markdown",
   "metadata": {},
   "source": [
    "### Note to the main_channel\n",
    "The main channel is picking one microphone out of the 8, \n",
    "this can be seen as if the demo version is strictly in working mono\n",
    "Or a DOA could be used to find the main direction see : feature_extraction_diagrams/A21_DirectionOfArrival_DOA/pyroomacustic_DOA.ipynb"
   ]
  },
  {
   "cell_type": "markdown",
   "metadata": {
    "ExecuteTime": {
     "end_time": "2020-05-20T11:41:07.790440Z",
     "start_time": "2020-05-20T11:41:07.783440Z"
    },
    "scrolled": true
   },
   "source": [
    "if not find_data_file('6dB', 'pump', '02'):\n",
    "    ExampleFileFilter = {'SNR': ['6dB'],'machine': ['pump'],'ID': ['02']}\n",
    "    # create some \n",
    "    feat_ext_process_set(ExampleFileFilter,\n",
    "                        main_channel=2,\n",
    "                        sporadic = False,\n",
    "                        augment = True,\n",
    "                        FileCountLimit= 4,\n",
    "                        n_jobs=n_jobs)"
   ]
  },
  {
   "cell_type": "markdown",
   "metadata": {},
   "source": [
    "## Spot Check the output"
   ]
  },
  {
   "cell_type": "markdown",
   "metadata": {
    "ExecuteTime": {
     "end_time": "2020-05-20T11:41:11.353733Z",
     "start_time": "2020-05-20T11:41:08.738734Z"
    }
   },
   "source": [
    "# This code reloads pkl files that have been stored\n",
    "# in the step above - notice only created files can be loaded\n",
    "# then a plot is made form n and n+1 output ports\n",
    "# this cell is ment as a spot check before running the batch that might,\n",
    "# take much more time !\n",
    "\n",
    "d_MEL_den = pickle.load( open( feat_ext_folder + r'\\pump6dB02_EDiaV1HPaug0_outpMEL_den.pkl', \"rb\" ))\n",
    "d_MEL_raw = pickle.load( open( feat_ext_folder + r'\\pump6dB02_EDiaV1HPaug0_outpMEL_raw.pkl', \"rb\" ))\n",
    "d_PSD_raw = pickle.load( open( feat_ext_folder + r'\\pump6dB02_EDiaV1HPaug0_outpPSD_raw.pkl', \"rb\" ))\n",
    "n1=2\n",
    "n2=7\n",
    "plt.figure(figsize=(16,9))\n",
    "plt.subplot(321)\n",
    "feature_extractor_from_dict(d_MEL_raw[n1],BASE_FOLDER).plot(False)\n",
    "plt.subplot(322)\n",
    "feature_extractor_from_dict(d_MEL_raw[n2],BASE_FOLDER).plot(False)\n",
    "plt.subplot(323)\n",
    "feature_extractor_from_dict(d_MEL_den[n1],BASE_FOLDER).plot(False)\n",
    "plt.subplot(324)\n",
    "feature_extractor_from_dict(d_MEL_den[n2],BASE_FOLDER).plot(False)\n",
    "plt.subplot(325)\n",
    "feature_extractor_from_dict(d_PSD_raw[n1],BASE_FOLDER).plot(True)\n",
    "plt.subplot(326)\n",
    "feature_extractor_from_dict(d_PSD_raw[n2],BASE_FOLDER).plot(True)\n",
    "plt.tight_layout()\n"
   ]
  },
  {
   "cell_type": "markdown",
   "metadata": {},
   "source": [
    "## Batch creation of feature data"
   ]
  },
  {
   "cell_type": "code",
   "execution_count": 6,
   "metadata": {
    "ExecuteTime": {
     "end_time": "2020-05-21T09:20:21.191441Z",
     "start_time": "2020-05-21T09:20:21.181491Z"
    }
   },
   "outputs": [],
   "source": [
    "# Create the batch of feature data\n",
    "# note: there is still a deepcopy issue you may expirence memory leak : https://github.com/BA-HanseML/NF_Prj_MIMII_Dataset/issues/58\n",
    "for SNR in SNRs:\n",
    "    for machine in machines:\n",
    "        for ID in IDs:\n",
    "            # check if files already exist\n",
    "            if not find_data_file(SNR, machine, ID):\n",
    "                BatchFileFilter = {'SNR': SNR,'machine': machine,'ID': ID}\n",
    "                feat_ext_process_set(BatchFileFilter,\n",
    "                                    main_channel=2,\n",
    "                                    sporadic = False,\n",
    "                                    augment = True,\n",
    "                                    n_jobs=n_jobs)"
   ]
  },
  {
   "cell_type": "markdown",
   "metadata": {},
   "source": [
    "# Modeling"
   ]
  },
  {
   "cell_type": "markdown",
   "metadata": {
    "ExecuteTime": {
     "end_time": "2020-05-20T08:19:01.289568Z",
     "start_time": "2020-05-20T08:19:01.282569Z"
    }
   },
   "source": [
    "# PSD_raw_flat_6dB_pump_ID00_SVM\n",
    "\n",
    "def find_pipe(feature, SNR, machine, ID, model):\n",
    "    '''\n",
    "    function to find existing model pipe files\n",
    "    '''\n",
    "    path = glob.glob(BASE_FOLDER \n",
    "              + '/pipes/{}_*_{}_{}_ID{}_{}_*.pkl'.format(feature, SNR, machine, ID, model), recursive=True)\n",
    "    \n",
    "    if len(path) == 0:\n",
    "        return None\n",
    "    elif len(path) == 1:\n",
    "        return path[0]\n",
    "    else:\n",
    "        raise Exception('More than one file found:', path)"
   ]
  },
  {
   "cell_type": "code",
   "execution_count": 7,
   "metadata": {
    "ExecuteTime": {
     "end_time": "2020-05-21T09:20:21.223496Z",
     "start_time": "2020-05-21T09:20:21.193492Z"
    }
   },
   "outputs": [],
   "source": [
    "class uni_Ensemble(object):\n",
    "    def __init__(self, SNR, machine, ID):\n",
    "        self.SNR = SNR\n",
    "        self.machine = machine\n",
    "        self.ID = ID\n",
    "        \n",
    "        self.weights = [0.9, 0.8]\n",
    "        \n",
    "        self.tasks = [{\n",
    "                    'path_descr': find_data_file(SNR, machine, ID),\n",
    "                    'feat':feature[1], \n",
    "                    'feat_col':feature[0], \n",
    "                    'SNR':SNR, \n",
    "                    'machine':machine,\n",
    "                    'ID':ID,\n",
    "                    'BASE_FOLDER':BASE_FOLDER\n",
    "        } for feature in [\n",
    "                         ('PSD_raw', {'function':'flat'}), # Isolation Forest Welch method\n",
    "                         ('PSD_raw', {'function':'flat'})]] # SVM augmented Welch method\n",
    "        \n",
    "        self.pipes = [\n",
    "            Pipe(preprocessing_steps=[(StandardScaler, {})], \n",
    "                 modeling_step=(uni_IsolationForest, {'n_estimators':200, 'max_features':1}),\n",
    "                 pseudo_sup=False), # Isolation Forest Welch method\n",
    "            \n",
    "            Pipe(preprocessing_steps=[(StandardScaler, {})], \n",
    "                 modeling_step=(uni_svm, {'C': 0.1, 'degree':3,'kernel':'rbf'}),\n",
    "                 pseudo_sup=True), # SVM augmented Welch method\n",
    "        ]\n",
    "        \n",
    "    def fit(self):\n",
    "        for pipe, task in zip(self.pipes, self.tasks):\n",
    "            \n",
    "            # set up the task\n",
    "            pipe.task = task\n",
    "            \n",
    "            # split data into train and testset\n",
    "            pipe.split_data()\n",
    "            \n",
    "            # get the data\n",
    "            print('...loading data')\n",
    "            data_train, data_test = pipe.get_data()\n",
    "            print('data loading completed\\n\\n...preprocessing data')\n",
    "\n",
    "            # preprocessing\n",
    "            data_train, data_test = pipe.preprocess(data_train, data_test)\n",
    "            print('data preprocessing finished\\n\\n...fitting the model')\n",
    "\n",
    "            # fitting the model\n",
    "            pipe.fit_model(data_train)\n",
    "            print('model fitted successfully\\n\\n...fitting the prediction scaler')\n",
    "\n",
    "            # fitting the prediction scaler\n",
    "            pipe.fit_score_scaler(data_train)\n",
    "            print('prediction scaler fitted successfully\\n\\n...evaluating model')\n",
    "\n",
    "            # evaluating over ground truth\n",
    "            pipe.evaluate(data_test)\n",
    "            print('evaluation successfull, roc_auc:', pipe.roc_auc)\n",
    "            \n",
    "            \n",
    "    def predict(self, data):\n",
    "        predictions = np.array([])\n",
    "        for pipe, weight in zip(self.pipes, self.weights):\n",
    "            data = pipe.preprocess_post(data)\n",
    "            np.append(predictions, np.expand_dims(pipe.predict_score(data)*weight, axis=1), axis=1)\n",
    "            \n",
    "        prediction = np.sum(predictions, axis=0)\n",
    "        return prediction\n",
    "    \n",
    "    def evaluate():\n",
    "        pass"
   ]
  },
  {
   "cell_type": "code",
   "execution_count": 8,
   "metadata": {
    "ExecuteTime": {
     "end_time": "2020-05-21T09:20:21.230491Z",
     "start_time": "2020-05-21T09:20:21.225493Z"
    }
   },
   "outputs": [],
   "source": [
    "values=np.array([1,2,3,4,5,6,7,8,9,10])\n",
    "valcats=np.array([101,301,201,201,102,302,302,202,102,301])"
   ]
  },
  {
   "cell_type": "code",
   "execution_count": 10,
   "metadata": {
    "ExecuteTime": {
     "end_time": "2020-05-21T09:20:40.804730Z",
     "start_time": "2020-05-21T09:20:40.792730Z"
    }
   },
   "outputs": [
    {
     "data": {
      "text/plain": [
       "array([ 1., 14.,  7.,  8., 12., 13.])"
      ]
     },
     "execution_count": 10,
     "metadata": {},
     "output_type": "execute_result"
    }
   ],
   "source": [
    "np.bincount(np.searchsorted(np.unique(valcats), valcats), values)"
   ]
  },
  {
   "cell_type": "code",
   "execution_count": 11,
   "metadata": {
    "ExecuteTime": {
     "end_time": "2020-05-21T09:21:04.170620Z",
     "start_time": "2020-05-21T09:21:04.162620Z"
    }
   },
   "outputs": [
    {
     "data": {
      "text/plain": [
       "array([0, 4, 2, 2, 1, 5, 5, 3, 1, 4], dtype=int64)"
      ]
     },
     "execution_count": 11,
     "metadata": {},
     "output_type": "execute_result"
    }
   ],
   "source": [
    "np.searchsorted(np.unique(valcats), valcats)"
   ]
  },
  {
   "cell_type": "code",
   "execution_count": 12,
   "metadata": {
    "ExecuteTime": {
     "end_time": "2020-05-21T09:22:25.737304Z",
     "start_time": "2020-05-21T09:22:25.730304Z"
    }
   },
   "outputs": [
    {
     "data": {
      "text/plain": [
       "array([101, 102, 201, 202, 301, 302])"
      ]
     },
     "execution_count": 12,
     "metadata": {},
     "output_type": "execute_result"
    }
   ],
   "source": [
    "np.unique(valcats)"
   ]
  },
  {
   "cell_type": "code",
   "execution_count": null,
   "metadata": {},
   "outputs": [],
   "source": []
  },
  {
   "cell_type": "code",
   "execution_count": 16,
   "metadata": {
    "ExecuteTime": {
     "end_time": "2020-05-21T09:30:37.069230Z",
     "start_time": "2020-05-21T09:30:36.597055Z"
    }
   },
   "outputs": [],
   "source": [
    "with open('./pipes/MEL_den_frame5_6dB_pump_ID00_IsoFor_64est_4mf_20200520_160147.pkl', 'rb') as f:\n",
    "    pipe = pickle.load(f)"
   ]
  },
  {
   "cell_type": "code",
   "execution_count": 32,
   "metadata": {
    "ExecuteTime": {
     "end_time": "2020-05-21T09:37:35.576030Z",
     "start_time": "2020-05-21T09:37:35.572030Z"
    }
   },
   "outputs": [],
   "source": [
    "prediction = pd.Series(pipe.df_test.pred_scores, name='scores')"
   ]
  },
  {
   "cell_type": "code",
   "execution_count": 33,
   "metadata": {
    "ExecuteTime": {
     "end_time": "2020-05-21T09:37:52.420621Z",
     "start_time": "2020-05-21T09:37:52.416622Z"
    }
   },
   "outputs": [],
   "source": [
    "files = pipe.df_test.path"
   ]
  },
  {
   "cell_type": "code",
   "execution_count": 36,
   "metadata": {
    "ExecuteTime": {
     "end_time": "2020-05-21T09:40:24.359033Z",
     "start_time": "2020-05-21T09:40:24.338029Z"
    }
   },
   "outputs": [],
   "source": [
    "prediction = prediction.groupby(by=files).sum()"
   ]
  },
  {
   "cell_type": "code",
   "execution_count": 38,
   "metadata": {
    "ExecuteTime": {
     "end_time": "2020-05-21T09:40:35.035491Z",
     "start_time": "2020-05-21T09:40:35.024490Z"
    }
   },
   "outputs": [
    {
     "data": {
      "text/plain": [
       "array([ 3.77003765e+00,  7.24501319e+00, -5.94986138e-02,  2.23944196e+00,\n",
       "       -1.26390562e+00,  3.57144706e+00, -3.10210777e-01,  1.28023032e+00,\n",
       "        3.10508577e-02,  4.39692033e+00,  2.16729424e+00,  1.82966806e+00,\n",
       "        1.31475693e+00,  2.45922598e+00,  4.43961390e+00,  1.82933089e+00,\n",
       "        1.49933897e+00,  7.00993988e+00,  2.42290132e+00,  3.66928942e+00,\n",
       "        5.01545005e+00,  4.28305605e+00,  2.46573385e+00,  4.88239223e+00,\n",
       "        4.54138434e+00,  5.72000343e+00,  7.89148203e+00,  1.33197468e+00,\n",
       "        9.64575740e+00,  9.08793777e+00,  7.37326375e+00,  8.06604141e+00,\n",
       "        2.28389230e+00,  3.75168306e+00,  8.23803896e+00,  8.33009353e+00,\n",
       "        4.19344664e+00,  2.80273522e+00,  7.00040728e+00,  5.11362284e+00,\n",
       "        6.76382040e+00,  8.59342984e+00,  6.60945839e+00,  3.06047378e+00,\n",
       "        5.08669939e+00,  8.33557360e+00,  7.00815086e+00,  6.07615609e+00,\n",
       "        1.45500466e+00,  6.18379420e+00,  4.50509467e+00,  8.90580553e+00,\n",
       "        1.71455845e+00,  7.25878473e+00,  7.14572720e+00,  4.88345351e+00,\n",
       "        5.69571740e+00,  2.62619124e+00,  6.73527898e+00,  2.31761941e+00,\n",
       "        8.91078392e+00,  7.62990387e+00,  3.63983877e+00,  6.68497420e+00,\n",
       "        4.45292166e+00,  8.64486166e+00,  4.24458398e+00,  5.67254259e+00,\n",
       "        5.79873486e+00,  3.44709763e+00,  1.23183077e+01,  1.70755693e+01,\n",
       "        1.64149025e+01,  8.15323928e+00,  9.77125476e+00,  9.38316965e+00,\n",
       "        8.44151710e+00,  1.12645967e+01, -1.57709724e+00, -1.20840816e-01,\n",
       "        1.08623031e+00,  2.20285322e+00, -3.90760605e+00,  3.14925034e-01,\n",
       "        6.64827476e-01, -6.17706581e-01,  1.36321476e+00,  2.53398079e+00,\n",
       "       -8.20124151e-01,  1.61386154e-01,  2.21691520e-03, -1.13167548e+00,\n",
       "        1.21753837e+00,  4.23877782e+00, -3.14496867e+00,  1.06930333e-01,\n",
       "       -1.43141089e+00,  1.70535391e+00, -3.49635736e+00, -9.55850374e+00,\n",
       "        1.07985967e+00, -4.24761453e-01, -1.94500001e-01,  9.20525239e+00,\n",
       "        1.03553646e+01,  1.16742431e+01,  1.13929246e+01,  8.22465852e+00,\n",
       "        6.93229617e+00,  1.02364260e+01,  1.17828431e+01,  9.26547016e+00,\n",
       "        2.34141418e+00,  5.21101872e+00,  5.47358367e+00,  5.14978651e+00,\n",
       "        3.58147642e+00,  9.01181635e+00,  6.55224457e+00,  5.47160110e+00,\n",
       "        4.16621866e+00,  5.64643881e+00, -1.17110575e+01, -1.61823663e+01,\n",
       "       -2.35113446e+00, -9.14090418e+00, -1.17781556e+01, -2.95471197e+01,\n",
       "       -8.24569054e+00, -3.44190652e+00, -2.04462236e+00, -1.28372456e+01,\n",
       "        3.35640324e+00,  7.32044181e-01,  1.30501403e+01,  5.24935578e+00,\n",
       "       -6.63095320e+00,  1.36484400e+01, -4.01843056e+00, -3.82528555e+00,\n",
       "       -3.18839063e+00, -7.87930884e+00, -1.06944309e+00,  1.77386265e+01,\n",
       "        2.02933579e+01,  2.35563611e+01,  2.10110537e+01,  2.30720499e+01,\n",
       "        2.06835834e+01,  2.41603970e+01,  2.08903653e+01,  2.20078522e+01,\n",
       "        2.72038970e+01,  2.73296537e+01,  1.67192792e+01,  2.26428693e+01,\n",
       "        1.80175864e+01,  2.55973599e+01,  2.28330053e+01,  2.70589066e+01,\n",
       "        2.52708008e+01,  2.66940649e+01,  2.67864417e+01,  2.52252433e+01,\n",
       "        2.43213783e+01,  2.60719735e+01,  1.81372354e+01,  2.59193929e+01,\n",
       "        2.59288776e+01,  1.88036052e+01,  2.37085342e+01,  2.83605125e+01,\n",
       "        2.40006936e+01,  1.91423096e+01,  2.34088538e+01,  1.77291872e+01,\n",
       "        1.83468521e+01,  2.48924932e+01,  2.17400396e+01,  2.24059030e+01,\n",
       "        2.80721759e+01,  6.36539659e+00,  2.43384297e+01,  2.32658052e+01,\n",
       "        2.72438012e+01,  2.42190526e+01,  2.57781872e+01,  2.28337704e+01,\n",
       "        2.57174439e+01,  2.11605266e+01,  2.47991768e+01,  1.97120056e+01,\n",
       "        2.51204781e+01,  2.51343083e+01,  1.42837666e+01,  2.55758977e+01,\n",
       "        2.43161652e+01,  2.51005583e+01,  2.44594437e+01,  2.10101183e+01,\n",
       "        2.20145144e+01,  2.13431853e+01,  1.73629075e+01,  1.73517387e+01,\n",
       "        2.38781627e+01,  2.35799966e+01,  2.41641000e+01,  2.37695120e+01,\n",
       "        2.27271395e+01,  2.58695128e+01,  2.65241606e+01,  2.42459870e+01,\n",
       "        1.89604849e+01,  2.71566160e+01,  2.35401797e+01,  2.42302488e+01,\n",
       "        2.31586979e+01,  2.53990518e+01,  2.63331995e+01,  2.19523027e+01,\n",
       "        2.06352820e+01,  2.07226896e+01,  2.61923378e+01,  2.57744730e+01,\n",
       "        2.51787196e+01,  2.21501151e+01,  2.47868994e+01,  2.18495404e+01,\n",
       "        2.41265119e+01,  2.13482835e+01,  2.76708224e+01,  2.43655342e+01,\n",
       "        2.25299329e+01,  2.17395321e+01,  2.04556078e+01,  2.57736742e+01,\n",
       "        2.73105040e+01,  2.58454696e+01,  2.80648624e+01,  2.52533219e+01,\n",
       "        2.69848092e+01,  1.86517900e+01,  2.63858130e+01,  2.25185134e+01,\n",
       "        2.69315600e+01,  2.56808947e+01,  2.47606255e+01,  2.47803691e+01,\n",
       "        1.65645438e+01,  2.57630461e+01,  2.73839648e+01,  2.65480630e+01,\n",
       "        2.63085852e+01,  2.64657272e+01,  2.73537030e+01,  2.60031799e+01,\n",
       "        2.67976294e+01,  2.32273607e+01,  2.19139831e+01,  1.91634693e+01,\n",
       "        2.10497666e+01,  2.57868724e+01,  2.92003876e+01,  2.58729531e+01,\n",
       "        1.84868841e+01,  1.98906922e+01,  2.74997701e+01,  2.22255648e+01,\n",
       "        2.10447567e+01,  2.71849504e+01,  2.78309787e+01,  2.10203358e+01,\n",
       "        1.72269915e+01,  2.71382411e+01,  9.15106482e+00,  2.40306385e+01,\n",
       "        2.50794850e+01,  2.35311138e+01,  2.81334862e+01,  6.86885735e+00,\n",
       "        2.36448382e+01,  1.99893020e+01,  2.21087171e+01,  1.77768193e+01,\n",
       "        2.13054551e+01,  2.77478944e+01])"
      ]
     },
     "execution_count": 38,
     "metadata": {},
     "output_type": "execute_result"
    }
   ],
   "source": [
    "np.array(prediction)"
   ]
  },
  {
   "cell_type": "code",
   "execution_count": null,
   "metadata": {},
   "outputs": [],
   "source": []
  },
  {
   "cell_type": "code",
   "execution_count": null,
   "metadata": {
    "ExecuteTime": {
     "end_time": "2020-05-21T09:20:21.727491Z",
     "start_time": "2020-05-21T09:20:08.016Z"
    }
   },
   "outputs": [],
   "source": [
    "ensemble = uni_Ensemble('6dB', 'pump', '00')"
   ]
  },
  {
   "cell_type": "code",
   "execution_count": null,
   "metadata": {
    "ExecuteTime": {
     "end_time": "2020-05-21T09:20:21.728490Z",
     "start_time": "2020-05-21T09:20:08.019Z"
    },
    "scrolled": true
   },
   "outputs": [],
   "source": [
    "ensemble.fit()"
   ]
  },
  {
   "cell_type": "code",
   "execution_count": null,
   "metadata": {
    "ExecuteTime": {
     "end_time": "2020-05-21T09:20:21.730492Z",
     "start_time": "2020-05-21T09:20:08.023Z"
    },
    "scrolled": true
   },
   "outputs": [],
   "source": [
    "ensemble.predict(data_test)"
   ]
  },
  {
   "cell_type": "markdown",
   "metadata": {},
   "source": [
    "## Setting up supervised training"
   ]
  },
  {
   "cell_type": "code",
   "execution_count": null,
   "metadata": {
    "ExecuteTime": {
     "end_time": "2020-05-21T09:20:21.731492Z",
     "start_time": "2020-05-21T09:20:08.026Z"
    }
   },
   "outputs": [],
   "source": [
    "#===============================================\n",
    "# Adding up all the tasks\n",
    "tasks = []\n",
    "pipes = []"
   ]
  },
  {
   "cell_type": "markdown",
   "metadata": {},
   "source": [
    "### Autoencoder"
   ]
  },
  {
   "cell_type": "markdown",
   "metadata": {
    "ExecuteTime": {
     "end_time": "2020-05-20T08:52:23.045467Z",
     "start_time": "2020-05-20T08:52:23.025466Z"
    }
   },
   "source": [
    "# Define Training Task list for the pipe\n",
    "features = [('MEL_den', {'function':'frame', 'frames':5})]\n",
    "model = 'IsoFor'\n",
    "\n",
    "# Preprocessing pipe\n",
    "preprocessing = [\n",
    "    (PCA, {'n_components':64}),\n",
    "    (StandardScaler, {})\n",
    "]\n",
    "\n",
    "# uni_Model define\n",
    "# See also \\utility\\modeling\\pseudo_supervised_models.py form more uni models \n",
    "modeling = (uni_AutoEncoder, {'epochs':50})\n",
    "\n",
    "for machine in machines:\n",
    "    for SNR in SNRs:\n",
    "        for ID in IDs:\n",
    "            for feature in features:\n",
    "                task = {\n",
    "                'path_descr': find_data_file(SNR, machine, ID),\n",
    "                'feat':feature[1], \n",
    "                'feat_col':feature[0], \n",
    "                'SNR':SNR, \n",
    "                'machine':machine,\n",
    "                'ID':ID,\n",
    "                'BASE_FOLDER':BASE_FOLDER}\n",
    "\n",
    "                # append tasks\n",
    "                tasks.append(task)\n",
    "\n",
    "                # append pipes\n",
    "                pipes.append(Pipe(preprocessing, modeling, pseudo_sup=False))"
   ]
  },
  {
   "cell_type": "markdown",
   "metadata": {},
   "source": [
    "### Isolation Forest on spectral data"
   ]
  },
  {
   "cell_type": "markdown",
   "metadata": {
    "ExecuteTime": {
     "end_time": "2020-05-20T11:41:20.452067Z",
     "start_time": "2020-05-20T11:41:20.441129Z"
    }
   },
   "source": [
    "# Define Training Task list for the pipe\n",
    "features = [('MEL_den', {'function':'frame', 'frames':5})]\n",
    "model = 'IsoFor'\n",
    "\n",
    "# Preprocessing pipe\n",
    "preprocessing = [\n",
    "    (PCA, {'n_components':64}),\n",
    "    (StandardScaler, {})\n",
    "]\n",
    "\n",
    "# uni_Model define\n",
    "# See also \\utility\\modeling\\pseudo_supervised_models.py form more uni models \n",
    "modeling = (uni_IsolationForest, {'n_estimators':64, 'max_features':4})\n",
    "\n",
    "for machine in machines:\n",
    "    for SNR in SNRs:\n",
    "        for ID in IDs:\n",
    "            for feature in features:\n",
    "                task = {\n",
    "                'path_descr': find_data_file(SNR, machine, ID),\n",
    "                'feat':feature[1], \n",
    "                'feat_col':feature[0], \n",
    "                'SNR':SNR, \n",
    "                'machine':machine,\n",
    "                'ID':ID,\n",
    "                'BASE_FOLDER':BASE_FOLDER}\n",
    "\n",
    "                # append tasks\n",
    "                tasks.append(task)\n",
    "\n",
    "                # append pipes\n",
    "                pipes.append(Pipe(preprocessing, modeling, pseudo_sup=False))"
   ]
  },
  {
   "cell_type": "markdown",
   "metadata": {},
   "source": [
    "### Isolation Forest on welch spectrum"
   ]
  },
  {
   "cell_type": "code",
   "execution_count": null,
   "metadata": {
    "ExecuteTime": {
     "end_time": "2020-05-21T09:20:21.733491Z",
     "start_time": "2020-05-21T09:20:08.032Z"
    }
   },
   "outputs": [],
   "source": [
    "# Define Training Task list for the pipe\n",
    "features = [('PSD_raw', {'function':'channel'})]\n",
    "model = 'IsoFor'\n",
    "\n",
    "# Preprocessing pipe\n",
    "preprocessing = [\n",
    "    (StandardScaler, {})\n",
    "]\n",
    "\n",
    "# uni_Model define\n",
    "# See also \\utility\\modeling\\pseudo_supervised_models.py form more uni models \n",
    "modeling = (uni_IsolationForest, {'n_estimators':200, 'max_features':1})\n",
    "\n",
    "for machine in machines:\n",
    "    for SNR in SNRs:\n",
    "        for ID in IDs:\n",
    "            for feature in features:\n",
    "                task = {\n",
    "                'path_descr': find_data_file(SNR, machine, ID),\n",
    "                'feat':feature[1], \n",
    "                'feat_col':feature[0], \n",
    "                'SNR':SNR, \n",
    "                'machine':machine,\n",
    "                'ID':ID,\n",
    "                'BASE_FOLDER':BASE_FOLDER}\n",
    "\n",
    "                # append tasks\n",
    "                tasks.append(task)\n",
    "\n",
    "                # append pipes\n",
    "                pipes.append(Pipe(preprocessing, modeling, pseudo_sup=False))"
   ]
  },
  {
   "cell_type": "markdown",
   "metadata": {
    "ExecuteTime": {
     "end_time": "2020-05-11T13:42:05.617953Z",
     "start_time": "2020-05-11T13:42:05.613964Z"
    }
   },
   "source": [
    "## Setting up pseudo supervised training"
   ]
  },
  {
   "cell_type": "markdown",
   "metadata": {
    "ExecuteTime": {
     "end_time": "2020-05-20T08:52:28.203654Z",
     "start_time": "2020-05-20T08:52:28.189653Z"
    }
   },
   "source": [
    "# Define Training Task list for the pipe\n",
    "\n",
    "features = [('PSD_raw', {'function':'flat'})]\n",
    "model = 'SVM'\n",
    "\n",
    "# Preprocessing pipe\n",
    "preprocessing = [\n",
    "    (StandardScaler, {})\n",
    "]\n",
    "\n",
    "# uni_Model define\n",
    "# See also \\utility\\modeling\\pseudo_supervised_models.py form more uni models \n",
    "# also on how to use grid search (here not needed yet hence no augmentation feedback)\n",
    "modeling = (uni_svm, {'C': 0.1, 'degree':3,'kernel':'rbf'})\n",
    "\n",
    "\n",
    "for machine in machines:\n",
    "    for SNR in SNRs:\n",
    "        for ID in IDs:\n",
    "            for feature in features:\n",
    "                # check if model already exists\n",
    "                if not find_pipe(feature[0], SNR, machine, ID, model):\n",
    "                    task = {\n",
    "                    'path_descr': find_data_file(SNR, machine, ID),\n",
    "                    'feat':feature[1], \n",
    "                    'feat_col':feature[0], \n",
    "                    'SNR':SNR, \n",
    "                    'machine':machine,\n",
    "                    'ID':ID,\n",
    "                    'BASE_FOLDER':BASE_FOLDER}\n",
    "                    \n",
    "                    # append tasks\n",
    "                    tasks.append(task)\n",
    "                    \n",
    "                    # append pipes\n",
    "                    pipes.append(Pipe(preprocessing, modeling, pseudo_sup=True))"
   ]
  },
  {
   "cell_type": "markdown",
   "metadata": {},
   "source": [
    "## Training the models"
   ]
  },
  {
   "cell_type": "code",
   "execution_count": null,
   "metadata": {
    "ExecuteTime": {
     "end_time": "2020-05-21T09:20:21.734491Z",
     "start_time": "2020-05-21T09:20:08.037Z"
    }
   },
   "outputs": [],
   "source": [
    "pipes[0].run_pipe(task)"
   ]
  },
  {
   "cell_type": "code",
   "execution_count": null,
   "metadata": {
    "ExecuteTime": {
     "end_time": "2020-05-21T09:20:21.735491Z",
     "start_time": "2020-05-21T09:20:08.044Z"
    }
   },
   "outputs": [],
   "source": [
    "tasks_failed = []\n",
    "for pipe, task in tqdm(zip(pipes, tasks), total=len(tasks)):\n",
    "    try:\n",
    "        pipe.run_pipe(task)\n",
    "    except:\n",
    "        tasks_failed.append(task)\n",
    "        print('Task failed \\n', task)"
   ]
  },
  {
   "cell_type": "markdown",
   "metadata": {
    "ExecuteTime": {
     "end_time": "2020-05-11T13:43:00.154076Z",
     "start_time": "2020-05-11T13:43:00.151082Z"
    }
   },
   "source": [
    "# Ensemble Blending"
   ]
  },
  {
   "cell_type": "code",
   "execution_count": null,
   "metadata": {},
   "outputs": [],
   "source": []
  },
  {
   "cell_type": "markdown",
   "metadata": {},
   "source": [
    "# Summery/ Results"
   ]
  },
  {
   "cell_type": "code",
   "execution_count": null,
   "metadata": {},
   "outputs": [],
   "source": []
  }
 ],
 "metadata": {
  "kernelspec": {
   "display_name": "Py3.7 (mimii_base_TF2_GPU)",
   "language": "python",
   "name": "mimii-tf2-gpu"
  },
  "language_info": {
   "codemirror_mode": {
    "name": "ipython",
    "version": 3
   },
   "file_extension": ".py",
   "mimetype": "text/x-python",
   "name": "python",
   "nbconvert_exporter": "python",
   "pygments_lexer": "ipython3",
   "version": "3.7.7"
  },
  "toc": {
   "base_numbering": 1,
   "nav_menu": {},
   "number_sections": true,
   "sideBar": true,
   "skip_h1_title": false,
   "title_cell": "Table of Contents",
   "title_sidebar": "Contents",
   "toc_cell": false,
   "toc_position": {},
   "toc_section_display": true,
   "toc_window_display": false
  }
 },
 "nbformat": 4,
 "nbformat_minor": 4
}
