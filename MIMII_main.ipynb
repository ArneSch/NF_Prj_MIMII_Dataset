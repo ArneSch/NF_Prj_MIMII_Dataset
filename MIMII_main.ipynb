{
 "cells": [
  {
   "cell_type": "markdown",
   "metadata": {
    "ExecuteTime": {
     "end_time": "2020-05-11T13:31:31.616054Z",
     "start_time": "2020-05-11T13:31:31.613337Z"
    }
   },
   "source": [
    "# About\n",
    "\n",
    "![prjpic](doc/media_main/story.png)"
   ]
  },
  {
   "cell_type": "markdown",
   "metadata": {},
   "source": [
    "# Imports"
   ]
  },
  {
   "cell_type": "code",
   "execution_count": 5,
   "metadata": {
    "ExecuteTime": {
     "end_time": "2020-05-11T13:37:20.223870Z",
     "start_time": "2020-05-11T13:37:20.192926Z"
    },
    "scrolled": true
   },
   "outputs": [
    {
     "name": "stdout",
     "output_type": "stream",
     "text": [
      "load feature_extractor_mother\n",
      "load feature_extractor_mel_spectra\n",
      "load feature_extractor_psd\n",
      "load feature_extractor_ICA2\n",
      "load feature_extractore_pre_nnFilterDenoise\n",
      "load extractor_diagram_mother\n",
      "load Simple_FIR_HP\n",
      "load TimeSliceAppendActivation\n",
      "load load_data\n",
      "Load split_data\n",
      "Load anomaly_detection_models\n",
      "Load pseudo_supervised_models\n",
      "Load tensorflow models\n",
      "Load detection_pipe\n",
      "load # extractor diagram V1 essential\n"
     ]
    }
   ],
   "source": [
    "#===============================================\n",
    "# Basic Imports\n",
    "BASE_FOLDER = './'\n",
    "# import the repo-local utility py files\n",
    "%run -i utility\\feature_extractor\\JupyterLoad_feature_extractor.py\n",
    "%run -i utility\\modeling\\JupyterLoad_modeling.py\n",
    "\n",
    "# feature extraction diagram\n",
    "%run -i feature_extraction_diagrams\\extdia_v1_essential\n",
    "%run -i utility\\extractor_batch.py\n",
    "\n",
    "# helper\n",
    "from tqdm.auto import tqdm\n",
    "import glob\n",
    "import gc\n",
    "\n",
    "# sklearn \n",
    "from sklearn.preprocessing import StandardScaler\n",
    "from sklearn.decomposition import PCA, FastICA\n"
   ]
  },
  {
   "cell_type": "markdown",
   "metadata": {
    "ExecuteTime": {
     "end_time": "2020-05-11T13:39:10.674321Z",
     "start_time": "2020-05-11T13:39:10.671328Z"
    }
   },
   "source": [
    "## Utility wrapper functions"
   ]
  },
  {
   "cell_type": "code",
   "execution_count": null,
   "metadata": {},
   "outputs": [],
   "source": [
    "def feat_ext_process_set(FileFindDict, main_channel=0, sporadic=False, augment=False,FileCountLimit=None):\n",
    "    \n",
    "    if sporadic:\n",
    "        dt = 1 # 1 means time slicing \n",
    "    else:\n",
    "        dt = 0\n",
    "        \n",
    "    if augment:\n",
    "        ag = 0 # augment only normal operation\n",
    "    else:\n",
    "        ag = -2 # not existing class = no augment\n",
    "\n",
    "    extractor_batch(base_folder= BASE_FOLDER, \n",
    "                    target_folder=target_folder, \n",
    "                    extdia = extdia_v1, \n",
    "                    FileFindDict = FileFindDict,\n",
    "                    n_jobs = n_jobs,\n",
    "                    target_class_map = {'abnormal':1, 'normal': 0},\n",
    "                    FileCountLimit = FileCountLimit,\n",
    "                    datset_folder_from_base = 'dataset',\n",
    "                    fHP=120,\n",
    "                    DeviceType=dt,\n",
    "                    main_channel = main_channel,\n",
    "                    augment=ag)\n",
    "    \n",
    "    gc.collect()"
   ]
  },
  {
   "cell_type": "markdown",
   "metadata": {},
   "source": [
    "# Feat Extraction"
   ]
  },
  {
   "cell_type": "markdown",
   "metadata": {
    "ExecuteTime": {
     "end_time": "2020-05-11T13:40:58.788472Z",
     "start_time": "2020-05-11T13:40:58.786459Z"
    }
   },
   "source": [
    "## Confirm feature extraction diagram\n",
    "\n",
    "![exdia](doc/media_feature_extraction/exdia_v1_essential.png)\n",
    "in order to modify the diagram go the class definition:  /feature_extraction_diagrams/extdia_v1_essential.py"
   ]
  },
  {
   "cell_type": "code",
   "execution_count": 11,
   "metadata": {
    "ExecuteTime": {
     "end_time": "2020-05-11T13:45:31.262384Z",
     "start_time": "2020-05-11T13:45:31.257367Z"
    },
    "scrolled": true
   },
   "outputs": [
    {
     "ename": "SyntaxError",
     "evalue": "invalid syntax (<ipython-input-11-09d1a9af7b13>, line 1)",
     "output_type": "error",
     "traceback": [
      "\u001b[1;36m  File \u001b[1;32m\"<ipython-input-11-09d1a9af7b13>\"\u001b[1;36m, line \u001b[1;32m1\u001b[0m\n\u001b[1;33m    ExampleFileFilter =\u001b[0m\n\u001b[1;37m                        ^\u001b[0m\n\u001b[1;31mSyntaxError\u001b[0m\u001b[1;31m:\u001b[0m invalid syntax\n"
     ]
    }
   ],
   "source": [
    "ExampleFileFilter = \n",
    "# create some \n",
    "# reload\n",
    "# make plots"
   ]
  },
  {
   "cell_type": "markdown",
   "metadata": {},
   "source": [
    "## Batch creation "
   ]
  },
  {
   "cell_type": "code",
   "execution_count": 12,
   "metadata": {
    "ExecuteTime": {
     "end_time": "2020-05-11T13:46:54.246545Z",
     "start_time": "2020-05-11T13:46:54.241580Z"
    }
   },
   "outputs": [
    {
     "ename": "SyntaxError",
     "evalue": "invalid syntax (<ipython-input-12-1a88de0b4f3b>, line 2)",
     "output_type": "error",
     "traceback": [
      "\u001b[1;36m  File \u001b[1;32m\"<ipython-input-12-1a88de0b4f3b>\"\u001b[1;36m, line \u001b[1;32m2\u001b[0m\n\u001b[1;33m    BatchFileFilter =\u001b[0m\n\u001b[1;37m                       ^\u001b[0m\n\u001b[1;31mSyntaxError\u001b[0m\u001b[1;31m:\u001b[0m invalid syntax\n"
     ]
    }
   ],
   "source": [
    "# For demonstarion One machine On ID ... \n",
    "BatchFileFilter =  \n",
    "# Create the batch"
   ]
  },
  {
   "cell_type": "markdown",
   "metadata": {},
   "source": [
    "# Modeling"
   ]
  },
  {
   "cell_type": "markdown",
   "metadata": {},
   "source": [
    "## stochstic training"
   ]
  },
  {
   "cell_type": "markdown",
   "metadata": {
    "ExecuteTime": {
     "end_time": "2020-05-11T13:42:05.617953Z",
     "start_time": "2020-05-11T13:42:05.613964Z"
    }
   },
   "source": [
    "## pseudo supervised training"
   ]
  },
  {
   "cell_type": "markdown",
   "metadata": {},
   "source": [
    "## auto encoder training"
   ]
  },
  {
   "cell_type": "markdown",
   "metadata": {
    "ExecuteTime": {
     "end_time": "2020-05-11T13:43:00.154076Z",
     "start_time": "2020-05-11T13:43:00.151082Z"
    }
   },
   "source": [
    "# Ensamble Blending"
   ]
  },
  {
   "cell_type": "markdown",
   "metadata": {},
   "source": [
    "# Summery/ Results"
   ]
  },
  {
   "cell_type": "code",
   "execution_count": null,
   "metadata": {},
   "outputs": [],
   "source": []
  }
 ],
 "metadata": {
  "kernelspec": {
   "display_name": "Py3.7 (mimii_base_TF2_GPU)",
   "language": "python",
   "name": "mimiibasetf2gpu"
  },
  "language_info": {
   "codemirror_mode": {
    "name": "ipython",
    "version": 3
   },
   "file_extension": ".py",
   "mimetype": "text/x-python",
   "name": "python",
   "nbconvert_exporter": "python",
   "pygments_lexer": "ipython3",
   "version": "3.7.6"
  },
  "toc": {
   "base_numbering": 1,
   "nav_menu": {},
   "number_sections": true,
   "sideBar": true,
   "skip_h1_title": false,
   "title_cell": "Table of Contents",
   "title_sidebar": "Contents",
   "toc_cell": false,
   "toc_position": {},
   "toc_section_display": true,
   "toc_window_display": false
  }
 },
 "nbformat": 4,
 "nbformat_minor": 4
}
