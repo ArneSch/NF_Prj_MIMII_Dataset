{
 "cells": [
  {
   "cell_type": "markdown",
   "metadata": {
    "ExecuteTime": {
     "end_time": "2020-05-11T13:31:31.616054Z",
     "start_time": "2020-05-11T13:31:31.613337Z"
    }
   },
   "source": [
    "# About\n",
    "\n",
    "![prjpic](doc/media_main/story.png)\n",
    "\n",
    "This is the main demo of this repo, it is about a concept study on the MIMII dataset to detect anomalies of machines or machine parts like fans, slider, pump and valves by means of classic machine learning and deep learning methods.\n",
    "\n",
    "In runs through the essentials to demonstrate the steps\n",
    "* feature extraction\n",
    "* indvitual model training \n",
    "* ensamble building and varfication\n",
    "* summery and scores"
   ]
  },
  {
   "cell_type": "markdown",
   "metadata": {},
   "source": [
    "# Imports"
   ]
  },
  {
   "cell_type": "code",
   "execution_count": 1,
   "metadata": {
    "ExecuteTime": {
     "end_time": "2020-05-22T12:45:02.378794Z",
     "start_time": "2020-05-22T12:44:57.051744Z"
    },
    "scrolled": true
   },
   "outputs": [
    {
     "name": "stdout",
     "output_type": "stream",
     "text": [
      "load feature_extractor_mother\n",
      "load feature_extractor_mel_spectra\n",
      "load feature_extractor_psd\n",
      "load feature_extractor_ICA2\n",
      "load feature_extractore_pre_nnFilterDenoise\n",
      "load extractor_diagram_mother\n",
      "load Simple_FIR_HP\n",
      "load TimeSliceAppendActivation\n",
      "load load_data\n",
      "Load split_data\n",
      "Load anomaly_detection_models\n",
      "Load pseudo_supervised_models\n",
      "Load tensorflow models\n",
      "Load detection_pipe\n",
      "load # extractor diagram V1 essential\n",
      "load extractor_batch\n"
     ]
    }
   ],
   "source": [
    "#===============================================\n",
    "# Basic Imports\n",
    "BASE_FOLDER = './'\n",
    "TARGET_FOLDER_FE = r'\\dataset\\extdia_v1_essential' # output folder for ffeat. extraction\n",
    "# import the repo-local utility py files\n",
    "%run -i utility\\feature_extractor\\JupyterLoad_feature_extractor.py\n",
    "%run -i utility\\modeling\\JupyterLoad_modeling.py\n",
    "\n",
    "# feature extraction diagram\n",
    "%run -i feature_extraction_diagrams\\extdia_v1_essential\n",
    "%run -i utility\\extractor_batch.py\n",
    "\n",
    "# helper\n",
    "from tqdm.auto import tqdm\n",
    "import glob\n",
    "import gc\n",
    "\n",
    "# sklearn \n",
    "from sklearn.preprocessing import StandardScaler\n",
    "from sklearn.decomposition import PCA, FastICA\n",
    "\n",
    "feat_ext_folder = os.path.abspath(BASE_FOLDER + TARGET_FOLDER_FE)"
   ]
  },
  {
   "cell_type": "markdown",
   "metadata": {},
   "source": [
    "## General config\n",
    "\n",
    "To customize the following notebook execution, set the specifications here:\n",
    "\n",
    "The execution time on a local desktop PC for all four IDs of one machine and one SNR is circa 1 hour. We recommend only executing a set of 4 variations at a time."
   ]
  },
  {
   "cell_type": "code",
   "execution_count": 29,
   "metadata": {
    "ExecuteTime": {
     "end_time": "2020-05-22T13:05:28.951449Z",
     "start_time": "2020-05-22T13:05:28.947439Z"
    }
   },
   "outputs": [],
   "source": [
    "#===============================================\n",
    "# Possible variations\n",
    "# \n",
    "# SNRs = ['6dB', '0dB', 'min6dB']\n",
    "# machines = ['pump', 'valve', 'fan', 'slider']\n",
    "# IDs = ['00', '02', '04', '06']\n",
    "\n",
    "SNRs = ['6dB']\n",
    "machines = ['valve']\n",
    "IDs = ['00']\n",
    "\n",
    "# note: increase n_jobs to max. CPUs you have use all hyperthreading cores (there is no auto detect just now)\n",
    "n_jobs = 8"
   ]
  },
  {
   "cell_type": "markdown",
   "metadata": {
    "ExecuteTime": {
     "end_time": "2020-05-11T13:39:10.674321Z",
     "start_time": "2020-05-11T13:39:10.671328Z"
    }
   },
   "source": [
    "## Utility wrapper functions"
   ]
  },
  {
   "cell_type": "code",
   "execution_count": 30,
   "metadata": {
    "ExecuteTime": {
     "end_time": "2020-05-22T13:05:30.379784Z",
     "start_time": "2020-05-22T13:05:30.370783Z"
    }
   },
   "outputs": [],
   "source": [
    "def feat_ext_process_set(FileFindDict, main_channel=0, sporadic=False, augment=False,FileCountLimit=None, n_jobs=4):\n",
    "    \n",
    "    if sporadic:\n",
    "        dt = 1 # 1 means time slicing \n",
    "    else:\n",
    "        dt = 0\n",
    "        \n",
    "    if augment:\n",
    "        ag = 0 # augment only normal operation\n",
    "    else:\n",
    "        ag = -2 # not existing class = no augment\n",
    "        \n",
    "    extractor_batch(base_folder= BASE_FOLDER, \n",
    "                    target_folder=TARGET_FOLDER_FE, \n",
    "                    extdia = extdia_v1_essential, \n",
    "                    FileFindDict = FileFindDict,\n",
    "                    n_jobs = n_jobs,\n",
    "                    target_class_map = {'abnormal':1, 'normal': 0},\n",
    "                    FileCountLimit = FileCountLimit,\n",
    "                    datset_folder_from_base = 'dataset',\n",
    "                    fHP=120,\n",
    "                    DeviceType=dt,\n",
    "                    main_channel = main_channel,\n",
    "                    augment=ag)\n",
    "    \n",
    "    gc.collect()"
   ]
  },
  {
   "cell_type": "code",
   "execution_count": 31,
   "metadata": {
    "ExecuteTime": {
     "end_time": "2020-05-22T13:05:31.035081Z",
     "start_time": "2020-05-22T13:05:31.028065Z"
    }
   },
   "outputs": [],
   "source": [
    "def find_data_file(SNR, machine, ID):\n",
    "    '''\n",
    "    function to find existing feature data files\n",
    "    '''\n",
    "    path = glob.glob(BASE_FOLDER \n",
    "              + '/dataset/extdia_v1_essential/{}{}{}_EDiaV1HP'.format(machine, SNR, ID) \n",
    "              + \"*pandaDisc*.pkl\", recursive=True)\n",
    "    \n",
    "    if len(path) == 0:\n",
    "        return None\n",
    "    elif len(path) == 1:\n",
    "        return path[0]\n",
    "    else:\n",
    "        raise Exception('More than one file found:', path)"
   ]
  },
  {
   "cell_type": "markdown",
   "metadata": {},
   "source": [
    "# Feat Extraction"
   ]
  },
  {
   "cell_type": "markdown",
   "metadata": {
    "ExecuteTime": {
     "end_time": "2020-05-11T13:40:58.788472Z",
     "start_time": "2020-05-11T13:40:58.786459Z"
    }
   },
   "source": [
    "## Confirm feature extraction diagram\n",
    "\n",
    "![exdia](doc/media_feature_extraction/exdia_v1_essential.png)\n",
    "in order to modify the diagram go the class definition:  /feature_extraction_diagrams/extdia_v1_essential.py"
   ]
  },
  {
   "cell_type": "markdown",
   "metadata": {},
   "source": [
    "### Note to the main_channel\n",
    "The main channel is picking one microphone out of the 8, \n",
    "this can be seen as if the demo version is strictly in working mono\n",
    "Or a DOA could be used to find the main direction see : feature_extraction_diagrams/A21_DirectionOfArrival_DOA/pyroomacustic_DOA.ipynb"
   ]
  },
  {
   "cell_type": "markdown",
   "metadata": {
    "ExecuteTime": {
     "end_time": "2020-05-20T11:41:07.790440Z",
     "start_time": "2020-05-20T11:41:07.783440Z"
    },
    "scrolled": true
   },
   "source": [
    "if not find_data_file('6dB', 'pump', '02'):\n",
    "    ExampleFileFilter = {'SNR': ['6dB'],'machine': ['pump'],'ID': ['02']}\n",
    "    # create some \n",
    "    feat_ext_process_set(ExampleFileFilter,\n",
    "                        main_channel=2,\n",
    "                        sporadic = False,\n",
    "                        augment = True,\n",
    "                        FileCountLimit= 4,\n",
    "                        n_jobs=n_jobs)"
   ]
  },
  {
   "cell_type": "markdown",
   "metadata": {},
   "source": [
    "## Spot Check the output"
   ]
  },
  {
   "cell_type": "markdown",
   "metadata": {
    "ExecuteTime": {
     "end_time": "2020-05-20T11:41:11.353733Z",
     "start_time": "2020-05-20T11:41:08.738734Z"
    }
   },
   "source": [
    "# This code reloads pkl files that have been stored\n",
    "# in the step above - notice only created files can be loaded\n",
    "# then a plot is made form n and n+1 output ports\n",
    "# this cell is ment as a spot check before running the batch that might,\n",
    "# take much more time !\n",
    "\n",
    "d_MEL_den = pickle.load( open( feat_ext_folder + r'\\pump6dB02_EDiaV1HPaug0_outpMEL_den.pkl', \"rb\" ))\n",
    "d_MEL_raw = pickle.load( open( feat_ext_folder + r'\\pump6dB02_EDiaV1HPaug0_outpMEL_raw.pkl', \"rb\" ))\n",
    "d_PSD_raw = pickle.load( open( feat_ext_folder + r'\\pump6dB02_EDiaV1HPaug0_outpPSD_raw.pkl', \"rb\" ))\n",
    "n1=2\n",
    "n2=7\n",
    "plt.figure(figsize=(16,9))\n",
    "plt.subplot(321)\n",
    "feature_extractor_from_dict(d_MEL_raw[n1],BASE_FOLDER).plot(False)\n",
    "plt.subplot(322)\n",
    "feature_extractor_from_dict(d_MEL_raw[n2],BASE_FOLDER).plot(False)\n",
    "plt.subplot(323)\n",
    "feature_extractor_from_dict(d_MEL_den[n1],BASE_FOLDER).plot(False)\n",
    "plt.subplot(324)\n",
    "feature_extractor_from_dict(d_MEL_den[n2],BASE_FOLDER).plot(False)\n",
    "plt.subplot(325)\n",
    "feature_extractor_from_dict(d_PSD_raw[n1],BASE_FOLDER).plot(True)\n",
    "plt.subplot(326)\n",
    "feature_extractor_from_dict(d_PSD_raw[n2],BASE_FOLDER).plot(True)\n",
    "plt.tight_layout()\n"
   ]
  },
  {
   "cell_type": "markdown",
   "metadata": {},
   "source": [
    "## Batch creation of feature data"
   ]
  },
  {
   "cell_type": "code",
   "execution_count": null,
   "metadata": {
    "ExecuteTime": {
     "start_time": "2020-05-22T13:05:45.673Z"
    }
   },
   "outputs": [
    {
     "name": "stdout",
     "output_type": "stream",
     "text": [
      "2020-05-22 15:05:45: Target folder will be: D:\\Capstone\\NF_Prj_MIMII_Dataset\\dataset\\extdia_v1_essential\n",
      "2020-05-22 15:05:45: Extractor diagram is fof type: <class '__main__.extdia_v1_essential'>\n",
      "2020-05-22 15:05:45: --------------------------------------------\n",
      "2020-05-22 15:05:45: Working on machinepart:valve SNR:6dB ID:00\n",
      "2020-05-22 15:05:45: Files to process: 1110\n",
      "2020-05-22 15:05:45: multithread mode filling the queue\n"
     ]
    },
    {
     "data": {
      "application/vnd.jupyter.widget-view+json": {
       "model_id": "fe8af7964b9c4c5dabaa9239cfe30a9c",
       "version_major": 2,
       "version_minor": 0
      },
      "text/plain": [
       "HBox(children=(FloatProgress(value=0.0, max=1110.0), HTML(value='')))"
      ]
     },
     "metadata": {},
     "output_type": "display_data"
    }
   ],
   "source": [
    "# Create the batch of feature data\n",
    "# note: there is still a deepcopy issue you may expirence memory leak : https://github.com/BA-HanseML/NF_Prj_MIMII_Dataset/issues/58\n",
    "for SNR in SNRs:\n",
    "    for machine in machines:\n",
    "        for ID in IDs:\n",
    "            # check if files already exist\n",
    "            if not find_data_file(SNR, machine, ID):\n",
    "                BatchFileFilter = {'SNR': SNR,'machine': machine,'ID': ID}\n",
    "                feat_ext_process_set(BatchFileFilter,\n",
    "                                    main_channel=2,\n",
    "                                    sporadic = False,\n",
    "                                    augment = True,\n",
    "                                    n_jobs=n_jobs)"
   ]
  },
  {
   "cell_type": "markdown",
   "metadata": {},
   "source": [
    "# Modeling"
   ]
  },
  {
   "cell_type": "markdown",
   "metadata": {
    "ExecuteTime": {
     "end_time": "2020-05-20T08:19:01.289568Z",
     "start_time": "2020-05-20T08:19:01.282569Z"
    }
   },
   "source": [
    "# PSD_raw_flat_6dB_pump_ID00_SVM\n",
    "\n",
    "def find_pipe(feature, SNR, machine, ID, model):\n",
    "    '''\n",
    "    function to find existing model pipe files\n",
    "    '''\n",
    "    path = glob.glob(BASE_FOLDER \n",
    "              + '/pipes/{}_*_{}_{}_ID{}_{}_*.pkl'.format(feature, SNR, machine, ID, model), recursive=True)\n",
    "    \n",
    "    if len(path) == 0:\n",
    "        return None\n",
    "    elif len(path) == 1:\n",
    "        return path[0]\n",
    "    else:\n",
    "        raise Exception('More than one file found:', path)"
   ]
  },
  {
   "cell_type": "code",
   "execution_count": 14,
   "metadata": {
    "ExecuteTime": {
     "end_time": "2020-05-22T12:52:26.100096Z",
     "start_time": "2020-05-22T12:52:26.070093Z"
    }
   },
   "outputs": [],
   "source": [
    "class uni_Ensemble(object):\n",
    "    def __init__(self, SNR, machine, ID):\n",
    "        self.SNR = SNR\n",
    "        self.machine = machine\n",
    "        self.ID = ID\n",
    "        \n",
    "        self.weights = [0.9, 0.8]\n",
    "        \n",
    "        self.tasks = [{\n",
    "                    'path_descr': find_data_file(SNR, machine, ID),\n",
    "                    'feat':feature[1], \n",
    "                    'feat_col':feature[0], \n",
    "                    'SNR':SNR, \n",
    "                    'machine':machine,\n",
    "                    'ID':ID,\n",
    "                    'BASE_FOLDER':BASE_FOLDER\n",
    "        } for feature in [\n",
    "                         ('PSD_raw', {'function':'flat'}), # Isolation Forest Welch method\n",
    "                         ('PSD_raw', {'function':'flat'})]] # SVM augmented Welch method\n",
    "        \n",
    "        self.pipes = [\n",
    "            Pipe(preprocessing_steps=[(StandardScaler, {})], \n",
    "                 modeling_step=(uni_IsolationForest, {'n_estimators':200, 'max_features':1}),\n",
    "                 pseudo_sup=False), # Isolation Forest Welch method\n",
    "            \n",
    "            Pipe(preprocessing_steps=[(StandardScaler, {})], \n",
    "                 modeling_step=(uni_svm, {'C': 0.1, 'degree':3,'kernel':'rbf'}),\n",
    "                 pseudo_sup=True), # SVM augmented Welch method\n",
    "        ]\n",
    "        \n",
    "    def fit(self):\n",
    "        for pipe, task in zip(self.pipes, self.tasks):\n",
    "            \n",
    "            # set up the task\n",
    "            pipe.task = task\n",
    "            \n",
    "            # split data into train and testset\n",
    "            pipe.split_data()\n",
    "            \n",
    "            # get the data\n",
    "            print('...loading data')\n",
    "            data_train, data_test = pipe.get_data()\n",
    "            print('data loading completed\\n\\n...preprocessing data')\n",
    "\n",
    "            # preprocessing\n",
    "            data_train, data_test = pipe.preprocess(data_train, data_test)\n",
    "            print('data preprocessing finished\\n\\n...fitting the model')\n",
    "\n",
    "            # fitting the model\n",
    "            pipe.fit_model(data_train)\n",
    "            print('model fitted successfully\\n\\n...fitting the prediction scaler')\n",
    "\n",
    "            # fitting the prediction scaler\n",
    "            pipe.fit_aggr_score_scaler(data_train, pipe.df_train.path)\n",
    "            print('prediction scaler fitted successfully\\n\\n...evaluating model')\n",
    "            \n",
    "    def predict(self, data, files):\n",
    "        pass\n",
    "    \n",
    "    def evaluate(self):\n",
    "        for i, (pipe, weight) in enumerate(zip(self.pipes, self.weights)):\n",
    "            _, data_test = pipe.get_data()\n",
    "            data_test = pipe.preprocess_post(data_test)\n",
    "            gt_ = pipe.df_test.abnormal.replace(to_replace=1, value=-1).replace(to_replace=0, value=1)\n",
    "            if i == 0:\n",
    "                predictions = pipe.predict_aggr_score(data_test, pipe.df_test.path)*weight\n",
    "                ground_truth = pipe.median_by_file(gt_, pipe.df_test.path)\n",
    "            else:\n",
    "                predictions = np.append(predictions, pipe.predict_aggr_score(data_test, pipe.df_test.path)*weight, axis=1)\n",
    "                if not ground_truth.equals(pipe.median_by_file(gt_, pipe.df_test.path)):\n",
    "                    print('Something went wrong with testset')\n",
    "            \n",
    "        prediction = np.sum(predictions, axis=1)\n",
    "        \n",
    "        return roc_auc_score(ground_truth, prediction)"
   ]
  },
  {
   "cell_type": "code",
   "execution_count": 27,
   "metadata": {
    "ExecuteTime": {
     "end_time": "2020-05-22T13:04:20.288213Z",
     "start_time": "2020-05-22T13:04:20.283218Z"
    }
   },
   "outputs": [],
   "source": [
    "ensemble = uni_Ensemble('6dB', 'valve', '00')"
   ]
  },
  {
   "cell_type": "code",
   "execution_count": 28,
   "metadata": {
    "ExecuteTime": {
     "end_time": "2020-05-22T13:04:21.864465Z",
     "start_time": "2020-05-22T13:04:21.258603Z"
    },
    "scrolled": true
   },
   "outputs": [
    {
     "ename": "ValueError",
     "evalue": "Invalid file path or buffer object type: <class 'NoneType'>",
     "output_type": "error",
     "traceback": [
      "\u001b[1;31m---------------------------------------------------------------------------\u001b[0m",
      "\u001b[1;31mValueError\u001b[0m                                Traceback (most recent call last)",
      "\u001b[1;32mD:\\Capstone\\NF_Prj_MIMII_Dataset\\utility\\extractor_batch.py\u001b[0m in \u001b[0;36m<module>\u001b[1;34m\u001b[0m\n\u001b[1;32m----> 1\u001b[1;33m \u001b[0mensemble\u001b[0m\u001b[1;33m.\u001b[0m\u001b[0mfit\u001b[0m\u001b[1;33m(\u001b[0m\u001b[1;33m)\u001b[0m\u001b[1;33m\u001b[0m\u001b[1;33m\u001b[0m\u001b[0m\n\u001b[0m",
      "\u001b[1;32mD:\\Capstone\\NF_Prj_MIMII_Dataset\\utility\\extractor_batch.py\u001b[0m in \u001b[0;36mfit\u001b[1;34m(self)\u001b[0m\n\u001b[0;32m     36\u001b[0m \u001b[1;33m\u001b[0m\u001b[0m\n\u001b[0;32m     37\u001b[0m             \u001b[1;31m# split data into train and testset\u001b[0m\u001b[1;33m\u001b[0m\u001b[1;33m\u001b[0m\u001b[1;33m\u001b[0m\u001b[0m\n\u001b[1;32m---> 38\u001b[1;33m             \u001b[0mpipe\u001b[0m\u001b[1;33m.\u001b[0m\u001b[0msplit_data\u001b[0m\u001b[1;33m(\u001b[0m\u001b[1;33m)\u001b[0m\u001b[1;33m\u001b[0m\u001b[1;33m\u001b[0m\u001b[0m\n\u001b[0m\u001b[0;32m     39\u001b[0m \u001b[1;33m\u001b[0m\u001b[0m\n\u001b[0;32m     40\u001b[0m             \u001b[1;31m# get the data\u001b[0m\u001b[1;33m\u001b[0m\u001b[1;33m\u001b[0m\u001b[1;33m\u001b[0m\u001b[0m\n",
      "\u001b[1;32mD:\\Capstone\\NF_Prj_MIMII_Dataset\\utility\\extractor_batch.py\u001b[0m in \u001b[0;36msplit_data\u001b[1;34m(self)\u001b[0m\n",
      "\u001b[1;32mD:\\Capstone\\NF_Prj_MIMII_Dataset\\utility\\extractor_batch.py\u001b[0m in \u001b[0;36mtt_split\u001b[1;34m(table_path)\u001b[0m\n",
      "\u001b[1;32m~\\.conda\\envs\\mimii-tf2-gpu\\lib\\site-packages\\pandas\\io\\pickle.py\u001b[0m in \u001b[0;36mread_pickle\u001b[1;34m(filepath_or_buffer, compression)\u001b[0m\n\u001b[0;32m    164\u001b[0m     \"\"\"\n\u001b[0;32m    165\u001b[0m     fp_or_buf, _, compression, should_close = get_filepath_or_buffer(\n\u001b[1;32m--> 166\u001b[1;33m         \u001b[0mfilepath_or_buffer\u001b[0m\u001b[1;33m,\u001b[0m \u001b[0mcompression\u001b[0m\u001b[1;33m=\u001b[0m\u001b[0mcompression\u001b[0m\u001b[1;33m\u001b[0m\u001b[1;33m\u001b[0m\u001b[0m\n\u001b[0m\u001b[0;32m    167\u001b[0m     )\n\u001b[0;32m    168\u001b[0m     \u001b[1;32mif\u001b[0m \u001b[1;32mnot\u001b[0m \u001b[0misinstance\u001b[0m\u001b[1;33m(\u001b[0m\u001b[0mfp_or_buf\u001b[0m\u001b[1;33m,\u001b[0m \u001b[0mstr\u001b[0m\u001b[1;33m)\u001b[0m \u001b[1;32mand\u001b[0m \u001b[0mcompression\u001b[0m \u001b[1;33m==\u001b[0m \u001b[1;34m\"infer\"\u001b[0m\u001b[1;33m:\u001b[0m\u001b[1;33m\u001b[0m\u001b[1;33m\u001b[0m\u001b[0m\n",
      "\u001b[1;32m~\\.conda\\envs\\mimii-tf2-gpu\\lib\\site-packages\\pandas\\io\\common.py\u001b[0m in \u001b[0;36mget_filepath_or_buffer\u001b[1;34m(filepath_or_buffer, encoding, compression, mode)\u001b[0m\n\u001b[0;32m    198\u001b[0m     \u001b[1;32mif\u001b[0m \u001b[1;32mnot\u001b[0m \u001b[0mis_file_like\u001b[0m\u001b[1;33m(\u001b[0m\u001b[0mfilepath_or_buffer\u001b[0m\u001b[1;33m)\u001b[0m\u001b[1;33m:\u001b[0m\u001b[1;33m\u001b[0m\u001b[1;33m\u001b[0m\u001b[0m\n\u001b[0;32m    199\u001b[0m         \u001b[0mmsg\u001b[0m \u001b[1;33m=\u001b[0m \u001b[1;34mf\"Invalid file path or buffer object type: {type(filepath_or_buffer)}\"\u001b[0m\u001b[1;33m\u001b[0m\u001b[1;33m\u001b[0m\u001b[0m\n\u001b[1;32m--> 200\u001b[1;33m         \u001b[1;32mraise\u001b[0m \u001b[0mValueError\u001b[0m\u001b[1;33m(\u001b[0m\u001b[0mmsg\u001b[0m\u001b[1;33m)\u001b[0m\u001b[1;33m\u001b[0m\u001b[1;33m\u001b[0m\u001b[0m\n\u001b[0m\u001b[0;32m    201\u001b[0m \u001b[1;33m\u001b[0m\u001b[0m\n\u001b[0;32m    202\u001b[0m     \u001b[1;32mreturn\u001b[0m \u001b[0mfilepath_or_buffer\u001b[0m\u001b[1;33m,\u001b[0m \u001b[1;32mNone\u001b[0m\u001b[1;33m,\u001b[0m \u001b[0mcompression\u001b[0m\u001b[1;33m,\u001b[0m \u001b[1;32mFalse\u001b[0m\u001b[1;33m\u001b[0m\u001b[1;33m\u001b[0m\u001b[0m\n",
      "\u001b[1;31mValueError\u001b[0m: Invalid file path or buffer object type: <class 'NoneType'>"
     ]
    }
   ],
   "source": [
    "ensemble.fit()"
   ]
  },
  {
   "cell_type": "code",
   "execution_count": 17,
   "metadata": {
    "ExecuteTime": {
     "end_time": "2020-05-22T12:52:37.259560Z",
     "start_time": "2020-05-22T12:52:36.269602Z"
    },
    "scrolled": true
   },
   "outputs": [
    {
     "data": {
      "text/plain": [
       "0.44373808010171645"
      ]
     },
     "execution_count": 17,
     "metadata": {},
     "output_type": "execute_result"
    }
   ],
   "source": [
    "ensemble.evaluate()"
   ]
  },
  {
   "cell_type": "code",
   "execution_count": 18,
   "metadata": {
    "ExecuteTime": {
     "end_time": "2020-05-22T12:52:37.269560Z",
     "start_time": "2020-05-22T12:52:37.261553Z"
    }
   },
   "outputs": [
    {
     "data": {
      "text/plain": [
       "0     -1.0\n",
       "1     -1.0\n",
       "2     -1.0\n",
       "3     -1.0\n",
       "4     -1.0\n",
       "      ... \n",
       "281    1.0\n",
       "282    1.0\n",
       "283    1.0\n",
       "284    1.0\n",
       "285    1.0\n",
       "Name: abnormal, Length: 286, dtype: float64"
      ]
     },
     "execution_count": 18,
     "metadata": {},
     "output_type": "execute_result"
    }
   ],
   "source": [
    "ensemble.pipes[0].ground_truth"
   ]
  },
  {
   "cell_type": "code",
   "execution_count": 19,
   "metadata": {
    "ExecuteTime": {
     "end_time": "2020-05-22T12:52:37.279552Z",
     "start_time": "2020-05-22T12:52:37.271553Z"
    },
    "scrolled": true
   },
   "outputs": [
    {
     "data": {
      "text/plain": [
       "0      1.0\n",
       "1      1.0\n",
       "2      1.0\n",
       "3      1.0\n",
       "4      1.0\n",
       "      ... \n",
       "281    0.0\n",
       "282    0.0\n",
       "283    0.0\n",
       "284    0.0\n",
       "285    0.0\n",
       "Name: abnormal, Length: 286, dtype: float64"
      ]
     },
     "execution_count": 19,
     "metadata": {},
     "output_type": "execute_result"
    }
   ],
   "source": [
    "ensemble.pipes[1].ground_truth"
   ]
  },
  {
   "cell_type": "code",
   "execution_count": 22,
   "metadata": {
    "ExecuteTime": {
     "end_time": "2020-05-22T12:56:02.152473Z",
     "start_time": "2020-05-22T12:56:01.324472Z"
    }
   },
   "outputs": [],
   "source": [
    "data_train, data_test = ensemble.pipes[1].get_data()\n",
    "ensemble.pipes[1].evaluate(data_test)"
   ]
  },
  {
   "cell_type": "code",
   "execution_count": 25,
   "metadata": {
    "ExecuteTime": {
     "end_time": "2020-05-22T12:57:07.509977Z",
     "start_time": "2020-05-22T12:57:07.277977Z"
    }
   },
   "outputs": [
    {
     "data": {
      "text/plain": [
       "(array([  8.,   6.,  12.,  20.,  15.,  23., 199.,   1.,   1.,   1.]),\n",
       " array([0.69830556, 0.69830794, 0.69831032, 0.6983127 , 0.69831508,\n",
       "        0.69831746, 0.69831984, 0.69832222, 0.6983246 , 0.69832699,\n",
       "        0.69832937]),\n",
       " <a list of 10 Patch objects>)"
      ]
     },
     "execution_count": 25,
     "metadata": {},
     "output_type": "execute_result"
    },
    {
     "data": {
      "image/png": "[encoded data removed]",
      "text/plain": [
       "<Figure size 432x288 with 1 Axes>"
      ]
     },
     "metadata": {
      "needs_background": "light"
     },
     "output_type": "display_data"
    }
   ],
   "source": [
    "plt.hist(ensemble.pipes[1].df_test.pred_scores)"
   ]
  },
  {
   "cell_type": "code",
   "execution_count": 26,
   "metadata": {
    "ExecuteTime": {
     "end_time": "2020-05-22T13:03:56.413282Z",
     "start_time": "2020-05-22T13:03:56.407282Z"
    }
   },
   "outputs": [
    {
     "data": {
      "text/plain": [
       "0.2254388967675681"
      ]
     },
     "execution_count": 26,
     "metadata": {},
     "output_type": "execute_result"
    }
   ],
   "source": [
    "ensemble.pipes[1].roc_auc"
   ]
  },
  {
   "cell_type": "code",
   "execution_count": null,
   "metadata": {
    "ExecuteTime": {
     "end_time": "2020-05-22T12:43:43.139476Z",
     "start_time": "2020-05-22T12:43:43.135479Z"
    }
   },
   "outputs": [],
   "source": [
    "#===============================================\n",
    "# Adding up all the tasks\n",
    "tasks = []\n",
    "pipes = []"
   ]
  },
  {
   "cell_type": "code",
   "execution_count": null,
   "metadata": {},
   "outputs": [],
   "source": []
  },
  {
   "cell_type": "code",
   "execution_count": null,
   "metadata": {},
   "outputs": [],
   "source": []
  },
  {
   "cell_type": "code",
   "execution_count": null,
   "metadata": {
    "ExecuteTime": {
     "end_time": "2020-05-22T12:43:43.592475Z",
     "start_time": "2020-05-22T12:43:43.141477Z"
    }
   },
   "outputs": [],
   "source": [
    "with open('./pipes/MEL_den_frame5_6dB_pump_ID00_IsoFor_64est_4mf_20200520_160147.pkl', 'rb') as f:\n",
    "    pipe = pickle.load(f)"
   ]
  },
  {
   "cell_type": "code",
   "execution_count": null,
   "metadata": {
    "ExecuteTime": {
     "end_time": "2020-05-22T12:44:13.698476Z",
     "start_time": "2020-05-22T12:43:43.594476Z"
    }
   },
   "outputs": [],
   "source": [
    "data_train, data_test = pipe.get_data()\n",
    "\n",
    "# preprocessing\n",
    "data_train, data_test = pipe.preprocess(data_train, data_test)"
   ]
  },
  {
   "cell_type": "code",
   "execution_count": null,
   "metadata": {
    "ExecuteTime": {
     "end_time": "2020-05-22T12:44:13.701477Z",
     "start_time": "2020-05-22T12:43:32.897Z"
    }
   },
   "outputs": [],
   "source": [
    "pipe.fit_aggr_score_scaler(data_train, pipe.df_train.path)"
   ]
  },
  {
   "cell_type": "code",
   "execution_count": null,
   "metadata": {
    "ExecuteTime": {
     "end_time": "2020-05-22T12:44:13.702478Z",
     "start_time": "2020-05-22T12:43:32.900Z"
    }
   },
   "outputs": [],
   "source": [
    "y_pred = pipe.predict_aggr_score(data_test, pipe.df_test.path)"
   ]
  },
  {
   "cell_type": "code",
   "execution_count": null,
   "metadata": {
    "ExecuteTime": {
     "end_time": "2020-05-22T12:44:13.703476Z",
     "start_time": "2020-05-22T12:43:32.903Z"
    }
   },
   "outputs": [],
   "source": [
    "y_true = pipe.median_by_file(pipe.ground_truth, pipe.df_test.path)"
   ]
  },
  {
   "cell_type": "code",
   "execution_count": null,
   "metadata": {
    "ExecuteTime": {
     "end_time": "2020-05-22T12:44:13.705476Z",
     "start_time": "2020-05-22T12:43:32.905Z"
    }
   },
   "outputs": [],
   "source": [
    "roc_auc_score(y_true, y_pred)"
   ]
  },
  {
   "cell_type": "markdown",
   "metadata": {
    "ExecuteTime": {
     "end_time": "2020-05-20T08:52:23.045467Z",
     "start_time": "2020-05-20T08:52:23.025466Z"
    }
   },
   "source": [
    "# Define Training Task list for the pipe\n",
    "features = [('MEL_den', {'function':'frame', 'frames':5})]\n",
    "model = 'IsoFor'\n",
    "\n",
    "# Preprocessing pipe\n",
    "preprocessing = [\n",
    "    (PCA, {'n_components':64}),\n",
    "    (StandardScaler, {})\n",
    "]\n",
    "\n",
    "# uni_Model define\n",
    "# See also \\utility\\modeling\\pseudo_supervised_models.py form more uni models \n",
    "modeling = (uni_AutoEncoder, {'epochs':50})\n",
    "\n",
    "for machine in machines:\n",
    "    for SNR in SNRs:\n",
    "        for ID in IDs:\n",
    "            for feature in features:\n",
    "                task = {\n",
    "                'path_descr': find_data_file(SNR, machine, ID),\n",
    "                'feat':feature[1], \n",
    "                'feat_col':feature[0], \n",
    "                'SNR':SNR, \n",
    "                'machine':machine,\n",
    "                'ID':ID,\n",
    "                'BASE_FOLDER':BASE_FOLDER}\n",
    "\n",
    "                # append tasks\n",
    "                tasks.append(task)\n",
    "\n",
    "                # append pipes\n",
    "                pipes.append(Pipe(preprocessing, modeling, pseudo_sup=False))"
   ]
  },
  {
   "cell_type": "markdown",
   "metadata": {},
   "source": [
    "### Isolation Forest on spectral data"
   ]
  },
  {
   "cell_type": "markdown",
   "metadata": {
    "ExecuteTime": {
     "end_time": "2020-05-20T11:41:20.452067Z",
     "start_time": "2020-05-20T11:41:20.441129Z"
    }
   },
   "source": [
    "# Define Training Task list for the pipe\n",
    "features = [('MEL_den', {'function':'frame', 'frames':5})]\n",
    "model = 'IsoFor'\n",
    "\n",
    "# Preprocessing pipe\n",
    "preprocessing = [\n",
    "    (PCA, {'n_components':64}),\n",
    "    (StandardScaler, {})\n",
    "]\n",
    "\n",
    "# uni_Model define\n",
    "# See also \\utility\\modeling\\pseudo_supervised_models.py form more uni models \n",
    "modeling = (uni_IsolationForest, {'n_estimators':64, 'max_features':4})\n",
    "\n",
    "for machine in machines:\n",
    "    for SNR in SNRs:\n",
    "        for ID in IDs:\n",
    "            for feature in features:\n",
    "                task = {\n",
    "                'path_descr': find_data_file(SNR, machine, ID),\n",
    "                'feat':feature[1], \n",
    "                'feat_col':feature[0], \n",
    "                'SNR':SNR, \n",
    "                'machine':machine,\n",
    "                'ID':ID,\n",
    "                'BASE_FOLDER':BASE_FOLDER}\n",
    "\n",
    "                # append tasks\n",
    "                tasks.append(task)\n",
    "\n",
    "                # append pipes\n",
    "                pipes.append(Pipe(preprocessing, modeling, pseudo_sup=False))"
   ]
  },
  {
   "cell_type": "markdown",
   "metadata": {},
   "source": [
    "### Isolation Forest on welch spectrum"
   ]
  },
  {
   "cell_type": "code",
   "execution_count": null,
   "metadata": {
    "ExecuteTime": {
     "end_time": "2020-05-22T12:44:13.706477Z",
     "start_time": "2020-05-22T12:43:32.909Z"
    }
   },
   "outputs": [],
   "source": [
    "# Define Training Task list for the pipe\n",
    "features = [('PSD_raw', {'function':'channel'})]\n",
    "model = 'IsoFor'\n",
    "\n",
    "# Preprocessing pipe\n",
    "preprocessing = [\n",
    "    (StandardScaler, {})\n",
    "]\n",
    "\n",
    "# uni_Model define\n",
    "# See also \\utility\\modeling\\pseudo_supervised_models.py form more uni models \n",
    "modeling = (uni_IsolationForest, {'n_estimators':200, 'max_features':1})\n",
    "\n",
    "for machine in machines:\n",
    "    for SNR in SNRs:\n",
    "        for ID in IDs:\n",
    "            for feature in features:\n",
    "                task = {\n",
    "                'path_descr': find_data_file(SNR, machine, ID),\n",
    "                'feat':feature[1], \n",
    "                'feat_col':feature[0], \n",
    "                'SNR':SNR, \n",
    "                'machine':machine,\n",
    "                'ID':ID,\n",
    "                'BASE_FOLDER':BASE_FOLDER}\n",
    "\n",
    "                # append tasks\n",
    "                tasks.append(task)\n",
    "\n",
    "                # append pipes\n",
    "                pipes.append(Pipe(preprocessing, modeling, pseudo_sup=False))"
   ]
  },
  {
   "cell_type": "markdown",
   "metadata": {
    "ExecuteTime": {
     "end_time": "2020-05-11T13:42:05.617953Z",
     "start_time": "2020-05-11T13:42:05.613964Z"
    }
   },
   "source": [
    "## Setting up pseudo supervised training"
   ]
  },
  {
   "cell_type": "markdown",
   "metadata": {
    "ExecuteTime": {
     "end_time": "2020-05-20T08:52:28.203654Z",
     "start_time": "2020-05-20T08:52:28.189653Z"
    }
   },
   "source": [
    "# Define Training Task list for the pipe\n",
    "\n",
    "features = [('PSD_raw', {'function':'flat'})]\n",
    "model = 'SVM'\n",
    "\n",
    "# Preprocessing pipe\n",
    "preprocessing = [\n",
    "    (StandardScaler, {})\n",
    "]\n",
    "\n",
    "# uni_Model define\n",
    "# See also \\utility\\modeling\\pseudo_supervised_models.py form more uni models \n",
    "# also on how to use grid search (here not needed yet hence no augmentation feedback)\n",
    "modeling = (uni_svm, {'C': 0.1, 'degree':3,'kernel':'rbf'})\n",
    "\n",
    "\n",
    "for machine in machines:\n",
    "    for SNR in SNRs:\n",
    "        for ID in IDs:\n",
    "            for feature in features:\n",
    "                # check if model already exists\n",
    "                if not find_pipe(feature[0], SNR, machine, ID, model):\n",
    "                    task = {\n",
    "                    'path_descr': find_data_file(SNR, machine, ID),\n",
    "                    'feat':feature[1], \n",
    "                    'feat_col':feature[0], \n",
    "                    'SNR':SNR, \n",
    "                    'machine':machine,\n",
    "                    'ID':ID,\n",
    "                    'BASE_FOLDER':BASE_FOLDER}\n",
    "                    \n",
    "                    # append tasks\n",
    "                    tasks.append(task)\n",
    "                    \n",
    "                    # append pipes\n",
    "                    pipes.append(Pipe(preprocessing, modeling, pseudo_sup=True))"
   ]
  },
  {
   "cell_type": "markdown",
   "metadata": {},
   "source": [
    "## Training the models"
   ]
  },
  {
   "cell_type": "code",
   "execution_count": null,
   "metadata": {
    "ExecuteTime": {
     "end_time": "2020-05-22T12:44:13.707477Z",
     "start_time": "2020-05-22T12:43:32.913Z"
    }
   },
   "outputs": [],
   "source": [
    "pipes[0].run_pipe(task)"
   ]
  },
  {
   "cell_type": "code",
   "execution_count": null,
   "metadata": {
    "ExecuteTime": {
     "end_time": "2020-05-22T12:44:13.709477Z",
     "start_time": "2020-05-22T12:43:32.916Z"
    }
   },
   "outputs": [],
   "source": [
    "tasks_failed = []\n",
    "for pipe, task in tqdm(zip(pipes, tasks), total=len(tasks)):\n",
    "    try:\n",
    "        pipe.run_pipe(task)\n",
    "    except:\n",
    "        tasks_failed.append(task)\n",
    "        print('Task failed \\n', task)"
   ]
  },
  {
   "cell_type": "markdown",
   "metadata": {
    "ExecuteTime": {
     "end_time": "2020-05-11T13:43:00.154076Z",
     "start_time": "2020-05-11T13:43:00.151082Z"
    }
   },
   "source": [
    "# Ensemble Blending"
   ]
  },
  {
   "cell_type": "code",
   "execution_count": null,
   "metadata": {},
   "outputs": [],
   "source": []
  },
  {
   "cell_type": "markdown",
   "metadata": {},
   "source": [
    "# Summery/ Results"
   ]
  },
  {
   "cell_type": "code",
   "execution_count": null,
   "metadata": {},
   "outputs": [],
   "source": []
  }
 ],
 "metadata": {
  "kernelspec": {
   "display_name": "Py3.7 (mimii_base_TF2_GPU)",
   "language": "python",
   "name": "mimii-tf2-gpu"
  },
  "language_info": {
   "codemirror_mode": {
    "name": "ipython",
    "version": 3
   },
   "file_extension": ".py",
   "mimetype": "text/x-python",
   "name": "python",
   "nbconvert_exporter": "python",
   "pygments_lexer": "ipython3",
   "version": "3.7.7"
  },
  "toc": {
   "base_numbering": 1,
   "nav_menu": {},
   "number_sections": true,
   "sideBar": true,
   "skip_h1_title": false,
   "title_cell": "Table of Contents",
   "title_sidebar": "Contents",
   "toc_cell": false,
   "toc_position": {},
   "toc_section_display": true,
   "toc_window_display": false
  }
 },
 "nbformat": 4,
 "nbformat_minor": 4
}
