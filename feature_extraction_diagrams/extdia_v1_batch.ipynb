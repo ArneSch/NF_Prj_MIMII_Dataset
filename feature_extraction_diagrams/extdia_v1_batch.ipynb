{
 "cells": [
  {
   "cell_type": "markdown",
   "metadata": {},
   "source": [
    "# ini"
   ]
  },
  {
   "cell_type": "code",
   "execution_count": 1,
   "metadata": {
    "ExecuteTime": {
     "end_time": "2020-05-08T07:33:37.183076Z",
     "start_time": "2020-05-08T07:33:35.689469Z"
    }
   },
   "outputs": [
    {
     "name": "stdout",
     "output_type": "stream",
     "text": [
      "load feature_extractor_mother\n",
      "load feature_extractor_mel_spectra\n",
      "load feature_extractor_psd\n",
      "load feature_extractor_ICA2\n",
      "load feature_extractore_pre_nnFilterDenoise\n",
      "load extractor_diagram_mother\n",
      "load Simple_FIR_HP\n",
      "load TimeSliceAppendActivation\n",
      "load extractor_batch\n",
      "--------------------------------------------\n",
      "load # extractor diagram V1\n",
      "--------------------------------------------\n"
     ]
    }
   ],
   "source": [
    "import gc\n",
    "BASE_FOLDER = '../'\n",
    "%run -i ..\\utility\\feature_extractor\\JupyterLoad_feature_extractor.py\n",
    "%run -i ..\\utility\\extractor_batch.py\n",
    "print('-'*44)\n",
    "%run -i .\\extdia_v1\n",
    "print('-'*44)\n",
    "target_folder = r'\\dataset\\extdia_v1'\n",
    "n_jobs = 7"
   ]
  },
  {
   "cell_type": "code",
   "execution_count": 2,
   "metadata": {
    "ExecuteTime": {
     "end_time": "2020-05-08T07:33:44.173853Z",
     "start_time": "2020-05-08T07:33:44.166869Z"
    }
   },
   "outputs": [],
   "source": [
    "def process_set(FileFindDict, main_channel=0, sporadic=False, augment=False,FileCountLimit=None):\n",
    "    \n",
    "    if sporadic:\n",
    "        dt = 1 # 1 means time slicing \n",
    "    else:\n",
    "        dt = 0\n",
    "        \n",
    "    if augment:\n",
    "        ag = 0 # augment only normal operation\n",
    "    else:\n",
    "        ag = -2 # not existing class = no augment\n",
    "\n",
    "    extractor_batch(base_folder= BASE_FOLDER, \n",
    "                    target_folder=target_folder, \n",
    "                    extdia = extdia_v1, \n",
    "                    FileFindDict = FileFindDict,\n",
    "                    n_jobs = n_jobs,\n",
    "                    target_class_map = {'abnormal':1, 'normal': 0},\n",
    "                    FileCountLimit = FileCountLimit,\n",
    "                    datset_folder_from_base = 'dataset',\n",
    "                    fHP=120,\n",
    "                    DeviceType=dt,\n",
    "                    main_channel = main_channel,\n",
    "                    augment=ag)\n",
    "    \n",
    "    gc.collect()"
   ]
  },
  {
   "cell_type": "markdown",
   "metadata": {},
   "source": [
    "# Test Small set"
   ]
  },
  {
   "cell_type": "code",
   "execution_count": 3,
   "metadata": {
    "ExecuteTime": {
     "end_time": "2020-05-08T08:00:50.564155Z",
     "start_time": "2020-05-08T07:34:17.035539Z"
    }
   },
   "outputs": [
    {
     "name": "stdout",
     "output_type": "stream",
     "text": [
      "2020-05-08 09:34:17: Target folder will be: A:\\Dev\\NF_Prj_MIMII_Dataset\\dataset\\extdia_v1\n",
      "2020-05-08 09:34:17: Extractor diagram is fof type: <class '__main__.extdia_v1'>\n",
      "2020-05-08 09:34:17: --------------------------------------------\n",
      "2020-05-08 09:34:17: Working on machinepart:pump SNR:6dB ID:04\n",
      "2020-05-08 09:34:17: Files to process: 802\n",
      "2020-05-08 09:34:17: multithread mode filling the queue\n"
     ]
    },
    {
     "data": {
      "application/vnd.jupyter.widget-view+json": {
       "model_id": "1e3e62af175644ac8d926cebdec800cb",
       "version_major": 2,
       "version_minor": 0
      },
      "text/plain": [
       "HBox(children=(FloatProgress(value=0.0, max=802.0), HTML(value='')))"
      ]
     },
     "metadata": {},
     "output_type": "display_data"
    },
    {
     "name": "stderr",
     "output_type": "stream",
     "text": [
      "C:\\ProgramData\\Anaconda3\\envs\\mimiibaseTF2GPU\\lib\\site-packages\\sklearn\\decomposition\\_fastica.py:119: ConvergenceWarning: FastICA did not converge. Consider increasing tolerance or the maximum number of iterations.\n",
      "  ConvergenceWarning)\n",
      "C:\\ProgramData\\Anaconda3\\envs\\mimiibaseTF2GPU\\lib\\site-packages\\sklearn\\decomposition\\_fastica.py:119: ConvergenceWarning: FastICA did not converge. Consider increasing tolerance or the maximum number of iterations.\n",
      "  ConvergenceWarning)\n",
      "C:\\ProgramData\\Anaconda3\\envs\\mimiibaseTF2GPU\\lib\\site-packages\\sklearn\\decomposition\\_fastica.py:119: ConvergenceWarning: FastICA did not converge. Consider increasing tolerance or the maximum number of iterations.\n",
      "  ConvergenceWarning)\n",
      "C:\\ProgramData\\Anaconda3\\envs\\mimiibaseTF2GPU\\lib\\site-packages\\sklearn\\decomposition\\_fastica.py:119: ConvergenceWarning: FastICA did not converge. Consider increasing tolerance or the maximum number of iterations.\n",
      "  ConvergenceWarning)\n",
      "C:\\ProgramData\\Anaconda3\\envs\\mimiibaseTF2GPU\\lib\\site-packages\\sklearn\\decomposition\\_fastica.py:119: ConvergenceWarning: FastICA did not converge. Consider increasing tolerance or the maximum number of iterations.\n",
      "  ConvergenceWarning)\n",
      "C:\\ProgramData\\Anaconda3\\envs\\mimiibaseTF2GPU\\lib\\site-packages\\sklearn\\decomposition\\_fastica.py:119: ConvergenceWarning: FastICA did not converge. Consider increasing tolerance or the maximum number of iterations.\n",
      "  ConvergenceWarning)\n",
      "C:\\ProgramData\\Anaconda3\\envs\\mimiibaseTF2GPU\\lib\\site-packages\\sklearn\\decomposition\\_fastica.py:119: ConvergenceWarning: FastICA did not converge. Consider increasing tolerance or the maximum number of iterations.\n",
      "  ConvergenceWarning)\n"
     ]
    },
    {
     "name": "stdout",
     "output_type": "stream",
     "text": [
      "2020-05-08 10:00:46: multithread mode all threads done\n",
      "2020-05-08 10:00:50: multithread mode list joined and pickled for the id\n",
      "2020-05-08 10:00:50: total time needed for the ID: 1593.35sec = 26.56min\n",
      "close log file\n"
     ]
    }
   ],
   "source": [
    "process_set({'SNR': '6dB','machine': 'pump','ID': ['04']},\n",
    "            main_channel=2,\n",
    "            sporadic = False,\n",
    "            augment = True,\n",
    "            FileCountLimit= None) "
   ]
  },
  {
   "cell_type": "code",
   "execution_count": 4,
   "metadata": {
    "ExecuteTime": {
     "end_time": "2020-05-08T09:01:08.389334Z",
     "start_time": "2020-05-08T08:33:55.710475Z"
    }
   },
   "outputs": [
    {
     "name": "stdout",
     "output_type": "stream",
     "text": [
      "2020-05-08 10:33:55: Target folder will be: A:\\Dev\\NF_Prj_MIMII_Dataset\\dataset\\extdia_v1\n",
      "2020-05-08 10:33:55: Extractor diagram is fof type: <class '__main__.extdia_v1'>\n",
      "2020-05-08 10:33:55: --------------------------------------------\n",
      "2020-05-08 10:33:55: Working on machinepart:pump SNR:min6dB ID:04\n",
      "2020-05-08 10:33:55: Files to process: 802\n",
      "2020-05-08 10:33:55: multithread mode filling the queue\n"
     ]
    },
    {
     "data": {
      "application/vnd.jupyter.widget-view+json": {
       "model_id": "e5afbb5a9ef04a55ba32d56923293368",
       "version_major": 2,
       "version_minor": 0
      },
      "text/plain": [
       "HBox(children=(FloatProgress(value=0.0, max=802.0), HTML(value='')))"
      ]
     },
     "metadata": {},
     "output_type": "display_data"
    },
    {
     "name": "stdout",
     "output_type": "stream",
     "text": [
      "2020-05-08 11:01:03: multithread mode all threads done\n",
      "2020-05-08 11:01:08: multithread mode list joined and pickled for the id\n",
      "2020-05-08 11:01:08: total time needed for the ID: 1632.59sec = 27.21min\n",
      "close log file\n"
     ]
    }
   ],
   "source": [
    "process_set({'SNR': 'min6dB','machine': 'pump','ID': ['04']},\n",
    "            main_channel=2,\n",
    "            sporadic = False,\n",
    "            augment = True,\n",
    "            FileCountLimit= None) "
   ]
  },
  {
   "cell_type": "markdown",
   "metadata": {},
   "source": [
    "# Full Batch"
   ]
  },
  {
   "cell_type": "code",
   "execution_count": null,
   "metadata": {
    "ExecuteTime": {
     "start_time": "2020-05-03T14:58:40.842Z"
    },
    "code_folding": [],
    "scrolled": true
   },
   "outputs": [
    {
     "name": "stdout",
     "output_type": "stream",
     "text": [
      "2020-05-03 16:58:40: Target folder will be: A:\\Dev\\NF_Prj_MIMII_Dataset\\dataset\\extdia_v1\n",
      "2020-05-03 16:58:40: Extractor diagram is fof type: <class '__main__.extdia_v1'>\n",
      "2020-05-03 16:58:40: --------------------------------------------\n",
      "2020-05-03 16:58:40: Working on machinepart:pump SNR:6dB ID:00\n",
      "2020-05-03 16:58:40: Files to process: 1149\n",
      "2020-05-03 16:58:40: multithread mode filling the queue\n"
     ]
    },
    {
     "data": {
      "application/vnd.jupyter.widget-view+json": {
       "model_id": "288d1c13963d4be1a530d6bd3b65875c",
       "version_major": 2,
       "version_minor": 0
      },
      "text/plain": [
       "HBox(children=(FloatProgress(value=0.0, max=1149.0), HTML(value='')))"
      ]
     },
     "metadata": {},
     "output_type": "display_data"
    },
    {
     "name": "stdout",
     "output_type": "stream",
     "text": [
      "2020-05-03 17:34:17: multithread mode all threads done\n",
      "2020-05-03 17:34:23: multithread mode list joined and pickled for the id\n",
      "2020-05-03 17:34:23: total time needed for the ID: 2142.35sec = 35.71min\n",
      "close log file\n",
      "2020-05-03 17:34:23: Target folder will be: A:\\Dev\\NF_Prj_MIMII_Dataset\\dataset\\extdia_v1\n",
      "2020-05-03 17:34:23: Extractor diagram is fof type: <class '__main__.extdia_v1'>\n",
      "2020-05-03 17:34:23: --------------------------------------------\n",
      "2020-05-03 17:34:23: Working on machinepart:pump SNR:min6dB ID:00\n",
      "2020-05-03 17:34:23: Files to process: 1149\n",
      "2020-05-03 17:34:23: multithread mode filling the queue\n"
     ]
    },
    {
     "data": {
      "application/vnd.jupyter.widget-view+json": {
       "model_id": "beac5fef38e8473b896c7c4b0c3ddaba",
       "version_major": 2,
       "version_minor": 0
      },
      "text/plain": [
       "HBox(children=(FloatProgress(value=0.0, max=1149.0), HTML(value='')))"
      ]
     },
     "metadata": {},
     "output_type": "display_data"
    },
    {
     "name": "stdout",
     "output_type": "stream",
     "text": [
      "2020-05-03 18:14:46: multithread mode all threads done\n",
      "2020-05-03 18:14:52: multithread mode list joined and pickled for the id\n",
      "2020-05-03 18:14:52: total time needed for the ID: 2429.6sec = 40.49min\n",
      "close log file\n",
      "2020-05-03 18:14:52: Target folder will be: A:\\Dev\\NF_Prj_MIMII_Dataset\\dataset\\extdia_v1\n",
      "2020-05-03 18:14:52: Extractor diagram is fof type: <class '__main__.extdia_v1'>\n",
      "2020-05-03 18:14:52: --------------------------------------------\n",
      "2020-05-03 18:14:52: Working on machinepart:fan SNR:6dB ID:00\n",
      "2020-05-03 18:14:52: Files to process: 1418\n",
      "2020-05-03 18:14:52: multithread mode filling the queue\n"
     ]
    },
    {
     "data": {
      "application/vnd.jupyter.widget-view+json": {
       "model_id": "b1c1b17980bd41519ae94b8f5394885b",
       "version_major": 2,
       "version_minor": 0
      },
      "text/plain": [
       "HBox(children=(FloatProgress(value=0.0, max=1418.0), HTML(value='')))"
      ]
     },
     "metadata": {},
     "output_type": "display_data"
    },
    {
     "name": "stdout",
     "output_type": "stream",
     "text": [
      "2020-05-03 18:39:54: multithread mode all threads done\n",
      "2020-05-03 18:39:59: multithread mode list joined and pickled for the id\n",
      "2020-05-03 18:39:59: total time needed for the ID: 1506.18sec = 25.1min\n",
      "close log file\n",
      "2020-05-03 18:39:59: Target folder will be: A:\\Dev\\NF_Prj_MIMII_Dataset\\dataset\\extdia_v1\n",
      "2020-05-03 18:39:59: Extractor diagram is fof type: <class '__main__.extdia_v1'>\n",
      "2020-05-03 18:39:59: --------------------------------------------\n",
      "2020-05-03 18:39:59: Working on machinepart:fan SNR:min6dB ID:00\n",
      "2020-05-03 18:39:59: Files to process: 1418\n",
      "2020-05-03 18:39:59: multithread mode filling the queue\n"
     ]
    },
    {
     "data": {
      "application/vnd.jupyter.widget-view+json": {
       "model_id": "e7673c2e6ff24886bdea8188126e5bdb",
       "version_major": 2,
       "version_minor": 0
      },
      "text/plain": [
       "HBox(children=(FloatProgress(value=0.0, max=1418.0), HTML(value='')))"
      ]
     },
     "metadata": {},
     "output_type": "display_data"
    },
    {
     "name": "stdout",
     "output_type": "stream",
     "text": [
      "2020-05-03 19:10:20: multithread mode all threads done\n",
      "2020-05-03 19:10:25: multithread mode list joined and pickled for the id\n",
      "2020-05-03 19:10:25: total time needed for the ID: 1826.59sec = 30.44min\n",
      "close log file\n",
      "2020-05-03 19:10:25: Target folder will be: A:\\Dev\\NF_Prj_MIMII_Dataset\\dataset\\extdia_v1\n",
      "2020-05-03 19:10:25: Extractor diagram is fof type: <class '__main__.extdia_v1'>\n",
      "2020-05-03 19:10:25: --------------------------------------------\n",
      "2020-05-03 19:10:25: Working on machinepart:slider SNR:6dB ID:00\n",
      "2020-05-03 19:10:25: Files to process: 1424\n",
      "2020-05-03 19:10:25: multithread mode filling the queue\n"
     ]
    },
    {
     "data": {
      "application/vnd.jupyter.widget-view+json": {
       "model_id": "a1324d90a192447696580ce3df781534",
       "version_major": 2,
       "version_minor": 0
      },
      "text/plain": [
       "HBox(children=(FloatProgress(value=0.0, max=1424.0), HTML(value='')))"
      ]
     },
     "metadata": {},
     "output_type": "display_data"
    },
    {
     "name": "stdout",
     "output_type": "stream",
     "text": [
      "2020-05-03 19:42:33: multithread mode all threads done\n",
      "2020-05-03 19:42:38: multithread mode list joined and pickled for the id\n",
      "2020-05-03 19:42:38: total time needed for the ID: 1933.24sec = 32.22min\n",
      "2020-05-03 19:42:38: --------------------------------------------\n",
      "2020-05-03 19:42:38: Working on machinepart:slider SNR:6dB ID:02\n",
      "2020-05-03 19:42:38: Files to process: 1335\n",
      "2020-05-03 19:42:38: multithread mode filling the queue\n"
     ]
    },
    {
     "data": {
      "application/vnd.jupyter.widget-view+json": {
       "model_id": "f2cb95ff00ce4ff98c43164fc804c161",
       "version_major": 2,
       "version_minor": 0
      },
      "text/plain": [
       "HBox(children=(FloatProgress(value=0.0, max=1335.0), HTML(value='')))"
      ]
     },
     "metadata": {},
     "output_type": "display_data"
    },
    {
     "name": "stdout",
     "output_type": "stream",
     "text": [
      "2020-05-03 20:15:35: multithread mode all threads done\n",
      "2020-05-03 20:15:41: multithread mode list joined and pickled for the id\n",
      "2020-05-03 20:15:41: total time needed for the ID: 1982.41sec = 33.04min\n",
      "close log file\n",
      "2020-05-03 20:15:41: Target folder will be: A:\\Dev\\NF_Prj_MIMII_Dataset\\dataset\\extdia_v1\n",
      "2020-05-03 20:15:41: Extractor diagram is fof type: <class '__main__.extdia_v1'>\n",
      "2020-05-03 20:15:41: --------------------------------------------\n",
      "2020-05-03 20:15:41: Working on machinepart:slider SNR:min6dB ID:00\n",
      "2020-05-03 20:15:41: Files to process: 1424\n",
      "2020-05-03 20:15:41: multithread mode filling the queue\n"
     ]
    },
    {
     "data": {
      "application/vnd.jupyter.widget-view+json": {
       "model_id": "2d0dedf9ef5a420d82dbde4560ecae92",
       "version_major": 2,
       "version_minor": 0
      },
      "text/plain": [
       "HBox(children=(FloatProgress(value=0.0, max=1424.0), HTML(value='')))"
      ]
     },
     "metadata": {},
     "output_type": "display_data"
    },
    {
     "name": "stdout",
     "output_type": "stream",
     "text": [
      "2020-05-03 20:59:20: multithread mode all threads done\n",
      "2020-05-03 20:59:30: multithread mode list joined and pickled for the id\n",
      "2020-05-03 20:59:30: total time needed for the ID: 2628.77sec = 43.81min\n",
      "close log file\n",
      "2020-05-03 20:59:30: Target folder will be: A:\\Dev\\NF_Prj_MIMII_Dataset\\dataset\\extdia_v1\n",
      "2020-05-03 20:59:30: Extractor diagram is fof type: <class '__main__.extdia_v1'>\n",
      "2020-05-03 20:59:30: --------------------------------------------\n",
      "2020-05-03 20:59:30: Working on machinepart:valve SNR:6dB ID:00\n",
      "2020-05-03 20:59:30: Files to process: 1110\n",
      "2020-05-03 20:59:30: multithread mode filling the queue\n"
     ]
    },
    {
     "data": {
      "application/vnd.jupyter.widget-view+json": {
       "model_id": "ef9301703c3e4c259b053b702a9aec3f",
       "version_major": 2,
       "version_minor": 0
      },
      "text/plain": [
       "HBox(children=(FloatProgress(value=0.0, max=1110.0), HTML(value='')))"
      ]
     },
     "metadata": {},
     "output_type": "display_data"
    }
   ],
   "source": [
    "import time\n",
    "ts = time.time()\n",
    "#['00']\n",
    "for id_list in [['02','04'],['06']]: \n",
    "\n",
    "    # aug\n",
    "    process_set({'SNR': '6dB','machine': 'pump','ID': id_list},\n",
    "            main_channel=2,\n",
    "            sporadic = False,\n",
    "            augment = id_list==['00'],\n",
    "            FileCountLimit= None) \n",
    "    # aug\n",
    "    process_set({'SNR': 'min6dB','machine': 'pump','ID': id_list},\n",
    "            main_channel=2,\n",
    "            sporadic = False,\n",
    "            augment = id_list==['00'],\n",
    "            FileCountLimit= None) \n",
    "\n",
    "    process_set({'SNR': '6dB','machine': 'fan','ID': id_list},\n",
    "            main_channel=4,\n",
    "            sporadic = False,\n",
    "            augment = False,\n",
    "            FileCountLimit= None) \n",
    "\n",
    "    process_set({'SNR': 'min6dB','machine': 'fan','ID': id_list},\n",
    "            main_channel=4,\n",
    "            sporadic = False,\n",
    "            augment = False,\n",
    "            FileCountLimit= None) \n",
    "\n",
    "    process_set({'SNR': '6dB','machine': 'slider','ID': id_list},\n",
    "            main_channel=6,\n",
    "            sporadic = False,\n",
    "            augment = False,\n",
    "            FileCountLimit= None) \n",
    "\n",
    "    process_set({'SNR': 'min6dB','machine': 'slider','ID': id_list},\n",
    "            main_channel=6,\n",
    "            sporadic = False,\n",
    "            augment = False,\n",
    "            FileCountLimit= None) \n",
    "\n",
    "\n",
    "\n",
    "\n",
    "\n",
    "\n",
    "print('#####> total time needed: ' + str(np.round(time.time()-ts/60,1)))\n"
   ]
  },
  {
   "cell_type": "code",
   "execution_count": null,
   "metadata": {},
   "outputs": [],
   "source": []
  }
 ],
 "metadata": {
  "kernelspec": {
   "display_name": "Py3.7 (mimii_base_TF2_GPU)",
   "language": "python",
   "name": "mimiibasetf2gpu"
  },
  "language_info": {
   "codemirror_mode": {
    "name": "ipython",
    "version": 3
   },
   "file_extension": ".py",
   "mimetype": "text/x-python",
   "name": "python",
   "nbconvert_exporter": "python",
   "pygments_lexer": "ipython3",
   "version": "3.7.6"
  },
  "toc": {
   "base_numbering": 1,
   "nav_menu": {},
   "number_sections": true,
   "sideBar": true,
   "skip_h1_title": false,
   "title_cell": "Table of Contents",
   "title_sidebar": "Contents",
   "toc_cell": false,
   "toc_position": {},
   "toc_section_display": true,
   "toc_window_display": false
  }
 },
 "nbformat": 4,
 "nbformat_minor": 4
}
