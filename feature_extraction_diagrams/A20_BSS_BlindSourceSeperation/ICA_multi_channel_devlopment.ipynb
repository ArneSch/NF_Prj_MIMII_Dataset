{
 "cells": [
  {
   "cell_type": "code",
   "execution_count": null,
   "metadata": {},
   "outputs": [],
   "source": [
    "from sklearn.decomposition import FastICA"
   ]
  },
  {
   "cell_type": "code",
   "execution_count": null,
   "metadata": {},
   "outputs": [],
   "source": [
    "import librosa\n",
    "import numpy as np\n",
    "import librosa.display\n",
    "import librosa.decompose\n",
    "import matplotlib.pyplot as plt\n",
    "from IPython.display import display, Markdown, Audio"
   ]
  },
  {
   "cell_type": "code",
   "execution_count": null,
   "metadata": {},
   "outputs": [],
   "source": [
    "d = {}\n",
    "\n",
    "pn = r'A:\\Dev\\NF_Prj_MIMII_Dataset\\dataset\\min6dB\\pump\\id_00\\normal\\00000000.wav'\n",
    "pa = r'A:\\Dev\\NF_Prj_MIMII_Dataset\\dataset\\min6dB\\pump\\id_00\\abnormal\\00000000.wav'    \n",
    "d['pump'] = {'n': librosa.load(pn, sr=None, mono=False),\n",
    "             'a': librosa.load(pa, sr=None, mono=False)}\n",
    "pn = r'A:\\Dev\\NF_Prj_MIMII_Dataset\\dataset\\6dB\\fan\\id_00\\normal\\00000000.wav'\n",
    "pa = r'A:\\Dev\\NF_Prj_MIMII_Dataset\\dataset\\6dB\\fan\\id_00\\abnormal\\00000000.wav'    \n",
    "d['fan'] = {'n': librosa.load(pn, sr=None, mono=False),\n",
    "             'a': librosa.load(pa, sr=None, mono=False)}\n",
    "pn = r'A:\\Dev\\NF_Prj_MIMII_Dataset\\dataset\\6dB\\slider\\id_02\\normal\\00000000.wav'\n",
    "pa = r'A:\\Dev\\NF_Prj_MIMII_Dataset\\dataset\\6dB\\slider\\id_02\\abnormal\\00000000.wav'    \n",
    "d['slider'] = {'n': librosa.load(pn, sr=None, mono=False),\n",
    "             'a': librosa.load(pa, sr=None, mono=False)}\n",
    "pn = r'A:\\Dev\\NF_Prj_MIMII_Dataset\\dataset\\6dB\\valve\\id_06\\normal\\00000000.wav'\n",
    "pa = r'A:\\Dev\\NF_Prj_MIMII_Dataset\\dataset\\6dB\\valve\\id_06\\abnormal\\00000000.wav'    \n",
    "d['valve'] = {'n': librosa.load(pn, sr=None, mono=False),\n",
    "             'a': librosa.load(pa, sr=None, mono=False)}\n",
    "\n",
    "sr = d['pump']['n'][1]"
   ]
  },
  {
   "cell_type": "code",
   "execution_count": null,
   "metadata": {},
   "outputs": [],
   "source": [
    "channels = d['pump']['n'][0]\n",
    "channels.shape"
   ]
  },
  {
   "cell_type": "code",
   "execution_count": null,
   "metadata": {},
   "outputs": [],
   "source": [
    "transformer = FastICA(n_components=3, random_state=0)\n",
    "X_transformed = transformer.fit_transform(channels.T)"
   ]
  },
  {
   "cell_type": "code",
   "execution_count": null,
   "metadata": {},
   "outputs": [],
   "source": [
    "X_transformed.shape"
   ]
  },
  {
   "cell_type": "code",
   "execution_count": null,
   "metadata": {
    "scrolled": true
   },
   "outputs": [],
   "source": [
    "plt.plot(X_transformed[:,0])\n",
    "plt.plot(X_transformed[:,1])\n",
    "plt.plot(X_transformed[:,2])"
   ]
  },
  {
   "cell_type": "code",
   "execution_count": null,
   "metadata": {},
   "outputs": [],
   "source": [
    "display(Audio(data=X_transformed[:,0],rate=sr))\n",
    "display(Audio(data=X_transformed[:,1],rate=sr))\n",
    "display(Audio(data=X_transformed[:,2],rate=sr))\n",
    "display(Audio(data=channels[0],rate=sr))"
   ]
  },
  {
   "cell_type": "code",
   "execution_count": null,
   "metadata": {},
   "outputs": [],
   "source": [
    "# https://www.researchgate.net/publication/333082683_A_review_of_blind_source_separation_methods_Two_converging_routes_to_ILRMA_originating_from_ICA_and_NMF/link/5cdac9d7458515712ea9a4ff/download"
   ]
  },
  {
   "cell_type": "code",
   "execution_count": null,
   "metadata": {},
   "outputs": [],
   "source": [
    "# JADE algorthem "
   ]
  },
  {
   "cell_type": "code",
   "execution_count": null,
   "metadata": {},
   "outputs": [],
   "source": [
    "# https://www.youtube.com/watch?v=nuXY6wZRMc4"
   ]
  },
  {
   "cell_type": "code",
   "execution_count": null,
   "metadata": {},
   "outputs": [],
   "source": [
    "#conda install -c conda-forge shogun # examples not working anymore...:("
   ]
  },
  {
   "cell_type": "code",
   "execution_count": null,
   "metadata": {},
   "outputs": [],
   "source": [
    "import numpy as np\n",
    "import matplotlib.pyplot as plt\n",
    "from scipy import signal\n",
    "\n",
    "from sklearn.decomposition import FastICA, PCA\n",
    "\n",
    "# #############################################################################\n",
    "# Generate sample data\n",
    "np.random.seed(0)\n",
    "n_samples = 2000\n",
    "time = np.linspace(0, 8, n_samples)\n",
    "\n",
    "s1 = np.sin(2 * time)  # Signal 1 : sinusoidal signal\n",
    "s2 = np.sign(np.sin(3 * time))  # Signal 2 : square signal\n",
    "s3 = signal.sawtooth(2 * np.pi * time)  # Signal 3: saw tooth signal\n",
    "\n",
    "S = np.c_[s1, s2, s3]\n",
    "S += 0.2 * np.random.normal(size=S.shape)  # Add noise\n",
    "\n",
    "S /= S.std(axis=0)  # Standardize data\n",
    "# Mix data\n",
    "A = np.array([[1, 1, 1], [0.5, 2, 1.0], [1.5, 1.0, 2.0]])  # Mixing matrix\n",
    "X = np.dot(S, A.T)  # Generate observations\n",
    "\n",
    "# Compute ICA\n",
    "ica = FastICA(n_components=3)\n",
    "S_ = ica.fit_transform(X)  # Reconstruct signals\n",
    "A_ = ica.mixing_  # Get estimated mixing matrix\n",
    "\n",
    "# We can `prove` that the ICA model applies by reverting the unmixing.\n",
    "assert np.allclose(X, np.dot(S_, A_.T) + ica.mean_)\n",
    "\n",
    "# For comparison, compute PCA\n",
    "pca = PCA(n_components=3)\n",
    "H = pca.fit_transform(X)  # Reconstruct signals based on orthogonal components\n",
    "\n",
    "# #############################################################################\n",
    "# Plot results\n",
    "\n",
    "plt.figure()\n",
    "\n",
    "models = [X, S, S_, H]\n",
    "names = ['Observations (mixed signal)',\n",
    "         'True Sources',\n",
    "         'ICA recovered signals',\n",
    "         'PCA recovered signals']\n",
    "colors = ['red', 'steelblue', 'orange']\n",
    "\n",
    "for ii, (model, name) in enumerate(zip(models, names), 1):\n",
    "    plt.subplot(4, 1, ii)\n",
    "    plt.title(name)\n",
    "    for sig, color in zip(model.T, colors):\n",
    "        plt.plot(sig, color=color)\n",
    "\n",
    "plt.tight_layout()\n",
    "plt.show()"
   ]
  },
  {
   "cell_type": "code",
   "execution_count": null,
   "metadata": {},
   "outputs": [],
   "source": [
    "X.shape"
   ]
  },
  {
   "cell_type": "code",
   "execution_count": null,
   "metadata": {},
   "outputs": [],
   "source": [
    "S.shape"
   ]
  },
  {
   "cell_type": "code",
   "execution_count": null,
   "metadata": {},
   "outputs": [],
   "source": [
    "ica = FastICA(n_components=2)\n",
    "\n",
    "S_ = ica.fit_transform(channels.T)  # Reconstruct signals\n",
    "A_ = ica.mixing_  # Get estimated mixing matrix"
   ]
  },
  {
   "cell_type": "code",
   "execution_count": null,
   "metadata": {},
   "outputs": [],
   "source": [
    "plt.plot(S_)"
   ]
  },
  {
   "cell_type": "code",
   "execution_count": null,
   "metadata": {},
   "outputs": [],
   "source": [
    "channels = d['slider']['n'][0]\n",
    "channels.shape\n",
    "\n",
    "ica = FastICA(n_components=2)\n",
    "\n",
    "S_ = ica.fit_transform(channels.T)  # Reconstruct signals\n",
    "A_ = ica.mixing_  # Get estimated mixing matrix\n",
    "\n",
    "\n",
    "f, Py = signal.welch(channels[0],\n",
    "                           fs=sr,\n",
    "                           window='hamming',\n",
    "                           nperseg=512, \n",
    "                           noverlap=False, \n",
    "                           nfft=1024,\n",
    "                           scaling='spectrum')\n",
    "plt.plot(f,Py, label='ch0')\n",
    "display(Audio(data=channels[0], rate=sr))\n",
    "for ic in range(S_.shape[1]):\n",
    "    f, Py = signal.welch(S_[:,ic],\n",
    "                           fs=sr,\n",
    "                           window='hamming',\n",
    "                           nperseg=512, \n",
    "                           noverlap=False, \n",
    "                           nfft=1024,\n",
    "                           scaling='spectrum')\n",
    "\n",
    "    plt.plot(f,Py,label=str(ic))\n",
    "    plt.yscale('log')\n",
    "    display(Audio(data=S_[:,ic], rate=sr))\n",
    "plt.legend()"
   ]
  },
  {
   "cell_type": "code",
   "execution_count": null,
   "metadata": {},
   "outputs": [],
   "source": [
    "channels = d['slider']['n'][0]\n",
    "channels.shape\n",
    "c\n",
    "plt.plot(channels[1])\n",
    "plt.plot(fdata[1])\n"
   ]
  },
  {
   "cell_type": "code",
   "execution_count": null,
   "metadata": {},
   "outputs": [],
   "source": [
    "channels = d['valve']['a'][0]\n",
    "channels.shape\n",
    "filtcut = 30\n",
    "filtb,filta = signal.butter(7,filtcut/(sr/2),btype='high')\n",
    "fdata = signal.filtfilt(filtb,filta,channels)\n",
    "\n",
    "ica = FastICA(n_components=2)\n",
    "\n",
    "S_ = ica.fit_transform(fdata.T)  # Reconstruct signals\n",
    "A_ = ica.mixing_  # Get estimated mixing matrix\n",
    "\n",
    "\n",
    "f, Py = signal.welch(channels[0],\n",
    "                           fs=sr,\n",
    "                           window='hamming',\n",
    "                           nperseg=512, \n",
    "                           noverlap=False, \n",
    "                           nfft=1024,\n",
    "                           scaling='spectrum')\n",
    "plt.plot(f,Py, label='ch0')\n",
    "display(Audio(data=channels[0], rate=sr))\n",
    "for ic in range(S_.shape[1]):\n",
    "    f, Py = signal.welch(S_[:,ic],\n",
    "                           fs=sr,\n",
    "                           window='hamming',\n",
    "                           nperseg=512, \n",
    "                           noverlap=False, \n",
    "                           nfft=1024,\n",
    "                           scaling='spectrum')\n",
    "\n",
    "    plt.plot(f,Py,label=str(ic))\n",
    "    plt.yscale('log')\n",
    "    display(Audio(data=S_[:,ic], rate=sr))\n",
    "plt.legend()"
   ]
  },
  {
   "cell_type": "code",
   "execution_count": null,
   "metadata": {},
   "outputs": [],
   "source": [
    "\n",
    "A_.shape"
   ]
  },
  {
   "cell_type": "code",
   "execution_count": null,
   "metadata": {},
   "outputs": [],
   "source": [
    "for i in range(A_.shape[0]):\n",
    "    plt.plot(A_[i,:], label='ch' + str(i))\n",
    "             \n",
    "             \n",
    "plt.legend()\n",
    "plt.xlabel('ica')\n",
    "plt.ylabel('mixing ratio')"
   ]
  },
  {
   "attachments": {
    "image.png": {
     "image/png": "[encoded data removed]"
    }
   },
   "cell_type": "markdown",
   "metadata": {},
   "source": [
    "![image.png](attachment:image.png)\n"
   ]
  },
  {
   "cell_type": "code",
   "execution_count": null,
   "metadata": {},
   "outputs": [],
   "source": [
    "plt.plot(channels[2])\n",
    "plt.plot(channels[6])\n"
   ]
  },
  {
   "cell_type": "code",
   "execution_count": null,
   "metadata": {},
   "outputs": [],
   "source": [
    "for i in [4,0, 2]:\n",
    "    f, Py = signal.welch(channels[i],\n",
    "                           fs=sr,\n",
    "                           window='hamming',\n",
    "                           nperseg=512, \n",
    "                           noverlap=False, \n",
    "                           nfft=1024,\n",
    "                           scaling='spectrum')\n",
    "    plt.plot(f,Py, label='ch'+str(i))\n",
    "plt.legend()"
   ]
  },
  {
   "cell_type": "code",
   "execution_count": null,
   "metadata": {
    "scrolled": true
   },
   "outputs": [],
   "source": [
    "channels = d['slider']['n'][0]\n",
    "channels.shape\n",
    "filtcut = 30\n",
    "filtb,filta = signal.butter(7,filtcut/(sr/2),btype='high')\n",
    "fdata = signal.filtfilt(filtb,filta,channels)\n",
    "\n",
    "pca = PCA(n_components=8)\n",
    "\n",
    "S_ = pca.fit_transform(fdata.T)  # Reconstruct signals\n",
    "A_ = pca.explained_variance_ratio_  # Get estimated mixing matrix\n",
    "print(A_)\n",
    "\n",
    "f, Py = signal.welch(channels[0],\n",
    "                           fs=sr,\n",
    "                           window='hamming',\n",
    "                           nperseg=512, \n",
    "                           noverlap=False, \n",
    "                           nfft=1024,\n",
    "                           scaling='spectrum')\n",
    "plt.plot(f,Py, label='ch0')\n",
    "display(Audio(data=channels[0], rate=sr))\n",
    "for ic in range(S_.shape[1]):\n",
    "    f, Py = signal.welch(S_[:,ic],\n",
    "                           fs=sr,\n",
    "                           window='hamming',\n",
    "                           nperseg=512, \n",
    "                           noverlap=False, \n",
    "                           nfft=1024,\n",
    "                           scaling='spectrum')\n",
    "\n",
    "    plt.plot(f,Py,label=str(ic))\n",
    "    plt.yscale('log')\n",
    "    display(Audio(data=S_[:,ic], rate=sr))\n",
    "plt.legend()"
   ]
  },
  {
   "cell_type": "code",
   "execution_count": null,
   "metadata": {},
   "outputs": [],
   "source": []
  }
 ],
 "metadata": {
  "kernelspec": {
   "display_name": "Py3.7 (mimii_base_TF2_GPU)",
   "language": "python",
   "name": "mimiibasetf2gpu"
  },
  "language_info": {
   "codemirror_mode": {
    "name": "ipython",
    "version": 3
   },
   "file_extension": ".py",
   "mimetype": "text/x-python",
   "name": "python",
   "nbconvert_exporter": "python",
   "pygments_lexer": "ipython3",
   "version": "3.7.6"
  },
  "toc": {
   "base_numbering": 1,
   "nav_menu": {},
   "number_sections": true,
   "sideBar": true,
   "skip_h1_title": false,
   "title_cell": "Table of Contents",
   "title_sidebar": "Contents",
   "toc_cell": false,
   "toc_position": {},
   "toc_section_display": true,
   "toc_window_display": false
  }
 },
 "nbformat": 4,
 "nbformat_minor": 4
}
