{
 "cells": [
  {
   "cell_type": "code",
   "execution_count": 38,
   "metadata": {
    "ExecuteTime": {
     "end_time": "2020-05-02T14:02:39.510371Z",
     "start_time": "2020-05-02T14:02:39.204848Z"
    },
    "scrolled": false
   },
   "outputs": [
    {
     "name": "stdout",
     "output_type": "stream",
     "text": [
      "load feature_extractor_mother\n",
      "load feature_extractor_mel_spectra\n",
      "load feature_extractor_psd\n",
      "load feature_extractor_ICA2\n",
      "load feature_extractore_pre_nnFilterDenoise\n",
      "load extractor_diagram_mother\n"
     ]
    }
   ],
   "source": [
    "BASE_FOLDER = '../../'\n",
    "%run -i ..\\..\\utility\\feature_extractor\\JupyterLoad_feature_extractor.py\n",
    "file_path = r'\\dataset\\6dB\\pump\\id_02\\abnormal\\00000004.wav'\n",
    "# load\n",
    "ica2 = feature_extractor_ICA2(BASE_FOLDER)\n",
    "ica2.create_from_wav(file_path)"
   ]
  },
  {
   "cell_type": "code",
   "execution_count": 39,
   "metadata": {
    "ExecuteTime": {
     "end_time": "2020-05-02T14:02:41.355043Z",
     "start_time": "2020-05-02T14:02:41.350055Z"
    }
   },
   "outputs": [
    {
     "data": {
      "text/plain": [
       "(16,)"
      ]
     },
     "execution_count": 39,
     "metadata": {},
     "output_type": "execute_result"
    }
   ],
   "source": [
    "# get flat feature mix matrix\n",
    "ica2.get_feature({'function': 'flat'}).shape"
   ]
  },
  {
   "cell_type": "code",
   "execution_count": 40,
   "metadata": {
    "ExecuteTime": {
     "end_time": "2020-05-02T14:02:41.958441Z",
     "start_time": "2020-05-02T14:02:41.953453Z"
    }
   },
   "outputs": [
    {
     "data": {
      "text/plain": [
       "2.9449472425809513"
      ]
     },
     "execution_count": 40,
     "metadata": {},
     "output_type": "execute_result"
    }
   ],
   "source": [
    "# get max range in mix matrix\n",
    "ica2.get_feature({'function': 'maxrange'})"
   ]
  },
  {
   "cell_type": "code",
   "execution_count": 41,
   "metadata": {
    "ExecuteTime": {
     "end_time": "2020-05-02T14:02:42.805072Z",
     "start_time": "2020-05-02T14:02:42.800121Z"
    }
   },
   "outputs": [
    {
     "data": {
      "text/plain": [
       "(2, 160000)"
      ]
     },
     "execution_count": 41,
     "metadata": {},
     "output_type": "execute_result"
    }
   ],
   "source": [
    "# get two channel seperation back\n",
    "wmf = ica2.get_wav_memory_file()\n",
    "wmf.channel.shape"
   ]
  },
  {
   "cell_type": "code",
   "execution_count": 42,
   "metadata": {
    "ExecuteTime": {
     "end_time": "2020-05-02T14:03:12.639432Z",
     "start_time": "2020-05-02T14:03:12.633430Z"
    }
   },
   "outputs": [
    {
     "data": {
      "text/plain": [
       "(1, 160000)"
      ]
     },
     "execution_count": 42,
     "metadata": {},
     "output_type": "execute_result"
    }
   ],
   "source": [
    "# get the main channel of seperation back ( the main channel is the one with most mixing range)\n",
    "wmf = ica2.get_wav_memory_file(True)\n",
    "wmf.channel.shape"
   ]
  },
  {
   "cell_type": "code",
   "execution_count": 34,
   "metadata": {
    "ExecuteTime": {
     "end_time": "2020-05-02T13:47:29.461607Z",
     "start_time": "2020-05-02T13:47:28.762297Z"
    }
   },
   "outputs": [
    {
     "name": "stdout",
     "output_type": "stream",
     "text": [
      "\\dataset\\6dB\\pump\\id_00\\abnormal\\00000004.wav\n",
      "5.982928881967606\n",
      "\\dataset\\6dB\\pump\\id_00\\normal\\00000004.wav\n",
      "2.3690641155381478\n"
     ]
    }
   ],
   "source": [
    "# Some examples\n",
    "file_path = r'\\dataset\\6dB\\pump\\id_00\\abnormal\\00000004.wav'\n",
    "ica2 = extractor_diagram_ICA2(BASE_FOLDER)\n",
    "ica2.create_from_wav(file_path)\n",
    "print(file_path)\n",
    "print(ica2.get_feature({'function': 'maxrange'}))\n",
    "\n",
    "file_path = r'\\dataset\\6dB\\pump\\id_00\\normal\\00000004.wav'\n",
    "ica2 = extractor_diagram_ICA2(BASE_FOLDER)\n",
    "ica2.create_from_wav(file_path)\n",
    "print(file_path)\n",
    "print(ica2.get_feature({'function': 'maxrange'}))"
   ]
  },
  {
   "cell_type": "code",
   "execution_count": 37,
   "metadata": {
    "ExecuteTime": {
     "end_time": "2020-05-02T13:48:26.399775Z",
     "start_time": "2020-05-02T13:48:25.840804Z"
    }
   },
   "outputs": [
    {
     "name": "stdout",
     "output_type": "stream",
     "text": [
      "\\dataset\\6dB\\fan\\id_02\\abnormal\\00000004.wav\n",
      "1.7735997625722593\n",
      "\\dataset\\6dB\\fan\\id_02\\normal\\00000004.wav\n",
      "3.667187365257009\n"
     ]
    }
   ],
   "source": [
    "file_path = r'\\dataset\\6dB\\fan\\id_02\\abnormal\\00000004.wav'\n",
    "ica2 = extractor_diagram_ICA2(BASE_FOLDER)\n",
    "ica2.create_from_wav(file_path)\n",
    "print(file_path)\n",
    "print(ica2.get_feature({'function': 'maxrange'}))\n",
    "\n",
    "file_path = r'\\dataset\\6dB\\fan\\id_02\\normal\\00000004.wav'\n",
    "ica2 = extractor_diagram_ICA2(BASE_FOLDER)\n",
    "ica2.create_from_wav(file_path)\n",
    "print(file_path)\n",
    "print(ica2.get_feature({'function': 'maxrange'}))"
   ]
  },
  {
   "cell_type": "code",
   "execution_count": 36,
   "metadata": {
    "ExecuteTime": {
     "end_time": "2020-05-02T13:48:11.649781Z",
     "start_time": "2020-05-02T13:48:10.858573Z"
    }
   },
   "outputs": [
    {
     "name": "stdout",
     "output_type": "stream",
     "text": [
      "\\dataset\\6dB\\slider\\id_04\\abnormal\\00000004.wav\n",
      "2.8879229332571557\n",
      "\\dataset\\6dB\\slider\\id_04\\normal\\00000004.wav\n",
      "2.819371177558146\n"
     ]
    }
   ],
   "source": [
    "file_path = r'\\dataset\\6dB\\slider\\id_04\\abnormal\\00000004.wav'\n",
    "ica2 = extractor_diagram_ICA2(BASE_FOLDER)\n",
    "ica2.create_from_wav(file_path)\n",
    "print(file_path)\n",
    "print(ica2.get_feature({'function': 'maxrange'}))\n",
    "\n",
    "file_path = r'\\dataset\\6dB\\slider\\id_04\\normal\\00000004.wav'\n",
    "ica2 = extractor_diagram_ICA2(BASE_FOLDER)\n",
    "ica2.create_from_wav(file_path)\n",
    "print(file_path)\n",
    "print(ica2.get_feature({'function': 'maxrange'}))"
   ]
  },
  {
   "cell_type": "code",
   "execution_count": null,
   "metadata": {},
   "outputs": [],
   "source": []
  }
 ],
 "metadata": {
  "kernelspec": {
   "display_name": "Py3.7 (mimii_base_TF2_GPU)",
   "language": "python",
   "name": "mimiibasetf2gpu"
  },
  "language_info": {
   "codemirror_mode": {
    "name": "ipython",
    "version": 3
   },
   "file_extension": ".py",
   "mimetype": "text/x-python",
   "name": "python",
   "nbconvert_exporter": "python",
   "pygments_lexer": "ipython3",
   "version": "3.7.6"
  },
  "toc": {
   "base_numbering": 1,
   "nav_menu": {},
   "number_sections": true,
   "sideBar": true,
   "skip_h1_title": false,
   "title_cell": "Table of Contents",
   "title_sidebar": "Contents",
   "toc_cell": false,
   "toc_position": {},
   "toc_section_display": true,
   "toc_window_display": false
  }
 },
 "nbformat": 4,
 "nbformat_minor": 4
}
