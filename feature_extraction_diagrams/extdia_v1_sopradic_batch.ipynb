{
 "cells": [
  {
   "cell_type": "markdown",
   "metadata": {},
   "source": [
    "# ini"
   ]
  },
  {
   "cell_type": "code",
   "execution_count": 4,
   "metadata": {
    "ExecuteTime": {
     "end_time": "2020-05-05T12:59:48.795830Z",
     "start_time": "2020-05-05T12:59:48.765909Z"
    }
   },
   "outputs": [
    {
     "name": "stdout",
     "output_type": "stream",
     "text": [
      "load feature_extractor_mother\n",
      "load feature_extractor_mel_spectra\n",
      "load feature_extractor_psd\n",
      "load feature_extractor_ICA2\n",
      "load feature_extractore_pre_nnFilterDenoise\n",
      "load extractor_diagram_mother\n",
      "load Simple_FIR_HP\n",
      "load TimeSliceAppendActivation\n",
      "load extractor_batch\n",
      "--------------------------------------------\n",
      "load # extractor diagram V1 sporadic focus\n",
      "--------------------------------------------\n"
     ]
    }
   ],
   "source": [
    "import gc\n",
    "BASE_FOLDER = '../'\n",
    "%run -i ..\\utility\\feature_extractor\\JupyterLoad_feature_extractor.py\n",
    "%run -i ..\\utility\\extractor_batch.py\n",
    "print('-'*44)\n",
    "%run -i .\\extdia_v1_sporadic\n",
    "print('-'*44)\n",
    "target_folder = r'\\dataset\\extdia_v1_sporafic'\n",
    "n_jobs = 3"
   ]
  },
  {
   "cell_type": "code",
   "execution_count": 5,
   "metadata": {
    "ExecuteTime": {
     "end_time": "2020-05-05T12:59:52.543221Z",
     "start_time": "2020-05-05T12:59:52.536241Z"
    }
   },
   "outputs": [],
   "source": [
    "def process_set(FileFindDict, main_channel=0, sporadic=False, augment=False,FileCountLimit=None):\n",
    "    \n",
    "    if sporadic:\n",
    "        dt = 1 # 1 means time slicing \n",
    "    else:\n",
    "        dt = 0\n",
    "        \n",
    "    if augment:\n",
    "        ag = 0 # augment only normal operation\n",
    "    else:\n",
    "        ag = -2 # not existing class = no augment\n",
    "\n",
    "    extractor_batch(base_folder= BASE_FOLDER, \n",
    "                    target_folder=target_folder, \n",
    "                    extdia = extdia_v1_sporadic, \n",
    "                    FileFindDict = FileFindDict,\n",
    "                    n_jobs = n_jobs,\n",
    "                    target_class_map = {'abnormal':1, 'normal': 0},\n",
    "                    FileCountLimit = FileCountLimit,\n",
    "                    datset_folder_from_base = 'dataset',\n",
    "                    fHP=120,\n",
    "                    DeviceType=dt,\n",
    "                    main_channel = main_channel,\n",
    "                    augment=ag)\n",
    "    \n",
    "    gc.collect()"
   ]
  },
  {
   "cell_type": "markdown",
   "metadata": {},
   "source": [
    "# Valve only"
   ]
  },
  {
   "cell_type": "code",
   "execution_count": 4,
   "metadata": {
    "ExecuteTime": {
     "end_time": "2020-05-05T12:22:03.007351Z",
     "start_time": "2020-05-05T10:43:17.013934Z"
    }
   },
   "outputs": [
    {
     "data": {
      "application/vnd.jupyter.widget-view+json": {
       "model_id": "1c98f793a87e41bd8582744a274dfd63",
       "version_major": 2,
       "version_minor": 0
      },
      "text/plain": [
       "HBox(children=(FloatProgress(value=0.0, max=1110.0), HTML(value='')))"
      ]
     },
     "metadata": {},
     "output_type": "display_data"
    },
    {
     "name": "stdout",
     "output_type": "stream",
     "text": [
      "2020-05-05 12:43:17: Target folder will be: A:\\Dev\\NF_Prj_MIMII_Dataset\\dataset\\extdia_v1_sporafic\n",
      "2020-05-05 12:43:17: Extractor diagram is fof type: <class '__main__.extdia_v1'>\n",
      "2020-05-05 12:43:17: --------------------------------------------\n",
      "2020-05-05 12:43:17: Working on machinepart:valve SNR:6dB ID:00\n",
      "2020-05-05 12:43:17: Files to process: 1110\n",
      "2020-05-05 12:43:17: multithread mode filling the queue\n",
      "message from time slicer: 0 \n",
      "message from time slicer: 1 \n",
      "message from time slicer: 2 \n",
      "message from time slicer: 3 \n",
      "message from time slicer: 4 \n",
      "message from time slicer: 5 \n",
      "message from time slicer: 6 \n",
      "message from time slicer: 7 \n",
      "message from time slicer: 0 \n",
      "message from time slicer: 1 \n",
      "message from time slicer: 2 \n",
      "message from time slicer: 3 \n",
      "message from time slicer: 4 \n",
      "message from time slicer: 5 \n",
      "message from time slicer: 6 \n",
      "message from time slicer: 7 \n",
      "message from time slicer: 0 \n",
      "message from time slicer: 1 \n",
      "message from time slicer: 2 \n",
      "message from time slicer: 3 \n",
      "message from time slicer: 4 \n",
      "message from time slicer: 5 \n",
      "message from time slicer: 6 \n",
      "message from time slicer: 7 \n",
      "message from time slicer: 0 \n",
      "message from time slicer: 1 \n",
      "message from time slicer: 2 \n",
      "message from time slicer: 3 \n",
      "message from time slicer: 4 \n",
      "message from time slicer: 5 \n",
      "message from time slicer: 6 \n",
      "message from time slicer: 7 \n",
      "2020-05-05 13:32:21: multithread mode all threads done\n",
      "2020-05-05 13:32:29: multithread mode list joined and pickled for the id\n",
      "2020-05-05 13:32:29: total time needed for the ID: 2952.89sec = 49.21min\n",
      "close log file\n",
      "2020-05-05 13:32:30: Target folder will be: A:\\Dev\\NF_Prj_MIMII_Dataset\\dataset\\extdia_v1_sporafic\n",
      "2020-05-05 13:32:30: Extractor diagram is fof type: <class '__main__.extdia_v1'>\n",
      "2020-05-05 13:32:30: --------------------------------------------\n",
      "2020-05-05 13:32:30: Working on machinepart:valve SNR:min6dB ID:00\n"
     ]
    },
    {
     "data": {
      "application/vnd.jupyter.widget-view+json": {
       "model_id": "71f225cfc27a45749bed7b5ffa1c85d0",
       "version_major": 2,
       "version_minor": 0
      },
      "text/plain": [
       "HBox(children=(FloatProgress(value=0.0, max=1110.0), HTML(value='')))"
      ]
     },
     "metadata": {},
     "output_type": "display_data"
    },
    {
     "name": "stdout",
     "output_type": "stream",
     "text": [
      "2020-05-05 13:32:34: Files to process: 1110\n",
      "2020-05-05 13:32:34: multithread mode filling the queue\n",
      "message from time slicer: 0 \n",
      "message from time slicer: 1 \n",
      "message from time slicer: 2 \n",
      "message from time slicer: 3 \n",
      "message from time slicer: 4 \n",
      "message from time slicer: 5 \n",
      "message from time slicer: 6 \n",
      "message from time slicer: 7 \n",
      "message from time slicer: 0 \n",
      "message from time slicer: 1 \n",
      "message from time slicer: 2 \n",
      "message from time slicer: 3 \n",
      "message from time slicer: 4 \n",
      "message from time slicer: 5 \n",
      "message from time slicer: 6 \n",
      "message from time slicer: 7 \n",
      "message from time slicer: 0 \n",
      "message from time slicer: 1 \n",
      "message from time slicer: 2 \n",
      "message from time slicer: 3 \n",
      "message from time slicer: 4 \n",
      "message from time slicer: 5 \n",
      "message from time slicer: 6 \n",
      "message from time slicer: 7 \n",
      "message from time slicer: 0 \n",
      "message from time slicer: 1 \n",
      "message from time slicer: 2 \n",
      "message from time slicer: 3 \n",
      "message from time slicer: 4 \n",
      "message from time slicer: 5 \n",
      "message from time slicer: 6 \n",
      "message from time slicer: 7 \n",
      "message from time slicer: 0 \n",
      "message from time slicer: 1 \n",
      "message from time slicer: 2 \n",
      "message from time slicer: 3 \n",
      "message from time slicer: 4 \n",
      "message from time slicer: 5 \n",
      "message from time slicer: 6 \n",
      "message from time slicer: 7 \n",
      "message from time slicer: 0 \n",
      "message from time slicer: 1 \n",
      "message from time slicer: 2 \n",
      "message from time slicer: 3 \n",
      "message from time slicer: 4 \n",
      "message from time slicer: 5 \n",
      "message from time slicer: 6 \n",
      "message from time slicer: 7 \n",
      "message from time slicer: 0 \n",
      "message from time slicer: 1 \n",
      "message from time slicer: 2 \n",
      "message from time slicer: 3 \n",
      "message from time slicer: 4 \n",
      "message from time slicer: 5 \n",
      "message from time slicer: 6 \n",
      "message from time slicer: 7 \n",
      "message from time slicer: 0 \n",
      "message from time slicer: 1 \n",
      "message from time slicer: 2 \n",
      "message from time slicer: 3 \n",
      "message from time slicer: 4 \n",
      "message from time slicer: 5 \n",
      "message from time slicer: 6 \n",
      "message from time slicer: 7 \n",
      "message from time slicer: 0 \n",
      "message from time slicer: 1 \n",
      "message from time slicer: 2 \n",
      "message from time slicer: 3 \n",
      "message from time slicer: 4 \n",
      "message from time slicer: 5 \n",
      "message from time slicer: 6 \n",
      "message from time slicer: 7 \n",
      "message from time slicer: 0 \n",
      "message from time slicer: 1 \n",
      "message from time slicer: 2 \n",
      "message from time slicer: 3 \n",
      "message from time slicer: 4 \n",
      "message from time slicer: 5 \n",
      "message from time slicer: 6 \n",
      "message from time slicer: 7 \n",
      "message from time slicer: 0 \n",
      "message from time slicer: 1 \n",
      "message from time slicer: 2 \n",
      "message from time slicer: 3 \n",
      "message from time slicer: 4 \n",
      "message from time slicer: 5 \n",
      "message from time slicer: 6 \n",
      "message from time slicer: 7 \n",
      "message from time slicer: 0 \n",
      "message from time slicer: 1 \n",
      "message from time slicer: 2 \n",
      "message from time slicer: 3 \n",
      "message from time slicer: 4 \n",
      "message from time slicer: 5 \n",
      "message from time slicer: 6 \n",
      "message from time slicer: 7 \n",
      "message from time slicer: 0 \n",
      "message from time slicer: 1 \n",
      "message from time slicer: 2 \n",
      "message from time slicer: 3 \n",
      "message from time slicer: 4 \n",
      "message from time slicer: 5 \n",
      "message from time slicer: 6 \n",
      "message from time slicer: 7 \n",
      "message from time slicer: 0 \n",
      "message from time slicer: 1 \n",
      "message from time slicer: 2 \n",
      "message from time slicer: 3 \n",
      "message from time slicer: 4 \n",
      "message from time slicer: 5 \n",
      "message from time slicer: 6 \n",
      "message from time slicer: 7 \n",
      "message from time slicer: 0 \n",
      "message from time slicer: 1 \n",
      "message from time slicer: 2 \n",
      "message from time slicer: 3 \n",
      "message from time slicer: 4 \n",
      "message from time slicer: 5 \n",
      "message from time slicer: 6 \n",
      "message from time slicer: 7 \n",
      "message from time slicer: 0 \n",
      "message from time slicer: 1 \n",
      "message from time slicer: 2 \n",
      "message from time slicer: 3 \n",
      "message from time slicer: 4 \n",
      "message from time slicer: 5 \n",
      "message from time slicer: 6 \n",
      "message from time slicer: 7 \n",
      "message from time slicer: 0 \n",
      "message from time slicer: 1 \n",
      "message from time slicer: 2 \n",
      "message from time slicer: 3 \n",
      "message from time slicer: 4 \n",
      "message from time slicer: 5 \n",
      "message from time slicer: 6 \n",
      "message from time slicer: 7 \n",
      "2020-05-05 14:21:54: multithread mode all threads done\n",
      "2020-05-05 14:22:02: multithread mode list joined and pickled for the id\n",
      "2020-05-05 14:22:02: total time needed for the ID: 2972.87sec = 49.55min\n",
      "close log file\n"
     ]
    }
   ],
   "source": [
    "id_list=['00']\n",
    "process_set({'SNR': '6dB','machine': 'valve','ID': id_list},\n",
    "            main_channel=0,\n",
    "            sporadic = True,\n",
    "            augment = True,\n",
    "            FileCountLimit= None) \n",
    "\n",
    "process_set({'SNR': 'min6dB','machine': 'valve','ID': id_list},\n",
    "            main_channel=0,\n",
    "            sporadic = True,\n",
    "            augment = True,\n",
    "            FileCountLimit= None) "
   ]
  },
  {
   "cell_type": "code",
   "execution_count": 6,
   "metadata": {
    "ExecuteTime": {
     "end_time": "2020-05-05T13:50:44.963841Z",
     "start_time": "2020-05-05T12:59:59.470552Z"
    }
   },
   "outputs": [
    {
     "name": "stdout",
     "output_type": "stream",
     "text": [
      "2020-05-05 14:59:59: Target folder will be: A:\\Dev\\NF_Prj_MIMII_Dataset\\dataset\\extdia_v1_sporafic\n",
      "2020-05-05 14:59:59: Extractor diagram is fof type: <class '__main__.extdia_v1_sporadic'>\n",
      "2020-05-05 14:59:59: --------------------------------------------\n",
      "2020-05-05 14:59:59: Working on machinepart:valve SNR:6dB ID:02\n",
      "2020-05-05 14:59:59: Files to process: 828\n",
      "2020-05-05 14:59:59: multithread mode filling the queue\n"
     ]
    },
    {
     "data": {
      "application/vnd.jupyter.widget-view+json": {
       "model_id": "3bfc8a9997c048e782196a60a56ec160",
       "version_major": 2,
       "version_minor": 0
      },
      "text/plain": [
       "HBox(children=(FloatProgress(value=0.0, max=828.0), HTML(value='')))"
      ]
     },
     "metadata": {},
     "output_type": "display_data"
    },
    {
     "name": "stdout",
     "output_type": "stream",
     "text": [
      "message from time slicer: 0 A:\\Dev\\NF_Prj_MIMII_Dataset\\dataset\\6dB\\valve\\id_02\\normal\\00000045.wav\n",
      "message from time slicer: 1 A:\\Dev\\NF_Prj_MIMII_Dataset\\dataset\\6dB\\valve\\id_02\\normal\\00000045.wav\n",
      "message from time slicer: 2 A:\\Dev\\NF_Prj_MIMII_Dataset\\dataset\\6dB\\valve\\id_02\\normal\\00000045.wav\n",
      "message from time slicer: 3 A:\\Dev\\NF_Prj_MIMII_Dataset\\dataset\\6dB\\valve\\id_02\\normal\\00000045.wav\n",
      "message from time slicer: 4 A:\\Dev\\NF_Prj_MIMII_Dataset\\dataset\\6dB\\valve\\id_02\\normal\\00000045.wav\n",
      "message from time slicer: 5 A:\\Dev\\NF_Prj_MIMII_Dataset\\dataset\\6dB\\valve\\id_02\\normal\\00000045.wav\n",
      "message from time slicer: 6 A:\\Dev\\NF_Prj_MIMII_Dataset\\dataset\\6dB\\valve\\id_02\\normal\\00000045.wav\n",
      "message from time slicer: 7 A:\\Dev\\NF_Prj_MIMII_Dataset\\dataset\\6dB\\valve\\id_02\\normal\\00000045.wav\n",
      "message from time slicer: 0 A:\\Dev\\NF_Prj_MIMII_Dataset\\dataset\\6dB\\valve\\id_02\\normal\\00000045.wav\n",
      "message from time slicer: 1 A:\\Dev\\NF_Prj_MIMII_Dataset\\dataset\\6dB\\valve\\id_02\\normal\\00000045.wav\n",
      "message from time slicer: 2 A:\\Dev\\NF_Prj_MIMII_Dataset\\dataset\\6dB\\valve\\id_02\\normal\\00000045.wav\n",
      "message from time slicer: 3 A:\\Dev\\NF_Prj_MIMII_Dataset\\dataset\\6dB\\valve\\id_02\\normal\\00000045.wav\n",
      "message from time slicer: 4 A:\\Dev\\NF_Prj_MIMII_Dataset\\dataset\\6dB\\valve\\id_02\\normal\\00000045.wav\n",
      "message from time slicer: 5 A:\\Dev\\NF_Prj_MIMII_Dataset\\dataset\\6dB\\valve\\id_02\\normal\\00000045.wav\n",
      "message from time slicer: 6 A:\\Dev\\NF_Prj_MIMII_Dataset\\dataset\\6dB\\valve\\id_02\\normal\\00000045.wav\n",
      "message from time slicer: 7 A:\\Dev\\NF_Prj_MIMII_Dataset\\dataset\\6dB\\valve\\id_02\\normal\\00000045.wav\n",
      "message from time slicer: 0 A:\\Dev\\NF_Prj_MIMII_Dataset\\dataset\\6dB\\valve\\id_02\\normal\\00000248.wav\n",
      "message from time slicer: 1 A:\\Dev\\NF_Prj_MIMII_Dataset\\dataset\\6dB\\valve\\id_02\\normal\\00000248.wav\n",
      "message from time slicer: 2 A:\\Dev\\NF_Prj_MIMII_Dataset\\dataset\\6dB\\valve\\id_02\\normal\\00000248.wav\n",
      "message from time slicer: 3 A:\\Dev\\NF_Prj_MIMII_Dataset\\dataset\\6dB\\valve\\id_02\\normal\\00000248.wav\n",
      "message from time slicer: 4 A:\\Dev\\NF_Prj_MIMII_Dataset\\dataset\\6dB\\valve\\id_02\\normal\\00000248.wav\n",
      "message from time slicer: 5 A:\\Dev\\NF_Prj_MIMII_Dataset\\dataset\\6dB\\valve\\id_02\\normal\\00000248.wav\n",
      "message from time slicer: 6 A:\\Dev\\NF_Prj_MIMII_Dataset\\dataset\\6dB\\valve\\id_02\\normal\\00000248.wav\n",
      "message from time slicer: 7 A:\\Dev\\NF_Prj_MIMII_Dataset\\dataset\\6dB\\valve\\id_02\\normal\\00000248.wav\n",
      "message from time slicer: 0 A:\\Dev\\NF_Prj_MIMII_Dataset\\dataset\\6dB\\valve\\id_02\\normal\\00000248.wav\n",
      "message from time slicer: 1 A:\\Dev\\NF_Prj_MIMII_Dataset\\dataset\\6dB\\valve\\id_02\\normal\\00000248.wav\n",
      "message from time slicer: 2 A:\\Dev\\NF_Prj_MIMII_Dataset\\dataset\\6dB\\valve\\id_02\\normal\\00000248.wav\n",
      "message from time slicer: 3 A:\\Dev\\NF_Prj_MIMII_Dataset\\dataset\\6dB\\valve\\id_02\\normal\\00000248.wav\n",
      "message from time slicer: 4 A:\\Dev\\NF_Prj_MIMII_Dataset\\dataset\\6dB\\valve\\id_02\\normal\\00000248.wav\n",
      "message from time slicer: 5 A:\\Dev\\NF_Prj_MIMII_Dataset\\dataset\\6dB\\valve\\id_02\\normal\\00000248.wav\n",
      "message from time slicer: 6 A:\\Dev\\NF_Prj_MIMII_Dataset\\dataset\\6dB\\valve\\id_02\\normal\\00000248.wav\n",
      "message from time slicer: 7 A:\\Dev\\NF_Prj_MIMII_Dataset\\dataset\\6dB\\valve\\id_02\\normal\\00000248.wav\n",
      "message from time slicer: 0 A:\\Dev\\NF_Prj_MIMII_Dataset\\dataset\\6dB\\valve\\id_02\\normal\\00000448.wav\n",
      "message from time slicer: 1 A:\\Dev\\NF_Prj_MIMII_Dataset\\dataset\\6dB\\valve\\id_02\\normal\\00000448.wav\n",
      "message from time slicer: 2 A:\\Dev\\NF_Prj_MIMII_Dataset\\dataset\\6dB\\valve\\id_02\\normal\\00000448.wav\n",
      "message from time slicer: 3 A:\\Dev\\NF_Prj_MIMII_Dataset\\dataset\\6dB\\valve\\id_02\\normal\\00000448.wav\n",
      "message from time slicer: 4 A:\\Dev\\NF_Prj_MIMII_Dataset\\dataset\\6dB\\valve\\id_02\\normal\\00000448.wav\n",
      "message from time slicer: 5 A:\\Dev\\NF_Prj_MIMII_Dataset\\dataset\\6dB\\valve\\id_02\\normal\\00000448.wav\n",
      "message from time slicer: 6 A:\\Dev\\NF_Prj_MIMII_Dataset\\dataset\\6dB\\valve\\id_02\\normal\\00000448.wav\n",
      "message from time slicer: 7 A:\\Dev\\NF_Prj_MIMII_Dataset\\dataset\\6dB\\valve\\id_02\\normal\\00000448.wav\n",
      "2020-05-05 15:10:13: multithread mode all threads done\n",
      "2020-05-05 15:10:15: multithread mode list joined and pickled for the id\n",
      "2020-05-05 15:10:15: total time needed for the ID: 616.29sec = 10.27min\n",
      "2020-05-05 15:10:15: --------------------------------------------\n",
      "2020-05-05 15:10:15: Working on machinepart:valve SNR:6dB ID:04\n",
      "2020-05-05 15:10:15: Files to process: 1120\n",
      "2020-05-05 15:10:15: multithread mode filling the queue\n"
     ]
    },
    {
     "data": {
      "application/vnd.jupyter.widget-view+json": {
       "model_id": "4bfb0b521ac14044864c4aef3fe62e7c",
       "version_major": 2,
       "version_minor": 0
      },
      "text/plain": [
       "HBox(children=(FloatProgress(value=0.0, max=1120.0), HTML(value='')))"
      ]
     },
     "metadata": {},
     "output_type": "display_data"
    },
    {
     "name": "stdout",
     "output_type": "stream",
     "text": [
      "message from time slicer: 0 A:\\Dev\\NF_Prj_MIMII_Dataset\\dataset\\6dB\\valve\\id_04\\normal\\00000589.wav\n",
      "message from time slicer: 1 A:\\Dev\\NF_Prj_MIMII_Dataset\\dataset\\6dB\\valve\\id_04\\normal\\00000589.wav\n",
      "message from time slicer: 2 A:\\Dev\\NF_Prj_MIMII_Dataset\\dataset\\6dB\\valve\\id_04\\normal\\00000589.wav\n",
      "message from time slicer: 3 A:\\Dev\\NF_Prj_MIMII_Dataset\\dataset\\6dB\\valve\\id_04\\normal\\00000589.wav\n",
      "message from time slicer: 4 A:\\Dev\\NF_Prj_MIMII_Dataset\\dataset\\6dB\\valve\\id_04\\normal\\00000589.wav\n",
      "message from time slicer: 5 A:\\Dev\\NF_Prj_MIMII_Dataset\\dataset\\6dB\\valve\\id_04\\normal\\00000589.wav\n",
      "message from time slicer: 6 A:\\Dev\\NF_Prj_MIMII_Dataset\\dataset\\6dB\\valve\\id_04\\normal\\00000589.wav\n",
      "message from time slicer: 7 A:\\Dev\\NF_Prj_MIMII_Dataset\\dataset\\6dB\\valve\\id_04\\normal\\00000589.wav\n",
      "message from time slicer: 0 A:\\Dev\\NF_Prj_MIMII_Dataset\\dataset\\6dB\\valve\\id_04\\normal\\00000589.wav\n",
      "message from time slicer: 1 A:\\Dev\\NF_Prj_MIMII_Dataset\\dataset\\6dB\\valve\\id_04\\normal\\00000589.wav\n",
      "message from time slicer: 2 A:\\Dev\\NF_Prj_MIMII_Dataset\\dataset\\6dB\\valve\\id_04\\normal\\00000589.wav\n",
      "message from time slicer: 3 A:\\Dev\\NF_Prj_MIMII_Dataset\\dataset\\6dB\\valve\\id_04\\normal\\00000589.wav\n",
      "message from time slicer: 4 A:\\Dev\\NF_Prj_MIMII_Dataset\\dataset\\6dB\\valve\\id_04\\normal\\00000589.wav\n",
      "message from time slicer: 5 A:\\Dev\\NF_Prj_MIMII_Dataset\\dataset\\6dB\\valve\\id_04\\normal\\00000589.wav\n",
      "message from time slicer: 6 A:\\Dev\\NF_Prj_MIMII_Dataset\\dataset\\6dB\\valve\\id_04\\normal\\00000589.wav\n",
      "message from time slicer: 7 A:\\Dev\\NF_Prj_MIMII_Dataset\\dataset\\6dB\\valve\\id_04\\normal\\00000589.wav\n",
      "2020-05-05 15:24:44: multithread mode all threads done\n",
      "2020-05-05 15:24:47: multithread mode list joined and pickled for the id\n",
      "2020-05-05 15:24:47: total time needed for the ID: 871.61sec = 14.53min\n",
      "close log file\n",
      "2020-05-05 15:24:47: Target folder will be: A:\\Dev\\NF_Prj_MIMII_Dataset\\dataset\\extdia_v1_sporafic\n",
      "2020-05-05 15:24:47: Extractor diagram is fof type: <class '__main__.extdia_v1_sporadic'>\n",
      "2020-05-05 15:24:47: --------------------------------------------\n",
      "2020-05-05 15:24:47: Working on machinepart:valve SNR:min6dB ID:02\n",
      "2020-05-05 15:24:47: Files to process: 828\n",
      "2020-05-05 15:24:47: multithread mode filling the queue\n"
     ]
    },
    {
     "data": {
      "application/vnd.jupyter.widget-view+json": {
       "model_id": "2667987a31034230aa1b3c60e3a8cc30",
       "version_major": 2,
       "version_minor": 0
      },
      "text/plain": [
       "HBox(children=(FloatProgress(value=0.0, max=828.0), HTML(value='')))"
      ]
     },
     "metadata": {},
     "output_type": "display_data"
    },
    {
     "name": "stdout",
     "output_type": "stream",
     "text": [
      "message from time slicer: 0 A:\\Dev\\NF_Prj_MIMII_Dataset\\dataset\\min6dB\\valve\\id_02\\abnormal\\00000001.wav\n",
      "message from time slicer: 1 A:\\Dev\\NF_Prj_MIMII_Dataset\\dataset\\min6dB\\valve\\id_02\\abnormal\\00000001.wav\n",
      "message from time slicer: 2 A:\\Dev\\NF_Prj_MIMII_Dataset\\dataset\\min6dB\\valve\\id_02\\abnormal\\00000001.wav\n",
      "message from time slicer: 3 A:\\Dev\\NF_Prj_MIMII_Dataset\\dataset\\min6dB\\valve\\id_02\\abnormal\\00000001.wav\n",
      "message from time slicer: 4 A:\\Dev\\NF_Prj_MIMII_Dataset\\dataset\\min6dB\\valve\\id_02\\abnormal\\00000001.wav\n",
      "message from time slicer: 5 A:\\Dev\\NF_Prj_MIMII_Dataset\\dataset\\min6dB\\valve\\id_02\\abnormal\\00000001.wav\n",
      "message from time slicer: 6 A:\\Dev\\NF_Prj_MIMII_Dataset\\dataset\\min6dB\\valve\\id_02\\abnormal\\00000001.wav\n",
      "message from time slicer: 7 A:\\Dev\\NF_Prj_MIMII_Dataset\\dataset\\min6dB\\valve\\id_02\\abnormal\\00000001.wav\n",
      "message from time slicer: 0 A:\\Dev\\NF_Prj_MIMII_Dataset\\dataset\\min6dB\\valve\\id_02\\abnormal\\00000007.wav\n",
      "message from time slicer: 1 A:\\Dev\\NF_Prj_MIMII_Dataset\\dataset\\min6dB\\valve\\id_02\\abnormal\\00000007.wav\n",
      "message from time slicer: 2 A:\\Dev\\NF_Prj_MIMII_Dataset\\dataset\\min6dB\\valve\\id_02\\abnormal\\00000007.wav\n",
      "message from time slicer: 3 A:\\Dev\\NF_Prj_MIMII_Dataset\\dataset\\min6dB\\valve\\id_02\\abnormal\\00000007.wav\n",
      "message from time slicer: 4 A:\\Dev\\NF_Prj_MIMII_Dataset\\dataset\\min6dB\\valve\\id_02\\abnormal\\00000007.wav\n",
      "message from time slicer: 5 A:\\Dev\\NF_Prj_MIMII_Dataset\\dataset\\min6dB\\valve\\id_02\\abnormal\\00000007.wav\n",
      "message from time slicer: 6 A:\\Dev\\NF_Prj_MIMII_Dataset\\dataset\\min6dB\\valve\\id_02\\abnormal\\00000007.wav\n",
      "message from time slicer: 7 A:\\Dev\\NF_Prj_MIMII_Dataset\\dataset\\min6dB\\valve\\id_02\\abnormal\\00000007.wav\n",
      "message from time slicer: 0 A:\\Dev\\NF_Prj_MIMII_Dataset\\dataset\\min6dB\\valve\\id_02\\normal\\00000304.wav\n",
      "message from time slicer: 1 A:\\Dev\\NF_Prj_MIMII_Dataset\\dataset\\min6dB\\valve\\id_02\\normal\\00000304.wav\n",
      "message from time slicer: 2 A:\\Dev\\NF_Prj_MIMII_Dataset\\dataset\\min6dB\\valve\\id_02\\normal\\00000304.wav\n",
      "message from time slicer: 3 A:\\Dev\\NF_Prj_MIMII_Dataset\\dataset\\min6dB\\valve\\id_02\\normal\\00000304.wav\n",
      "message from time slicer: 4 A:\\Dev\\NF_Prj_MIMII_Dataset\\dataset\\min6dB\\valve\\id_02\\normal\\00000304.wav\n",
      "message from time slicer: 5 A:\\Dev\\NF_Prj_MIMII_Dataset\\dataset\\min6dB\\valve\\id_02\\normal\\00000304.wav\n",
      "message from time slicer: 6 A:\\Dev\\NF_Prj_MIMII_Dataset\\dataset\\min6dB\\valve\\id_02\\normal\\00000304.wav\n",
      "message from time slicer: 7 A:\\Dev\\NF_Prj_MIMII_Dataset\\dataset\\min6dB\\valve\\id_02\\normal\\00000304.wav\n",
      "message from time slicer: 0 A:\\Dev\\NF_Prj_MIMII_Dataset\\dataset\\min6dB\\valve\\id_02\\normal\\00000304.wav\n",
      "message from time slicer: 1 A:\\Dev\\NF_Prj_MIMII_Dataset\\dataset\\min6dB\\valve\\id_02\\normal\\00000304.wav\n",
      "message from time slicer: 2 A:\\Dev\\NF_Prj_MIMII_Dataset\\dataset\\min6dB\\valve\\id_02\\normal\\00000304.wav\n",
      "message from time slicer: 3 A:\\Dev\\NF_Prj_MIMII_Dataset\\dataset\\min6dB\\valve\\id_02\\normal\\00000304.wav\n",
      "message from time slicer: 4 A:\\Dev\\NF_Prj_MIMII_Dataset\\dataset\\min6dB\\valve\\id_02\\normal\\00000304.wav\n",
      "message from time slicer: 5 A:\\Dev\\NF_Prj_MIMII_Dataset\\dataset\\min6dB\\valve\\id_02\\normal\\00000304.wav\n",
      "message from time slicer: 6 A:\\Dev\\NF_Prj_MIMII_Dataset\\dataset\\min6dB\\valve\\id_02\\normal\\00000304.wav\n",
      "message from time slicer: 7 A:\\Dev\\NF_Prj_MIMII_Dataset\\dataset\\min6dB\\valve\\id_02\\normal\\00000304.wav\n",
      "message from time slicer: 0 A:\\Dev\\NF_Prj_MIMII_Dataset\\dataset\\min6dB\\valve\\id_02\\normal\\00000350.wav\n",
      "message from time slicer: 1 A:\\Dev\\NF_Prj_MIMII_Dataset\\dataset\\min6dB\\valve\\id_02\\normal\\00000350.wav\n",
      "message from time slicer: 2 A:\\Dev\\NF_Prj_MIMII_Dataset\\dataset\\min6dB\\valve\\id_02\\normal\\00000350.wav\n",
      "message from time slicer: 3 A:\\Dev\\NF_Prj_MIMII_Dataset\\dataset\\min6dB\\valve\\id_02\\normal\\00000350.wav\n",
      "message from time slicer: 4 A:\\Dev\\NF_Prj_MIMII_Dataset\\dataset\\min6dB\\valve\\id_02\\normal\\00000350.wav\n",
      "message from time slicer: 5 A:\\Dev\\NF_Prj_MIMII_Dataset\\dataset\\min6dB\\valve\\id_02\\normal\\00000350.wav\n",
      "message from time slicer: 6 A:\\Dev\\NF_Prj_MIMII_Dataset\\dataset\\min6dB\\valve\\id_02\\normal\\00000350.wav\n",
      "message from time slicer: 7 A:\\Dev\\NF_Prj_MIMII_Dataset\\dataset\\min6dB\\valve\\id_02\\normal\\00000350.wav\n",
      "message from time slicer: 0 A:\\Dev\\NF_Prj_MIMII_Dataset\\dataset\\min6dB\\valve\\id_02\\normal\\00000350.wav\n",
      "message from time slicer: 1 A:\\Dev\\NF_Prj_MIMII_Dataset\\dataset\\min6dB\\valve\\id_02\\normal\\00000350.wav\n",
      "message from time slicer: 2 A:\\Dev\\NF_Prj_MIMII_Dataset\\dataset\\min6dB\\valve\\id_02\\normal\\00000350.wav\n",
      "message from time slicer: 3 A:\\Dev\\NF_Prj_MIMII_Dataset\\dataset\\min6dB\\valve\\id_02\\normal\\00000350.wav\n",
      "message from time slicer: 4 A:\\Dev\\NF_Prj_MIMII_Dataset\\dataset\\min6dB\\valve\\id_02\\normal\\00000350.wav\n",
      "message from time slicer: 5 A:\\Dev\\NF_Prj_MIMII_Dataset\\dataset\\min6dB\\valve\\id_02\\normal\\00000350.wav\n",
      "message from time slicer: 6 A:\\Dev\\NF_Prj_MIMII_Dataset\\dataset\\min6dB\\valve\\id_02\\normal\\00000350.wav\n",
      "message from time slicer: 7 A:\\Dev\\NF_Prj_MIMII_Dataset\\dataset\\min6dB\\valve\\id_02\\normal\\00000350.wav\n",
      "2020-05-05 15:35:23: multithread mode all threads done\n",
      "2020-05-05 15:35:25: multithread mode list joined and pickled for the id\n",
      "2020-05-05 15:35:25: total time needed for the ID: 638.28sec = 10.64min\n",
      "2020-05-05 15:35:25: --------------------------------------------\n",
      "2020-05-05 15:35:25: Working on machinepart:valve SNR:min6dB ID:04\n",
      "2020-05-05 15:35:25: Files to process: 1120\n",
      "2020-05-05 15:35:25: multithread mode filling the queue\n"
     ]
    },
    {
     "data": {
      "application/vnd.jupyter.widget-view+json": {
       "model_id": "5a34cfbe5c854c0c843fbbed271f9476",
       "version_major": 2,
       "version_minor": 0
      },
      "text/plain": [
       "HBox(children=(FloatProgress(value=0.0, max=1120.0), HTML(value='')))"
      ]
     },
     "metadata": {},
     "output_type": "display_data"
    },
    {
     "name": "stdout",
     "output_type": "stream",
     "text": [
      "message from time slicer: 0 A:\\Dev\\NF_Prj_MIMII_Dataset\\dataset\\min6dB\\valve\\id_04\\normal\\00000702.wav\n",
      "message from time slicer: 1 A:\\Dev\\NF_Prj_MIMII_Dataset\\dataset\\min6dB\\valve\\id_04\\normal\\00000702.wav\n",
      "message from time slicer: 2 A:\\Dev\\NF_Prj_MIMII_Dataset\\dataset\\min6dB\\valve\\id_04\\normal\\00000702.wav\n",
      "message from time slicer: 3 A:\\Dev\\NF_Prj_MIMII_Dataset\\dataset\\min6dB\\valve\\id_04\\normal\\00000702.wav\n",
      "message from time slicer: 4 A:\\Dev\\NF_Prj_MIMII_Dataset\\dataset\\min6dB\\valve\\id_04\\normal\\00000702.wav\n",
      "message from time slicer: 5 A:\\Dev\\NF_Prj_MIMII_Dataset\\dataset\\min6dB\\valve\\id_04\\normal\\00000702.wav\n",
      "message from time slicer: 6 A:\\Dev\\NF_Prj_MIMII_Dataset\\dataset\\min6dB\\valve\\id_04\\normal\\00000702.wav\n",
      "message from time slicer: 7 A:\\Dev\\NF_Prj_MIMII_Dataset\\dataset\\min6dB\\valve\\id_04\\normal\\00000702.wav\n",
      "message from time slicer: 0 A:\\Dev\\NF_Prj_MIMII_Dataset\\dataset\\min6dB\\valve\\id_04\\normal\\00000702.wav\n",
      "message from time slicer: 1 A:\\Dev\\NF_Prj_MIMII_Dataset\\dataset\\min6dB\\valve\\id_04\\normal\\00000702.wav\n",
      "message from time slicer: 2 A:\\Dev\\NF_Prj_MIMII_Dataset\\dataset\\min6dB\\valve\\id_04\\normal\\00000702.wav\n",
      "message from time slicer: 3 A:\\Dev\\NF_Prj_MIMII_Dataset\\dataset\\min6dB\\valve\\id_04\\normal\\00000702.wav\n",
      "message from time slicer: 4 A:\\Dev\\NF_Prj_MIMII_Dataset\\dataset\\min6dB\\valve\\id_04\\normal\\00000702.wav\n",
      "message from time slicer: 5 A:\\Dev\\NF_Prj_MIMII_Dataset\\dataset\\min6dB\\valve\\id_04\\normal\\00000702.wav\n",
      "message from time slicer: 6 A:\\Dev\\NF_Prj_MIMII_Dataset\\dataset\\min6dB\\valve\\id_04\\normal\\00000702.wav\n",
      "message from time slicer: 7 A:\\Dev\\NF_Prj_MIMII_Dataset\\dataset\\min6dB\\valve\\id_04\\normal\\00000702.wav\n",
      "message from time slicer: 0 A:\\Dev\\NF_Prj_MIMII_Dataset\\dataset\\min6dB\\valve\\id_04\\normal\\00000779.wav\n",
      "message from time slicer: 1 A:\\Dev\\NF_Prj_MIMII_Dataset\\dataset\\min6dB\\valve\\id_04\\normal\\00000779.wav\n",
      "message from time slicer: 2 A:\\Dev\\NF_Prj_MIMII_Dataset\\dataset\\min6dB\\valve\\id_04\\normal\\00000779.wav\n",
      "message from time slicer: 3 A:\\Dev\\NF_Prj_MIMII_Dataset\\dataset\\min6dB\\valve\\id_04\\normal\\00000779.wav\n",
      "message from time slicer: 4 A:\\Dev\\NF_Prj_MIMII_Dataset\\dataset\\min6dB\\valve\\id_04\\normal\\00000779.wav\n",
      "message from time slicer: 5 A:\\Dev\\NF_Prj_MIMII_Dataset\\dataset\\min6dB\\valve\\id_04\\normal\\00000779.wav\n",
      "message from time slicer: 6 A:\\Dev\\NF_Prj_MIMII_Dataset\\dataset\\min6dB\\valve\\id_04\\normal\\00000779.wav\n",
      "message from time slicer: 7 A:\\Dev\\NF_Prj_MIMII_Dataset\\dataset\\min6dB\\valve\\id_04\\normal\\00000779.wav\n",
      "2020-05-05 15:50:42: multithread mode all threads done\n",
      "2020-05-05 15:50:44: multithread mode list joined and pickled for the id\n",
      "2020-05-05 15:50:44: total time needed for the ID: 919.14sec = 15.32min\n",
      "close log file\n"
     ]
    }
   ],
   "source": [
    "id_list=['02','04']\n",
    "process_set({'SNR': '6dB','machine': 'valve','ID': id_list},\n",
    "            main_channel=0,\n",
    "            sporadic = True,\n",
    "            augment = True,\n",
    "            FileCountLimit= None) \n",
    "\n",
    "process_set({'SNR': 'min6dB','machine': 'valve','ID': id_list},\n",
    "            main_channel=0,\n",
    "            sporadic = True,\n",
    "            augment = True,\n",
    "            FileCountLimit= None) "
   ]
  },
  {
   "cell_type": "code",
   "execution_count": 7,
   "metadata": {
    "ExecuteTime": {
     "end_time": "2020-05-05T14:41:03.872096Z",
     "start_time": "2020-05-05T14:07:02.263318Z"
    }
   },
   "outputs": [
    {
     "name": "stdout",
     "output_type": "stream",
     "text": [
      "2020-05-05 16:07:02: Target folder will be: A:\\Dev\\NF_Prj_MIMII_Dataset\\dataset\\extdia_v1_sporafic\n",
      "2020-05-05 16:07:02: Extractor diagram is fof type: <class '__main__.extdia_v1_sporadic'>\n",
      "2020-05-05 16:07:02: --------------------------------------------\n",
      "2020-05-05 16:07:02: Working on machinepart:valve SNR:6dB ID:06\n",
      "2020-05-05 16:07:02: Files to process: 1112\n",
      "2020-05-05 16:07:02: multithread mode filling the queue\n"
     ]
    },
    {
     "data": {
      "application/vnd.jupyter.widget-view+json": {
       "model_id": "ac343b151a1b49f8a8a364e0337a6b1e",
       "version_major": 2,
       "version_minor": 0
      },
      "text/plain": [
       "HBox(children=(FloatProgress(value=0.0, max=1112.0), HTML(value='')))"
      ]
     },
     "metadata": {},
     "output_type": "display_data"
    },
    {
     "name": "stdout",
     "output_type": "stream",
     "text": [
      "message from time slicer: 0 A:\\Dev\\NF_Prj_MIMII_Dataset\\dataset\\6dB\\valve\\id_06\\normal\\00000137.wav\n",
      "message from time slicer: 1 A:\\Dev\\NF_Prj_MIMII_Dataset\\dataset\\6dB\\valve\\id_06\\normal\\00000137.wav\n",
      "message from time slicer: 2 A:\\Dev\\NF_Prj_MIMII_Dataset\\dataset\\6dB\\valve\\id_06\\normal\\00000137.wav\n",
      "message from time slicer: 3 A:\\Dev\\NF_Prj_MIMII_Dataset\\dataset\\6dB\\valve\\id_06\\normal\\00000137.wav\n",
      "message from time slicer: 4 A:\\Dev\\NF_Prj_MIMII_Dataset\\dataset\\6dB\\valve\\id_06\\normal\\00000137.wav\n",
      "message from time slicer: 5 A:\\Dev\\NF_Prj_MIMII_Dataset\\dataset\\6dB\\valve\\id_06\\normal\\00000137.wav\n",
      "message from time slicer: 6 A:\\Dev\\NF_Prj_MIMII_Dataset\\dataset\\6dB\\valve\\id_06\\normal\\00000137.wav\n",
      "message from time slicer: 7 A:\\Dev\\NF_Prj_MIMII_Dataset\\dataset\\6dB\\valve\\id_06\\normal\\00000137.wav\n",
      "message from time slicer: 0 A:\\Dev\\NF_Prj_MIMII_Dataset\\dataset\\6dB\\valve\\id_06\\normal\\00000411.wav\n",
      "message from time slicer: 1 A:\\Dev\\NF_Prj_MIMII_Dataset\\dataset\\6dB\\valve\\id_06\\normal\\00000411.wav\n",
      "message from time slicer: 2 A:\\Dev\\NF_Prj_MIMII_Dataset\\dataset\\6dB\\valve\\id_06\\normal\\00000411.wav\n",
      "message from time slicer: 3 A:\\Dev\\NF_Prj_MIMII_Dataset\\dataset\\6dB\\valve\\id_06\\normal\\00000411.wav\n",
      "message from time slicer: 4 A:\\Dev\\NF_Prj_MIMII_Dataset\\dataset\\6dB\\valve\\id_06\\normal\\00000411.wav\n",
      "message from time slicer: 5 A:\\Dev\\NF_Prj_MIMII_Dataset\\dataset\\6dB\\valve\\id_06\\normal\\00000411.wav\n",
      "message from time slicer: 6 A:\\Dev\\NF_Prj_MIMII_Dataset\\dataset\\6dB\\valve\\id_06\\normal\\00000411.wav\n",
      "message from time slicer: 7 A:\\Dev\\NF_Prj_MIMII_Dataset\\dataset\\6dB\\valve\\id_06\\normal\\00000411.wav\n",
      "message from time slicer: 0 A:\\Dev\\NF_Prj_MIMII_Dataset\\dataset\\6dB\\valve\\id_06\\normal\\00000411.wav\n",
      "message from time slicer: 1 A:\\Dev\\NF_Prj_MIMII_Dataset\\dataset\\6dB\\valve\\id_06\\normal\\00000411.wav\n",
      "message from time slicer: 2 A:\\Dev\\NF_Prj_MIMII_Dataset\\dataset\\6dB\\valve\\id_06\\normal\\00000411.wav\n",
      "message from time slicer: 3 A:\\Dev\\NF_Prj_MIMII_Dataset\\dataset\\6dB\\valve\\id_06\\normal\\00000411.wav\n",
      "message from time slicer: 4 A:\\Dev\\NF_Prj_MIMII_Dataset\\dataset\\6dB\\valve\\id_06\\normal\\00000411.wav\n",
      "message from time slicer: 5 A:\\Dev\\NF_Prj_MIMII_Dataset\\dataset\\6dB\\valve\\id_06\\normal\\00000411.wav\n",
      "message from time slicer: 6 A:\\Dev\\NF_Prj_MIMII_Dataset\\dataset\\6dB\\valve\\id_06\\normal\\00000411.wav\n",
      "message from time slicer: 7 A:\\Dev\\NF_Prj_MIMII_Dataset\\dataset\\6dB\\valve\\id_06\\normal\\00000411.wav\n",
      "2020-05-05 16:23:23: multithread mode all threads done\n",
      "2020-05-05 16:23:25: multithread mode list joined and pickled for the id\n",
      "2020-05-05 16:23:25: total time needed for the ID: 983.49sec = 16.39min\n",
      "close log file\n",
      "2020-05-05 16:23:25: Target folder will be: A:\\Dev\\NF_Prj_MIMII_Dataset\\dataset\\extdia_v1_sporafic\n",
      "2020-05-05 16:23:25: Extractor diagram is fof type: <class '__main__.extdia_v1_sporadic'>\n",
      "2020-05-05 16:23:25: --------------------------------------------\n",
      "2020-05-05 16:23:25: Working on machinepart:valve SNR:min6dB ID:06\n",
      "2020-05-05 16:23:25: Files to process: 1112\n",
      "2020-05-05 16:23:25: multithread mode filling the queue\n"
     ]
    },
    {
     "data": {
      "application/vnd.jupyter.widget-view+json": {
       "model_id": "79044cde12644a73aad0d4dfd47630aa",
       "version_major": 2,
       "version_minor": 0
      },
      "text/plain": [
       "HBox(children=(FloatProgress(value=0.0, max=1112.0), HTML(value='')))"
      ]
     },
     "metadata": {},
     "output_type": "display_data"
    },
    {
     "name": "stdout",
     "output_type": "stream",
     "text": [
      "message from time slicer: 0 A:\\Dev\\NF_Prj_MIMII_Dataset\\dataset\\min6dB\\valve\\id_06\\normal\\00000407.wav\n",
      "message from time slicer: 1 A:\\Dev\\NF_Prj_MIMII_Dataset\\dataset\\min6dB\\valve\\id_06\\normal\\00000407.wav\n",
      "message from time slicer: 2 A:\\Dev\\NF_Prj_MIMII_Dataset\\dataset\\min6dB\\valve\\id_06\\normal\\00000407.wav\n",
      "message from time slicer: 3 A:\\Dev\\NF_Prj_MIMII_Dataset\\dataset\\min6dB\\valve\\id_06\\normal\\00000407.wav\n",
      "message from time slicer: 4 A:\\Dev\\NF_Prj_MIMII_Dataset\\dataset\\min6dB\\valve\\id_06\\normal\\00000407.wav\n",
      "message from time slicer: 5 A:\\Dev\\NF_Prj_MIMII_Dataset\\dataset\\min6dB\\valve\\id_06\\normal\\00000407.wav\n",
      "message from time slicer: 6 A:\\Dev\\NF_Prj_MIMII_Dataset\\dataset\\min6dB\\valve\\id_06\\normal\\00000407.wav\n",
      "message from time slicer: 7 A:\\Dev\\NF_Prj_MIMII_Dataset\\dataset\\min6dB\\valve\\id_06\\normal\\00000407.wav\n",
      "message from time slicer: 0 A:\\Dev\\NF_Prj_MIMII_Dataset\\dataset\\min6dB\\valve\\id_06\\normal\\00000407.wav\n",
      "message from time slicer: 1 A:\\Dev\\NF_Prj_MIMII_Dataset\\dataset\\min6dB\\valve\\id_06\\normal\\00000407.wav\n",
      "message from time slicer: 2 A:\\Dev\\NF_Prj_MIMII_Dataset\\dataset\\min6dB\\valve\\id_06\\normal\\00000407.wav\n",
      "message from time slicer: 3 A:\\Dev\\NF_Prj_MIMII_Dataset\\dataset\\min6dB\\valve\\id_06\\normal\\00000407.wav\n",
      "message from time slicer: 4 A:\\Dev\\NF_Prj_MIMII_Dataset\\dataset\\min6dB\\valve\\id_06\\normal\\00000407.wav\n",
      "message from time slicer: 5 A:\\Dev\\NF_Prj_MIMII_Dataset\\dataset\\min6dB\\valve\\id_06\\normal\\00000407.wav\n",
      "message from time slicer: 6 A:\\Dev\\NF_Prj_MIMII_Dataset\\dataset\\min6dB\\valve\\id_06\\normal\\00000407.wav\n",
      "message from time slicer: 7 A:\\Dev\\NF_Prj_MIMII_Dataset\\dataset\\min6dB\\valve\\id_06\\normal\\00000407.wav\n",
      "2020-05-05 16:41:00: multithread mode all threads done\n",
      "2020-05-05 16:41:03: multithread mode list joined and pickled for the id\n",
      "2020-05-05 16:41:03: total time needed for the ID: 1057.96sec = 17.63min\n",
      "close log file\n"
     ]
    }
   ],
   "source": [
    "id_list=['06']\n",
    "process_set({'SNR': '6dB','machine': 'valve','ID': id_list},\n",
    "            main_channel=0,\n",
    "            sporadic = True,\n",
    "            augment = True,\n",
    "            FileCountLimit= None) \n",
    "\n",
    "process_set({'SNR': 'min6dB','machine': 'valve','ID': id_list},\n",
    "            main_channel=0,\n",
    "            sporadic = True,\n",
    "            augment = True,\n",
    "            FileCountLimit= None) "
   ]
  },
  {
   "cell_type": "code",
   "execution_count": null,
   "metadata": {},
   "outputs": [],
   "source": []
  }
 ],
 "metadata": {
  "kernelspec": {
   "display_name": "Py3.7 (mimii_base_TF2_GPU)",
   "language": "python",
   "name": "mimiibasetf2gpu"
  },
  "language_info": {
   "codemirror_mode": {
    "name": "ipython",
    "version": 3
   },
   "file_extension": ".py",
   "mimetype": "text/x-python",
   "name": "python",
   "nbconvert_exporter": "python",
   "pygments_lexer": "ipython3",
   "version": "3.7.6"
  },
  "toc": {
   "base_numbering": 1,
   "nav_menu": {},
   "number_sections": true,
   "sideBar": true,
   "skip_h1_title": false,
   "title_cell": "Table of Contents",
   "title_sidebar": "Contents",
   "toc_cell": false,
   "toc_position": {},
   "toc_section_display": true,
   "toc_window_display": false
  }
 },
 "nbformat": 4,
 "nbformat_minor": 4
}
