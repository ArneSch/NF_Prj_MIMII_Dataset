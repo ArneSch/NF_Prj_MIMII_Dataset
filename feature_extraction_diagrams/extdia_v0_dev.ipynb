{
 "cells": [
  {
   "cell_type": "code",
   "execution_count": 84,
   "metadata": {
    "ExecuteTime": {
     "end_time": "2020-04-29T13:38:50.979018Z",
     "start_time": "2020-04-29T13:38:48.654647Z"
    },
    "scrolled": true
   },
   "outputs": [
    {
     "name": "stdout",
     "output_type": "stream",
     "text": [
      "load feature_extractor_mother\n",
      "load feature_extractor_mel_spectra\n",
      "load feature_extractor_psd\n",
      "load feature_extractore_pre_nnFilterDenoise\n",
      "load extractor_diagram_mother\n",
      "load # extractor diagram V0\n",
      "MEL_den\n",
      "PSD_den\n",
      "\\dataset\\6dB\\pump\\id_00\\abnormal\\00000004.wav\n",
      "\\dataset\\6dB\\pump\\id_00\\normal\\00000006.wav\n",
      "\\dataset\\6dB\\pump\\id_00\\normal\\00000014.wav\n",
      "\\dataset\\6dB\\pump\\id_00\\normal\\00000016.wav\n",
      "\\dataset\\6dB\\pump\\id_00\\abnormal\\00000004.wav\n",
      "\\dataset\\6dB\\pump\\id_00\\normal\\00000006.wav\n",
      "\\dataset\\6dB\\pump\\id_00\\normal\\00000014.wav\n",
      "\\dataset\\6dB\\pump\\id_00\\normal\\00000016.wav\n"
     ]
    },
    {
     "data": {
      "text/html": [
       "<div>\n",
       "<style scoped>\n",
       "    .dataframe tbody tr th:only-of-type {\n",
       "        vertical-align: middle;\n",
       "    }\n",
       "\n",
       "    .dataframe tbody tr th {\n",
       "        vertical-align: top;\n",
       "    }\n",
       "\n",
       "    .dataframe thead th {\n",
       "        text-align: right;\n",
       "    }\n",
       "</style>\n",
       "<table border=\"1\" class=\"dataframe\">\n",
       "  <thead>\n",
       "    <tr style=\"text-align: right;\">\n",
       "      <th></th>\n",
       "      <th>path</th>\n",
       "      <th>abnormal</th>\n",
       "      <th>datafileIDX</th>\n",
       "      <th>MEL_den</th>\n",
       "      <th>PSD_den</th>\n",
       "      <th>SNR</th>\n",
       "      <th>machine</th>\n",
       "      <th>ID</th>\n",
       "    </tr>\n",
       "  </thead>\n",
       "  <tbody>\n",
       "    <tr>\n",
       "      <th>0</th>\n",
       "      <td>\\dataset\\6dB\\pump\\id_00\\abnormal\\00000004.wav</td>\n",
       "      <td>0.0</td>\n",
       "      <td>0.0</td>\n",
       "      <td>/feature_extraction_diagrams/extdia_v0_testout...</td>\n",
       "      <td>/feature_extraction_diagrams/extdia_v0_testout...</td>\n",
       "      <td>6dB</td>\n",
       "      <td>pump</td>\n",
       "      <td>00</td>\n",
       "    </tr>\n",
       "    <tr>\n",
       "      <th>1</th>\n",
       "      <td>\\dataset\\6dB\\pump\\id_00\\normal\\00000006.wav</td>\n",
       "      <td>1.0</td>\n",
       "      <td>1.0</td>\n",
       "      <td>/feature_extraction_diagrams/extdia_v0_testout...</td>\n",
       "      <td>/feature_extraction_diagrams/extdia_v0_testout...</td>\n",
       "      <td>6dB</td>\n",
       "      <td>pump</td>\n",
       "      <td>00</td>\n",
       "    </tr>\n",
       "    <tr>\n",
       "      <th>2</th>\n",
       "      <td>\\dataset\\6dB\\pump\\id_00\\normal\\00000014.wav</td>\n",
       "      <td>0.0</td>\n",
       "      <td>2.0</td>\n",
       "      <td>/feature_extraction_diagrams/extdia_v0_testout...</td>\n",
       "      <td>/feature_extraction_diagrams/extdia_v0_testout...</td>\n",
       "      <td>6dB</td>\n",
       "      <td>pump</td>\n",
       "      <td>00</td>\n",
       "    </tr>\n",
       "    <tr>\n",
       "      <th>3</th>\n",
       "      <td>\\dataset\\6dB\\pump\\id_00\\normal\\00000016.wav</td>\n",
       "      <td>0.0</td>\n",
       "      <td>3.0</td>\n",
       "      <td>/feature_extraction_diagrams/extdia_v0_testout...</td>\n",
       "      <td>/feature_extraction_diagrams/extdia_v0_testout...</td>\n",
       "      <td>6dB</td>\n",
       "      <td>pump</td>\n",
       "      <td>00</td>\n",
       "    </tr>\n",
       "  </tbody>\n",
       "</table>\n",
       "</div>"
      ],
      "text/plain": [
       "                                            path  abnormal  datafileIDX  \\\n",
       "0  \\dataset\\6dB\\pump\\id_00\\abnormal\\00000004.wav       0.0          0.0   \n",
       "1    \\dataset\\6dB\\pump\\id_00\\normal\\00000006.wav       1.0          1.0   \n",
       "2    \\dataset\\6dB\\pump\\id_00\\normal\\00000014.wav       0.0          2.0   \n",
       "3    \\dataset\\6dB\\pump\\id_00\\normal\\00000016.wav       0.0          3.0   \n",
       "\n",
       "                                             MEL_den  \\\n",
       "0  /feature_extraction_diagrams/extdia_v0_testout...   \n",
       "1  /feature_extraction_diagrams/extdia_v0_testout...   \n",
       "2  /feature_extraction_diagrams/extdia_v0_testout...   \n",
       "3  /feature_extraction_diagrams/extdia_v0_testout...   \n",
       "\n",
       "                                             PSD_den  SNR machine  ID  \n",
       "0  /feature_extraction_diagrams/extdia_v0_testout...  6dB    pump  00  \n",
       "1  /feature_extraction_diagrams/extdia_v0_testout...  6dB    pump  00  \n",
       "2  /feature_extraction_diagrams/extdia_v0_testout...  6dB    pump  00  \n",
       "3  /feature_extraction_diagrams/extdia_v0_testout...  6dB    pump  00  "
      ]
     },
     "execution_count": 84,
     "metadata": {},
     "output_type": "execute_result"
    }
   ],
   "source": [
    "BASE_FOLDER = '../'\n",
    "%run -i ..\\utility\\feature_extractor\\JupyterLoad_feature_extractor.py\n",
    "file_path_list1 = [r'\\dataset\\6dB\\pump\\id_00\\abnormal\\00000004.wav',\n",
    "                   r'\\dataset\\6dB\\pump\\id_00\\normal\\00000006.wav']\n",
    "\n",
    "file_path_list2 = [r'\\dataset\\6dB\\pump\\id_00\\normal\\00000014.wav',\n",
    "                   r'\\dataset\\6dB\\pump\\id_00\\normal\\00000016.wav']\n",
    "file_target_class1 = [0,\n",
    "                     1]\n",
    "file_target_class2 = [0,\n",
    "                     0]\n",
    "target_folder = r'/feature_extraction_diagrams/extdia_v0_testout/'\n",
    "machine = 'pump'\n",
    "SNR = '6dB'\n",
    "ID ='00'\n",
    "%run -i .\\extdia_v0\n",
    "# single test\n",
    "ed = []\n",
    "ed.append(extdia_v0(BASE_FOLDER,0))\n",
    "ed.append(extdia_v0(BASE_FOLDER,1))\n",
    "\n",
    "for tc,f in zip(file_target_class1,file_path_list1):\n",
    "    #print(f)\n",
    "    ed[0].execute_diagram(f,tc)\n",
    "    #print(ed[0].outport_akkulist['MEL_den'][0]['para_dict']['wave_filepath'])  \n",
    "for tc,f in zip(file_target_class2,file_path_list2):\n",
    "    ed[1].execute_diagram(f,tc)\n",
    "    #print(ed[1].outport_akkulist['MEL_den'][0]['para_dict']['wave_filepath'])    \n",
    "\n",
    "\n",
    "joinlist = outport_akkulist_join(exdia_list=ed)\n",
    "outport_akkulist_tofile(BASE_FOLDER,target_folder,joinlist,machine,SNR,ID)"
   ]
  },
  {
   "cell_type": "code",
   "execution_count": 85,
   "metadata": {
    "ExecuteTime": {
     "end_time": "2020-04-29T13:39:08.140822Z",
     "start_time": "2020-04-29T13:39:08.134838Z"
    }
   },
   "outputs": [],
   "source": [
    "dd = pickle.load( open( r'A:\\Dev\\NF_Prj_MIMII_Dataset\\feature_extraction_diagrams\\extdia_v0_testout\\pump6dB00_EDiaV0_outpMEL_den.pkl', \"rb\" ))"
   ]
  },
  {
   "cell_type": "code",
   "execution_count": 87,
   "metadata": {
    "ExecuteTime": {
     "end_time": "2020-04-29T13:39:19.472919Z",
     "start_time": "2020-04-29T13:39:19.467933Z"
    }
   },
   "outputs": [
    {
     "data": {
      "text/plain": [
       "'\\\\dataset\\\\6dB\\\\pump\\\\id_00\\\\normal\\\\00000006.wav'"
      ]
     },
     "execution_count": 87,
     "metadata": {},
     "output_type": "execute_result"
    }
   ],
   "source": [
    "dd[1]['para_dict']['wave_filepath']"
   ]
  },
  {
   "cell_type": "code",
   "execution_count": 68,
   "metadata": {
    "ExecuteTime": {
     "end_time": "2020-04-29T13:22:26.956383Z",
     "start_time": "2020-04-29T13:22:26.950400Z"
    }
   },
   "outputs": [
    {
     "data": {
      "text/plain": [
       "'\\\\dataset\\\\6dB\\\\pump\\\\id_00\\\\normal\\\\00000006.wav'"
      ]
     },
     "execution_count": 68,
     "metadata": {},
     "output_type": "execute_result"
    }
   ],
   "source": [
    "ed[0].outport_akkulist['MEL_den'][0]['para_dict']['wave_filepath']"
   ]
  },
  {
   "cell_type": "code",
   "execution_count": 59,
   "metadata": {
    "ExecuteTime": {
     "end_time": "2020-04-29T13:20:46.852350Z",
     "start_time": "2020-04-29T13:20:46.847662Z"
    }
   },
   "outputs": [
    {
     "data": {
      "text/plain": [
       "[0, 1]"
      ]
     },
     "execution_count": 59,
     "metadata": {},
     "output_type": "execute_result"
    }
   ],
   "source": [
    "ed[0].target_akkulist"
   ]
  },
  {
   "cell_type": "code",
   "execution_count": null,
   "metadata": {},
   "outputs": [],
   "source": [
    "df.datafileIDX"
   ]
  }
 ],
 "metadata": {
  "kernelspec": {
   "display_name": "Py3.7 (mimii_base_TF2_GPU)",
   "language": "python",
   "name": "mimiibasetf2gpu"
  },
  "toc": {
   "base_numbering": 1,
   "nav_menu": {},
   "number_sections": true,
   "sideBar": true,
   "skip_h1_title": false,
   "title_cell": "Table of Contents",
   "title_sidebar": "Contents",
   "toc_cell": false,
   "toc_position": {},
   "toc_section_display": true,
   "toc_window_display": false
  }
 },
 "nbformat": 4,
 "nbformat_minor": 4
}
