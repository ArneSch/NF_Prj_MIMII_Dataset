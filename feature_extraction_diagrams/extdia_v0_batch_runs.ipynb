{
 "cells": [
  {
   "cell_type": "code",
   "execution_count": 64,
   "metadata": {
    "ExecuteTime": {
     "end_time": "2020-04-29T18:13:56.881629Z",
     "start_time": "2020-04-29T18:13:54.546615Z"
    },
    "code_folding": [],
    "scrolled": true
   },
   "outputs": [
    {
     "name": "stdout",
     "output_type": "stream",
     "text": [
      "load feature_extractor_mother\n",
      "load feature_extractor_mel_spectra\n",
      "load feature_extractor_psd\n",
      "load feature_extractore_pre_nnFilterDenoise\n",
      "load extractor_diagram_mother\n",
      "load extractor_batch\n",
      "--------------------------------------------\n",
      "load # extractor diagram V0\n",
      "--------------------------------------------\n",
      "2020-04-29 20:13:54: Target folder will be: A:\\Dev\\NF_Prj_MIMII_Dataset\\feature_extraction_diagrams\\extdia_v0_testout2\n",
      "2020-04-29 20:13:54: Working on machinepart:pump SNR:6dB ID:00\n",
      "2020-04-29 20:13:54: Files to process: 4\n"
     ]
    },
    {
     "data": {
      "application/vnd.jupyter.widget-view+json": {
       "model_id": "d673cd21bacc4140ba96af8fafa153c9",
       "version_major": 2,
       "version_minor": 0
      },
      "text/plain": [
       "HBox(children=(FloatProgress(value=1.0, bar_style='info', max=1.0), HTML(value='')))"
      ]
     },
     "metadata": {},
     "output_type": "display_data"
    },
    {
     "name": "stdout",
     "output_type": "stream",
     "text": [
      "\n",
      "2020-04-29 20:13:56: list for the id pickled\n",
      "close log file\n"
     ]
    }
   ],
   "source": [
    "BASE_FOLDER = '../'\n",
    "%run -i ..\\utility\\feature_extractor\\JupyterLoad_feature_extractor.py\n",
    "%run -i ..\\utility\\extractor_batch.py\n",
    "print('-'*44)\n",
    "%run -i .\\extdia_v0\n",
    "print('-'*44)\n",
    "\n",
    "\n",
    "extractor_batch(base_folder= BASE_FOLDER, \n",
    " target_folder='/feature_extraction_diagrams/extdia_v0_testout2', \n",
    " extdia = extdia_v0, \n",
    " FileFindDict = {'SNR': '6dB',\n",
    "                 'machine': 'pump', \n",
    "                 'ID': ['00']},\n",
    "n_jobs = 1,\n",
    "target_class_map = {'abnormal':1, 'normal': 0},\n",
    "FileCountLimit = 2,\n",
    "datset_folder_from_base = 'dataset')"
   ]
  },
  {
   "cell_type": "code",
   "execution_count": 7,
   "metadata": {
    "ExecuteTime": {
     "end_time": "2020-04-29T16:29:56.136616Z",
     "start_time": "2020-04-29T16:29:56.131601Z"
    }
   },
   "outputs": [
    {
     "data": {
      "text/plain": [
       "['#', 'l', 1]"
      ]
     },
     "execution_count": 7,
     "metadata": {},
     "output_type": "execute_result"
    }
   ],
   "source": [
    "IfStrReturnList(['#','l',1])"
   ]
  },
  {
   "cell_type": "code",
   "execution_count": 8,
   "metadata": {
    "ExecuteTime": {
     "end_time": "2020-04-29T16:35:13.689113Z",
     "start_time": "2020-04-29T16:35:13.684100Z"
    }
   },
   "outputs": [
    {
     "name": "stdout",
     "output_type": "stream",
     "text": [
      "Current date and time : \n",
      "2020-04-29 18:35:13\n"
     ]
    }
   ],
   "source": [
    "import datetime\n",
    "now = datetime.datetime.now()\n",
    "print (\"Current date and time : \")\n",
    "print (now.strftime(\"%Y-%m-%d %H:%M:%S\"))"
   ]
  },
  {
   "cell_type": "code",
   "execution_count": 46,
   "metadata": {
    "ExecuteTime": {
     "end_time": "2020-04-29T17:30:47.643554Z",
     "start_time": "2020-04-29T17:30:47.638706Z"
    }
   },
   "outputs": [
    {
     "data": {
      "text/plain": [
       "array([1, 1, 1, 1, 1])"
      ]
     },
     "execution_count": 46,
     "metadata": {},
     "output_type": "execute_result"
    }
   ],
   "source": [
    "np.ones(5,dtype='int')"
   ]
  },
  {
   "cell_type": "code",
   "execution_count": null,
   "metadata": {},
   "outputs": [],
   "source": []
  }
 ],
 "metadata": {
  "kernelspec": {
   "display_name": "Py3.7 (mimii_base_TF2_GPU)",
   "language": "python",
   "name": "mimiibasetf2gpu"
  },
  "language_info": {
   "codemirror_mode": {
    "name": "ipython",
    "version": 3
   },
   "file_extension": ".py",
   "mimetype": "text/x-python",
   "name": "python",
   "nbconvert_exporter": "python",
   "pygments_lexer": "ipython3",
   "version": "3.7.6"
  },
  "toc": {
   "base_numbering": 1,
   "nav_menu": {},
   "number_sections": true,
   "sideBar": true,
   "skip_h1_title": false,
   "title_cell": "Table of Contents",
   "title_sidebar": "Contents",
   "toc_cell": false,
   "toc_position": {},
   "toc_section_display": true,
   "toc_window_display": false
  }
 },
 "nbformat": 4,
 "nbformat_minor": 4
}
