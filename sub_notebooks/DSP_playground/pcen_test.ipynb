{
 "cells": [
  {
   "cell_type": "code",
   "execution_count": null,
   "metadata": {},
   "outputs": [],
   "source": [
    "import librosa\n",
    "import numpy as np\n",
    "import librosa.display\n",
    "import matplotlib.pyplot as plt\n",
    "from IPython.display import display, Markdown, Audio"
   ]
  },
  {
   "cell_type": "code",
   "execution_count": null,
   "metadata": {},
   "outputs": [],
   "source": [
    "# load exampels from all machines\n",
    "d = {}\n",
    "\n",
    "pn = r'A:\\Dev\\NF_Prj_MIMII_Dataset\\dataset\\6dB\\pump\\id_04\\normal\\00000000.wav'\n",
    "pa = r'A:\\Dev\\NF_Prj_MIMII_Dataset\\dataset\\6dB\\pump\\id_04\\abnormal\\00000000.wav'    \n",
    "d['pump'] = {'n': librosa.load(pn, sr=None, mono=False),\n",
    "             'a': librosa.load(pa, sr=None, mono=False)}\n",
    "pn = r'A:\\Dev\\NF_Prj_MIMII_Dataset\\dataset\\6dB\\fan\\id_00\\normal\\00000000.wav'\n",
    "pa = r'A:\\Dev\\NF_Prj_MIMII_Dataset\\dataset\\6dB\\fan\\id_00\\abnormal\\00000000.wav'    \n",
    "d['fan'] = {'n': librosa.load(pn, sr=None, mono=False),\n",
    "             'a': librosa.load(pa, sr=None, mono=False)}\n",
    "pn = r'A:\\Dev\\NF_Prj_MIMII_Dataset\\dataset\\6dB\\slider\\id_02\\normal\\00000000.wav'\n",
    "pa = r'A:\\Dev\\NF_Prj_MIMII_Dataset\\dataset\\6dB\\slider\\id_02\\abnormal\\00000000.wav'    \n",
    "d['slider'] = {'n': librosa.load(pn, sr=None, mono=False),\n",
    "             'a': librosa.load(pa, sr=None, mono=False)}\n",
    "pn = r'A:\\Dev\\NF_Prj_MIMII_Dataset\\dataset\\6dB\\valve\\id_06\\normal\\00000000.wav'\n",
    "pa = r'A:\\Dev\\NF_Prj_MIMII_Dataset\\dataset\\6dB\\valve\\id_06\\abnormal\\00000000.wav'    \n",
    "d['valve'] = {'n': librosa.load(pn, sr=None, mono=False),\n",
    "             'a': librosa.load(pa, sr=None, mono=False)}\n",
    "\n",
    "sr = d['pump']['n'][1]"
   ]
  },
  {
   "cell_type": "code",
   "execution_count": null,
   "metadata": {},
   "outputs": [],
   "source": [
    "y =  d['pump']['n'][0][0]\n",
    "Audio(data=y,rate=sr)"
   ]
  },
  {
   "cell_type": "code",
   "execution_count": null,
   "metadata": {},
   "outputs": [],
   "source": [
    "y =  d['slider']['n'][0][0]\n",
    "S = np.abs(librosa.stft(y))#librosa.feature.melspectrogram(y, sr=sr, power=1,n_mels=64)\n",
    "log_S = librosa.amplitude_to_db(S, ref=np.max)\n",
    "pcen_S = librosa.pcen(S)#librosa.pcen(S * (2**31))\n",
    "plt.subplot(2,1,1)\n",
    "librosa.display.specshow(log_S, x_axis='time', y_axis='mel')\n",
    "plt.title('log amplitude (dB)')\n",
    "plt.colorbar()\n",
    "plt.subplot(2,1,2)\n",
    "librosa.display.specshow(pcen_S, x_axis='time', y_axis='mel')\n",
    "plt.title('Per-channel energy normalization')\n",
    "plt.colorbar()\n",
    "plt.tight_layout()\n",
    "plt.show()"
   ]
  },
  {
   "cell_type": "code",
   "execution_count": null,
   "metadata": {},
   "outputs": [],
   "source": [
    "t = np.linspace(0,10,len(pcen_S[0]))\n",
    "t = np.vstack((t,t))\n",
    "t.shape\n",
    "plt.plot(t.T,pcen_S[0:2].T)\n",
    "plt.show()\n",
    "plt.plot(t.T,log_S[0:2].T)\n"
   ]
  },
  {
   "cell_type": "code",
   "execution_count": null,
   "metadata": {},
   "outputs": [],
   "source": [
    "pcen_S[0:1].shape"
   ]
  },
  {
   "cell_type": "code",
   "execution_count": null,
   "metadata": {},
   "outputs": [],
   "source": []
  }
 ],
 "metadata": {
  "kernelspec": {
   "display_name": "Py3.7 (mimii_base_TF2_GPU)",
   "language": "python",
   "name": "mimiibasetf2gpu"
  },
  "language_info": {
   "codemirror_mode": {
    "name": "ipython",
    "version": 3
   },
   "file_extension": ".py",
   "mimetype": "text/x-python",
   "name": "python",
   "nbconvert_exporter": "python",
   "pygments_lexer": "ipython3",
   "version": "3.7.6"
  },
  "toc": {
   "base_numbering": 1,
   "nav_menu": {},
   "number_sections": true,
   "sideBar": true,
   "skip_h1_title": false,
   "title_cell": "Table of Contents",
   "title_sidebar": "Contents",
   "toc_cell": false,
   "toc_position": {},
   "toc_section_display": true,
   "toc_window_display": false
  }
 },
 "nbformat": 4,
 "nbformat_minor": 4
}
