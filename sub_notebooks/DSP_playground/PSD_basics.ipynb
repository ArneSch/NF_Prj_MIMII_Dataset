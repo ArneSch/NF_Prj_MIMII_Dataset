{
 "cells": [
  {
   "cell_type": "markdown",
   "metadata": {},
   "source": [
    "## Welch PSD "
   ]
  },
  {
   "cell_type": "code",
   "execution_count": null,
   "metadata": {},
   "outputs": [],
   "source": [
    "import scipy.signal as sig\n",
    "import numpy as np\n",
    "import librosa\n",
    "import matplotlib.pyplot as plt\n",
    "from IPython.display import Audio"
   ]
  },
  {
   "cell_type": "code",
   "execution_count": null,
   "metadata": {},
   "outputs": [],
   "source": [
    "import sys\n",
    "print(sys.executable)"
   ]
  },
  {
   "cell_type": "code",
   "execution_count": null,
   "metadata": {},
   "outputs": [],
   "source": [
    "import matplotlib.cm as cm\n",
    "\n",
    "cmap_b = cm.get_cmap(name='Blues', lut=None)\n",
    "cmap_r = cm.get_cmap(name='Reds', lut=None)\n"
   ]
  },
  {
   "cell_type": "code",
   "execution_count": null,
   "metadata": {},
   "outputs": [],
   "source": [
    "audio_file = r'A:\\Dev\\NF_Prj_MIMII_Dataset\\dataset\\6dB\\slider\\id_02\\normal\\00000001.wav'\n",
    "audio_ch  = librosa.load(audio_file, sr=None, mono=False)"
   ]
  },
  {
   "cell_type": "code",
   "execution_count": null,
   "metadata": {},
   "outputs": [],
   "source": [
    "f, Pxx = sig.welch(audio_ch[0][0],audio_ch[1])\n",
    "#window : boxcar, triang, blackman, hamming, hann, bartlett, flattop, parzen, bohman, blackmanharris, nuttall, barthann, kaiser (needs beta), gaussian (needs std), general_gaussian (needs power, width), slepian (needs width), chebwin (needs attenuation)\n",
    "#nperseg \n",
    "#noverlap\n",
    "#nfft is same as nperseg make bigger if zero padding needed to increase freq resualtion\n",
    "#return_onesided \n",
    "#scaling - power spectral density (‘density’) =  V**2/Hz  or  power spectrum (‘spectrum’) = V**2\n",
    "\n"
   ]
  },
  {
   "cell_type": "code",
   "execution_count": null,
   "metadata": {},
   "outputs": [],
   "source": [
    "plt.plot(f, Pxx)"
   ]
  },
  {
   "cell_type": "code",
   "execution_count": null,
   "metadata": {},
   "outputs": [],
   "source": [
    "f, Pxx = sig.welch(audio_ch[0][1],audio_ch[1],window='hamming',nperseg=512, noverlap=128, nfft=1024,scaling='spectrum')\n",
    "plt.plot(f, Pxx)\n",
    "ax = plt.gca()\n",
    "ax.set_xscale('log')"
   ]
  },
  {
   "cell_type": "code",
   "execution_count": null,
   "metadata": {},
   "outputs": [],
   "source": [
    "sig.get_window('gaussian', (0.2,1))"
   ]
  },
  {
   "cell_type": "code",
   "execution_count": null,
   "metadata": {
    "scrolled": true
   },
   "outputs": [],
   "source": [
    "def makePSD(file_path,ab='blue'):\n",
    "    audio_ch  = librosa.load(file_path, sr=None, mono=False)\n",
    "    f, Pxx = sig.welch(audio_ch[0][1],audio_ch[1],window='hamming',nperseg=128, noverlap=False, nfft=512,scaling='spectrum')\n",
    "    plt.plot(f, Pxx, color=ab)\n",
    "    ax = plt.gca()\n",
    "    ax.set_xscale('log')\n",
    "    ax.set_yscale('log')\n",
    "plt.figure(figsize=(20,10))    \n",
    "makePSD(r'A:\\Dev\\NF_Prj_MIMII_Dataset\\dataset\\6dB\\slider\\id_02\\normal\\00000001.wav', ab=cmap_b(0.2))\n",
    "makePSD(r'A:\\Dev\\NF_Prj_MIMII_Dataset\\dataset\\6dB\\slider\\id_02\\normal\\00000006.wav', ab=cmap_b(0.4))\n",
    "makePSD(r'A:\\Dev\\NF_Prj_MIMII_Dataset\\dataset\\6dB\\slider\\id_02\\normal\\00000100.wav', ab=cmap_b(0.5))\n",
    "makePSD(r'A:\\Dev\\NF_Prj_MIMII_Dataset\\dataset\\6dB\\slider\\id_02\\normal\\00000355.wav', ab=cmap_b(0.9))\n",
    "makePSD(r'A:\\Dev\\NF_Prj_MIMII_Dataset\\dataset\\6dB\\slider\\id_02\\abnormal\\00000100.wav', ab=cmap_r(0.5))\n",
    "makePSD(r'A:\\Dev\\NF_Prj_MIMII_Dataset\\dataset\\6dB\\slider\\id_02\\abnormal\\00000140.wav', ab=cmap_r(0.6))\n",
    "makePSD(r'A:\\Dev\\NF_Prj_MIMII_Dataset\\dataset\\6dB\\slider\\id_02\\abnormal\\00000002.wav', ab=cmap_r(0.8))"
   ]
  },
  {
   "cell_type": "code",
   "execution_count": null,
   "metadata": {},
   "outputs": [],
   "source": [
    "file_path = r'A:\\Dev\\NF_Prj_MIMII_Dataset\\dataset\\6dB\\slider\\id_02\\normal\\00000002.wav'\n",
    "audio_ch  = librosa.load(file_path, sr=None, mono=False)\n",
    "Audio(data=audio_ch[0][1],rate=audio_ch[1])"
   ]
  },
  {
   "cell_type": "code",
   "execution_count": null,
   "metadata": {},
   "outputs": [],
   "source": [
    "def makePSD(file_path,ab='blue'):\n",
    "    audio_ch  = librosa.load(file_path, sr=None, mono=False)\n",
    "    f, Pxx = sig.welch(audio_ch[0][1],audio_ch[1],window='hamming',nperseg=128, noverlap=False, nfft=512,scaling='spectrum')\n",
    "    print(len(Pxx))\n",
    "    plt.plot(f, Pxx, color=ab)\n",
    "    ax = plt.gca()\n",
    "    ax.set_xscale('log')\n",
    "    ax.set_yscale('log')\n",
    "plt.figure(figsize=(20,10))    \n",
    "makePSD(r'A:\\Dev\\NF_Prj_MIMII_Dataset\\dataset\\6dB\\pump\\id_02\\normal\\00000001.wav', ab=cmap_b(0.2))\n",
    "makePSD(r'A:\\Dev\\NF_Prj_MIMII_Dataset\\dataset\\6dB\\pump\\id_02\\normal\\00000006.wav', ab=cmap_b(0.4))\n",
    "makePSD(r'A:\\Dev\\NF_Prj_MIMII_Dataset\\dataset\\6dB\\pump\\id_02\\normal\\00000100.wav', ab=cmap_b(0.5))\n",
    "makePSD(r'A:\\Dev\\NF_Prj_MIMII_Dataset\\dataset\\6dB\\pump\\id_02\\normal\\00000355.wav', ab=cmap_b(0.9))\n",
    "makePSD(r'A:\\Dev\\NF_Prj_MIMII_Dataset\\dataset\\6dB\\pump\\id_02\\abnormal\\00000100.wav', ab=cmap_r(0.5))\n",
    "makePSD(r'A:\\Dev\\NF_Prj_MIMII_Dataset\\dataset\\6dB\\pump\\id_02\\abnormal\\00000011.wav', ab=cmap_r(0.6))\n",
    "makePSD(r'A:\\Dev\\NF_Prj_MIMII_Dataset\\dataset\\6dB\\pump\\id_02\\abnormal\\00000002.wav', ab=cmap_r(0.8))"
   ]
  },
  {
   "cell_type": "code",
   "execution_count": null,
   "metadata": {},
   "outputs": [],
   "source": [
    "file_path = r'A:\\Dev\\NF_Prj_MIMII_Dataset\\dataset\\6dB\\pump\\id_02\\abnormal\\00000002.wav'\n",
    "audio_ch  = librosa.load(file_path, sr=None, mono=False)\n",
    "Audio(data=audio_ch[0][1],rate=audio_ch[1])"
   ]
  },
  {
   "cell_type": "code",
   "execution_count": null,
   "metadata": {},
   "outputs": [],
   "source": [
    "def makePSD(file_path,ab='blue'):\n",
    "    audio_ch  = librosa.load(file_path, sr=None, mono=False)\n",
    "    f, Pxx = sig.welch(audio_ch[0][1],audio_ch[1],window='hamming',nperseg=128, noverlap=False, nfft=512,scaling='density')\n",
    "    print(len(Pxx), np.max(f))\n",
    "    plt.plot(f, Pxx, color=ab)\n",
    "    ax = plt.gca()\n",
    "    ax.set_xscale('log')\n",
    "    ax.set_yscale('log')\n",
    "plt.figure(figsize=(20,10))    \n",
    "makePSD(r'A:\\Dev\\NF_Prj_MIMII_Dataset\\dataset\\6dB\\valve\\id_04\\normal\\00000001.wav', ab=cmap_b(0.2))\n",
    "makePSD(r'A:\\Dev\\NF_Prj_MIMII_Dataset\\dataset\\6dB\\valve\\id_04\\normal\\00000006.wav', ab=cmap_b(0.4))\n",
    "makePSD(r'A:\\Dev\\NF_Prj_MIMII_Dataset\\dataset\\6dB\\valve\\id_04\\normal\\00000100.wav', ab=cmap_b(0.5))\n",
    "makePSD(r'A:\\Dev\\NF_Prj_MIMII_Dataset\\dataset\\6dB\\valve\\id_04\\normal\\00000355.wav', ab=cmap_b(0.9))\n",
    "makePSD(r'A:\\Dev\\NF_Prj_MIMII_Dataset\\dataset\\6dB\\valve\\id_04\\abnormal\\00000100.wav', ab=cmap_r(0.5))\n",
    "makePSD(r'A:\\Dev\\NF_Prj_MIMII_Dataset\\dataset\\6dB\\valve\\id_04\\abnormal\\00000011.wav', ab=cmap_r(0.6))\n",
    "makePSD(r'A:\\Dev\\NF_Prj_MIMII_Dataset\\dataset\\6dB\\valve\\id_04\\abnormal\\00000002.wav', ab=cmap_r(0.8))"
   ]
  },
  {
   "cell_type": "code",
   "execution_count": null,
   "metadata": {},
   "outputs": [],
   "source": [
    "file_path = r'A:\\Dev\\NF_Prj_MIMII_Dataset\\dataset\\6dB\\valve\\id_04\\abnormal\\00000032.wav'\n",
    "audio_ch  = librosa.load(file_path, sr=None, mono=False)\n",
    "Audio(data=audio_ch[0][1],rate=audio_ch[1])"
   ]
  },
  {
   "cell_type": "code",
   "execution_count": null,
   "metadata": {},
   "outputs": [],
   "source": [
    "file_path = r'A:\\Dev\\NF_Prj_MIMII_Dataset\\dataset\\6dB\\valve\\id_04\\normal\\00000064.wav'\n",
    "audio_ch  = librosa.load(file_path, sr=None, mono=False)\n",
    "Audio(data=audio_ch[0][1],rate=audio_ch[1])"
   ]
  },
  {
   "cell_type": "code",
   "execution_count": null,
   "metadata": {},
   "outputs": [],
   "source": [
    "def makePSD(file_path,ab='blue'):\n",
    "    audio_ch  = librosa.load(file_path, sr=None, mono=False)\n",
    "    f, Pxx = sig.welch(audio_ch[0][1],audio_ch[1],window='hamming',nperseg=512, noverlap=False, nfft=1024,scaling='density')\n",
    "    print(len(Pxx))\n",
    "    plt.plot(f, Pxx, color=ab)\n",
    "    ax = plt.gca()\n",
    "    ax.set_xscale('log')\n",
    "    ax.set_yscale('log')\n",
    "plt.figure(figsize=(20,10))    \n",
    "makePSD(r'A:\\Dev\\NF_Prj_MIMII_Dataset\\dataset\\6dB\\fan\\id_04\\normal\\00000001.wav', ab=cmap_b(0.2))\n",
    "makePSD(r'A:\\Dev\\NF_Prj_MIMII_Dataset\\dataset\\6dB\\fan\\id_04\\normal\\00000006.wav', ab=cmap_b(0.4))\n",
    "makePSD(r'A:\\Dev\\NF_Prj_MIMII_Dataset\\dataset\\6dB\\fan\\id_04\\normal\\00000100.wav', ab=cmap_b(0.5))\n",
    "makePSD(r'A:\\Dev\\NF_Prj_MIMII_Dataset\\dataset\\6dB\\fan\\id_04\\normal\\00000355.wav', ab=cmap_b(0.9))\n",
    "makePSD(r'A:\\Dev\\NF_Prj_MIMII_Dataset\\dataset\\6dB\\fan\\id_04\\abnormal\\00000100.wav', ab=cmap_r(0.5))\n",
    "makePSD(r'A:\\Dev\\NF_Prj_MIMII_Dataset\\dataset\\6dB\\fan\\id_04\\abnormal\\00000011.wav', ab=cmap_r(0.6))\n",
    "makePSD(r'A:\\Dev\\NF_Prj_MIMII_Dataset\\dataset\\6dB\\fan\\id_04\\abnormal\\00000002.wav', ab=cmap_r(0.8))\n",
    "\n"
   ]
  },
  {
   "cell_type": "code",
   "execution_count": null,
   "metadata": {},
   "outputs": [],
   "source": [
    "file_path = r'A:\\Dev\\NF_Prj_MIMII_Dataset\\dataset\\6dB\\fan\\id_04\\normal\\00000032.wav'\n",
    "audio_ch  = librosa.load(file_path, sr=None, mono=False)\n",
    "Audio(data=audio_ch[0][1],rate=audio_ch[1])"
   ]
  },
  {
   "cell_type": "code",
   "execution_count": null,
   "metadata": {},
   "outputs": [],
   "source": [
    "def makePSD(file_path,ab='blue'):\n",
    "    audio_ch  = librosa.load(file_path, sr=None, mono=False)\n",
    "    f, Pxx = sig.welch(audio_ch[0][1],audio_ch[1],window='hamming',nperseg=128, noverlap=False, nfft=512,scaling='spectrum')\n",
    "    #print(Pxx)\n",
    "    plt.plot(f, Pxx, color=ab)\n",
    "    ax = plt.gca()\n",
    "    ax.set_xscale('log')\n",
    "    ax.set_yscale('log')\n",
    "\n",
    "    \n",
    "import os\n",
    "import sys\n",
    "import glob\n",
    "\n",
    "dn = sorted(glob.glob(os.path.abspath( \"{base}/{SNR}/{machine}/id_{ID}/{n}/*.{ext}\".format(\n",
    "        base='../../'+'dataset',SNR='6dB',machine='pump',ID='04', n='normal',ext='wav' ))))\n",
    "\n",
    "da = sorted(glob.glob(os.path.abspath( \"{base}/{SNR}/{machine}/id_{ID}/{n}/*.{ext}\".format(\n",
    "        base='../../'+'dataset',SNR='6dB',machine='pump',ID='04', n='abnormal',ext='wav' ))))\n",
    "\n",
    "plt.figure(figsize=(20,10))    \n",
    "\n",
    "ns=0\n",
    "nn=2\n",
    "for idx,n in enumerate(dn[ns:nn]):\n",
    "    makePSD(n, ab=cmap_b(idx*1/(nn-ns)))\n",
    "for idx,n in enumerate(da[0:nn]):\n",
    "    makePSD(n, ab=cmap_r(idx*1/(nn-ns)))"
   ]
  },
  {
   "cell_type": "code",
   "execution_count": null,
   "metadata": {},
   "outputs": [],
   "source": [
    "audio_ch  = librosa.load(r'A:\\Dev\\NF_Prj_MIMII_Dataset\\dataset\\6dB\\valve\\id_04\\normal\\00000001.wav', sr=None, mono=False)\n",
    "audio_ch2  = librosa.load(r'A:\\Dev\\NF_Prj_MIMII_Dataset\\dataset\\6dB\\valve\\id_04\\abnormal\\00000002.wav', sr=None, mono=False)\n",
    "\n",
    "f, Pxx = sig.welch(audio_ch[0][1],audio_ch[1],window='hamming',nperseg=128, noverlap=False, nfft=512,scaling='spectrum')\n",
    "f2, Pxx2 = sig.welch(audio_ch2[0][1],audio_ch2[1],window='hamming',nperseg=128, noverlap=False, nfft=512,scaling='spectrum')\n",
    "\n",
    "print(f)\n",
    "print(f2)"
   ]
  },
  {
   "cell_type": "code",
   "execution_count": null,
   "metadata": {},
   "outputs": [],
   "source": []
  }
 ],
 "metadata": {
  "kernelspec": {
   "display_name": "Py3.7 (mimii_base_TF2_GPU)",
   "language": "python",
   "name": "mimiibasetf2gpu"
  },
  "language_info": {
   "codemirror_mode": {
    "name": "ipython",
    "version": 3
   },
   "file_extension": ".py",
   "mimetype": "text/x-python",
   "name": "python",
   "nbconvert_exporter": "python",
   "pygments_lexer": "ipython3",
   "version": "3.7.6"
  },
  "toc": {
   "base_numbering": 1,
   "nav_menu": {},
   "number_sections": true,
   "sideBar": true,
   "skip_h1_title": false,
   "title_cell": "Table of Contents",
   "title_sidebar": "Contents",
   "toc_cell": false,
   "toc_position": {},
   "toc_section_display": true,
   "toc_window_display": false
  }
 },
 "nbformat": 4,
 "nbformat_minor": 4
}
