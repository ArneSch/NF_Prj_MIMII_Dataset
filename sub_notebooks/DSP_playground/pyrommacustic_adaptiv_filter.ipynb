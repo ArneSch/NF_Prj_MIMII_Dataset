{
 "cells": [
  {
   "cell_type": "code",
   "execution_count": 1,
   "metadata": {
    "ExecuteTime": {
     "end_time": "2020-05-02T08:26:12.556569Z",
     "start_time": "2020-05-02T08:26:10.847969Z"
    }
   },
   "outputs": [],
   "source": [
    "import numpy as np\n",
    "from scipy.signal import fftconvolve\n",
    "import matplotlib.pyplot as plt\n",
    "import pyroomacoustics as pra\n",
    "\n",
    "import librosa"
   ]
  },
  {
   "cell_type": "code",
   "execution_count": 2,
   "metadata": {
    "ExecuteTime": {
     "end_time": "2020-05-02T08:26:36.056228Z",
     "start_time": "2020-05-02T08:26:35.741914Z"
    }
   },
   "outputs": [],
   "source": [
    "import librosa\n",
    "import os\n",
    "BASE_FOLDER =  r'../../'\n",
    "filepath = r'\\dataset\\6dB\\fan\\id_02\\abnormal\\00000002.wav'\n",
    "ch, sr = librosa.load(os.path.abspath(BASE_FOLDER+filepath), sr=None, mono=False)\n",
    "noisy_signal = ch[0]"
   ]
  },
  {
   "cell_type": "code",
   "execution_count": 3,
   "metadata": {
    "ExecuteTime": {
     "end_time": "2020-05-02T08:33:53.850265Z",
     "start_time": "2020-05-02T08:33:53.844281Z"
    }
   },
   "outputs": [],
   "source": [
    "length = 15        # the unknown filter length\n",
    "n_samples = len(noisy_signal) \n",
    "filter=pra.adaptive.NLMS(length, mu=0.5)\n",
    "error=np.zeros(n_samples)"
   ]
  },
  {
   "cell_type": "code",
   "execution_count": null,
   "metadata": {},
   "outputs": [],
   "source": [
    "for i in range(n_samples):\n",
    "    filter.update(noisy_signal[i], d[i])\n",
    "# since we don't know the derived signal does not make sense"
   ]
  }
 ],
 "metadata": {
  "kernelspec": {
   "display_name": "Py3.7 (mimii_base_TF2_GPU)",
   "language": "python",
   "name": "mimiibasetf2gpu"
  },
  "language_info": {
   "codemirror_mode": {
    "name": "ipython",
    "version": 3
   },
   "file_extension": ".py",
   "mimetype": "text/x-python",
   "name": "python",
   "nbconvert_exporter": "python",
   "pygments_lexer": "ipython3",
   "version": "3.7.6"
  },
  "toc": {
   "base_numbering": 1,
   "nav_menu": {},
   "number_sections": true,
   "sideBar": true,
   "skip_h1_title": false,
   "title_cell": "Table of Contents",
   "title_sidebar": "Contents",
   "toc_cell": false,
   "toc_position": {},
   "toc_section_display": true,
   "toc_window_display": false
  }
 },
 "nbformat": 4,
 "nbformat_minor": 4
}
