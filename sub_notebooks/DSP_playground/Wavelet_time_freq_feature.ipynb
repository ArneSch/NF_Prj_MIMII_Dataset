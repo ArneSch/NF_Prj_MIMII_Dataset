{
 "cells": [
  {
   "cell_type": "code",
   "execution_count": 11,
   "metadata": {},
   "outputs": [],
   "source": [
    "import librosa\n",
    "import numpy as np\n",
    "import scipy\n",
    "import librosa.display\n",
    "import librosa.decompose\n",
    "import matplotlib.pyplot as plt\n",
    "from IPython.display import display, Markdown, Audio"
   ]
  },
  {
   "cell_type": "code",
   "execution_count": 2,
   "metadata": {},
   "outputs": [],
   "source": [
    "d = {}\n",
    "\n",
    "pn = r'A:\\Dev\\NF_Prj_MIMII_Dataset\\dataset\\6dB\\pump\\id_04\\normal\\00000000.wav'\n",
    "pa = r'A:\\Dev\\NF_Prj_MIMII_Dataset\\dataset\\6dB\\pump\\id_04\\abnormal\\00000000.wav'    \n",
    "d['pump'] = {'n': librosa.load(pn, sr=None, mono=False),\n",
    "             'a': librosa.load(pa, sr=None, mono=False)}\n",
    "pn = r'A:\\Dev\\NF_Prj_MIMII_Dataset\\dataset\\6dB\\fan\\id_00\\normal\\00000000.wav'\n",
    "pa = r'A:\\Dev\\NF_Prj_MIMII_Dataset\\dataset\\6dB\\fan\\id_00\\abnormal\\00000000.wav'    \n",
    "d['fan'] = {'n': librosa.load(pn, sr=None, mono=False),\n",
    "             'a': librosa.load(pa, sr=None, mono=False)}\n",
    "pn = r'A:\\Dev\\NF_Prj_MIMII_Dataset\\dataset\\6dB\\slider\\id_02\\normal\\00000000.wav'\n",
    "pa = r'A:\\Dev\\NF_Prj_MIMII_Dataset\\dataset\\6dB\\slider\\id_02\\abnormal\\00000000.wav'    \n",
    "d['slider'] = {'n': librosa.load(pn, sr=None, mono=False),\n",
    "             'a': librosa.load(pa, sr=None, mono=False)}\n",
    "pn = r'A:\\Dev\\NF_Prj_MIMII_Dataset\\dataset\\6dB\\valve\\id_06\\normal\\00000000.wav'\n",
    "pa = r'A:\\Dev\\NF_Prj_MIMII_Dataset\\dataset\\6dB\\valve\\id_06\\abnormal\\00000000.wav'    \n",
    "d['valve'] = {'n': librosa.load(pn, sr=None, mono=False),\n",
    "             'a': librosa.load(pa, sr=None, mono=False)}\n",
    "\n",
    "sr = d['pump']['n'][1]"
   ]
  },
  {
   "cell_type": "code",
   "execution_count": 7,
   "metadata": {},
   "outputs": [
    {
     "data": {
      "text/plain": [
       "array([0.00000000e+00, 6.25003906e-05, 1.25000781e-04, ...,\n",
       "       9.99987500e+00, 9.99993750e+00, 1.00000000e+01])"
      ]
     },
     "execution_count": 7,
     "metadata": {},
     "output_type": "execute_result"
    }
   ],
   "source": [
    "np.linspace(0,len(d['pump']['n'][0][0])/sr,len(d['pump']['n'][0][0]))"
   ]
  },
  {
   "cell_type": "code",
   "execution_count": 9,
   "metadata": {},
   "outputs": [],
   "source": [
    "y = d['pump']['n'][0][0]"
   ]
  },
  {
   "cell_type": "code",
   "execution_count": 31,
   "metadata": {},
   "outputs": [
    {
     "data": {
      "image/png": "[encoded data removed]",
      "text/plain": [
       "<Figure size 432x288 with 1 Axes>"
      ]
     },
     "metadata": {
      "needs_background": "light"
     },
     "output_type": "display_data"
    }
   ],
   "source": [
    "# parameters (in Hz)\n",
    "\n",
    "srate = sr\n",
    "times = np.linspace(0,len(d['pump']['n'][0][0])/sr,len(d['pump']['n'][0][0]))\n",
    "numFrex = 6\n",
    "minFreq =  2\n",
    "maxFreq = srate/2\n",
    "npntsTF = 1000 # this one's in points\n",
    "\n",
    "# frequencies in Hz\n",
    "frex  = np.linspace(minFreq,maxFreq,numFrex)\n",
    "\n",
    "# wavelet widths (FWHM in seconds)\n",
    "fwhms = np.linspace(5,15,numFrex)\n",
    "\n",
    "\n",
    "# time points to save for plotting\n",
    "tidx = np.arange(1,len(times),npntsTF)\n",
    "\n",
    "\n",
    "# setup wavelet and convolution parameters\n",
    "wavet = np.arange(-10,10,1/srate)\n",
    "halfw = int(np.floor(len(wavet)/2))\n",
    "nConv = len(times) + len(wavet) - 1\n",
    "\n",
    "\n",
    "# create family of Morlet wavelets\n",
    "cmw = np.zeros((len(wavet),numFrex),dtype=complex)\n",
    "# loop over frequencies and create wavelets\n",
    "for fi in range(0,numFrex):\n",
    "    cmw[:,fi] = np.exp(2*1j*np.pi*frex[fi]*wavet)*np.exp(-(4*np.log(2)*wavet**2)/fwhms[fi]**2)\n",
    "    \n",
    "# plot them\n",
    "plt.pcolormesh(wavet,frex,np.abs(cmw).T,vmin=0,vmax=1)\n",
    "plt.xlabel('Time (s)'), plt.ylabel('Frequency (Hz)')\n",
    "plt.show()"
   ]
  },
  {
   "cell_type": "code",
   "execution_count": 32,
   "metadata": {},
   "outputs": [
    {
     "name": "stderr",
     "output_type": "stream",
     "text": [
      "C:\\ProgramData\\Anaconda3\\envs\\mimiibaseTF2GPU\\lib\\site-packages\\numpy\\core\\fromnumeric.py:3335: RuntimeWarning: Mean of empty slice.\n",
      "  out=out, **kwargs)\n",
      "C:\\ProgramData\\Anaconda3\\envs\\mimiibaseTF2GPU\\lib\\site-packages\\numpy\\core\\_methods.py:161: RuntimeWarning: invalid value encountered in double_scalars\n",
      "  ret = ret.dtype.type(ret / rcount)\n"
     ]
    }
   ],
   "source": [
    "## run convolution\n",
    "\n",
    "# initialize time-frequency matrix\n",
    "tf  = np.zeros((len(frex),len(tidx)))\n",
    "tfN = np.zeros((len(frex),len(tidx)))\n",
    "\n",
    "# baseline time window for normalization\n",
    "basetidx = [0,0]\n",
    "basetidx[0] = np.argmin( (times--1000)**2 )\n",
    "basetidx[1] = np.argmin( times**2 )\n",
    "basepow     = np.zeros(numFrex)\n",
    "\n",
    "\n",
    "# spectrum of data\n",
    "dataX = scipy.fftpack.fft(y,nConv)\n",
    "\n",
    "# loop over frequencies for convolution\n",
    "for fi in range(0,numFrex):\n",
    "    \n",
    "    # create wavelet\n",
    "    waveX = scipy.fftpack.fft( cmw[:,fi],nConv )\n",
    "    waveX = waveX/np.max(waveX) # normalize\n",
    "    \n",
    "    # convolve\n",
    "    as1 = scipy.fftpack.ifft( waveX*dataX )\n",
    "    # trim\n",
    "    as1 = as1[halfw:-halfw]\n",
    "    \n",
    "    # power time course at this frequency\n",
    "    powts = np.abs(as1)**2\n",
    "    \n",
    "    # baseline (pre-quake)\n",
    "    basepow[fi] = np.mean(powts[range(basetidx[0],basetidx[1])])\n",
    "    \n",
    "    tf[fi,:]  = 10*np.log10( powts[tidx] )\n",
    "    tfN[fi,:] = 10*np.log10( powts[tidx]/basepow[fi] )"
   ]
  },
  {
   "cell_type": "code",
   "execution_count": null,
   "metadata": {},
   "outputs": [],
   "source": [
    "## show time-frequency maps\n",
    "\n",
    "# \"raw\" power\n",
    "plt.subplot(211)\n",
    "plt.pcolormesh(times[tidx],frex,tf,vmin=-150,vmax=-70)\n",
    "plt.xlabel('Time'), plt.ylabel('Frequency (Hz)')\n",
    "plt.title('\"Raw\" time-frequency power')\n",
    "\n",
    "# pre-quake normalized power\n",
    "plt.subplot(212)\n",
    "plt.pcolormesh(times[tidx],frex,tfN,vmin=-15,vmax=15)\n",
    "plt.xlabel('Time'), plt.ylabel('Frequency (Hz)')\n",
    "plt.title('\"Raw\" time-frequency power')\n",
    "plt.show()\n",
    "\n",
    "\n",
    "## normalized and non-normalized power\n",
    "plt.subplot(211)\n",
    "plt.plot(frex,np.mean(tf,axis=1),'ks-')\n",
    "plt.xlabel('Frequency (Hz)'), plt.ylabel('Power (10log_{10})')\n",
    "plt.title('Raw power')\n",
    "\n",
    "plt.subplot(212)\n",
    "plt.plot(frex,np.mean(tfN,axis=1),'ks-')\n",
    "plt.xlabel('Frequency (Hz)'), plt.ylabel('Power (norm.)')\n",
    "plt.title('Pre-quake normalized power')\n",
    "plt.show()"
   ]
  },
  {
   "cell_type": "code",
   "execution_count": null,
   "metadata": {},
   "outputs": [],
   "source": [
    "#https://docs.scipy.org/doc/scipy-0.15.1/reference/generated/scipy.signal.cwt.html"
   ]
  },
  {
   "cell_type": "code",
   "execution_count": 24,
   "metadata": {},
   "outputs": [
    {
     "name": "stderr",
     "output_type": "stream",
     "text": [
      "C:\\ProgramData\\Anaconda3\\envs\\mimiibaseTF2GPU\\lib\\site-packages\\scipy\\signal\\wavelets.py:364: ComplexWarning: Casting complex values to real discards the imaginary part\n",
      "  mode='same')\n"
     ]
    }
   ],
   "source": [
    "widths = np.arange(1, 200)\n",
    "cwtmatr = scipy.signal.cwt(y, scipy.signal.morlet, widths)"
   ]
  },
  {
   "cell_type": "code",
   "execution_count": 30,
   "metadata": {},
   "outputs": [
    {
     "data": {
      "text/plain": [
       "<matplotlib.image.AxesImage at 0x23e83238608>"
      ]
     },
     "execution_count": 30,
     "metadata": {},
     "output_type": "execute_result"
    },
    {
     "data": {
      "image/png": "[encoded data removed]",
      "text/plain": [
       "<Figure size 432x288 with 1 Axes>"
      ]
     },
     "metadata": {
      "needs_background": "light"
     },
     "output_type": "display_data"
    }
   ],
   "source": [
    "plt.imshow(cwtmatr**10, extent=[-1, 1, 1, 201], aspect='auto',\n",
    " vmax=abs(cwtmatr).max(), vmin=-abs(cwtmatr).max())"
   ]
  },
  {
   "cell_type": "code",
   "execution_count": 26,
   "metadata": {},
   "outputs": [
    {
     "data": {
      "text/plain": [
       "<matplotlib.image.AxesImage at 0x23e82c9ef88>"
      ]
     },
     "execution_count": 26,
     "metadata": {},
     "output_type": "execute_result"
    },
    {
     "data": {
      "image/png": "[encoded data removed]",
      "text/plain": [
       "<Figure size 432x288 with 1 Axes>"
      ]
     },
     "metadata": {
      "needs_background": "light"
     },
     "output_type": "display_data"
    }
   ],
   "source": [
    "plt.imshow(cwtmatr)"
   ]
  },
  {
   "cell_type": "code",
   "execution_count": 25,
   "metadata": {},
   "outputs": [
    {
     "data": {
      "text/plain": [
       "array([[ 5.77619099e-04,  5.57424441e-04, -1.70745140e-04, ...,\n",
       "        -4.52953920e-04,  6.47813918e-05,  1.36405851e-03],\n",
       "       [ 2.76421339e-03,  3.65718918e-03,  1.13861250e-03, ...,\n",
       "        -4.61298663e-03,  2.46624523e-03,  7.45816587e-03],\n",
       "       [ 2.75549256e-03,  5.12016289e-03,  2.73030280e-03, ...,\n",
       "        -8.02326930e-03,  4.35337626e-03,  1.05830459e-02],\n",
       "       ...,\n",
       "       [ 7.50141288e-03,  9.83948982e-03, -1.43399353e-03, ...,\n",
       "        -3.24548507e-03,  4.31698036e-04,  3.40894802e-03],\n",
       "       [ 7.50322522e-03,  9.86698731e-03, -1.41847393e-03, ...,\n",
       "        -3.35347588e-03,  4.21107320e-04,  3.50932236e-03],\n",
       "       [ 7.50476732e-03,  9.89428510e-03, -1.40280589e-03, ...,\n",
       "        -3.46108203e-03,  4.10536052e-04,  3.60936208e-03]])"
      ]
     },
     "execution_count": 25,
     "metadata": {},
     "output_type": "execute_result"
    }
   ],
   "source": [
    "cwtmatr"
   ]
  },
  {
   "cell_type": "code",
   "execution_count": null,
   "metadata": {},
   "outputs": [],
   "source": []
  }
 ],
 "metadata": {
  "kernelspec": {
   "display_name": "Py3.7 (mimii_base_TF2_GPU)",
   "language": "python",
   "name": "mimiibasetf2gpu"
  },
  "language_info": {
   "codemirror_mode": {
    "name": "ipython",
    "version": 3
   },
   "file_extension": ".py",
   "mimetype": "text/x-python",
   "name": "python",
   "nbconvert_exporter": "python",
   "pygments_lexer": "ipython3",
   "version": "3.7.6"
  },
  "toc": {
   "base_numbering": 1,
   "nav_menu": {},
   "number_sections": true,
   "sideBar": true,
   "skip_h1_title": false,
   "title_cell": "Table of Contents",
   "title_sidebar": "Contents",
   "toc_cell": false,
   "toc_position": {},
   "toc_section_display": true,
   "toc_window_display": false
  }
 },
 "nbformat": 4,
 "nbformat_minor": 4
}
