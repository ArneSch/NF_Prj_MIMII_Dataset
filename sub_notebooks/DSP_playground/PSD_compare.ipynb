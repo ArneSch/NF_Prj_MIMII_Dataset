{
 "cells": [
  {
   "cell_type": "code",
   "execution_count": 3,
   "metadata": {},
   "outputs": [
    {
     "name": "stdout",
     "output_type": "stream",
     "text": [
      "load feature_extractor_mother\n",
      "load feature_extractor_mel_spectra\n",
      "load feature_extractor_psd\n"
     ]
    }
   ],
   "source": [
    "BASE_FOLDER = '../../'\n",
    "%run -i ..\\..\\utility\\feature_extractor\\JupyterLoad_feature_extractor.py"
   ]
  },
  {
   "cell_type": "code",
   "execution_count": 62,
   "metadata": {},
   "outputs": [
    {
     "data": {
      "image/png": "[encoded data removed]",
      "text/plain": [
       "<Figure size 432x288 with 1 Axes>"
      ]
     },
     "metadata": {
      "needs_background": "light"
     },
     "output_type": "display_data"
    }
   ],
   "source": [
    "\n",
    "\n",
    "\n",
    "fe_psd_n = feature_extractor_welchPSD(BASE_FOLDER,'normal')\n",
    "fe_psd_n.set_hyperparamter(nperseg=512, nfft=1024,channel=2)\n",
    "fe_psd_a = feature_extractor_welchPSD(BASE_FOLDER,'abnormal')\n",
    "fe_psd_a.set_hyperparamter(nperseg=512, nfft=1024,channel=2)\n",
    "fe_psd_n.create_from_wav(r'\\dataset\\6dB\\pump\\id_00\\normal\\00000004.wav')\n",
    "fe_psd_a.create_from_wav(r'\\dataset\\6dB\\pump\\id_00\\abnormal\\00000015.wav')\n",
    "fe_psd_n.plot()\n",
    "fe_psd_a.plot()"
   ]
  },
  {
   "cell_type": "markdown",
   "metadata": {},
   "source": [
    "# Metric check"
   ]
  },
  {
   "cell_type": "markdown",
   "metadata": {},
   "source": [
    "## RMS"
   ]
  },
  {
   "cell_type": "code",
   "execution_count": 63,
   "metadata": {},
   "outputs": [
    {
     "name": "stdout",
     "output_type": "stream",
     "text": [
      "4.1505677e-07\n",
      "6.180419e-06\n"
     ]
    }
   ],
   "source": [
    "def rms(s):\n",
    "    rms = np.sqrt(np.mean(np.square(s)))\n",
    "    return rms\n",
    "\n",
    "print(rms(fe_psd_n.feature_data['Pxx']))\n",
    "print(rms(fe_psd_a.feature_data['Pxx']))"
   ]
  },
  {
   "cell_type": "markdown",
   "metadata": {},
   "source": [
    "## Std"
   ]
  },
  {
   "cell_type": "code",
   "execution_count": 64,
   "metadata": {},
   "outputs": [
    {
     "name": "stdout",
     "output_type": "stream",
     "text": [
      "3.3853465e-07\n",
      "5.9443714e-06\n"
     ]
    }
   ],
   "source": [
    "print(np.std(fe_psd_n.feature_data['Pxx']))\n",
    "print(np.std(fe_psd_a.feature_data['Pxx']))"
   ]
  },
  {
   "cell_type": "code",
   "execution_count": null,
   "metadata": {},
   "outputs": [],
   "source": []
  },
  {
   "cell_type": "markdown",
   "metadata": {},
   "source": [
    "## Pearson correlation"
   ]
  },
  {
   "cell_type": "code",
   "execution_count": 65,
   "metadata": {},
   "outputs": [
    {
     "name": "stdout",
     "output_type": "stream",
     "text": [
      "0.2974038681761312\n"
     ]
    }
   ],
   "source": [
    "print(scipy.stats.pearsonr(fe_psd_n.feature_data['Pxx'], fe_psd_a.feature_data['Pxx'])[0])\n"
   ]
  },
  {
   "cell_type": "markdown",
   "metadata": {},
   "source": [
    "## scroll"
   ]
  },
  {
   "cell_type": "code",
   "execution_count": 30,
   "metadata": {},
   "outputs": [],
   "source": [
    "%run -i ..\\..\\utility\\CleanAextract_to_PandasPickles.py"
   ]
  },
  {
   "cell_type": "code",
   "execution_count": 54,
   "metadata": {},
   "outputs": [
    {
     "data": {
      "text/plain": [
       "{'00': ['A:\\\\Dev\\\\NF_Prj_MIMII_Dataset\\\\dataset\\\\6dB\\\\pump\\\\id_00\\\\normal\\\\00000000.wav',\n",
       "  'A:\\\\Dev\\\\NF_Prj_MIMII_Dataset\\\\dataset\\\\6dB\\\\pump\\\\id_00\\\\normal\\\\00000001.wav',\n",
       "  'A:\\\\Dev\\\\NF_Prj_MIMII_Dataset\\\\dataset\\\\6dB\\\\pump\\\\id_00\\\\normal\\\\00000002.wav',\n",
       "  'A:\\\\Dev\\\\NF_Prj_MIMII_Dataset\\\\dataset\\\\6dB\\\\pump\\\\id_00\\\\normal\\\\00000003.wav',\n",
       "  'A:\\\\Dev\\\\NF_Prj_MIMII_Dataset\\\\dataset\\\\6dB\\\\pump\\\\id_00\\\\normal\\\\00000004.wav',\n",
       "  'A:\\\\Dev\\\\NF_Prj_MIMII_Dataset\\\\dataset\\\\6dB\\\\pump\\\\id_00\\\\normal\\\\00000005.wav',\n",
       "  'A:\\\\Dev\\\\NF_Prj_MIMII_Dataset\\\\dataset\\\\6dB\\\\pump\\\\id_00\\\\normal\\\\00000006.wav',\n",
       "  'A:\\\\Dev\\\\NF_Prj_MIMII_Dataset\\\\dataset\\\\6dB\\\\pump\\\\id_00\\\\normal\\\\00000007.wav',\n",
       "  'A:\\\\Dev\\\\NF_Prj_MIMII_Dataset\\\\dataset\\\\6dB\\\\pump\\\\id_00\\\\normal\\\\00000008.wav',\n",
       "  'A:\\\\Dev\\\\NF_Prj_MIMII_Dataset\\\\dataset\\\\6dB\\\\pump\\\\id_00\\\\normal\\\\00000009.wav',\n",
       "  'A:\\\\Dev\\\\NF_Prj_MIMII_Dataset\\\\dataset\\\\6dB\\\\pump\\\\id_00\\\\normal\\\\00000010.wav',\n",
       "  'A:\\\\Dev\\\\NF_Prj_MIMII_Dataset\\\\dataset\\\\6dB\\\\pump\\\\id_00\\\\normal\\\\00000011.wav',\n",
       "  'A:\\\\Dev\\\\NF_Prj_MIMII_Dataset\\\\dataset\\\\6dB\\\\pump\\\\id_00\\\\normal\\\\00000012.wav',\n",
       "  'A:\\\\Dev\\\\NF_Prj_MIMII_Dataset\\\\dataset\\\\6dB\\\\pump\\\\id_00\\\\normal\\\\00000013.wav',\n",
       "  'A:\\\\Dev\\\\NF_Prj_MIMII_Dataset\\\\dataset\\\\6dB\\\\pump\\\\id_00\\\\normal\\\\00000014.wav',\n",
       "  'A:\\\\Dev\\\\NF_Prj_MIMII_Dataset\\\\dataset\\\\6dB\\\\pump\\\\id_00\\\\normal\\\\00000015.wav',\n",
       "  'A:\\\\Dev\\\\NF_Prj_MIMII_Dataset\\\\dataset\\\\6dB\\\\pump\\\\id_00\\\\normal\\\\00000016.wav',\n",
       "  'A:\\\\Dev\\\\NF_Prj_MIMII_Dataset\\\\dataset\\\\6dB\\\\pump\\\\id_00\\\\normal\\\\00000017.wav',\n",
       "  'A:\\\\Dev\\\\NF_Prj_MIMII_Dataset\\\\dataset\\\\6dB\\\\pump\\\\id_00\\\\normal\\\\00000018.wav',\n",
       "  'A:\\\\Dev\\\\NF_Prj_MIMII_Dataset\\\\dataset\\\\6dB\\\\pump\\\\id_00\\\\normal\\\\00000019.wav',\n",
       "  'A:\\\\Dev\\\\NF_Prj_MIMII_Dataset\\\\dataset\\\\6dB\\\\pump\\\\id_00\\\\normal\\\\00000020.wav',\n",
       "  'A:\\\\Dev\\\\NF_Prj_MIMII_Dataset\\\\dataset\\\\6dB\\\\pump\\\\id_00\\\\normal\\\\00000021.wav',\n",
       "  'A:\\\\Dev\\\\NF_Prj_MIMII_Dataset\\\\dataset\\\\6dB\\\\pump\\\\id_00\\\\normal\\\\00000022.wav',\n",
       "  'A:\\\\Dev\\\\NF_Prj_MIMII_Dataset\\\\dataset\\\\6dB\\\\pump\\\\id_00\\\\normal\\\\00000023.wav',\n",
       "  'A:\\\\Dev\\\\NF_Prj_MIMII_Dataset\\\\dataset\\\\6dB\\\\pump\\\\id_00\\\\normal\\\\00000024.wav',\n",
       "  'A:\\\\Dev\\\\NF_Prj_MIMII_Dataset\\\\dataset\\\\6dB\\\\pump\\\\id_00\\\\normal\\\\00000025.wav',\n",
       "  'A:\\\\Dev\\\\NF_Prj_MIMII_Dataset\\\\dataset\\\\6dB\\\\pump\\\\id_00\\\\normal\\\\00000026.wav',\n",
       "  'A:\\\\Dev\\\\NF_Prj_MIMII_Dataset\\\\dataset\\\\6dB\\\\pump\\\\id_00\\\\normal\\\\00000027.wav',\n",
       "  'A:\\\\Dev\\\\NF_Prj_MIMII_Dataset\\\\dataset\\\\6dB\\\\pump\\\\id_00\\\\normal\\\\00000028.wav',\n",
       "  'A:\\\\Dev\\\\NF_Prj_MIMII_Dataset\\\\dataset\\\\6dB\\\\pump\\\\id_00\\\\normal\\\\00000029.wav',\n",
       "  'A:\\\\Dev\\\\NF_Prj_MIMII_Dataset\\\\dataset\\\\6dB\\\\pump\\\\id_00\\\\normal\\\\00000030.wav',\n",
       "  'A:\\\\Dev\\\\NF_Prj_MIMII_Dataset\\\\dataset\\\\6dB\\\\pump\\\\id_00\\\\normal\\\\00000031.wav',\n",
       "  'A:\\\\Dev\\\\NF_Prj_MIMII_Dataset\\\\dataset\\\\6dB\\\\pump\\\\id_00\\\\normal\\\\00000032.wav',\n",
       "  'A:\\\\Dev\\\\NF_Prj_MIMII_Dataset\\\\dataset\\\\6dB\\\\pump\\\\id_00\\\\normal\\\\00000033.wav',\n",
       "  'A:\\\\Dev\\\\NF_Prj_MIMII_Dataset\\\\dataset\\\\6dB\\\\pump\\\\id_00\\\\normal\\\\00000034.wav',\n",
       "  'A:\\\\Dev\\\\NF_Prj_MIMII_Dataset\\\\dataset\\\\6dB\\\\pump\\\\id_00\\\\normal\\\\00000035.wav',\n",
       "  'A:\\\\Dev\\\\NF_Prj_MIMII_Dataset\\\\dataset\\\\6dB\\\\pump\\\\id_00\\\\normal\\\\00000036.wav',\n",
       "  'A:\\\\Dev\\\\NF_Prj_MIMII_Dataset\\\\dataset\\\\6dB\\\\pump\\\\id_00\\\\normal\\\\00000037.wav',\n",
       "  'A:\\\\Dev\\\\NF_Prj_MIMII_Dataset\\\\dataset\\\\6dB\\\\pump\\\\id_00\\\\normal\\\\00000038.wav',\n",
       "  'A:\\\\Dev\\\\NF_Prj_MIMII_Dataset\\\\dataset\\\\6dB\\\\pump\\\\id_00\\\\normal\\\\00000039.wav',\n",
       "  'A:\\\\Dev\\\\NF_Prj_MIMII_Dataset\\\\dataset\\\\6dB\\\\pump\\\\id_00\\\\normal\\\\00000040.wav',\n",
       "  'A:\\\\Dev\\\\NF_Prj_MIMII_Dataset\\\\dataset\\\\6dB\\\\pump\\\\id_00\\\\normal\\\\00000041.wav',\n",
       "  'A:\\\\Dev\\\\NF_Prj_MIMII_Dataset\\\\dataset\\\\6dB\\\\pump\\\\id_00\\\\normal\\\\00000042.wav',\n",
       "  'A:\\\\Dev\\\\NF_Prj_MIMII_Dataset\\\\dataset\\\\6dB\\\\pump\\\\id_00\\\\normal\\\\00000043.wav',\n",
       "  'A:\\\\Dev\\\\NF_Prj_MIMII_Dataset\\\\dataset\\\\6dB\\\\pump\\\\id_00\\\\normal\\\\00000044.wav',\n",
       "  'A:\\\\Dev\\\\NF_Prj_MIMII_Dataset\\\\dataset\\\\6dB\\\\pump\\\\id_00\\\\normal\\\\00000045.wav',\n",
       "  'A:\\\\Dev\\\\NF_Prj_MIMII_Dataset\\\\dataset\\\\6dB\\\\pump\\\\id_00\\\\normal\\\\00000046.wav',\n",
       "  'A:\\\\Dev\\\\NF_Prj_MIMII_Dataset\\\\dataset\\\\6dB\\\\pump\\\\id_00\\\\normal\\\\00000047.wav',\n",
       "  'A:\\\\Dev\\\\NF_Prj_MIMII_Dataset\\\\dataset\\\\6dB\\\\pump\\\\id_00\\\\normal\\\\00000048.wav',\n",
       "  'A:\\\\Dev\\\\NF_Prj_MIMII_Dataset\\\\dataset\\\\6dB\\\\pump\\\\id_00\\\\normal\\\\00000049.wav',\n",
       "  'A:\\\\Dev\\\\NF_Prj_MIMII_Dataset\\\\dataset\\\\6dB\\\\pump\\\\id_00\\\\normal\\\\00000050.wav',\n",
       "  'A:\\\\Dev\\\\NF_Prj_MIMII_Dataset\\\\dataset\\\\6dB\\\\pump\\\\id_00\\\\normal\\\\00000051.wav',\n",
       "  'A:\\\\Dev\\\\NF_Prj_MIMII_Dataset\\\\dataset\\\\6dB\\\\pump\\\\id_00\\\\normal\\\\00000052.wav',\n",
       "  'A:\\\\Dev\\\\NF_Prj_MIMII_Dataset\\\\dataset\\\\6dB\\\\pump\\\\id_00\\\\normal\\\\00000053.wav',\n",
       "  'A:\\\\Dev\\\\NF_Prj_MIMII_Dataset\\\\dataset\\\\6dB\\\\pump\\\\id_00\\\\normal\\\\00000054.wav',\n",
       "  'A:\\\\Dev\\\\NF_Prj_MIMII_Dataset\\\\dataset\\\\6dB\\\\pump\\\\id_00\\\\normal\\\\00000055.wav',\n",
       "  'A:\\\\Dev\\\\NF_Prj_MIMII_Dataset\\\\dataset\\\\6dB\\\\pump\\\\id_00\\\\normal\\\\00000056.wav',\n",
       "  'A:\\\\Dev\\\\NF_Prj_MIMII_Dataset\\\\dataset\\\\6dB\\\\pump\\\\id_00\\\\normal\\\\00000057.wav',\n",
       "  'A:\\\\Dev\\\\NF_Prj_MIMII_Dataset\\\\dataset\\\\6dB\\\\pump\\\\id_00\\\\normal\\\\00000058.wav',\n",
       "  'A:\\\\Dev\\\\NF_Prj_MIMII_Dataset\\\\dataset\\\\6dB\\\\pump\\\\id_00\\\\normal\\\\00000059.wav',\n",
       "  'A:\\\\Dev\\\\NF_Prj_MIMII_Dataset\\\\dataset\\\\6dB\\\\pump\\\\id_00\\\\normal\\\\00000060.wav',\n",
       "  'A:\\\\Dev\\\\NF_Prj_MIMII_Dataset\\\\dataset\\\\6dB\\\\pump\\\\id_00\\\\normal\\\\00000061.wav',\n",
       "  'A:\\\\Dev\\\\NF_Prj_MIMII_Dataset\\\\dataset\\\\6dB\\\\pump\\\\id_00\\\\normal\\\\00000062.wav',\n",
       "  'A:\\\\Dev\\\\NF_Prj_MIMII_Dataset\\\\dataset\\\\6dB\\\\pump\\\\id_00\\\\normal\\\\00000063.wav',\n",
       "  'A:\\\\Dev\\\\NF_Prj_MIMII_Dataset\\\\dataset\\\\6dB\\\\pump\\\\id_00\\\\normal\\\\00000064.wav',\n",
       "  'A:\\\\Dev\\\\NF_Prj_MIMII_Dataset\\\\dataset\\\\6dB\\\\pump\\\\id_00\\\\normal\\\\00000065.wav',\n",
       "  'A:\\\\Dev\\\\NF_Prj_MIMII_Dataset\\\\dataset\\\\6dB\\\\pump\\\\id_00\\\\normal\\\\00000066.wav',\n",
       "  'A:\\\\Dev\\\\NF_Prj_MIMII_Dataset\\\\dataset\\\\6dB\\\\pump\\\\id_00\\\\normal\\\\00000067.wav',\n",
       "  'A:\\\\Dev\\\\NF_Prj_MIMII_Dataset\\\\dataset\\\\6dB\\\\pump\\\\id_00\\\\normal\\\\00000068.wav',\n",
       "  'A:\\\\Dev\\\\NF_Prj_MIMII_Dataset\\\\dataset\\\\6dB\\\\pump\\\\id_00\\\\normal\\\\00000069.wav',\n",
       "  'A:\\\\Dev\\\\NF_Prj_MIMII_Dataset\\\\dataset\\\\6dB\\\\pump\\\\id_00\\\\normal\\\\00000070.wav',\n",
       "  'A:\\\\Dev\\\\NF_Prj_MIMII_Dataset\\\\dataset\\\\6dB\\\\pump\\\\id_00\\\\normal\\\\00000071.wav',\n",
       "  'A:\\\\Dev\\\\NF_Prj_MIMII_Dataset\\\\dataset\\\\6dB\\\\pump\\\\id_00\\\\normal\\\\00000072.wav',\n",
       "  'A:\\\\Dev\\\\NF_Prj_MIMII_Dataset\\\\dataset\\\\6dB\\\\pump\\\\id_00\\\\normal\\\\00000073.wav',\n",
       "  'A:\\\\Dev\\\\NF_Prj_MIMII_Dataset\\\\dataset\\\\6dB\\\\pump\\\\id_00\\\\normal\\\\00000074.wav',\n",
       "  'A:\\\\Dev\\\\NF_Prj_MIMII_Dataset\\\\dataset\\\\6dB\\\\pump\\\\id_00\\\\normal\\\\00000075.wav',\n",
       "  'A:\\\\Dev\\\\NF_Prj_MIMII_Dataset\\\\dataset\\\\6dB\\\\pump\\\\id_00\\\\normal\\\\00000076.wav',\n",
       "  'A:\\\\Dev\\\\NF_Prj_MIMII_Dataset\\\\dataset\\\\6dB\\\\pump\\\\id_00\\\\normal\\\\00000077.wav',\n",
       "  'A:\\\\Dev\\\\NF_Prj_MIMII_Dataset\\\\dataset\\\\6dB\\\\pump\\\\id_00\\\\normal\\\\00000078.wav',\n",
       "  'A:\\\\Dev\\\\NF_Prj_MIMII_Dataset\\\\dataset\\\\6dB\\\\pump\\\\id_00\\\\normal\\\\00000079.wav',\n",
       "  'A:\\\\Dev\\\\NF_Prj_MIMII_Dataset\\\\dataset\\\\6dB\\\\pump\\\\id_00\\\\normal\\\\00000080.wav',\n",
       "  'A:\\\\Dev\\\\NF_Prj_MIMII_Dataset\\\\dataset\\\\6dB\\\\pump\\\\id_00\\\\normal\\\\00000081.wav',\n",
       "  'A:\\\\Dev\\\\NF_Prj_MIMII_Dataset\\\\dataset\\\\6dB\\\\pump\\\\id_00\\\\normal\\\\00000082.wav',\n",
       "  'A:\\\\Dev\\\\NF_Prj_MIMII_Dataset\\\\dataset\\\\6dB\\\\pump\\\\id_00\\\\normal\\\\00000083.wav',\n",
       "  'A:\\\\Dev\\\\NF_Prj_MIMII_Dataset\\\\dataset\\\\6dB\\\\pump\\\\id_00\\\\normal\\\\00000084.wav',\n",
       "  'A:\\\\Dev\\\\NF_Prj_MIMII_Dataset\\\\dataset\\\\6dB\\\\pump\\\\id_00\\\\normal\\\\00000085.wav',\n",
       "  'A:\\\\Dev\\\\NF_Prj_MIMII_Dataset\\\\dataset\\\\6dB\\\\pump\\\\id_00\\\\normal\\\\00000086.wav',\n",
       "  'A:\\\\Dev\\\\NF_Prj_MIMII_Dataset\\\\dataset\\\\6dB\\\\pump\\\\id_00\\\\normal\\\\00000087.wav',\n",
       "  'A:\\\\Dev\\\\NF_Prj_MIMII_Dataset\\\\dataset\\\\6dB\\\\pump\\\\id_00\\\\normal\\\\00000088.wav',\n",
       "  'A:\\\\Dev\\\\NF_Prj_MIMII_Dataset\\\\dataset\\\\6dB\\\\pump\\\\id_00\\\\normal\\\\00000089.wav',\n",
       "  'A:\\\\Dev\\\\NF_Prj_MIMII_Dataset\\\\dataset\\\\6dB\\\\pump\\\\id_00\\\\normal\\\\00000090.wav',\n",
       "  'A:\\\\Dev\\\\NF_Prj_MIMII_Dataset\\\\dataset\\\\6dB\\\\pump\\\\id_00\\\\normal\\\\00000091.wav',\n",
       "  'A:\\\\Dev\\\\NF_Prj_MIMII_Dataset\\\\dataset\\\\6dB\\\\pump\\\\id_00\\\\normal\\\\00000092.wav',\n",
       "  'A:\\\\Dev\\\\NF_Prj_MIMII_Dataset\\\\dataset\\\\6dB\\\\pump\\\\id_00\\\\normal\\\\00000093.wav',\n",
       "  'A:\\\\Dev\\\\NF_Prj_MIMII_Dataset\\\\dataset\\\\6dB\\\\pump\\\\id_00\\\\normal\\\\00000094.wav',\n",
       "  'A:\\\\Dev\\\\NF_Prj_MIMII_Dataset\\\\dataset\\\\6dB\\\\pump\\\\id_00\\\\normal\\\\00000095.wav',\n",
       "  'A:\\\\Dev\\\\NF_Prj_MIMII_Dataset\\\\dataset\\\\6dB\\\\pump\\\\id_00\\\\normal\\\\00000096.wav',\n",
       "  'A:\\\\Dev\\\\NF_Prj_MIMII_Dataset\\\\dataset\\\\6dB\\\\pump\\\\id_00\\\\normal\\\\00000097.wav',\n",
       "  'A:\\\\Dev\\\\NF_Prj_MIMII_Dataset\\\\dataset\\\\6dB\\\\pump\\\\id_00\\\\normal\\\\00000098.wav',\n",
       "  'A:\\\\Dev\\\\NF_Prj_MIMII_Dataset\\\\dataset\\\\6dB\\\\pump\\\\id_00\\\\normal\\\\00000099.wav']}"
      ]
     },
     "execution_count": 54,
     "metadata": {},
     "output_type": "execute_result"
    }
   ],
   "source": [
    "fn, fa = get_wave_files(BASE_FOLDER,{'SNR': '6dB',\n",
    "                            'machine': 'pump', \n",
    "                            'ID': ['00']}, 100)\n",
    "\n",
    "#fn"
   ]
  },
  {
   "cell_type": "code",
   "execution_count": 32,
   "metadata": {},
   "outputs": [],
   "source": [
    "fe_psd_base = feature_extractor_welchPSD(BASE_FOLDER,'normal')\n",
    "fe_psd_base.set_hyperparamter(nperseg=512, nfft=1024,channel=2)\n",
    "fe_psd_base.create_from_wav(r'\\dataset\\6dB\\pump\\id_00\\normal\\00000004.wav')"
   ]
  },
  {
   "cell_type": "code",
   "execution_count": 55,
   "metadata": {},
   "outputs": [],
   "source": [
    "df = pd.DataFrame()\n",
    "fe_psd_run = feature_extractor_welchPSD(BASE_FOLDER,'runner')\n",
    "fe_psd_run.set_hyperparamter(nperseg=512, nfft=1024,channel=2)\n",
    "crms = rms(fe_psd_base.feature_data['Pxx'])\n",
    "cstd = np.std(fe_psd_base.feature_data['Pxx'])\n",
    "cmean = np.mean(fe_psd_base.feature_data['Pxx'])\n",
    "def at_to_df(df,fn,a):\n",
    "    for f in fn:\n",
    "        fe_psd_run.create_from_wav(f)\n",
    "        df.at[f,'a'] = a\n",
    "        df.at[f,'rms'] = rms(fe_psd_run.feature_data['Pxx'])-crms\n",
    "        df.at[f,'crms'] = rms(fe_psd_run.feature_data['Pxx'])\n",
    "        df.at[f,'std'] = np.std((fe_psd_run.feature_data['Pxx']))\n",
    "        df.at[f,'cstd'] = np.std((fe_psd_run.feature_data['Pxx'])) - cstd\n",
    "        df.at[f,'mean'] = np.mean((fe_psd_run.feature_data['Pxx']))\n",
    "        df.at[f,'cmean'] = np.mean((fe_psd_run.feature_data['Pxx'])) - cmean\n",
    "        df.at[f,'corr'] = \\\n",
    "        scipy.stats.pearsonr(fe_psd_base.feature_data['Pxx'], fe_psd_run.feature_data['Pxx'])[0]\n",
    "    \n",
    "at_to_df(df,fn['00'],0)\n",
    "at_to_df(df,fa['00'],1)"
   ]
  },
  {
   "cell_type": "code",
   "execution_count": 56,
   "metadata": {},
   "outputs": [
    {
     "data": {
      "text/html": [
       "<div>\n",
       "<style scoped>\n",
       "    .dataframe tbody tr th:only-of-type {\n",
       "        vertical-align: middle;\n",
       "    }\n",
       "\n",
       "    .dataframe tbody tr th {\n",
       "        vertical-align: top;\n",
       "    }\n",
       "\n",
       "    .dataframe thead th {\n",
       "        text-align: right;\n",
       "    }\n",
       "</style>\n",
       "<table border=\"1\" class=\"dataframe\">\n",
       "  <thead>\n",
       "    <tr style=\"text-align: right;\">\n",
       "      <th></th>\n",
       "      <th>rms</th>\n",
       "      <th>crms</th>\n",
       "      <th>std</th>\n",
       "      <th>cstd</th>\n",
       "      <th>mean</th>\n",
       "      <th>cmean</th>\n",
       "      <th>corr</th>\n",
       "    </tr>\n",
       "    <tr>\n",
       "      <th>a</th>\n",
       "      <th></th>\n",
       "      <th></th>\n",
       "      <th></th>\n",
       "      <th></th>\n",
       "      <th></th>\n",
       "      <th></th>\n",
       "      <th></th>\n",
       "    </tr>\n",
       "  </thead>\n",
       "  <tbody>\n",
       "    <tr>\n",
       "      <th>0.0</th>\n",
       "      <td>1.182869e-08</td>\n",
       "      <td>4.268855e-07</td>\n",
       "      <td>3.398743e-07</td>\n",
       "      <td>1.339605e-09</td>\n",
       "      <td>2.579741e-07</td>\n",
       "      <td>1.783574e-08</td>\n",
       "      <td>0.874915</td>\n",
       "    </tr>\n",
       "    <tr>\n",
       "      <th>1.0</th>\n",
       "      <td>2.702313e-06</td>\n",
       "      <td>3.117370e-06</td>\n",
       "      <td>2.927955e-06</td>\n",
       "      <td>2.589420e-06</td>\n",
       "      <td>1.041628e-06</td>\n",
       "      <td>8.014894e-07</td>\n",
       "      <td>0.445417</td>\n",
       "    </tr>\n",
       "  </tbody>\n",
       "</table>\n",
       "</div>"
      ],
      "text/plain": [
       "              rms          crms           std          cstd          mean  \\\n",
       "a                                                                           \n",
       "0.0  1.182869e-08  4.268855e-07  3.398743e-07  1.339605e-09  2.579741e-07   \n",
       "1.0  2.702313e-06  3.117370e-06  2.927955e-06  2.589420e-06  1.041628e-06   \n",
       "\n",
       "            cmean      corr  \n",
       "a                            \n",
       "0.0  1.783574e-08  0.874915  \n",
       "1.0  8.014894e-07  0.445417  "
      ]
     },
     "execution_count": 56,
     "metadata": {},
     "output_type": "execute_result"
    }
   ],
   "source": [
    "g = df.groupby('a')\n",
    "g.mean()"
   ]
  },
  {
   "cell_type": "code",
   "execution_count": 58,
   "metadata": {},
   "outputs": [
    {
     "data": {
      "text/html": [
       "<div>\n",
       "<style scoped>\n",
       "    .dataframe tbody tr th:only-of-type {\n",
       "        vertical-align: middle;\n",
       "    }\n",
       "\n",
       "    .dataframe tbody tr th {\n",
       "        vertical-align: top;\n",
       "    }\n",
       "\n",
       "    .dataframe thead th {\n",
       "        text-align: right;\n",
       "    }\n",
       "</style>\n",
       "<table border=\"1\" class=\"dataframe\">\n",
       "  <thead>\n",
       "    <tr style=\"text-align: right;\">\n",
       "      <th></th>\n",
       "      <th>count</th>\n",
       "      <th>mean</th>\n",
       "      <th>std</th>\n",
       "      <th>min</th>\n",
       "      <th>25%</th>\n",
       "      <th>50%</th>\n",
       "      <th>75%</th>\n",
       "      <th>max</th>\n",
       "    </tr>\n",
       "    <tr>\n",
       "      <th>a</th>\n",
       "      <th></th>\n",
       "      <th></th>\n",
       "      <th></th>\n",
       "      <th></th>\n",
       "      <th></th>\n",
       "      <th></th>\n",
       "      <th></th>\n",
       "      <th></th>\n",
       "    </tr>\n",
       "  </thead>\n",
       "  <tbody>\n",
       "    <tr>\n",
       "      <th>0.0</th>\n",
       "      <td>100.0</td>\n",
       "      <td>1.783574e-08</td>\n",
       "      <td>1.376326e-08</td>\n",
       "      <td>-8.911300e-09</td>\n",
       "      <td>6.732577e-09</td>\n",
       "      <td>1.735803e-08</td>\n",
       "      <td>2.715851e-08</td>\n",
       "      <td>5.454865e-08</td>\n",
       "    </tr>\n",
       "    <tr>\n",
       "      <th>1.0</th>\n",
       "      <td>100.0</td>\n",
       "      <td>8.014894e-07</td>\n",
       "      <td>4.733828e-07</td>\n",
       "      <td>-1.247833e-07</td>\n",
       "      <td>4.890454e-07</td>\n",
       "      <td>8.686610e-07</td>\n",
       "      <td>1.213389e-06</td>\n",
       "      <td>1.563721e-06</td>\n",
       "    </tr>\n",
       "  </tbody>\n",
       "</table>\n",
       "</div>"
      ],
      "text/plain": [
       "     count          mean           std           min           25%  \\\n",
       "a                                                                    \n",
       "0.0  100.0  1.783574e-08  1.376326e-08 -8.911300e-09  6.732577e-09   \n",
       "1.0  100.0  8.014894e-07  4.733828e-07 -1.247833e-07  4.890454e-07   \n",
       "\n",
       "              50%           75%           max  \n",
       "a                                              \n",
       "0.0  1.735803e-08  2.715851e-08  5.454865e-08  \n",
       "1.0  8.686610e-07  1.213389e-06  1.563721e-06  "
      ]
     },
     "execution_count": 58,
     "metadata": {},
     "output_type": "execute_result"
    }
   ],
   "source": [
    "g['cmean'].describe()"
   ]
  },
  {
   "cell_type": "code",
   "execution_count": 59,
   "metadata": {},
   "outputs": [
    {
     "data": {
      "text/html": [
       "<div>\n",
       "<style scoped>\n",
       "    .dataframe tbody tr th:only-of-type {\n",
       "        vertical-align: middle;\n",
       "    }\n",
       "\n",
       "    .dataframe tbody tr th {\n",
       "        vertical-align: top;\n",
       "    }\n",
       "\n",
       "    .dataframe thead th {\n",
       "        text-align: right;\n",
       "    }\n",
       "</style>\n",
       "<table border=\"1\" class=\"dataframe\">\n",
       "  <thead>\n",
       "    <tr style=\"text-align: right;\">\n",
       "      <th></th>\n",
       "      <th>count</th>\n",
       "      <th>mean</th>\n",
       "      <th>std</th>\n",
       "      <th>min</th>\n",
       "      <th>25%</th>\n",
       "      <th>50%</th>\n",
       "      <th>75%</th>\n",
       "      <th>max</th>\n",
       "    </tr>\n",
       "    <tr>\n",
       "      <th>a</th>\n",
       "      <th></th>\n",
       "      <th></th>\n",
       "      <th></th>\n",
       "      <th></th>\n",
       "      <th></th>\n",
       "      <th></th>\n",
       "      <th></th>\n",
       "      <th></th>\n",
       "    </tr>\n",
       "  </thead>\n",
       "  <tbody>\n",
       "    <tr>\n",
       "      <th>0.0</th>\n",
       "      <td>100.0</td>\n",
       "      <td>4.268855e-07</td>\n",
       "      <td>2.419384e-08</td>\n",
       "      <td>3.633285e-07</td>\n",
       "      <td>4.107129e-07</td>\n",
       "      <td>4.245672e-07</td>\n",
       "      <td>4.403852e-07</td>\n",
       "      <td>4.896681e-07</td>\n",
       "    </tr>\n",
       "    <tr>\n",
       "      <th>1.0</th>\n",
       "      <td>100.0</td>\n",
       "      <td>3.117370e-06</td>\n",
       "      <td>1.845114e-06</td>\n",
       "      <td>3.413415e-07</td>\n",
       "      <td>1.577098e-06</td>\n",
       "      <td>3.193872e-06</td>\n",
       "      <td>4.359647e-06</td>\n",
       "      <td>7.218765e-06</td>\n",
       "    </tr>\n",
       "  </tbody>\n",
       "</table>\n",
       "</div>"
      ],
      "text/plain": [
       "     count          mean           std           min           25%  \\\n",
       "a                                                                    \n",
       "0.0  100.0  4.268855e-07  2.419384e-08  3.633285e-07  4.107129e-07   \n",
       "1.0  100.0  3.117370e-06  1.845114e-06  3.413415e-07  1.577098e-06   \n",
       "\n",
       "              50%           75%           max  \n",
       "a                                              \n",
       "0.0  4.245672e-07  4.403852e-07  4.896681e-07  \n",
       "1.0  3.193872e-06  4.359647e-06  7.218765e-06  "
      ]
     },
     "execution_count": 59,
     "metadata": {},
     "output_type": "execute_result"
    }
   ],
   "source": [
    "g['crms'].describe()"
   ]
  },
  {
   "cell_type": "code",
   "execution_count": 60,
   "metadata": {},
   "outputs": [
    {
     "data": {
      "text/html": [
       "<div>\n",
       "<style scoped>\n",
       "    .dataframe tbody tr th:only-of-type {\n",
       "        vertical-align: middle;\n",
       "    }\n",
       "\n",
       "    .dataframe tbody tr th {\n",
       "        vertical-align: top;\n",
       "    }\n",
       "\n",
       "    .dataframe thead th {\n",
       "        text-align: right;\n",
       "    }\n",
       "</style>\n",
       "<table border=\"1\" class=\"dataframe\">\n",
       "  <thead>\n",
       "    <tr style=\"text-align: right;\">\n",
       "      <th></th>\n",
       "      <th>count</th>\n",
       "      <th>mean</th>\n",
       "      <th>std</th>\n",
       "      <th>min</th>\n",
       "      <th>25%</th>\n",
       "      <th>50%</th>\n",
       "      <th>75%</th>\n",
       "      <th>max</th>\n",
       "    </tr>\n",
       "    <tr>\n",
       "      <th>a</th>\n",
       "      <th></th>\n",
       "      <th></th>\n",
       "      <th></th>\n",
       "      <th></th>\n",
       "      <th></th>\n",
       "      <th></th>\n",
       "      <th></th>\n",
       "      <th></th>\n",
       "    </tr>\n",
       "  </thead>\n",
       "  <tbody>\n",
       "    <tr>\n",
       "      <th>0.0</th>\n",
       "      <td>100.0</td>\n",
       "      <td>0.874915</td>\n",
       "      <td>0.042519</td>\n",
       "      <td>0.739820</td>\n",
       "      <td>0.852370</td>\n",
       "      <td>0.883872</td>\n",
       "      <td>0.899303</td>\n",
       "      <td>1.000000</td>\n",
       "    </tr>\n",
       "    <tr>\n",
       "      <th>1.0</th>\n",
       "      <td>100.0</td>\n",
       "      <td>0.445417</td>\n",
       "      <td>0.162520</td>\n",
       "      <td>0.217145</td>\n",
       "      <td>0.319241</td>\n",
       "      <td>0.400597</td>\n",
       "      <td>0.555135</td>\n",
       "      <td>0.879132</td>\n",
       "    </tr>\n",
       "  </tbody>\n",
       "</table>\n",
       "</div>"
      ],
      "text/plain": [
       "     count      mean       std       min       25%       50%       75%  \\\n",
       "a                                                                        \n",
       "0.0  100.0  0.874915  0.042519  0.739820  0.852370  0.883872  0.899303   \n",
       "1.0  100.0  0.445417  0.162520  0.217145  0.319241  0.400597  0.555135   \n",
       "\n",
       "          max  \n",
       "a              \n",
       "0.0  1.000000  \n",
       "1.0  0.879132  "
      ]
     },
     "execution_count": 60,
     "metadata": {},
     "output_type": "execute_result"
    }
   ],
   "source": [
    "g['corr'].describe()"
   ]
  },
  {
   "cell_type": "code",
   "execution_count": 61,
   "metadata": {},
   "outputs": [
    {
     "data": {
      "text/html": [
       "<div>\n",
       "<style scoped>\n",
       "    .dataframe tbody tr th:only-of-type {\n",
       "        vertical-align: middle;\n",
       "    }\n",
       "\n",
       "    .dataframe tbody tr th {\n",
       "        vertical-align: top;\n",
       "    }\n",
       "\n",
       "    .dataframe thead th {\n",
       "        text-align: right;\n",
       "    }\n",
       "</style>\n",
       "<table border=\"1\" class=\"dataframe\">\n",
       "  <thead>\n",
       "    <tr style=\"text-align: right;\">\n",
       "      <th></th>\n",
       "      <th>count</th>\n",
       "      <th>mean</th>\n",
       "      <th>std</th>\n",
       "      <th>min</th>\n",
       "      <th>25%</th>\n",
       "      <th>50%</th>\n",
       "      <th>75%</th>\n",
       "      <th>max</th>\n",
       "    </tr>\n",
       "    <tr>\n",
       "      <th>a</th>\n",
       "      <th></th>\n",
       "      <th></th>\n",
       "      <th></th>\n",
       "      <th></th>\n",
       "      <th></th>\n",
       "      <th></th>\n",
       "      <th></th>\n",
       "      <th></th>\n",
       "    </tr>\n",
       "  </thead>\n",
       "  <tbody>\n",
       "    <tr>\n",
       "      <th>0.0</th>\n",
       "      <td>100.0</td>\n",
       "      <td>1.339605e-09</td>\n",
       "      <td>2.374102e-08</td>\n",
       "      <td>-7.224077e-08</td>\n",
       "      <td>-1.301945e-08</td>\n",
       "      <td>-1.589441e-09</td>\n",
       "      <td>1.457862e-08</td>\n",
       "      <td>6.528484e-08</td>\n",
       "    </tr>\n",
       "    <tr>\n",
       "      <th>1.0</th>\n",
       "      <td>100.0</td>\n",
       "      <td>2.589420e-06</td>\n",
       "      <td>1.800292e-06</td>\n",
       "      <td>-1.727580e-08</td>\n",
       "      <td>1.057553e-06</td>\n",
       "      <td>2.615060e-06</td>\n",
       "      <td>3.793965e-06</td>\n",
       "      <td>6.683856e-06</td>\n",
       "    </tr>\n",
       "  </tbody>\n",
       "</table>\n",
       "</div>"
      ],
      "text/plain": [
       "     count          mean           std           min           25%  \\\n",
       "a                                                                    \n",
       "0.0  100.0  1.339605e-09  2.374102e-08 -7.224077e-08 -1.301945e-08   \n",
       "1.0  100.0  2.589420e-06  1.800292e-06 -1.727580e-08  1.057553e-06   \n",
       "\n",
       "              50%           75%           max  \n",
       "a                                              \n",
       "0.0 -1.589441e-09  1.457862e-08  6.528484e-08  \n",
       "1.0  2.615060e-06  3.793965e-06  6.683856e-06  "
      ]
     },
     "execution_count": 61,
     "metadata": {},
     "output_type": "execute_result"
    }
   ],
   "source": [
    "g['cstd'].describe()"
   ]
  },
  {
   "cell_type": "code",
   "execution_count": null,
   "metadata": {},
   "outputs": [],
   "source": []
  }
 ],
 "metadata": {
  "kernelspec": {
   "display_name": "Py3.7 (mimii_base_TF2_GPU)",
   "language": "python",
   "name": "mimiibasetf2gpu"
  },
  "language_info": {
   "codemirror_mode": {
    "name": "ipython",
    "version": 3
   },
   "file_extension": ".py",
   "mimetype": "text/x-python",
   "name": "python",
   "nbconvert_exporter": "python",
   "pygments_lexer": "ipython3",
   "version": "3.7.6"
  },
  "toc": {
   "base_numbering": 1,
   "nav_menu": {},
   "number_sections": true,
   "sideBar": true,
   "skip_h1_title": false,
   "title_cell": "Table of Contents",
   "title_sidebar": "Contents",
   "toc_cell": false,
   "toc_position": {},
   "toc_section_display": true,
   "toc_window_display": false
  }
 },
 "nbformat": 4,
 "nbformat_minor": 4
}
