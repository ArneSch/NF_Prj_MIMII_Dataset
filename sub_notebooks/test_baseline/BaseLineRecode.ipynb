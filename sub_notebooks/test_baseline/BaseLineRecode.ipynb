{
 "cells": [
  {
   "cell_type": "markdown",
   "metadata": {},
   "source": [
    "# Setup"
   ]
  },
  {
   "cell_type": "markdown",
   "metadata": {},
   "source": [
    "## imports"
   ]
  },
  {
   "cell_type": "code",
   "execution_count": 1,
   "metadata": {},
   "outputs": [],
   "source": [
    "import pickle\n",
    "import os\n",
    "import sys\n",
    "import glob"
   ]
  },
  {
   "cell_type": "code",
   "execution_count": 2,
   "metadata": {},
   "outputs": [
    {
     "name": "stderr",
     "output_type": "stream",
     "text": [
      "Using TensorFlow backend.\n"
     ]
    }
   ],
   "source": [
    "import numpy\n",
    "import librosa\n",
    "import librosa.core\n",
    "import librosa.feature\n",
    "import yaml\n",
    "import logging\n",
    "# from import\n",
    "from tqdm import tqdm\n",
    "from sklearn import metrics\n",
    "from keras.models import Model\n",
    "from keras.layers import Input, Dense"
   ]
  },
  {
   "cell_type": "markdown",
   "metadata": {},
   "source": [
    "## Macros"
   ]
  },
  {
   "cell_type": "code",
   "execution_count": null,
   "metadata": {},
   "outputs": [],
   "source": [
    "pwd"
   ]
  },
  {
   "cell_type": "code",
   "execution_count": 17,
   "metadata": {},
   "outputs": [],
   "source": [
    "FOLDER_ROOT = '../../'\n",
    "DATA_FOLDER_RAW = 'raw'\n",
    "#DATA_FOLDER_MONO = 'mono'\n",
    "NOISE_L1_FN = 'noise_level_1_m6dB'\n",
    "NOISE_L2_FN = 'noise_level_2_p0dB'\n",
    "NOISE_L3_FN= 'noise_level_3_p6dB'\n",
    "DEVICE_FNS = ['fan', 'valve', 'pump', 'slider']\n",
    "DEVICE_ID_FNS = ['id_00', 'id_02', 'id_04', 'id_06']\n",
    "DEVICE_COND_FNS = ['normal', 'abnormal']\n",
    "LOGFILE = 'baseline.log'\n",
    "\n",
    "#TODO picture save sceam"
   ]
  },
  {
   "cell_type": "code",
   "execution_count": 18,
   "metadata": {},
   "outputs": [],
   "source": [
    "with open(FOLDER_ROOT + \"setup_macro.yml\") as stream:\n",
    "        param = yaml.safe_load(stream)"
   ]
  },
  {
   "cell_type": "markdown",
   "metadata": {},
   "source": [
    "param"
   ]
  },
  {
   "cell_type": "markdown",
   "metadata": {},
   "source": [
    "### Setup Output Folders"
   ]
  },
  {
   "cell_type": "code",
   "execution_count": 21,
   "metadata": {},
   "outputs": [],
   "source": [
    "os.makedirs(param[\"pickle_directory\"], exist_ok=True)\n",
    "os.makedirs(param[\"model_directory\"], exist_ok=True)\n",
    "os.makedirs(param[\"result_directory\"], exist_ok=True)"
   ]
  },
  {
   "cell_type": "markdown",
   "metadata": {},
   "source": [
    "### Setup input Folder"
   ]
  },
  {
   "cell_type": "code",
   "execution_count": 31,
   "metadata": {},
   "outputs": [
    {
     "data": {
      "text/plain": [
       "['A:\\\\Dev\\\\NF_Prj_MIMII_Dataset\\\\dataset\\\\0dB\\\\fan\\\\id_00',\n",
       " 'A:\\\\Dev\\\\NF_Prj_MIMII_Dataset\\\\dataset\\\\0dB\\\\fan\\\\id_02',\n",
       " 'A:\\\\Dev\\\\NF_Prj_MIMII_Dataset\\\\dataset\\\\0dB\\\\fan\\\\id_04',\n",
       " 'A:\\\\Dev\\\\NF_Prj_MIMII_Dataset\\\\dataset\\\\0dB\\\\fan\\\\id_06',\n",
       " 'A:\\\\Dev\\\\NF_Prj_MIMII_Dataset\\\\dataset\\\\0dB\\\\pump\\\\id_00',\n",
       " 'A:\\\\Dev\\\\NF_Prj_MIMII_Dataset\\\\dataset\\\\0dB\\\\pump\\\\id_02',\n",
       " 'A:\\\\Dev\\\\NF_Prj_MIMII_Dataset\\\\dataset\\\\0dB\\\\pump\\\\id_04',\n",
       " 'A:\\\\Dev\\\\NF_Prj_MIMII_Dataset\\\\dataset\\\\0dB\\\\pump\\\\id_06',\n",
       " 'A:\\\\Dev\\\\NF_Prj_MIMII_Dataset\\\\dataset\\\\0dB\\\\slider\\\\id_00',\n",
       " 'A:\\\\Dev\\\\NF_Prj_MIMII_Dataset\\\\dataset\\\\0dB\\\\slider\\\\id_02',\n",
       " 'A:\\\\Dev\\\\NF_Prj_MIMII_Dataset\\\\dataset\\\\0dB\\\\slider\\\\id_04',\n",
       " 'A:\\\\Dev\\\\NF_Prj_MIMII_Dataset\\\\dataset\\\\0dB\\\\slider\\\\id_06',\n",
       " 'A:\\\\Dev\\\\NF_Prj_MIMII_Dataset\\\\dataset\\\\0dB\\\\valve\\\\id_00',\n",
       " 'A:\\\\Dev\\\\NF_Prj_MIMII_Dataset\\\\dataset\\\\0dB\\\\valve\\\\id_02',\n",
       " 'A:\\\\Dev\\\\NF_Prj_MIMII_Dataset\\\\dataset\\\\0dB\\\\valve\\\\id_04',\n",
       " 'A:\\\\Dev\\\\NF_Prj_MIMII_Dataset\\\\dataset\\\\0dB\\\\valve\\\\id_06',\n",
       " 'A:\\\\Dev\\\\NF_Prj_MIMII_Dataset\\\\dataset\\\\6dB\\\\fan\\\\id_00',\n",
       " 'A:\\\\Dev\\\\NF_Prj_MIMII_Dataset\\\\dataset\\\\6dB\\\\fan\\\\id_02',\n",
       " 'A:\\\\Dev\\\\NF_Prj_MIMII_Dataset\\\\dataset\\\\6dB\\\\fan\\\\id_04',\n",
       " 'A:\\\\Dev\\\\NF_Prj_MIMII_Dataset\\\\dataset\\\\6dB\\\\fan\\\\id_06',\n",
       " 'A:\\\\Dev\\\\NF_Prj_MIMII_Dataset\\\\dataset\\\\6dB\\\\pump\\\\id_00',\n",
       " 'A:\\\\Dev\\\\NF_Prj_MIMII_Dataset\\\\dataset\\\\6dB\\\\pump\\\\id_02',\n",
       " 'A:\\\\Dev\\\\NF_Prj_MIMII_Dataset\\\\dataset\\\\6dB\\\\pump\\\\id_04',\n",
       " 'A:\\\\Dev\\\\NF_Prj_MIMII_Dataset\\\\dataset\\\\6dB\\\\pump\\\\id_06',\n",
       " 'A:\\\\Dev\\\\NF_Prj_MIMII_Dataset\\\\dataset\\\\6dB\\\\slider\\\\id_00',\n",
       " 'A:\\\\Dev\\\\NF_Prj_MIMII_Dataset\\\\dataset\\\\6dB\\\\slider\\\\id_02',\n",
       " 'A:\\\\Dev\\\\NF_Prj_MIMII_Dataset\\\\dataset\\\\6dB\\\\slider\\\\id_04',\n",
       " 'A:\\\\Dev\\\\NF_Prj_MIMII_Dataset\\\\dataset\\\\6dB\\\\slider\\\\id_06',\n",
       " 'A:\\\\Dev\\\\NF_Prj_MIMII_Dataset\\\\dataset\\\\6dB\\\\valve\\\\id_00',\n",
       " 'A:\\\\Dev\\\\NF_Prj_MIMII_Dataset\\\\dataset\\\\6dB\\\\valve\\\\id_02',\n",
       " 'A:\\\\Dev\\\\NF_Prj_MIMII_Dataset\\\\dataset\\\\6dB\\\\valve\\\\id_04',\n",
       " 'A:\\\\Dev\\\\NF_Prj_MIMII_Dataset\\\\dataset\\\\6dB\\\\valve\\\\id_06',\n",
       " 'A:\\\\Dev\\\\NF_Prj_MIMII_Dataset\\\\dataset\\\\min6dB\\\\pump\\\\id_00',\n",
       " 'A:\\\\Dev\\\\NF_Prj_MIMII_Dataset\\\\dataset\\\\min6dB\\\\pump\\\\id_02',\n",
       " 'A:\\\\Dev\\\\NF_Prj_MIMII_Dataset\\\\dataset\\\\min6dB\\\\pump\\\\id_04',\n",
       " 'A:\\\\Dev\\\\NF_Prj_MIMII_Dataset\\\\dataset\\\\min6dB\\\\pump\\\\id_06',\n",
       " 'A:\\\\Dev\\\\NF_Prj_MIMII_Dataset\\\\dataset\\\\min6dB\\\\slider\\\\id_00',\n",
       " 'A:\\\\Dev\\\\NF_Prj_MIMII_Dataset\\\\dataset\\\\min6dB\\\\slider\\\\id_02',\n",
       " 'A:\\\\Dev\\\\NF_Prj_MIMII_Dataset\\\\dataset\\\\min6dB\\\\slider\\\\id_04',\n",
       " 'A:\\\\Dev\\\\NF_Prj_MIMII_Dataset\\\\dataset\\\\min6dB\\\\slider\\\\id_06',\n",
       " 'A:\\\\Dev\\\\NF_Prj_MIMII_Dataset\\\\dataset\\\\min6dB\\\\valve\\\\id_00',\n",
       " 'A:\\\\Dev\\\\NF_Prj_MIMII_Dataset\\\\dataset\\\\min6dB\\\\valve\\\\id_02',\n",
       " 'A:\\\\Dev\\\\NF_Prj_MIMII_Dataset\\\\dataset\\\\min6dB\\\\valve\\\\id_04',\n",
       " 'A:\\\\Dev\\\\NF_Prj_MIMII_Dataset\\\\dataset\\\\min6dB\\\\valve\\\\id_06']"
      ]
     },
     "execution_count": 31,
     "metadata": {},
     "output_type": "execute_result"
    }
   ],
   "source": [
    "dirs = sorted(glob.glob(os.path.abspath( \\\n",
    "    \"{base}/*/*/*\".format(base=param[\"base_directory\"].replace('./',FOLDER_ROOT))\n",
    "    )))\n",
    "dirs"
   ]
  },
  {
   "cell_type": "code",
   "execution_count": 30,
   "metadata": {},
   "outputs": [
    {
     "data": {
      "text/plain": [
       "'../../dataset'"
      ]
     },
     "execution_count": 30,
     "metadata": {},
     "output_type": "execute_result"
    }
   ],
   "source": [
    "param[\"base_directory\"].replace('./',FOLDER_ROOT)"
   ]
  },
  {
   "cell_type": "markdown",
   "metadata": {},
   "source": [
    "#### Check GPU supports"
   ]
  },
  {
   "cell_type": "code",
   "execution_count": 4,
   "metadata": {},
   "outputs": [
    {
     "name": "stdout",
     "output_type": "stream",
     "text": [
      "Default GPU Device: /device:GPU:0\n"
     ]
    }
   ],
   "source": [
    "import tensorflow as tf\n",
    "if tf.test.gpu_device_name():\n",
    "    print('Default GPU Device: {}'.format(tf.test.gpu_device_name()))\n",
    "else:\n",
    "    print(\"Please install GPU version of TF\")"
   ]
  },
  {
   "cell_type": "markdown",
   "metadata": {},
   "source": [
    "## Utility"
   ]
  },
  {
   "cell_type": "code",
   "execution_count": 33,
   "metadata": {},
   "outputs": [],
   "source": [
    "logging.basicConfig(level=logging.DEBUG, filename=LOGFILE)\n",
    "logger = logging.getLogger(' ')\n",
    "handler = logging.StreamHandler()\n",
    "formatter = logging.Formatter('%(asctime)s - %(levelname)s - %(message)s')\n",
    "handler.setFormatter(formatter)\n",
    "logger.addHandler(handler)"
   ]
  },
  {
   "cell_type": "code",
   "execution_count": 49,
   "metadata": {
    "code_folding": [
     0
    ]
   },
   "outputs": [],
   "source": [
    "class visualizer(object):\n",
    "    def __init__(self):\n",
    "        import matplotlib.pyplot as plt\n",
    "        self.plt = plt\n",
    "        self.fig = self.plt.figure(figsize=(30, 10))\n",
    "        self.plt.subplots_adjust(wspace=0.3, hspace=0.3)\n",
    "\n",
    "    def loss_plot(self, loss, val_loss):\n",
    "        \"\"\"\n",
    "        Plot loss curve.\n",
    "\n",
    "        loss : list [ float ]\n",
    "            training loss time series.\n",
    "        val_loss : list [ float ]\n",
    "            validation loss time series.\n",
    "\n",
    "        return   : None\n",
    "        \"\"\"\n",
    "        ax = self.fig.add_subplot(1, 1, 1)\n",
    "        ax.cla()\n",
    "        ax.plot(loss)\n",
    "        ax.plot(val_loss)\n",
    "        ax.set_title(\"Model loss\")\n",
    "        ax.set_xlabel(\"Epoch\")\n",
    "        ax.set_ylabel(\"Loss\")\n",
    "        ax.legend([\"Train\", \"Test\"], loc=\"upper right\")\n",
    "\n",
    "    def save_figure(self, name):\n",
    "        \"\"\"\n",
    "        Save figure.\n",
    "\n",
    "        name : str\n",
    "            save .png file path.\n",
    "\n",
    "        return : None\n",
    "        \"\"\"\n",
    "        self.plt.savefig(name)"
   ]
  },
  {
   "cell_type": "code",
   "execution_count": 34,
   "metadata": {
    "code_folding": [
     0
    ]
   },
   "outputs": [],
   "source": [
    "def load_pickle(filename):\n",
    "    \"\"\"\n",
    "    unpicklenize the data.\n",
    "\n",
    "    filename : str\n",
    "        pickle filename\n",
    "\n",
    "    return : data\n",
    "    \"\"\"\n",
    "    logger.info(\"load_pickle <- {}\".format(filename))\n",
    "    with open(filename, 'rb') as lf:\n",
    "        load_data = pickle.load(lf)\n",
    "    return load_data"
   ]
  },
  {
   "cell_type": "code",
   "execution_count": 35,
   "metadata": {
    "code_folding": [
     0
    ]
   },
   "outputs": [],
   "source": [
    "def file_load(wav_name, mono=False):\n",
    "    \"\"\"\n",
    "    load .wav file.\n",
    "\n",
    "    wav_name : str\n",
    "        target .wav file\n",
    "    sampling_rate : int\n",
    "        audio file sampling_rate\n",
    "    mono : boolean\n",
    "        When load a multi channels file and this param True, the returned data will be merged for mono data\n",
    "\n",
    "    return : numpy.array( float )\n",
    "    \"\"\"\n",
    "    try:\n",
    "        return librosa.load(wav_name, sr=None, mono=mono)\n",
    "    except:\n",
    "        logger.error(\"file_broken or not exists!! : {}\".format(wav_name))"
   ]
  },
  {
   "cell_type": "code",
   "execution_count": 36,
   "metadata": {
    "code_folding": [
     0
    ]
   },
   "outputs": [],
   "source": [
    "def demux_wav(wav_name, channel=0):\n",
    "    \"\"\"\n",
    "    demux .wav file.\n",
    "\n",
    "    wav_name : str\n",
    "        target .wav file\n",
    "    channel : int\n",
    "        target channel number\n",
    "\n",
    "    return : numpy.array( float )\n",
    "        demuxed mono data\n",
    "\n",
    "    Enabled to read multiple sampling rates.\n",
    "\n",
    "    Enabled even one channel.\n",
    "    \"\"\"\n",
    "    try:\n",
    "        multi_channel_data, sr = file_load(wav_name)\n",
    "        if multi_channel_data.ndim <= 1:\n",
    "            return sr, multi_channel_data\n",
    "\n",
    "        return sr, numpy.array(multi_channel_data)[channel, :]\n",
    "\n",
    "    except ValueError as msg:\n",
    "        logger.warning(f'{msg}')"
   ]
  },
  {
   "cell_type": "code",
   "execution_count": 37,
   "metadata": {
    "code_folding": [
     0
    ]
   },
   "outputs": [],
   "source": [
    "def file_to_vector_array(file_name,\n",
    "                         n_mels=64,\n",
    "                         frames=5,\n",
    "                         n_fft=1024,\n",
    "                         hop_length=512,\n",
    "                         power=2.0):\n",
    "    \"\"\"\n",
    "    convert file_name to a vector array.\n",
    "\n",
    "    file_name : str\n",
    "        target .wav file\n",
    "\n",
    "    return : numpy.array( numpy.array( float ) )\n",
    "        vector array\n",
    "        * dataset.shape = (dataset_size, fearture_vector_length)\n",
    "    \"\"\"\n",
    "    # 01 calculate the number of dimensions\n",
    "    dims = n_mels * frames\n",
    "\n",
    "    # 02 generate melspectrogram using librosa (**kwargs == param[\"librosa\"])\n",
    "    sr, y = demux_wav(file_name)\n",
    "    mel_spectrogram = librosa.feature.melspectrogram(y=y,\n",
    "                                                     sr=sr,\n",
    "                                                     n_fft=n_fft,\n",
    "                                                     hop_length=hop_length,\n",
    "                                                     n_mels=n_mels,\n",
    "                                                     power=power)\n",
    "\n",
    "    # 03 convert melspectrogram to log mel energy\n",
    "    log_mel_spectrogram = 20.0 / power * numpy.log10(mel_spectrogram + sys.float_info.epsilon)\n",
    "\n",
    "    # 04 calculate total vector size\n",
    "    vectorarray_size = len(log_mel_spectrogram[0, :]) - frames + 1\n",
    "\n",
    "    # 05 skip too short clips\n",
    "    if vectorarray_size < 1:\n",
    "        return numpy.empty((0, dims), float)\n",
    "\n",
    "    # 06 generate feature vectors by concatenating multi_frames\n",
    "    vectorarray = numpy.zeros((vectorarray_size, dims), float)\n",
    "    for t in range(frames):\n",
    "        vectorarray[:, n_mels * t: n_mels * (t + 1)] = log_mel_spectrogram[:, t: t + vectorarray_size].T\n",
    "\n",
    "    return vectorarray"
   ]
  },
  {
   "cell_type": "code",
   "execution_count": 38,
   "metadata": {
    "code_folding": [
     0
    ]
   },
   "outputs": [],
   "source": [
    "def list_to_vector_array(file_list,\n",
    "                         msg=\"calc...\",\n",
    "                         n_mels=64,\n",
    "                         frames=5,\n",
    "                         n_fft=1024,\n",
    "                         hop_length=512,\n",
    "                         power=2.0):\n",
    "    \"\"\"\n",
    "    convert the file_list to a vector array.\n",
    "    file_to_vector_array() is iterated, and the output vector array is concatenated.\n",
    "\n",
    "    file_list : list [ str ]\n",
    "        .wav filename list of dataset\n",
    "    msg : str ( default = \"calc...\" )\n",
    "        description for tqdm.\n",
    "        this parameter will be input into \"desc\" param at tqdm.\n",
    "\n",
    "    return : numpy.array( numpy.array( float ) )\n",
    "        training dataset (when generate the validation data, this function is not used.)\n",
    "        * dataset.shape = (total_dataset_size, feature_vector_length)\n",
    "    \"\"\"\n",
    "    # 01 calculate the number of dimensions\n",
    "    dims = n_mels * frames\n",
    "\n",
    "    # 02 loop of file_to_vectorarray\n",
    "    for idx in tqdm(range(len(file_list)), desc=msg):\n",
    "\n",
    "        vector_array = file_to_vector_array(file_list[idx],\n",
    "                                            n_mels=n_mels,\n",
    "                                            frames=frames,\n",
    "                                            n_fft=n_fft,\n",
    "                                            hop_length=hop_length,\n",
    "                                            power=power)\n",
    "\n",
    "        if idx == 0:\n",
    "            dataset = numpy.zeros((vector_array.shape[0] * len(file_list), dims), float)\n",
    "\n",
    "        dataset[vector_array.shape[0] * idx: vector_array.shape[0] * (idx + 1), :] = vector_array\n",
    "\n",
    "    return dataset"
   ]
  },
  {
   "cell_type": "code",
   "execution_count": 39,
   "metadata": {
    "code_folding": [
     0
    ]
   },
   "outputs": [],
   "source": [
    "def dataset_generator(target_dir,\n",
    "                      normal_dir_name=\"normal\",\n",
    "                      abnormal_dir_name=\"abnormal\",\n",
    "                      ext=\"wav\"):\n",
    "    \"\"\"\n",
    "    target_dir : str\n",
    "        base directory path of the dataset\n",
    "    normal_dir_name : str (default=\"normal\")\n",
    "        directory name the normal data located in\n",
    "    abnormal_dir_name : str (default=\"abnormal\")\n",
    "        directory name the abnormal data located in\n",
    "    ext : str (default=\"wav\")\n",
    "        filename extension of audio files \n",
    "\n",
    "    return : \n",
    "        train_data : numpy.array( numpy.array( float ) )\n",
    "            training dataset\n",
    "            * dataset.shape = (total_dataset_size, feature_vector_length)\n",
    "        train_files : list [ str ]\n",
    "            file list for training\n",
    "        train_labels : list [ boolean ] \n",
    "            label info. list for training\n",
    "            * normal/abnormal = 0/1\n",
    "        eval_files : list [ str ]\n",
    "            file list for evaluation\n",
    "        eval_labels : list [ boolean ] \n",
    "            label info. list for evaluation\n",
    "            * normal/abnormal = 0/1\n",
    "    \"\"\"\n",
    "    logger.info(\"target_dir : {}\".format(target_dir))\n",
    "\n",
    "    # 01 normal list generate\n",
    "    normal_files = sorted(glob.glob(\n",
    "        os.path.abspath(\"{dir}/{normal_dir_name}/*.{ext}\".format(dir=target_dir,\n",
    "                                                                 normal_dir_name=normal_dir_name,\n",
    "                                                                 ext=ext))))\n",
    "    normal_labels = numpy.zeros(len(normal_files))\n",
    "    if len(normal_files) == 0:\n",
    "        logger.exception(\"no_wav_data!!\")\n",
    "\n",
    "    # 02 abnormal list generate\n",
    "    abnormal_files = sorted(glob.glob(\n",
    "        os.path.abspath(\"{dir}/{abnormal_dir_name}/*.{ext}\".format(dir=target_dir,\n",
    "                                                                   abnormal_dir_name=abnormal_dir_name,\n",
    "                                                                   ext=ext))))\n",
    "    abnormal_labels = numpy.ones(len(abnormal_files))\n",
    "    if len(abnormal_files) == 0:\n",
    "        logger.exception(\"no_wav_data!!\")\n",
    "\n",
    "    # 03 separate train & eval\n",
    "    train_files = normal_files[len(abnormal_files):]\n",
    "    train_labels = normal_labels[len(abnormal_files):]\n",
    "    eval_files = numpy.concatenate((normal_files[:len(abnormal_files)], abnormal_files), axis=0)\n",
    "    eval_labels = numpy.concatenate((normal_labels[:len(abnormal_files)], abnormal_labels), axis=0)\n",
    "    logger.info(\"train_file num : {num}\".format(num=len(train_files)))\n",
    "    logger.info(\"eval_file  num : {num}\".format(num=len(eval_files)))\n",
    "\n",
    "    return train_files, train_labels, eval_files, eval_labels"
   ]
  },
  {
   "cell_type": "markdown",
   "metadata": {},
   "source": [
    "# Keras MODEL "
   ]
  },
  {
   "cell_type": "code",
   "execution_count": 40,
   "metadata": {
    "code_folding": [
     0
    ]
   },
   "outputs": [],
   "source": [
    "def keras_model(inputDim):\n",
    "    \"\"\"\n",
    "    define the keras model\n",
    "    the model based on the simple dense auto encoder (64*64*8*64*64)\n",
    "    \"\"\"\n",
    "    inputLayer = Input(shape=(inputDim,))\n",
    "    h = Dense(64, activation=\"relu\")(inputLayer)\n",
    "    h = Dense(64, activation=\"relu\")(h)\n",
    "    h = Dense(8, activation=\"relu\")(h)\n",
    "    h = Dense(64, activation=\"relu\")(h)\n",
    "    h = Dense(64, activation=\"relu\")(h)\n",
    "    h = Dense(inputDim, activation=None)(h)\n",
    "\n",
    "    return Model(inputs=inputLayer, outputs=h)"
   ]
  },
  {
   "cell_type": "code",
   "execution_count": null,
   "metadata": {},
   "outputs": [],
   "source": [
    "# Train "
   ]
  },
  {
   "cell_type": "code",
   "execution_count": 46,
   "metadata": {},
   "outputs": [
    {
     "name": "stderr",
     "output_type": "stream",
     "text": [
      "2020-04-13 16:11:37,894 - INFO - target_dir : A:\\Dev\\NF_Prj_MIMII_Dataset\\dataset\\min6dB\\pump\\id_00\n",
      "2020-04-13 16:11:37,894 - INFO - target_dir : A:\\Dev\\NF_Prj_MIMII_Dataset\\dataset\\min6dB\\pump\\id_00\n",
      "2020-04-13 16:11:37,902 - INFO - train_file num : 863\n",
      "2020-04-13 16:11:37,902 - INFO - train_file num : 863\n",
      "2020-04-13 16:11:37,903 - INFO - eval_file  num : 286\n",
      "2020-04-13 16:11:37,903 - INFO - eval_file  num : 286\n"
     ]
    }
   ],
   "source": [
    "# generate files\n",
    "target_dir = 'A:\\\\Dev\\\\NF_Prj_MIMII_Dataset\\\\dataset\\\\min6dB\\\\pump\\\\id_00'\n",
    "train_files, train_labels, eval_files, eval_labels = dataset_generator(target_dir)"
   ]
  },
  {
   "cell_type": "code",
   "execution_count": 47,
   "metadata": {},
   "outputs": [
    {
     "data": {
      "text/plain": [
       "(array([0., 0., 0., 0., 0., 0., 0., 0., 0., 0., 0., 0., 0., 0., 0., 0., 0.,\n",
       "        0., 0., 0., 0., 0., 0., 0., 0., 0., 0., 0., 0., 0., 0., 0., 0., 0.,\n",
       "        0., 0., 0., 0., 0., 0., 0., 0., 0., 0., 0., 0., 0., 0., 0., 0., 0.,\n",
       "        0., 0., 0., 0., 0., 0., 0., 0., 0., 0., 0., 0., 0., 0., 0., 0., 0.,\n",
       "        0., 0., 0., 0., 0., 0., 0., 0., 0., 0., 0., 0., 0., 0., 0., 0., 0.,\n",
       "        0., 0., 0., 0., 0., 0., 0., 0., 0., 0., 0., 0., 0., 0., 0., 0., 0.,\n",
       "        0., 0., 0., 0., 0., 0., 0., 0., 0., 0., 0., 0., 0., 0., 0., 0., 0.,\n",
       "        0., 0., 0., 0., 0., 0., 0., 0., 0., 0., 0., 0., 0., 0., 0., 0., 0.,\n",
       "        0., 0., 0., 0., 0., 0., 0., 1., 1., 1., 1., 1., 1., 1., 1., 1., 1.,\n",
       "        1., 1., 1., 1., 1., 1., 1., 1., 1., 1., 1., 1., 1., 1., 1., 1., 1.,\n",
       "        1., 1., 1., 1., 1., 1., 1., 1., 1., 1., 1., 1., 1., 1., 1., 1., 1.,\n",
       "        1., 1., 1., 1., 1., 1., 1., 1., 1., 1., 1., 1., 1., 1., 1., 1., 1.,\n",
       "        1., 1., 1., 1., 1., 1., 1., 1., 1., 1., 1., 1., 1., 1., 1., 1., 1.,\n",
       "        1., 1., 1., 1., 1., 1., 1., 1., 1., 1., 1., 1., 1., 1., 1., 1., 1.,\n",
       "        1., 1., 1., 1., 1., 1., 1., 1., 1., 1., 1., 1., 1., 1., 1., 1., 1.,\n",
       "        1., 1., 1., 1., 1., 1., 1., 1., 1., 1., 1., 1., 1., 1., 1., 1., 1.,\n",
       "        1., 1., 1., 1., 1., 1., 1., 1., 1., 1., 1., 1., 1., 1.]),\n",
       " array([0., 0., 0., 0., 0., 0., 0., 0., 0., 0., 0., 0., 0., 0., 0., 0., 0.,\n",
       "        0., 0., 0., 0., 0., 0., 0., 0., 0., 0., 0., 0., 0., 0., 0., 0., 0.,\n",
       "        0., 0., 0., 0., 0., 0., 0., 0., 0., 0., 0., 0., 0., 0., 0., 0., 0.,\n",
       "        0., 0., 0., 0., 0., 0., 0., 0., 0., 0., 0., 0., 0., 0., 0., 0., 0.,\n",
       "        0., 0., 0., 0., 0., 0., 0., 0., 0., 0., 0., 0., 0., 0., 0., 0., 0.,\n",
       "        0., 0., 0., 0., 0., 0., 0., 0., 0., 0., 0., 0., 0., 0., 0., 0., 0.,\n",
       "        0., 0., 0., 0., 0., 0., 0., 0., 0., 0., 0., 0., 0., 0., 0., 0., 0.,\n",
       "        0., 0., 0., 0., 0., 0., 0., 0., 0., 0., 0., 0., 0., 0., 0., 0., 0.,\n",
       "        0., 0., 0., 0., 0., 0., 0., 0., 0., 0., 0., 0., 0., 0., 0., 0., 0.,\n",
       "        0., 0., 0., 0., 0., 0., 0., 0., 0., 0., 0., 0., 0., 0., 0., 0., 0.,\n",
       "        0., 0., 0., 0., 0., 0., 0., 0., 0., 0., 0., 0., 0., 0., 0., 0., 0.,\n",
       "        0., 0., 0., 0., 0., 0., 0., 0., 0., 0., 0., 0., 0., 0., 0., 0., 0.,\n",
       "        0., 0., 0., 0., 0., 0., 0., 0., 0., 0., 0., 0., 0., 0., 0., 0., 0.,\n",
       "        0., 0., 0., 0., 0., 0., 0., 0., 0., 0., 0., 0., 0., 0., 0., 0., 0.,\n",
       "        0., 0., 0., 0., 0., 0., 0., 0., 0., 0., 0., 0., 0., 0., 0., 0., 0.,\n",
       "        0., 0., 0., 0., 0., 0., 0., 0., 0., 0., 0., 0., 0., 0., 0., 0., 0.,\n",
       "        0., 0., 0., 0., 0., 0., 0., 0., 0., 0., 0., 0., 0., 0., 0., 0., 0.,\n",
       "        0., 0., 0., 0., 0., 0., 0., 0., 0., 0., 0., 0., 0., 0., 0., 0., 0.,\n",
       "        0., 0., 0., 0., 0., 0., 0., 0., 0., 0., 0., 0., 0., 0., 0., 0., 0.,\n",
       "        0., 0., 0., 0., 0., 0., 0., 0., 0., 0., 0., 0., 0., 0., 0., 0., 0.,\n",
       "        0., 0., 0., 0., 0., 0., 0., 0., 0., 0., 0., 0., 0., 0., 0., 0., 0.,\n",
       "        0., 0., 0., 0., 0., 0., 0., 0., 0., 0., 0., 0., 0., 0., 0., 0., 0.,\n",
       "        0., 0., 0., 0., 0., 0., 0., 0., 0., 0., 0., 0., 0., 0., 0., 0., 0.,\n",
       "        0., 0., 0., 0., 0., 0., 0., 0., 0., 0., 0., 0., 0., 0., 0., 0., 0.,\n",
       "        0., 0., 0., 0., 0., 0., 0., 0., 0., 0., 0., 0., 0., 0., 0., 0., 0.,\n",
       "        0., 0., 0., 0., 0., 0., 0., 0., 0., 0., 0., 0., 0., 0., 0., 0., 0.,\n",
       "        0., 0., 0., 0., 0., 0., 0., 0., 0., 0., 0., 0., 0., 0., 0., 0., 0.,\n",
       "        0., 0., 0., 0., 0., 0., 0., 0., 0., 0., 0., 0., 0., 0., 0., 0., 0.,\n",
       "        0., 0., 0., 0., 0., 0., 0., 0., 0., 0., 0., 0., 0., 0., 0., 0., 0.,\n",
       "        0., 0., 0., 0., 0., 0., 0., 0., 0., 0., 0., 0., 0., 0., 0., 0., 0.,\n",
       "        0., 0., 0., 0., 0., 0., 0., 0., 0., 0., 0., 0., 0., 0., 0., 0., 0.,\n",
       "        0., 0., 0., 0., 0., 0., 0., 0., 0., 0., 0., 0., 0., 0., 0., 0., 0.,\n",
       "        0., 0., 0., 0., 0., 0., 0., 0., 0., 0., 0., 0., 0., 0., 0., 0., 0.,\n",
       "        0., 0., 0., 0., 0., 0., 0., 0., 0., 0., 0., 0., 0., 0., 0., 0., 0.,\n",
       "        0., 0., 0., 0., 0., 0., 0., 0., 0., 0., 0., 0., 0., 0., 0., 0., 0.,\n",
       "        0., 0., 0., 0., 0., 0., 0., 0., 0., 0., 0., 0., 0., 0., 0., 0., 0.,\n",
       "        0., 0., 0., 0., 0., 0., 0., 0., 0., 0., 0., 0., 0., 0., 0., 0., 0.,\n",
       "        0., 0., 0., 0., 0., 0., 0., 0., 0., 0., 0., 0., 0., 0., 0., 0., 0.,\n",
       "        0., 0., 0., 0., 0., 0., 0., 0., 0., 0., 0., 0., 0., 0., 0., 0., 0.,\n",
       "        0., 0., 0., 0., 0., 0., 0., 0., 0., 0., 0., 0., 0., 0., 0., 0., 0.,\n",
       "        0., 0., 0., 0., 0., 0., 0., 0., 0., 0., 0., 0., 0., 0., 0., 0., 0.,\n",
       "        0., 0., 0., 0., 0., 0., 0., 0., 0., 0., 0., 0., 0., 0., 0., 0., 0.,\n",
       "        0., 0., 0., 0., 0., 0., 0., 0., 0., 0., 0., 0., 0., 0., 0., 0., 0.,\n",
       "        0., 0., 0., 0., 0., 0., 0., 0., 0., 0., 0., 0., 0., 0., 0., 0., 0.,\n",
       "        0., 0., 0., 0., 0., 0., 0., 0., 0., 0., 0., 0., 0., 0., 0., 0., 0.,\n",
       "        0., 0., 0., 0., 0., 0., 0., 0., 0., 0., 0., 0., 0., 0., 0., 0., 0.,\n",
       "        0., 0., 0., 0., 0., 0., 0., 0., 0., 0., 0., 0., 0., 0., 0., 0., 0.,\n",
       "        0., 0., 0., 0., 0., 0., 0., 0., 0., 0., 0., 0., 0., 0., 0., 0., 0.,\n",
       "        0., 0., 0., 0., 0., 0., 0., 0., 0., 0., 0., 0., 0., 0., 0., 0., 0.,\n",
       "        0., 0., 0., 0., 0., 0., 0., 0., 0., 0., 0., 0., 0., 0., 0., 0., 0.,\n",
       "        0., 0., 0., 0., 0., 0., 0., 0., 0., 0., 0., 0., 0.]))"
      ]
     },
     "execution_count": 47,
     "metadata": {},
     "output_type": "execute_result"
    }
   ],
   "source": [
    "eval_labels, train_labels # intention that all train lables are 0 ( seems a auto encoder thing)"
   ]
  },
  {
   "cell_type": "code",
   "execution_count": 48,
   "metadata": {
    "code_folding": []
   },
   "outputs": [
    {
     "name": "stderr",
     "output_type": "stream",
     "text": [
      "generate train_dataset: 100%|██████████████████████████████████████████████████████████████████████████████████████████████████████████████████████████████████| 863/863 [02:43<00:00,  5.28it/s]\n"
     ]
    }
   ],
   "source": [
    "# prep data ( embedding)\n",
    "train_data = list_to_vector_array(train_files,\n",
    "                                              msg=\"generate train_dataset\",\n",
    "                                              n_mels=param[\"feature\"][\"n_mels\"],\n",
    "                                              frames=param[\"feature\"][\"frames\"],\n",
    "                                              n_fft=param[\"feature\"][\"n_fft\"],\n",
    "                                              hop_length=param[\"feature\"][\"hop_length\"],\n",
    "                                              power=param[\"feature\"][\"power\"])"
   ]
  },
  {
   "cell_type": "code",
   "execution_count": 51,
   "metadata": {},
   "outputs": [
    {
     "name": "stdout",
     "output_type": "stream",
     "text": [
      "Model: \"model_1\"\n",
      "_________________________________________________________________\n",
      "Layer (type)                 Output Shape              Param #   \n",
      "=================================================================\n",
      "input_1 (InputLayer)         (None, 320)               0         \n",
      "_________________________________________________________________\n",
      "dense_1 (Dense)              (None, 64)                20544     \n",
      "_________________________________________________________________\n",
      "dense_2 (Dense)              (None, 64)                4160      \n",
      "_________________________________________________________________\n",
      "dense_3 (Dense)              (None, 8)                 520       \n",
      "_________________________________________________________________\n",
      "dense_4 (Dense)              (None, 64)                576       \n",
      "_________________________________________________________________\n",
      "dense_5 (Dense)              (None, 64)                4160      \n",
      "_________________________________________________________________\n",
      "dense_6 (Dense)              (None, 320)               20800     \n",
      "=================================================================\n",
      "Total params: 50,760\n",
      "Trainable params: 50,760\n",
      "Non-trainable params: 0\n",
      "_________________________________________________________________\n"
     ]
    }
   ],
   "source": [
    "model = keras_model(param[\"feature\"][\"n_mels\"] * param[\"feature\"][\"frames\"])\n",
    "model.summary()"
   ]
  },
  {
   "cell_type": "code",
   "execution_count": 52,
   "metadata": {},
   "outputs": [],
   "source": [
    "model.compile(**param[\"fit\"][\"compile\"])"
   ]
  },
  {
   "cell_type": "code",
   "execution_count": 54,
   "metadata": {},
   "outputs": [
    {
     "name": "stdout",
     "output_type": "stream",
     "text": [
      "Train on 240000 samples, validate on 26667 samples\n",
      "Epoch 1/50\n",
      "240000/240000 [==============================] - 4s 15us/step - loss: 41.2684 - val_loss: 12.5723\n",
      "Epoch 2/50\n",
      "240000/240000 [==============================] - 3s 12us/step - loss: 11.7465 - val_loss: 10.8036\n",
      "Epoch 3/50\n",
      "240000/240000 [==============================] - 3s 12us/step - loss: 10.4883 - val_loss: 10.2239\n",
      "Epoch 4/50\n",
      "240000/240000 [==============================] - 3s 12us/step - loss: 10.0793 - val_loss: 9.9327\n",
      "Epoch 5/50\n",
      "240000/240000 [==============================] - 3s 12us/step - loss: 9.9046 - val_loss: 9.8747\n",
      "Epoch 6/50\n",
      "240000/240000 [==============================] - 3s 12us/step - loss: 9.8191 - val_loss: 9.7274\n",
      "Epoch 7/50\n",
      "240000/240000 [==============================] - 3s 12us/step - loss: 9.7196 - val_loss: 9.6242\n",
      "Epoch 8/50\n",
      "240000/240000 [==============================] - 3s 12us/step - loss: 9.6271 - val_loss: 9.5814\n",
      "Epoch 9/50\n",
      "240000/240000 [==============================] - 3s 13us/step - loss: 9.5451 - val_loss: 9.4299\n",
      "Epoch 10/50\n",
      "240000/240000 [==============================] - 3s 14us/step - loss: 9.4747 - val_loss: 9.2625\n",
      "Epoch 11/50\n",
      "240000/240000 [==============================] - 3s 12us/step - loss: 9.4086 - val_loss: 9.1331\n",
      "Epoch 12/50\n",
      "240000/240000 [==============================] - 3s 12us/step - loss: 9.3587 - val_loss: 9.1449\n",
      "Epoch 13/50\n",
      "240000/240000 [==============================] - 3s 12us/step - loss: 9.2945 - val_loss: 9.0870\n",
      "Epoch 14/50\n",
      "240000/240000 [==============================] - 3s 14us/step - loss: 9.1143 - val_loss: 8.8129\n",
      "Epoch 15/50\n",
      "240000/240000 [==============================] - 3s 13us/step - loss: 8.9465 - val_loss: 8.7798\n",
      "Epoch 16/50\n",
      "240000/240000 [==============================] - 3s 12us/step - loss: 8.8620 - val_loss: 8.6443\n",
      "Epoch 17/50\n",
      "240000/240000 [==============================] - 3s 12us/step - loss: 8.6892 - val_loss: 8.5565\n",
      "Epoch 18/50\n",
      "240000/240000 [==============================] - 3s 12us/step - loss: 8.5755 - val_loss: 8.3620\n",
      "Epoch 19/50\n",
      "240000/240000 [==============================] - 3s 12us/step - loss: 8.4790 - val_loss: 8.3288\n",
      "Epoch 20/50\n",
      "240000/240000 [==============================] - 3s 12us/step - loss: 8.4050 - val_loss: 8.2949\n",
      "Epoch 21/50\n",
      "240000/240000 [==============================] - 3s 12us/step - loss: 8.3355 - val_loss: 8.1742\n",
      "Epoch 22/50\n",
      "240000/240000 [==============================] - 3s 12us/step - loss: 8.2985 - val_loss: 8.1467\n",
      "Epoch 23/50\n",
      "240000/240000 [==============================] - 3s 12us/step - loss: 8.2501 - val_loss: 8.1260\n",
      "Epoch 24/50\n",
      "240000/240000 [==============================] - 3s 12us/step - loss: 8.2215 - val_loss: 8.1140\n",
      "Epoch 25/50\n",
      "240000/240000 [==============================] - 3s 12us/step - loss: 8.1800 - val_loss: 8.0589\n",
      "Epoch 26/50\n",
      "240000/240000 [==============================] - 3s 12us/step - loss: 8.1566 - val_loss: 8.0756\n",
      "Epoch 27/50\n",
      "240000/240000 [==============================] - 3s 12us/step - loss: 8.1278 - val_loss: 8.0573\n",
      "Epoch 28/50\n",
      "240000/240000 [==============================] - 3s 12us/step - loss: 8.1139 - val_loss: 8.0071\n",
      "Epoch 29/50\n",
      "240000/240000 [==============================] - 3s 12us/step - loss: 8.0871 - val_loss: 7.9633\n",
      "Epoch 30/50\n",
      "240000/240000 [==============================] - 3s 12us/step - loss: 8.0694 - val_loss: 7.9494\n",
      "Epoch 31/50\n",
      "240000/240000 [==============================] - 3s 12us/step - loss: 8.0499 - val_loss: 7.9714\n",
      "Epoch 32/50\n",
      "240000/240000 [==============================] - 3s 12us/step - loss: 8.0290 - val_loss: 7.9417\n",
      "Epoch 33/50\n",
      "240000/240000 [==============================] - 3s 12us/step - loss: 8.0165 - val_loss: 7.9325\n",
      "Epoch 34/50\n",
      "240000/240000 [==============================] - 3s 12us/step - loss: 8.0050 - val_loss: 7.9136\n",
      "Epoch 35/50\n",
      "240000/240000 [==============================] - 3s 12us/step - loss: 7.9881 - val_loss: 7.9113\n",
      "Epoch 36/50\n",
      "240000/240000 [==============================] - 3s 12us/step - loss: 7.9881 - val_loss: 7.8987\n",
      "Epoch 37/50\n",
      "240000/240000 [==============================] - 3s 12us/step - loss: 7.9718 - val_loss: 7.8638\n",
      "Epoch 38/50\n",
      "240000/240000 [==============================] - 3s 12us/step - loss: 7.9569 - val_loss: 7.9209\n",
      "Epoch 39/50\n",
      "240000/240000 [==============================] - 3s 12us/step - loss: 7.9437 - val_loss: 7.8775\n",
      "Epoch 40/50\n",
      "240000/240000 [==============================] - 3s 12us/step - loss: 7.9320 - val_loss: 7.9277\n",
      "Epoch 41/50\n",
      "240000/240000 [==============================] - 3s 12us/step - loss: 7.9216 - val_loss: 7.8732\n",
      "Epoch 42/50\n",
      "240000/240000 [==============================] - 3s 12us/step - loss: 7.9216 - val_loss: 7.8937\n",
      "Epoch 43/50\n",
      "240000/240000 [==============================] - 3s 12us/step - loss: 7.8941 - val_loss: 7.8745\n",
      "Epoch 44/50\n",
      "240000/240000 [==============================] - 3s 12us/step - loss: 7.8954 - val_loss: 7.8420\n",
      "Epoch 45/50\n",
      "240000/240000 [==============================] - 3s 12us/step - loss: 7.8750 - val_loss: 7.8955\n",
      "Epoch 46/50\n",
      "240000/240000 [==============================] - 3s 12us/step - loss: 7.8722 - val_loss: 7.8502\n",
      "Epoch 47/50\n",
      "240000/240000 [==============================] - 3s 12us/step - loss: 7.8631 - val_loss: 7.8663\n",
      "Epoch 48/50\n",
      "240000/240000 [==============================] - 3s 12us/step - loss: 7.8427 - val_loss: 7.8877\n",
      "Epoch 49/50\n",
      "240000/240000 [==============================] - 3s 12us/step - loss: 7.8467 - val_loss: 7.8852\n",
      "Epoch 50/50\n",
      "240000/240000 [==============================] - 3s 12us/step - loss: 7.8424 - val_loss: 7.8627\n"
     ]
    }
   ],
   "source": [
    "history = model.fit(train_data,\n",
    "                    train_data,\n",
    "                    epochs=param[\"fit\"][\"epochs\"],                        batch_size=param[\"fit\"][\"batch_size\"],\n",
    "                    shuffle=param[\"fit\"][\"shuffle\"],\n",
    "                    validation_split=param[\"fit\"][\"validation_split\"],\n",
    "                    verbose=param[\"fit\"][\"verbose\"])"
   ]
  },
  {
   "cell_type": "code",
   "execution_count": 55,
   "metadata": {
    "scrolled": true
   },
   "outputs": [
    {
     "data": {
      "image/png": "[encoded data removed]",
      "text/plain": [
       "<Figure size 2160x720 with 1 Axes>"
      ]
     },
     "metadata": {
      "needs_background": "light"
     },
     "output_type": "display_data"
    }
   ],
   "source": [
    "visualizer = visualizer()\n",
    "visualizer.loss_plot(history.history[\"loss\"], history.history[\"val_loss\"])"
   ]
  },
  {
   "cell_type": "markdown",
   "metadata": {},
   "source": [
    "## EVAL"
   ]
  },
  {
   "cell_type": "code",
   "execution_count": 63,
   "metadata": {},
   "outputs": [
    {
     "ename": "SyntaxError",
     "evalue": "invalid syntax (<ipython-input-63-c32eed453aae>, line 5)",
     "output_type": "error",
     "traceback": [
      "\u001b[1;36m  File \u001b[1;32m\"<ipython-input-63-c32eed453aae>\"\u001b[1;36m, line \u001b[1;32m5\u001b[0m\n\u001b[1;33m    evaluation_result_key =\u001b[0m\n\u001b[1;37m                            ^\u001b[0m\n\u001b[1;31mSyntaxError\u001b[0m\u001b[1;31m:\u001b[0m invalid syntax\n"
     ]
    }
   ],
   "source": [
    "y_pred = [0. for k in eval_labels]\n",
    "y_true = eval_labels\n",
    "evaluation_result = {}\n",
    "results = {}\n",
    "evaluation_result_key = 'min6dB_pump_id00'"
   ]
  },
  {
   "cell_type": "code",
   "execution_count": 61,
   "metadata": {},
   "outputs": [
    {
     "name": "stderr",
     "output_type": "stream",
     "text": [
      "100%|██████████████████████████████████████████████████████████████████████████████████████████████████████████████████████████████████████████████████████████| 286/286 [00:50<00:00,  5.70it/s]\n"
     ]
    }
   ],
   "source": [
    "\n",
    "for num, file_name in tqdm(enumerate(eval_files), total=len(eval_files)):\n",
    "    try:\n",
    "        data = file_to_vector_array(file_name,\n",
    "                                    n_mels=param[\"feature\"][\"n_mels\"],\n",
    "                                    frames=param[\"feature\"][\"frames\"],\n",
    "                                    n_fft=param[\"feature\"][\"n_fft\"],\n",
    "                                    hop_length=param[\"feature\"][\"hop_length\"],\n",
    "                                    power=param[\"feature\"][\"power\"])\n",
    "        error = numpy.mean(numpy.square(data - model.predict(data)), axis=1)\n",
    "        y_pred[num] = numpy.mean(error)\n",
    "    except:\n",
    "        logger.warning(\"File broken!!: {}\".format(file_name))\n",
    "\n"
   ]
  },
  {
   "cell_type": "code",
   "execution_count": 64,
   "metadata": {},
   "outputs": [
    {
     "name": "stderr",
     "output_type": "stream",
     "text": [
      "2020-04-13 16:33:09,972 - INFO - AUC : 0.5900533033400166\n",
      "2020-04-13 16:33:09,972 - INFO - AUC : 0.5900533033400166\n"
     ]
    },
    {
     "name": "stdout",
     "output_type": "stream",
     "text": [
      "===========================\n"
     ]
    }
   ],
   "source": [
    "evaluation_result_key = 'min6dB_pump_id00'\n",
    "score = metrics.roc_auc_score(y_true, y_pred)\n",
    "logger.info(\"AUC : {}\".format(score))\n",
    "evaluation_result[\"AUC\"] = float(score)\n",
    "results[evaluation_result_key] = evaluation_result\n",
    "print(\"===========================\")"
   ]
  },
  {
   "cell_type": "code",
   "execution_count": 65,
   "metadata": {},
   "outputs": [],
   "source": [
    "result_file = \"{result}/{file_name}\".format(result=param[\"result_directory\"], file_name=param[\"result_file\"])\n"
   ]
  },
  {
   "cell_type": "code",
   "execution_count": 66,
   "metadata": {},
   "outputs": [
    {
     "name": "stderr",
     "output_type": "stream",
     "text": [
      "2020-04-13 16:33:16,583 - INFO - all results -> ./result/result.yml\n",
      "2020-04-13 16:33:16,583 - INFO - all results -> ./result/result.yml\n"
     ]
    },
    {
     "name": "stdout",
     "output_type": "stream",
     "text": [
      "\n",
      "===========================\n",
      "===========================\n"
     ]
    }
   ],
   "source": [
    "print(\"\\n===========================\")\n",
    "logger.info(\"all results -> {}\".format(result_file))\n",
    "with open(result_file, \"w\") as f:\n",
    "    f.write(yaml.dump(results, default_flow_style=False))\n",
    "print(\"===========================\")"
   ]
  },
  {
   "cell_type": "code",
   "execution_count": null,
   "metadata": {},
   "outputs": [],
   "source": []
  }
 ],
 "metadata": {
  "kernelspec": {
   "display_name": "Py3.7 (mimii_base_TF2_GPU)",
   "language": "python",
   "name": "mimiibasetf2gpu"
  },
  "language_info": {
   "codemirror_mode": {
    "name": "ipython",
    "version": 3
   },
   "file_extension": ".py",
   "mimetype": "text/x-python",
   "name": "python",
   "nbconvert_exporter": "python",
   "pygments_lexer": "ipython3",
   "version": "3.7.6"
  },
  "toc": {
   "base_numbering": 1,
   "nav_menu": {},
   "number_sections": true,
   "sideBar": true,
   "skip_h1_title": false,
   "title_cell": "Table of Contents",
   "title_sidebar": "Contents",
   "toc_cell": false,
   "toc_position": {
    "height": "calc(100% - 180px)",
    "left": "10px",
    "top": "150px",
    "width": "270.8px"
   },
   "toc_section_display": true,
   "toc_window_display": true
  }
 },
 "nbformat": 4,
 "nbformat_minor": 4
}
