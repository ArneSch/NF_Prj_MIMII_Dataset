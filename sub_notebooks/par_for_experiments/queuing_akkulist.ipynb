{
 "cells": [
  {
   "cell_type": "markdown",
   "metadata": {},
   "source": [
    "https://www.toptal.com/python/beginners-guide-to-concurrency-and-parallelism-in-python"
   ]
  },
  {
   "cell_type": "code",
   "execution_count": 1,
   "metadata": {},
   "outputs": [],
   "source": [
    "import logging\n",
    "import os\n",
    "from queue import Queue\n",
    "from threading import Thread\n",
    "from time import time\n",
    "from time import sleep\n",
    "import numpy as np"
   ]
  },
  {
   "cell_type": "code",
   "execution_count": 2,
   "metadata": {},
   "outputs": [],
   "source": [
    "class FileWorker(Thread):\n",
    "\n",
    "    def __init__(self, queue,l,wn):\n",
    "        Thread.__init__(self)\n",
    "        self.queue = queue\n",
    "        self.wn = wn\n",
    "        self.l = l\n",
    "\n",
    "    def run(self):\n",
    "        while True:\n",
    "            # Get the work from the queue and expand the tuple\n",
    "            file  = self.queue.get()\n",
    "            sleep(1)\n",
    "            self.l.append((file,self.wn))\n",
    "            self.queue.task_done()"
   ]
  },
  {
   "cell_type": "code",
   "execution_count": 3,
   "metadata": {},
   "outputs": [
    {
     "name": "stdout",
     "output_type": "stream",
     "text": [
      "1588157114.3074276\n",
      "2.0056185722351074\n"
     ]
    }
   ],
   "source": [
    "#logger = logging.getLogger('test')\n",
    "ts = time()\n",
    "print(ts)\n",
    "queue = Queue()\n",
    "wn_max = 8\n",
    "akkulist = []\n",
    "for x in range(wn_max):\n",
    "    akkulist.append([])\n",
    "    \n",
    "for x in range(wn_max):\n",
    "    worker = FileWorker(queue,akkulist[x],x)\n",
    "    worker.daemon = True\n",
    "    worker.start()\n",
    "for file in range(10):\n",
    "    queue.put(file)\n",
    "queue.join()\n",
    "#print(akkulist)\n",
    "print(time()-ts)"
   ]
  },
  {
   "cell_type": "code",
   "execution_count": 5,
   "metadata": {},
   "outputs": [
    {
     "data": {
      "text/plain": [
       "[[(0, 0)],\n",
       " [(1, 1), (9, 1)],\n",
       " [(2, 2)],\n",
       " [(3, 3)],\n",
       " [(4, 4)],\n",
       " [(5, 5), (8, 5)],\n",
       " [(6, 6)],\n",
       " [(7, 7)]]"
      ]
     },
     "execution_count": 5,
     "metadata": {},
     "output_type": "execute_result"
    }
   ],
   "source": [
    "akkulist"
   ]
  },
  {
   "cell_type": "code",
   "execution_count": 4,
   "metadata": {},
   "outputs": [
    {
     "name": "stdout",
     "output_type": "stream",
     "text": [
      "Before the sleep statement\n",
      "After the sleep statement\n"
     ]
    }
   ],
   "source": [
    "import time\n",
    "print(\"Before the sleep statement\")\n",
    "time.sleep(5)\n",
    "print(\"After the sleep statement\")"
   ]
  },
  {
   "cell_type": "code",
   "execution_count": null,
   "metadata": {},
   "outputs": [],
   "source": [
    "# stoping thread\n",
    "https://stackoverflow.com/questions/323972/is-there-any-way-to-kill-a-thread"
   ]
  }
 ],
 "metadata": {
  "kernelspec": {
   "display_name": "Py3.7 (mimii_base_TF2_GPU)",
   "language": "python",
   "name": "mimiibasetf2gpu"
  },
  "language_info": {
   "codemirror_mode": {
    "name": "ipython",
    "version": 3
   },
   "file_extension": ".py",
   "mimetype": "text/x-python",
   "name": "python",
   "nbconvert_exporter": "python",
   "pygments_lexer": "ipython3",
   "version": "3.7.6"
  },
  "toc": {
   "base_numbering": 1,
   "nav_menu": {},
   "number_sections": true,
   "sideBar": true,
   "skip_h1_title": false,
   "title_cell": "Table of Contents",
   "title_sidebar": "Contents",
   "toc_cell": false,
   "toc_position": {},
   "toc_section_display": true,
   "toc_window_display": false
  }
 },
 "nbformat": 4,
 "nbformat_minor": 4
}
