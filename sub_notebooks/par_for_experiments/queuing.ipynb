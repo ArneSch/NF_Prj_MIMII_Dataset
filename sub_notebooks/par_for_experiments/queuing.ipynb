{
 "cells": [
  {
   "cell_type": "markdown",
   "metadata": {},
   "source": [
    "https://www.toptal.com/python/beginners-guide-to-concurrency-and-parallelism-in-python"
   ]
  },
  {
   "cell_type": "code",
   "execution_count": 1,
   "metadata": {},
   "outputs": [],
   "source": [
    "import logging\n",
    "import os\n",
    "from queue import Queue\n",
    "from threading import Thread\n",
    "from time import time\n",
    "import numpy as np"
   ]
  },
  {
   "cell_type": "code",
   "execution_count": 2,
   "metadata": {},
   "outputs": [],
   "source": [
    "class FileWorker(Thread):\n",
    "\n",
    "    def __init__(self, queue,wn):\n",
    "        Thread.__init__(self)\n",
    "        self.queue = queue\n",
    "        self.wn = str(wn)\n",
    "\n",
    "    def run(self):\n",
    "        while True:\n",
    "            # Get the work from the queue and expand the tuple\n",
    "            directory, link = self.queue.get()\n",
    "            try:\n",
    "                for i in range(10):\n",
    "                     f= open(os.path.abspath(directory + \"file\" + str(link) + '_wn' +self.wn + \".txt\"),\"w+\")\n",
    "                     for n in np.random.rand(100,1):\n",
    "                        f.write(f\"This is line {n}\\r\\n\")\n",
    "                     f.close() \n",
    "            finally:\n",
    "                self.queue.task_done()"
   ]
  },
  {
   "cell_type": "code",
   "execution_count": 3,
   "metadata": {},
   "outputs": [
    {
     "name": "stdout",
     "output_type": "stream",
     "text": [
      "1588073446.9545155\n",
      "7.593501329421997\n"
     ]
    }
   ],
   "source": [
    "#logger = logging.getLogger('test')\n",
    "ts = time()\n",
    "print(ts)\n",
    "#download_dir = './test/'\n",
    "download_dir = 'C:\\\\temp_test\\\\'\n",
    "links = range(100)\n",
    "# Create a queue to communicate with the worker threads\n",
    "queue = Queue()\n",
    "# Create 8 worker threads\n",
    "for x in range(2):\n",
    "    worker = FileWorker(queue,x)\n",
    "    # Setting daemon to True will let the main thread exit even though the workers are blocking\n",
    "    worker.daemon = True\n",
    "    worker.start()\n",
    "    # Put the tasks into the queue as a tuple\n",
    "for link in links:\n",
    "    #print(link)\n",
    "    queue.put((download_dir, link))\n",
    "    # Causes the main thread to wait for the queue to finish processing all the tasks\n",
    "queue.join()\n",
    "#logging.info('Took %s', time() - ts)\n",
    "print(time()-ts)"
   ]
  },
  {
   "cell_type": "code",
   "execution_count": 10,
   "metadata": {},
   "outputs": [
    {
     "name": "stdout",
     "output_type": "stream",
     "text": [
      "1588073171.0671427\n",
      "17.27077078819275\n"
     ]
    }
   ],
   "source": [
    "print(ts)\n",
    "directory = download_dir\n",
    "wn='#'\n",
    "for link in links:\n",
    "    for i in range(10):\n",
    "        f= open(os.path.abspath(directory + \"file\" + str(link) + '_wn' + wn + \".txt\"),\"w+\")\n",
    "        for n in np.random.rand(100,1):\n",
    "            f.write(f\"This is line {n}\\r\\n\")\n",
    "        f.close() \n",
    "print(time()-ts)   "
   ]
  },
  {
   "cell_type": "code",
   "execution_count": null,
   "metadata": {},
   "outputs": [],
   "source": []
  }
 ],
 "metadata": {
  "kernelspec": {
   "display_name": "Py3.7 (mimii_base_TF2_GPU)",
   "language": "python",
   "name": "mimiibasetf2gpu"
  },
  "language_info": {
   "codemirror_mode": {
    "name": "ipython",
    "version": 3
   },
   "file_extension": ".py",
   "mimetype": "text/x-python",
   "name": "python",
   "nbconvert_exporter": "python",
   "pygments_lexer": "ipython3",
   "version": "3.7.6"
  },
  "toc": {
   "base_numbering": 1,
   "nav_menu": {},
   "number_sections": true,
   "sideBar": true,
   "skip_h1_title": false,
   "title_cell": "Table of Contents",
   "title_sidebar": "Contents",
   "toc_cell": false,
   "toc_position": {},
   "toc_section_display": true,
   "toc_window_display": false
  }
 },
 "nbformat": 4,
 "nbformat_minor": 4
}
